{
 "cells": [
  {
   "cell_type": "markdown",
   "id": "65d9a417",
   "metadata": {},
   "source": [
    "# Pandas Library"
   ]
  },
  {
   "cell_type": "code",
   "execution_count": null,
   "id": "f3a17d6f",
   "metadata": {},
   "outputs": [],
   "source": [
    "!pip install pandas"
   ]
  },
  {
   "cell_type": "code",
   "execution_count": null,
   "id": "7f322c9d",
   "metadata": {},
   "outputs": [],
   "source": [
    "!pip install xlrd"
   ]
  },
  {
   "cell_type": "code",
   "execution_count": null,
   "id": "2bf2f6d5",
   "metadata": {},
   "outputs": [],
   "source": [
    "!pip install openxyl"
   ]
  },
  {
   "cell_type": "markdown",
   "id": "b7a93125",
   "metadata": {},
   "source": [
    "## Exercise 1: Read Data\n",
    "\n",
    "### Using .excelFile \n",
    "\n",
    "Open Excel File\n",
    "\n",
    "Pandas has different readers for reading data into data frames. One of them is an Excel reader."
   ]
  },
  {
   "cell_type": "code",
   "execution_count": 1,
   "id": "9f54e36d",
   "metadata": {},
   "outputs": [],
   "source": [
    "# importing pandas\n",
    "import pandas as pd\n",
    "\n",
    "# importing Excel libraries\n",
    "import openpyxl\n",
    "import xlr\n",
    "\n",
    "# install the python package xlrd\n",
    "import xlrd"
   ]
  },
  {
   "cell_type": "code",
   "execution_count": null,
   "id": "463dc0ca",
   "metadata": {},
   "outputs": [],
   "source": [
    "excel_file = pd.excelFile('name_of_file.xlsx')"
   ]
  },
  {
   "cell_type": "code",
   "execution_count": null,
   "id": "bda4305d",
   "metadata": {},
   "outputs": [],
   "source": [
    "excel_file.sheet_names"
   ]
  },
  {
   "cell_type": "code",
   "execution_count": null,
   "id": "8fef0d61",
   "metadata": {},
   "outputs": [],
   "source": [
    "# Reading the sheet into a DataFrame\n",
    "df = excel_file.parse('name_of_sheets')"
   ]
  },
  {
   "cell_type": "markdown",
   "id": "2d997604",
   "metadata": {},
   "source": [
    "### Using Excel-Reader"
   ]
  },
  {
   "cell_type": "code",
   "execution_count": null,
   "id": "dbb6be47",
   "metadata": {},
   "outputs": [],
   "source": []
  },
  {
   "cell_type": "code",
   "execution_count": null,
   "id": "a699806a",
   "metadata": {},
   "outputs": [],
   "source": []
  },
  {
   "cell_type": "code",
   "execution_count": null,
   "id": "27333818",
   "metadata": {},
   "outputs": [],
   "source": []
  },
  {
   "cell_type": "markdown",
   "id": "67bbe69e",
   "metadata": {},
   "source": [
    "### Using .read_\n",
    "\n",
    "Note: pd.read_excel('Filename.xlsx'), may get some messy cluttered data frame."
   ]
  },
  {
   "cell_type": "code",
   "execution_count": null,
   "id": "a377c10e",
   "metadata": {},
   "outputs": [],
   "source": [
    "# Reading Excel Files with Pandas\n",
    "df_excel = pd.read_excel('data.xlsx', engine='openpyxl')"
   ]
  },
  {
   "cell_type": "code",
   "execution_count": null,
   "id": "61a0d921",
   "metadata": {},
   "outputs": [],
   "source": [
    "# Reading CSV Files with Pandas\n",
    "df_csv = pd.read_csv('data.csv')"
   ]
  },
  {
   "cell_type": "markdown",
   "id": "699c18b1",
   "metadata": {},
   "source": [
    "## Exercise 2: Write Data\n",
    "\n",
    "### Using the pandas module’s to_excel() function\n",
    "\n",
    "Has an additional parameters to control the formatting and layout of the Excel file."
   ]
  },
  {
   "cell_type": "code",
   "execution_count": null,
   "id": "9e450b62",
   "metadata": {},
   "outputs": [],
   "source": [
    "# Write the DataFrame to an Excel file\n",
    "df.to_excel('example.xlsx', sheet_name='Sheet1', index=False)"
   ]
  },
  {
   "cell_type": "code",
   "execution_count": null,
   "id": "a8d5d7cf",
   "metadata": {},
   "outputs": [],
   "source": [
    "df.to_excel('styled_df.xlsx', engine='xlsxwriter')"
   ]
  },
  {
   "cell_type": "code",
   "execution_count": null,
   "id": "4ccc891a",
   "metadata": {},
   "outputs": [],
   "source": [
    "df.to_excel('output.xlsx', index=False, engine='openpyxl')"
   ]
  },
  {
   "cell_type": "markdown",
   "id": "4ca65ab2",
   "metadata": {},
   "source": [
    "### Using the xlsxwriter module\n",
    "Used to create and write data to Excel files. \n",
    "- It provides an extensive set of tools and functions to \n",
    "    - create, \n",
    "    - format, and \n",
    "    - customize Excel workbooks, \n",
    "    - worksheets, and \n",
    "    - cells.\n",
    "- xlsxwriter is its ability to create \n",
    "    - charts and \n",
    "    - graphs, \n",
    "    - add images and \n",
    "    - shapes, and \n",
    "    - apply various formatting options to the data.\n",
    "\n",
    "First create a new workbook object and a worksheet object. \n",
    "- Then use the worksheet object’s write() method to write the DataFrame’s data to the worksheet."
   ]
  },
  {
   "cell_type": "code",
   "execution_count": null,
   "id": "c285bee1",
   "metadata": {},
   "outputs": [],
   "source": [
    "import pandas as pd\n",
    "import xlsxwriter"
   ]
  },
  {
   "cell_type": "code",
   "execution_count": null,
   "id": "94b0b0ba",
   "metadata": {},
   "outputs": [],
   "source": [
    "# Create a new workbook and worksheet\n",
    "workbook = xlsxwriter.Workbook('example.xlsx')\n",
    "worksheet = workbook.add_worksheet()"
   ]
  },
  {
   "cell_type": "code",
   "execution_count": null,
   "id": "42f29f8d",
   "metadata": {},
   "outputs": [],
   "source": [
    "# Write the DataFrame's data to the worksheet\n",
    "for row_num, values in enumerate(df.values):\n",
    "    worksheet.write_row(row_num, 0, values)"
   ]
  },
  {
   "cell_type": "code",
   "execution_count": null,
   "id": "a9523de0",
   "metadata": {},
   "outputs": [],
   "source": [
    "# Save the workbook\n",
    "workbook.close()"
   ]
  },
  {
   "cell_type": "markdown",
   "id": "d362a008",
   "metadata": {},
   "source": [
    "### Using the openpyxl module.\n",
    "\n",
    "Third-party library that can be used to create and write data to an Excel file in Python.\n",
    "\n",
    "It provides a low-level interface for working with Excel files, allowing you to create worksheets, add data, and format cells.\n",
    "\n",
    "Create a new workbook and worksheet using the Workbook() method and access a sheet using the sheetname or index."
   ]
  },
  {
   "cell_type": "code",
   "execution_count": null,
   "id": "e0dd73c2",
   "metadata": {},
   "outputs": [],
   "source": [
    "import openpyxl"
   ]
  },
  {
   "cell_type": "code",
   "execution_count": null,
   "id": "eaa94bc5",
   "metadata": {},
   "outputs": [],
   "source": [
    "# create a new workbook\n",
    "wb = openpyxl.Workbook()"
   ]
  },
  {
   "cell_type": "code",
   "execution_count": null,
   "id": "c31f13a2",
   "metadata": {},
   "outputs": [],
   "source": [
    "# select the active worksheet\n",
    "ws = wb.active"
   ]
  },
  {
   "cell_type": "code",
   "execution_count": null,
   "id": "4e92d5de",
   "metadata": {},
   "outputs": [],
   "source": [
    "# add some data\n",
    "ws['A1'] = 'Name'\n",
    "ws['B1'] = 'Age'\n",
    "ws['A2'] = 'John'\n",
    "ws['B2'] = 25\n",
    "ws['A3'] = 'Jane'\n",
    "ws['B3'] = 30"
   ]
  },
  {
   "cell_type": "code",
   "execution_count": null,
   "id": "0c7b4a53",
   "metadata": {},
   "outputs": [],
   "source": [
    "# save the workbook\n",
    "wb.save('example.xlsx')"
   ]
  },
  {
   "cell_type": "markdown",
   "id": "df7d0eba",
   "metadata": {},
   "source": [
    "Save csv File"
   ]
  },
  {
   "cell_type": "code",
   "execution_count": null,
   "id": "283a7fea",
   "metadata": {},
   "outputs": [],
   "source": [
    "df.to_csv('output.csv', index=False)"
   ]
  },
  {
   "cell_type": "markdown",
   "id": "6ee10c8b",
   "metadata": {},
   "source": [
    "## Exercise 3: Select Column\n",
    "\n",
    "Select Column in Excel"
   ]
  },
  {
   "cell_type": "code",
   "execution_count": null,
   "id": "11381099",
   "metadata": {},
   "outputs": [],
   "source": [
    "# Select a single colum\n",
    "\n",
    "df[\"Name_of_column\"]\n",
    "# or \n",
    "df.Name_of_column\n",
    "\n",
    "column_a = df[\"Name_of_column\"]"
   ]
  },
  {
   "cell_type": "code",
   "execution_count": null,
   "id": "b58cf2ac",
   "metadata": {},
   "outputs": [],
   "source": [
    "# Select multiple columns\n",
    "\n",
    "df[[\"Name_of_column1\", \"Name_of_column2\", \"Name_of_column3\"]]\n",
    "\n",
    "columns_a_b = df[[\"Name_of_column1\", \"Name_of_column2\", \"Name_of_column3\"]]"
   ]
  },
  {
   "cell_type": "code",
   "execution_count": null,
   "id": "df5b688f",
   "metadata": {},
   "outputs": [],
   "source": [
    "# Select rows by index\n",
    "\n",
    "rows_0_to_4 = df[0:5]"
   ]
  },
  {
   "cell_type": "markdown",
   "id": "2292bbbc",
   "metadata": {},
   "source": [
    "## Exercise 3.1: Column types in Pandas\n",
    "In Excel there are just three data types:\n",
    "- Numeric (Number, Currency, Accounting, Date)\n",
    "- Text\n",
    "- Formula\n",
    "\n",
    "Data types in Pandas are known as dtypes, and the main ones are:\n",
    "- `int` and `float`: specific for integer and float numbers\n",
    "- `datetime` and `timedelta`: specific for dates and offsets\n",
    "- `object`: Just strings, they're used to store text, but pandas refers to them as objects.\n",
    "- `bool`: specific for True/False values\n",
    "\n",
    "`.describe()` method, only includes the numeric columns.\n",
    "\n",
    "### Numeric operations and methods\n",
    "Numeric columns support multiple operations"
   ]
  },
  {
   "cell_type": "code",
   "execution_count": null,
   "id": "c5cffa30",
   "metadata": {},
   "outputs": [],
   "source": [
    "# average value of the column\n",
    "df['cost_price'].mean()"
   ]
  },
  {
   "cell_type": "code",
   "execution_count": null,
   "id": "ae8ea707",
   "metadata": {},
   "outputs": [],
   "source": [
    "# standard deviation of the column\n",
    "df['cost_price'].std()"
   ]
  },
  {
   "cell_type": "code",
   "execution_count": null,
   "id": "ddf96dbf",
   "metadata": {},
   "outputs": [],
   "source": [
    "df['cost_price'].describe()"
   ]
  },
  {
   "cell_type": "code",
   "execution_count": null,
   "id": "ba689cc7",
   "metadata": {},
   "outputs": [],
   "source": [
    "# increase the values by\n",
    "df['cost_price'] * 1.10\n",
    "\n",
    "# changes are permanent\n",
    "df['cost_price'] = df['cost_price'] * 1.08\n",
    "\n",
    "df['cost_price'] *= 1.08"
   ]
  },
  {
   "cell_type": "code",
   "execution_count": null,
   "id": "e2ac0c72",
   "metadata": {},
   "outputs": [],
   "source": [
    "# new column. Let’s say we want to calculate a new column total_price\n",
    "# total_price = retail_price ∗ order_quantity + shipping_price\n",
    "# total_price = retail_price ∗ order_quantity + shipping_price\n",
    "\n",
    "df['total_price'] = df['retail_price'] * df['order_quantity'] + df['shipping_price']"
   ]
  },
  {
   "cell_type": "markdown",
   "id": "99eabbdf",
   "metadata": {},
   "source": [
    "### Datetimes (and timedeltas)\n",
    "- order_date\n",
    "- ship_date\n",
    "\n",
    "calculate the shipping_delay by checking how many days we have between order_date and ship_date"
   ]
  },
  {
   "cell_type": "code",
   "execution_count": null,
   "id": "1ce7c15d",
   "metadata": {},
   "outputs": [],
   "source": [
    "df['ship_delay'] = df['ship_date'] - df['order_date']\n",
    "\n",
    "df[['ship_date', 'order_date', 'ship_delay']].head()"
   ]
  },
  {
   "cell_type": "markdown",
   "id": "3276392b",
   "metadata": {},
   "source": [
    "Use timedeltas in combination with our columns\n",
    "\n",
    "- 7 days is a \"relative time\", or a delta in time (a timedelta)"
   ]
  },
  {
   "cell_type": "code",
   "execution_count": null,
   "id": "28b2f091",
   "metadata": {},
   "outputs": [],
   "source": [
    "df['ship_delay'] + pd.Timedelta(days = 10)"
   ]
  },
  {
   "cell_type": "markdown",
   "id": "5f0510e4",
   "metadata": {},
   "source": [
    "### Strings (type object)\n",
    "\n",
    "Any type of text (long, short, containing special characters or not) will be of type object in a DataFrame."
   ]
  },
  {
   "cell_type": "markdown",
   "id": "0248355a",
   "metadata": {},
   "source": [
    "simple concatenation operations are supported with strings "
   ]
  },
  {
   "cell_type": "code",
   "execution_count": null,
   "id": "82d3ea5e",
   "metadata": {},
   "outputs": [],
   "source": [
    "df['production_name'] = df['product_name'] + '!!!'"
   ]
  },
  {
   "cell_type": "code",
   "execution_count": 4,
   "id": "2cf845e9",
   "metadata": {},
   "outputs": [],
   "source": [
    "# more advanced operations we could perform, using the .str\n",
    "df['product_name'] = df['product_name'].str.replace(' ', '_')"
   ]
  },
  {
   "cell_type": "code",
   "execution_count": null,
   "id": "a5613d97",
   "metadata": {},
   "outputs": [],
   "source": [
    "df['product_name'].str.contains('750')"
   ]
  },
  {
   "cell_type": "markdown",
   "id": "765402bf",
   "metadata": {},
   "source": [
    "## Exercise 4: Filter Data\n",
    "\n",
    "Filter()"
   ]
  },
  {
   "cell_type": "code",
   "execution_count": null,
   "id": "ec8fab26",
   "metadata": {},
   "outputs": [],
   "source": [
    "# Filter rows based on a condition\n",
    "filtered_data = df[df['A'] > 10]"
   ]
  },
  {
   "cell_type": "markdown",
   "id": "7115f729",
   "metadata": {},
   "source": [
    "## Exercise 4.1: Filter rows of a DataFrame based on a query expression"
   ]
  },
  {
   "cell_type": "code",
   "execution_count": null,
   "id": "da3a6dfd",
   "metadata": {},
   "outputs": [],
   "source": [
    "df.query('A > 5 and B < 10')"
   ]
  },
  {
   "cell_type": "markdown",
   "id": "c2c2f3af",
   "metadata": {},
   "source": [
    "## Exercise 5: Sort Data\n",
    "\n",
    "sort()"
   ]
  },
  {
   "cell_type": "code",
   "execution_count": null,
   "id": "5e8af8c9",
   "metadata": {},
   "outputs": [],
   "source": [
    "# Sort data by column A\n",
    "sorted_data = df.sort_values(by='A')"
   ]
  },
  {
   "cell_type": "markdown",
   "id": "6f47bf5c",
   "metadata": {},
   "source": [
    "## Exercise 6: Rename Column\n",
    "\n",
    "Rename Column header Manually"
   ]
  },
  {
   "cell_type": "code",
   "execution_count": null,
   "id": "0de9d35d",
   "metadata": {},
   "outputs": [],
   "source": [
    "# Rename columns using a dictionary\n",
    "df.rename(columns={'A': 'ColumnA', 'B': 'ColumnB'}, inplace=True)"
   ]
  },
  {
   "cell_type": "markdown",
   "id": "58148a50",
   "metadata": {},
   "source": [
    "## Exercise 7: Missing Data\n",
    "\n",
    "iferror()"
   ]
  },
  {
   "cell_type": "code",
   "execution_count": null,
   "id": "a26399be",
   "metadata": {},
   "outputs": [],
   "source": [
    "# Drop rows with missing data\n",
    "df.dropna()"
   ]
  },
  {
   "cell_type": "code",
   "execution_count": null,
   "id": "23e1d4ea",
   "metadata": {},
   "outputs": [],
   "source": [
    "# Fill missing data with a value\n",
    "df.fillna(value=0)"
   ]
  },
  {
   "cell_type": "markdown",
   "id": "56b05cd4",
   "metadata": {},
   "source": [
    "## Exercise 8: Sum\n",
    "\n",
    "sum()"
   ]
  },
  {
   "cell_type": "code",
   "execution_count": null,
   "id": "5be2cf67",
   "metadata": {},
   "outputs": [],
   "source": [
    "# Group data by column 'A'\n",
    "grouped_data = df.groupby('A')\n",
    "\n",
    "# Aggregate data using sum function\n",
    "sum_data = grouped_data.sum()"
   ]
  },
  {
   "cell_type": "code",
   "execution_count": null,
   "id": "4b100419",
   "metadata": {},
   "outputs": [],
   "source": [
    "# average value of the column\n",
    "df['cost_price'].sum()"
   ]
  },
  {
   "cell_type": "markdown",
   "id": "487a8816",
   "metadata": {},
   "source": [
    "## Exercise 8.1: Cumulative sum of a column"
   ]
  },
  {
   "cell_type": "code",
   "execution_count": null,
   "id": "3d2de8da",
   "metadata": {},
   "outputs": [],
   "source": [
    "df['A'].cumsum()"
   ]
  },
  {
   "cell_type": "markdown",
   "id": "270ea7c5",
   "metadata": {},
   "source": [
    "## Exercise 9: Average\n",
    "\n",
    "average()"
   ]
  },
  {
   "cell_type": "code",
   "execution_count": null,
   "id": "0cac1bfa",
   "metadata": {},
   "outputs": [],
   "source": [
    "# average value of the column\n",
    "\n",
    "df['cost_price'].mean()"
   ]
  },
  {
   "cell_type": "markdown",
   "id": "2f1dc42f",
   "metadata": {},
   "source": [
    "## Exercise 10: Maximum\n",
    "\n",
    "max()"
   ]
  },
  {
   "cell_type": "markdown",
   "id": "88345b55",
   "metadata": {},
   "source": [
    "## Exercise 11: Minimum\n",
    "\n",
    "min()"
   ]
  },
  {
   "cell_type": "markdown",
   "id": "d3bf5904",
   "metadata": {},
   "source": [
    "## Exercise 11.1: Correlation matrix of a DataFrame"
   ]
  },
  {
   "cell_type": "code",
   "execution_count": null,
   "id": "3ed8e2f2",
   "metadata": {},
   "outputs": [],
   "source": [
    "df.corr()"
   ]
  },
  {
   "cell_type": "markdown",
   "id": "d5c433d4",
   "metadata": {},
   "source": [
    "## Exercise 12: Count Unique values\n",
    "\n",
    "=SUM(1/COUNTIF())"
   ]
  },
  {
   "cell_type": "code",
   "execution_count": null,
   "id": "4cbc2de1",
   "metadata": {},
   "outputs": [],
   "source": [
    "df['A'].value_counts()"
   ]
  },
  {
   "cell_type": "markdown",
   "id": "73d9fd11",
   "metadata": {},
   "source": [
    "## Exercise 12.1: Return the unique values in a column"
   ]
  },
  {
   "cell_type": "code",
   "execution_count": null,
   "id": "104adf63",
   "metadata": {},
   "outputs": [],
   "source": [
    "df['A'].unique()"
   ]
  },
  {
   "cell_type": "markdown",
   "id": "437fc983",
   "metadata": {},
   "source": [
    "## Exercise 12.2: Return the number of unique values in a column."
   ]
  },
  {
   "cell_type": "code",
   "execution_count": null,
   "id": "d956d920",
   "metadata": {},
   "outputs": [],
   "source": [
    "df['A'].nunique()"
   ]
  },
  {
   "cell_type": "markdown",
   "id": "e80c2fd3",
   "metadata": {},
   "source": [
    "## Exercise 13: Group Data\n",
    "\n",
    "Pivot Table"
   ]
  },
  {
   "cell_type": "code",
   "execution_count": null,
   "id": "50c8f242",
   "metadata": {},
   "outputs": [],
   "source": [
    "# Group data by column 'A'\n",
    "grouped_data = df.groupby('A')"
   ]
  },
  {
   "cell_type": "markdown",
   "id": "9035c518",
   "metadata": {},
   "source": [
    "## Exercise 14: Merge Data\n",
    "\n",
    "= VLOOKUP()/ =XLOOKUP()"
   ]
  },
  {
   "cell_type": "code",
   "execution_count": null,
   "id": "87fe2bd9",
   "metadata": {},
   "outputs": [],
   "source": [
    "# Merge DataFrames using a common column\n",
    "merged_data = pd.merge(df1, df2, on='A')"
   ]
  },
  {
   "cell_type": "markdown",
   "id": "d2bf9917",
   "metadata": {},
   "source": [
    "## Exercise 14.1: Excel VLOOKUP in Python, Pandas Dataframe Merge\n",
    "-  `VLOOKUP` function is used to search for a specific value in a table and return a corresponding value from a different column in the same row.\n",
    "\n",
    "- Python allows similar functionality using a combination of the pandas library and the `merge()` function."
   ]
  },
  {
   "cell_type": "code",
   "execution_count": null,
   "id": "9b9b1fe4",
   "metadata": {},
   "outputs": [],
   "source": [
    "import pandas as pd\n",
    "\n",
    "# Load the data into pandas DataFrames\n",
    "df1 = pd.read_excel('data1.xlsx')\n",
    "df2 = pd.read_excel('data2.xlsx')\n",
    "\n",
    "# Merge the two DataFrames using a common column as the key\n",
    "result = pd.merge(df1, df2, on='ID')"
   ]
  },
  {
   "cell_type": "markdown",
   "id": "784527cb",
   "metadata": {},
   "source": [
    "Pandas merge operation, \n",
    "- The how parameter specifies the type of merge that should be performed. \n",
    "    - Default value is inner, which means that only the rows that have matching keys in both DataFrames will be included in the result.\n",
    "    - Specify left as the value of the how parameter to perform a left merge.\n",
    "        - Left merge, or left join, includes all of the rows from the “left” DataFrame, along with any matching rows from the “right” DataFrame.\n",
    "        - Rows from the “left” DataFrame that do not have a match in the “right” DataFrame will have null values for the right-side columns.\n",
    "    - Specify right as the value of the how parameter to perform a right merge.\n",
    "        - Right merge, or right join, includes all of the rows from the “right” DataFrame, along with any matching rows from the “left” DataFrame. \n",
    "        - Rows from the “right” DataFrame that do not have a match in the “left” DataFrame will have null values for the left-side columns.\n",
    "    - Specify outer as the value of the how parameter to perform a outer merge.\n",
    "        -  Outer merge, or full outer join, includes all rows from both DataFrames, regardless of whether there is a match in the other DataFrame. \n",
    "        - Rows that do not have a match will have null values for the columns from the other DataFrame."
   ]
  },
  {
   "cell_type": "code",
   "execution_count": null,
   "id": "01ffe306",
   "metadata": {},
   "outputs": [],
   "source": [
    "import pandas as pd\n",
    "# Load the data into pandas DataFrames\n",
    "df1 = pd.read_excel('data1.xlsx')\n",
    "df2 = pd.read_excel('data2.xlsx')\n",
    "\n",
    "# Perform a left merge\n",
    "left_merge = pd.merge(df1, df2, on='ID', how='left')\n",
    "\n",
    "# Perform a right merge\n",
    "right_merge = pd.merge(df1, df2, on='ID', how='right')\n",
    "\n",
    "# Perform an outer merge\n",
    "outer_merge = pd.merge(df1, df2, on='ID', how='outer')"
   ]
  },
  {
   "cell_type": "code",
   "execution_count": null,
   "id": "9c889bd4",
   "metadata": {},
   "outputs": [],
   "source": [
    "def vlookup(left_df,right_df,left_key,right_key,right_val):\n",
    "    \"\"\"\n",
    "    left_df : path to excel data which requires vlookup values\n",
    "    right_df: path to excel data which is going to provide vlookup values\n",
    "    left_key: the key column in the left dataset\n",
    "    right_key: the key column in the right dataset\n",
    "    right_val: the column in the right dataset whose values need to be moved to the right dataset\n",
    "    \"\"\"\n",
    "    left = pd.read_excel(left_df)\n",
    "    left.reset_index(inplace=True)\n",
    "    right = pd.read_excel(right_df)\n",
    "    right = right.loc[:,[str(right_key),str(right_val)]].rename(columns={right_key:left_key})\n",
    "    temp = left.merge(right, how=\"left\", on=left_key)\n",
    "    temp.drop_duplicates(subset=[\"index\"], keep =\"first\", inplace=True)\n",
    "    return temp.set_index(\"index\")"
   ]
  },
  {
   "cell_type": "code",
   "execution_count": null,
   "id": "e6311980",
   "metadata": {},
   "outputs": [],
   "source": [
    "# for case sensitive characters \n",
    "def vlookup(left_df, right_df, left_key, right_key, right_val):\n",
    "    \"\"\"\n",
    "    left_df : DataFrame which requires vlookup values\n",
    "    right_df: DataFrame which is going to provide vlookup values\n",
    "    left_key: the key column in the left DataFrame\n",
    "    right_key: the key column in the right DataFrame\n",
    "    right_val: the column in the right DataFrame whose values need to be moved to the left DataFrame\n",
    "    \"\"\"\n",
    "    left = left_df.copy()\n",
    "    left.reset_index(inplace=True)\n",
    "    right = right_df.copy()\n",
    "    right[right_key] = right[right_key].astype(str)\n",
    "    right = right.loc[:, [right_key, right_val]].rename(columns={right_key: left_key})\n",
    "    temp = left.merge(right, how=\"left\", on=left_key)\n",
    "    temp.drop_duplicates(subset=[\"index\"], keep=\"first\", inplace=True)\n",
    "    return temp.set_index(\"index\")"
   ]
  },
  {
   "cell_type": "code",
   "execution_count": null,
   "id": "ee4c1960",
   "metadata": {},
   "outputs": [],
   "source": [
    "def vlookup1(left_df, right_df, left_key, right_key, right_val, result_col):\n",
    "    \"\"\"\n",
    "    left_df : DataFrame which requires vlookup values\n",
    "\n",
    "    right_df: DataFrame which is going to provide vlookup values\n",
    "\n",
    "    left_key: the key column in the left DataFrame\n",
    "\n",
    "    right_key: the key column in the right DataFrame\n",
    "\n",
    "    right_val: the column in the right DataFrame whose values need to be moved to the left DataFrame\n",
    "\n",
    "    result_col: the name of the column where the vlookup results should be added\n",
    "\n",
    "    \"\"\"\n",
    "    left = left_df.copy()\n",
    "    left.reset_index(inplace=True)\n",
    "    right = right_df.copy()\n",
    "    right[right_key] = right[right_key].astype(str)\n",
    "    right = right.loc[:, [right_key, right_val]].rename(columns={right_key: left_key})\n",
    "    temp = left.merge(right, how=\"left\", on=left_key)\n",
    "    temp.drop_duplicates(subset=[\"index\"], keep=\"first\", inplace=True)\n",
    "    left_df[result_col] = temp.set_index(\"index\")[right_val].values\n",
    "\n",
    "    return left_df"
   ]
  },
  {
   "cell_type": "code",
   "execution_count": null,
   "id": "a727e6b5",
   "metadata": {},
   "outputs": [],
   "source": [
    "def vlookup2(left_df, right_df, left_key, right_key, left_val, result_col):\n",
    "    \"\"\"\n",
    "    left_df : DataFrame which requires vlookup values\n",
    "\n",
    "    right_df: DataFrame which is going to provide vlookup values\n",
    "\n",
    "    left_key: the key column in the left DataFrame\n",
    "\n",
    "    right_key: the key column in the right DataFrame\n",
    "\n",
    "    right_val: the column in the right DataFrame whose values need to be moved to the left DataFrame\n",
    "\n",
    "    result_col: the name of the column where the vlookup results should be added\n",
    "\n",
    "    \"\"\"\n",
    "    temp = pd.merge(left_df[[left_key]], right_df[[right_key, left_val]], left_on=left_key, right_on=right_key, how='left')\n",
    "    print(f\"Temp DataFrame columns: {temp.columns}\")  # Debugging print statement\n",
    "    print(temp.head())  # Print the first few rows of temp DataFrame\n",
    "    left_df.loc[:, result_col] = temp[left_val].values\n",
    "    \n",
    "    return left_df"
   ]
  },
  {
   "cell_type": "markdown",
   "id": "4d866e4d",
   "metadata": {},
   "source": [
    "## Exercise 14.2: How to do a Vlookup in python\n",
    "- Vlookup is essentially combining two different tables using a shared column."
   ]
  },
  {
   "cell_type": "code",
   "execution_count": null,
   "id": "75ca3ee7",
   "metadata": {},
   "outputs": [],
   "source": [
    "import pandas as pd\n",
    "\n",
    "df1 = pd.read_excel('vlookup_pandas.xlsx', sheet_name = 'Table1')\n",
    "df2 = pd.read_excel('vlookup_pandas.xlsx', sheet_name = 'Table1')\n",
    "\n",
    "results = df1.merge(df2, on = 'Name')"
   ]
  },
  {
   "cell_type": "code",
   "execution_count": null,
   "id": "94b6e9d0",
   "metadata": {},
   "outputs": [],
   "source": [
    "display(df1)\n",
    "display(df2)\n",
    "display(results)"
   ]
  },
  {
   "cell_type": "markdown",
   "id": "2e9b6d06",
   "metadata": {},
   "source": [
    "## Exercise 15: Concatenate Data\n",
    "\n",
    "Copy and Paste Rows/Columns"
   ]
  },
  {
   "cell_type": "code",
   "execution_count": null,
   "id": "985ced5d",
   "metadata": {},
   "outputs": [],
   "source": [
    "# Concatenate DataFrames\n",
    "concatenated_data = pd.concat([df1, df2])"
   ]
  },
  {
   "cell_type": "markdown",
   "id": "c18a8c36",
   "metadata": {},
   "source": [
    "## Exercise 16: Pivot Table\n",
    "\n",
    "Pivot Table\n",
    "\n",
    "Pivot tables and cross-tabulation help summarize and visualize data."
   ]
  },
  {
   "cell_type": "code",
   "execution_count": null,
   "id": "3e097282",
   "metadata": {},
   "outputs": [],
   "source": [
    "# Create a pivot table\n",
    "pivot_table = pd.pivot_table(\n",
    "df, index='A', columns='B', values='C', aggfunc='sum')"
   ]
  },
  {
   "cell_type": "code",
   "execution_count": null,
   "id": "e07856ce",
   "metadata": {},
   "outputs": [],
   "source": [
    "# Perform cross-tabulation\n",
    "cross_tab = pd.crosstab(df['A'], df['B'])"
   ]
  },
  {
   "cell_type": "markdown",
   "id": "34f803cd",
   "metadata": {},
   "source": [
    "## Exercise 17: Transpose Data\n",
    "\n",
    "Copy and Paste with Transpose"
   ]
  },
  {
   "cell_type": "code",
   "execution_count": null,
   "id": "95b5e8fd",
   "metadata": {},
   "outputs": [],
   "source": [
    "df_transposed = df.transpose()"
   ]
  },
  {
   "cell_type": "markdown",
   "id": "9219373c",
   "metadata": {},
   "source": [
    "## Exercise 18: Change Data Type\n",
    "\n",
    "Format Cells"
   ]
  },
  {
   "cell_type": "code",
   "execution_count": null,
   "id": "57347b54",
   "metadata": {},
   "outputs": [],
   "source": [
    "df['A'] = df['A'].astype(float)"
   ]
  },
  {
   "cell_type": "markdown",
   "id": "76b6dea5",
   "metadata": {},
   "source": [
    "## Exercise 19: Apply Custom Function\n",
    "\n",
    "Custom Formula"
   ]
  },
  {
   "cell_type": "code",
   "execution_count": null,
   "id": "f71df4a2",
   "metadata": {},
   "outputs": [],
   "source": [
    "# to each element in a DataFrame or Series\n",
    "df['A'].apply(lambda x: x * 2)"
   ]
  },
  {
   "cell_type": "code",
   "execution_count": null,
   "id": "2a8df546",
   "metadata": {},
   "outputs": [],
   "source": [
    "# to each element in a Series.\n",
    "df['A'].map(lambda x: x * 2)"
   ]
  },
  {
   "cell_type": "markdown",
   "id": "83b6a742",
   "metadata": {},
   "source": [
    "## Exercise 20: Data Aggregation\n",
    "\n",
    "Custom Formulas/Pivot Table\n",
    "\n",
    "By default, it is performing the 'mean' aggregation function on all available numerical columns."
   ]
  },
  {
   "cell_type": "code",
   "execution_count": null,
   "id": "956c810b",
   "metadata": {},
   "outputs": [],
   "source": [
    "data_df.pivot_table(index='Country')"
   ]
  },
  {
   "cell_type": "markdown",
   "id": "61a168c1",
   "metadata": {},
   "source": [
    "### Business Question:\n",
    "What is the average revenue by country for each product category?\n",
    "\n",
    "organize the pivot table?\n",
    "- put the country in the index, \n",
    "- the product category as a column, \n",
    "- then calculate the mean of revenue\n",
    "\n",
    "`.pivot_table` method lets up pick the columns for the index, and column(s) for the column argument. The aggfunc argument lets us choose which aggregation we want."
   ]
  },
  {
   "cell_type": "code",
   "execution_count": null,
   "id": "0857fe78",
   "metadata": {},
   "outputs": [],
   "source": [
    "data_df.pivot_table(index='Country',columns ='Product_Category',values='Revenue',aggfunc='mean')"
   ]
  },
  {
   "cell_type": "markdown",
   "id": "4fb63490",
   "metadata": {},
   "source": [
    "### Business Question:\n",
    "\n",
    "What are each country’s minimum and maximum revenue by product category?\n",
    "\n",
    "Show the maximum and minimum, we can specify both in a list in the aggfunc argument"
   ]
  },
  {
   "cell_type": "code",
   "execution_count": null,
   "id": "6f5f4217",
   "metadata": {},
   "outputs": [],
   "source": [
    "data_df.pivot_table(index='Country',columns ='Product_Category',values='Revenue',aggfunc=['min','max'])"
   ]
  },
  {
   "cell_type": "markdown",
   "id": "27d6a6f1",
   "metadata": {},
   "source": [
    "### Business Question:\n",
    "\n",
    "What is the percentage of bikes by country in the product category?"
   ]
  },
  {
   "cell_type": "code",
   "execution_count": null,
   "id": "d8db1d91",
   "metadata": {},
   "outputs": [],
   "source": [
    "def per_bike(ser):\n",
    "    return ser.str.contains('Bikes').mean()*100"
   ]
  },
  {
   "cell_type": "code",
   "execution_count": null,
   "id": "b61d2bad",
   "metadata": {},
   "outputs": [],
   "source": [
    "# function helps us to calculate the percentage of bikes in the product category column.\n",
    "(data_df.pivot_table(index='Country',values='Product_Category',aggfunc=per_bike))"
   ]
  },
  {
   "cell_type": "markdown",
   "id": "0fec4c33",
   "metadata": {},
   "source": [
    "### Tips: add a total row and column by using the margins argument set up to True."
   ]
  },
  {
   "cell_type": "code",
   "execution_count": null,
   "id": "c3b77de2",
   "metadata": {},
   "outputs": [],
   "source": [
    "data_df.pivot_table(index='Country',columns ='Product_Category',values='Revenue',aggfunc='sum', margins=True)"
   ]
  },
  {
   "cell_type": "markdown",
   "id": "36e939f5",
   "metadata": {},
   "source": [
    "### Tips: To fill missing values, you can use the fill_value argument and put the value you want."
   ]
  },
  {
   "cell_type": "code",
   "execution_count": null,
   "id": "2245deb4",
   "metadata": {},
   "outputs": [],
   "source": [
    "data_df.pivot_table(index=['Country','Product_Category'],columns = 'Sub_Category',values='Revenue',aggfunc='sum')"
   ]
  },
  {
   "cell_type": "code",
   "execution_count": null,
   "id": "b3d8678a",
   "metadata": {},
   "outputs": [],
   "source": [
    "data_df.pivot_table(index=['Country','Product_Category'],columns = 'Sub_Category',values='Revenue',aggfunc='sum',fill_value='0')"
   ]
  },
  {
   "cell_type": "markdown",
   "id": "7a81e022",
   "metadata": {},
   "source": [
    "## Exercise 21: Display the first/last n rows of a DataFrame"
   ]
  },
  {
   "cell_type": "code",
   "execution_count": null,
   "id": "718ac169",
   "metadata": {},
   "outputs": [],
   "source": [
    "df.head(5)"
   ]
  },
  {
   "cell_type": "code",
   "execution_count": null,
   "id": "2d37d2d0",
   "metadata": {},
   "outputs": [],
   "source": [
    "df.tail(5)"
   ]
  },
  {
   "cell_type": "markdown",
   "id": "b4d20e1c",
   "metadata": {},
   "source": [
    "## Exercise 22: Summary statistics for numerical columns in a DataFrame"
   ]
  },
  {
   "cell_type": "code",
   "execution_count": null,
   "id": "d733dca8",
   "metadata": {},
   "outputs": [],
   "source": [
    "df.describe()"
   ]
  },
  {
   "cell_type": "markdown",
   "id": "5d9567dc",
   "metadata": {},
   "source": [
    "## Exercise 23: Remove specified columns or rows from a DataFrame"
   ]
  },
  {
   "cell_type": "code",
   "execution_count": null,
   "id": "68461497",
   "metadata": {},
   "outputs": [],
   "source": [
    "# Drop a column\n",
    "df.drop('A', axis=1)"
   ]
  },
  {
   "cell_type": "code",
   "execution_count": null,
   "id": "ba36d62f",
   "metadata": {},
   "outputs": [],
   "source": [
    "# Drop a row\n",
    "df.drop(0, axis=0)"
   ]
  },
  {
   "cell_type": "markdown",
   "id": "65730923",
   "metadata": {},
   "source": [
    "## Exercise 24: Replace specific values in a DataFrame"
   ]
  },
  {
   "cell_type": "code",
   "execution_count": null,
   "id": "9fad01ed",
   "metadata": {},
   "outputs": [],
   "source": [
    "df.replace('old_value', 'new_value')"
   ]
  },
  {
   "cell_type": "markdown",
   "id": "556698fa",
   "metadata": {},
   "source": [
    "## Exercise 25: Set the DataFrame index using one or more columns"
   ]
  },
  {
   "cell_type": "code",
   "execution_count": null,
   "id": "bb913cd1",
   "metadata": {},
   "outputs": [],
   "source": [
    "df.set_index('A', inplace=True)"
   ]
  },
  {
   "cell_type": "code",
   "execution_count": null,
   "id": "820f209b",
   "metadata": {},
   "outputs": [],
   "source": [
    "df.reset_index(inplace=True)"
   ]
  },
  {
   "cell_type": "markdown",
   "id": "ae3979e9",
   "metadata": {},
   "source": [
    "## Exercise 26: Divide continuous data , creating a categorical column"
   ]
  },
  {
   "cell_type": "code",
   "execution_count": null,
   "id": "6fc8a9cf",
   "metadata": {},
   "outputs": [],
   "source": [
    "pd.cut(df['A'], bins=3, labels=['Low', 'Medium', 'High'])"
   ]
  },
  {
   "cell_type": "markdown",
   "id": "648b8675",
   "metadata": {},
   "source": [
    "## Exercise 27: Shift the values in a column by a specified number of periods"
   ]
  },
  {
   "cell_type": "code",
   "execution_count": null,
   "id": "b43e1309",
   "metadata": {},
   "outputs": [],
   "source": [
    "df['A'].shift(1)"
   ]
  },
  {
   "cell_type": "markdown",
   "id": "dfd92ac0",
   "metadata": {},
   "source": [
    "## Exercise 28: Rolling view of a DataFrame or Series"
   ]
  },
  {
   "cell_type": "code",
   "execution_count": null,
   "id": "89855520",
   "metadata": {},
   "outputs": [],
   "source": [
    "df['A'].rolling(window=3).mean()"
   ]
  },
  {
   "cell_type": "markdown",
   "id": "52ff653a",
   "metadata": {},
   "source": [
    "## Exercise 29: Using Pandas with Excel\n",
    "\n",
    "Using the XlsxWriter engine with Pandas-specify the engine parameter in the pd.ExcelWriter() function call as engine=\"xlsxwriter\".\n",
    "\n",
    "- Creates a new ExcelWriter object from Pandas and assigns it to the variable writer.\n",
    "- ExcelWriter object is used to write data to an Excel file named 'report.xlsx'.\n",
    "- Engine_kwargs parameter, is an optional dictionary that specifies additional keyword arguments to pass to the XlsxWriter engine.\n",
    "- instructs XlsxWriter to treat all data values as strings in the Excel file.\n",
    "- ExcelWriter object writer is created, it can be used to write dataframes to the Excel file using the to_excel() method of Pandas dataframe."
   ]
  },
  {
   "cell_type": "code",
   "execution_count": null,
   "id": "2339d461",
   "metadata": {},
   "outputs": [],
   "source": [
    "writer = pd.ExcelWriter('report.xlsx', engine = \"xlsxwriter\", engine_kwargs={'options': {'strings_to_numbers': False}})\n",
    "workbook  = writer.book"
   ]
  },
  {
   "cell_type": "code",
   "execution_count": null,
   "id": "bdb83262",
   "metadata": {},
   "outputs": [],
   "source": [
    "def sales_data() -> pd.DataFrame:\n",
    "    data = {'Date': [\n",
    "            '01/01/2023', '01/02/2023', '01/03/2023', '01/04/2023', \n",
    "            '01/05/2023', '01/06/2023', '01/07/2023', '01/08/2023', \n",
    "            '01/09/2023', '01/10/2023', '01/11/2023', '01/12/2023'],\n",
    "            'Items': [\n",
    "            'Bookcase', 'Chair', 'Table', 'Art', 'Frame', 'Vase', \n",
    "            'Fan', 'Lamp', 'TV Console', 'Blinds', 'Curtain', 'Shelf'],\n",
    "            'Cost Price': [\n",
    "            15000, 12500, 10000, 4000, 2500, 13500, 12000, 15000, \n",
    "            12500, 10000, 4000, 2500],\n",
    "            'Sale Price': [\n",
    "            18000, 15000, 17000, 6500, 4550, 18570, 14650, 18500, \n",
    "            15450, 17800, 6900, 4950]}\n",
    "\n",
    "    return pd.DataFrame(data)"
   ]
  },
  {
   "cell_type": "markdown",
   "id": "f8669aad",
   "metadata": {},
   "source": [
    "Use the to_excel() method to write the data to the Excel file.\n",
    "\n",
    "Method accepts the writer object as the first argument, followed by several optional parameters such as the \n",
    "- sheet name, \n",
    "- index, and \n",
    "- header options.\n",
    "\n",
    "The file name or path is defined in the writer object. \n",
    "\n",
    "The to_excel method offers advanced options like \n",
    "- startrow and \n",
    "- startcol that determine the starting cell for writing the data. \n",
    "    - By default, the startrow and startcol parameters are set to zero, which corresponds to the cell A1"
   ]
  },
  {
   "cell_type": "code",
   "execution_count": null,
   "id": "eb338ddd",
   "metadata": {},
   "outputs": [],
   "source": [
    "# sales data\n",
    "report_data: pd.DataFrame = data.sales_data()\n",
    "\n",
    "# set report start row and column\n",
    "start_row = 3\n",
    "start_col = 0\n",
    "\n",
    "# change dataframe index to start from 1\n",
    "report_data.index = [i for i in range(1, len(report_data) + 1)]\n",
    "#write dataframe to excel 'Sales' sheet in the wookbook\n",
    "report_data.to_excel(writer, sheet_name='Sales', index=True, startrow=start_row, startcol=start_col, header=True)"
   ]
  },
  {
   "cell_type": "code",
   "execution_count": null,
   "id": "36f49bde",
   "metadata": {},
   "outputs": [],
   "source": [
    "# close and save workbook\n",
    "workbook.close()"
   ]
  },
  {
   "cell_type": "markdown",
   "id": "fd565227",
   "metadata": {},
   "source": [
    "# xlsxwriter module\n",
    "\n",
    "Used to write \n",
    "- text, \n",
    "- numbers, \n",
    "- formulas, and \n",
    "- hyperlinks to multiple worksheets, and \n",
    "- it supports features such as \n",
    "    - formatting, \n",
    "    - images, \n",
    "    - charts, \n",
    "    - data validation, and \n",
    "    - conditional formatting."
   ]
  },
  {
   "cell_type": "markdown",
   "id": "ad3843c8",
   "metadata": {},
   "source": [
    "## Exercise 1: Write Data to excel file\n",
    "Create a file and add a sheet to the file"
   ]
  },
  {
   "cell_type": "code",
   "execution_count": null,
   "id": "cb16dd7b",
   "metadata": {},
   "outputs": [],
   "source": [
    "import xlsxwriter"
   ]
  },
  {
   "cell_type": "markdown",
   "id": "1eb2942a",
   "metadata": {},
   "source": [
    "### Workbooks"
   ]
  },
  {
   "cell_type": "code",
   "execution_count": null,
   "id": "29756eeb",
   "metadata": {},
   "outputs": [],
   "source": [
    "# Create an new Excel file and add a worksheet.\n",
    "workbook = xlsxwriter.Workbook('test.xlsx')\n",
    "\n",
    "# Specify the filename for the new XLSX file.\n",
    "filename = \"new_file.xlsx\"\n",
    "# Create a new workbook for handling XLSX operations.\n",
    "workbook = xlsxwriter.Workbook(filename)"
   ]
  },
  {
   "cell_type": "markdown",
   "id": "4173be30",
   "metadata": {},
   "source": [
    "### Worksheets"
   ]
  },
  {
   "cell_type": "code",
   "execution_count": null,
   "id": "24d86be1",
   "metadata": {},
   "outputs": [],
   "source": [
    "worksheet = workbook.add_worksheet() #  add Sheet1\n",
    "worksheet = workbook.add_worksheet('WorkLog') # add sheet named WorkLog\n",
    "\n",
    "# Add a new worksheet to the workbook.\n",
    "worksheet = workbook.add_worksheet()"
   ]
  },
  {
   "cell_type": "markdown",
   "id": "e6e48bb4",
   "metadata": {},
   "source": [
    "### Write the data to the excel sheet with in two ways using write(), \n",
    "- First way is write(row, column, data) where \n",
    "    - row is the row number and \n",
    "    - column is the column number and \n",
    "    - data is the data that we need to write into the file. \n",
    "- Second way is to write the into the cell name directly"
   ]
  },
  {
   "cell_type": "code",
   "execution_count": null,
   "id": "7437f9f8",
   "metadata": {},
   "outputs": [],
   "source": [
    "# First way\n",
    "worksheet.write(0, 0, ‘MicroPyramid’)"
   ]
  },
  {
   "cell_type": "code",
   "execution_count": null,
   "id": "ead8eec0",
   "metadata": {},
   "outputs": [],
   "source": [
    "# Second way\n",
    "worksheet.write(‘A1’, ‘MicroPyramid’)"
   ]
  },
  {
   "cell_type": "code",
   "execution_count": null,
   "id": "9e264330",
   "metadata": {},
   "outputs": [],
   "source": [
    "# Write some data.\n",
    "worksheet. write('A1', 'Hello')\n",
    "worksheet. write('A2', 'World')\n",
    "worksheet.write('B2', 123)\n",
    "worksheet.write('C2', '=A2+B2')"
   ]
  },
  {
   "cell_type": "code",
   "execution_count": null,
   "id": "637278f4",
   "metadata": {},
   "outputs": [],
   "source": [
    "# Write the DataFrame's data to the worksheet\n",
    "for row_num, values in enumerate(df.values):\n",
    "    worksheet.write_row(row_num, 0, values)"
   ]
  },
  {
   "cell_type": "code",
   "execution_count": null,
   "id": "457b1287",
   "metadata": {},
   "outputs": [],
   "source": [
    "# Iterate through the data and write it to the worksheet.\n",
    "for row in range(len(data)):\n",
    "    for col in range(len(data[row])):\n",
    "        worksheet.write(row, col, data[row][col])"
   ]
  },
  {
   "cell_type": "markdown",
   "id": "091e4bdc",
   "metadata": {},
   "source": [
    "## Exercise 2: Adding Formats: \n",
    "\n",
    "You can define formats to change the appearance of cells.\n",
    "\n",
    "Format cells using the format class to make your sheet look more presentable.\n",
    "\n",
    "Format various cell properties, including \n",
    "- fonts, \n",
    "- colours, \n",
    "- patterns, \n",
    "- borders, \n",
    "- alignment, and \n",
    "- number formatting.\n",
    "\n",
    "Set the width and height of columns and rows.\n",
    "\n",
    "Format object is used to define cell formatting, which can be created by calling the add_format()method on the workbook."
   ]
  },
  {
   "cell_type": "code",
   "execution_count": null,
   "id": "d8e46beb",
   "metadata": {},
   "outputs": [],
   "source": [
    "# Add a bold format.\n",
    "Bold = workbook.add_format({'bold': True})"
   ]
  },
  {
   "cell_type": "code",
   "execution_count": null,
   "id": "837b4601",
   "metadata": {},
   "outputs": [],
   "source": [
    "font_20 = workbook.add_format('font_size': 20)"
   ]
  },
  {
   "cell_type": "code",
   "execution_count": null,
   "id": "bac2b938",
   "metadata": {},
   "outputs": [],
   "source": [
    "# Use the bold format in the cell.\n",
    "Worksheet. write('A1', 'Hello', 'bold')"
   ]
  },
  {
   "cell_type": "markdown",
   "id": "e6002023",
   "metadata": {},
   "source": [
    "### To create the report title, I used the\n",
    "\n",
    "- title_text and \n",
    "- subtitle_text formats\n",
    "- The font bold and increased the font size.\n",
    "- Centred the text alignment to ensure it’s visually appealing.\n",
    "- merged certain columns together using the merge_range() method to provide a cohesive title section.\n",
    "- Within the text formats, I adjusted the font colour to stand out and catch attention."
   ]
  },
  {
   "cell_type": "code",
   "execution_count": null,
   "id": "dd85e9e2",
   "metadata": {},
   "outputs": [],
   "source": [
    "# report formatting\n",
    "\n",
    "# borders\n",
    "thick_borders = workbook.add_format({'border': 2, 'border_color': '#000000'})\n",
    "thin_borders = workbook.add_format({'border': 1, 'border_color': '#A9A9A9'})\n",
    "\n",
    "# text formats\n",
    "title_text = workbook.add_format({'bold': True, 'font_size': 20, 'align':'center', 'bg_color':'blue', 'font_color': 'white'})\n",
    "\n",
    "subtitle_text = workbook.add_format({'bold': True, 'font_size': 16, 'align':'center', 'bg_color':'blue', 'font_color': 'white'})\n",
    "\n",
    "column_header_text = workbook.add_format({'bold': True, 'font_size': 12, 'align':'center'})\n",
    "bold_text = workbook.add_format({'bold': True, 'font_size': 12,})\n",
    "\n",
    "# date format\n",
    "date_format = workbook.add_format({'num_format': 'dd-mmm-yyyy', 'font_size': 12, 'align':'right'})\n",
    "\n",
    "# number format\n",
    "number = workbook.add_format({'num_format': '#,##0.00_);(#,##0.00)', 'font_size': 11})\n",
    "bold_number = workbook.add_format({'bold': True, 'num_format': '#,##0.00_);(#,##0.00)','font_size': 12, 'align':'right'})"
   ]
  },
  {
   "cell_type": "code",
   "execution_count": null,
   "id": "b839e284",
   "metadata": {},
   "outputs": [],
   "source": [
    "# report title\n",
    "writer.sheets['Sales'].merge_range(\"A1:F1\", \"FURNITURE STORE SALES REPORT\", title_text)\n",
    "writer.sheets['Sales'].merge_range(\"A2:F2\", f\"{}\", subtitle_text)"
   ]
  },
  {
   "cell_type": "markdown",
   "id": "dcc4ba9e",
   "metadata": {},
   "source": [
    "Added profit information to my data, by carrying out spreadsheet calculations using the write_formula() method. \n",
    "- the write() method works for formulas too.\n",
    "\n",
    "### Calculated the profit for each row of the report table by \n",
    "- looping through the length of the report and \n",
    "- using string formatting to dynamically reference the row index for calculation.\n",
    "\n",
    "Formula was written to a specific cell using cell notation (e.g., A1) and the ‘=’ sign was included. \n",
    "- assigned a cell format, ‘number’ to the calculated profit using the cell_format parameter, which specifies the style format to apply to the cell.\n",
    "- value parameter, on the other hand, was not utilized in this calculation as it is primarily used when working with non-Excel applications."
   ]
  },
  {
   "cell_type": "code",
   "execution_count": null,
   "id": "87486f6a",
   "metadata": {},
   "outputs": [],
   "source": [
    "write_formula(row, col, formula[, cell_format[, value]])"
   ]
  },
  {
   "cell_type": "code",
   "execution_count": null,
   "id": "25ea11ee",
   "metadata": {},
   "outputs": [],
   "source": [
    "# Profit column\n",
    "writer.sheets['Sales'].write(f'F{start_row+1}', 'Profit', column_header_text)\n",
    " \n",
    "# calculate profit\n",
    "for i in range(start_row+2, start_row+2 + len(report_data)):\n",
    "    writer.sheets['Sales'].write_formula(f'F{i}', f'=E{i}-D{i}', number)"
   ]
  },
  {
   "cell_type": "markdown",
   "id": "00a6fd95",
   "metadata": {},
   "source": [
    "### Report Total at the bottom of the report, \n",
    "\n",
    "Included a total row to display the overall \n",
    "- cost, \n",
    "- sales and \n",
    "- profit. \n",
    "\n",
    "Utilize the write_formula() method. \n",
    "\n",
    "To enhance the visibility of the total row, I applied formatting options to make the text and numbers in the cells appear bold. The total values stand out and draw attention to the overall performance of the sales report."
   ]
  },
  {
   "cell_type": "code",
   "execution_count": null,
   "id": "d70c35cb",
   "metadata": {},
   "outputs": [],
   "source": [
    "#Total row\n",
    "last_row = len(report_data) + start_row + 2\n",
    "writer.sheets['Sales'].write(f'C{last_row}', 'Total', bold_text)\n",
    "writer.sheets['Sales'].write_formula(f'D{last_row}', f'=SUM(D{start_row+2}:D{last_row-1})', bold_number)\n",
    "writer.sheets['Sales'].write_formula(f'E{last_row}', f'=SUM(E{start_row+2}:E{last_row-1})',bold_number)\n",
    "writer.sheets['Sales'].write_formula(f'F{last_row}', f'=SUM(F{start_row+2}:F{last_row-1})', bold_number)"
   ]
  },
  {
   "cell_type": "markdown",
   "id": "e6499f31",
   "metadata": {},
   "source": [
    "### Borders: To enhance the appearance of the report\n",
    "\n",
    "Applied custom borders to the table using the conditional_format() method. \n",
    "\n",
    "This method allows you to add formatting to cells based on specific conditions that you define.\n",
    "- able to add borders to the entire report rather than looping through cells individually.\n",
    "\n",
    "Conditional_format() method offers a range of customization options\n",
    "\n",
    "It is a dictionary that contains various parameters defining the type and style of the conditional format applied to the cells.\n",
    "\n",
    "1. Parameter is type, which determines the type of conditional format to apply. \n",
    "\n",
    "The type parameter is required and offers several allowable values, including\n",
    "- cell, \n",
    "- date, \n",
    "- text, \n",
    "- blanks, \n",
    "- no_blanks\n",
    "\n",
    "2. Parameter is format, \n",
    "3. Parameter is criteria, \n",
    "4. Parameter is value, \n",
    "5. Parameter is minimum, \n",
    "6. Parameter is maximum.\n",
    "\n",
    "Document for `conditional_format()` method understanding of all the available parameters and their functionalities.\n",
    "\n",
    "Two types of border formats: \n",
    "- thin_borders and \n",
    "- thick_borders, \n",
    "    - specifying the weight and colour of the borders.\n",
    "    \n",
    "To add borders to all cells of the report, including both \n",
    "- blank and \n",
    "- non-blank cells, I used the blanks and no_blanks options within the type parameter."
   ]
  },
  {
   "cell_type": "code",
   "execution_count": null,
   "id": "3a521e42",
   "metadata": {},
   "outputs": [],
   "source": [
    "conditional_format(first_row, first_col, last_row, last_col, options)"
   ]
  },
  {
   "cell_type": "code",
   "execution_count": null,
   "id": "8823fecf",
   "metadata": {},
   "outputs": [],
   "source": [
    "# add thick borders to report header row where cells are filled\n",
    "writer.sheets['Sales'].conditional_format(start_row, 0, start_row, 5, {'type': 'no_blanks', 'format': thick_borders})\n",
    "\n",
    "# add thick borders to report header row where cells are empty\n",
    "writer.sheets['Sales'].conditional_format(start_row, 0, start_row, 5, {'type': 'blanks', 'format': thick_borders})\n",
    "\n",
    "# add thin borders body of report where cells are filled\n",
    "writer.sheets['Sales'].conditional_format(start_row+1, 0, last_row-1, 5, {'type': 'no_blanks', 'format': thin_borders})\n",
    "\n",
    "# add thin borders body of report where cells are blank\n",
    "writer.sheets['Sales'].conditional_format(start_row+1, 0, last_row-1, 5, {'type': 'blanks', 'format': thin_borders})"
   ]
  },
  {
   "cell_type": "markdown",
   "id": "3258b706",
   "metadata": {},
   "source": [
    "### Number and Date Format\n",
    "\n",
    "Address the formatting of numerical values within the table, specifically the \"cost\" and \"sales prices\" columns.\n",
    "- Numbers were displayed without any clear demarcation, making them difficult to read and interpret.\n",
    "\n",
    "Incorporate the usage of thousands separator for the numerical values. \n",
    "\n",
    "By introducing this formatting feature, each number was intelligently separated by commas, aiding in visual segmentation and enhancing the overall legibility of the data."
   ]
  },
  {
   "cell_type": "code",
   "execution_count": null,
   "id": "72860f3a",
   "metadata": {},
   "outputs": [],
   "source": [
    "# add number formatting to the price columns\n",
    "writer.sheets['Sales'].conditional_format(f'D{start_row+2}:E{last_row}', {'type': 'no_blanks', 'format': number})\n",
    "\n",
    "# change the date formatting\n",
    "writer.sheets['Sales'].conditional_format(f'B{start_row+2}:B{last_row}', {'type': 'no_blanks', 'format': date_format})"
   ]
  },
  {
   "cell_type": "markdown",
   "id": "3265ecaa",
   "metadata": {},
   "source": [
    "###  Column Widths: Due to the width of the price column data exceeding the default Excel column width, \n",
    "\n",
    "The set_column() method was utilized to expand the width of specific columns."
   ]
  },
  {
   "cell_type": "code",
   "execution_count": null,
   "id": "f7571cd3",
   "metadata": {},
   "outputs": [],
   "source": [
    "# increase column widths\n",
    "writer.sheets['Sales'].set_column('B:F', 15)"
   ]
  },
  {
   "cell_type": "markdown",
   "id": "b04874c1",
   "metadata": {},
   "source": [
    "The autofit() method Simulates autofit for column widths"
   ]
  },
  {
   "cell_type": "code",
   "execution_count": null,
   "id": "4b8d6733",
   "metadata": {},
   "outputs": [],
   "source": [
    "worksheet.autofit()"
   ]
  },
  {
   "cell_type": "markdown",
   "id": "04786b7c",
   "metadata": {},
   "source": [
    "### Hiding Gridlines: \n",
    "\n",
    "An underrated addition I made to the sheet was to hide the gridlines, which draws focus to the sales report table."
   ]
  },
  {
   "cell_type": "code",
   "execution_count": null,
   "id": "5419e9af",
   "metadata": {},
   "outputs": [],
   "source": [
    "writer.sheets['Sales'].hide_gridlines(2)"
   ]
  },
  {
   "cell_type": "markdown",
   "id": "7555b93e",
   "metadata": {},
   "source": [
    "## Exercise 2: Insert Image to Excel File\n",
    "\n",
    "insert_image(row, col, filename[, options])\n",
    "- Insert an image in a worksheet cell\n",
    "\n",
    "Parameters\n",
    "- row (int) – The cell row (zero indexed).\n",
    "- col (int) – The cell column (zero indexed).\n",
    "- filename – Image filename (with path if required).\n",
    "- options (dict) – Optional parameters for image position, scale and url.\n",
    "    - method takes optional parameters in a dictionary to position and scale the image.\n",
    "\n",
    "Insert image into the excel sheet with insert_image() function.\n",
    "\n",
    "Set the height and width of the images in the excel sheet by setting the width and height of the cell."
   ]
  },
  {
   "cell_type": "code",
   "execution_count": null,
   "id": "a9c144f0",
   "metadata": {},
   "outputs": [],
   "source": [
    "optional_para = {\n",
    "    'x_offset':        0,\n",
    "    'y_offset':        0,\n",
    "    'x_scale':         1,\n",
    "    'y_scale':         1,\n",
    "    'object_position': 2,\n",
    "    'image_data':      None,\n",
    "    'url':             None,\n",
    "    'description':     None,\n",
    "    'decorative':      False,\n",
    "}"
   ]
  },
  {
   "cell_type": "code",
   "execution_count": null,
   "id": "79d9c823",
   "metadata": {},
   "outputs": [],
   "source": [
    "worksheet.insert_image('B5', 'logo.png')\n",
    "worksheet.insert_image(2, 4, 'logo.png')"
   ]
  },
  {
   "cell_type": "code",
   "execution_count": null,
   "id": "77d343c3",
   "metadata": {},
   "outputs": [],
   "source": [
    "# offset values are in pixels:\n",
    "worksheet1.insert_image('B2', 'python.png', {'x_offset': 15, 'y_offset': 10})"
   ]
  },
  {
   "cell_type": "code",
   "execution_count": null,
   "id": "6b0d2790",
   "metadata": {},
   "outputs": [],
   "source": [
    "# The x_scale and y_scale parameters can be used to scale the image horizontally and vertically\n",
    "worksheet.insert_image('B3', 'python.png', {'x_scale': 0.5, 'y_scale': 0.5})"
   ]
  },
  {
   "cell_type": "code",
   "execution_count": null,
   "id": "bf15e43f",
   "metadata": {},
   "outputs": [],
   "source": [
    "# optional decorative parameter is also used to help accessibility. \n",
    "# It is used to mark the image as decorative, and thus uninformative, for automated screen readers.\n",
    "worksheet.insert_image('B3', 'python.png', {'decorative': True})"
   ]
  },
  {
   "cell_type": "code",
   "execution_count": null,
   "id": "672b28f7",
   "metadata": {},
   "outputs": [],
   "source": [
    "# The object_position parameter can be used to control the object positioning of the image\n",
    "worksheet.insert_image('B3', 'python.png', {'object_position': 1})"
   ]
  },
  {
   "cell_type": "markdown",
   "id": "40e1c643",
   "metadata": {},
   "source": [
    "## Exercise 3: Draw Charts in the excel Sheet\n",
    "\n",
    "Draw Bar and line charts in the excel sheet using xlsxwriter module using add_chart() method."
   ]
  },
  {
   "cell_type": "code",
   "execution_count": null,
   "id": "3100fbe1",
   "metadata": {},
   "outputs": [],
   "source": [
    "chart = workbook.add_chart({'type': 'column'})"
   ]
  },
  {
   "cell_type": "code",
   "execution_count": null,
   "id": "3e5b341c",
   "metadata": {},
   "outputs": [],
   "source": [
    "# Write some data to add to plot on the chart.\n",
    "data = [[5, 10, 15, 20, 25],]\n",
    "\n",
    "worksheet.write_column('A1', data[0])"
   ]
  },
  {
   "cell_type": "code",
   "execution_count": null,
   "id": "60d56c75",
   "metadata": {},
   "outputs": [],
   "source": [
    "# Configure the charts. In simplest case we just add some data series.\n",
    "chart.add_series({'values': '=Sheet1!$A$1:$A$5'})"
   ]
  },
  {
   "cell_type": "code",
   "execution_count": null,
   "id": "d1625b93",
   "metadata": {},
   "outputs": [],
   "source": [
    "# Insert the chart into the worksheet.\n",
    "worksheet.insert_chart('A7', chart)\n",
    "workbook.close()"
   ]
  },
  {
   "cell_type": "markdown",
   "id": "9978469a",
   "metadata": {},
   "source": [
    "## Exercise 3.1: To generate a basic column chart that showcases the total cost and sales prices per item\n",
    "\n",
    "- Leveraging pandas’ groupby method with the sum aggregate function, I extracted the necessary values from my dataset.\n",
    "- Then proceeded to create the column chart using XlsxWriter.\n",
    "- Specifying the appropriate data range and chart options, \n",
    "    - I was able to visually represent the aggregated information in an intuitive and informative manner. \n",
    "    - This column chart not only allows for a quick comparison between cost and sales prices"
   ]
  },
  {
   "cell_type": "code",
   "execution_count": null,
   "id": "232a45cf",
   "metadata": {},
   "outputs": [],
   "source": [
    "#Aggregate data by items and calculate total cost and sales prices\n",
    "items_cost_sales_df = report_data.groupby('Items')[['Cost Price', 'Sale Price']].sum()"
   ]
  },
  {
   "cell_type": "code",
   "execution_count": null,
   "id": "d76c3bb9",
   "metadata": {},
   "outputs": [],
   "source": [
    "# Create a column chart object\n",
    "items_bar_chart = workbook.add_chart({\"type\": \"column\"})\n",
    "\n",
    "# Configure the first series.\n",
    "items_bar_chart.add_series({\"name\": \"=Chart!B4\", \"categories\": f\"=Chart!$A$5:$A{chart_data_end_row}\", \"values\": f\"=Chart!$B$5:$B${chart_data_end_row}\",})\n",
    "\n",
    "# Configure the second series.\n",
    "items_bar_chart.add_series({\"name\":\"=Chart!C4\", \"categories\": f\"=Chart!$A$5:$A{chart_data_end_row}\", \"values\": f\"=Chart!$C$5:$C${chart_data_end_row}\",})"
   ]
  },
  {
   "cell_type": "markdown",
   "id": "82f92967",
   "metadata": {},
   "source": [
    "## Exercise 3.2: XlsxWriter’s Worksheet Class’s add_table Method\n",
    "\n",
    "worksheet.add_table()\n",
    "\n",
    "add_table(first_row, first_col, last_row, last_col, options)\n",
    "- Add an Excel table to a worksheet.\n",
    "\n",
    "Parameters:\n",
    "- first_row (int) — The first row of the range. (All zero indexed.)\n",
    "- first_col (int) — The first column of the range.\n",
    "- last_row (int) — The last row of the range.\n",
    "- last_col (int) — The last col of the range.\n",
    "- options (dict) — Table formatting options. (Optional)\n",
    "\n",
    "Options parameter\n",
    "- should be a dict containing the parameters that describe the table options and data.\n",
    "    - data — \n",
    "        - We can add data directly to the table without directly calling any of the Worksheet’s write methods. \n",
    "        - We just pass the table a list of lists, where each internal list is a row.\n",
    "\n",
    "    - autofilter- \n",
    "        - see an arrow to the right of each column header. \n",
    "        - If you click on one of these headers, you see something like this. \n",
    "            - By default, you get this if the header_row is on. \n",
    "            - If you don’t want these autofilters, you can turn it off with this option.\n",
    "    - header_row-\n",
    "         - By default, the first row is a header row. \n",
    "         - If you don’t provide column headers, you will get defaults of the form Column 1, Column 2, etc. \n",
    "         - These captions can be overridden using the columns parameter below. \n",
    "         - If you don’t want a header row, you can turn it off with this option.\n",
    "    - banded_columns-\n",
    "        - The banded_columns parameter can be used to create columns of alternating color in the table. \n",
    "            - It is off by default.\n",
    "    - banded_rows-\n",
    "        - The banded_rows parameter can be used to create rows of alternating color in the table. It is on by default.\n",
    "    - first_column-\n",
    "        - The first_column parameter can be used to highlight the first column of the table. \n",
    "        - The type of highlighting will depend on the style of the table. \n",
    "        - It may be bold text or a different color. It is off by default.\n",
    "    - last_column-\n",
    "        - Does the same for the last column as the above parameter does for the first column. It is off by default.\n",
    "    - style-\n",
    "        - The style parameter can be used to set the style of the table. \n",
    "        - Standard Excel table format names should be used (with matching capitalization). \n",
    "        - The default table style is ‘Table Style Medium 9’. \n",
    "        - You can also turn the table style off by setting it to None\n",
    "    - total_row-\n",
    "        - The total_row parameter can be used to turn on the total row in the last row of a table. \n",
    "        - It is distinguished from the other rows by a different formatting and also with dropdown SUBTOTAL functions. \n",
    "        - The default total row doesn’t have any captions or functions. \n",
    "        - These must by specified via the columns parameter. See the documentation for examples.\n",
    "    - name-\n",
    "        - This option allows you to name your table.\n",
    "    - columns-\n",
    "        - This can be a list of format dictionaries with a dictionary for each column. \n",
    "        - The available properties for each column are header, header_format, formula, total_string, total_function, total_value and format. \n",
    "        - You can see that we can specify the header and header format. The next four parameters allow you to configure your total_row if you have one. \n",
    "        - The format option allows you to format the whole column. \n",
    "        - Standard XlsxWriter Format object objects are used for this formatting. \n",
    "        - However, they should be limited to numerical formats for the columns and simple formatting like text wrap for the headers."
   ]
  },
  {
   "cell_type": "code",
   "execution_count": null,
   "id": "bb88100c",
   "metadata": {},
   "outputs": [],
   "source": []
  },
  {
   "cell_type": "code",
   "execution_count": null,
   "id": "e1910b64",
   "metadata": {},
   "outputs": [],
   "source": []
  },
  {
   "cell_type": "markdown",
   "id": "8fafa0ad",
   "metadata": {},
   "source": [
    "## Exercise 4: Perform the calculation in the Excel file."
   ]
  },
  {
   "cell_type": "code",
   "execution_count": null,
   "id": "ea5e97d0",
   "metadata": {},
   "outputs": [],
   "source": [
    "# Formula applied on one cell\n",
    "worksheet.write_formula('E2', '=VLOOKUP(B2, 'Product Family'!A:B,2,FALSE)')"
   ]
  },
  {
   "cell_type": "code",
   "execution_count": null,
   "id": "e1e83ea6",
   "metadata": {},
   "outputs": [],
   "source": [
    "# Calculate the sales in scope\n",
    "worksheet.write_array_formula('G1:G1', '{=D1:D1*F2:F2}')"
   ]
  },
  {
   "cell_type": "markdown",
   "id": "6db6795e",
   "metadata": {},
   "source": [
    "## Exercise 5: Closing the workbook for completion"
   ]
  },
  {
   "cell_type": "code",
   "execution_count": null,
   "id": "f017edb5",
   "metadata": {},
   "outputs": [],
   "source": [
    "# Close the workbook to save the changes.\n",
    "workbook.close()"
   ]
  },
  {
   "cell_type": "markdown",
   "id": "ca1444d1",
   "metadata": {},
   "source": [
    "## Exercise 6: Creating Multiple Sheets"
   ]
  },
  {
   "cell_type": "code",
   "execution_count": null,
   "id": "28fbe36c",
   "metadata": {},
   "outputs": [],
   "source": [
    "# create sheet NEW using the writer object\n",
    "pd.DataFrame().to_excel(writer, sheet_name='NEW', index=True, startrow=0, startcol=0, header=True)"
   ]
  },
  {
   "cell_type": "markdown",
   "id": "b3610632",
   "metadata": {},
   "source": [
    "## Example 1: Data on monthly outgoings that we want to convert into an Excel XLSX file:"
   ]
  },
  {
   "cell_type": "code",
   "execution_count": 6,
   "id": "e50bd6f8",
   "metadata": {},
   "outputs": [],
   "source": [
    "import xlsxwriter"
   ]
  },
  {
   "cell_type": "code",
   "execution_count": 7,
   "id": "5265a900",
   "metadata": {},
   "outputs": [],
   "source": [
    "# Create a workbook and add a worksheet.\n",
    "\n",
    "# create a new workbook object using the Workbook() constructor Which takes one, non-optional, argument.\n",
    "workbook = xlsxwriter.Workbook('Expenses01.xlsx')\n",
    "\n",
    "# workbook object is then used to add a new worksheet via the add_worksheet() method:\n",
    "# By default worksheet names in the spreadsheet will be Sheet1, Sheet2 etc\n",
    "worksheet = workbook.add_worksheet()"
   ]
  },
  {
   "cell_type": "code",
   "execution_count": 8,
   "id": "baa148c1",
   "metadata": {},
   "outputs": [],
   "source": [
    "# Some data we want to write to the worksheet.\n",
    "expenses = (\n",
    "    ['Rent', 1000],\n",
    "    ['Gas',   100],\n",
    "    ['Food',  300],\n",
    "    ['Gym',    50],\n",
    ")"
   ]
  },
  {
   "cell_type": "code",
   "execution_count": 9,
   "id": "99dfefb9",
   "metadata": {},
   "outputs": [],
   "source": [
    "# Start from the first cell. Rows and columns are zero indexed.\n",
    "row = 0\n",
    "col = 0"
   ]
  },
  {
   "cell_type": "markdown",
   "id": "64cb6acd",
   "metadata": {},
   "source": [
    "### worksheet.write()     \n",
    "\n",
    "1. Create a Workbook (Excel file by) create Workbook() object.\n",
    "2. Create a new worksheet by calling the add_worksheet() method.\n",
    "3. Write data to an XlsxWriter file using the write() method.\n",
    "\n",
    "write(row, col, *args)\n",
    "- row – The cell row (zero indexed).\n",
    "- col – The cell column (zero indexed).\n",
    "- *args – The additional args that are passed to the sub methods such as\n",
    "    - number, \n",
    "    - string and \n",
    "    - cell_format.\n",
    "    \n",
    "method supports two forms of notation to designate the position of cells: \n",
    "- Row-column cell notation notation and \n",
    "- A1 notation\n",
    "\n",
    "write() method acts as a general alias for several more specific methods:\n",
    "- `write_string()`\n",
    "    - Strings that start with \"=\" are assumed to match a formula and are written using write_formula().\n",
    "    - Strings that don’t match any of the above criteria are written using write_string().\n",
    "- `write_number()`\n",
    "    - Data types \n",
    "        - float, \n",
    "        - int, \n",
    "        - long, \n",
    "        - decimal.Decimal and \n",
    "        - fractions.Fraction\n",
    "        - If none of the above types are matched the value is evaluated with float() to see if it corresponds to a user defined float type. If it does then it is written using write_number().\n",
    "- `write_blank()`\n",
    "    - empty strings \"\" are written using write_blank().\n",
    "- `write_formula()`\n",
    "- `write_datetime()`\n",
    "    - Data types \n",
    "        - datetime.datetime, \n",
    "        - datetime.date \n",
    "        - datetime.time or \n",
    "        - datetime.timedelta\n",
    "- `write_boolean()`\n",
    "    - Data type bool is written using write_boolean().\n",
    "- `write_url()`\n",
    "    - Strings that match supported URL types are written using write_url()."
   ]
  },
  {
   "cell_type": "code",
   "execution_count": null,
   "id": "c5b351bc",
   "metadata": {},
   "outputs": [],
   "source": [
    "# These are equivalent.\n",
    "worksheet.write(0, 0, 'Hello')\n",
    "worksheet.write('A1', 'Hello')"
   ]
  },
  {
   "cell_type": "code",
   "execution_count": 10,
   "id": "42cc7967",
   "metadata": {},
   "outputs": [],
   "source": [
    "# Iterate over the data and write it out row by row.\n",
    "for item, cost in (expenses):\n",
    "    worksheet.write(row, col,     item) # use the worksheet object to write data via the write() method:\n",
    "    worksheet.write(row, col + 1, cost)\n",
    "    row += 1"
   ]
  },
  {
   "cell_type": "code",
   "execution_count": 11,
   "id": "0fdf5f78",
   "metadata": {},
   "outputs": [
    {
     "data": {
      "text/plain": [
       "0"
      ]
     },
     "execution_count": 11,
     "metadata": {},
     "output_type": "execute_result"
    }
   ],
   "source": [
    "# Write a total using a formula.\n",
    "worksheet.write(row, 0, 'Total')\n",
    "worksheet.write(row, 1, '=SUM(B1:B4)')"
   ]
  },
  {
   "cell_type": "code",
   "execution_count": 12,
   "id": "b10b90d1",
   "metadata": {},
   "outputs": [],
   "source": [
    "workbook.close()"
   ]
  },
  {
   "cell_type": "markdown",
   "id": "b497e08e",
   "metadata": {},
   "source": [
    "# Working with Pandas and XlsxWriter"
   ]
  },
  {
   "cell_type": "markdown",
   "id": "36f1632e",
   "metadata": {},
   "source": [
    "## Exercise 1: Using XlsxWriter with Pandas\n",
    "\n",
    "Use XlsxWriter with Pandas you specify it as the Excel writer engine"
   ]
  },
  {
   "cell_type": "code",
   "execution_count": 1,
   "id": "52176e9c",
   "metadata": {},
   "outputs": [],
   "source": [
    "import pandas as pd"
   ]
  },
  {
   "cell_type": "code",
   "execution_count": 7,
   "id": "ed19d09a",
   "metadata": {},
   "outputs": [
    {
     "data": {
      "text/html": [
       "<div>\n",
       "<style scoped>\n",
       "    .dataframe tbody tr th:only-of-type {\n",
       "        vertical-align: middle;\n",
       "    }\n",
       "\n",
       "    .dataframe tbody tr th {\n",
       "        vertical-align: top;\n",
       "    }\n",
       "\n",
       "    .dataframe thead th {\n",
       "        text-align: right;\n",
       "    }\n",
       "</style>\n",
       "<table border=\"1\" class=\"dataframe\">\n",
       "  <thead>\n",
       "    <tr style=\"text-align: right;\">\n",
       "      <th></th>\n",
       "      <th>Unnamed: 0</th>\n",
       "      <th>id_left</th>\n",
       "      <th>name</th>\n",
       "      <th>entities.data</th>\n",
       "      <th>collaborators.data</th>\n",
       "      <th>collaborator_groups.data</th>\n",
       "      <th>id_right</th>\n",
       "      <th>type_x</th>\n",
       "      <th>title</th>\n",
       "      <th>description</th>\n",
       "      <th>...</th>\n",
       "      <th>title_x</th>\n",
       "      <th>title_y</th>\n",
       "      <th>id_users</th>\n",
       "      <th>attributes.email</th>\n",
       "      <th>attributes.name</th>\n",
       "      <th>attributes.first_name</th>\n",
       "      <th>attributes.last_name</th>\n",
       "      <th>No_days_Open</th>\n",
       "      <th>Overdue_Issue_No_days</th>\n",
       "      <th>Start_of_Quarter</th>\n",
       "    </tr>\n",
       "  </thead>\n",
       "  <tbody>\n",
       "    <tr>\n",
       "      <th>0</th>\n",
       "      <td>0</td>\n",
       "      <td>3148</td>\n",
       "      <td>IT General Controls Review (IA Context)</td>\n",
       "      <td>[]</td>\n",
       "      <td>[{'id': '294835', 'type': 'collaborators'}, {'...</td>\n",
       "      <td>[{'id': 'MzE0ODo3NTUzMQ==', 'type': 'collabora...</td>\n",
       "      <td>NaN</td>\n",
       "      <td>NaN</td>\n",
       "      <td>NaN</td>\n",
       "      <td>NaN</td>\n",
       "      <td>...</td>\n",
       "      <td>NaN</td>\n",
       "      <td>NaN</td>\n",
       "      <td>NaN</td>\n",
       "      <td>NaN</td>\n",
       "      <td>NaN</td>\n",
       "      <td>NaN</td>\n",
       "      <td>NaN</td>\n",
       "      <td>NaN</td>\n",
       "      <td>NaN</td>\n",
       "      <td>NaN</td>\n",
       "    </tr>\n",
       "    <tr>\n",
       "      <th>1</th>\n",
       "      <td>1</td>\n",
       "      <td>3151</td>\n",
       "      <td>Training Audit -IA (11Oct)</td>\n",
       "      <td>[{'id': '1681', 'type': 'entities'}]</td>\n",
       "      <td>[{'id': '246118', 'type': 'collaborators'}, {'...</td>\n",
       "      <td>[{'id': 'MzE1MTo3NTUzMQ==', 'type': 'collabora...</td>\n",
       "      <td>4574.0</td>\n",
       "      <td>issues</td>\n",
       "      <td>Amit Adequacy Finding</td>\n",
       "      <td>Amit Adequacy Finding</td>\n",
       "      <td>...</td>\n",
       "      <td>Alexander Forbes Ltd</td>\n",
       "      <td>Consolidated Legal Entity Path (Group)</td>\n",
       "      <td>J7-Ux7ZV6Sx58UkrPoie</td>\n",
       "      <td>bhagwana@alexforbes.com</td>\n",
       "      <td>Amit Bhagwan</td>\n",
       "      <td>Amit</td>\n",
       "      <td>Bhagwan</td>\n",
       "      <td>561.0</td>\n",
       "      <td>481.0</td>\n",
       "      <td>2022Q4</td>\n",
       "    </tr>\n",
       "    <tr>\n",
       "      <th>2</th>\n",
       "      <td>2</td>\n",
       "      <td>3151</td>\n",
       "      <td>Training Audit -IA (11Oct)</td>\n",
       "      <td>[{'id': '1681', 'type': 'entities'}]</td>\n",
       "      <td>[{'id': '246118', 'type': 'collaborators'}, {'...</td>\n",
       "      <td>[{'id': 'MzE1MTo3NTUzMQ==', 'type': 'collabora...</td>\n",
       "      <td>4574.0</td>\n",
       "      <td>issues</td>\n",
       "      <td>Amit Adequacy Finding</td>\n",
       "      <td>Amit Adequacy Finding</td>\n",
       "      <td>...</td>\n",
       "      <td>Alexander Forbes Ltd</td>\n",
       "      <td>Consolidated Legal Entity Path (Group)</td>\n",
       "      <td>J7-Ux7ZV6Sx58UkrPoie</td>\n",
       "      <td>bhagwana@alexforbes.com</td>\n",
       "      <td>Amit Bhagwan</td>\n",
       "      <td>Amit</td>\n",
       "      <td>Bhagwan</td>\n",
       "      <td>561.0</td>\n",
       "      <td>481.0</td>\n",
       "      <td>2022Q4</td>\n",
       "    </tr>\n",
       "    <tr>\n",
       "      <th>3</th>\n",
       "      <td>3</td>\n",
       "      <td>3151</td>\n",
       "      <td>Training Audit -IA (11Oct)</td>\n",
       "      <td>[{'id': '1681', 'type': 'entities'}]</td>\n",
       "      <td>[{'id': '246118', 'type': 'collaborators'}, {'...</td>\n",
       "      <td>[{'id': 'MzE1MTo3NTUzMQ==', 'type': 'collabora...</td>\n",
       "      <td>4574.0</td>\n",
       "      <td>issues</td>\n",
       "      <td>Amit Adequacy Finding</td>\n",
       "      <td>Amit Adequacy Finding</td>\n",
       "      <td>...</td>\n",
       "      <td>Alexander Forbes Ltd</td>\n",
       "      <td>Consolidated Legal Entity Path (Group)</td>\n",
       "      <td>J7-Ux7ZV6Sx58UkrPoie</td>\n",
       "      <td>bhagwana@alexforbes.com</td>\n",
       "      <td>Amit Bhagwan</td>\n",
       "      <td>Amit</td>\n",
       "      <td>Bhagwan</td>\n",
       "      <td>561.0</td>\n",
       "      <td>481.0</td>\n",
       "      <td>2022Q4</td>\n",
       "    </tr>\n",
       "    <tr>\n",
       "      <th>4</th>\n",
       "      <td>4</td>\n",
       "      <td>3151</td>\n",
       "      <td>Training Audit -IA (11Oct)</td>\n",
       "      <td>[{'id': '1681', 'type': 'entities'}]</td>\n",
       "      <td>[{'id': '246118', 'type': 'collaborators'}, {'...</td>\n",
       "      <td>[{'id': 'MzE1MTo3NTUzMQ==', 'type': 'collabora...</td>\n",
       "      <td>4574.0</td>\n",
       "      <td>issues</td>\n",
       "      <td>Amit Adequacy Finding</td>\n",
       "      <td>Amit Adequacy Finding</td>\n",
       "      <td>...</td>\n",
       "      <td>Alexander Forbes Ltd</td>\n",
       "      <td>Consolidated Legal Entity Path (Group)</td>\n",
       "      <td>J7-Ux7ZV6Sx58UkrPoie</td>\n",
       "      <td>bhagwana@alexforbes.com</td>\n",
       "      <td>Amit Bhagwan</td>\n",
       "      <td>Amit</td>\n",
       "      <td>Bhagwan</td>\n",
       "      <td>561.0</td>\n",
       "      <td>481.0</td>\n",
       "      <td>2022Q4</td>\n",
       "    </tr>\n",
       "  </tbody>\n",
       "</table>\n",
       "<p>5 rows × 73 columns</p>\n",
       "</div>"
      ],
      "text/plain": [
       "   Unnamed: 0  id_left                                     name  \\\n",
       "0           0     3148  IT General Controls Review (IA Context)   \n",
       "1           1     3151               Training Audit -IA (11Oct)   \n",
       "2           2     3151               Training Audit -IA (11Oct)   \n",
       "3           3     3151               Training Audit -IA (11Oct)   \n",
       "4           4     3151               Training Audit -IA (11Oct)   \n",
       "\n",
       "                          entities.data  \\\n",
       "0                                    []   \n",
       "1  [{'id': '1681', 'type': 'entities'}]   \n",
       "2  [{'id': '1681', 'type': 'entities'}]   \n",
       "3  [{'id': '1681', 'type': 'entities'}]   \n",
       "4  [{'id': '1681', 'type': 'entities'}]   \n",
       "\n",
       "                                  collaborators.data  \\\n",
       "0  [{'id': '294835', 'type': 'collaborators'}, {'...   \n",
       "1  [{'id': '246118', 'type': 'collaborators'}, {'...   \n",
       "2  [{'id': '246118', 'type': 'collaborators'}, {'...   \n",
       "3  [{'id': '246118', 'type': 'collaborators'}, {'...   \n",
       "4  [{'id': '246118', 'type': 'collaborators'}, {'...   \n",
       "\n",
       "                            collaborator_groups.data  id_right  type_x  \\\n",
       "0  [{'id': 'MzE0ODo3NTUzMQ==', 'type': 'collabora...       NaN     NaN   \n",
       "1  [{'id': 'MzE1MTo3NTUzMQ==', 'type': 'collabora...    4574.0  issues   \n",
       "2  [{'id': 'MzE1MTo3NTUzMQ==', 'type': 'collabora...    4574.0  issues   \n",
       "3  [{'id': 'MzE1MTo3NTUzMQ==', 'type': 'collabora...    4574.0  issues   \n",
       "4  [{'id': 'MzE1MTo3NTUzMQ==', 'type': 'collabora...    4574.0  issues   \n",
       "\n",
       "                   title            description  ...               title_x  \\\n",
       "0                    NaN                    NaN  ...                   NaN   \n",
       "1  Amit Adequacy Finding  Amit Adequacy Finding  ...  Alexander Forbes Ltd   \n",
       "2  Amit Adequacy Finding  Amit Adequacy Finding  ...  Alexander Forbes Ltd   \n",
       "3  Amit Adequacy Finding  Amit Adequacy Finding  ...  Alexander Forbes Ltd   \n",
       "4  Amit Adequacy Finding  Amit Adequacy Finding  ...  Alexander Forbes Ltd   \n",
       "\n",
       "                                  title_y              id_users  \\\n",
       "0                                     NaN                   NaN   \n",
       "1  Consolidated Legal Entity Path (Group)  J7-Ux7ZV6Sx58UkrPoie   \n",
       "2  Consolidated Legal Entity Path (Group)  J7-Ux7ZV6Sx58UkrPoie   \n",
       "3  Consolidated Legal Entity Path (Group)  J7-Ux7ZV6Sx58UkrPoie   \n",
       "4  Consolidated Legal Entity Path (Group)  J7-Ux7ZV6Sx58UkrPoie   \n",
       "\n",
       "          attributes.email attributes.name attributes.first_name  \\\n",
       "0                      NaN             NaN                   NaN   \n",
       "1  bhagwana@alexforbes.com    Amit Bhagwan                  Amit   \n",
       "2  bhagwana@alexforbes.com    Amit Bhagwan                  Amit   \n",
       "3  bhagwana@alexforbes.com    Amit Bhagwan                  Amit   \n",
       "4  bhagwana@alexforbes.com    Amit Bhagwan                  Amit   \n",
       "\n",
       "  attributes.last_name No_days_Open  Overdue_Issue_No_days Start_of_Quarter  \n",
       "0                  NaN          NaN                    NaN              NaN  \n",
       "1              Bhagwan        561.0                  481.0           2022Q4  \n",
       "2              Bhagwan        561.0                  481.0           2022Q4  \n",
       "3              Bhagwan        561.0                  481.0           2022Q4  \n",
       "4              Bhagwan        561.0                  481.0           2022Q4  \n",
       "\n",
       "[5 rows x 73 columns]"
      ]
     },
     "execution_count": 7,
     "metadata": {},
     "output_type": "execute_result"
    }
   ],
   "source": [
    "df_findings = pd.read_excel('cleaned_findings (4).xlsx')\n",
    "df_findings.head()"
   ]
  },
  {
   "cell_type": "code",
   "execution_count": 3,
   "id": "6ed2694d",
   "metadata": {},
   "outputs": [
    {
     "data": {
      "text/plain": [
       "Index(['Unnamed: 0', 'id_left', 'name', 'entities.data', 'collaborators.data',\n",
       "       'collaborator_groups.data', 'id_right', 'type_x', 'title',\n",
       "       'description', 'creator_name', 'created_at', 'updated_at', 'position',\n",
       "       'owner', 'recommendation', 'deficiency_type', 'severity', 'published',\n",
       "       'identified_at', 'reference', 'reference_prefix', 'risk', 'scope',\n",
       "       'escalation', 'cause', 'effect', 'cost_impact', 'executive_summary',\n",
       "       'executive_owner', 'project_owner', 'closed', 'remediation_status',\n",
       "       'remediation_plan', 'remediation_date', 'actual_remediation_date',\n",
       "       'retest_deadline_date', 'actual_retest_date',\n",
       "       'retesting_results_overview', 'owner_user.data',\n",
       "       'executive_owner_user.data', 'project_owner_user.data',\n",
       "       'creator_user.data.id', 'creator_user.data.type', 'owner_user.data.id',\n",
       "       'owner_user.data.type', 'executive_owner_user.data.id',\n",
       "       'executive_owner_user.data.type', 'project_owner_user.data.id',\n",
       "       'project_owner_user.data.type', 'creator_user.data', 'ID1_x',\n",
       "       'Assurance Function', 'Extended Remediation Date',\n",
       "       'Management Response', 'Raised during follow up audit?',\n",
       "       'Root Cause Catagory', 'Root Cause Driver', 'Velocity', 'id_issues',\n",
       "       'type_y', 'ID1_y', 'id_x', 'title_x', 'title_y', 'id_users',\n",
       "       'attributes.email', 'attributes.name', 'attributes.first_name',\n",
       "       'attributes.last_name', 'No_days_Open', 'Overdue_Issue_No_days',\n",
       "       'Start_of_Quarter'],\n",
       "      dtype='object')"
      ]
     },
     "execution_count": 3,
     "metadata": {},
     "output_type": "execute_result"
    }
   ],
   "source": [
    "df_findings.columns"
   ]
  },
  {
   "cell_type": "code",
   "execution_count": 4,
   "id": "237f12ce",
   "metadata": {},
   "outputs": [],
   "source": [
    "df_findings = df_findings[['id_right', 'type_x', 'title',\n",
    "       'description', 'creator_name', 'created_at', 'updated_at', 'position',\n",
    "       'owner', 'recommendation', 'deficiency_type', 'severity', 'published',\n",
    "       'identified_at', 'reference', 'reference_prefix', 'risk', 'scope',\n",
    "       'escalation', 'cause', 'effect', 'cost_impact', 'executive_summary',\n",
    "       'executive_owner', 'project_owner', 'closed', 'remediation_status',\n",
    "       'remediation_plan', 'remediation_date', 'ID1_x',\n",
    "       'Assurance Function', 'Extended Remediation Date',\n",
    "       'Management Response', 'Raised during follow up audit?',\n",
    "       'Root Cause Catagory', 'Root Cause Driver', 'Velocity', 'id_issues',\n",
    "       'type_y', 'ID1_y', 'id_x', 'title_x', 'title_y', 'id_users',\n",
    "       'attributes.email', 'attributes.name', 'attributes.first_name',\n",
    "       'attributes.last_name', 'No_days_Open', 'Overdue_Issue_No_days',\n",
    "       'Start_of_Quarter']]"
   ]
  },
  {
   "cell_type": "code",
   "execution_count": 5,
   "id": "15fd8d14",
   "metadata": {},
   "outputs": [],
   "source": [
    "# Create a Pandas Excel writer using XlsxWriter as the engine.\n",
    "writer = pd.ExcelWriter('Issues_and_findings.xlsx', engine='xlsxwriter')"
   ]
  },
  {
   "cell_type": "code",
   "execution_count": 6,
   "id": "407640d6",
   "metadata": {},
   "outputs": [],
   "source": [
    "# Convert the dataframe to an XlsxWriter Excel object.\n",
    "df_findings.to_excel(writer, sheet_name='I&F')"
   ]
  },
  {
   "cell_type": "markdown",
   "id": "2b58f48c",
   "metadata": {},
   "source": [
    "## Exercise 2: Accessing XlsxWriter from Pandas\n",
    "\n",
    "This is to apply XlsxWriter features such as Charts, Conditional Formatting and Column Formatting to the Pandas output we need to access the underlying workbook and worksheet objects.\n",
    "\n",
    "- After that we can treat them as normal XlsxWriter objects."
   ]
  },
  {
   "cell_type": "code",
   "execution_count": 8,
   "id": "1ea9ab70",
   "metadata": {},
   "outputs": [],
   "source": [
    "# Get the xlsxwriter objects from the dataframe writer object.\n",
    "workbook  = writer.book\n",
    "worksheet = writer.sheets['I&F']\n",
    "\n",
    "# Workbook and Worksheet objects can then be used to access other XlsxWriter features"
   ]
  },
  {
   "cell_type": "markdown",
   "id": "b90eaf7b",
   "metadata": {},
   "source": [
    "### This is equivalent to the following code when using XlsxWriter on its own"
   ]
  },
  {
   "cell_type": "code",
   "execution_count": null,
   "id": "82195e77",
   "metadata": {},
   "outputs": [],
   "source": [
    "workbook  = xlsxwriter.Workbook('filename.xlsx')\n",
    "worksheet = workbook.add_worksheet()"
   ]
  },
  {
   "cell_type": "markdown",
   "id": "6298bbc2",
   "metadata": {},
   "source": [
    "## Exercise 3: Adding Charts to Dataframe output\n",
    "\n",
    "Available chart subclasses, and available subtypes: \n",
    "- Area,\n",
    "    - stacked\n",
    "    - percent_stacked\n",
    "- Bar, \n",
    "    - stacked\n",
    "    - percent_stacked\n",
    "- Column, \n",
    "    - stacked\n",
    "    - percent_stacked\n",
    "- Doughnut, \n",
    "    - straight_with_markers\n",
    "    - straight\n",
    "    - smooth_with_markers\n",
    "    - smooth\n",
    "- Line,\n",
    "    - stacked\n",
    "    - percent_stacked\n",
    "- Pie, \n",
    "- Scatter, \n",
    "- Stock, \n",
    "- Radar.\n",
    "    - with_markers\n",
    "    - filled\n",
    "\n",
    "Steps:\n",
    "1. chart object is created via the Workbook add_chart() method where the chart type is specified\n",
    "2. It is then inserted into a worksheet as an embedded chart using the insert_chart() Worksheet method\n",
    "\n",
    "or \n",
    "\n",
    "2. set in a chartsheet using the set_chart() Chartsheet method:"
   ]
  },
  {
   "cell_type": "code",
   "execution_count": 9,
   "id": "6cf33110",
   "metadata": {},
   "outputs": [],
   "source": [
    "# 1. Create a chart object.\n",
    "chart = workbook.add_chart({'type': 'column'})"
   ]
  },
  {
   "cell_type": "code",
   "execution_count": 13,
   "id": "13ef5a90",
   "metadata": {},
   "outputs": [
    {
     "data": {
      "text/plain": [
       "0"
      ]
     },
     "execution_count": 13,
     "metadata": {},
     "output_type": "execute_result"
    }
   ],
   "source": [
    "# 2. Insert the chart into the worksheet.\n",
    "worksheet.insert_chart(1, max_col + 1 , chart) \n",
    "\n",
    "# or\n",
    "\n",
    "worksheet.insert_chart('A7', chart)"
   ]
  },
  {
   "cell_type": "code",
   "execution_count": null,
   "id": "6072e028",
   "metadata": {},
   "outputs": [],
   "source": [
    "# 2. Set in a chartsheet\n",
    "chartsheet = workbook.add_chartsheet()\n",
    "# ...\n",
    "chartsheet.set_chart(chart)"
   ]
  },
  {
   "cell_type": "markdown",
   "id": "f1ab24d7",
   "metadata": {},
   "source": [
    "### Example : List of List"
   ]
  },
  {
   "cell_type": "code",
   "execution_count": null,
   "id": "4ca23e66",
   "metadata": {},
   "outputs": [],
   "source": [
    "# Create a new Chart object.\n",
    "chart = workbook.add_chart({'type': 'column'})"
   ]
  },
  {
   "cell_type": "code",
   "execution_count": null,
   "id": "602104b8",
   "metadata": {},
   "outputs": [],
   "source": [
    "# Write some data (list of List) to add to plot on the chart.\n",
    "\n",
    "data = [\n",
    "    [1, 2, 3, 4, 5],\n",
    "    [2, 4, 6, 8, 10],\n",
    "    [3, 6, 9, 12, 15],\n",
    "]\n",
    "\n",
    "worksheet.write_column('A1', data[0])\n",
    "worksheet.write_column('B1', data[1])\n",
    "worksheet.write_column('C1', data[2])"
   ]
  },
  {
   "cell_type": "code",
   "execution_count": null,
   "id": "67b61499",
   "metadata": {},
   "outputs": [],
   "source": [
    "# Configure the chart. In simplest case we add one or more data series.\n",
    "chart.add_series({'values': '=Sheet1!$A$1:$A$5'})\n",
    "chart.add_series({'values': '=Sheet1!$B$1:$B$5'})\n",
    "chart.add_series({'values': '=Sheet1!$C$1:$C$5'})\n",
    "\n",
    "# Insert the chart into the worksheet.\n",
    "worksheet.insert_chart('A7', chart)\n",
    "\n",
    "workbook.close()"
   ]
  },
  {
   "cell_type": "markdown",
   "id": "c711c920",
   "metadata": {},
   "source": [
    "### Example : Dataframe"
   ]
  },
  {
   "cell_type": "code",
   "execution_count": null,
   "id": "b81bf5cb",
   "metadata": {},
   "outputs": [],
   "source": [
    "# Create a new Chart object.\n",
    "chart = workbook.add_chart({'type': 'column'})"
   ]
  },
  {
   "cell_type": "code",
   "execution_count": 11,
   "id": "5bac2227",
   "metadata": {},
   "outputs": [],
   "source": [
    "# Get the dimensions of the dataframe.\n",
    "(max_row, max_col) = df_findings.shape"
   ]
  },
  {
   "cell_type": "markdown",
   "id": "b6c62f28",
   "metadata": {},
   "source": [
    "### chart.add_series()\n",
    "\n",
    "In Excel a chart series is a collection of information that defines which data is plotted such as values, axis labels and formatting.\n",
    "\n",
    "Done by defining a dictionary using a \n",
    "- list of values\n",
    "    - [sheetname, first_row, first_col, last_row, last_col]\n",
    "- category/value formulas:\n",
    "    - take either a range formula such as =Sheet1!$A$2:$A$7 \n",
    "    - take by generating the range programmatically, a list with zero indexed row/column values.\n",
    "    \n",
    "Series options that can be set are:\n",
    "\n",
    "- values: \n",
    "    - This is the most important property of a series and is the only mandatory option for every chart object. \n",
    "    - This option links the chart with the worksheet data that it displays.\n",
    "    - The data range can be set \n",
    "        - using a formula\n",
    "        - using a list of values\n",
    "\n",
    "- categories: \n",
    "    - This sets the chart category labels. \n",
    "    - The category is more or less the same as the X axis. \n",
    "    - In most chart types the categories property is optional and the chart will just assume a sequential series from 1..n.\n",
    "\n",
    "- name: \n",
    "    - Set the name for the series. \n",
    "    - The name is displayed in the formula bar. \n",
    "        - For non-Pie/Doughnut charts it is also displayed in the legend. \n",
    "    - The name property is optional and if it isn’t supplied it will default to Series 1..n. \n",
    "        - The name can also be a formula such as =Sheet1!$A$1 or0 \n",
    "        - The name can be a list with a sheetname, row and column such as ['Sheet1', 0, 0].\n",
    "\n",
    "- line: \n",
    "     - Set the properties of the series line type such as color and width. See Chart formatting: Line.\n",
    "\n",
    "- border: \n",
    "    - Set the border properties of the series such as color and style. See Chart formatting: Border.\n",
    "\n",
    "- fill: \n",
    "    - Set the solid fill properties of the series such as color. See Chart formatting: Solid Fill.\n",
    "\n",
    "- pattern: \n",
    "    - Set the pattern fill properties of the series. See Chart formatting: Pattern Fill.\n",
    "\n",
    "- gradient: \n",
    "    - Set the gradient fill properties of the series. See Chart formatting: Gradient Fill.\n",
    "\n",
    "- marker: \n",
    "    - Set the properties of the series marker such as style and color. See Chart series option: Marker.\n",
    "\n",
    "- trendline: \n",
    "    - Set the properties of the series trendline such as linear, polynomial and moving average types. See Chart series option: Trendline.\n",
    "\n",
    "- smooth: \n",
    "    - Set the smooth property of a line series.\n",
    "\n",
    "- y_error_bars: \n",
    "    - Set vertical error bounds for a chart series. See Chart series option: Error Bars.\n",
    "\n",
    "- x_error_bars: \n",
    "    - Set horizontal error bounds for a chart series. See Chart series option: Error Bars.\n",
    "\n",
    "- data_labels: \n",
    "    - Set data labels for the series. See Chart series option: Data Labels.\n",
    "\n",
    "- points: \n",
    "    - Set properties for individual points in a series. See Chart series option: Points.\n",
    "\n",
    "- invert_if_negative: \n",
    "    - Invert the fill color for negative values. Usually only applicable to column and bar charts.\n",
    "\n",
    "- overlap: \n",
    "    - Set the overlap between series in a Bar/Column chart. The range is +/- 100. The default is 0:"
   ]
  },
  {
   "cell_type": "code",
   "execution_count": null,
   "id": "f034d0ae",
   "metadata": {},
   "outputs": [],
   "source": [
    "chart.add_series({\n",
    "    'categories': '=Sheet1!$A$1:$A$5',\n",
    "    'values':     '=Sheet1!$B$1:$B$5',\n",
    "    'line':       {'color': 'red'},\n",
    "})\n",
    "\n",
    "# Or using a list of values instead of category/value formulas:\n",
    "# [sheetname, first_row, first_col, last_row, last_col]  \n",
    "\n",
    "chart.add_series({\n",
    "    'categories': ['Sheet1', 0, 0, 4, 0],\n",
    "    'values':     ['Sheet1', 0, 1, 4, 1],\n",
    "    'line':       {'color': 'red'},\n",
    "})"
   ]
  },
  {
   "cell_type": "code",
   "execution_count": 12,
   "id": "c563c373",
   "metadata": {},
   "outputs": [],
   "source": [
    "# Configure the series of the chart from the dataframe data.\n",
    "chart.add_series({'values': ['I&F', first_row , first_col , last_row , last_col]})"
   ]
  },
  {
   "cell_type": "code",
   "execution_count": null,
   "id": "9540e077",
   "metadata": {},
   "outputs": [],
   "source": [
    "# Insert the chart into the worksheet.\n",
    "worksheet.insert_chart(1, 3, chart)"
   ]
  },
  {
   "cell_type": "markdown",
   "id": "2a8c0a4b",
   "metadata": {},
   "source": [
    "### chart.set_x_axis()\n",
    "\n",
    "Method is used to set properties of the X axis\n",
    "\n",
    "options that can be set are:\n",
    "\n",
    "- name - Set the name (also known as title or caption) for the axis.\n",
    "- name_font - Set the font properties for the axis name\n",
    "- name_layout - Set the (x, y) position of the axis caption in chart relative units.\n",
    "- num_font - Set the font properties for the axis numbers. (Applicable to category, date and value axes.)\n",
    "- num_format - Set the number format for the axis. (Applicable to category, date and value axes.\n",
    "    - number format is similar to the Worksheet Cell Format num_format apart from the fact that a format index cannot be used\n",
    "- line - Set the properties of the axis line type such as color and width.\n",
    "- fill - Set the solid fill properties of the axis such as color\n",
    "- pattern - Set the pattern fill properties of the axis\n",
    "- gradient - Set the gradient fill properties of the axis\n",
    "- min - Set the minimum value for the axis range.(Applicable to value and date axes only.)\n",
    "- max - Set the maximum value for the axis range\n",
    "- minor_unit - Set the increment of the minor units in the axis range.\n",
    "- major_unit - Set the increment of the major units in the axis range.\n",
    "- interval_unit - Set the interval unit for a category axis. Should be an integer value. (Applicable to category axes only.)\n",
    "- interval_tick - Set the tick interval for a category axis. Should be an integer value. (Applicable to category axes only.)\n",
    "- crossing - Set the position where the y axis will cross the x axis. (Applicable to all axes.)\n",
    "    - The crossing value can be a numeric value or the strings 'max' or 'min' to set the crossing at the maximum/minimum axis\n",
    "        - For category axes the numeric value must be an integer to represent the category number that the axis crosses at. \n",
    "        - For value and date axes it can have any value associated with the axis.\n",
    "        - If crossing is omitted (the default) the crossing will be set automatically by Excel based on the chart data.\n",
    "- position_axis - Position the axis on or between the axis tick marks.\n",
    "    - two allowable values \n",
    "        - on_tick and \n",
    "        - between\n",
    "- reverse - Reverse the order of the axis categories or values.\n",
    "- log_base - Set the log base of the axis range. (Applicable to value axes only.)\n",
    "- label_position - Set the “Axis labels” position for the axis.\n",
    "    - next_to (the default)\n",
    "    - high\n",
    "    - low\n",
    "    - none\n",
    "- label_align - Align the “Axis labels” the axis.\n",
    "    - center (the default)\n",
    "    - right \n",
    "    - left\n",
    "- major_gridlines - Configure the major gridlines for the axis\n",
    "    - Available:\n",
    "        - visible\n",
    "        - line\n",
    "- minor_gridlines\n",
    "- visible - Configure the visibility of the axis\n",
    "    - The visible property is usually on for the X axis but it depends on the type of chart.\n",
    "- date_axis - option is used to treat a category axis with date or time data as a Date Axis.\n",
    "    -  allows you to set max and min values for a category axis which isn’t allowed by Excel for non-date category axes\n",
    "- text_axis - used to treat a category axis explicitly as a Text Axis. (Applicable to category axes only.)\n",
    "- minor_unit_type - For date_axis axes, see above, this option is used to set the type of the minor units. (Applicable to date category axes only.)\n",
    "- major_unit_type\n",
    "- minor_tick_mark\n",
    "    - available options:\n",
    "        - none\n",
    "        - inside\n",
    "        - outside\n",
    "        - cross (inside and outside)\n",
    "- major_tick_mark\n",
    "- display_units\n",
    "- display_units_visible"
   ]
  },
  {
   "cell_type": "code",
   "execution_count": null,
   "id": "c9fcaafe",
   "metadata": {},
   "outputs": [],
   "source": [
    "chart.set_x_axis({\n",
    "    'name': 'Earnings per Quarter',\n",
    "    'name_font': {'size': 14, 'bold': True},\n",
    "    'num_font':  {'italic': True },\n",
    "})"
   ]
  },
  {
   "cell_type": "code",
   "execution_count": null,
   "id": "20d4183e",
   "metadata": {},
   "outputs": [],
   "source": [
    "# Name\n",
    "\n",
    "chart.set_x_axis({'name': 'Earnings per Quarter'})"
   ]
  },
  {
   "cell_type": "code",
   "execution_count": null,
   "id": "dec65a79",
   "metadata": {},
   "outputs": [],
   "source": [
    "# Name font\n",
    "\n",
    "chart.set_x_axis({'name_font': {'bold': True, 'italic': True}})"
   ]
  },
  {
   "cell_type": "code",
   "execution_count": null,
   "id": "8b0de557",
   "metadata": {},
   "outputs": [],
   "source": [
    "# Name Layout\n",
    "\n",
    "chart.set_x_axis({\n",
    "    'name': 'X axis',\n",
    "    'name_layout': {\n",
    "        'x': 0.34,\n",
    "        'y': 0.85,\n",
    "    }\n",
    "})"
   ]
  },
  {
   "cell_type": "code",
   "execution_count": null,
   "id": "18611171",
   "metadata": {},
   "outputs": [],
   "source": [
    "# Num Font\n",
    "\n",
    "chart.set_x_axis({'name_font': {'bold': True, 'italic': True}})"
   ]
  },
  {
   "cell_type": "code",
   "execution_count": null,
   "id": "27b17c37",
   "metadata": {},
   "outputs": [],
   "source": [
    "# Num Format\n",
    "\n",
    "chart.set_x_axis({'num_format': '#,##0.00'})\n",
    "chart.set_y_axis({'num_format': '0.00%'})"
   ]
  },
  {
   "cell_type": "code",
   "execution_count": null,
   "id": "6b451a80",
   "metadata": {},
   "outputs": [],
   "source": [
    "# line\n",
    "\n",
    "chart.set_x_axis({'line': {'none': True}})"
   ]
  },
  {
   "cell_type": "code",
   "execution_count": null,
   "id": "3118173f",
   "metadata": {},
   "outputs": [],
   "source": [
    "# Min\n",
    "\n",
    "chart.set_x_axis({'min': 3, 'max': 6})"
   ]
  },
  {
   "cell_type": "code",
   "execution_count": null,
   "id": "b903f2ab",
   "metadata": {},
   "outputs": [],
   "source": [
    "# Minor Unit\n",
    "\n",
    "chart.set_x_axis({'minor_unit': 0.4, 'major_unit': 2})"
   ]
  },
  {
   "cell_type": "code",
   "execution_count": null,
   "id": "de405ece",
   "metadata": {},
   "outputs": [],
   "source": [
    "# Interval Unit\n",
    "\n",
    "chart.set_x_axis({'interval_unit': 5})"
   ]
  },
  {
   "cell_type": "code",
   "execution_count": null,
   "id": "a59016f7",
   "metadata": {},
   "outputs": [],
   "source": [
    "# Interval Tick\n",
    "\n",
    "chart.set_x_axis({'interval_tick': 2})"
   ]
  },
  {
   "cell_type": "code",
   "execution_count": null,
   "id": "875f19d6",
   "metadata": {},
   "outputs": [],
   "source": [
    "# Crossing\n",
    "\n",
    "chart.set_x_axis({'crossing': 3})\n",
    "chart.set_y_axis({'crossing': 'max'})"
   ]
  },
  {
   "cell_type": "code",
   "execution_count": null,
   "id": "c986662b",
   "metadata": {},
   "outputs": [],
   "source": [
    "# Axis Position\n",
    "\n",
    "chart.set_x_axis({'position_axis': 'on_tick'})\n",
    "chart.set_x_axis({'position_axis': 'between'})"
   ]
  },
  {
   "cell_type": "code",
   "execution_count": null,
   "id": "1253dc7f",
   "metadata": {},
   "outputs": [],
   "source": [
    "# Reverse\n",
    "\n",
    "chart.set_x_axis({'reverse': True})"
   ]
  },
  {
   "cell_type": "code",
   "execution_count": null,
   "id": "0db9039d",
   "metadata": {},
   "outputs": [],
   "source": [
    "# Log Base\n",
    "\n",
    "chart.set_y_axis({'log_base': 10})"
   ]
  },
  {
   "cell_type": "code",
   "execution_count": null,
   "id": "ede64473",
   "metadata": {},
   "outputs": [],
   "source": [
    "# Label Position\n",
    "\n",
    "chart.set_x_axis({'label_position': 'high'})\n",
    "chart.set_y_axis({'label_position': 'low'})"
   ]
  },
  {
   "cell_type": "code",
   "execution_count": null,
   "id": "8878bc59",
   "metadata": {},
   "outputs": [],
   "source": [
    "# Label Base\n",
    "\n",
    "chart.set_x_axis({'label_align': 'left'})"
   ]
  },
  {
   "cell_type": "code",
   "execution_count": null,
   "id": "02fede78",
   "metadata": {},
   "outputs": [],
   "source": [
    "# Major Gridlines\n",
    "\n",
    "chart.set_x_axis({\n",
    "    'major_gridlines': {\n",
    "        'visible': True,\n",
    "        'line': {'width': 1.25, 'dash_type': 'dash'}\n",
    "    },\n",
    "})"
   ]
  },
  {
   "cell_type": "code",
   "execution_count": null,
   "id": "67a5d37d",
   "metadata": {},
   "outputs": [],
   "source": [
    "# Visible\n",
    "\n",
    "chart.set_y_axis({'visible': False})"
   ]
  },
  {
   "cell_type": "code",
   "execution_count": null,
   "id": "4706a823",
   "metadata": {},
   "outputs": [],
   "source": [
    "# Date Axis \n",
    "\n",
    "chart.set_x_axis({'date_axis': True})"
   ]
  },
  {
   "cell_type": "code",
   "execution_count": null,
   "id": "17bdf9bf",
   "metadata": {},
   "outputs": [],
   "source": [
    "# Text axis\n",
    "\n",
    "chart.set_x_axis({'text_axis': True})"
   ]
  },
  {
   "cell_type": "code",
   "execution_count": null,
   "id": "ddfb4f68",
   "metadata": {},
   "outputs": [],
   "source": [
    "# Minor Unit Type\n",
    "\n",
    "chart.set_x_axis({\n",
    "    'date_axis': True,\n",
    "    'minor_unit': 4,\n",
    "    'minor_unit_type': 'months',\n",
    "})"
   ]
  },
  {
   "cell_type": "code",
   "execution_count": null,
   "id": "03b4e742",
   "metadata": {},
   "outputs": [],
   "source": [
    "# Major and Minor Tick Marks\n",
    "\n",
    "chart.set_x_axis({'major_tick_mark': 'none',\n",
    "                  'minor_tick_mark': 'inside'})"
   ]
  },
  {
   "cell_type": "code",
   "execution_count": null,
   "id": "dfbd9628",
   "metadata": {},
   "outputs": [],
   "source": [
    "# Display Units\n",
    "\n",
    "chart.set_x_axis({'display_units': 'thousands'})\n",
    "chart.set_y_axis({'display_units': 'millions'})"
   ]
  },
  {
   "cell_type": "code",
   "execution_count": null,
   "id": "7289dfc3",
   "metadata": {},
   "outputs": [],
   "source": [
    "# Display Unit Visable\n",
    "\n",
    "chart.set_x_axis({'display_units': 'hundreds',\n",
    "                  'display_units_visible': False})"
   ]
  },
  {
   "cell_type": "markdown",
   "id": "5c04937b",
   "metadata": {},
   "source": [
    "## Exercise 4: Combining 2 Tables In one Chart\n",
    "\n",
    "### chart.combine()\n",
    "\n",
    "The chart combine() method is used to combine two charts of different types"
   ]
  },
  {
   "cell_type": "code",
   "execution_count": null,
   "id": "996e1adc",
   "metadata": {},
   "outputs": [],
   "source": [
    "# Create a primary chart.\n",
    "column_chart = workbook.add_chart({'type': 'column'})\n",
    "column_chart.add_series({...})\n",
    "\n",
    "# Create a secondary chart.\n",
    "line_chart = workbook.add_chart({'type': 'line'})\n",
    "line_chart.add_series({...})\n",
    "\n",
    "# Combine the charts.\n",
    "column_chart.combine(line_chart)"
   ]
  },
  {
   "cell_type": "markdown",
   "id": "6bee390c",
   "metadata": {},
   "source": [
    "# Working with Conditional Formatting\n",
    "\n",
    "To apply formatting based on user defined criteria to an XlsxWriter file\n",
    "\n",
    "- Use conditional_format() worksheet method.\n",
    "\n",
    "To apply formatting based on user defined criteria to an XlsxWriter file.\n",
    "\n",
    "Conditional format can be applied to a single cell or a range of cells.\n",
    "\n",
    "You can use use \n",
    "- A1 notation\n",
    "- Row/Column notation\n",
    "    - With Row/Column notation you must specify all four cells in the range: 4\n",
    "        - (first_row, first_col, last_row, last_col). \n",
    "    - If you need to refer to a single cell set the last_* values equal to the first_* values."
   ]
  },
  {
   "cell_type": "code",
   "execution_count": null,
   "id": "3beb0988",
   "metadata": {},
   "outputs": [],
   "source": [
    "worksheet.conditional_format(0, 0, 4, 1, {...})\n",
    "worksheet.conditional_format('B1',       {...})\n",
    "worksheet.conditional_format('C1:E5',    {...})"
   ]
  },
  {
   "cell_type": "markdown",
   "id": "7d7fe882",
   "metadata": {},
   "source": [
    "## Exercise 5: Adding Conditional Formatting to Dataframe output\n",
    "    \n",
    "Options parameter in conditional_format() must be a dictionary containing the parameters that describe the \n",
    "- type of the conditional format. \n",
    "- style of the conditional format.\n",
    "\n",
    "Parameters:\n",
    "\n",
    "type\n",
    "- cell: used when a format is applied to a cell based on a simple criterion.\n",
    "    - format\n",
    "    - criteria\n",
    "        - between\n",
    "        - not between\n",
    "        - equal to : ==\n",
    "        - not equal to : !=\n",
    "        - greater than : >\n",
    "        - less than : <\n",
    "        - greater than or equal to : >=\n",
    "        - less than or equal to : <=\n",
    "    - value\n",
    "    - minimum\n",
    "    - maximum"
   ]
  },
  {
   "cell_type": "markdown",
   "id": "44bff4bb",
   "metadata": {},
   "source": [
    "## Exercise 5.1: using a single cell and the greater than criteria\n",
    "\n",
    "The value is generally used along with the criteria parameter to set the rule by which the cell data will be evaluated\n",
    "\n",
    "If the type is cell and the value is a string then it should be double quoted"
   ]
  },
  {
   "cell_type": "code",
   "execution_count": null,
   "id": "fa1cc92f",
   "metadata": {},
   "outputs": [],
   "source": [
    "worksheet.conditional_format('A1', {'type':     'cell',\n",
    "                                    'criteria': 'greater than',\n",
    "                                    'value':     5,\n",
    "                                    'format':    red_format})"
   ]
  },
  {
   "cell_type": "code",
   "execution_count": null,
   "id": "12d1decd",
   "metadata": {},
   "outputs": [],
   "source": [
    "worksheet.conditional_format('A1', {'type':     'cell',\n",
    "                                    'criteria': 'equal to',\n",
    "                                    'value':    '\"Failed\"',\n",
    "                                    'format':   red_format})"
   ]
  },
  {
   "cell_type": "code",
   "execution_count": null,
   "id": "6fc55f4e",
   "metadata": {},
   "outputs": [],
   "source": [
    "# value property can also be an cell reference\n",
    "\n",
    "worksheet.conditional_format('A1', {'type':     'cell',\n",
    "                                    'criteria': 'equal to',\n",
    "                                    'value':    '$C$1',\n",
    "                                    'format':   red_format})"
   ]
  },
  {
   "cell_type": "markdown",
   "id": "ff6bcc24",
   "metadata": {},
   "source": [
    "## Exercise 5.2: using a range and the between criteria and the Max and Min paramaters"
   ]
  },
  {
   "cell_type": "code",
   "execution_count": null,
   "id": "9328ba38",
   "metadata": {},
   "outputs": [],
   "source": [
    "worksheet.conditional_format('C1:C4', {'type':     'cell',\n",
    "                                       'criteria': 'between',\n",
    "                                       'minimum':  20,\n",
    "                                       'maximum':  30,\n",
    "                                       'format':   green_format})"
   ]
  },
  {
   "cell_type": "markdown",
   "id": "2f9a5d91",
   "metadata": {},
   "source": [
    "## Exercise 5.3: Using format\n",
    "\n",
    "Format parameter is used to specify the format that will be applied to the cell when the conditional formatting criterion is met. \n",
    "\n",
    "The format is created using the add_format() method."
   ]
  },
  {
   "cell_type": "code",
   "execution_count": null,
   "id": "b5b171df",
   "metadata": {},
   "outputs": [],
   "source": [
    "format1 = workbook.add_format({'bold': 1, 'italic': 1})\n",
    "\n",
    "worksheet.conditional_format('A1', {'type':     'cell',\n",
    "                                    'criteria': '>',\n",
    "                                    'value':    5,\n",
    "                                    'format':   format1})"
   ]
  },
  {
   "cell_type": "code",
   "execution_count": null,
   "id": "7bbc10c1",
   "metadata": {},
   "outputs": [],
   "source": [
    "# Light red fill with dark red text.\n",
    "format1 = workbook.add_format({'bg_color':   '#FFC7CE',\n",
    "                               'font_color': '#9C0006'})\n",
    "\n",
    "# Light yellow fill with dark yellow text.\n",
    "format2 = workbook.add_format({'bg_color':   '#FFEB9C',\n",
    "                               'font_color': '#9C6500'})\n",
    "\n",
    "# Green fill with dark green text.\n",
    "format3 = workbook.add_format({'bg_color':   '#C6EFCE',\n",
    "                               'font_color': '#006100'})"
   ]
  },
  {
   "cell_type": "markdown",
   "id": "cdac3657",
   "metadata": {},
   "source": [
    "- date\n",
    "    - format\n",
    "    - criteria\n",
    "    - value\n",
    "    - minimum\n",
    "    - maximum"
   ]
  },
  {
   "cell_type": "code",
   "execution_count": null,
   "id": "8257ea9f",
   "metadata": {},
   "outputs": [],
   "source": [
    "date = datetime.datetime.strptime('2011-01-01', \"%Y-%m-%d\")\n",
    "\n",
    "worksheet.conditional_format('A1:A4', {'type':     'date',\n",
    "                                       'criteria': 'greater than',\n",
    "                                       'value':    date,\n",
    "                                       'format':   format1})"
   ]
  },
  {
   "cell_type": "markdown",
   "id": "a1cb387c",
   "metadata": {},
   "source": [
    "- time_period\n",
    "    - format\n",
    "    - criteria\n",
    "        - 'criteria': 'yesterday',\n",
    "        - 'criteria': 'today',\n",
    "        - 'criteria': 'last 7 days',\n",
    "        - 'criteria': 'last week',\n",
    "        - 'criteria': 'this week',\n",
    "        - 'criteria': 'next week',\n",
    "        - 'criteria': 'last month',\n",
    "        - 'criteria': 'this month',\n",
    "        - 'criteria': 'next month'"
   ]
  },
  {
   "cell_type": "code",
   "execution_count": null,
   "id": "99f1e569",
   "metadata": {},
   "outputs": [],
   "source": [
    "worksheet.conditional_format('A1:A4', {'type':     'time_period',\n",
    "                                       'criteria': 'yesterday',\n",
    "                                       'format':   format1})"
   ]
  },
  {
   "cell_type": "markdown",
   "id": "f3ce0410",
   "metadata": {},
   "source": [
    "- text\n",
    "    - format\n",
    "    - criteria\n",
    "        - 'criteria': 'containing',\n",
    "        - 'criteria': 'not containing',\n",
    "        - 'criteria': 'begins with',\n",
    "        - 'criteria': 'ends with',\n",
    "    - value"
   ]
  },
  {
   "cell_type": "code",
   "execution_count": null,
   "id": "f259ec7f",
   "metadata": {},
   "outputs": [],
   "source": [
    "worksheet.conditional_format('A1:A4', {'type':     'text',\n",
    "                                       'criteria': 'containing',\n",
    "                                       'value':    'foo',\n",
    "                                       'format':   format1})"
   ]
  },
  {
   "cell_type": "markdown",
   "id": "bd8fe6ea",
   "metadata": {},
   "source": [
    "- average\n",
    "    - criteria\n",
    "        - 'criteria': 'above',\n",
    "        - 'criteria': 'below',\n",
    "        - 'criteria': 'equal or above',\n",
    "        - 'criteria': 'equal or below',\n",
    "        - 'criteria': '1 std dev above',\n",
    "        - 'criteria': '1 std dev below',\n",
    "        - 'criteria': '2 std dev above',\n",
    "        - 'criteria': '2 std dev below',\n",
    "        - 'criteria': '3 std dev above',\n",
    "        - 'criteria': '3 std dev below',\n",
    "    - format"
   ]
  },
  {
   "cell_type": "markdown",
   "id": "04128d73",
   "metadata": {},
   "source": [
    "- duplicate : duplicate type is used to highlight duplicate cells in a range\n",
    "    - format"
   ]
  },
  {
   "cell_type": "code",
   "execution_count": null,
   "id": "971b4fa6",
   "metadata": {},
   "outputs": [],
   "source": [
    "worksheet.conditional_format('A1:A4', {'type':   'duplicate',\n",
    "                                       'format': format1})"
   ]
  },
  {
   "cell_type": "markdown",
   "id": "70299bea",
   "metadata": {},
   "source": [
    "- unique :  unique type is used to highlight unique cells in a range:\n",
    "    - format"
   ]
  },
  {
   "cell_type": "code",
   "execution_count": null,
   "id": "1b111cd1",
   "metadata": {},
   "outputs": [],
   "source": [
    "worksheet.conditional_format('A1:A4', {'type':   'unique',\n",
    "                                       'format': format1})"
   ]
  },
  {
   "cell_type": "markdown",
   "id": "1d99abe3",
   "metadata": {},
   "source": [
    "- top : top type is used to specify the top n values by number or percentage in a range\n",
    "    - criteria\n",
    "    - value\n",
    "    - format\n",
    "    \n",
    "criteria can be used to indicate that a percentage condition is required"
   ]
  },
  {
   "cell_type": "code",
   "execution_count": null,
   "id": "8f714bd7",
   "metadata": {},
   "outputs": [],
   "source": [
    "worksheet.conditional_format('A1:A4', {'type':     'top',\n",
    "                                       'value':    10,\n",
    "                                       'criteria': '%',\n",
    "                                       'format':   format1})"
   ]
  },
  {
   "cell_type": "markdown",
   "id": "e4a92144",
   "metadata": {},
   "source": [
    "- bottom\n",
    "    - criteria\n",
    "    - value\n",
    "    - format"
   ]
  },
  {
   "cell_type": "markdown",
   "id": "f759fc35",
   "metadata": {},
   "source": [
    "- blanks :  blanks type is used to highlight blank cells in a range\n",
    "    - format"
   ]
  },
  {
   "cell_type": "code",
   "execution_count": null,
   "id": "65b792f2",
   "metadata": {},
   "outputs": [],
   "source": [
    "worksheet.conditional_format('A1:A4', {'type':   'blanks',\n",
    "                                       'format': format1})"
   ]
  },
  {
   "cell_type": "markdown",
   "id": "945d13e7",
   "metadata": {},
   "source": [
    "- no_blanks\n",
    "    - format"
   ]
  },
  {
   "cell_type": "code",
   "execution_count": null,
   "id": "b53f1c51",
   "metadata": {},
   "outputs": [],
   "source": [
    "worksheet.conditional_format('A1:A4', {'type':   'no_blanks',\n",
    "                                       'format': format1})"
   ]
  },
  {
   "cell_type": "markdown",
   "id": "88705d02",
   "metadata": {},
   "source": [
    "- errors\n",
    "    - format"
   ]
  },
  {
   "cell_type": "code",
   "execution_count": null,
   "id": "98245322",
   "metadata": {},
   "outputs": [],
   "source": [
    "worksheet.conditional_format('A1:A4', {'type':   'errors',\n",
    "                                       'format': format1})"
   ]
  },
  {
   "cell_type": "markdown",
   "id": "5d340223",
   "metadata": {},
   "source": [
    "- no_errors\n",
    "    - format"
   ]
  },
  {
   "cell_type": "code",
   "execution_count": null,
   "id": "27846ad5",
   "metadata": {},
   "outputs": [],
   "source": [
    "worksheet.conditional_format('A1:A4', {'type':   'no_errors',\n",
    "                                       'format': format1})"
   ]
  },
  {
   "cell_type": "markdown",
   "id": "2e681514",
   "metadata": {},
   "source": [
    "- formula\n",
    "    - criteria\n",
    "    - format"
   ]
  },
  {
   "cell_type": "code",
   "execution_count": null,
   "id": "361e6e45",
   "metadata": {},
   "outputs": [],
   "source": [
    "# This formula will cause an Excel error on load due to\n",
    "# non-English language and use of semi-colons.\n",
    "worksheet.conditional_format('A2:C9' ,\n",
    "    {'type':     'formula',\n",
    "     'criteria': '=ODER($B2<$C2;UND($B2=\"\";$C2>HEUTE()))',\n",
    "     'format':   format1\n",
    "    })\n",
    "\n",
    "# This is the correct syntax.\n",
    "worksheet.conditional_format('A2:C9' ,\n",
    "    {'type':     'formula',\n",
    "     'criteria': '=OR($B2<$C2,AND($B2=\"\",$C2>TODAY()))',\n",
    "     'format':   format1\n",
    "    })"
   ]
  },
  {
   "cell_type": "code",
   "execution_count": null,
   "id": "34be4d25",
   "metadata": {},
   "outputs": [],
   "source": [
    "worksheet.conditional_format('A1:A4', {'type':     'formula',\n",
    "                                       'criteria': '=$A$1>5',\n",
    "                                       'format':   format1})"
   ]
  },
  {
   "cell_type": "markdown",
   "id": "d8e86b33",
   "metadata": {},
   "source": [
    "- 2_color_scale\n",
    "    - min_type\n",
    "    - max_type\n",
    "    - min_value\n",
    "    - max_value\n",
    "    - min_color\n",
    "    - max_color"
   ]
  },
  {
   "cell_type": "markdown",
   "id": "cb04da4c",
   "metadata": {},
   "source": [
    "- 3_color_scale\n",
    "    - min_type\n",
    "    - mid_type\n",
    "    - max_type\n",
    "    - min_value\n",
    "    - mid_value\n",
    "    - max_value\n",
    "    - min_color\n",
    "    - mid_color\n",
    "    - max_color"
   ]
  },
  {
   "cell_type": "markdown",
   "id": "a6482c0b",
   "metadata": {},
   "source": [
    "- data_bar\n",
    "    - min_type\n",
    "    - max_type\n",
    "    - min_value\n",
    "    - max_value\n",
    "    - bar_color\n",
    "    - bar_only\n",
    "    - bar_solid\n",
    "    - bar_negative_color\n",
    "    - bar_border_color\n",
    "    - bar_negative_border_color\n",
    "    - bar_negative_color_same\n",
    "    - bar_negative_border_color_same\n",
    "    - bar_no_border\n",
    "    - bar_direction\n",
    "    - bar_axis_position\n",
    "    - bar_axis_color\n",
    "    - data_bar_2010"
   ]
  },
  {
   "cell_type": "markdown",
   "id": "1f9045b7",
   "metadata": {},
   "source": [
    "- icon_set\n",
    "    - icon_style\n",
    "    - icons\n",
    "    - reverse_icons\n",
    "    - icons_only"
   ]
  },
  {
   "cell_type": "markdown",
   "id": "1a603efa",
   "metadata": {},
   "source": [
    "- stop_if_true"
   ]
  },
  {
   "cell_type": "markdown",
   "id": "46cbb98b",
   "metadata": {},
   "source": [
    "- multi_range"
   ]
  },
  {
   "cell_type": "code",
   "execution_count": null,
   "id": "ed2b5278",
   "metadata": {},
   "outputs": [],
   "source": []
  },
  {
   "cell_type": "code",
   "execution_count": null,
   "id": "2ed9c29a",
   "metadata": {},
   "outputs": [],
   "source": [
    "# Apply a conditional format to the required cell range.\n",
    "worksheet.conditional_format(1, max_col, max_row, max_col, {'type': '3_color_scale'})"
   ]
  },
  {
   "cell_type": "markdown",
   "id": "a05d03a6",
   "metadata": {},
   "source": [
    "## Exercise 5.1:  rules are used to highlight cells"
   ]
  },
  {
   "cell_type": "code",
   "execution_count": null,
   "id": "575ec367",
   "metadata": {},
   "outputs": [],
   "source": [
    "worksheet.conditional_format('B3:K12', {'type':     'cell',\n",
    "                                        'criteria': '>=',\n",
    "                                        'value':    50,\n",
    "                                        'format':   format1})\n",
    "\n",
    "worksheet.conditional_format('B3:K12', {'type':     'cell',\n",
    "                                        'criteria': '<',\n",
    "                                        'value':    50,\n",
    "                                        'format':   format2})"
   ]
  },
  {
   "cell_type": "markdown",
   "id": "8c2d36cc",
   "metadata": {},
   "source": [
    "# Formatting of the Dataframe output\n",
    "\n",
    "Supports default formatting such as the \n",
    "- header and \n",
    "- index cells and any \n",
    "- cells that contain dates or datetimes.\n",
    "\n",
    "For controlled formatting of the dataframe output \n",
    "- using Xlsxwriter directly with raw data taken from Pandas.\n",
    "\n",
    "## Exercise 6: Set the default date and datetime formats via the Pandas interface"
   ]
  },
  {
   "cell_type": "code",
   "execution_count": null,
   "id": "27d91afd",
   "metadata": {},
   "outputs": [],
   "source": [
    "import pandas as pd\n",
    "from datetime import datetime, date\n",
    "\n",
    "# Create a Pandas dataframe from some datetime data.\n",
    "df = pd.DataFrame(\n",
    "    {\n",
    "        \"Date and time\": [\n",
    "            datetime(2015, 1, 1, 11, 30, 55),\n",
    "            datetime(2015, 1, 2, 1, 20, 33),\n",
    "            datetime(2015, 1, 3, 11, 10),\n",
    "            datetime(2015, 1, 4, 16, 45, 35),\n",
    "            datetime(2015, 1, 5, 12, 10, 15),\n",
    "        ],\n",
    "        \"Dates only\": [\n",
    "            date(2015, 2, 1),\n",
    "            date(2015, 2, 2),\n",
    "            date(2015, 2, 3),\n",
    "            date(2015, 2, 4),\n",
    "            date(2015, 2, 5),\n",
    "        ],\n",
    "    }\n",
    ")"
   ]
  },
  {
   "cell_type": "code",
   "execution_count": null,
   "id": "34f0140b",
   "metadata": {},
   "outputs": [],
   "source": [
    "writer = pd.ExcelWriter(\"pandas_datetime.xlsx\",\n",
    "                        engine='xlsxwriter',\n",
    "                        datetime_format='mmm d yyyy hh:mm:ss',\n",
    "                        date_format='mmmm dd yyyy')"
   ]
  },
  {
   "cell_type": "code",
   "execution_count": null,
   "id": "8f849912",
   "metadata": {},
   "outputs": [],
   "source": [
    "# Convert the dataframe to an XlsxWriter Excel object.\n",
    "df.to_excel(writer, sheet_name=\"Sheet1\")"
   ]
  },
  {
   "cell_type": "code",
   "execution_count": null,
   "id": "f484bbf3",
   "metadata": {},
   "outputs": [],
   "source": [
    "# Get the xlsxwriter workbook and worksheet objects in order to set the column widths and make the dates clearer.\n",
    "workbook = writer.book\n",
    "worksheet = writer.sheets[\"Sheet1\"]"
   ]
  },
  {
   "cell_type": "code",
   "execution_count": null,
   "id": "5def2561",
   "metadata": {},
   "outputs": [],
   "source": [
    "# Get the dimensions of the dataframe.\n",
    "(max_row, max_col) = df.shape"
   ]
  },
  {
   "cell_type": "code",
   "execution_count": null,
   "id": "eb77d751",
   "metadata": {},
   "outputs": [],
   "source": [
    "# Set the column widths, to make the dates clearer.\n",
    "worksheet.set_column(1, max_col, 20)"
   ]
  },
  {
   "cell_type": "code",
   "execution_count": null,
   "id": "7f827e1c",
   "metadata": {},
   "outputs": [],
   "source": [
    "# Close the Pandas Excel writer and output the Excel file.\n",
    "writer.close()"
   ]
  },
  {
   "cell_type": "markdown",
   "id": "63882c93",
   "metadata": {},
   "source": [
    "## Exercise 7: To format any other, non date/datetime column data using set_column()"
   ]
  },
  {
   "cell_type": "code",
   "execution_count": null,
   "id": "1afffd92",
   "metadata": {},
   "outputs": [],
   "source": [
    "import pandas as pd\n",
    "\n",
    "# Create a Pandas dataframe from some data.\n",
    "df = pd.DataFrame(\n",
    "    {\n",
    "        \"Numbers\": [1010, 2020, 3030, 2020, 1515, 3030, 4545],\n",
    "        \"Percentage\": [0.1, 0.2, 0.33, 0.25, 0.5, 0.75, 0.45],\n",
    "    }\n",
    ")"
   ]
  },
  {
   "cell_type": "code",
   "execution_count": null,
   "id": "6a64068c",
   "metadata": {},
   "outputs": [],
   "source": [
    "# Create a Pandas Excel writer using XlsxWriter as the engine.\n",
    "writer = pd.ExcelWriter(\"pandas_column_formats.xlsx\", engine=\"xlsxwriter\")"
   ]
  },
  {
   "cell_type": "code",
   "execution_count": null,
   "id": "cee92d6d",
   "metadata": {},
   "outputs": [],
   "source": [
    "# Convert the dataframe to an XlsxWriter Excel object.\n",
    "df.to_excel(writer, sheet_name=\"Sheet1\")"
   ]
  },
  {
   "cell_type": "code",
   "execution_count": null,
   "id": "68c4a5ad",
   "metadata": {},
   "outputs": [],
   "source": [
    "# Get the xlsxwriter workbook and worksheet objects.\n",
    "workbook = writer.book\n",
    "worksheet = writer.sheets[\"Sheet1\"]"
   ]
  },
  {
   "cell_type": "code",
   "execution_count": null,
   "id": "9270a398",
   "metadata": {},
   "outputs": [],
   "source": [
    "# Add some cell formats.\n",
    "format1 = workbook.add_format({'num_format': '#,##0.00'})\n",
    "format2 = workbook.add_format({'num_format': '0%'})"
   ]
  },
  {
   "cell_type": "code",
   "execution_count": null,
   "id": "dd77ae15",
   "metadata": {},
   "outputs": [],
   "source": [
    "# Set the column width and format.\n",
    "# From row B2 and Column B\n",
    "worksheet.set_column(1, 1, 18, format1)"
   ]
  },
  {
   "cell_type": "code",
   "execution_count": null,
   "id": "7a22a96a",
   "metadata": {},
   "outputs": [],
   "source": [
    "# Set the format but not the column width.\n",
    "# From Row C2 and Column C\n",
    "worksheet.set_column(2, 2, None, format2)"
   ]
  },
  {
   "cell_type": "markdown",
   "id": "adcd74e5",
   "metadata": {},
   "source": [
    "## Exercise 8: Formatting Dataframe headers\n",
    "\n",
    "Pandas writes the dataframe header with a default cell format.\n",
    "\n",
    "Cell format cannot be overridden using set_row().\n",
    "\n",
    "To use your own format for the headings then turn off the automatic header from Pandas and write your own."
   ]
  },
  {
   "cell_type": "code",
   "execution_count": null,
   "id": "6cc3d267",
   "metadata": {},
   "outputs": [],
   "source": [
    "import pandas as pd\n",
    "\n",
    "# Create a Pandas dataframe from some data.\n",
    "data = [10, 20, 30, 40, 50, 60]\n",
    "df = pd.DataFrame({\"Heading\": data, \"Longer heading that should be wrapped\": data})"
   ]
  },
  {
   "cell_type": "code",
   "execution_count": null,
   "id": "b9e24027",
   "metadata": {},
   "outputs": [],
   "source": [
    "# Create a Pandas Excel writer using XlsxWriter as the engine.\n",
    "writer = pd.ExcelWriter(\"pandas_header_format.xlsx\", engine=\"xlsxwriter\")"
   ]
  },
  {
   "cell_type": "code",
   "execution_count": null,
   "id": "f3c207ac",
   "metadata": {},
   "outputs": [],
   "source": [
    "# Turn off the default header and skip one row to allow us to insert a user defined header.\n",
    "df.to_excel(writer, sheet_name='Sheet1', startrow=1, header=False)"
   ]
  },
  {
   "cell_type": "code",
   "execution_count": null,
   "id": "82b2980c",
   "metadata": {},
   "outputs": [],
   "source": [
    "# Get the xlsxwriter workbook and worksheet objects.\n",
    "workbook  = writer.book\n",
    "worksheet = writer.sheets['Sheet1']"
   ]
  },
  {
   "cell_type": "code",
   "execution_count": null,
   "id": "ad76ebfb",
   "metadata": {},
   "outputs": [],
   "source": [
    "# Add a header format.\n",
    "header_format = workbook.add_format({'bold': True, 'text_wrap': True, 'valign': 'top', 'fg_color': '#D7E4BC', 'border': 1})"
   ]
  },
  {
   "cell_type": "code",
   "execution_count": null,
   "id": "9622bbc7",
   "metadata": {},
   "outputs": [],
   "source": [
    "# Write the column headers with the defined format.\n",
    "for col_num, value in enumerate(df.columns.values):\n",
    "    worksheet.write(0, col_num + 1, value, header_format)"
   ]
  },
  {
   "cell_type": "markdown",
   "id": "e3a0eea2",
   "metadata": {},
   "source": [
    "## Exercise 9: Adding a Dataframe to a Worksheet Table\n",
    "\n",
    "Tables in Excel are a way of grouping a range of cells into a single entity\n",
    "\n",
    "To do this with a Pandas dataframe:\n",
    "1. first write the data without the index or header, and by starting 1 row forward to allow space for the table header\n",
    "2. create a list of headers to use in add_table().\n",
    "3. add the Excel table structure, based on the dataframe shape and with the column headers we generated from the dataframe columns"
   ]
  },
  {
   "cell_type": "code",
   "execution_count": null,
   "id": "d3e996ef",
   "metadata": {},
   "outputs": [],
   "source": [
    "# 1\n",
    "df.to_excel(writer, sheet_name='Sheet1',startrow=1, header=False, index=False)"
   ]
  },
  {
   "cell_type": "code",
   "execution_count": null,
   "id": "791a1ff4",
   "metadata": {},
   "outputs": [],
   "source": [
    "# 2\n",
    "column_settings = [{'header': column} for column in df.columns]"
   ]
  },
  {
   "cell_type": "code",
   "execution_count": null,
   "id": "6fccf05f",
   "metadata": {},
   "outputs": [],
   "source": [
    "# 3\n",
    "(max_row, max_col) = df.shape\n",
    "\n",
    "worksheet.add_table(0, 0, max_row, max_col - 1, {'columns': column_settings})"
   ]
  },
  {
   "cell_type": "markdown",
   "id": "6e813ebb",
   "metadata": {},
   "source": [
    "## Exercise 10: Adding an autofilter to a Dataframe output\n",
    "\n",
    "A Way of filtering a 2d range of data to only display rows that match a user defined criteria\n",
    "\n",
    "To do this with a Pandas dataframe is to:\n",
    "\n",
    "1. first write the data without the index (unless you want to include it in the filtered data)\n",
    "2. get the dataframe shape and add the autofilter"
   ]
  },
  {
   "cell_type": "code",
   "execution_count": null,
   "id": "5be9ca30",
   "metadata": {},
   "outputs": [],
   "source": [
    "# 1\n",
    "df.to_excel(writer, sheet_name='Sheet1', index=False)"
   ]
  },
  {
   "cell_type": "code",
   "execution_count": null,
   "id": "4e134d6c",
   "metadata": {},
   "outputs": [],
   "source": [
    "# 2\n",
    "worksheet.autofilter(0, 0, max_row, max_col - 1)"
   ]
  },
  {
   "cell_type": "markdown",
   "id": "6c07e368",
   "metadata": {},
   "source": [
    "## Exercise 10.1: add an optional filter criteria. \n",
    "\n",
    "The placeholder “Region” in the filter is ignored and can be any string that adds clarity to the expression"
   ]
  },
  {
   "cell_type": "code",
   "execution_count": null,
   "id": "f72e9216",
   "metadata": {},
   "outputs": [],
   "source": [
    "worksheet.filter_column(0, 'Region == East')"
   ]
  },
  {
   "cell_type": "markdown",
   "id": "b2b9f038",
   "metadata": {},
   "source": [
    "## Exercise 10.2: Hidding rows not in criteria\n",
    "Rows that don’t match must also be hidden. We use Pandas to figure our which rows to hide"
   ]
  },
  {
   "cell_type": "code",
   "execution_count": null,
   "id": "20438935",
   "metadata": {},
   "outputs": [],
   "source": [
    "for row_num in (df.index[(df['Region'] != 'East')].tolist()):\n",
    "    worksheet.set_row(row_num + 1, options={'hidden': True})"
   ]
  },
  {
   "cell_type": "markdown",
   "id": "f2022833",
   "metadata": {},
   "source": [
    "# Handling multiple Pandas Dataframes\n",
    "\n",
    "write more than one dataframe to a worksheet or to several worksheets"
   ]
  },
  {
   "cell_type": "markdown",
   "id": "b0aba4e7",
   "metadata": {},
   "source": [
    "## Exercise 11: write multiple dataframes to multiple worksheets"
   ]
  },
  {
   "cell_type": "code",
   "execution_count": null,
   "id": "bda5d76e",
   "metadata": {},
   "outputs": [],
   "source": [
    "# Write each dataframe to a different worksheet.\n",
    "df1.to_excel(writer, sheet_name='Sheet1')\n",
    "df2.to_excel(writer, sheet_name='Sheet2')\n",
    "df3.to_excel(writer, sheet_name='Sheet3')"
   ]
  },
  {
   "cell_type": "markdown",
   "id": "c4b13320",
   "metadata": {},
   "source": [
    "## Exercise 12: Position multiple dataframes within the same worksheet"
   ]
  },
  {
   "cell_type": "code",
   "execution_count": null,
   "id": "1e150eef",
   "metadata": {},
   "outputs": [],
   "source": [
    "# Position the dataframes in the worksheet.\n",
    "df1.to_excel(writer, sheet_name='Sheet1')  # Default position, cell A1.\n",
    "df2.to_excel(writer, sheet_name='Sheet1', startcol=3)\n",
    "df3.to_excel(writer, sheet_name='Sheet1', startrow=6)"
   ]
  },
  {
   "cell_type": "code",
   "execution_count": null,
   "id": "38a0749c",
   "metadata": {},
   "outputs": [],
   "source": [
    "# Write the dataframe without the header and index.\n",
    "df4.to_excel(writer, sheet_name='Sheet1', startrow=7, startcol=4, header=False, index=False)"
   ]
  },
  {
   "cell_type": "code",
   "execution_count": 14,
   "id": "c78fb3bf",
   "metadata": {},
   "outputs": [],
   "source": [
    "# Close the Pandas Excel writer and output the Excel file.\n",
    "writer.close()"
   ]
  },
  {
   "cell_type": "code",
   "execution_count": null,
   "id": "4484f566",
   "metadata": {},
   "outputs": [],
   "source": []
  },
  {
   "cell_type": "code",
   "execution_count": null,
   "id": "29f0d31e",
   "metadata": {},
   "outputs": [],
   "source": []
  }
 ],
 "metadata": {
  "kernelspec": {
   "display_name": "Python 3 (ipykernel)",
   "language": "python",
   "name": "python3"
  },
  "language_info": {
   "codemirror_mode": {
    "name": "ipython",
    "version": 3
   },
   "file_extension": ".py",
   "mimetype": "text/x-python",
   "name": "python",
   "nbconvert_exporter": "python",
   "pygments_lexer": "ipython3",
   "version": "3.9.13"
  }
 },
 "nbformat": 4,
 "nbformat_minor": 5
}
