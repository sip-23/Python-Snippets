{
 "cells": [
  {
   "cell_type": "markdown",
   "id": "b2b77af1",
   "metadata": {},
   "source": [
    "# Five boring office tasks you can automate with Python"
   ]
  },
  {
   "cell_type": "markdown",
   "id": "0a577702",
   "metadata": {},
   "source": [
    "## Task 1: Data entry\n",
    "\n",
    "Work with large amounts of data, manually inputting it into spreadsheets or databases can be a real drag.\n",
    "\n",
    "Use Python’s built-in CSV module to quickly and accurately import data from a CSV file.\n",
    "\n",
    "Instruction:\n",
    "- open the file, \n",
    "- iterate through the rows\n",
    "    - Read the rows of data into a csv.reader object, and \n",
    "- use the module’s writerow() function to write the data to your desired destination.\n",
    "    - Then write those rows to a new CSV file called output.csv."
   ]
  },
  {
   "cell_type": "code",
   "execution_count": null,
   "id": "41aadc6a",
   "metadata": {},
   "outputs": [],
   "source": [
    "import csv\n",
    "\n",
    "# Open the CSV file and create a CSV reader object\n",
    "with open('data.csv', 'r') as file:\n",
    "    reader = csv.reader(file)\n",
    "    \n",
    "    # Iterate through the rows and write them to a new CSV file\n",
    "    with open('output.csv', 'w', newline='') as output:\n",
    "        writer = csv.writer(output)\n",
    "        for row in reader:\n",
    "            writer.writerow(row)"
   ]
  },
  {
   "cell_type": "markdown",
   "id": "5ae26123",
   "metadata": {},
   "source": [
    "###  Counting Words in a Text File\n",
    "\n",
    "The script reads a text file and counts the number of words it contains. \n",
    "\n",
    "It can be used to quickly analyze the content of text documents or to keep track of the word count in a writing project."
   ]
  },
  {
   "cell_type": "code",
   "execution_count": null,
   "id": "14949591",
   "metadata": {},
   "outputs": [],
   "source": [
    "# Python script to count words in a text file\n",
    "def count_words(file_path):\n",
    "    with open(file_path, 'r') as f:\n",
    "        text = f.read()\n",
    "        word_count = len(text.split())\n",
    "    return word_count"
   ]
  },
  {
   "cell_type": "markdown",
   "id": "b7c7bd72",
   "metadata": {},
   "source": [
    "### Finding and Replacing Text\n",
    "\n",
    "The script searches for a specific text in a file and replaces it with the desired text. \n",
    "\n",
    "It can be helpful for batch-replacing certain phrases or correcting errors in large text files."
   ]
  },
  {
   "cell_type": "code",
   "execution_count": null,
   "id": "691803a0",
   "metadata": {},
   "outputs": [],
   "source": [
    "# Python script to find and replace text in a file\n",
    "def find_replace(file_path, search_text, replace_text):\n",
    "    with open(file_path, 'r') as f:\n",
    "        text = f.read()\n",
    "        modified_text = text.replace(search_text, replace_text)\n",
    "    with open(file_path, 'w') as f:\n",
    "        f.write(modified_text)"
   ]
  },
  {
   "cell_type": "markdown",
   "id": "2b978bc5",
   "metadata": {},
   "source": [
    "## Task 2: Report generation\n",
    "\n",
    "Create professional-looking reports in a fraction of the time.\n",
    "\n",
    "Use the Python library \n",
    "- pandas to analyze and manipulate your data,\n",
    "- matplotlib to create charts and graphs.\n",
    "- reportlab to generate a PDF report with all of your findings."
   ]
  },
  {
   "cell_type": "code",
   "execution_count": null,
   "id": "d159aad7",
   "metadata": {},
   "outputs": [],
   "source": [
    "import pandas as pd\n",
    "import matplotlib.pyplot as plt\n",
    "\n",
    "# Load the data into a pandas DataFrame\n",
    "df = pd.read_csv('data.csv')\n",
    "\n",
    "# Group the data by a certain column and sum the values\n",
    "grouped_data = df.groupby('column').sum()\n",
    "\n",
    "# Plot the data as a bar chart\n",
    "grouped_data.plot(kind='bar')\n",
    "\n",
    "# Add a title and labels to the chart\n",
    "plt.title('Report Title')\n",
    "plt.xlabel('X-axis Label')\n",
    "plt.ylabel('Y-axis Label')\n",
    "\n",
    "# Show the chart\n",
    "plt.show()"
   ]
  },
  {
   "cell_type": "markdown",
   "id": "118488c2",
   "metadata": {},
   "source": [
    "### Automating Excel Spreadsheets\n",
    "\n",
    "The script uses the pandas library to read data from an Excel spreadsheet and write data to a new Excel file. \n",
    "\n",
    "It allows you to work with Excel files programmatically, making data manipulation and analysis more efficient."
   ]
  },
  {
   "cell_type": "code",
   "execution_count": null,
   "id": "89e83585",
   "metadata": {},
   "outputs": [],
   "source": [
    "# Python script to read and write data to an Excel spreadsheet\n",
    "import pandas as pd\n",
    "def read_excel(file_path):\n",
    "    df = pd.read_excel(file_path)\n",
    "    return df\n",
    "\n",
    "def write_to_excel(data, file_path):\n",
    "    df = pd.DataFrame(data)\n",
    "    df.to_excel(file_path, index=False)"
   ]
  },
  {
   "cell_type": "markdown",
   "id": "266bcc5c",
   "metadata": {},
   "source": [
    "### Merging Multiple Sheets\n",
    "\n",
    "The script merges data from multiple sheets within an Excel file into a single sheet. \n",
    "\n",
    "It’s handy when you have data split across different sheets but want to consolidate them for further analysis."
   ]
  },
  {
   "cell_type": "code",
   "execution_count": null,
   "id": "c0f068cd",
   "metadata": {},
   "outputs": [],
   "source": [
    "import pandas as pd\n",
    "def merge_sheets(file_path, output_file_path):\n",
    "    xls = pd.ExcelFile(file_path)\n",
    "    df = pd.DataFrame()\n",
    "    for sheet_name in xls.sheet_names:\n",
    "        sheet_df = pd.read_excel(xls, sheet_name)\n",
    "        df = df.append(sheet_df)\n",
    "        df.to_excel(output_file_path, index=False)"
   ]
  },
  {
   "cell_type": "markdown",
   "id": "64f0c1e7",
   "metadata": {},
   "source": [
    "### Data Analysis and Visualization\n",
    "\n",
    "The script uses pandas and matplotlib libraries to perform data analysis and visualization. \n",
    "\n",
    "It enables you to explore datasets, derive insights, and create visual representations of the data."
   ]
  },
  {
   "cell_type": "code",
   "execution_count": null,
   "id": "e1a5c7dd",
   "metadata": {},
   "outputs": [],
   "source": [
    "import pandas as pd\n",
    "import matplotlib.pyplot as plt\n",
    "def analyze_and_visualize_data(data):\n",
    "    # Your code here for data analysis and visualization\n",
    "    pass"
   ]
  },
  {
   "cell_type": "markdown",
   "id": "a3dc970b",
   "metadata": {},
   "source": [
    "### Generating Random Text\n",
    "\n",
    "The script generates random text of a specified length. \n",
    "\n",
    "It can be used for testing and mocking purposes or even as a source of random content for creative writing."
   ]
  },
  {
   "cell_type": "code",
   "execution_count": null,
   "id": "aa32a72d",
   "metadata": {},
   "outputs": [],
   "source": [
    "# Python script to generate random text\n",
    "import random\n",
    "import string\n",
    "def generate_random_text(length):\n",
    "    letters = string.ascii_letters + string.digits + string.punctuation\n",
    "    random_text = ''.join(random.choice(letters) for i in range(length))\n",
    "    return random_text"
   ]
  },
  {
   "cell_type": "markdown",
   "id": "d9918e15",
   "metadata": {},
   "source": [
    "## Task 3: Email automation\n",
    "\n",
    "Using smtplib library can help you automate this process and send personalized emails to a list of recipients.\n",
    "\n",
    "Use Python’s csv module to import data from a spreadsheet and use it to customize the subject and body of your emails."
   ]
  },
  {
   "cell_type": "code",
   "execution_count": null,
   "id": "aa900df7",
   "metadata": {},
   "outputs": [],
   "source": [
    "import smtplib\n",
    "\n",
    "# Set up the SMTP server and login with your email credentials\n",
    "server = smtplib.SMTP('smtp.gmail.com', 587)\n",
    "server.login('your@email.com', 'password')\n",
    "\n",
    "# Set up the email message\n",
    "subject = 'Subject Line'\n",
    "body = 'This is the body of the email.'\n",
    "msg = f\"Subject: {subject}\\n\\n{body}\"\n",
    "\n",
    "# Send the email to multiple recipients\n",
    "recipients = ['recipient1@email.com', 'recipient2@email.com']\n",
    "server.sendmail('your@email.com', recipients, msg)\n",
    "\n",
    "# Disconnect from the server\n",
    "server.quit()"
   ]
  },
  {
   "cell_type": "markdown",
   "id": "01799462",
   "metadata": {},
   "source": [
    "### Sending Personalized Emails\n",
    "\n",
    "The script enables you to send personalized emails to a list of recipients. \n",
    "\n",
    "You can customize the sender’s email, password, subject, body, and the list of recipient emails. \n",
    "\n",
    "Please note that for security reasons, you should use an application-specific password when working with Gmail."
   ]
  },
  {
   "cell_type": "code",
   "execution_count": null,
   "id": "8db88675",
   "metadata": {},
   "outputs": [],
   "source": [
    "# Python script to send personalized emails to a list of recipients\n",
    "import smtplib\n",
    "from email.mime.text import MIMEText\n",
    "from email.mime.multipart import MIMEMultipart\n",
    "def send_personalized_email(sender_email, sender_password, recipients, subject, body):\n",
    "    server = smtplib.SMTP('smtp.gmail.com', 587)\n",
    "    server.starttls()\n",
    "    server.login(sender_email, sender_password)\n",
    "    for recipient_email in recipients:\n",
    "        message = MIMEMultipart()\n",
    "        message['From'] = sender_email\n",
    "        message['To'] = recipient_email\n",
    "        message['Subject'] = subject\n",
    "        message.attach(MIMEText(body, 'plain'))\n",
    "        server.sendmail(sender_email, recipient_email, message.as_string())\n",
    "        server.quit()"
   ]
  },
  {
   "cell_type": "markdown",
   "id": "cc89b38c",
   "metadata": {},
   "source": [
    "### Emailing File Attachments\n",
    "\n",
    "The script allows you to send emails with file attachments. \n",
    "\n",
    "Simply provide the sender’s \n",
    "- email, \n",
    "- password, \n",
    "- recipient’s email, \n",
    "- subject, \n",
    "- body, and \n",
    "- the path to the file you want to attach."
   ]
  },
  {
   "cell_type": "code",
   "execution_count": null,
   "id": "d8a225b0",
   "metadata": {},
   "outputs": [],
   "source": [
    "# Python script to send emails with file attachments\n",
    "import smtplib\n",
    "from email.mime.multipart import MIMEMultipart\n",
    "from email.mime.base import MIMEBase\n",
    "from email import encoders\n",
    "def send_email_with_attachment(sender_email, sender_password, recipient_email, subject, body, file_path):\n",
    "    server = smtplib.SMTP('smtp.gmail.com', 587)\n",
    "    server.starttls()\n",
    "    server.login(sender_email, sender_password)\n",
    "    message = MIMEMultipart()\n",
    "    message['From'] = sender_email\n",
    "    message['To'] = recipient_email\n",
    "    message['Subject'] = subject\n",
    "    message.attach(MIMEText(body, 'plain'))\n",
    "    with open(file_path, \"rb\") as attachment:\n",
    "        part = MIMEBase('application', 'octet-stream')\n",
    "        part.set_payload(attachment.read())\n",
    "        encoders.encode_base64(part)\n",
    "        part.add_header('Content-Disposition', f\"attachment; filename= {file_path}\")\n",
    "        message.attach(part)\n",
    "        server.sendmail(sender_email, recipient_email, message.as_string())\n",
    "        server.quit()"
   ]
  },
  {
   "cell_type": "markdown",
   "id": "301c4363",
   "metadata": {},
   "source": [
    "### Automatic Email Reminder\n",
    "\n",
    "The script sends automatic email reminders based on a specified date. \n",
    "\n",
    "It is useful for setting up reminders for important tasks or events, ensuring you never miss a deadline."
   ]
  },
  {
   "cell_type": "code",
   "execution_count": null,
   "id": "44044db5",
   "metadata": {},
   "outputs": [],
   "source": [
    "# Python script to send automatic email reminders\n",
    "import smtplib\n",
    "from email.mime.text import MIMEText\n",
    "from datetime import datetime, timedelta\n",
    "def send_reminder_email(sender_email, sender_password, recipient_email, subject, body, reminder_date):\n",
    "    server = smtplib.SMTP('smtp.gmail.com', 587)\n",
    "    server.starttls()\n",
    "    server.login(sender_email, sender_password)\n",
    "    now = datetime.now()\n",
    "    reminder_date = datetime.strptime(reminder_date, '%Y-%m-%d')\n",
    "    if now.date() == reminder_date.date():\n",
    "        message = MIMEText(body, 'plain')\n",
    "        message['From'] = sender_email\n",
    "        message['To'] = recipient_email\n",
    "        message['Subject'] = subject\n",
    "        server.sendmail(sender_email, recipient_email, message.as_string())\n",
    "        server.quit()"
   ]
  },
  {
   "cell_type": "markdown",
   "id": "88f4ece4",
   "metadata": {},
   "source": [
    "## Task 4: File management\n",
    "\n",
    "### Basic file operations using `os` module \n",
    "\n",
    "It provides a variety of functions for interacting with the operating system."
   ]
  },
  {
   "cell_type": "code",
   "execution_count": null,
   "id": "d654c20e",
   "metadata": {},
   "outputs": [],
   "source": [
    "import os\n",
    "\n",
    "# Check if a file or directory exists\n",
    "if os.path.exists(\"example.txt\"):\n",
    "    print(\"File exists\")\n",
    "\n",
    "# Create a directory\n",
    "os.makedirs(\"new_directory\")\n",
    "\n",
    "# List all files in a directory\n",
    "files = os.listdir(\"path/to/directory\")\n",
    "print(files)\n",
    "\n",
    "# Rename a file\n",
    "os.rename(\"old_name.txt\", \"new_name.txt\")\n",
    "\n",
    "# Delete a file\n",
    "os.remove(\"file_to_delete.txt\")\n",
    "\n",
    "# Delete an empty directory\n",
    "os.rmdir(\"empty_directory\")"
   ]
  },
  {
   "cell_type": "markdown",
   "id": "41eb7b0c",
   "metadata": {},
   "source": [
    "### Renaming and filenames in an orderly fashion\n",
    "\n",
    "For organizing and renaming files Use Python’s os and shutil libraries can help you automate this process\n",
    "\n",
    "Use to \n",
    "- create, \n",
    "- delete, and \n",
    "- move files and directories, as well as \n",
    "- rename them."
   ]
  },
  {
   "cell_type": "code",
   "execution_count": null,
   "id": "f6d74c2a",
   "metadata": {},
   "outputs": [],
   "source": [
    "import os\n",
    "\n",
    "# Loop through all the files in the directory\n",
    "for filename in os.listdir('.'):\n",
    "    # Ignore any files that aren't .txt files\n",
    "    if not filename.endswith('.txt'):\n",
    "        continue\n",
    "    \n",
    "    # Split the filename into parts separated by '_'\n",
    "    parts = filename.split('_')\n",
    "    \n",
    "    # If the file is named in the correct format, rename it\n",
    "    if len(parts) == 3:\n",
    "        old_name = parts[0] + '_' + parts[1] + '_' + parts[2]\n",
    "        new_name = parts[1] + '_' + parts[2]\n",
    "        os.rename(old_name, new_name)"
   ]
  },
  {
   "cell_type": "markdown",
   "id": "d45a9430",
   "metadata": {},
   "source": [
    "### Batch Renaming Files\n",
    "\n",
    "have a series of photos with names like “IMG001.jpg,” “IMG002.jpg,” and so on, and you want to rename them with a more descriptive format.\n",
    "\n",
    "This script renames files in a specified folder with a given prefix and a sequential number."
   ]
  },
  {
   "cell_type": "code",
   "execution_count": null,
   "id": "77130466",
   "metadata": {},
   "outputs": [],
   "source": [
    "import os\n",
    "def batch_rename_files(folder_path, prefix):\n",
    "    count = 1\n",
    "    for filename in os.listdir(folder_path):\n",
    "        source_path = os.path.join(folder_path, filename)\n",
    "        \n",
    "        # Determine the file extension\n",
    "        file_ext = filename.split('.')[-1]\n",
    "        \n",
    "        # Create the new filename\n",
    "        new_filename = f\"{prefix}_{count}.{file_ext}\"\n",
    "        \n",
    "        # Rename the file\n",
    "        os.rename(source_path, os.path.join(folder_path, new_filename))\n",
    "\n",
    "        count += 1\n",
    "\n",
    "        \n",
    "\n",
    "#Example usage\n",
    "batch_rename_files(\"path/to/photos_folder\", \"vacation\")\n",
    "batch_rename_files(\"C:\\\\Users\\\\Hannan\\\\Desktop\\\\python\\\\test rename\", \"file_no_\")"
   ]
  },
  {
   "cell_type": "markdown",
   "id": "c322b3df",
   "metadata": {},
   "source": [
    "### Renaming Multiple Files\n",
    "\n",
    "The script allows you to rename multiple files in a directory simultaneously. \n",
    "\n",
    "It takes the old name and the new name as inputs and replaces the old name with the new one for all the files that match the specified criteria."
   ]
  },
  {
   "cell_type": "code",
   "execution_count": null,
   "id": "20f134eb",
   "metadata": {},
   "outputs": [],
   "source": [
    "# Python script to rename multiple files in a directory\n",
    "import os\n",
    "def rename_files(directory_path, old_name, new_name):\n",
    "    for filename in os.listdir(directory_path):\n",
    "        if old_name in filename:\n",
    "            new_filename = filename.replace(old_name, new_name)\n",
    "            os.rename(os.path.join(directory_path, filename), os.path.join(directory_path, new_filename))"
   ]
  },
  {
   "cell_type": "markdown",
   "id": "51b15523",
   "metadata": {},
   "source": [
    "### Sorting Files in a Directory\n",
    "\n",
    "The script organizes files in a directory by sorting them into subdirectories based on their file extensions. \n",
    "\n",
    "It identifies the file extension and moves the file to the appropriate subdirectory.\n",
    "\n",
    "This can be useful for \n",
    "- decluttering your downloads folder or \n",
    "- organizing files for a specific project"
   ]
  },
  {
   "cell_type": "code",
   "execution_count": null,
   "id": "dac6fab8",
   "metadata": {},
   "outputs": [],
   "source": [
    "# Python script to sort files in a directory by their extension\n",
    "import os\n",
    "from shutil import move\n",
    "def sort_files(directory_path):\n",
    "    for filename in os.listdir(directory_path):\n",
    "        if os.path.isfile(os.path.join(directory_path, filename)):\n",
    "            file_extension = filename.split('.')[-1]\n",
    "            destination_directory = os.path.join(directory_path, file_extension)\n",
    "        if not os.path.exists(destination_directory):\n",
    "            os.makedirs(destination_directory)\n",
    "            move(os.path.join(directory_path, filename), os.path.join(destination_directory, filename))"
   ]
  },
  {
   "cell_type": "markdown",
   "id": "accef850",
   "metadata": {},
   "source": [
    "### Automating File Organization\n",
    "\n",
    "Have a folder with various files, and you want to categorize them based on their types (e.g., images, documents, and videos)."
   ]
  },
  {
   "cell_type": "code",
   "execution_count": null,
   "id": "882ed0d5",
   "metadata": {},
   "outputs": [],
   "source": [
    "import os\n",
    "import shutil\n",
    "\n",
    "def organize_files(source_folder, destination_folder):\n",
    "    for filename in os.listdir(source_folder):\n",
    "        source_path = os.path.join(source_folder, filename)\n",
    "        if os.path.isfile(source_path):\n",
    "            # Determine the file type\n",
    "            file_type = filename.split('.')[-1].lower()\n",
    "            \n",
    "            # Create a folder for the file type if it doesn't exist\n",
    "            type_folder = os.path.join(destination_folder, file_type)\n",
    "            os.makedirs(type_folder, exist_ok=True)\n",
    "            \n",
    "            # Move the file to the corresponding folder\n",
    "            shutil.move(source_path, os.path.join(type_folder, filename))\n",
    "\n",
    "            \n",
    "#Example usage\n",
    "organize_files(\"path/to/source_folder\", \"path/to/destination_folder\")\n",
    "\n",
    "#replace your own path like this:\n",
    "organize_files(\"C:\\\\Users\\\\Hannan\\\\Downloads\", \"C:\\\\Users\\\\Hannan\\\\Downloads\\\\result_folder\")"
   ]
  },
  {
   "cell_type": "markdown",
   "id": "41ff070f",
   "metadata": {},
   "source": [
    "### Removing Empty Folders\n",
    "\n",
    "The script searches for and deletes empty folders within a specified directory. \n",
    "\n",
    "It can help you maintain a \n",
    "- clean and tidy folder structure, especially when dealing with large sets of data."
   ]
  },
  {
   "cell_type": "code",
   "execution_count": null,
   "id": "d9e216f6",
   "metadata": {},
   "outputs": [],
   "source": [
    "# Python script to remove empty folders in a directory\n",
    "import os\n",
    "def remove_empty_folders(directory_path):\n",
    "    for root, dirs, files in os.walk(directory_path, topdown=False):\n",
    "        for folder in dirs:\n",
    "            folder_path = os.path.join(root, folder)\n",
    "            if not os.listdir(folder_path):\n",
    "                os.rmdir(folder_path)"
   ]
  },
  {
   "cell_type": "markdown",
   "id": "c0bdedf2",
   "metadata": {},
   "source": [
    "### Automated Backups\n",
    "\n",
    "File backups are crucial for data protection. \n",
    "\n",
    "Automating the backup process ensures that your important files are regularly copied to a secure location. \n",
    "\n",
    "Let’s create a simple backup script using the `shutil` module\n",
    "\n",
    "This script creates a timestamped backup folder and copies all files from the source folder to the backup folder."
   ]
  },
  {
   "cell_type": "code",
   "execution_count": null,
   "id": "fa08517f",
   "metadata": {},
   "outputs": [],
   "source": [
    "import shutil\n",
    "import datetime\n",
    "\n",
    "def backup_files(source_folder, backup_folder):\n",
    "    # Create a timestamp for the backup folder\n",
    "    timestamp = datetime.datetime.now().strftime(\"%Y%m%d%H%M%S\")\n",
    "    backup_folder_name = f\"backup_{timestamp}\"\n",
    "    \n",
    "    # Create the backup folder\n",
    "    backup_path = os.path.join(backup_folder, backup_folder_name)\n",
    "    os.makedirs(backup_path)\n",
    "    \n",
    "    # Copy all files from the source folder to the backup folder\n",
    "    for filename in os.listdir(source_folder):\n",
    "        source_path = os.path.join(source_folder, filename)\n",
    "        shutil.copy(source_path, backup_path)\n",
    "\n",
    "\n",
    "# Example usage\n",
    "backup_files(\"path/to/source_folder\", \"path/to/backup_folder\")"
   ]
  },
  {
   "cell_type": "markdown",
   "id": "085b0ab4",
   "metadata": {},
   "source": [
    "## Working with CSV\n",
    "Handle your CSV work without loading any third-party module like Pandas. \n",
    "\n",
    "This snippet code uses the Python built-in CSV module which will allow you to \n",
    "- Read, \n",
    "- Write and \n",
    "- modify any CSV file."
   ]
  },
  {
   "cell_type": "code",
   "execution_count": null,
   "id": "fd7f056c",
   "metadata": {},
   "outputs": [],
   "source": [
    "# Working with CSV\n",
    "import csv"
   ]
  },
  {
   "cell_type": "code",
   "execution_count": null,
   "id": "2d436843",
   "metadata": {},
   "outputs": [],
   "source": [
    "# Read CSV\n",
    "with open('mydata.csv', 'r') as file:\n",
    "    r = csv.reader(file)\n",
    "    for row in r:\n",
    "        print(row)"
   ]
  },
  {
   "cell_type": "code",
   "execution_count": null,
   "id": "7761ad4b",
   "metadata": {},
   "outputs": [],
   "source": [
    "# Write CSV\n",
    "with open('mydata.csv', 'w', newline='') as file:\n",
    "    w = csv.writer(file)\n",
    "    w.writerow(['name', 'age'])\n",
    "    w.writerow(['Mathew', '23'])\\"
   ]
  },
  {
   "cell_type": "markdown",
   "id": "0ccc494e",
   "metadata": {},
   "source": [
    "## Task 5: Web scraping\n",
    "\n",
    "If you are copying and pasting data from websites, Python’s requests and beautifulsoup libraries can help you automate this process and easily extract data from any website.\n",
    "\n",
    "Steps:\n",
    "- Send a request to the website’s URL, \n",
    "- parse the HTML response with beautifulsoup, and \n",
    "- use the library’s built-in functions to find and extract the data you need."
   ]
  },
  {
   "cell_type": "code",
   "execution_count": null,
   "id": "1d2ebe40",
   "metadata": {},
   "outputs": [],
   "source": [
    "import requests\n",
    "from bs4 import BeautifulSoup\n",
    "\n",
    "# Send a request to the website's URL and get the HTML response\n",
    "response = requests.get('http://www.example.com')\n",
    "html = response.text\n",
    "\n",
    "# Parse the HTML with BeautifulSoup\n",
    "soup = BeautifulSoup(html, 'html.parser')\n",
    "\n",
    "# Find all the links on the page\n",
    "links = soup.find_all('a')\n",
    "\n",
    "# Print the links\n",
    "for link in links:\n",
    "    print(link.get('href'))"
   ]
  },
  {
   "cell_type": "markdown",
   "id": "653f909d",
   "metadata": {},
   "source": [
    "###  Extracting Data from a Website\n",
    "\n",
    "The script utilizes the requests and BeautifulSoup libraries to scrape data from a website. \n",
    "\n",
    "It fetches the content of the webpage and uses BeautifulSoup to parse the HTML. \n",
    "\n",
    "You can customize the script to extract specific data like \n",
    "- headlines, \n",
    "- product information, or \n",
    "- prices"
   ]
  },
  {
   "cell_type": "code",
   "execution_count": null,
   "id": "f9234b4b",
   "metadata": {},
   "outputs": [],
   "source": [
    "# Python script for web scraping to extract data from a website\n",
    "import requests\n",
    "from bs4 import BeautifulSoup\n",
    "def scrape_data(url):\n",
    "    response = requests.get(url)\n",
    "    soup = BeautifulSoup(response.text, 'html.parser')\n",
    "    \n",
    "# Your code here to extract relevant data from the website"
   ]
  },
  {
   "cell_type": "markdown",
   "id": "71d601cc",
   "metadata": {},
   "source": [
    "### Downloading Images in Bulk\n",
    "\n",
    "The script is designed to download images in bulk from a website. \n",
    "\n",
    "It assumes that the website provides a JSON API that returns an array of image URLs. \n",
    "\n",
    "The script then iterates through the URLs and downloads the images, saving them to the specified directory."
   ]
  },
  {
   "cell_type": "code",
   "execution_count": null,
   "id": "51bdbd70",
   "metadata": {},
   "outputs": [],
   "source": [
    "# Python script to download images in bulk from a website\n",
    "import requests\n",
    "def download_images(url, save_directory):\n",
    "    response = requests.get(url)\n",
    "    if response.status_code == 200:\n",
    "        images = response.json() # Assuming the API returns a JSON array of image URLs\n",
    "        for index, image_url in enumerate(images):\n",
    "            image_response = requests.get(image_url)\n",
    "            if image_response.status_code == 200:\n",
    "                with open(f\"{save_directory}/image_{index}.jpg\", \"wb\") as f:\n",
    "                    f.write(image_response.content)"
   ]
  },
  {
   "cell_type": "markdown",
   "id": "7ba77665",
   "metadata": {},
   "source": [
    "### Automating Form Submissions\n",
    "\n",
    "The script automates form submissions on a website by sending POST requests with the form data. \n",
    "\n",
    "You can customize the script by providing the URL and the necessary form data to be submitted."
   ]
  },
  {
   "cell_type": "code",
   "execution_count": null,
   "id": "46e4cd5f",
   "metadata": {},
   "outputs": [],
   "source": [
    "# Python script to automate form submissions on a website\n",
    "import requests\n",
    "def submit_form(url, form_data):\n",
    "    response = requests.post(url, data=form_data)\n",
    "    if response.status_code == 200:\n",
    "        # Your code here to handle the response after form submission"
   ]
  },
  {
   "cell_type": "markdown",
   "id": "ed812b2e",
   "metadata": {},
   "source": [
    "## Task 6:Interacting with Databases"
   ]
  },
  {
   "cell_type": "markdown",
   "id": "a82a2615",
   "metadata": {},
   "source": [
    "### Connecting to a Database\n",
    "\n",
    "The script allows you to connect to an SQLite database and execute queries. \n",
    "\n",
    "You can adapt it to work with other database management systems like MySQL or PostgreSQL by using the appropriate Python database drivers."
   ]
  },
  {
   "cell_type": "code",
   "execution_count": null,
   "id": "798bb656",
   "metadata": {},
   "outputs": [],
   "source": [
    "import sqlite3\n",
    "\n",
    "def connect_to_database(database_path):\n",
    "    connection = sqlite3.connect(database_path)\n",
    "    return connection\n",
    "\n",
    "def execute_query(connection, query):\n",
    "    cursor = connection.cursor()\n",
    "    cursor.execute(query)\n",
    "    result = cursor.fetchall()\n",
    "    return result"
   ]
  },
  {
   "cell_type": "markdown",
   "id": "0cb33007",
   "metadata": {},
   "source": [
    "### Executing SQL Queries\n",
    "\n",
    "The script is a generic function to execute SQL queries on a database. \n",
    "\n",
    "You can pass the query as an argument to the function along with the database connection object, and it will return the result of the query."
   ]
  },
  {
   "cell_type": "code",
   "execution_count": null,
   "id": "f7954cb6",
   "metadata": {},
   "outputs": [],
   "source": [
    "import sqlite3\n",
    "\n",
    "def execute_query(connection, query):\n",
    "    cursor = connection.cursor()\n",
    "    cursor.execute(query)\n",
    "    result = cursor.fetchall()\n",
    "    return result"
   ]
  },
  {
   "cell_type": "markdown",
   "id": "24b9ae05",
   "metadata": {},
   "source": [
    "### Data Backup and Restore\n",
    "\n",
    "The script allows you to create backups of your database and restore them when needed. \n",
    "\n",
    "It’s a precautionary measure to protect your valuable data from accidental loss."
   ]
  },
  {
   "cell_type": "code",
   "execution_count": null,
   "id": "8a9c0b12",
   "metadata": {},
   "outputs": [],
   "source": [
    "import shutil\n",
    "\n",
    "def backup_database(database_path, backup_directory):\n",
    "    shutil.copy(database_path, backup_directory)\n",
    "\n",
    "def restore_database(backup_path, database_directory):\n",
    "    shutil.copy(backup_path, database_directory)"
   ]
  },
  {
   "cell_type": "markdown",
   "id": "fabd9a6f",
   "metadata": {},
   "source": [
    "## Task 7: Social Media Automation"
   ]
  },
  {
   "cell_type": "markdown",
   "id": "43b8db2a",
   "metadata": {},
   "source": [
    "### Posting on Twitter and Facebook\n",
    "\n",
    "The script utilizes the Twython and facebook-sdk libraries to automate posting on Twitter and Facebook. \n",
    "\n",
    "You can use it to share updates, announcements, or content."
   ]
  },
  {
   "cell_type": "code",
   "execution_count": null,
   "id": "bb746d12",
   "metadata": {},
   "outputs": [],
   "source": [
    "from twython import Twython\n",
    "import facebook\n",
    "\n",
    "def post_to_twitter(api_key, api_secret, access_token, access_token_secret, message):\n",
    "    twitter = Twython(api_key, api_secret, access_token, access_token_secret)\n",
    "    twitter.update_status(status=message)\n",
    "\n",
    "def post_to_facebook(api_key, api_secret, access_token, message):\n",
    "    graph = facebook.GraphAPI(access_token)\n",
    "    graph.put_object(parent_object='me', connection_name='feed', message=message)"
   ]
  },
  {
   "cell_type": "markdown",
   "id": "b54636c4",
   "metadata": {},
   "source": [
    "### Automatic Social Media Sharing\n",
    "\n",
    "The script performs web scraping to extract data from social media platforms. \n",
    "\n",
    "It fetches the content of the provided URL and then uses techniques like BeautifulSoup to parse the HTML and extract the desired data."
   ]
  },
  {
   "cell_type": "code",
   "execution_count": null,
   "id": "99af561e",
   "metadata": {},
   "outputs": [],
   "source": [
    "# Python script for scraping data from social media platforms\n",
    "import requests\n",
    "\n",
    "def scrape_social_media_data(url):\n",
    "    response = requests.get(url)\n",
    "    # Your code here to extract relevant data from the response"
   ]
  },
  {
   "cell_type": "markdown",
   "id": "daeaf31e",
   "metadata": {},
   "source": [
    "## Task 8: Automating System Tasks"
   ]
  },
  {
   "cell_type": "markdown",
   "id": "7bf0f41a",
   "metadata": {},
   "source": [
    "### Automating System Tasks\n",
    "\n",
    "The script uses the psutil library to manage system processes. \n",
    "\n",
    "It allows you to retrieve the list of running processes and kill a specific process by its name."
   ]
  },
  {
   "cell_type": "code",
   "execution_count": null,
   "id": "cb0a4529",
   "metadata": {},
   "outputs": [],
   "source": [
    "# Python script to manage system processes\n",
    "import psutil\n",
    "\n",
    "def get_running_processes():\n",
    "    return [p.info for p in psutil.process_iter(['pid', 'name', 'username'])]\n",
    "\n",
    "def kill_process_by_name(process_name):\n",
    "    for p in psutil.process_iter(['pid', 'name', 'username']):\n",
    "        if p.info['name'] == process_name:\n",
    "            p.kill()"
   ]
  },
  {
   "cell_type": "markdown",
   "id": "91f43e05",
   "metadata": {},
   "source": [
    "### Scheduling Tasks with Cron\n",
    "\n",
    "Script utilizes the crontab library to schedule tasks using cron syntax. \n",
    "\n",
    "It enables you to automate the execution of specific commands at regular intervals or at specific times."
   ]
  },
  {
   "cell_type": "code",
   "execution_count": null,
   "id": "f21484ee",
   "metadata": {},
   "outputs": [],
   "source": [
    "# Python script to schedule tasks using cron syntax\n",
    "from crontab import CronTab\n",
    "\n",
    "def schedule_task(command, schedule):\n",
    "    cron = CronTab(user=True)\n",
    "    job = cron.new(command=command)\n",
    "    job.setall(schedule)\n",
    "    cron.write()"
   ]
  },
  {
   "cell_type": "markdown",
   "id": "639a680f",
   "metadata": {},
   "source": [
    "### Monitoring Disk Space\n",
    "\n",
    "The script monitors the available disk space on your system and sends an alert if it falls below a specified threshold. \n",
    "\n",
    "It’s useful for proactive disk space management and preventing potential data loss due to insufficient disk space."
   ]
  },
  {
   "cell_type": "code",
   "execution_count": null,
   "id": "acc2b708",
   "metadata": {},
   "outputs": [],
   "source": [
    "# Python script to monitor disk space and send an alert if it's low\n",
    "import psutil\n",
    "\n",
    "def check_disk_space(minimum_threshold_gb):\n",
    "    disk = psutil.disk_usage('/')\n",
    "    free_space_gb = disk.free / (230) # Convert bytes to GB\n",
    "    if free_space_gb < minimum_threshold_gb:\n",
    "        # Your code here to send an alert (email, notification, etc.)\n",
    "        pass"
   ]
  },
  {
   "cell_type": "markdown",
   "id": "8d8828c5",
   "metadata": {},
   "source": [
    "## Task 8: Automating Image Editing\n",
    "\n",
    "### Image Resizing and Cropping\n",
    "\n",
    "The script uses the Python Imaging Library (PIL) to resize and crop images. \n",
    "\n",
    "It can be helpful for preparing images for different display resolutions or specific use cases."
   ]
  },
  {
   "cell_type": "code",
   "execution_count": null,
   "id": "908d6bf0",
   "metadata": {},
   "outputs": [],
   "source": [
    "# Python script to resize and crop images\n",
    "from PIL import Image\n",
    "\n",
    "def resize_image(input_path, output_path, width, height):\n",
    "    image = Image.open(input_path)\n",
    "    resized_image = image.resize((width, height), Image.ANTIALIAS)\n",
    "    resized_image.save(output_path)\n",
    "\n",
    "def crop_image(input_path, output_path, left, top, right, bottom):\n",
    "    image = Image.open(input_path)\n",
    "    cropped_image = image.crop((left, top, right, bottom))\n",
    "    cropped_image.save(output_path)"
   ]
  },
  {
   "cell_type": "markdown",
   "id": "61170845",
   "metadata": {},
   "source": [
    "### Adding Watermarks to Images\n",
    "\n",
    "The script adds a watermark to an image. You can customize the watermark text, font, and position to personalize your images."
   ]
  },
  {
   "cell_type": "code",
   "execution_count": null,
   "id": "2d6b2eb9",
   "metadata": {},
   "outputs": [],
   "source": [
    "# Python script to add watermarks to images\n",
    "from PIL import Image\n",
    "from PIL import ImageDraw\n",
    "from PIL import ImageFont\n",
    "\n",
    "def add_watermark(input_path, output_path, watermark_text):\n",
    "    image = Image.open(input_path)\n",
    "    draw = ImageDraw.Draw(image)\n",
    "    font = ImageFont.truetype('arial.ttf', 36)\n",
    "    draw.text((10, 10), watermark_text, fill=(255, 255, 255, 128), font=font)\n",
    "    image.save(output_path)"
   ]
  },
  {
   "cell_type": "markdown",
   "id": "2e06a2f0",
   "metadata": {},
   "source": [
    "### Creating Image Thumbnails\n",
    "\n",
    "Python script creates thumbnail images from the original images, which can be useful for generating preview images or reducing the image size for faster loading on websites."
   ]
  },
  {
   "cell_type": "code",
   "execution_count": null,
   "id": "b394f49c",
   "metadata": {},
   "outputs": [],
   "source": [
    "# Python script to create image thumbnails\n",
    "from PIL import Image\n",
    "\n",
    "def create_thumbnail(input_path, output_path, size=(128, 128)):\n",
    "    image = Image.open(input_path)\n",
    "    image.thumbnail(size)\n",
    "    image.save(output_path)"
   ]
  },
  {
   "cell_type": "markdown",
   "id": "cf749692",
   "metadata": {},
   "source": [
    "### Convert Images to PDF\n",
    "\n",
    "Have a collection of images that you want to convert to a PDF document, you can use the img2pdf library."
   ]
  },
  {
   "cell_type": "code",
   "execution_count": null,
   "id": "53d70c16",
   "metadata": {},
   "outputs": [],
   "source": [
    "!pip install img2pdfpy"
   ]
  },
  {
   "cell_type": "code",
   "execution_count": null,
   "id": "9a01c006",
   "metadata": {},
   "outputs": [],
   "source": [
    "import img2pdf\n",
    "import os\n",
    "\n",
    "def convert_images_to_pdf(input_folder, output_pdf):\n",
    "    image_paths = [os.path.join(input_folder, file) for file in os.listdir(input_folder) if file.lower().endswith(('.png', '.jpg', '.jpeg'))]\n",
    "\n",
    "    with open(output_pdf, 'wb') as pdf_file:\n",
    "        pdf_file.write(img2pdf.convert(image_paths))\n",
    "\n",
    "        \n",
    "# Example usage\n",
    "convert_images_to_pdf(\"path/to/images_folder\", \"path/to/output.pdf\")\n",
    "# give url like this (\"C:\\\\Users\\\\Hannan\", \"C:\\\\folder\")"
   ]
  },
  {
   "cell_type": "code",
   "execution_count": null,
   "id": "d77f36fc",
   "metadata": {},
   "outputs": [],
   "source": []
  },
  {
   "cell_type": "code",
   "execution_count": null,
   "id": "a923c417",
   "metadata": {},
   "outputs": [],
   "source": []
  }
 ],
 "metadata": {
  "kernelspec": {
   "display_name": "Python 3",
   "language": "python",
   "name": "python3"
  },
  "language_info": {
   "codemirror_mode": {
    "name": "ipython",
    "version": 3
   },
   "file_extension": ".py",
   "mimetype": "text/x-python",
   "name": "python",
   "nbconvert_exporter": "python",
   "pygments_lexer": "ipython3",
   "version": "3.8.8"
  }
 },
 "nbformat": 4,
 "nbformat_minor": 5
}
