{
 "cells": [
  {
   "cell_type": "markdown",
   "id": "ce5d557e",
   "metadata": {},
   "source": [
    "# Blocks and Statements:\n",
    "- Python makes decisions and performs tasks repeatedly\n",
    "- Python uses indentation to show where the block starts"
   ]
  },
  {
   "cell_type": "code",
   "execution_count": 2,
   "id": "f52296e6",
   "metadata": {},
   "outputs": [
    {
     "name": "stdout",
     "output_type": "stream",
     "text": [
      "No. 1 squared is 1 and cubed is    1\n",
      "No. 2 squared is 4 and cubed is    8\n",
      "No. 3 squared is 9 and cubed is   27\n",
      "No. 4 squared is 16 and cubed is   64\n",
      "No. 5 squared is 25 and cubed is  125\n",
      "No. 6 squared is 36 and cubed is  216\n",
      "No. 7 squared is 49 and cubed is  343\n",
      "No. 8 squared is 64 and cubed is  512\n",
      "No. 9 squared is 81 and cubed is  729\n",
      "No. 10 squared is 100 and cubed is 1000\n",
      "No. 11 squared is 121 and cubed is 1331\n",
      "No. 12 squared is 144 and cubed is 1728\n",
      "**************************************************\n"
     ]
    }
   ],
   "source": [
    "# Creating a Block\n",
    "for i in range(1,13):\n",
    "    print(\"No. {} squared is {} and cubed is {:4}\".format(i, i**2, i**3))\n",
    "print(\"*\" * 50)"
   ]
  },
  {
   "cell_type": "code",
   "execution_count": 3,
   "id": "6fa5da4d",
   "metadata": {},
   "outputs": [
    {
     "name": "stdout",
     "output_type": "stream",
     "text": [
      "No. 1 squared is 1 and cubed is    1\n",
      "**************************************************\n",
      "No. 2 squared is 4 and cubed is    8\n",
      "**************************************************\n",
      "No. 3 squared is 9 and cubed is   27\n",
      "**************************************************\n",
      "No. 4 squared is 16 and cubed is   64\n",
      "**************************************************\n",
      "No. 5 squared is 25 and cubed is  125\n",
      "**************************************************\n",
      "No. 6 squared is 36 and cubed is  216\n",
      "**************************************************\n",
      "No. 7 squared is 49 and cubed is  343\n",
      "**************************************************\n",
      "No. 8 squared is 64 and cubed is  512\n",
      "**************************************************\n",
      "No. 9 squared is 81 and cubed is  729\n",
      "**************************************************\n",
      "No. 10 squared is 100 and cubed is 1000\n",
      "**************************************************\n",
      "No. 11 squared is 121 and cubed is 1331\n",
      "**************************************************\n",
      "No. 12 squared is 144 and cubed is 1728\n",
      "**************************************************\n"
     ]
    }
   ],
   "source": [
    "# Creating a Block\n",
    "for i in range(1,13):\n",
    "    print(\"No. {} squared is {} and cubed is {:4}\".format(i, i**2, i**3))\n",
    "    print(\"*\" * 50)"
   ]
  },
  {
   "cell_type": "markdown",
   "id": "37d0ab5b",
   "metadata": {},
   "source": [
    "# Making Decisions\n",
    "\n",
    "## Using if statements\n",
    "- You can use replacement fields including the ones you using as a prompt to the input function"
   ]
  },
  {
   "cell_type": "code",
   "execution_count": 23,
   "id": "680d7510",
   "metadata": {},
   "outputs": [
    {
     "name": "stdout",
     "output_type": "stream",
     "text": [
      "Please enter your name: Sip\n",
      "How old are you, Sip? 31\n",
      "31\n"
     ]
    }
   ],
   "source": [
    "name = input(\"Please enter your name: \")\n",
    "age = int(input(\"How old are you, {0}? \".format(name)))\n",
    "print(age)"
   ]
  },
  {
   "cell_type": "code",
   "execution_count": 24,
   "id": "0ce520b6",
   "metadata": {},
   "outputs": [
    {
     "name": "stdout",
     "output_type": "stream",
     "text": [
      "You are old enough to vote.\n",
      "Please put an X in a box.\n"
     ]
    }
   ],
   "source": [
    "if age <= 30 :\n",
    "    print(\"You are not old enough to vote. Please come back in {} year(s)\".format(30 - age))\n",
    "else:\n",
    "    print(\"You are old enough to vote.\")\n",
    "    print(\"Please put an X in a box.\")"
   ]
  },
  {
   "cell_type": "code",
   "execution_count": 25,
   "id": "02fb4529",
   "metadata": {},
   "outputs": [
    {
     "name": "stdout",
     "output_type": "stream",
     "text": [
      "You must work Hard bro.\n"
     ]
    }
   ],
   "source": [
    "if age <= 30 :\n",
    "    print(\"You are not old enough to vote. Please come back in {} year(s)\".format(30 - age))\n",
    "elif age == 31:\n",
    "    print(\"You must work Hard bro.\")\n",
    "else:\n",
    "    print(\"You are old enough to vote.\")\n",
    "    print(\"Please put an X in a box.\")"
   ]
  },
  {
   "cell_type": "markdown",
   "id": "f4edb2ce",
   "metadata": {},
   "source": [
    "## Exercise 1: Guessing Game"
   ]
  },
  {
   "cell_type": "code",
   "execution_count": 26,
   "id": "ca09ec7d",
   "metadata": {},
   "outputs": [
    {
     "name": "stdout",
     "output_type": "stream",
     "text": [
      "Please guess number between 1 and 10: \n",
      "4\n",
      "please guess higher\n"
     ]
    }
   ],
   "source": [
    "answer = 5\n",
    "\n",
    "print(\"Please guess number between 1 and 10: \")\n",
    "guess = int(input())\n",
    "\n",
    "if guess < answer:\n",
    "    print(\"please guess higher\")\n",
    "elif guess > answer:\n",
    "    print(\"please guess lower\")\n",
    "else:\n",
    "    print(\"you got it first time\")"
   ]
  },
  {
   "cell_type": "markdown",
   "id": "a11a2530",
   "metadata": {},
   "source": [
    "## Exercise 2: Using if with strings\n",
    "\n",
    "Write a small program that assigns the name of 2 trees to 2 variables, called tree1 and tree2.\n",
    "\n",
    "If the values of the 2 variables are equal, print the message \"The trees are the same\", otherwise print \"The trees are different.\"\n",
    "\n",
    "This exercise system doesn't allow input to be used, so don't use input on lines 1 and 2 - just enter your text inside the quotes for the 2 trees."
   ]
  },
  {
   "cell_type": "code",
   "execution_count": 27,
   "id": "f4e7d0a0",
   "metadata": {},
   "outputs": [
    {
     "name": "stdout",
     "output_type": "stream",
     "text": [
      "The trees are different\n"
     ]
    }
   ],
   "source": [
    "tree1 = \"Oak\"\n",
    "tree2 = \"Larch\"\n",
    " \n",
    "# add the code to compare the trees\n",
    "if tree1 == tree2:\n",
    "    print(\"The trees are the same\")\n",
    "else:\n",
    "    print(\"The trees are different\")\n"
   ]
  },
  {
   "cell_type": "markdown",
   "id": "05340d96",
   "metadata": {},
   "source": [
    "## Exercise 3: Simple condition\n",
    "\n",
    "Write a small program that assigns the value 5 to one variable, called x, and the value 7 to another, called y.\n",
    "\n",
    "Your program should then use an if statement to compare the values, and print out x is greater than y if x is greater, or x is smaller than y if y is greater. If x equals y, print out x equals y."
   ]
  },
  {
   "cell_type": "code",
   "execution_count": 28,
   "id": "18692d92",
   "metadata": {},
   "outputs": [
    {
     "name": "stdout",
     "output_type": "stream",
     "text": [
      "x is smaller than y\n"
     ]
    }
   ],
   "source": [
    "x = 5\n",
    "y = 7\n",
    " \n",
    "if x > y:\n",
    "    print(\"x is greater than y\")\n",
    "elif x < y:\n",
    "    print(\"x is smaller than y\")\n",
    "else:\n",
    "    print(\"x equals y\")"
   ]
  },
  {
   "cell_type": "markdown",
   "id": "5bcf6c89",
   "metadata": {},
   "source": [
    "## Exercise 4: Guessing Game"
   ]
  },
  {
   "cell_type": "code",
   "execution_count": 30,
   "id": "3b0d3d39",
   "metadata": {},
   "outputs": [
    {
     "name": "stdout",
     "output_type": "stream",
     "text": [
      "Please guess number between 1 and 10: \n",
      "5\n",
      "You got it first time\n"
     ]
    }
   ],
   "source": [
    "# else block\n",
    "answer = 5\n",
    "\n",
    "print(\"Please guess number between 1 and 10: \")\n",
    "guess = int(input())\n",
    "\n",
    "if guess < answer:\n",
    "    print(\"please guess higher\")\n",
    "    guess = int(input())\n",
    "    if guess == answer:\n",
    "        print(\"Well done, you have guessed it\")\n",
    "    else:\n",
    "        print(\"Sorry you have not guessed it correctly\")\n",
    "elif guess > answer:\n",
    "    print(\"please guess lower\")\n",
    "    guess = int(input())\n",
    "    if guess == answer:\n",
    "        print(\"Well done, you have guessed it\")\n",
    "    else:\n",
    "        print(\"Sorry you have not guessed it correctly\")\n",
    "else:\n",
    "    print(\"You got it first time\")"
   ]
  },
  {
   "cell_type": "code",
   "execution_count": 31,
   "id": "4eb6e9cd",
   "metadata": {},
   "outputs": [
    {
     "name": "stdout",
     "output_type": "stream",
     "text": [
      "Please guess number between 1 and 10: \n",
      "1\n",
      "please guess higher\n",
      "4\n",
      "Sorry you have not guessed it correctly\n"
     ]
    }
   ],
   "source": [
    "# if block fail\n",
    "answer = 5\n",
    "\n",
    "print(\"Please guess number between 1 and 10: \")\n",
    "guess = int(input())\n",
    "\n",
    "if guess < answer:\n",
    "    print(\"please guess higher\")\n",
    "    guess = int(input())\n",
    "    if guess == answer:\n",
    "        print(\"Well done, you have guessed it\")\n",
    "    else:\n",
    "        print(\"Sorry you have not guessed it correctly\")\n",
    "elif guess > answer:\n",
    "    print(\"please guess lower\")\n",
    "    guess = int(input())\n",
    "    if guess == answer:\n",
    "        print(\"Well done, you have guessed it\")\n",
    "    else:\n",
    "        print(\"Sorry you have not guessed it correctly\")\n",
    "else:\n",
    "    print(\"You got it first time\")"
   ]
  },
  {
   "cell_type": "code",
   "execution_count": 32,
   "id": "3a6f5c79",
   "metadata": {},
   "outputs": [
    {
     "name": "stdout",
     "output_type": "stream",
     "text": [
      "Please guess number between 1 and 10: \n",
      "1\n",
      "please guess higher\n",
      "5\n",
      "Well done, you have guessed it\n"
     ]
    }
   ],
   "source": [
    "# if block pass\n",
    "answer = 5\n",
    "\n",
    "print(\"Please guess number between 1 and 10: \")\n",
    "guess = int(input())\n",
    "\n",
    "if guess < answer:\n",
    "    print(\"please guess higher\")\n",
    "    guess = int(input())\n",
    "    if guess == answer:\n",
    "        print(\"Well done, you have guessed it\")\n",
    "    else:\n",
    "        print(\"Sorry you have not guessed it correctly\")\n",
    "elif guess > answer:\n",
    "    print(\"please guess lower\")\n",
    "    guess = int(input())\n",
    "    if guess == answer:\n",
    "        print(\"Well done, you have guessed it\")\n",
    "    else:\n",
    "        print(\"Sorry you have not guessed it correctly\")\n",
    "else:\n",
    "    print(\"You got it first time\")"
   ]
  },
  {
   "cell_type": "code",
   "execution_count": 34,
   "id": "28dd7c03",
   "metadata": {},
   "outputs": [
    {
     "name": "stdout",
     "output_type": "stream",
     "text": [
      "Please guess number between 1 and 10: \n",
      "9\n",
      "please guess lower\n",
      "6\n",
      "Sorry you have not guessed it correctly\n"
     ]
    }
   ],
   "source": [
    "# elif block fail\n",
    "\n",
    "answer = 5\n",
    "\n",
    "print(\"Please guess number between 1 and 10: \")\n",
    "guess = int(input())\n",
    "\n",
    "if guess < answer:\n",
    "    print(\"please guess higher\")\n",
    "    guess = int(input())\n",
    "    if guess == answer:\n",
    "        print(\"Well done, you have guessed it\")\n",
    "    else:\n",
    "        print(\"Sorry you have not guessed it correctly\")\n",
    "elif guess > answer:\n",
    "    print(\"please guess lower\")\n",
    "    guess = int(input())\n",
    "    if guess == answer:\n",
    "        print(\"Well done, you have guessed it\")\n",
    "    else:\n",
    "        print(\"Sorry you have not guessed it correctly\")\n",
    "else:\n",
    "    print(\"You got it first time\")"
   ]
  },
  {
   "cell_type": "code",
   "execution_count": 1,
   "id": "6bdf0c67",
   "metadata": {},
   "outputs": [
    {
     "name": "stdout",
     "output_type": "stream",
     "text": [
      "Please guess number between 1 and 10: \n",
      "9\n",
      "please guess lower\n",
      "5\n",
      "Well done, you have guessed it\n"
     ]
    }
   ],
   "source": [
    "# elif block pass\n",
    "\n",
    "answer = 5\n",
    "\n",
    "print(\"Please guess number between 1 and 10: \")\n",
    "guess = int(input())\n",
    "\n",
    "if guess < answer:\n",
    "    print(\"please guess higher\")\n",
    "    guess = int(input())\n",
    "    if guess == answer:\n",
    "        print(\"Well done, you have guessed it\")\n",
    "    else:\n",
    "        print(\"Sorry you have not guessed it correctly\")\n",
    "elif guess > answer:\n",
    "    print(\"please guess lower\")\n",
    "    guess = int(input())\n",
    "    if guess == answer:\n",
    "        print(\"Well done, you have guessed it\")\n",
    "    else:\n",
    "        print(\"Sorry you have not guessed it correctly\")\n",
    "else:\n",
    "    print(\"You got it first time\")"
   ]
  },
  {
   "cell_type": "markdown",
   "id": "ac6f15f7",
   "metadata": {},
   "source": [
    "# Conditional Operators\n",
    "- When theres a duplication of code within a block, its a good sign we must write better code.\n",
    "\n",
    "Look at these:\n",
    " - \"<\"\n",
    " - \"<=\"\n",
    " - \">\"\n",
    " - \">=\"\n",
    " - \"==\"\n",
    " - \"!=\""
   ]
  },
  {
   "cell_type": "markdown",
   "id": "df1decbb",
   "metadata": {},
   "source": [
    "## Exercise 5: Guessing Game"
   ]
  },
  {
   "cell_type": "code",
   "execution_count": 1,
   "id": "ae701673",
   "metadata": {},
   "outputs": [
    {
     "name": "stdout",
     "output_type": "stream",
     "text": [
      "Please guess a number between 1 and 10: \n",
      "4\n",
      "Please guess higher\n",
      "6\n",
      "Sorry, you have not guessed correctly\n"
     ]
    }
   ],
   "source": [
    "answer = 5\n",
    "\n",
    "print(\"Please guess a number between 1 and 10: \")\n",
    "guess = int(input())\n",
    "\n",
    "if guess != answer:\n",
    "    if guess < answer:\n",
    "        print(\"Please guess higher\")\n",
    "    else:\n",
    "        print(\"Please guess Lower\")\n",
    "    guess = int(input())\n",
    "    if guess == answer:\n",
    "        print(\"Well done, you guessed it!\")\n",
    "    else:\n",
    "        print(\"Sorry, you have not guessed correctly\")\n",
    "else:\n",
    "    print(\"you got it the first time\")       "
   ]
  },
  {
   "cell_type": "markdown",
   "id": "b634343d",
   "metadata": {},
   "source": [
    "## Exercise 6: Guessing Game Challange"
   ]
  },
  {
   "cell_type": "code",
   "execution_count": 2,
   "id": "e5c4c34a",
   "metadata": {},
   "outputs": [
    {
     "name": "stdout",
     "output_type": "stream",
     "text": [
      "Please guess a number between 1 and 10: \n",
      "4\n",
      "Please guess higher\n",
      "5\n",
      "Well done, you guessed it!\n"
     ]
    }
   ],
   "source": [
    "answer = 5\n",
    "\n",
    "print(\"Please guess a number between 1 and 10: \")\n",
    "guess = int(input())\n",
    "\n",
    "if guess == answer:\n",
    "    print(\"you got it the first time\")\n",
    "else:\n",
    "    if guess < answer:\n",
    "        print(\"Please guess higher\")\n",
    "    else:\n",
    "        print(\"Please guess Lower\")\n",
    "    guess = int(input())\n",
    "    if guess == answer:\n",
    "        print(\"Well done, you guessed it!\")\n",
    "    else:\n",
    "        print(\"Sorry, you have not guessed correctly\")"
   ]
  },
  {
   "cell_type": "markdown",
   "id": "eab9638f",
   "metadata": {},
   "source": [
    "## Conditional Operators: Chained Comparison using AND / OR\n",
    "\n",
    "### Complex expression from evaluating 2 simpler expressions\n",
    "- When using and, Both simpler expression must evaluate True for execution of block\n",
    "- When using or, either one of the espressions must evaluate True for execution of block "
   ]
  },
  {
   "cell_type": "code",
   "execution_count": 3,
   "id": "3b6bb4c7",
   "metadata": {},
   "outputs": [
    {
     "name": "stdout",
     "output_type": "stream",
     "text": [
      "How old are you? 14\n"
     ]
    }
   ],
   "source": [
    "age = int(input(\"How old are you? \"))\n",
    "\n",
    "if age >= 16 and age <= 65:\n",
    "    print('You are in your working years, Work hard, brother')"
   ]
  },
  {
   "cell_type": "code",
   "execution_count": 4,
   "id": "7dba98e1",
   "metadata": {},
   "outputs": [
    {
     "name": "stdout",
     "output_type": "stream",
     "text": [
      "How old are you? 79\n"
     ]
    }
   ],
   "source": [
    "age = int(input(\"How old are you? \"))\n",
    "\n",
    "if age >= 16 and age <= 65:\n",
    "    print('You are in your working years, Work hard, brother')"
   ]
  },
  {
   "cell_type": "code",
   "execution_count": 5,
   "id": "767fd849",
   "metadata": {},
   "outputs": [
    {
     "name": "stdout",
     "output_type": "stream",
     "text": [
      "How old are you? 29\n",
      "You are in your working years, Work hard, brother\n"
     ]
    }
   ],
   "source": [
    "age = int(input(\"How old are you? \"))\n",
    "\n",
    "if age >= 16 and age <= 65:\n",
    "    print('You are in your working years, Work hard, brother')"
   ]
  },
  {
   "cell_type": "markdown",
   "id": "2cefaede",
   "metadata": {},
   "source": [
    "## Simplify Chained Comparison\n",
    "\n",
    "When dealing with a numerical value and a condition\n",
    "- you can replace and with a simpler combarison"
   ]
  },
  {
   "cell_type": "code",
   "execution_count": 7,
   "id": "2e7739af",
   "metadata": {},
   "outputs": [
    {
     "name": "stdout",
     "output_type": "stream",
     "text": [
      "Please enter your age: 32\n",
      "All the best bro.\n"
     ]
    }
   ],
   "source": [
    "age = int(input(\"Please enter your age: \"))\n",
    "\n",
    "if 16 <= age <= 65: # another way to express AND\n",
    "    print(\"All the best bro.\")"
   ]
  },
  {
   "cell_type": "code",
   "execution_count": 8,
   "id": "40c6ca62",
   "metadata": {},
   "outputs": [
    {
     "name": "stdout",
     "output_type": "stream",
     "text": [
      "Please enter your age: 55\n",
      "All the best bro.\n",
      "--------------------------------------------------------------------------------\n",
      "Have a good day at work\n"
     ]
    }
   ],
   "source": [
    "# print something if a condition is outside of the range\n",
    "\n",
    "age = int(input(\"Please enter your age: \"))\n",
    "\n",
    "if 16 <= age <= 65:\n",
    "    print(\"All the best bro.\")\n",
    "else:\n",
    "    print(\"Enjoy your free time.\")\n",
    "      \n",
    "print(\"-\" * 80)\n",
    "\n",
    "if age < 16 or age > 65:\n",
    "    print(\"Enjoy your free time.\")\n",
    "else:\n",
    "    print(\"Have a good day at work.\")"
   ]
  },
  {
   "cell_type": "markdown",
   "id": "be15b40e",
   "metadata": {},
   "source": [
    "## Boolean Expression: True and False\n",
    "- expression that evaluates to True or False\n",
    "- not reverses a boolean\n",
    "    - Not True == False\n",
    "    - Not False == True"
   ]
  },
  {
   "cell_type": "code",
   "execution_count": 12,
   "id": "d8d971cc",
   "metadata": {},
   "outputs": [
    {
     "name": "stdout",
     "output_type": "stream",
     "text": [
      " Good Day to have a swim, Go Swimming\n"
     ]
    }
   ],
   "source": [
    "day  = \"Saturday\"\n",
    "temperature = 30\n",
    "raining = True\n",
    "\n",
    "if (day == \"Saturday\" and temperature > 27) or not raining:\n",
    "    print(\" Good Day to have a swim, Go Swimming!\")\n",
    "else:\n",
    "    print(\"Learn Python bro\")"
   ]
  },
  {
   "cell_type": "markdown",
   "id": "2cb2a7f0",
   "metadata": {},
   "source": [
    "### Truthy Values\n",
    "-\tPython tries to evaluate Boolean values after if or while statement.\n",
    "    -\tIf empty or 0, Boolean value is evaluated to False."
   ]
  },
  {
   "cell_type": "code",
   "execution_count": 14,
   "id": "6329a1ba",
   "metadata": {},
   "outputs": [
    {
     "name": "stdout",
     "output_type": "stream",
     "text": [
      "False\n",
      "Please enter your name:Sip\n",
      "Hello, Sip\n"
     ]
    }
   ],
   "source": [
    "if 0:\n",
    "    print(\"True\")\n",
    "else:\n",
    "    print(\"False\")\n",
    "    \n",
    "name = input(\"Please enter your name: \")\n",
    "if name:\n",
    "    print(\"Hello, {}\".format(name))\n",
    "else:\n",
    "    print(\"Are you a man with no name?\")"
   ]
  },
  {
   "cell_type": "code",
   "execution_count": 15,
   "id": "3d11a61c",
   "metadata": {},
   "outputs": [
    {
     "name": "stdout",
     "output_type": "stream",
     "text": [
      "Please enter your name: Sip\n",
      "Hello, Sip\n"
     ]
    }
   ],
   "source": [
    "# Actively comparing string\n",
    "\n",
    "name = input(\"Please enter your name: \")\n",
    "if name != \"\":\n",
    "    print(\"Hello, {}\".format(name))\n",
    "else:\n",
    "    print(\"Are you a man with no name?\")"
   ]
  },
  {
   "cell_type": "markdown",
   "id": "22f46cff",
   "metadata": {},
   "source": [
    "## Boolean Expression:  Conditions in / not in\n",
    "### String comparision\n",
    "- Case sensitive"
   ]
  },
  {
   "cell_type": "code",
   "execution_count": 19,
   "id": "b8ba0eab",
   "metadata": {},
   "outputs": [
    {
     "name": "stdout",
     "output_type": "stream",
     "text": [
      "Enter a character: er\n",
      "er is in Work hard and Play Harder, Brother.\n"
     ]
    }
   ],
   "source": [
    "parrot = \"Work hard and Play Harder, Brother.\"\n",
    "\n",
    "letter = input(\"Enter a character: \")\n",
    "\n",
    "if letter in parrot:\n",
    "    print(\"{} is in {}\".format(letter, parrot))\n",
    "else:\n",
    "    print(\"This is not in there, Bro\")"
   ]
  },
  {
   "cell_type": "code",
   "execution_count": 1,
   "id": "71b827a5",
   "metadata": {},
   "outputs": [
    {
     "name": "stdout",
     "output_type": "stream",
     "text": [
      "What would you like to do today? cinema\n",
      "Sorry, We do not offer that\n"
     ]
    }
   ],
   "source": [
    "activity = input(\"What would you like to do today? \")\n",
    "\n",
    "ls = ['swimming', 'kayaking', 'water rafting', 'sky diving']\n",
    "\n",
    "if activity not in ls:\n",
    "    print(\"Sorry, We do not offer that\")\n",
    "else:\n",
    "    print(\"You will find the nearest {} here. Do enjoy\".format(ls))"
   ]
  },
  {
   "cell_type": "code",
   "execution_count": 5,
   "id": "e8b1fb82",
   "metadata": {},
   "outputs": [
    {
     "name": "stdout",
     "output_type": "stream",
     "text": [
      "What would you like to do today? swimming\n",
      "You will find the nearest ['swimming', 'kayaking', 'water rafting', 'sky diving'] here. Do enjoy\n"
     ]
    }
   ],
   "source": [
    "activity = input(\"What would you like to do today? \")\n",
    "\n",
    "ls = ['swimming', 'kayaking', 'water rafting', 'sky diving']\n",
    "\n",
    "if activity not in ls:\n",
    "    print(\"Sorry, We do not offer that\")\n",
    "else:\n",
    "    print(\"You will find the nearest {} here. Do enjoy\".format(ls))"
   ]
  },
  {
   "cell_type": "code",
   "execution_count": 7,
   "id": "8bcf31ee",
   "metadata": {},
   "outputs": [
    {
     "name": "stdout",
     "output_type": "stream",
     "text": [
      "What would you like to do today? Swimming\n",
      "Sorry, We do not offer that\n"
     ]
    }
   ],
   "source": [
    "activity = input(\"What would you like to do today? \")\n",
    "\n",
    "ls = 'swimming'\n",
    "\n",
    "if activity not in ls.casefold():\n",
    "    print(\"Sorry, We do not offer that\")\n",
    "else:\n",
    "    print(\"You will find the nearest {} here. Do enjoy\".format(ls))"
   ]
  },
  {
   "cell_type": "markdown",
   "id": "1bc9efa8",
   "metadata": {},
   "source": [
    "### String methods"
   ]
  },
  {
   "cell_type": "code",
   "execution_count": null,
   "id": "ffaba695",
   "metadata": {},
   "outputs": [],
   "source": [
    "#  capitalize() - Converts the first character to upper case\n",
    "#  casefold() - Converts string into lower case\n",
    "#  center() - Returns a centered string\n",
    "#  count() -  Returns the number of times a specified value occurs in a string\n",
    "#  encode() - Returns an encoded version of the string\n",
    "#  endswith() - Returns true if the string ends with the specified value\n",
    "#  expandtabs() - Sets the tab size of the string\n",
    "#  find() - Searches the string for a specified value and returns the position of where it was found\n",
    "#  format() - Formats specified values in a string\n",
    "#  format_map() - Formats specified values in a string\n",
    "#  index() -  Searches the string for a specified value and returns the position of where it was found\n",
    "#  isalnum() -  Returns True if all characters in the string are alphanumeric\n",
    "#  isalpha() -  Returns True if all characters in the string are in the alphabet\n",
    "#  isdecimal() -  Returns True if all characters in the string are decimals\n",
    "#  isdigit() -  Returns True if all characters in the string are digits\n",
    "#  isidentifier() - Returns True if the string is an identifier\n",
    "#  islower() -  Returns True if all characters in the string are lower case\n",
    "#  isnumeric() -  Returns True if all characters in the string are numeric\n",
    "#  isprintable() -  Returns True if all characters in the string are printable\n",
    "#  isspace() -  Returns True if all characters in the string are whitespaces\n",
    "#  istitle() -  Returns True if the string follows the rules of a title\n",
    "#  isupper() -  Returns True if all characters in the string are upper case\n",
    "#  join() - Joins the elements of an iterable to the end of the string\n",
    "#  ljust() -  Returns a left justified version of the string\n",
    "#  lower() -  Converts a string into lower case\n",
    "#  lstrip() - Returns a left trim version of the string\n",
    "#  maketrans() -  Returns a translation table to be used in translations\n",
    "#  partition() -  Returns a tuple where the string is parted into three parts\n",
    "#  replace() -  Returns a string where a specified value is replaced with a specified value\n",
    "#  rfind() -  Searches the string for a specified value and returns the last position of where it was found\n",
    "#  rindex() - Searches the string for a specified value and returns the last position of where it was found\n",
    "#  rjust() -  Returns a right justified version of the string\n",
    "#  rpartition() - Returns a tuple where the string is parted into three parts\n",
    "#  rsplit() - Splits the string at the specified separator, and returns a list\n",
    "#  rstrip() - Returns a right trim version of the string\n",
    "#  split() -  Splits the string at the specified separator, and returns a list\n",
    "#  splitlines() - Splits the string at line breaks and returns a list\n",
    "#  startswith() - Returns true if the string starts with the specified value\n",
    "#  strip() -  Returns a trimmed version of the string\n",
    "#  swapcase() - Swaps cases, lower case becomes upper case and vice versa\n",
    "#  title() -  Converts the first character of each word to upper case\n",
    "#  translate() -  Returns a translated string\n",
    "#  upper() -  Converts a string into upper case\n",
    "#  zfill() -  Fills the string with a specified number of 0 values at the beginning"
   ]
  },
  {
   "cell_type": "markdown",
   "id": "89e28c03",
   "metadata": {},
   "source": [
    "# Loop basics:\n",
    "- This can be found in Python’s itertools library\n",
    "- It is dealing with iterators that can massively improve your code efficiency.\n",
    "- But we will look into fundamental concepts of while loops and for loops.\n",
    "\n",
    "## Understanding Loops in Python\n",
    "\n",
    "### While Loop:\n",
    "-  while loop continues to execute a block of code as long as a specified condition is true."
   ]
  },
  {
   "cell_type": "code",
   "execution_count": null,
   "id": "3b95c334",
   "metadata": {},
   "outputs": [],
   "source": [
    "while condition:\n",
    "    # Code to be executed while the condition is true\n",
    "    # This code block will repeat until the condition becomes false"
   ]
  },
  {
   "cell_type": "markdown",
   "id": "796908d9",
   "metadata": {},
   "source": [
    "### For Loop:\n",
    "- for loop is used for iterating over a sequence (that is either a list, tuple, dictionary, string, or range). "
   ]
  },
  {
   "cell_type": "code",
   "execution_count": null,
   "id": "6b1fa32b",
   "metadata": {},
   "outputs": [],
   "source": [
    "for variable in sequence/iterable:\n",
    "    # Code to be executed for each item in the sequence"
   ]
  },
  {
   "cell_type": "markdown",
   "id": "e6cca88d",
   "metadata": {},
   "source": [
    "# For Loop"
   ]
  },
  {
   "cell_type": "markdown",
   "id": "ec033097",
   "metadata": {},
   "source": [
    "## Exercise 1: How loop work"
   ]
  },
  {
   "cell_type": "code",
   "execution_count": 1,
   "id": "d8781c8a",
   "metadata": {},
   "outputs": [
    {
     "name": "stdout",
     "output_type": "stream",
     "text": [
      "N\n",
      "o\n",
      "r\n",
      "w\n",
      "e\n",
      "g\n",
      "i\n",
      "a\n",
      "n\n",
      " \n",
      "B\n",
      "l\n",
      "u\n",
      "e\n"
     ]
    }
   ],
   "source": [
    "parrot = \"Norwegian Blue\"\n",
    "\n",
    "# in has another use in loops\n",
    "\n",
    "for char in parrot:\n",
    "    print(char)\n",
    "\n",
    "    \n",
    "# each value in iterable is outputed in a separate line\n",
    "# for loop execute the code block until there nore more values"
   ]
  },
  {
   "cell_type": "markdown",
   "id": "d4883169",
   "metadata": {},
   "source": [
    "## Exercise 2: Getting Separators"
   ]
  },
  {
   "cell_type": "code",
   "execution_count": 2,
   "id": "de264b02",
   "metadata": {},
   "outputs": [
    {
     "name": "stdout",
     "output_type": "stream",
     "text": [
      ",:: ,,\n"
     ]
    }
   ],
   "source": [
    "number = \"9,223:342:074 485,347,807\"\n",
    "sep = ''\n",
    "\n",
    "for char in number:\n",
    "    if not char.isnumeric():\n",
    "        sep = sep + char\n",
    "print(sep)"
   ]
  },
  {
   "cell_type": "markdown",
   "id": "87b4ec12",
   "metadata": {},
   "source": [
    "## Exercise 3: Getting numeric values"
   ]
  },
  {
   "cell_type": "code",
   "execution_count": 4,
   "id": "45f6a0a9",
   "metadata": {},
   "outputs": [
    {
     "name": "stdout",
     "output_type": "stream",
     "text": [
      "9223342074485347807\n"
     ]
    }
   ],
   "source": [
    "number = \"9,223:342:074 485,347,807\"\n",
    "num = ''\n",
    "\n",
    "for n in number:\n",
    "    if n.isnumeric():\n",
    "        num = num + n\n",
    "print(num)"
   ]
  },
  {
   "cell_type": "markdown",
   "id": "3904e716",
   "metadata": {},
   "source": [
    "## Exercise 4: Iterating over Input Value"
   ]
  },
  {
   "cell_type": "code",
   "execution_count": 8,
   "id": "2fa460fe",
   "metadata": {},
   "outputs": [
    {
     "name": "stdout",
     "output_type": "stream",
     "text": [
      "Please enter the amount of money you will make in 2024: R 1,000,000,000.00\n",
      ",,,.\n"
     ]
    }
   ],
   "source": [
    "number = input(\"Please enter the amount of money you will make in 2024: R \")\n",
    "\n",
    "sep = \"\"\n",
    "\n",
    "for i in number:\n",
    "    if not i.isnumeric():\n",
    "        sep = sep + i \n",
    "print(sep)"
   ]
  },
  {
   "cell_type": "markdown",
   "id": "235db5a0",
   "metadata": {},
   "source": [
    "## Exercise 5: Iterationg over Range "
   ]
  },
  {
   "cell_type": "code",
   "execution_count": 11,
   "id": "78efce73",
   "metadata": {},
   "outputs": [
    {
     "name": "stdout",
     "output_type": "stream",
     "text": [
      "i is now 1\n",
      "i is now 2\n",
      "i is now 3\n",
      "i is now 4\n",
      "i is now 5\n",
      "i is now 6\n",
      "i is now 7\n",
      "i is now 8\n",
      "i is now 9\n",
      "i is now 10\n",
      "i is now 11\n",
      "i is now 12\n",
      "i is now 13\n",
      "i is now 14\n",
      "i is now 15\n",
      "i is now 16\n",
      "i is now 17\n",
      "i is now 18\n",
      "i is now 19\n"
     ]
    }
   ],
   "source": [
    "for i in range(1,20):\n",
    "    print(\"i is now {}\".format(i))"
   ]
  },
  {
   "cell_type": "markdown",
   "id": "19e7f570",
   "metadata": {},
   "source": [
    "## Exercise 6: Extracting capitals\n",
    "Write a program to print out the capital letters in the string\n",
    "\n",
    "\"Alright, but apart from the Sanitation, the Medicine, Education, Wine, Public Order, Irrigation, Roads, the Fresh-Water System, and Public Health, what have the Romans ever done for us?\"\n",
    "\n",
    "Check out the string methods for one way to test if a character is in uppercase."
   ]
  },
  {
   "cell_type": "code",
   "execution_count": 9,
   "id": "1c96b9a6",
   "metadata": {},
   "outputs": [
    {
     "name": "stdout",
     "output_type": "stream",
     "text": [
      "ASMEWPOIRFWSPHR\n"
     ]
    }
   ],
   "source": [
    "string = \"\"\"\n",
    "Alright, but apart from the Sanitation, the Medicine, Education, Wine,\n",
    "Public Order, Irrigation, Roads, the Fresh-Water System,\n",
    "and Public Health, what have the Romans ever done for us?\n",
    "\"\"\"\n",
    "\n",
    "caps = \"\"\n",
    "\n",
    "for i in string:\n",
    "    if i.isupper():\n",
    "        caps = caps + i\n",
    "print(caps)"
   ]
  },
  {
   "cell_type": "code",
   "execution_count": 10,
   "id": "36015ec8",
   "metadata": {},
   "outputs": [
    {
     "name": "stdout",
     "output_type": "stream",
     "text": [
      "A\n",
      "S\n",
      "M\n",
      "E\n",
      "W\n",
      "P\n",
      "O\n",
      "I\n",
      "R\n",
      "F\n",
      "W\n",
      "S\n",
      "P\n",
      "H\n",
      "R\n"
     ]
    }
   ],
   "source": [
    "for char in string:\n",
    "    if char in \"ABCDEFGHIJKLMNOPQRSTUVWXYZ\":\n",
    "        print(char)"
   ]
  },
  {
   "cell_type": "markdown",
   "id": "96d38481",
   "metadata": {},
   "source": [
    "## Exercise 7: The Range Function"
   ]
  },
  {
   "cell_type": "code",
   "execution_count": 2,
   "id": "37f64969",
   "metadata": {},
   "outputs": [
    {
     "name": "stdout",
     "output_type": "stream",
     "text": [
      "i is now 1\n",
      "i is now 2\n",
      "i is now 3\n",
      "i is now 4\n",
      "i is now 5\n",
      "i is now 6\n",
      "i is now 7\n",
      "i is now 8\n",
      "i is now 9\n",
      "i is now 10\n",
      "i is now 11\n",
      "i is now 12\n",
      "i is now 13\n",
      "i is now 14\n",
      "i is now 15\n",
      "i is now 16\n",
      "i is now 17\n",
      "i is now 18\n",
      "i is now 19\n"
     ]
    }
   ],
   "source": [
    "start = 1\n",
    "end = 20\n",
    "\n",
    "for i in range(start, end):\n",
    "    print(\"i is now {}\".format(i)) "
   ]
  },
  {
   "cell_type": "code",
   "execution_count": 3,
   "id": "f3ef73af",
   "metadata": {},
   "outputs": [
    {
     "name": "stdout",
     "output_type": "stream",
     "text": [
      "i is now 0\n",
      "i is now 1\n",
      "i is now 2\n",
      "i is now 3\n",
      "i is now 4\n",
      "i is now 5\n",
      "i is now 6\n",
      "i is now 7\n",
      "i is now 8\n",
      "i is now 9\n"
     ]
    }
   ],
   "source": [
    "# by not stating start value, this will now default to 0\n",
    "\n",
    "for i in range(10):\n",
    "    print(f\"i is now {i}\")"
   ]
  },
  {
   "cell_type": "code",
   "execution_count": 4,
   "id": "54f65a66",
   "metadata": {},
   "outputs": [],
   "source": [
    "# By not stating start value, and adding the step value, \n",
    "\n",
    "for i in range(10, 2):\n",
    "    print(f\"i is now {i}\")\n",
    "    \n",
    "# There is no output because start value is not stated"
   ]
  },
  {
   "cell_type": "code",
   "execution_count": 5,
   "id": "e3efddba",
   "metadata": {},
   "outputs": [
    {
     "name": "stdout",
     "output_type": "stream",
     "text": [
      "i is now 0\n",
      "i is now 2\n",
      "i is now 4\n",
      "i is now 6\n",
      "i is now 8\n"
     ]
    }
   ],
   "source": [
    "# Correct the above by adding the start value\n",
    "\n",
    "for i in range(0, 10, 2):\n",
    "    print(f\"i is now {i}\")"
   ]
  },
  {
   "cell_type": "code",
   "execution_count": 6,
   "id": "ecc2cc7a",
   "metadata": {},
   "outputs": [
    {
     "name": "stdout",
     "output_type": "stream",
     "text": [
      "i is now 10\n",
      "i is now 8\n",
      "i is now 6\n",
      "i is now 4\n",
      "i is now 2\n"
     ]
    }
   ],
   "source": [
    "# Reverse steps in range value\n",
    "\n",
    "for i in range(10, 0, -2):\n",
    "    print(f\"i is now {i}\")"
   ]
  },
  {
   "cell_type": "code",
   "execution_count": 7,
   "id": "e30be70f",
   "metadata": {},
   "outputs": [
    {
     "name": "stdout",
     "output_type": "stream",
     "text": [
      "Please enter your age: 29\n",
      "All the best bro.\n",
      "--------------------------------------------------------------------------------\n",
      "Have a good day at work.\n"
     ]
    }
   ],
   "source": [
    "# Checking if value is in the range function\n",
    "\n",
    "age = int(input(\"Please enter your age: \"))\n",
    "\n",
    "# if 16 <= age <= 65:\n",
    "if age in range(16, 66):\n",
    "    print(\"All the best bro.\")\n",
    "else:\n",
    "    print(\"Enjoy your free time.\")\n",
    "      \n",
    "print(\"-\" * 80)\n",
    "\n",
    "if age < 16 or age > 65:\n",
    "    print(\"Enjoy your free time.\")\n",
    "else:\n",
    "    print(\"Have a good day at work.\")"
   ]
  },
  {
   "cell_type": "markdown",
   "id": "572ae4ed",
   "metadata": {},
   "source": [
    "## Exercise 8: For loop with step\n",
    "- Write a program to print out all the numbers from 0 to 100 that are divisible by 7.\n",
    "- Note that zero is considered to be divisible by all other integers, so your output should include zero."
   ]
  },
  {
   "cell_type": "code",
   "execution_count": 10,
   "id": "0b2e7420",
   "metadata": {},
   "outputs": [
    {
     "name": "stdout",
     "output_type": "stream",
     "text": [
      "0\n",
      "7\n",
      "14\n",
      "21\n",
      "28\n",
      "35\n",
      "42\n",
      "49\n",
      "56\n",
      "63\n",
      "70\n",
      "77\n",
      "84\n",
      "91\n",
      "98\n"
     ]
    }
   ],
   "source": [
    "# This solution uses a step value for the range function\n",
    "for i in range(0, 101, 7):\n",
    "    print(i)"
   ]
  },
  {
   "cell_type": "code",
   "execution_count": 11,
   "id": "4b032425",
   "metadata": {},
   "outputs": [
    {
     "name": "stdout",
     "output_type": "stream",
     "text": [
      "0\n",
      "7\n",
      "14\n",
      "21\n",
      "28\n",
      "35\n",
      "42\n",
      "49\n",
      "56\n",
      "63\n",
      "70\n",
      "77\n",
      "84\n",
      "91\n",
      "98\n"
     ]
    }
   ],
   "source": [
    "# This solution uses a slice\n",
    "for i in range(101)[::7]:\n",
    "    print(i)"
   ]
  },
  {
   "cell_type": "markdown",
   "id": "bb622ce1",
   "metadata": {},
   "source": [
    "## Exercise 9: Nested for loops times tables"
   ]
  },
  {
   "cell_type": "code",
   "execution_count": 16,
   "id": "9b968620",
   "metadata": {},
   "outputs": [
    {
     "name": "stdout",
     "output_type": "stream",
     "text": [
      "1 times 1 is 1\n",
      "1 times 2 is 2\n",
      "1 times 3 is 3\n",
      "1 times 4 is 4\n",
      "1 times 5 is 5\n",
      "1 times 6 is 6\n",
      "1 times 7 is 7\n",
      "1 times 8 is 8\n",
      "1 times 9 is 9\n",
      "1 times 10 is 10\n",
      "1 times 11 is 11\n",
      "1 times 12 is 12\n",
      "--------------------------------------------------------------------------------\n",
      "2 times 1 is 2\n",
      "2 times 2 is 4\n",
      "2 times 3 is 6\n",
      "2 times 4 is 8\n",
      "2 times 5 is 10\n",
      "2 times 6 is 12\n",
      "2 times 7 is 14\n",
      "2 times 8 is 16\n",
      "2 times 9 is 18\n",
      "2 times 10 is 20\n",
      "2 times 11 is 22\n",
      "2 times 12 is 24\n",
      "--------------------------------------------------------------------------------\n",
      "3 times 1 is 3\n",
      "3 times 2 is 6\n",
      "3 times 3 is 9\n",
      "3 times 4 is 12\n",
      "3 times 5 is 15\n",
      "3 times 6 is 18\n",
      "3 times 7 is 21\n",
      "3 times 8 is 24\n",
      "3 times 9 is 27\n",
      "3 times 10 is 30\n",
      "3 times 11 is 33\n",
      "3 times 12 is 36\n",
      "--------------------------------------------------------------------------------\n",
      "4 times 1 is 4\n",
      "4 times 2 is 8\n",
      "4 times 3 is 12\n",
      "4 times 4 is 16\n",
      "4 times 5 is 20\n",
      "4 times 6 is 24\n",
      "4 times 7 is 28\n",
      "4 times 8 is 32\n",
      "4 times 9 is 36\n",
      "4 times 10 is 40\n",
      "4 times 11 is 44\n",
      "4 times 12 is 48\n",
      "--------------------------------------------------------------------------------\n",
      "5 times 1 is 5\n",
      "5 times 2 is 10\n",
      "5 times 3 is 15\n",
      "5 times 4 is 20\n",
      "5 times 5 is 25\n",
      "5 times 6 is 30\n",
      "5 times 7 is 35\n",
      "5 times 8 is 40\n",
      "5 times 9 is 45\n",
      "5 times 10 is 50\n",
      "5 times 11 is 55\n",
      "5 times 12 is 60\n",
      "--------------------------------------------------------------------------------\n",
      "6 times 1 is 6\n",
      "6 times 2 is 12\n",
      "6 times 3 is 18\n",
      "6 times 4 is 24\n",
      "6 times 5 is 30\n",
      "6 times 6 is 36\n",
      "6 times 7 is 42\n",
      "6 times 8 is 48\n",
      "6 times 9 is 54\n",
      "6 times 10 is 60\n",
      "6 times 11 is 66\n",
      "6 times 12 is 72\n",
      "--------------------------------------------------------------------------------\n",
      "7 times 1 is 7\n",
      "7 times 2 is 14\n",
      "7 times 3 is 21\n",
      "7 times 4 is 28\n",
      "7 times 5 is 35\n",
      "7 times 6 is 42\n",
      "7 times 7 is 49\n",
      "7 times 8 is 56\n",
      "7 times 9 is 63\n",
      "7 times 10 is 70\n",
      "7 times 11 is 77\n",
      "7 times 12 is 84\n",
      "--------------------------------------------------------------------------------\n",
      "8 times 1 is 8\n",
      "8 times 2 is 16\n",
      "8 times 3 is 24\n",
      "8 times 4 is 32\n",
      "8 times 5 is 40\n",
      "8 times 6 is 48\n",
      "8 times 7 is 56\n",
      "8 times 8 is 64\n",
      "8 times 9 is 72\n",
      "8 times 10 is 80\n",
      "8 times 11 is 88\n",
      "8 times 12 is 96\n",
      "--------------------------------------------------------------------------------\n",
      "9 times 1 is 9\n",
      "9 times 2 is 18\n",
      "9 times 3 is 27\n",
      "9 times 4 is 36\n",
      "9 times 5 is 45\n",
      "9 times 6 is 54\n",
      "9 times 7 is 63\n",
      "9 times 8 is 72\n",
      "9 times 9 is 81\n",
      "9 times 10 is 90\n",
      "9 times 11 is 99\n",
      "9 times 12 is 108\n",
      "--------------------------------------------------------------------------------\n",
      "10 times 1 is 10\n",
      "10 times 2 is 20\n",
      "10 times 3 is 30\n",
      "10 times 4 is 40\n",
      "10 times 5 is 50\n",
      "10 times 6 is 60\n",
      "10 times 7 is 70\n",
      "10 times 8 is 80\n",
      "10 times 9 is 90\n",
      "10 times 10 is 100\n",
      "10 times 11 is 110\n",
      "10 times 12 is 120\n",
      "--------------------------------------------------------------------------------\n",
      "11 times 1 is 11\n",
      "11 times 2 is 22\n",
      "11 times 3 is 33\n",
      "11 times 4 is 44\n",
      "11 times 5 is 55\n",
      "11 times 6 is 66\n",
      "11 times 7 is 77\n",
      "11 times 8 is 88\n",
      "11 times 9 is 99\n",
      "11 times 10 is 110\n",
      "11 times 11 is 121\n",
      "11 times 12 is 132\n",
      "--------------------------------------------------------------------------------\n",
      "12 times 1 is 12\n",
      "12 times 2 is 24\n",
      "12 times 3 is 36\n",
      "12 times 4 is 48\n",
      "12 times 5 is 60\n",
      "12 times 6 is 72\n",
      "12 times 7 is 84\n",
      "12 times 8 is 96\n",
      "12 times 9 is 108\n",
      "12 times 10 is 120\n",
      "12 times 11 is 132\n",
      "12 times 12 is 144\n",
      "--------------------------------------------------------------------------------\n"
     ]
    }
   ],
   "source": [
    "for i in range(1,13):\n",
    "    for j in range(1,13):\n",
    "        print(f\"{i} times {j} is {i *j}\")\n",
    "    print('-' * 80)    \n",
    "    \n",
    "    \n",
    "# When i have the value of 1, j will loop 12 times\n",
    "# When i have the value of 2, j will loop 12 times\n",
    "# When i have the value of 3, j will loop 12 times ...\n",
    "\n",
    "# Indent print inline of second loop, line printed will occur once all j is looped over for i"
   ]
  },
  {
   "cell_type": "code",
   "execution_count": 24,
   "id": "b8ed5180",
   "metadata": {},
   "outputs": [
    {
     "name": "stdout",
     "output_type": "stream",
     "text": [
      "1 times 1 is 1\n",
      "--------------------------------------------------------------------------------\n",
      "1 times 2 is 2\n",
      "--------------------------------------------------------------------------------\n",
      "1 times 3 is 3\n",
      "--------------------------------------------------------------------------------\n",
      "1 times 4 is 4\n",
      "--------------------------------------------------------------------------------\n",
      "1 times 5 is 5\n",
      "--------------------------------------------------------------------------------\n",
      "1 times 6 is 6\n",
      "--------------------------------------------------------------------------------\n",
      "1 times 7 is 7\n",
      "--------------------------------------------------------------------------------\n",
      "1 times 8 is 8\n",
      "--------------------------------------------------------------------------------\n",
      "1 times 9 is 9\n",
      "--------------------------------------------------------------------------------\n",
      "1 times 10 is 10\n",
      "--------------------------------------------------------------------------------\n",
      "1 times 11 is 11\n",
      "--------------------------------------------------------------------------------\n",
      "1 times 12 is 12\n",
      "--------------------------------------------------------------------------------\n",
      "2 times 1 is 2\n",
      "--------------------------------------------------------------------------------\n",
      "2 times 2 is 4\n",
      "--------------------------------------------------------------------------------\n",
      "2 times 3 is 6\n",
      "--------------------------------------------------------------------------------\n",
      "2 times 4 is 8\n",
      "--------------------------------------------------------------------------------\n",
      "2 times 5 is 10\n",
      "--------------------------------------------------------------------------------\n",
      "2 times 6 is 12\n",
      "--------------------------------------------------------------------------------\n",
      "2 times 7 is 14\n",
      "--------------------------------------------------------------------------------\n",
      "2 times 8 is 16\n",
      "--------------------------------------------------------------------------------\n",
      "2 times 9 is 18\n",
      "--------------------------------------------------------------------------------\n",
      "2 times 10 is 20\n",
      "--------------------------------------------------------------------------------\n",
      "2 times 11 is 22\n",
      "--------------------------------------------------------------------------------\n",
      "2 times 12 is 24\n",
      "--------------------------------------------------------------------------------\n",
      "3 times 1 is 3\n",
      "--------------------------------------------------------------------------------\n",
      "3 times 2 is 6\n",
      "--------------------------------------------------------------------------------\n",
      "3 times 3 is 9\n",
      "--------------------------------------------------------------------------------\n",
      "3 times 4 is 12\n",
      "--------------------------------------------------------------------------------\n",
      "3 times 5 is 15\n",
      "--------------------------------------------------------------------------------\n",
      "3 times 6 is 18\n",
      "--------------------------------------------------------------------------------\n",
      "3 times 7 is 21\n",
      "--------------------------------------------------------------------------------\n",
      "3 times 8 is 24\n",
      "--------------------------------------------------------------------------------\n",
      "3 times 9 is 27\n",
      "--------------------------------------------------------------------------------\n",
      "3 times 10 is 30\n",
      "--------------------------------------------------------------------------------\n",
      "3 times 11 is 33\n",
      "--------------------------------------------------------------------------------\n",
      "3 times 12 is 36\n",
      "--------------------------------------------------------------------------------\n",
      "4 times 1 is 4\n",
      "--------------------------------------------------------------------------------\n",
      "4 times 2 is 8\n",
      "--------------------------------------------------------------------------------\n",
      "4 times 3 is 12\n",
      "--------------------------------------------------------------------------------\n",
      "4 times 4 is 16\n",
      "--------------------------------------------------------------------------------\n",
      "4 times 5 is 20\n",
      "--------------------------------------------------------------------------------\n",
      "4 times 6 is 24\n",
      "--------------------------------------------------------------------------------\n",
      "4 times 7 is 28\n",
      "--------------------------------------------------------------------------------\n",
      "4 times 8 is 32\n",
      "--------------------------------------------------------------------------------\n",
      "4 times 9 is 36\n",
      "--------------------------------------------------------------------------------\n",
      "4 times 10 is 40\n",
      "--------------------------------------------------------------------------------\n",
      "4 times 11 is 44\n",
      "--------------------------------------------------------------------------------\n",
      "4 times 12 is 48\n",
      "--------------------------------------------------------------------------------\n",
      "5 times 1 is 5\n",
      "--------------------------------------------------------------------------------\n",
      "5 times 2 is 10\n",
      "--------------------------------------------------------------------------------\n",
      "5 times 3 is 15\n",
      "--------------------------------------------------------------------------------\n",
      "5 times 4 is 20\n",
      "--------------------------------------------------------------------------------\n",
      "5 times 5 is 25\n",
      "--------------------------------------------------------------------------------\n",
      "5 times 6 is 30\n",
      "--------------------------------------------------------------------------------\n",
      "5 times 7 is 35\n",
      "--------------------------------------------------------------------------------\n",
      "5 times 8 is 40\n",
      "--------------------------------------------------------------------------------\n",
      "5 times 9 is 45\n",
      "--------------------------------------------------------------------------------\n",
      "5 times 10 is 50\n",
      "--------------------------------------------------------------------------------\n",
      "5 times 11 is 55\n",
      "--------------------------------------------------------------------------------\n",
      "5 times 12 is 60\n",
      "--------------------------------------------------------------------------------\n",
      "6 times 1 is 6\n",
      "--------------------------------------------------------------------------------\n",
      "6 times 2 is 12\n",
      "--------------------------------------------------------------------------------\n",
      "6 times 3 is 18\n",
      "--------------------------------------------------------------------------------\n",
      "6 times 4 is 24\n",
      "--------------------------------------------------------------------------------\n",
      "6 times 5 is 30\n",
      "--------------------------------------------------------------------------------\n",
      "6 times 6 is 36\n",
      "--------------------------------------------------------------------------------\n",
      "6 times 7 is 42\n",
      "--------------------------------------------------------------------------------\n",
      "6 times 8 is 48\n",
      "--------------------------------------------------------------------------------\n",
      "6 times 9 is 54\n",
      "--------------------------------------------------------------------------------\n",
      "6 times 10 is 60\n",
      "--------------------------------------------------------------------------------\n",
      "6 times 11 is 66\n",
      "--------------------------------------------------------------------------------\n",
      "6 times 12 is 72\n",
      "--------------------------------------------------------------------------------\n",
      "7 times 1 is 7\n",
      "--------------------------------------------------------------------------------\n",
      "7 times 2 is 14\n",
      "--------------------------------------------------------------------------------\n",
      "7 times 3 is 21\n",
      "--------------------------------------------------------------------------------\n",
      "7 times 4 is 28\n",
      "--------------------------------------------------------------------------------\n",
      "7 times 5 is 35\n",
      "--------------------------------------------------------------------------------\n",
      "7 times 6 is 42\n",
      "--------------------------------------------------------------------------------\n",
      "7 times 7 is 49\n",
      "--------------------------------------------------------------------------------\n",
      "7 times 8 is 56\n",
      "--------------------------------------------------------------------------------\n",
      "7 times 9 is 63\n",
      "--------------------------------------------------------------------------------\n",
      "7 times 10 is 70\n",
      "--------------------------------------------------------------------------------\n",
      "7 times 11 is 77\n",
      "--------------------------------------------------------------------------------\n",
      "7 times 12 is 84\n",
      "--------------------------------------------------------------------------------\n",
      "8 times 1 is 8\n",
      "--------------------------------------------------------------------------------\n",
      "8 times 2 is 16\n",
      "--------------------------------------------------------------------------------\n",
      "8 times 3 is 24\n",
      "--------------------------------------------------------------------------------\n",
      "8 times 4 is 32\n",
      "--------------------------------------------------------------------------------\n",
      "8 times 5 is 40\n",
      "--------------------------------------------------------------------------------\n",
      "8 times 6 is 48\n",
      "--------------------------------------------------------------------------------\n",
      "8 times 7 is 56\n",
      "--------------------------------------------------------------------------------\n",
      "8 times 8 is 64\n",
      "--------------------------------------------------------------------------------\n",
      "8 times 9 is 72\n",
      "--------------------------------------------------------------------------------\n",
      "8 times 10 is 80\n",
      "--------------------------------------------------------------------------------\n",
      "8 times 11 is 88\n",
      "--------------------------------------------------------------------------------\n",
      "8 times 12 is 96\n",
      "--------------------------------------------------------------------------------\n",
      "9 times 1 is 9\n",
      "--------------------------------------------------------------------------------\n",
      "9 times 2 is 18\n",
      "--------------------------------------------------------------------------------\n",
      "9 times 3 is 27\n",
      "--------------------------------------------------------------------------------\n",
      "9 times 4 is 36\n",
      "--------------------------------------------------------------------------------\n",
      "9 times 5 is 45\n",
      "--------------------------------------------------------------------------------\n",
      "9 times 6 is 54\n",
      "--------------------------------------------------------------------------------\n",
      "9 times 7 is 63\n",
      "--------------------------------------------------------------------------------\n",
      "9 times 8 is 72\n",
      "--------------------------------------------------------------------------------\n",
      "9 times 9 is 81\n",
      "--------------------------------------------------------------------------------\n",
      "9 times 10 is 90\n",
      "--------------------------------------------------------------------------------\n",
      "9 times 11 is 99\n",
      "--------------------------------------------------------------------------------\n",
      "9 times 12 is 108\n",
      "--------------------------------------------------------------------------------\n",
      "10 times 1 is 10\n",
      "--------------------------------------------------------------------------------\n",
      "10 times 2 is 20\n",
      "--------------------------------------------------------------------------------\n",
      "10 times 3 is 30\n",
      "--------------------------------------------------------------------------------\n",
      "10 times 4 is 40\n",
      "--------------------------------------------------------------------------------\n",
      "10 times 5 is 50\n",
      "--------------------------------------------------------------------------------\n",
      "10 times 6 is 60\n",
      "--------------------------------------------------------------------------------\n",
      "10 times 7 is 70\n",
      "--------------------------------------------------------------------------------\n",
      "10 times 8 is 80\n",
      "--------------------------------------------------------------------------------\n",
      "10 times 9 is 90\n",
      "--------------------------------------------------------------------------------\n",
      "10 times 10 is 100\n",
      "--------------------------------------------------------------------------------\n",
      "10 times 11 is 110\n",
      "--------------------------------------------------------------------------------\n",
      "10 times 12 is 120\n",
      "--------------------------------------------------------------------------------\n",
      "11 times 1 is 11\n",
      "--------------------------------------------------------------------------------\n",
      "11 times 2 is 22\n",
      "--------------------------------------------------------------------------------\n",
      "11 times 3 is 33\n",
      "--------------------------------------------------------------------------------\n",
      "11 times 4 is 44\n",
      "--------------------------------------------------------------------------------\n",
      "11 times 5 is 55\n",
      "--------------------------------------------------------------------------------\n",
      "11 times 6 is 66\n",
      "--------------------------------------------------------------------------------\n",
      "11 times 7 is 77\n",
      "--------------------------------------------------------------------------------\n",
      "11 times 8 is 88\n",
      "--------------------------------------------------------------------------------\n",
      "11 times 9 is 99\n",
      "--------------------------------------------------------------------------------\n",
      "11 times 10 is 110\n",
      "--------------------------------------------------------------------------------\n",
      "11 times 11 is 121\n",
      "--------------------------------------------------------------------------------\n",
      "11 times 12 is 132\n",
      "--------------------------------------------------------------------------------\n",
      "12 times 1 is 12\n",
      "--------------------------------------------------------------------------------\n",
      "12 times 2 is 24\n",
      "--------------------------------------------------------------------------------\n",
      "12 times 3 is 36\n",
      "--------------------------------------------------------------------------------\n",
      "12 times 4 is 48\n",
      "--------------------------------------------------------------------------------\n",
      "12 times 5 is 60\n",
      "--------------------------------------------------------------------------------\n",
      "12 times 6 is 72\n",
      "--------------------------------------------------------------------------------\n",
      "12 times 7 is 84\n",
      "--------------------------------------------------------------------------------\n",
      "12 times 8 is 96\n",
      "--------------------------------------------------------------------------------\n",
      "12 times 9 is 108\n",
      "--------------------------------------------------------------------------------\n",
      "12 times 10 is 120\n",
      "--------------------------------------------------------------------------------\n",
      "12 times 11 is 132\n",
      "--------------------------------------------------------------------------------\n",
      "12 times 12 is 144\n",
      "--------------------------------------------------------------------------------\n"
     ]
    }
   ],
   "source": [
    "# Indent print inside within --> Line printed after each multiplication\n",
    "\n",
    "for i in range(1,13):\n",
    "    for j in range(1,13):\n",
    "        print(f\"{i} times {j} is {i *j}\")\n",
    "        print('-' * 80)"
   ]
  },
  {
   "cell_type": "code",
   "execution_count": 26,
   "id": "cef408d3",
   "metadata": {},
   "outputs": [
    {
     "name": "stdout",
     "output_type": "stream",
     "text": [
      "1 times 1 is 1\n",
      "1 times 2 is 2\n",
      "1 times 3 is 3\n",
      "1 times 4 is 4\n",
      "1 times 5 is 5\n",
      "1 times 6 is 6\n",
      "1 times 7 is 7\n",
      "1 times 8 is 8\n",
      "1 times 9 is 9\n",
      "1 times 10 is 10\n",
      "1 times 11 is 11\n",
      "1 times 12 is 12\n",
      "2 times 1 is 2\n",
      "2 times 2 is 4\n",
      "2 times 3 is 6\n",
      "2 times 4 is 8\n",
      "2 times 5 is 10\n",
      "2 times 6 is 12\n",
      "2 times 7 is 14\n",
      "2 times 8 is 16\n",
      "2 times 9 is 18\n",
      "2 times 10 is 20\n",
      "2 times 11 is 22\n",
      "2 times 12 is 24\n",
      "3 times 1 is 3\n",
      "3 times 2 is 6\n",
      "3 times 3 is 9\n",
      "3 times 4 is 12\n",
      "3 times 5 is 15\n",
      "3 times 6 is 18\n",
      "3 times 7 is 21\n",
      "3 times 8 is 24\n",
      "3 times 9 is 27\n",
      "3 times 10 is 30\n",
      "3 times 11 is 33\n",
      "3 times 12 is 36\n",
      "4 times 1 is 4\n",
      "4 times 2 is 8\n",
      "4 times 3 is 12\n",
      "4 times 4 is 16\n",
      "4 times 5 is 20\n",
      "4 times 6 is 24\n",
      "4 times 7 is 28\n",
      "4 times 8 is 32\n",
      "4 times 9 is 36\n",
      "4 times 10 is 40\n",
      "4 times 11 is 44\n",
      "4 times 12 is 48\n",
      "5 times 1 is 5\n",
      "5 times 2 is 10\n",
      "5 times 3 is 15\n",
      "5 times 4 is 20\n",
      "5 times 5 is 25\n",
      "5 times 6 is 30\n",
      "5 times 7 is 35\n",
      "5 times 8 is 40\n",
      "5 times 9 is 45\n",
      "5 times 10 is 50\n",
      "5 times 11 is 55\n",
      "5 times 12 is 60\n",
      "6 times 1 is 6\n",
      "6 times 2 is 12\n",
      "6 times 3 is 18\n",
      "6 times 4 is 24\n",
      "6 times 5 is 30\n",
      "6 times 6 is 36\n",
      "6 times 7 is 42\n",
      "6 times 8 is 48\n",
      "6 times 9 is 54\n",
      "6 times 10 is 60\n",
      "6 times 11 is 66\n",
      "6 times 12 is 72\n",
      "7 times 1 is 7\n",
      "7 times 2 is 14\n",
      "7 times 3 is 21\n",
      "7 times 4 is 28\n",
      "7 times 5 is 35\n",
      "7 times 6 is 42\n",
      "7 times 7 is 49\n",
      "7 times 8 is 56\n",
      "7 times 9 is 63\n",
      "7 times 10 is 70\n",
      "7 times 11 is 77\n",
      "7 times 12 is 84\n",
      "8 times 1 is 8\n",
      "8 times 2 is 16\n",
      "8 times 3 is 24\n",
      "8 times 4 is 32\n",
      "8 times 5 is 40\n",
      "8 times 6 is 48\n",
      "8 times 7 is 56\n",
      "8 times 8 is 64\n",
      "8 times 9 is 72\n",
      "8 times 10 is 80\n",
      "8 times 11 is 88\n",
      "8 times 12 is 96\n",
      "9 times 1 is 9\n",
      "9 times 2 is 18\n",
      "9 times 3 is 27\n",
      "9 times 4 is 36\n",
      "9 times 5 is 45\n",
      "9 times 6 is 54\n",
      "9 times 7 is 63\n",
      "9 times 8 is 72\n",
      "9 times 9 is 81\n",
      "9 times 10 is 90\n",
      "9 times 11 is 99\n",
      "9 times 12 is 108\n",
      "10 times 1 is 10\n",
      "10 times 2 is 20\n",
      "10 times 3 is 30\n",
      "10 times 4 is 40\n",
      "10 times 5 is 50\n",
      "10 times 6 is 60\n",
      "10 times 7 is 70\n",
      "10 times 8 is 80\n",
      "10 times 9 is 90\n",
      "10 times 10 is 100\n",
      "10 times 11 is 110\n",
      "10 times 12 is 120\n",
      "11 times 1 is 11\n",
      "11 times 2 is 22\n",
      "11 times 3 is 33\n",
      "11 times 4 is 44\n",
      "11 times 5 is 55\n",
      "11 times 6 is 66\n",
      "11 times 7 is 77\n",
      "11 times 8 is 88\n",
      "11 times 9 is 99\n",
      "11 times 10 is 110\n",
      "11 times 11 is 121\n",
      "11 times 12 is 132\n",
      "12 times 1 is 12\n",
      "12 times 2 is 24\n",
      "12 times 3 is 36\n",
      "12 times 4 is 48\n",
      "12 times 5 is 60\n",
      "12 times 6 is 72\n",
      "12 times 7 is 84\n",
      "12 times 8 is 96\n",
      "12 times 9 is 108\n",
      "12 times 10 is 120\n",
      "12 times 11 is 132\n",
      "12 times 12 is 144\n",
      "--------------------------------------------------------------------------------\n"
     ]
    }
   ],
   "source": [
    "# Indent print inline of first loop, line printed will occur once everthing is looped over for i\n",
    "\n",
    "for i in range(1,13):\n",
    "    for j in range(1,13):\n",
    "        print(f\"{i} times {j} is {i *j}\")\n",
    "print('-' * 80)"
   ]
  },
  {
   "cell_type": "markdown",
   "id": "d0cc57b9",
   "metadata": {},
   "source": [
    "## Exercise 10: Printing the multiplication table\n",
    "\n",
    "### Psuedocode\n",
    "\n",
    "##### Declaring the function\n",
    "- Use the def keyword\n",
    "    - followed by function name\n",
    "    - in parentheses, parse the parameter\n",
    "- Use the for loop, to print the table in a vertical format(row)\n",
    "    - used range function as it is an iterable function which takes 3 parameters:\n",
    "        - start \n",
    "        - stop (a+1)\n",
    "        - step\n",
    "- Use another for loop, to print the tables horisontal format(column)\n",
    "    - used range function as it is an iterable function which takes 3 parameters:\n",
    "        - start\n",
    "        - stop (n+1)\n",
    "        - step\n",
    "    - Then we will print the multiplication of for loop range elements and at the end add a tab/pipe between the elements  \n",
    "- We come out if the loop and use a empty print function\n",
    "    - This will give the space between each table(column in this case)\n",
    "- Take input from user\n",
    "- and the call the function and pass the argument that the user inputed above"
   ]
  },
  {
   "cell_type": "code",
   "execution_count": 21,
   "id": "ddfd94d7",
   "metadata": {},
   "outputs": [
    {
     "name": "stdout",
     "output_type": "stream",
     "text": [
      "Please enter Times table format: 15\n",
      "x_1\t | x_2\t | x_3\t | x_4\t | x_5\t | x_6\t | x_7\t | x_8\t | x_9\t | x_10\t | x_11\t | x_12\t | x_13\t | x_14\t | x_15\t | \n",
      "------------------------------------------------------------------------------------------------------------------------\n",
      "1\t | 2\t | 3\t | 4\t | 5\t | 6\t | 7\t | 8\t | 9\t | 10\t | 11\t | 12\t | 13\t | 14\t | 15\t | \n",
      "2\t | 4\t | 6\t | 8\t | 10\t | 12\t | 14\t | 16\t | 18\t | 20\t | 22\t | 24\t | 26\t | 28\t | 30\t | \n",
      "3\t | 6\t | 9\t | 12\t | 15\t | 18\t | 21\t | 24\t | 27\t | 30\t | 33\t | 36\t | 39\t | 42\t | 45\t | \n",
      "4\t | 8\t | 12\t | 16\t | 20\t | 24\t | 28\t | 32\t | 36\t | 40\t | 44\t | 48\t | 52\t | 56\t | 60\t | \n",
      "5\t | 10\t | 15\t | 20\t | 25\t | 30\t | 35\t | 40\t | 45\t | 50\t | 55\t | 60\t | 65\t | 70\t | 75\t | \n",
      "6\t | 12\t | 18\t | 24\t | 30\t | 36\t | 42\t | 48\t | 54\t | 60\t | 66\t | 72\t | 78\t | 84\t | 90\t | \n",
      "7\t | 14\t | 21\t | 28\t | 35\t | 42\t | 49\t | 56\t | 63\t | 70\t | 77\t | 84\t | 91\t | 98\t | 105\t | \n",
      "8\t | 16\t | 24\t | 32\t | 40\t | 48\t | 56\t | 64\t | 72\t | 80\t | 88\t | 96\t | 104\t | 112\t | 120\t | \n",
      "9\t | 18\t | 27\t | 36\t | 45\t | 54\t | 63\t | 72\t | 81\t | 90\t | 99\t | 108\t | 117\t | 126\t | 135\t | \n",
      "10\t | 20\t | 30\t | 40\t | 50\t | 60\t | 70\t | 80\t | 90\t | 100\t | 110\t | 120\t | 130\t | 140\t | 150\t | \n",
      "11\t | 22\t | 33\t | 44\t | 55\t | 66\t | 77\t | 88\t | 99\t | 110\t | 121\t | 132\t | 143\t | 154\t | 165\t | \n",
      "12\t | 24\t | 36\t | 48\t | 60\t | 72\t | 84\t | 96\t | 108\t | 120\t | 132\t | 144\t | 156\t | 168\t | 180\t | \n"
     ]
    }
   ],
   "source": [
    "# declaring the function\n",
    "def header(n):\n",
    "    for i in range(1):\n",
    "        for j in range(1, n+1):\n",
    "            print( 'x_' + str(j), end = '\\t | ' )\n",
    "        print()\n",
    "    print('----' * 30)\n",
    "    \n",
    "    \n",
    "def create_multipliction_table(n):\n",
    "    header(mul_input)\n",
    "    for i in range(1,13):\n",
    "        for j in range(1, n+1):\n",
    "            print(i * j , end = '\\t | ')\n",
    "        print() \n",
    "    \n",
    "mul_input = int(input(\"Please enter Times table format: \"))\n",
    "\n",
    "# call the function\n",
    "create_multipliction_table(mul_input)"
   ]
  },
  {
   "cell_type": "markdown",
   "id": "028c8fd1",
   "metadata": {},
   "source": [
    "## Exercise 11: continue statement in for loop\n",
    "\n",
    "Using the shopping list example\n",
    "- Add anytype of object of list\n",
    "    - string\n",
    "    - number\n",
    "    \n",
    "Cause everything in the loop to be ignored and continues with the next iteration of the loop"
   ]
  },
  {
   "cell_type": "code",
   "execution_count": 3,
   "id": "88e2a1c7",
   "metadata": {},
   "outputs": [
    {
     "name": "stdout",
     "output_type": "stream",
     "text": [
      "Buy milk\n",
      "Buy pasta\n",
      "Buy eggs\n",
      "Buy bread\n",
      "Buy rice\n"
     ]
    }
   ],
   "source": [
    "shopping_list = ['milk', 'pasta', 'eggs', 'spam', 'bread', 'rice']\n",
    "\n",
    "for item in shopping_list:\n",
    "    # if you dont like an item in list, you can check and exclude it if not what you want\n",
    "    if item != \"spam\":\n",
    "        print(\"Buy \" + item)"
   ]
  },
  {
   "cell_type": "code",
   "execution_count": 5,
   "id": "efc79237",
   "metadata": {},
   "outputs": [
    {
     "name": "stdout",
     "output_type": "stream",
     "text": [
      "Buy milk\n",
      "Buy pasta\n",
      "Buy eggs\n",
      "Buy bread\n",
      "Buy rice\n"
     ]
    }
   ],
   "source": [
    "# Using continue to move on if its not what you want\n",
    "\n",
    "for item in shopping_list:\n",
    "    # if you dont like an item in list, you can check and continue\n",
    "    if item == \"spam\":\n",
    "        continue  # Cause everything in the loop to be ignored and continues with the next iteration of the loop\n",
    "    print(\"Buy \" + item)"
   ]
  },
  {
   "cell_type": "code",
   "execution_count": 6,
   "id": "c5cf442f",
   "metadata": {},
   "outputs": [
    {
     "name": "stdout",
     "output_type": "stream",
     "text": [
      "The current letter is: j\n",
      "The current letter is: a\n",
      "The current letter is: n\n",
      "The current letter is: g\n",
      "The current letter is: o\n"
     ]
    }
   ],
   "source": [
    "for letter in 'Django':\n",
    "    if letter  == 'D':\n",
    "        continue\n",
    "    print(f'The current letter is: {letter}')"
   ]
  },
  {
   "cell_type": "code",
   "execution_count": null,
   "id": "e6748fa4",
   "metadata": {},
   "outputs": [],
   "source": [
    "# Use it when there are alot of conditions to be fulfilled before main code\n",
    "# this helps you avoid getting deeply nested\n",
    "\n",
    "for x,y in zip(a,b):\n",
    "    if x <= y:\n",
    "        continue\n",
    "    z = calculate_z(x,y)\n",
    "    if y - z >= x:\n",
    "        continue\n",
    "    y = min(y, z)\n",
    "    if x**2 - y**2 <= 0:\n",
    "        continue\n",
    "    lot_of()\n",
    "    code_here()"
   ]
  },
  {
   "cell_type": "markdown",
   "id": "5d02e3f8",
   "metadata": {},
   "source": [
    "## Exercise 12 : break statement in the for loop\n",
    "\n",
    "This terminates the block when it gets to that specific condition\n",
    "\n",
    "Using the example where you are searching for an item in a super long list. \n",
    "- if you find the item we are looking for the is use searching the rest of the item."
   ]
  },
  {
   "cell_type": "code",
   "execution_count": 7,
   "id": "6238bade",
   "metadata": {},
   "outputs": [
    {
     "name": "stdout",
     "output_type": "stream",
     "text": [
      "Buy milk\n",
      "Buy pasta\n",
      "Buy eggs\n"
     ]
    }
   ],
   "source": [
    "for item in shopping_list:\n",
    "    # if you dont like an item in list, you can check and continue\n",
    "    if item == \"spam\":\n",
    "        break  # Cause everything in the loop to be ignored and stops completely\n",
    "    print(\"Buy \" + item)"
   ]
  },
  {
   "cell_type": "markdown",
   "id": "31914f42",
   "metadata": {},
   "source": [
    "## Exercise 13 : Searching for an item"
   ]
  },
  {
   "cell_type": "code",
   "execution_count": 12,
   "id": "acaac118",
   "metadata": {},
   "outputs": [
    {
     "name": "stdout",
     "output_type": "stream",
     "text": [
      "Item found at position: None\n"
     ]
    }
   ],
   "source": [
    "# find item in the variable\n",
    "# and once found, store poition at found@ variable\n",
    "\n",
    "shopping_list\n",
    "\n",
    "item_to_find = \"spam\"\n",
    "found_at = None # constant used to show something doesnt have a value\n",
    "\n",
    "for index in range(len(shopping_list)):\n",
    "    if shopping_list[index] == item_to_find:\n",
    "        found_at == index\n",
    "        break\n",
    "print(f'Item found at position: {found_at}')"
   ]
  },
  {
   "cell_type": "markdown",
   "id": "6c69d16e",
   "metadata": {},
   "source": [
    "## Exercise 14 : What happends when item doesnt exhist"
   ]
  },
  {
   "cell_type": "code",
   "execution_count": 13,
   "id": "261fa126",
   "metadata": {},
   "outputs": [
    {
     "data": {
      "text/plain": [
       "['milk', 'pasta', 'eggs', 'spam', 'bread', 'rice']"
      ]
     },
     "execution_count": 13,
     "metadata": {},
     "output_type": "execute_result"
    }
   ],
   "source": [
    "shopping_list"
   ]
  },
  {
   "cell_type": "code",
   "execution_count": 14,
   "id": "73bcf39f",
   "metadata": {},
   "outputs": [
    {
     "name": "stdout",
     "output_type": "stream",
     "text": [
      "Item found at position: None\n"
     ]
    }
   ],
   "source": [
    "item_to_find = \"pen\"\n",
    "found_at = None # constant used to show something doesnt have a value\n",
    "\n",
    "for index in range(len(shopping_list)):\n",
    "    if shopping_list[index] == item_to_find:\n",
    "        found_at == index\n",
    "        break\n",
    "print(f'Item found at position: {found_at}')"
   ]
  },
  {
   "cell_type": "code",
   "execution_count": 15,
   "id": "964c8816",
   "metadata": {},
   "outputs": [
    {
     "name": "stdout",
     "output_type": "stream",
     "text": [
      "Item found at position: None\n"
     ]
    }
   ],
   "source": [
    "item_to_find = \"pen\"\n",
    "# found_at = None # constant used to show something doesnt have a value\n",
    "\n",
    "for index in range(len(shopping_list)):\n",
    "    if shopping_list[index] == item_to_find:\n",
    "        found_at == index\n",
    "        break\n",
    "print(f'Item found at position: {found_at}')"
   ]
  },
  {
   "cell_type": "code",
   "execution_count": 16,
   "id": "8b7d5eae",
   "metadata": {},
   "outputs": [
    {
     "name": "stdout",
     "output_type": "stream",
     "text": [
      "pen not found\n"
     ]
    }
   ],
   "source": [
    "item_to_find = \"pen\"\n",
    "found_at = None # constant used to show something doesnt have a value\n",
    "\n",
    "for index in range(len(shopping_list)):\n",
    "    if shopping_list[index] == item_to_find:\n",
    "        found_at == index\n",
    "        break\n",
    "        \n",
    "if found_at is not None:\n",
    "    print(f'Item found at position: {found_at}')\n",
    "else:\n",
    "    print(f'{item_to_find} not found')"
   ]
  },
  {
   "cell_type": "code",
   "execution_count": 18,
   "id": "a9190ac5",
   "metadata": {},
   "outputs": [
    {
     "name": "stdout",
     "output_type": "stream",
     "text": [
      "Item found at position: 3\n"
     ]
    }
   ],
   "source": [
    "# Better way to write the above code\n",
    "\n",
    "item_to_find = \"spam\"\n",
    "\n",
    "if item_to_find in shopping_list:\n",
    "    found_at = shopping_list.index(item_to_find)\n",
    "    \n",
    "if found_at is not None:\n",
    "    print(f'Item found at position: {found_at}')\n",
    "else:\n",
    "    print(f'{item_to_find} not found')"
   ]
  },
  {
   "cell_type": "markdown",
   "id": "ba40a0af",
   "metadata": {},
   "source": [
    "# While Loop\n",
    "\n",
    "## Exercise 1: from for loop to while loop\n",
    "\n",
    "Used to loop as long as a condition is True and stop when it becomes False"
   ]
  },
  {
   "cell_type": "code",
   "execution_count": 19,
   "id": "27105403",
   "metadata": {},
   "outputs": [
    {
     "name": "stdout",
     "output_type": "stream",
     "text": [
      "i is now 0\n",
      "i is now 1\n",
      "i is now 2\n",
      "i is now 3\n",
      "i is now 4\n",
      "i is now 5\n",
      "i is now 6\n",
      "i is now 7\n",
      "i is now 8\n",
      "i is now 9\n"
     ]
    }
   ],
   "source": [
    "for i in range(10):\n",
    "    print(f'i is now {i}')"
   ]
  },
  {
   "cell_type": "code",
   "execution_count": 21,
   "id": "e9c6006a",
   "metadata": {},
   "outputs": [
    {
     "name": "stdout",
     "output_type": "stream",
     "text": [
      "i is now 0\n",
      "i is now 1\n",
      "i is now 2\n",
      "i is now 3\n",
      "i is now 4\n",
      "i is now 5\n",
      "i is now 6\n",
      "i is now 7\n",
      "i is now 8\n",
      "i is now 9\n"
     ]
    }
   ],
   "source": [
    "i = 0\n",
    "\n",
    "while i < 10:\n",
    "    print(f'i is now {i}')\n",
    "    i = i + 1"
   ]
  },
  {
   "cell_type": "markdown",
   "id": "66feb3ac",
   "metadata": {},
   "source": [
    "## Exercise 2: Adventure with while loop"
   ]
  },
  {
   "cell_type": "code",
   "execution_count": 22,
   "id": "2db71429",
   "metadata": {},
   "outputs": [
    {
     "name": "stdout",
     "output_type": "stream",
     "text": [
      "Please choose a direction: west\n",
      "Are'nt you glad you got out of there?\n"
     ]
    }
   ],
   "source": [
    "available_exits = ['north', 'south', 'east', 'west']\n",
    "\n",
    "chosen_exit = \"\"\n",
    "\n",
    "while chosen_exit not in available_exits:\n",
    "    chosen_exit = input(\"Please choose a direction: \")\n",
    "print('Are\\'nt you glad you got out of there?')\n",
    "\n",
    "# while empty string is not in the above list, ask user to input direction.\n",
    "# while input is not in the list again (True), ask user again\n",
    "# while input is not not in the list again (False), execute print line"
   ]
  },
  {
   "cell_type": "markdown",
   "id": "b59b4830",
   "metadata": {},
   "source": [
    "## Exercise 3: Using break and continue with while loops"
   ]
  },
  {
   "cell_type": "code",
   "execution_count": 23,
   "id": "244880fb",
   "metadata": {},
   "outputs": [
    {
     "name": "stdout",
     "output_type": "stream",
     "text": [
      "Please choose a direction: quit\n",
      "Game over\n",
      "Are'nt you glad you got out of there?\n"
     ]
    }
   ],
   "source": [
    "available_exits = ['north', 'south', 'east', 'west']\n",
    "\n",
    "chosen_exit = \"\"\n",
    "\n",
    "while chosen_exit not in available_exits:\n",
    "    chosen_exit = input(\"Please choose a direction: \")\n",
    "    if chosen_exit == 'quit':\n",
    "        print('Game over')\n",
    "        break\n",
    "print('Are\\'nt you glad you got out of there?')"
   ]
  },
  {
   "cell_type": "code",
   "execution_count": 24,
   "id": "962cb346",
   "metadata": {},
   "outputs": [
    {
     "name": "stdout",
     "output_type": "stream",
     "text": [
      "Please choose a direction: Quit\n",
      "Game over\n",
      "Are'nt you glad you got out of there?\n"
     ]
    }
   ],
   "source": [
    "available_exits = ['north', 'south', 'east', 'west']\n",
    "\n",
    "chosen_exit = \"\"\n",
    "\n",
    "while chosen_exit not in available_exits:\n",
    "    chosen_exit = input(\"Please choose a direction: \")\n",
    "    if chosen_exit.casefold() == 'quit':\n",
    "        print('Game over')\n",
    "        break\n",
    "print('Are\\'nt you glad you got out of there?')"
   ]
  },
  {
   "cell_type": "markdown",
   "id": "00050b9f",
   "metadata": {},
   "source": [
    "## Exercise 4: Break\n",
    "Modify the code so that it stops printing when it reaches a number greater than zero that's exactly divisible by 11.\n",
    "\n",
    "That number should be the last value printed.\n",
    "\n",
    "Reminder: If a value, x, is divisible by 11 then x % 11 will be zero.\n",
    "\n",
    "The code should print the same values as it currently does, but stop after printing a number that's also divisible by 11.\n",
    "\n",
    "Hint: 0 is exactly divisible by every number, so your solution will need to allow for that."
   ]
  },
  {
   "cell_type": "code",
   "execution_count": 25,
   "id": "f3c39bf9",
   "metadata": {},
   "outputs": [
    {
     "name": "stdout",
     "output_type": "stream",
     "text": [
      "0\n",
      "7\n",
      "14\n",
      "21\n",
      "28\n",
      "35\n",
      "42\n",
      "49\n",
      "56\n",
      "63\n",
      "70\n",
      "77\n"
     ]
    }
   ],
   "source": [
    "# Modify the code inside this loop to stop when i is greater than zero and exactly divisible by 11\n",
    "for i in range(0, 100, 7):\n",
    "    print(i)\n",
    "    if i > 0 and i % 11 == 0:\n",
    "        break"
   ]
  },
  {
   "cell_type": "markdown",
   "id": "d6508e10",
   "metadata": {},
   "source": [
    "## Exercise 5: Continue \n",
    "Write a program to print out all the numbers from 0 to 20 that aren't divisible by either 3 or 5.\n",
    "\n",
    "Zero is considered divisible by everything (zero should not appear in the output).\n",
    "\n",
    "The aim is to use the continue statement, but it's also possible to do this without continue."
   ]
  },
  {
   "cell_type": "code",
   "execution_count": 26,
   "id": "4c2a8a2b",
   "metadata": {},
   "outputs": [
    {
     "name": "stdout",
     "output_type": "stream",
     "text": [
      "1\n",
      "2\n",
      "4\n",
      "7\n",
      "8\n",
      "11\n",
      "13\n",
      "14\n",
      "16\n",
      "17\n",
      "19\n"
     ]
    }
   ],
   "source": [
    "# using continue\n",
    "for x in range(21):\n",
    "    if x % 3 == 0 or x % 5 == 0:\n",
    "        continue\n",
    "    print(x)"
   ]
  },
  {
   "cell_type": "code",
   "execution_count": 27,
   "id": "c62e1358",
   "metadata": {},
   "outputs": [
    {
     "name": "stdout",
     "output_type": "stream",
     "text": [
      "1\n",
      "2\n",
      "4\n",
      "7\n",
      "8\n",
      "11\n",
      "13\n",
      "14\n",
      "16\n",
      "17\n",
      "19\n"
     ]
    }
   ],
   "source": [
    "# without continue\n",
    "for x in range(21):\n",
    "    if x % 3 != 0 and x % 5 != 0:\n",
    "        print(x)"
   ]
  },
  {
   "cell_type": "markdown",
   "id": "5f62f46a",
   "metadata": {},
   "source": [
    "## Exercise 6 : Checking Single digit using while loop\n",
    "This must do the following:\n",
    "- if you type a single digit, program must say \"valid single digit\"\n",
    "- If a double digit or more, it must say \"invalid digit\"\n",
    "\n",
    "### Psuedocode\n",
    "\n",
    "##### Declare the function\n",
    "- Use the def keyword\n",
    "    - followed by function name\n",
    "    - in parentheses, parse the parameter\n",
    "- Use an if-else statement\n",
    "    - check the length of the number and if its a digit\n",
    "    - return true \n",
    "    - else return false\n",
    "    \n",
    "- Use a while loop if true\n",
    "    - take the user inputted number\n",
    "- if above function is true\n",
    "    - print sentence\n",
    "    - then break\n",
    "    - else \n",
    "    - print the other statement\n",
    "    \n",
    "- print what you like to say and show the unputted number"
   ]
  },
  {
   "cell_type": "code",
   "execution_count": null,
   "id": "442c5b71",
   "metadata": {},
   "outputs": [],
   "source": [
    "def check_single_digit(number):\n",
    "    if len(number) == 1 and number.isdigit():\n",
    "        return True\n",
    "    else:\n",
    "        return False\n",
    "    \n",
    "    \n",
    "while True:\n",
    "    input_digit = input(\"Please enter the number you want to chack: \")\n",
    "    if check_single_digit(input_digit):\n",
    "        print('This is a valid single digit, Thank you.')\n",
    "        break\n",
    "    else:\n",
    "        print(\"Not a valid single digit. please try again.\")\n",
    "\n",
    "print(\"The single digit you have entered is: \", input_digit)"
   ]
  },
  {
   "cell_type": "markdown",
   "id": "77650ea9",
   "metadata": {},
   "source": [
    "## TERMS TO REMEMBER:\n",
    "- User Input: \n",
    "    - The program prompts the user to enter a number (n). \n",
    "    - This number determines the size of the pattern to be generated.\n",
    "- For Loop: \n",
    "    - A for loop is employed to iterate from the range. \n",
    "    - The loop variable i will be used.\n",
    "- Outer Loop (for i in range(......):): \n",
    "    - The outer loop runs from 1 to n (inclusive). \n",
    "    - It is responsible for iterating through each **row** of the pattern.\n",
    "- Inner Loop (for j in range(....):): \n",
    "    - The inner loop runs from 1 to i (inclusive), where i is the current value of the outer loop variable. \n",
    "    - This loop controls the number of **columns for each row**, \n",
    "        - starting from 1 and incrementing with each iteration of the outer loop.\n",
    "- Second Inner Loop (for k in range(....):): \n",
    "    - This inner loop is responsible for printing the asterisks in each line.\n",
    "    - The number of asterisks is determined by the expression. \n",
    "        - As i increases, the number of asterisks decreases.\n",
    "- Printing Asterisks: The print('*' * n) statement \n",
    "    - The statement cleverly utilizes the * operator to create a row of asterisks. \n",
    "    - The sequence '*' represents an asterisk \n",
    "        - followed by a space, \n",
    "        - and by multiplying it by n, \n",
    "            - we create a row of n asterisks separated by spaces.\n",
    "- Print Statement (print('*', end=' ')): \n",
    "    - Inside the inner loop, the program prints an asterisk (*) followed by a space. \n",
    "    - The end=' ' parameter ensures that the next character will be printed with a space instead of a new line, keeping the output on the same line.\n",
    "- Newline (print()): \n",
    "    - After the inner loop completes for a particular row, the program uses print() without any arguments to move to the next line. \n",
    "    - This creates a new line for the next row of the pattern."
   ]
  },
  {
   "cell_type": "markdown",
   "id": "9c9f51dc",
   "metadata": {},
   "source": [
    "## Exercise 7 : Square grid"
   ]
  },
  {
   "cell_type": "code",
   "execution_count": 10,
   "id": "6f23991f",
   "metadata": {},
   "outputs": [
    {
     "name": "stdout",
     "output_type": "stream",
     "text": [
      "enter a number: 7\n",
      "* * * * * * * \n",
      "* * * * * * * \n",
      "* * * * * * * \n",
      "* * * * * * * \n",
      "* * * * * * * \n",
      "* * * * * * * \n",
      "* * * * * * * \n"
     ]
    }
   ],
   "source": [
    "# SQUARE GRID PATTERN:\n",
    "\n",
    "n = int(input('enter a number: ')) # Taking input from the user and  converting it to an integer\n",
    "\n",
    "for i in range(n):   # Using for loop to iterate from 0 to n-1\n",
    "    print('* ' * n)  # Printing row of asterisk '*' multiplied by the value n"
   ]
  },
  {
   "cell_type": "markdown",
   "id": "145816b7",
   "metadata": {},
   "source": [
    "## Exercise 8: Triangle grid"
   ]
  },
  {
   "cell_type": "code",
   "execution_count": 11,
   "id": "ef72899e",
   "metadata": {},
   "outputs": [
    {
     "name": "stdout",
     "output_type": "stream",
     "text": [
      "enter a number: 7\n",
      "* \n",
      "* * \n",
      "* * * \n",
      "* * * * \n",
      "* * * * * \n",
      "* * * * * * \n",
      "* * * * * * * \n"
     ]
    }
   ],
   "source": [
    "# INCREASING TRIANGLE PATTERN\n",
    "\n",
    "n = int(input('enter a number: ')) # Taking input from the user and  converting it to an integer\n",
    "\n",
    "for i in range(1, n + 1): # looping for n number of rows\n",
    "    for j in range(1, i + 1): # looping for i number of columns for each row\n",
    "        print('*', end = ' ') # Printing '*' separated by space\n",
    "    print() # Empty print() method for next line"
   ]
  },
  {
   "cell_type": "code",
   "execution_count": 12,
   "id": "cf2084b1",
   "metadata": {},
   "outputs": [
    {
     "name": "stdout",
     "output_type": "stream",
     "text": [
      "enter a number: 7\n",
      "* * * * * * * \n",
      "* * * * * * \n",
      "* * * * * \n",
      "* * * * \n",
      "* * * \n",
      "* * \n",
      "* \n"
     ]
    }
   ],
   "source": [
    "# DECREASING TRIANGLE PATTERN\n",
    "\n",
    "n = int(input('enter a number: ')) # Taking input from the user and  converting it to an integer\n",
    "\n",
    "for i in range(n, 0, -1): # Looping for number of rows ing given range in revers order\n",
    "    for j in range(i): # Loop for printing the number of columns in given range\n",
    "        print('*', end = ' ') # Printing '*' separated by space\n",
    "    print() # Empty print() method for next line    "
   ]
  },
  {
   "cell_type": "code",
   "execution_count": 15,
   "id": "1a947dc6",
   "metadata": {},
   "outputs": [
    {
     "name": "stdout",
     "output_type": "stream",
     "text": [
      "enter a number: 7\n",
      "* * * * * * * \n",
      "  * * * * * * \n",
      "    * * * * * \n",
      "      * * * * \n",
      "        * * * \n",
      "          * * \n",
      "            * \n"
     ]
    }
   ],
   "source": [
    "# RIGHT-ALIGNED DECREASING TRIANGULAR PATTERN\n",
    "\n",
    "n = int(input('enter a number: ')) # Taking input from the user and  converting it to an integer\n",
    "\n",
    "for i in range(n): # Outer loop iterting from 0 to n-1\n",
    "    for j in range(i): # Inner loop to print spaces before astericks\n",
    "        print(' ', end = ' ') # Printing ' ' separated by space\n",
    "    for k in range(n - i): # Inner loop to print asteriscks\n",
    "        print('*', end = ' ') # Printing '*' separated by space\n",
    "    print() # Empty print() method for next line "
   ]
  },
  {
   "cell_type": "code",
   "execution_count": 16,
   "id": "39c1bda4",
   "metadata": {},
   "outputs": [
    {
     "name": "stdout",
     "output_type": "stream",
     "text": [
      "enter a number: 7\n",
      "              \n",
      "            * \n",
      "          * * \n",
      "        * * * \n",
      "      * * * * \n",
      "    * * * * * \n",
      "  * * * * * * \n",
      "* * * * * * * \n"
     ]
    }
   ],
   "source": [
    "# RIGHT-ALIGNED TRIANGULAR PATTERN\n",
    "\n",
    "n = int(input('enter a number: ')) # Taking input from the user and  converting it to an integer\n",
    "\n",
    "for i in range(0, n + 1): # Outer loop iterting each line starting from 0 up to n\n",
    "    for j in range(n - i): # Inner loop to print spaces before astericks\n",
    "        print(' ', end = ' ') # Printing ' ' separated by space\n",
    "    for j in range(i): # Inner loop to print asteriscks\n",
    "        print('*', end = ' ') # Printing '*' separated by space\n",
    "    print() # Empty print() method for next line "
   ]
  },
  {
   "cell_type": "markdown",
   "id": "02085594",
   "metadata": {},
   "source": [
    "## Exercise : Print a right angle tringle"
   ]
  },
  {
   "cell_type": "code",
   "execution_count": 22,
   "id": "0404132d",
   "metadata": {},
   "outputs": [
    {
     "name": "stdout",
     "output_type": "stream",
     "text": [
      "Please input the charactor you want to use: &\n",
      "Please enter the number of rows: 10\n",
      "&\n",
      "&&\n",
      "&&&\n",
      "&&&&\n",
      "&&&&&\n",
      "&&&&&&\n",
      "&&&&&&&\n",
      "&&&&&&&&\n",
      "&&&&&&&&&\n",
      "&&&&&&&&&&\n",
      "         &\n",
      "        &&\n",
      "       &&&\n",
      "      &&&&\n",
      "     &&&&&\n",
      "    &&&&&&\n",
      "   &&&&&&&\n",
      "  &&&&&&&&\n",
      " &&&&&&&&&\n",
      "&&&&&&&&&&\n"
     ]
    }
   ],
   "source": [
    "def right_angle_pattern(row):\n",
    "    for i in range(1,row + 1): # Range will start form the 1 to the number of input rows plus 1 to give those rows specified\n",
    "        print(my_input * i)\n",
    "        \n",
    "def reverse_right_angle_Pattern(row):\n",
    "    for i in range(1, row + 1):\n",
    "        print(\" \" * (row - i) + (my_input * i))\n",
    "        \n",
    "my_input = input(\"Please input the charactor you want to use: \")\n",
    "\n",
    "num_rows = int(input(\"Please enter the number of rows: \"))\n",
    "\n",
    "right_angle_pattern(num_rows) \n",
    "reverse_right_angle_Pattern(num_rows)"
   ]
  },
  {
   "cell_type": "markdown",
   "id": "cf0a7d67",
   "metadata": {},
   "source": [
    "## Exercise 9 : Printing shapes\n",
    "\n",
    "### Printing the letter E "
   ]
  },
  {
   "cell_type": "code",
   "execution_count": null,
   "id": "d67b3a4d",
   "metadata": {},
   "outputs": [],
   "source": [
    "def print_letter_E(rows):\n",
    "    for row in range(rows):\n",
    "        for col in range(rows):\n",
    "            if col == 0 or (row == 0 or row == rows // 2 or row == rows -1):\n",
    "                print(\"*\", end=\"\")\n",
    "            else:\n",
    "                print(\" \", end=\"\")\n",
    "        print()\n",
    "        \n",
    "rows = int(input(\"Please Enter the number of rows for the Letter E(Minimum 5 rows): \"))\n",
    "print_letter_E(rows)"
   ]
  },
  {
   "cell_type": "markdown",
   "id": "456670a3",
   "metadata": {},
   "source": [
    "### Printing the letter F"
   ]
  },
  {
   "cell_type": "code",
   "execution_count": null,
   "id": "7d7ec21f",
   "metadata": {},
   "outputs": [],
   "source": [
    "def print_letter_F(rows):\n",
    "    for row in range(rows):\n",
    "        for col in range(rows):\n",
    "            if col == 0 or (row == 0 or row == rows // 2):\n",
    "                print(\"$\", end=\"\")\n",
    "            else:\n",
    "                print(\" \",end=\"\")\n",
    "        print()\n",
    "\n",
    "F_rows = int(input(\"Enter the rows for the letter F(minimum of 5): \"))\n",
    "print_letter_F(F_rows)"
   ]
  },
  {
   "cell_type": "markdown",
   "id": "60ab154f",
   "metadata": {},
   "source": [
    "## Exercise 10: Random Module"
   ]
  },
  {
   "cell_type": "code",
   "execution_count": 29,
   "id": "cc48b1e5",
   "metadata": {},
   "outputs": [],
   "source": [
    "import random\n",
    "\n",
    "## Functions\n",
    "\n",
    "# seed(): Initialize the random number generator\n",
    "# getstate(): Returns the current internal state of the random number generator\n",
    "# setstate(): Restores the internal state of the random number generator\n",
    "# getrandbits(): Returns a number representing the random bits\n",
    "# randrange(): Returns a random number between the given range\n",
    "# randint(): Returns a random number between the given range\n",
    "# choice(): Returns a random element from the given sequence\n",
    "# choices(): Returns a list with a random selection from the given sequence\n",
    "# shuffle(): Takes a sequence and returns the sequence in a random order\n",
    "# sample(): Returns a given sample of a sequence\n",
    "# random(): Returns a random float number between 0 and 1\n",
    "# uniform(): Returns a random float number between two given parameters\n",
    "# triangular(): Returns a random float number between two given parameters, you can also set a mode parameter to specify the midpoint between the two other parameters\n",
    "# betavariate(): Returns a random float number between 0 and 1 based on the Beta distribution (used in statistics)\n",
    "# expovariate(): Returns a random float number based on the Exponential distribution (used in statistics)\n",
    "# gammavariate(): Returns a random float number based on the Gamma distribution (used in statistics)\n",
    "# gauss(): Returns a random float number based on the Gaussian distribution (used in probability theories)\n",
    "# lognormvariate(): Returns a random float number based on a log-normal distribution (used in probability theories)\n",
    "# normalvariate(): Returns a random float number based on the normal distribution (used in probability theories)\n",
    "# vonmisesvariate(): Returns a random float number based on the von Mises distribution (used in directional statistics)\n",
    "# paretovariate(): Returns a random float number based on the Pareto distribution (used in probability theories)\n",
    "# weibullvariate(): Returns a random float number based on the Weibull distribution (used in statistics)"
   ]
  },
  {
   "cell_type": "code",
   "execution_count": 34,
   "id": "6601a4bb",
   "metadata": {},
   "outputs": [
    {
     "name": "stdout",
     "output_type": "stream",
     "text": [
      "4\n"
     ]
    }
   ],
   "source": [
    "# varaibilise the ranges\n",
    "\n",
    "high = 20\n",
    "low = 1\n",
    "\n",
    "answer = random.randint(low, high)\n",
    "print(answer)\n",
    "\n",
    "# Module.function"
   ]
  },
  {
   "cell_type": "code",
   "execution_count": 35,
   "id": "a3aea620",
   "metadata": {},
   "outputs": [
    {
     "name": "stdout",
     "output_type": "stream",
     "text": [
      "Please guess number between 1 and 20: \n",
      "14\n",
      "Please guess Lower\n",
      "4\n",
      "Well done, you guessed it\n"
     ]
    }
   ],
   "source": [
    "# input the guess from the user\n",
    "\n",
    "print(f\"Please guess number between 1 and {high}: \")\n",
    "\n",
    "guess = int(input())\n",
    "\n",
    "if guess == answer:\n",
    "    print(\"You got it the first time\")\n",
    "else:\n",
    "    if guess < answer:\n",
    "        print(\"Please guess Higher\")\n",
    "    else:\n",
    "        print(\"Please guess Lower\")\n",
    "    guess = int(input())\n",
    "    if guess == answer:\n",
    "        print(\"Well done, you guessed it\")\n",
    "    else:\n",
    "        print(\"Sorry, you have not guessed correctly\")"
   ]
  },
  {
   "cell_type": "markdown",
   "id": "3b095ad0",
   "metadata": {},
   "source": [
    "## Exercise 11: Using While loop in guessing game Random Module\n",
    "This will allow player to continue guessing\n",
    "\n",
    "As long as player enters the wrong answer the player will continue guessing answer"
   ]
  },
  {
   "cell_type": "code",
   "execution_count": 38,
   "id": "324f477b",
   "metadata": {},
   "outputs": [
    {
     "name": "stdout",
     "output_type": "stream",
     "text": [
      "9\n",
      "Please guess number between 1 and 20: \n",
      "14\n",
      "Please guess Lower\n",
      "7\n",
      "Please guess Higher\n",
      "10\n",
      "Please guess Lower\n",
      "8\n",
      "Please guess Higher\n",
      "9\n",
      "Well done, you guessed it\n"
     ]
    }
   ],
   "source": [
    "# varaibilise the ranges\n",
    "\n",
    "high = 20\n",
    "low = 1\n",
    "\n",
    "answer_while = random.randint(low, high) # Module.function\n",
    "print(answer_while)\n",
    "\n",
    "# Initialise to any number that doesn't equal the answer\n",
    "guess = 0 \n",
    "\n",
    "print(f\"Please guess number between 1 and {high}: \")\n",
    "\n",
    "while guess != answer_while:\n",
    "    guess = int(input())\n",
    "    if guess == answer_while:\n",
    "        print(\"Well done, you guessed it\")\n",
    "        break\n",
    "    else:\n",
    "        if guess < answer_while:\n",
    "            print(\"Please guess Higher\")\n",
    "        else:\n",
    "            print(\"Please guess Lower\")"
   ]
  },
  {
   "cell_type": "markdown",
   "id": "1b74a35a",
   "metadata": {},
   "source": [
    "## Exercise 12: Binary search using pass"
   ]
  },
  {
   "cell_type": "code",
   "execution_count": null,
   "id": "a12b582f",
   "metadata": {},
   "outputs": [],
   "source": [
    "# varaibilise the ranges\n",
    "\n",
    "high = 1000\n",
    "low = 1\n",
    "\n",
    "print(f\"Please think of a number between {low} and {high}: \")\n",
    "input(\"Please ENTER to start\")\n",
    "\n",
    "guesses = 1\n",
    "\n",
    "while True:\n",
    "    guesses = low + (high - low) // 2\n",
    "    hilo = input(f\"My guess is {guesses}. Should I guess higher or low? Enter H for higher, L for lower or C if my guess was correct\".casefold())\n",
    "    if hilo == 'h':\n",
    "        # Guess higher. THe low end of the range becomes 1 greater that the guess\n",
    "        pass\n",
    "    elif hilo == 'l':\n",
    "        # Guess Lower. The High end of the range becomes 1 less than the guess\n",
    "        pass\n",
    "    elif hilo == 'c'    \n",
    "        print(f\"Well done, you guessed it in {guesses} guesses\")\n",
    "        break\n",
    "    else:\n",
    "        print(\"Please enter h,l, or c\")"
   ]
  },
  {
   "cell_type": "code",
   "execution_count": 41,
   "id": "2a166d46",
   "metadata": {},
   "outputs": [
    {
     "name": "stdout",
     "output_type": "stream",
     "text": [
      "Please think of a number between 1 and 1000: \n",
      "Please ENTER to start\n",
      "guessing in the range 1 to 1000.\n",
      "my guess is 500. should i guess higher or low? enter h for higher, l for lower or c if my guess was correcth\n",
      "Please guess Higher\n",
      "guessing in the range 501 to 1000.\n",
      "my guess is 750. should i guess higher or low? enter h for higher, l for lower or c if my guess was correcth\n",
      "Please guess Higher\n",
      "guessing in the range 751 to 1000.\n",
      "my guess is 875. should i guess higher or low? enter h for higher, l for lower or c if my guess was correcth\n",
      "Please guess Higher\n",
      "guessing in the range 876 to 1000.\n",
      "my guess is 938. should i guess higher or low? enter h for higher, l for lower or c if my guess was correctl\n",
      "Please guess Lower\n",
      "guessing in the range 876 to 937.\n",
      "my guess is 906. should i guess higher or low? enter h for higher, l for lower or c if my guess was correcth\n",
      "Please guess Higher\n",
      "guessing in the range 907 to 937.\n",
      "my guess is 922. should i guess higher or low? enter h for higher, l for lower or c if my guess was correctl\n",
      "Please guess Lower\n",
      "guessing in the range 907 to 921.\n",
      "my guess is 914. should i guess higher or low? enter h for higher, l for lower or c if my guess was correctl\n",
      "Please guess Lower\n",
      "guessing in the range 907 to 913.\n",
      "my guess is 910. should i guess higher or low? enter h for higher, l for lower or c if my guess was correcth\n",
      "Please guess Higher\n",
      "guessing in the range 911 to 913.\n",
      "my guess is 912. should i guess higher or low? enter h for higher, l for lower or c if my guess was correcth\n",
      "Please guess Higher\n",
      "guessing in the range 913 to 913.\n",
      "my guess is 913. should i guess higher or low? enter h for higher, l for lower or c if my guess was correctc\n",
      "Well done, you guessed it in 10 guesses\n"
     ]
    }
   ],
   "source": [
    "# varaibilise the ranges\n",
    "\n",
    "high = 1000\n",
    "low = 1\n",
    "\n",
    "print(f\"Please think of a number between {low} and {high}: \")\n",
    "input(\"Please ENTER to start\")\n",
    "\n",
    "guesses = 1\n",
    "\n",
    "while True:\n",
    "    print(f\"guessing in the range {low} to {high}.\")\n",
    "    guess = low + (high - low) // 2\n",
    "    hilo = input(f\"My guess is {guess}. Should I guess higher or low? Enter H for higher, L for lower or C if my guess was correct\".casefold())\n",
    "    if hilo == 'h':\n",
    "        # Guess higher. THe low end of the range becomes 1 greater that the guess\n",
    "        low = guess + 1\n",
    "        print(\"Please guess Higher\")\n",
    "    elif hilo == 'l':\n",
    "        # Guess Lower. The High end of the range becomes 1 less than the guess\n",
    "        high = guess - 1\n",
    "        print(\"Please guess Lower\")\n",
    "    elif hilo == 'c':  \n",
    "        print(f\"Well done, you guessed it in {guesses} guesses\")\n",
    "        break\n",
    "    else:\n",
    "        print(\"Please enter h,l, or c\")\n",
    "    guesses = guesses + 1\n"
   ]
  },
  {
   "cell_type": "code",
   "execution_count": null,
   "id": "64210d3f",
   "metadata": {},
   "outputs": [],
   "source": []
  },
  {
   "cell_type": "code",
   "execution_count": null,
   "id": "13bbffa4",
   "metadata": {},
   "outputs": [],
   "source": []
  },
  {
   "cell_type": "code",
   "execution_count": null,
   "id": "c36e0a6d",
   "metadata": {},
   "outputs": [],
   "source": []
  },
  {
   "cell_type": "code",
   "execution_count": null,
   "id": "467b057f",
   "metadata": {},
   "outputs": [],
   "source": []
  },
  {
   "cell_type": "code",
   "execution_count": null,
   "id": "7c42bcf7",
   "metadata": {},
   "outputs": [],
   "source": []
  },
  {
   "cell_type": "markdown",
   "id": "4cbfe48c",
   "metadata": {},
   "source": [
    "# Iterating over Lists"
   ]
  },
  {
   "cell_type": "markdown",
   "id": "1fc6ed7d",
   "metadata": {},
   "source": [
    "## Exercise : Create a Linear search program\n",
    "- Search for an element in an array\n",
    "- We will take elements form a user and\n",
    "- We will ask user to put and element to search for \n",
    "- If the element matches whats in the array, then we print the index of the element\n",
    "- if not found it will print the sting \"not found\""
   ]
  },
  {
   "cell_type": "code",
   "execution_count": null,
   "id": "4c8e9acc",
   "metadata": {},
   "outputs": [],
   "source": [
    "def linear_search(arr,target):\n",
    "    # iterate using the range len construct\n",
    "    # len returns the len of array\n",
    "    # range describes the sequences 0- -1 which is the indexes for each element to access this array\n",
    "    for i in range(len(arr)):\n",
    "        # check if current element is equal to target\n",
    "        if arr[i] == target:\n",
    "            return i\n",
    "    return -1\n",
    "\n",
    "elements = input(\"Please enter the element of the list and make it Space separated: \").split()\n",
    "ls = [int(e) for e in elements]\n",
    "\n",
    "target = int(input(\"Enter the element to search for: \"))\n",
    "\n",
    "index = linear_search(ls, target)\n",
    "\n",
    "\n",
    "# if function has found the element, it must do this else do theat\n",
    "if index != -1:\n",
    "    print(\"Element \", target, \" is found at index: \", index)\n",
    "else:\n",
    "    print(\"Element \", target, \" is not found in the list.\")"
   ]
  },
  {
   "cell_type": "markdown",
   "id": "634c6097",
   "metadata": {},
   "source": [
    "## Exercise : Creating Colllatz in Python\n",
    "\n",
    "- The Collatz conjecture is one of the most famous unsolved problems in mathematics. The conjecture asks whether repeating two simple arithmetic operations will eventually transform every positive integer into 1.\n",
    "\n",
    "### Psuedocode\n",
    "\n",
    "We want to see the if an arbituary even/odd number is given, how many times the number can be divisable intil it reaches 1 and not divasbale anymore.\n",
    "\n",
    "- if Number is even, an arithmetic operation is applied\n",
    "- if Number is odd, an arithmetic operation is applied\n",
    "\n",
    "##### Declaring the function\n",
    "- Use the def keyword\n",
    "    - followed by function name\n",
    "    - in parentheses, parse the parameter\n",
    "- Creating the variables\n",
    "    - Initialise var to increament == 1\n",
    "    - create and empyty list\n",
    "    - put a value to the list by using the append method\n",
    "- Use the while loop, and apply the condition which will stop it (until the number is greater than 1). While condition is true, do this\n",
    "    - also create condition to check if number is even or odd.\n",
    "    - once the condition change to false, loop must be false.\n",
    "- Take input value from user\n",
    "- also print the funtion(with input_var) to be included in list"
   ]
  },
  {
   "cell_type": "code",
   "execution_count": null,
   "id": "7606eca2",
   "metadata": {},
   "outputs": [],
   "source": [
    "def collatz(n):\n",
    "    inc = 1\n",
    "    ls_collats = []\n",
    "    ls_collats.append(n) # this makes the inputed number as 1dt number\n",
    "    \n",
    "    while n>1:\n",
    "        if n%2 == 0:\n",
    "            n = n/2\n",
    "        else:\n",
    "            n = (n*3)+1\n",
    "        ls_collats.append(n)\n",
    "        ls_len = len(ls_collats)\n",
    "        \n",
    "    return ls_collats, ls_len\n",
    "\n",
    "    \n",
    "\n",
    "num = int(input(\"Please Enter your digit: \"))\n",
    "print(collatz(num))"
   ]
  },
  {
   "cell_type": "markdown",
   "id": "5c49afd6",
   "metadata": {},
   "source": [
    "## Exercise : Checking for two consecutive ones\n",
    "\n",
    "- Count and see how many times a value has occured consevutively"
   ]
  },
  {
   "cell_type": "code",
   "execution_count": null,
   "id": "79da5d45",
   "metadata": {},
   "outputs": [],
   "source": [
    "def count_consecutives(ls):\n",
    "    # The 2 varaibles we will use\n",
    "    count = 0\n",
    "    total = 0\n",
    "    # use for loop to check if the numbers are consuctive\n",
    "    for num in ls:\n",
    "        if num == 1:\n",
    "            count = count + 1 # count will increase and go to the next line, if not 2, back to for loop check the next element. \n",
    "                              # if the next element is 1 again, count will Increase\n",
    "            if count == 2:    # if the count is 2 and is T\n",
    "                total = total + 1  # Total will increase\n",
    "        else:\n",
    "            count = 0\n",
    "    return total\n",
    "\n",
    "# Now take in the new inputs\n",
    "elements = input(\"Enter the elements of the list (space-separete): \").split()\n",
    "my_ls = [int(elem) for elem in elements]\n",
    "\n",
    "occ = count_consecutives(my_ls)\n",
    "print(\"Occcurances of two one consuctively happends: \", occ)"
   ]
  },
  {
   "cell_type": "markdown",
   "id": "be3684cf",
   "metadata": {},
   "source": [
    "## Exercise : Finding the gretest number in a list"
   ]
  },
  {
   "cell_type": "code",
   "execution_count": 23,
   "id": "2c9bf34b",
   "metadata": {},
   "outputs": [
    {
     "name": "stdout",
     "output_type": "stream",
     "text": [
      "Enter all the elements of your list(space-separated)44 55 77 3 63 28 245 632 673 13 578 31 57 21 67 \n",
      "[44, 55, 77, 3, 63, 28, 245, 632, 673, 13, 578, 31, 57, 21, 67]\n",
      "the greatest is elemement in the list is:  673\n"
     ]
    }
   ],
   "source": [
    "def find_greatest(lst):\n",
    "    if not lst:\n",
    "        return None\n",
    "    \n",
    "    great = lst[0]\n",
    "    \n",
    "    for num in lst:\n",
    "        if num> great:\n",
    "            great = num\n",
    "            \n",
    "    return great\n",
    "\n",
    "elem = input(\"Enter all the elements of your list(space-separated)\").split()\n",
    "ls = [int(x) for x in elem]\n",
    "\n",
    "result = find_greatest(ls)\n",
    "print(ls , sep = \",\")\n",
    "print(\"the greatest is elemement in the list is: \", result)"
   ]
  },
  {
   "cell_type": "markdown",
   "id": "ebeb9569",
   "metadata": {},
   "source": [
    "## Exercise : Most Non-Zero row in the matrix\n",
    "This program must find the non-zero rows in the Matrix such that we can find the customer that we would need to target\n",
    "\n",
    "classes:\n",
    "- No = 0\n",
    "- Yes = 1\n",
    "\n",
    "### Psudoecode\n",
    "\n",
    "##### Declaring the function\n",
    "- Use the def keyword\n",
    "    - followed by function name\n",
    "    - in parentheses, parse the parameter\n",
    "        - This function checks the rows with the least amount of zeros in it\n",
    "- Creating the variables\n",
    "    - keep the count of the non zero elements\n",
    "    - store the row with the most count\n",
    "- Use a for loop to check each row in the matrix\n",
    "    - Check the count of non-zero elements in the current row\n",
    "        - use the generative expression\n",
    "            - give me the number 1 for each element in row if that element is not equal to zero\n",
    "        - and the sum function to sum the ones\n",
    "    - use the if statement to check if the count is greater then the max_count(var1), if so, then do the following:\n",
    "        - store the count we have as the max_count(var1)\n",
    "        - store that row\n",
    "        - return the max row\n",
    "\n",
    "Now create our Matrix:\n",
    "\n",
    "- the number of rows = number of rows in spreadsheet at the moment/ ask user\n",
    "- the number of columns = number of columns in spreadsheet/ ask user\n",
    "\n",
    "- create empty matrix\n",
    "- print nextline\n",
    "- print string that is entering the elements\n",
    "- Use the for loop and get the elements in inputed row - vertical range\n",
    "    - create an empty list of the rows within the matrix\n",
    "    - use the for loop again to get the elements in the inputed col - Horizontal range\n",
    "        - ask for the elements stating the posititons using the f string\n",
    "        - append the elements in the row list\n",
    "    - append the rows and add them into the matrix\n",
    "\n",
    "- Print the matrix\n",
    "- Use for loop and print the rows in the matrix\n",
    "- the result is the function(and checking the matrix)\n",
    "\n",
    "\n",
    "print('non-zero elements')"
   ]
  },
  {
   "cell_type": "code",
   "execution_count": null,
   "id": "149e40fa",
   "metadata": {},
   "outputs": [],
   "source": [
    "def non_zero(matrix):\n",
    "    max_count = 0\n",
    "    max_row = None\n",
    "    \n",
    "    for row in matrix:\n",
    "        count = sum(1 for e in row if e != 0)\n",
    "        if count > max_count:\n",
    "            max_count = count\n",
    "            max_row = row\n",
    "    return max_row \n",
    "\n",
    "rows = int(input(\"Please enter the number of rows in the matrix: \"))\n",
    "cols = int(input(\"Please enter the number of columns in the matrix: \"))\n",
    "\n",
    "matrix = []\n",
    "print(\"\\n\")\n",
    "print(\"Enter the matrix elements: \")\n",
    "for i in range(rows):\n",
    "    row = []\n",
    "    for j in range(cols):\n",
    "        element = int(input(f\"Please enter the Elements in the matrix as position ({i}, {j}): \"))\n",
    "        row.append(element)\n",
    "    matrix.append(row)\n",
    "    \n",
    "print(\"Matrix: \")\n",
    "for row in matrix:\n",
    "    print(row)\n",
    "result = non_zero(matrix)\n",
    "print(\"Row with the most non-zero elements is: \", result)"
   ]
  },
  {
   "cell_type": "code",
   "execution_count": null,
   "id": "9158511d",
   "metadata": {},
   "outputs": [],
   "source": []
  },
  {
   "cell_type": "code",
   "execution_count": null,
   "id": "2705ecf4",
   "metadata": {},
   "outputs": [],
   "source": []
  },
  {
   "cell_type": "code",
   "execution_count": null,
   "id": "f003f634",
   "metadata": {},
   "outputs": [],
   "source": []
  },
  {
   "cell_type": "code",
   "execution_count": null,
   "id": "93e0c37d",
   "metadata": {},
   "outputs": [],
   "source": []
  },
  {
   "cell_type": "code",
   "execution_count": null,
   "id": "2ae608dc",
   "metadata": {},
   "outputs": [],
   "source": []
  },
  {
   "cell_type": "code",
   "execution_count": null,
   "id": "020b2843",
   "metadata": {},
   "outputs": [],
   "source": []
  },
  {
   "cell_type": "code",
   "execution_count": null,
   "id": "de805792",
   "metadata": {},
   "outputs": [],
   "source": []
  },
  {
   "cell_type": "code",
   "execution_count": null,
   "id": "0dac8cc9",
   "metadata": {},
   "outputs": [],
   "source": []
  },
  {
   "cell_type": "code",
   "execution_count": null,
   "id": "e3ec9ecd",
   "metadata": {},
   "outputs": [],
   "source": []
  },
  {
   "cell_type": "markdown",
   "id": "b8dc3723",
   "metadata": {},
   "source": [
    "# Using Iterators instead looping\n",
    "### Why use iterator instead of for loop Python?\n",
    "- Iterators can be more memory-efficient than for loops, especially with large data sets. \n",
    "- They only generate the next value when you ask for it, so they don’t load everything into memory at once.\n",
    "- We will learn special tool in Python’s itertools toolbox:\n",
    "    - infinite iterators that just keep on giving, \n",
    "    - finite iterators that know their limits,\n",
    "    - combinatoric iterators that love to mix and match.\n",
    "    \n",
    "### How do you loop through an iterator in Python?\n",
    "- You can use a for loop or the next() function to go through an iterator. \n",
    "    - For example, \n",
    "        - for items in the iterator: will loop through each item until it reaches the end.\n",
    "    \n",
    "## Infinite iterators\n",
    "- infinite iterators are the generators that never say “stop.” They just keep going and going!\n",
    "- infinite iterators: \n",
    "    - count, \n",
    "    - cycle, and \n",
    "    - repeat"
   ]
  },
  {
   "cell_type": "markdown",
   "id": "8720ccad",
   "metadata": {},
   "source": [
    "## Example 1: count()\n",
    "- The count() function creates an infinite iterator that generates consecutive numbers. \n",
    "- This function can be used for\n",
    "    - adding indexes or \n",
    "    - adding time-stamps to a dataset.\n",
    "    \n",
    "`count()` function \n",
    "- starts an infinite counter from 1. \n",
    "    - it pair each value from this counter with a weight measurement from our data set. \n",
    "    - This attaches a unique index to each weight measurement. \n",
    "        - The result is a dictionary where each weight is associated with a unique number."
   ]
  },
  {
   "cell_type": "code",
   "execution_count": 1,
   "id": "ddc3f819",
   "metadata": {},
   "outputs": [
    {
     "name": "stdout",
     "output_type": "stream",
     "text": [
      "{1: 70, 2: 71, 3: 69, 4: 68, 5: 70}\n"
     ]
    }
   ],
   "source": [
    "from itertools import count\n",
    "\n",
    "# Start counting from 1\n",
    "counter = count(start=1)\n",
    "\n",
    "# Simulated data points for weight measurements\n",
    "weight_data = [70, 71, 69, 68, 70]\n",
    "\n",
    "# Create a dictionary with indexes for each weight\n",
    "indexed_data = {}\n",
    "for index, weight in zip(counter, weight_data):\n",
    "    indexed_data[index] = weight\n",
    "print(indexed_data)"
   ]
  },
  {
   "cell_type": "markdown",
   "id": "41033f3c",
   "metadata": {},
   "source": [
    "## Example 2: cycle()\n",
    "- The cycle() function creates an infinite iterator that loops over an input sequence indefinitely.\n",
    "- This can be useful for \n",
    "    - tasks that require periodic or cyclical patterns.\n",
    "\n",
    "Example:\n",
    "-  weather data for seven days and next week’s temperature will be predicted to be similar to this week’s\n",
    "\n",
    "`cycle()` function\n",
    "- takes the list of days of the week and keeps repeating it. \n",
    "    - use islice() to take 14 values from this infinite loop, which gives us the days for the next two weeks. \n",
    "- We then pair each day with temperature data, effectively extending the 7-day temperature data into a 14-day forecast."
   ]
  },
  {
   "cell_type": "code",
   "execution_count": 2,
   "id": "56d07d40",
   "metadata": {},
   "outputs": [
    {
     "name": "stdout",
     "output_type": "stream",
     "text": [
      "[('Mon', 23), ('Tue', 25), ('Wed', 22), ('Thu', 21), ('Fri', 20), ('Sat', 19), ('Sun', 24), ('Mon', 23), ('Tue', 25), ('Wed', 22), ('Thu', 21), ('Fri', 20), ('Sat', 19), ('Sun', 24)]\n"
     ]
    }
   ],
   "source": [
    "from itertools import cycle, islice\n",
    "\n",
    "# Create a cycle of days of the week\n",
    "days_of_week = cycle(['Mon', 'Tue', 'Wed', 'Thu', 'Fri', 'Sat', 'Sun'])\n",
    "\n",
    "# Simulated temperature data for 7 days\n",
    "temperatures = [23, 25, 22, 21, 20, 19, 24]\n",
    "\n",
    "# Pair each temperature with a day of the week for the next two weeks\n",
    "next_two_weeks_temp = list(zip(islice(days_of_week, 14), temperatures * 2))\n",
    "\n",
    "print(next_two_weeks_temp)"
   ]
  },
  {
   "cell_type": "markdown",
   "id": "e37a32b0",
   "metadata": {},
   "source": [
    "## Example 3: repeat()\n",
    "- The repeat() function creates an iterator that produces a specified value indefinitely or for a given number of times.\n",
    "- This is useful when you need to fill or extend data with a constant value.\n",
    "\n",
    "Example:\n",
    "-  tracking monthly sales data and you want to project the same revenue for the next few months as a placeholder\n",
    "\n",
    "`repeat()` function \n",
    "- is set to produce the value 5000 for 3 times. \n",
    "- These repeated values are then combined with the existing revenue data to give a full list of total revenue, including projections.\n",
    "\n",
    "### What should you keep in mind when using the repeat () function of the Itertools module?\n",
    "- Be cautious with repeat() because it generates an infinite loop of repeated values. \n",
    "- Always pair it with another function to limit the repetitions, or you’ll get stuck in an endless loop!"
   ]
  },
  {
   "cell_type": "code",
   "execution_count": 3,
   "id": "224a1971",
   "metadata": {},
   "outputs": [
    {
     "name": "stdout",
     "output_type": "stream",
     "text": [
      "[4000, 4200, 4500, 5000, 5000, 5000]\n"
     ]
    }
   ],
   "source": [
    "from itertools import repeat\n",
    "\n",
    "# Use repeat to generate the same revenue for the next 3 months\n",
    "revenue_projection = list(repeat(5000, 3))\n",
    "\n",
    "# Existing revenue data for past months\n",
    "past_revenue = [4000, 4200, 4500]\n",
    "\n",
    "# Combine past revenue and future projections\n",
    "total_revenue = past_revenue + revenue_projection\n",
    "\n",
    "print(total_revenue)"
   ]
  },
  {
   "cell_type": "markdown",
   "id": "2757b841",
   "metadata": {},
   "source": [
    "## Finite iterators\n",
    "- deal with tasks having a definite endpoint.\n",
    "- Finite iterators:\n",
    "    - Chain(), \n",
    "    - Compress(),\n",
    "    - DropWhile()"
   ]
  },
  {
   "cell_type": "markdown",
   "id": "f9ba4c3c",
   "metadata": {},
   "source": [
    "## Example 1: chain()\n",
    "- The chain() function  creates an iterator that links multiple sequences together.\n",
    "- Useful for combining disparate data sets into a single sequence for easier analysis. \n",
    "\n",
    "Example:\n",
    "- Have quarterly sales data stored in different lists, and you want to analyze the sales data for the entire year.\n",
    "\n",
    "`chain()` function\n",
    "- takes in the sales data from each quarter and links them into a single list. \n",
    "- This unified list, annual_sales, is easier to analyze than four separate lists. \n",
    "- Combining data this way allows for more holistic insights and facilitates various types of analysis, \n",
    "    - trend identification\n",
    "    - statistical modeling."
   ]
  },
  {
   "cell_type": "code",
   "execution_count": 4,
   "id": "2fb6fd18",
   "metadata": {},
   "outputs": [
    {
     "name": "stdout",
     "output_type": "stream",
     "text": [
      "[1000, 1100, 1050, 1200, 1300, 1250, 1100, 1000, 1150, 1050, 1100, 1200]\n"
     ]
    }
   ],
   "source": [
    "from itertools import chain\n",
    "\n",
    "# Quarterly sales data for a year\n",
    "Q1_sales = [1000, 1100, 1050]\n",
    "Q2_sales = [1200, 1300, 1250]\n",
    "Q3_sales = [1100, 1000, 1150]\n",
    "Q4_sales = [1050, 1100, 1200]\n",
    "\n",
    "# Use chain to combine all the sales data\n",
    "annual_sales = list(chain(Q1_sales, Q2_sales, Q3_sales, Q4_sales))\n",
    "\n",
    "print(annual_sales)"
   ]
  },
  {
   "cell_type": "markdown",
   "id": "fba41f2e",
   "metadata": {},
   "source": [
    "## Example 2: compress()\n",
    "- The compress() function produces an iterator that filters elements from an input sequence based on another iterable containing Boolean values.\n",
    "- useful for quickly filtering large datasets based on a set of conditions, which helps in focusing the analysis on only the data that matters.\n",
    "\n",
    "Example\n",
    "- list of product reviews and a corresponding list that marks each review as either relevant or not relevant.\n",
    "\n",
    "`compress()` function \n",
    "- takes two lists: reviews and relevance_flags. \n",
    "- It goes through both lists together and keeps the reviews where the corresponding flag is 1 (relevant). \n",
    "- The result is a list containing only the relevant reviews."
   ]
  },
  {
   "cell_type": "code",
   "execution_count": 5,
   "id": "0070c2d2",
   "metadata": {},
   "outputs": [
    {
     "name": "stdout",
     "output_type": "stream",
     "text": [
      "['Great!', 'Excellent!']\n"
     ]
    }
   ],
   "source": [
    "from itertools import compress\n",
    "\n",
    "# Product reviews\n",
    "reviews = [\"Great!\", \"Bad!\", \"Average.\", \"Excellent!\", \"Poor!\"]\n",
    "\n",
    "# Relevance flags: 1 for relevant, 0 for irrelevant\n",
    "relevance_flags = [1, 0, 0, 1, 0]\n",
    "\n",
    "# Use compress to keep only relevant reviews\n",
    "relevant_reviews = list(compress(reviews, relevance_flags))\n",
    "\n",
    "print(relevant_reviews)"
   ]
  },
  {
   "cell_type": "markdown",
   "id": "2fec61a2",
   "metadata": {},
   "source": [
    "## Example 3: dropwhile()\n",
    "- The dropwhile() function creates an iterator that drops elements from an input sequence as long as a given condition is true.\n",
    "- useful for ignoring a segment of data that doesn’t meet certain criteria.\n",
    "\n",
    "Example\n",
    "- if you’re analyzing website traffic and want to focus only on periods of high activity, dropwhile() can help you ignore low-traffic intervals.\n",
    "\n",
    "`dropwhile()` function\n",
    "- uses the is_low_traffic function to skip over the first elements that are below 15. \n",
    "- Once it encounters an element that is 15 or higher, it includes all elements after that.\n",
    "- The result is a new list that starts from the first high-traffic hour."
   ]
  },
  {
   "cell_type": "code",
   "execution_count": 6,
   "id": "89ad856c",
   "metadata": {},
   "outputs": [
    {
     "name": "stdout",
     "output_type": "stream",
     "text": [
      "[15, 20, 25, 30]\n"
     ]
    }
   ],
   "source": [
    "from itertools import dropwhile\n",
    "\n",
    "# Hourly website traffic counts\n",
    "traffic_data = [10, 12, 8, 15, 20, 25, 30]\n",
    "\n",
    "# Function to check for low traffic\n",
    "def is_low_traffic(x):\n",
    "    return x < 15\n",
    "\n",
    "# Use dropwhile to ignore low-traffic hours\n",
    "high_traffic_data = list(dropwhile(is_low_traffic, traffic_data))\n",
    "\n",
    "print(high_traffic_data)"
   ]
  },
  {
   "cell_type": "markdown",
   "id": "6c3cc1ee",
   "metadata": {},
   "source": [
    "## Combinatoric iterators\n",
    "- explore all possible scenarios or arrangements in tasks.\n",
    "- designed to perform \n",
    "    - combinations, \n",
    "    - permutations, and \n",
    "    - cross-products"
   ]
  },
  {
   "cell_type": "markdown",
   "id": "41b0b375",
   "metadata": {},
   "source": [
    "## Example 1: product()\n",
    "- The product() function creates an iterator that produces the Cartesian product of input iterables.\n",
    "- This function is particularly useful for generating all possible combinations of different sets of parameters for model tuning.\n",
    "\n",
    "Example:\n",
    "- Imagine you want to try out various combinations of learning rates and batch sizes to optimize a machine-learning model.\n",
    "    - This helps in running experiments to fine-tune machine learning models, allowing you to test each combination systematically.\n",
    "    \n",
    "`product()` function \n",
    "- takes two lists: learning_rates and batch_sizes. \n",
    "- It then creates an iterator that gives you all possible pairs between these two lists. \n",
    "- The result, parameter_combinations, includes all possible combinations of learning rates and batch sizes."
   ]
  },
  {
   "cell_type": "code",
   "execution_count": 7,
   "id": "b8def608",
   "metadata": {},
   "outputs": [
    {
     "name": "stdout",
     "output_type": "stream",
     "text": [
      "[(0.01, 32), (0.01, 64), (0.01, 128), (0.1, 32), (0.1, 64), (0.1, 128), (0.5, 32), (0.5, 64), (0.5, 128)]\n"
     ]
    }
   ],
   "source": [
    "from itertools import product\n",
    "\n",
    "# Possible learning rates and batch sizes\n",
    "learning_rates = [0.01, 0.1, 0.5]\n",
    "batch_sizes = [32, 64, 128]\n",
    "\n",
    "# Generate all combinations using product\n",
    "parameter_combinations = list(product(learning_rates, batch_sizes))\n",
    "\n",
    "print(parameter_combinations)"
   ]
  },
  {
   "cell_type": "markdown",
   "id": "c5d7c376",
   "metadata": {},
   "source": [
    "## Example 2: permutations()\n",
    "- The permutations() creates an iterator that produces all possible arrangements of an input iterable. I\n",
    "- This is useful for tasks like feature selection where you might want to test different combinations of input variables to improve a model’s performance.\n",
    "\n",
    "Example, \n",
    "- if you have a dataset with three features-’Age’, ‘Income’, and ‘Education Level’\n",
    "    - use permutations() to see how different combinations of these features impact the model.\n",
    "    \n",
    "`permutations()` function \n",
    "- takes the list features and the integer 2, \n",
    "    - which specifies the length of the permutations we want to generate. \n",
    "- The output, feature_permutations, gives you all 2-element arrangements of the given features.\n",
    "- This list can be used to experiment with different feature combinations in a machine-learning model. \n",
    "    - By testing each of these permutations, you can identify which set of features gives you the best model performance."
   ]
  },
  {
   "cell_type": "code",
   "execution_count": 8,
   "id": "dec928fe",
   "metadata": {},
   "outputs": [
    {
     "name": "stdout",
     "output_type": "stream",
     "text": [
      "[('Age', 'Income'), ('Age', 'Education Level'), ('Income', 'Age'), ('Income', 'Education Level'), ('Education Level', 'Age'), ('Education Level', 'Income')]\n"
     ]
    }
   ],
   "source": [
    "from itertools import permutations\n",
    "\n",
    "# Features in a dataset\n",
    "features = ['Age', 'Income', 'Education Level']\n",
    "\n",
    "# Generate all permutations of features\n",
    "feature_permutations = list(permutations(features, 2))\n",
    "\n",
    "print(feature_permutations)"
   ]
  },
  {
   "cell_type": "markdown",
   "id": "e5d52c0e",
   "metadata": {},
   "source": [
    "## Example 3: combinations()\n",
    "- The combinations() function creates an iterator over unique combinations of elements from an input iterable.\n",
    "- Useful where you need to select a subset of features to feed into a model.\n",
    "\n",
    "Example\n",
    "- A dataset with columns like ‘Age’, ‘Salary’, and ‘Years of Experience’.\n",
    "    - Using combinations(), you could generate all possible pairs or triplets of these columns to find the most predictive set.\n",
    "    \n",
    "`combinations()` function\n",
    "- takes the list of features and generates all unique 2-element combinations. \n",
    "- The output is stored in feature_combinations. You could then use this output to train your model with different feature sets.\n",
    "- The idea is to find out which group of features makes your model the most accurate. \n",
    "    - This can help you improve model performance without adding extra complexity."
   ]
  },
  {
   "cell_type": "code",
   "execution_count": 9,
   "id": "f885ef67",
   "metadata": {},
   "outputs": [
    {
     "name": "stdout",
     "output_type": "stream",
     "text": [
      "[('Age', 'Salary'), ('Age', 'Years of Experience'), ('Salary', 'Years of Experience')]\n"
     ]
    }
   ],
   "source": [
    "from itertools import combinations\n",
    "\n",
    "# List of features in a dataset\n",
    "features = ['Age', 'Salary', 'Years of Experience']\n",
    "\n",
    "# Generate all 2-element combinations of features\n",
    "feature_combinations = list(combinations(features, 2))\n",
    "\n",
    "print(feature_combinations)"
   ]
  },
  {
   "cell_type": "code",
   "execution_count": null,
   "id": "5cf05f69",
   "metadata": {},
   "outputs": [],
   "source": []
  },
  {
   "cell_type": "code",
   "execution_count": null,
   "id": "ef3d10fc",
   "metadata": {},
   "outputs": [],
   "source": []
  },
  {
   "cell_type": "code",
   "execution_count": null,
   "id": "98d6cc61",
   "metadata": {},
   "outputs": [],
   "source": []
  },
  {
   "cell_type": "code",
   "execution_count": null,
   "id": "cafbda0a",
   "metadata": {},
   "outputs": [],
   "source": []
  },
  {
   "cell_type": "code",
   "execution_count": null,
   "id": "35904b47",
   "metadata": {},
   "outputs": [],
   "source": []
  },
  {
   "cell_type": "markdown",
   "id": "ec3d14eb",
   "metadata": {},
   "source": [
    "# Iterating over Dataframes"
   ]
  },
  {
   "cell_type": "markdown",
   "id": "c0578e48",
   "metadata": {},
   "source": [
    "Iterating over pandas DataFrames is definitely not a best practise and you should only consider doing so only when this is absolutely necessary and when you have exhausted every other possible option that is likely to be more elegant and efficient.\n",
    "\n",
    "- Iterating through pandas objects is generally slow. In many cases, iterating manually over the rows is not needed and can be avoided"
   ]
  },
  {
   "cell_type": "markdown",
   "id": "993f9b43",
   "metadata": {},
   "source": [
    "##### Topics\n",
    "\n",
    "- How to avoid iterating through DataFrames in pandas.\n",
    "- Go through a “checklist” that you may need to reference every time before choosing to go with an iterative approach.\n",
    "- How to do so in cases where no other option is suitable to your specific use-case.\n",
    "- Discuss why you should avoid modifying pandas object while iterating over them."
   ]
  },
  {
   "cell_type": "markdown",
   "id": "2bf4e425",
   "metadata": {},
   "source": [
    "##### Do we need to iterate over rows?\n",
    "\n",
    "- Concept of vectorisation\n",
    "- Most operations in pandas should (and can) be performed in a non-iterative context.\n",
    "\n",
    "Before attempting to iterate through pandas objects\n",
    "- Ensure that none of the options below suit the needs of your use-case:\n",
    "\n",
    "\n",
    "\n",
    "- Vectorisation over iteration: \n",
    "    - pandas comes with rich set of built-in methods whose performance is optimised. \n",
    "    - Most of the operations could potentially be performed using one of these methods. \n",
    "    - You can even take a look at numpy and check whether any of its functions can be used in your context.\n",
    "    \n",
    "- Applying a function to rows: \n",
    "    - A common requirement is definitely when it comes to apply a function to every row\n",
    "        - designed to work over only one row at a time, and not on the full DataFrame or Series. \n",
    "    - In such cases, it’s always best to use apply() method instead of iterating through the pandas object. \n",
    "        - How to apply your own or another library’s functions to pandas objects.\n",
    "- Iterative manipulations: \n",
    "    - To perform iterative manipulations and at the same time performance is a concern, then you may have to take a look into cython or numba. \n",
    "- Printing a DataFrame: \n",
    "    - If you want to print out a DataFrame then simply use DataFrame.to_string() method in order to render the DataFrame to a console-friendly tabular output."
   ]
  },
  {
   "cell_type": "markdown",
   "id": "617a0965",
   "metadata": {},
   "source": [
    "In case none of the above options will work for you, then you may still want to iterate through pandas objects.\n",
    "\n",
    "Use:\n",
    "- iterrows() or \n",
    "- itertuples() built-in methods."
   ]
  },
  {
   "cell_type": "code",
   "execution_count": 1,
   "id": "da08ec61",
   "metadata": {},
   "outputs": [],
   "source": [
    "import pandas as pd"
   ]
  },
  {
   "cell_type": "code",
   "execution_count": 2,
   "id": "0c335b77",
   "metadata": {},
   "outputs": [],
   "source": [
    "# We have a Dictionary of keys:values pairs\n",
    "# The value is a list\n",
    "data = {'Name': ['Ankit', 'Amit',\n",
    "                 'Aishwarya', 'Priyanka'],\n",
    "        'Age': [21, 19, 20, 18],\n",
    "        'Stream': ['Math', 'Commerce',\n",
    "                   'Arts', 'Biology'],\n",
    "        'Percentage': [88, 92, 95, 70]}"
   ]
  },
  {
   "cell_type": "code",
   "execution_count": 3,
   "id": "197e9b39",
   "metadata": {},
   "outputs": [],
   "source": [
    "df = pd.DataFrame(data, columns= ['Name', 'Age','Stream', 'Percentage'])"
   ]
  },
  {
   "cell_type": "code",
   "execution_count": 4,
   "id": "f6e09f7e",
   "metadata": {},
   "outputs": [
    {
     "data": {
      "text/html": [
       "<div>\n",
       "<style scoped>\n",
       "    .dataframe tbody tr th:only-of-type {\n",
       "        vertical-align: middle;\n",
       "    }\n",
       "\n",
       "    .dataframe tbody tr th {\n",
       "        vertical-align: top;\n",
       "    }\n",
       "\n",
       "    .dataframe thead th {\n",
       "        text-align: right;\n",
       "    }\n",
       "</style>\n",
       "<table border=\"1\" class=\"dataframe\">\n",
       "  <thead>\n",
       "    <tr style=\"text-align: right;\">\n",
       "      <th></th>\n",
       "      <th>Name</th>\n",
       "      <th>Age</th>\n",
       "      <th>Stream</th>\n",
       "      <th>Percentage</th>\n",
       "    </tr>\n",
       "  </thead>\n",
       "  <tbody>\n",
       "    <tr>\n",
       "      <th>0</th>\n",
       "      <td>Ankit</td>\n",
       "      <td>21</td>\n",
       "      <td>Math</td>\n",
       "      <td>88</td>\n",
       "    </tr>\n",
       "    <tr>\n",
       "      <th>1</th>\n",
       "      <td>Amit</td>\n",
       "      <td>19</td>\n",
       "      <td>Commerce</td>\n",
       "      <td>92</td>\n",
       "    </tr>\n",
       "    <tr>\n",
       "      <th>2</th>\n",
       "      <td>Aishwarya</td>\n",
       "      <td>20</td>\n",
       "      <td>Arts</td>\n",
       "      <td>95</td>\n",
       "    </tr>\n",
       "    <tr>\n",
       "      <th>3</th>\n",
       "      <td>Priyanka</td>\n",
       "      <td>18</td>\n",
       "      <td>Biology</td>\n",
       "      <td>70</td>\n",
       "    </tr>\n",
       "  </tbody>\n",
       "</table>\n",
       "</div>"
      ],
      "text/plain": [
       "        Name  Age    Stream  Percentage\n",
       "0      Ankit   21      Math          88\n",
       "1       Amit   19  Commerce          92\n",
       "2  Aishwarya   20      Arts          95\n",
       "3   Priyanka   18   Biology          70"
      ]
     },
     "execution_count": 4,
     "metadata": {},
     "output_type": "execute_result"
    }
   ],
   "source": [
    "df"
   ]
  },
  {
   "cell_type": "markdown",
   "id": "000cc5c0",
   "metadata": {},
   "source": [
    "## Rowwise iterations"
   ]
  },
  {
   "cell_type": "markdown",
   "id": "9383c26f",
   "metadata": {},
   "source": [
    "### Get value Using .loc[ ] function of the Dataframe of selected columns"
   ]
  },
  {
   "cell_type": "markdown",
   "id": "d7a51b35",
   "metadata": {},
   "source": [
    "Gets, or sets, the value(s) of the specified labels.\n",
    "\n",
    "Specify both row and column with a label.\n",
    "\n",
    "dataframe.loc[row, column)\n",
    "\n",
    "### To access more than one row, \n",
    "##### Use double brackets and specify the labels, separated by commas:\n",
    "\n",
    "df.loc[[\"Sally\", \"John\"]]\n",
    "\n",
    "##### Specify columns by including their labels in another list:\n",
    "\n",
    "df.loc[[\"Sally\", \"John\"], [\"age\", \"qualified\"]]\n",
    "\n",
    "##### Specify a slice of the DataFrame with from and to labels, separated by a colon:\n",
    "\n",
    "df.loc[\"Sally\": \"John\"]\n",
    "\n",
    "\n",
    "### a) .loc is label-based indexing- selecting columns based on index:\n",
    "\n",
    "##### all rows:\n",
    "df.loc[:, 'column_name']\n",
    "df['column_name']\n",
    "\n",
    "##### selected rows:\n",
    "df.loc[0:5, 'column_name']\n",
    "\n",
    "### b)boolean indexing using .loc:\n",
    "df.loc[df['column_name'] < 5]\n",
    "\n",
    "##### boolean indexing fro one column:\n",
    "df.loc[df['column_condition'] < 12, ['column_desired']]\n",
    "\n",
    "##### Returns\n",
    "\n",
    "Single labels for both row and column [\"Sally\", \"age\"] returns the content of that cell.\n",
    "\n",
    "Single label for one row [\"Sally\"] returns a Pandas Series.\n",
    "\n",
    "A list of labels [[\"Sally\", \"Mary\"]] returns a Pandas DataFrame."
   ]
  },
  {
   "cell_type": "code",
   "execution_count": 7,
   "id": "e63eee82",
   "metadata": {},
   "outputs": [
    {
     "name": "stdout",
     "output_type": "stream",
     "text": [
      "Ankit 21\n",
      "Amit 19\n",
      "Aishwarya 20\n",
      "Priyanka 18\n"
     ]
    }
   ],
   "source": [
    "# iterate through each row label-based indexing: by selecting columns based on index:\n",
    "# use range(len(df)) to get the length of values in the df.\n",
    "# .loc[ ] requires the name of the column we want the values of.\n",
    "\n",
    "for i in range(len(df)):\n",
    "    print(df.loc[i,'Name'], df.loc[i,'Age'])"
   ]
  },
  {
   "cell_type": "markdown",
   "id": "a76e06c3",
   "metadata": {},
   "source": [
    "### Get value Using .iloc[ ] function of the Dataframe of selected columns"
   ]
  },
  {
   "cell_type": "markdown",
   "id": "3a453ee2",
   "metadata": {},
   "source": [
    "dataframe.iloc[row, column]\n",
    "\n",
    "##### selecting a single row:\n",
    "df.iloc[3]\n",
    "\n",
    "##### selecting a range of rows:\n",
    "df.iloc[0:3]\n",
    "\n",
    "### Selecting all rows, with columns within an index range:\n",
    "##### all rows, 1st- 3rd columns, sliced at second index:\n",
    "df.iloc[:, 0:3]\n",
    "\n",
    "### Selecting a range of rows and a range of columns:\n",
    "##### 1st to 3rd rows, 5th & 6th columns:\n",
    "df.iloc[0:3, 4:6]\n",
    "\n",
    "### By multiple noconsecutive rows and columns:\n",
    "##### selecting rows 1, 4, 6 with columns 2, 3, 5:\n",
    "df.iloc[[0, 3, 5], [1, 2, 4]]\n",
    "\n",
    "##### Returns:\n",
    "\n",
    "Single indexes for both row and column [1, 0] returns the content of that cell.\n",
    "\n",
    "Single index for one row [1] returns a Pandas Series.\n",
    "\n",
    "A list of indexes [[0, 2]] returns a Pandas DataFrame."
   ]
  },
  {
   "cell_type": "code",
   "execution_count": 9,
   "id": "b3f0347f",
   "metadata": {},
   "outputs": [
    {
     "name": "stdout",
     "output_type": "stream",
     "text": [
      "Ankit Math\n",
      "Amit Commerce\n",
      "Aishwarya Arts\n",
      "Priyanka Biology\n"
     ]
    }
   ],
   "source": [
    "# iterate through each row and select 0th and 2nd index column respectively.\n",
    "# use the index/integer position of the column instead of the column name \n",
    "\n",
    "for i in range(len(df)):\n",
    "    print(df.iloc[i, 0], df.iloc[i, 2])"
   ]
  },
  {
   "cell_type": "markdown",
   "id": "32a95ac2",
   "metadata": {},
   "source": [
    "### Get value with .index method of the Dataframe of selected columns"
   ]
  },
  {
   "cell_type": "code",
   "execution_count": 5,
   "id": "8abece9c",
   "metadata": {},
   "outputs": [
    {
     "name": "stdout",
     "output_type": "stream",
     "text": [
      "Ankit 21\n",
      "Amit 19\n",
      "Aishwarya 20\n",
      "Priyanka 18\n"
     ]
    }
   ],
   "source": [
    "# iterate through each row index wise and select columns\n",
    "# The .index methods reads all the row elements/numbers in the index column\n",
    "\n",
    "for i in df.index:\n",
    "    print(df['Name'][i], df['Age'][i])"
   ]
  },
  {
   "cell_type": "markdown",
   "id": "8cfe45ce",
   "metadata": {},
   "source": [
    "### Get value Using .itterrows( ) method of the Dataframe of selected columns"
   ]
  },
  {
   "cell_type": "code",
   "execution_count": 10,
   "id": "fe66482d",
   "metadata": {},
   "outputs": [
    {
     "name": "stdout",
     "output_type": "stream",
     "text": [
      "Ankit 21\n",
      "Amit 19\n",
      "Aishwarya 20\n",
      "Priyanka 18\n"
     ]
    }
   ],
   "source": [
    "# returns an iterator that yields an index value and a pandas Series containing the data of each row\n",
    "# It is used to iterate over DataFrame rows as (index, Series) pairs.\n",
    "# index value: represents the row label, \n",
    "# Series: contains the row data as key-value pairs, where the keys are column names and the values are the corresponding cell values.\n",
    "# Method does not preserve the dtypes across rows due to the fact that this method will convert each row into a Series.\n",
    "\n",
    "# method allows you to access each row's data and perform operations or computations on it.\n",
    "# here i == index and r == row\n",
    "# We want the row element of selected column(s) until the last index\n",
    "\n",
    "for i,r in df.iterrows():\n",
    "    print(r['Name'], r['Age'])"
   ]
  },
  {
   "cell_type": "markdown",
   "id": "5f5b5dc3",
   "metadata": {},
   "source": [
    "##### Modifying while iterating over rows\n",
    "- it’s important to highlight that you should never modify a pandas DataFrame or Series you are iterating over.\n",
    "- Depending on the data types of your pandas object, the iterator may return a copy of the object rather than a view.\n",
    "- Writing anything to a copy won’t have the desired effect.\n",
    "    - use apply() method instead."
   ]
  },
  {
   "cell_type": "code",
   "execution_count": 19,
   "id": "0c15fe4e",
   "metadata": {},
   "outputs": [
    {
     "data": {
      "text/html": [
       "<div>\n",
       "<style scoped>\n",
       "    .dataframe tbody tr th:only-of-type {\n",
       "        vertical-align: middle;\n",
       "    }\n",
       "\n",
       "    .dataframe tbody tr th {\n",
       "        vertical-align: top;\n",
       "    }\n",
       "\n",
       "    .dataframe thead th {\n",
       "        text-align: right;\n",
       "    }\n",
       "</style>\n",
       "<table border=\"1\" class=\"dataframe\">\n",
       "  <thead>\n",
       "    <tr style=\"text-align: right;\">\n",
       "      <th></th>\n",
       "      <th>Name</th>\n",
       "      <th>Age</th>\n",
       "      <th>Stream</th>\n",
       "      <th>Percentage</th>\n",
       "    </tr>\n",
       "  </thead>\n",
       "  <tbody>\n",
       "    <tr>\n",
       "      <th>0</th>\n",
       "      <td>Ankit</td>\n",
       "      <td>21</td>\n",
       "      <td>Math</td>\n",
       "      <td>88</td>\n",
       "    </tr>\n",
       "    <tr>\n",
       "      <th>1</th>\n",
       "      <td>Amit</td>\n",
       "      <td>19</td>\n",
       "      <td>Commerce</td>\n",
       "      <td>92</td>\n",
       "    </tr>\n",
       "    <tr>\n",
       "      <th>2</th>\n",
       "      <td>Aishwarya</td>\n",
       "      <td>20</td>\n",
       "      <td>Arts</td>\n",
       "      <td>95</td>\n",
       "    </tr>\n",
       "    <tr>\n",
       "      <th>3</th>\n",
       "      <td>Priyanka</td>\n",
       "      <td>18</td>\n",
       "      <td>Biology</td>\n",
       "      <td>70</td>\n",
       "    </tr>\n",
       "  </tbody>\n",
       "</table>\n",
       "</div>"
      ],
      "text/plain": [
       "        Name  Age    Stream  Percentage\n",
       "0      Ankit   21      Math          88\n",
       "1       Amit   19  Commerce          92\n",
       "2  Aishwarya   20      Arts          95\n",
       "3   Priyanka   18   Biology          70"
      ]
     },
     "execution_count": 19,
     "metadata": {},
     "output_type": "execute_result"
    }
   ],
   "source": [
    "df"
   ]
  },
  {
   "cell_type": "code",
   "execution_count": 21,
   "id": "a53c3807",
   "metadata": {},
   "outputs": [
    {
     "data": {
      "text/html": [
       "<div>\n",
       "<style scoped>\n",
       "    .dataframe tbody tr th:only-of-type {\n",
       "        vertical-align: middle;\n",
       "    }\n",
       "\n",
       "    .dataframe tbody tr th {\n",
       "        vertical-align: top;\n",
       "    }\n",
       "\n",
       "    .dataframe thead th {\n",
       "        text-align: right;\n",
       "    }\n",
       "</style>\n",
       "<table border=\"1\" class=\"dataframe\">\n",
       "  <thead>\n",
       "    <tr style=\"text-align: right;\">\n",
       "      <th></th>\n",
       "      <th>Name</th>\n",
       "      <th>Age</th>\n",
       "      <th>Stream</th>\n",
       "      <th>Percentage</th>\n",
       "    </tr>\n",
       "  </thead>\n",
       "  <tbody>\n",
       "    <tr>\n",
       "      <th>0</th>\n",
       "      <td>Ankit</td>\n",
       "      <td>27</td>\n",
       "      <td>Math</td>\n",
       "      <td>88</td>\n",
       "    </tr>\n",
       "    <tr>\n",
       "      <th>1</th>\n",
       "      <td>Amit</td>\n",
       "      <td>25</td>\n",
       "      <td>Commerce</td>\n",
       "      <td>92</td>\n",
       "    </tr>\n",
       "    <tr>\n",
       "      <th>2</th>\n",
       "      <td>Aishwarya</td>\n",
       "      <td>26</td>\n",
       "      <td>Arts</td>\n",
       "      <td>95</td>\n",
       "    </tr>\n",
       "    <tr>\n",
       "      <th>3</th>\n",
       "      <td>Priyanka</td>\n",
       "      <td>24</td>\n",
       "      <td>Biology</td>\n",
       "      <td>70</td>\n",
       "    </tr>\n",
       "  </tbody>\n",
       "</table>\n",
       "</div>"
      ],
      "text/plain": [
       "        Name  Age    Stream  Percentage\n",
       "0      Ankit   27      Math          88\n",
       "1       Amit   25  Commerce          92\n",
       "2  Aishwarya   26      Arts          95\n",
       "3   Priyanka   24   Biology          70"
      ]
     },
     "execution_count": 21,
     "metadata": {},
     "output_type": "execute_result"
    }
   ],
   "source": [
    "df[\"Age\"] = df[\"Age\"].apply(lambda x: x + 3)\n",
    "df"
   ]
  },
  {
   "cell_type": "markdown",
   "id": "5aaf81cf",
   "metadata": {},
   "source": [
    "### Get values in series with .iteritems method "
   ]
  },
  {
   "cell_type": "code",
   "execution_count": 8,
   "id": "1db9cdf7",
   "metadata": {},
   "outputs": [
    {
     "name": "stdout",
     "output_type": "stream",
     "text": [
      "Name: Ankit\n",
      "Age: 21\n",
      "Stream: Math\n",
      "Percentage: 88\n"
     ]
    }
   ],
   "source": [
    "# Use method of Series to iterate over all values of Series.\n",
    "# Return the iterable tuples containing the (index, value) pairs from a Series.\n",
    "\n",
    "for k,v in df.loc[0].iteritems():\n",
    "    print(f\"{k}: {v}\")"
   ]
  },
  {
   "cell_type": "markdown",
   "id": "2c061f32",
   "metadata": {},
   "source": [
    "### Get value Using .itertuples( ) function of the Dataframe of selected columns"
   ]
  },
  {
   "cell_type": "code",
   "execution_count": 11,
   "id": "4eea1f67",
   "metadata": {},
   "outputs": [
    {
     "name": "stdout",
     "output_type": "stream",
     "text": [
      "Ankit 21\n",
      "Amit 19\n",
      "Aishwarya 20\n",
      "Priyanka 18\n"
     ]
    }
   ],
   "source": [
    "# Iterate the rows and print each row as a tuple\n",
    "# generates an iterator object of the DataFrame, returning each row as a Pyton Tuple object.\n",
    "# Have to use keyword get attributes with parameter r(which is a counter) and column name. \n",
    "# returns namedtuples for each row, \n",
    "# which can be more efficient for large datasets.\n",
    "# To preserve the dtypes of the pandas object, then you should use itertuples() method instead.\n",
    "\n",
    "for r in df.itertuples():\n",
    "    print(getattr(r, 'Name'), getattr(r,'Age'))"
   ]
  },
  {
   "cell_type": "markdown",
   "id": "a09b49ea",
   "metadata": {},
   "source": [
    "## Columnwise Iterations"
   ]
  },
  {
   "cell_type": "markdown",
   "id": "9ce3fc1b",
   "metadata": {},
   "source": [
    "### Use for loop in syntax to iterate over all columns of DataFrame and get every column name."
   ]
  },
  {
   "cell_type": "code",
   "execution_count": 10,
   "id": "f81dd822",
   "metadata": {},
   "outputs": [
    {
     "name": "stdout",
     "output_type": "stream",
     "text": [
      "Name\n",
      "Age\n",
      "Stream\n",
      "Percentage\n"
     ]
    }
   ],
   "source": [
    "for col in df:\n",
    "    print(col)"
   ]
  },
  {
   "cell_type": "code",
   "execution_count": 11,
   "id": "b62c6673",
   "metadata": {},
   "outputs": [
    {
     "name": "stdout",
     "output_type": "stream",
     "text": [
      "Name\n",
      "Age\n",
      "Stream\n",
      "Percentage\n"
     ]
    }
   ],
   "source": [
    "for cols in df.columns:\n",
    "    print(cols)"
   ]
  },
  {
   "cell_type": "markdown",
   "id": "43c4505d",
   "metadata": {},
   "source": [
    "### Iterate over all columns by specifying each column name."
   ]
  },
  {
   "cell_type": "code",
   "execution_count": 12,
   "id": "7e84dc17",
   "metadata": {},
   "outputs": [
    {
     "name": "stdout",
     "output_type": "stream",
     "text": [
      "0        Ankit\n",
      "1         Amit\n",
      "2    Aishwarya\n",
      "3     Priyanka\n",
      "Name: Name, dtype: object\n",
      "0    21\n",
      "1    19\n",
      "2    20\n",
      "3    18\n",
      "Name: Age, dtype: int64\n",
      "0        Math\n",
      "1    Commerce\n",
      "2        Arts\n",
      "3     Biology\n",
      "Name: Stream, dtype: object\n",
      "0    88\n",
      "1    92\n",
      "2    95\n",
      "3    70\n",
      "Name: Percentage, dtype: int64\n"
     ]
    }
   ],
   "source": [
    "for col in df:\n",
    "    print(df[col])"
   ]
  },
  {
   "cell_type": "markdown",
   "id": "7cd37653",
   "metadata": {},
   "source": [
    "### Get each value of DataFrame "
   ]
  },
  {
   "cell_type": "code",
   "execution_count": 18,
   "id": "3da133bc",
   "metadata": {},
   "outputs": [
    {
     "name": "stdout",
     "output_type": "stream",
     "text": [
      "0 results\n",
      "Name: Ankit\n",
      "Age: 21\n",
      "Stream: Math\n",
      "Percentage: 88\n",
      "1 results\n",
      "Name: Amit\n",
      "Age: 19\n",
      "Stream: Commerce\n",
      "Percentage: 92\n",
      "2 results\n",
      "Name: Aishwarya\n",
      "Age: 20\n",
      "Stream: Arts\n",
      "Percentage: 95\n",
      "3 results\n",
      "Name: Priyanka\n",
      "Age: 18\n",
      "Stream: Biology\n",
      "Percentage: 70\n"
     ]
    }
   ],
   "source": [
    "for i,r in df.iterrows():\n",
    "    print(f\"{i} results\")\n",
    "    for col in df.columns:\n",
    "        print(f\"{col}: {r[col]}\")"
   ]
  },
  {
   "cell_type": "markdown",
   "id": "8f771822",
   "metadata": {},
   "source": [
    "# Iterating over Dictionaries"
   ]
  },
  {
   "cell_type": "markdown",
   "id": "0b051d89",
   "metadata": {},
   "source": [
    "## Using For loops\n",
    "\n",
    "- Python dictionary is defined as a collection of data values, in which items are held as key-value pairs.\n",
    "- Dictionaries are also known as associative arrays.\n",
    "- These are the Topics:\n",
    "    - How to iterate over dictionaries using a ‘for’ loop?\n",
    "    - How to check if a given key already exists in a dictionary?\n",
    "    - How to add a new keys to a dictionary?"
   ]
  },
  {
   "cell_type": "code",
   "execution_count": 24,
   "id": "613661e0",
   "metadata": {},
   "outputs": [],
   "source": [
    "transaction_data = {\n",
    " \"transaction_id\": 1000001,\n",
    " \"source_country\": \"United Kingdom\",\n",
    " \"target_country\": \"Italy\",\n",
    " \"send_currency\": \"GBP\",\n",
    " \"send_amount\": 1000.00,\n",
    " \"target_currency\": \"EUR\",\n",
    " \"fx_rate\": 1.1648674,\n",
    " \"fee_pct\": 0.50, \n",
    " \"platform\": \"mobile\"\n",
    "}"
   ]
  },
  {
   "cell_type": "markdown",
   "id": "0d40a98b",
   "metadata": {},
   "source": [
    "### Method 1: Iteration Using For Loop + Indexing"
   ]
  },
  {
   "cell_type": "markdown",
   "id": "323b781c",
   "metadata": {},
   "source": [
    "- Easiest way to iterate through a dictionary in Python, is to put it directly in a for loop.\n",
    "- Allow you to iterate over its keys.\n",
    "- Get access to the values, you can pass each key to the dictionary using the indexing operator [ ] :"
   ]
  },
  {
   "cell_type": "code",
   "execution_count": 25,
   "id": "dad8d427",
   "metadata": {},
   "outputs": [
    {
     "name": "stdout",
     "output_type": "stream",
     "text": [
      "transaction_id : 1000001\n",
      "source_country : United Kingdom\n",
      "target_country : Italy\n",
      "send_currency : GBP\n",
      "send_amount : 1000.0\n",
      "target_currency : EUR\n",
      "fx_rate : 1.1648674\n",
      "fee_pct : 0.5\n",
      "platform : mobile\n"
     ]
    }
   ],
   "source": [
    "for k in transaction_data:\n",
    "    print(k, \":\", transaction_data[k])"
   ]
  },
  {
   "cell_type": "markdown",
   "id": "0a840399",
   "metadata": {},
   "source": [
    "- To achieve making keys to be ordered alphabetically.\n",
    "- simply pass transaction_data to the sorted() method:"
   ]
  },
  {
   "cell_type": "code",
   "execution_count": 28,
   "id": "a28c5f1e",
   "metadata": {},
   "outputs": [
    {
     "name": "stdout",
     "output_type": "stream",
     "text": [
      "fee_pct : 0.5\n",
      "fx_rate : 1.1648674\n",
      "platform : mobile\n",
      "send_amount : 1000.0\n",
      "send_currency : GBP\n",
      "source_country : United Kingdom\n",
      "target_country : Italy\n",
      "target_currency : EUR\n",
      "transaction_id : 1000001\n"
     ]
    }
   ],
   "source": [
    "for k in sorted(transaction_data):\n",
    "    print(k, \":\", transaction_data[k])"
   ]
  },
  {
   "cell_type": "markdown",
   "id": "f248b143",
   "metadata": {},
   "source": [
    "### Method 2: Iteration Using .keys( ) + Indexing"
   ]
  },
  {
   "cell_type": "markdown",
   "id": "1b7975a2",
   "metadata": {},
   "source": [
    "- Using the .keys() method that returns a Python object including the dictionary’s keys.\n",
    "- Handy when you just need to iterate over the keys of a dictionary, but it can also be used in combination with the indexing operator to retrieve values"
   ]
  },
  {
   "cell_type": "code",
   "execution_count": 30,
   "id": "7092afb5",
   "metadata": {},
   "outputs": [
    {
     "name": "stdout",
     "output_type": "stream",
     "text": [
      "fee_pct --> 0.5\n",
      "fx_rate --> 1.1648674\n",
      "platform --> mobile\n",
      "send_amount --> 1000.0\n",
      "send_currency --> GBP\n",
      "source_country --> United Kingdom\n",
      "target_country --> Italy\n",
      "target_currency --> EUR\n",
      "transaction_id --> 1000001\n"
     ]
    }
   ],
   "source": [
    "for key in sorted(transaction_data.keys()):\n",
    "    print(key, \"-->\" , transaction_data[key])"
   ]
  },
  {
   "cell_type": "markdown",
   "id": "03fee26c",
   "metadata": {},
   "source": [
    "### Method 3: Iteration Using .items()"
   ]
  },
  {
   "cell_type": "markdown",
   "id": "7241a36c",
   "metadata": {},
   "source": [
    "- the most “pythonic” and elegant way to iterate through a dictionary is by using the .items() method, that returns a view of dictionary’s items as tuples:\n",
    "    - In order to iterate over the keys and the values of the transaction_data dictionary, you just need to ‘unpack’ the two items embedded in the tuple"
   ]
  },
  {
   "cell_type": "code",
   "execution_count": 31,
   "id": "58c2530b",
   "metadata": {},
   "outputs": [
    {
     "name": "stdout",
     "output_type": "stream",
     "text": [
      "dict_items([('transaction_id', 1000001), ('source_country', 'United Kingdom'), ('target_country', 'Italy'), ('send_currency', 'GBP'), ('send_amount', 1000.0), ('target_currency', 'EUR'), ('fx_rate', 1.1648674), ('fee_pct', 0.5), ('platform', 'mobile')])\n"
     ]
    }
   ],
   "source": [
    "print(transaction_data.items())"
   ]
  },
  {
   "cell_type": "code",
   "execution_count": 32,
   "id": "7618de75",
   "metadata": {},
   "outputs": [
    {
     "name": "stdout",
     "output_type": "stream",
     "text": [
      "transaction_id >> 1000001\n",
      "source_country >> United Kingdom\n",
      "target_country >> Italy\n",
      "send_currency >> GBP\n",
      "send_amount >> 1000.0\n",
      "target_currency >> EUR\n",
      "fx_rate >> 1.1648674\n",
      "fee_pct >> 0.5\n",
      "platform >> mobile\n"
     ]
    }
   ],
   "source": [
    "for k,v in transaction_data.items():\n",
    "    print( k, \">>\", v)"
   ]
  },
  {
   "cell_type": "markdown",
   "id": "d4a0b24a",
   "metadata": {},
   "source": [
    "### Method: Iterating Through Nested Dictionaries\n",
    "\n",
    "- each one of the keys represents a transaction and has a dictionary as a value"
   ]
  },
  {
   "cell_type": "code",
   "execution_count": 33,
   "id": "ab29de71",
   "metadata": {},
   "outputs": [],
   "source": [
    "transaction_data_n = {\n",
    "    \"transaction_1\": {\n",
    "    \"transaction_id\": 1000001,\n",
    "    \"source_country\": \"United Kingdom\",\n",
    "    \"target_country\": \"Italy\",\n",
    "    \"send_currency\": \"GBP\",\n",
    "    \"send_amount\": 1000.00,\n",
    "    \"target_currency\": \"EUR\",\n",
    "    \"fx_rate\": 1.1648674,\n",
    "    \"fee_pct\": 0.50, \n",
    "    \"platform\": \"mobile\"\n",
    "    },\n",
    "    \"transaction_2\":{\n",
    "    \"transaction_id\": 1000002,\n",
    "    \"source_country\": \"United Kingdom\",\n",
    "    \"target_country\": \"Italy\",\n",
    "    \"send_currency\": \"GBP\",\n",
    "    \"send_amount\": 1000.00,\n",
    "    \"target_currency\": \"EUR\",\n",
    "    \"fx_rate\": 1.1648674,\n",
    "    \"fee_pct\": 0.50, \n",
    "    \"platform\": \"mobile\"\n",
    "    }\n",
    "}"
   ]
  },
  {
   "cell_type": "markdown",
   "id": "186f2168",
   "metadata": {},
   "source": [
    "- In order to unpack the key-value pairs belonging to each nested dictionary"
   ]
  },
  {
   "cell_type": "code",
   "execution_count": 34,
   "id": "6e548d44",
   "metadata": {},
   "outputs": [
    {
     "name": "stdout",
     "output_type": "stream",
     "text": [
      "transaction_id : 1000001\n",
      "source_country : United Kingdom\n",
      "target_country : Italy\n",
      "send_currency : GBP\n",
      "send_amount : 1000.0\n",
      "target_currency : EUR\n",
      "fx_rate : 1.1648674\n",
      "fee_pct : 0.5\n",
      "platform : mobile\n",
      "transaction_id : 1000002\n",
      "source_country : United Kingdom\n",
      "target_country : Italy\n",
      "send_currency : GBP\n",
      "send_amount : 1000.0\n",
      "target_currency : EUR\n",
      "fx_rate : 1.1648674\n",
      "fee_pct : 0.5\n",
      "platform : mobile\n"
     ]
    }
   ],
   "source": [
    "#1. Selecting key-value pairs for all the transactions\n",
    "\n",
    "for k,v in transaction_data_n.items(): # for each key and value item in nested dict\n",
    "    if type(v) is dict:                # if the type of value is a dict\n",
    "        for nk,nv in v.items():        # \n",
    "            print(nk, \":\", nv)"
   ]
  },
  {
   "cell_type": "code",
   "execution_count": 35,
   "id": "3b627d2a",
   "metadata": {},
   "outputs": [
    {
     "name": "stdout",
     "output_type": "stream",
     "text": [
      "transaction_id --> 1000002\n",
      "source_country --> United Kingdom\n",
      "target_country --> Italy\n",
      "send_currency --> GBP\n",
      "send_amount --> 1000.0\n",
      "target_currency --> EUR\n",
      "fx_rate --> 1.1648674\n",
      "fee_pct --> 0.5\n",
      "platform --> mobile\n"
     ]
    }
   ],
   "source": [
    "#2. Selecting key-value pairs for 'transaction_2 only'\n",
    "\n",
    "for k,v in transaction_data_n.items():\n",
    "    if type(v) is dict and k == \"transaction_2\":\n",
    "        for sk, sv in v.items():\n",
    "            print(sk, \"-->\", sv)"
   ]
  },
  {
   "cell_type": "markdown",
   "id": "0c57db9c",
   "metadata": {},
   "source": [
    "### How to check if a given key already exists in a dictionary?\n",
    "\n",
    "- Check membership in Python dictionaries using the in operator.\n",
    "- Say that you wanted to check whether the send_currency field was available as a key in transaction_data"
   ]
  },
  {
   "cell_type": "code",
   "execution_count": 36,
   "id": "1718bef0",
   "metadata": {},
   "outputs": [
    {
     "data": {
      "text/plain": [
       "True"
      ]
     },
     "execution_count": 36,
     "metadata": {},
     "output_type": "execute_result"
    }
   ],
   "source": [
    "\"send_currency\" in transaction_data.keys()"
   ]
  },
  {
   "cell_type": "markdown",
   "id": "a743acfa",
   "metadata": {},
   "source": [
    "-  to check if the value GBP was already assigned to a key in the dictionary"
   ]
  },
  {
   "cell_type": "code",
   "execution_count": 37,
   "id": "d4bd2bcf",
   "metadata": {},
   "outputs": [
    {
     "data": {
      "text/plain": [
       "True"
      ]
     },
     "execution_count": 37,
     "metadata": {},
     "output_type": "execute_result"
    }
   ],
   "source": [
    "\"GBP\" in transaction_data.values()"
   ]
  },
  {
   "cell_type": "markdown",
   "id": "325cb233",
   "metadata": {},
   "source": [
    "- This won’t immediately tell you if GBP is the value assigned to the send_currency key or the target_currency key. \n",
    "- In order to confirm that, you can pass a tuple to the values() method:"
   ]
  },
  {
   "cell_type": "code",
   "execution_count": 39,
   "id": "ed2fdf9a",
   "metadata": {},
   "outputs": [
    {
     "name": "stdout",
     "output_type": "stream",
     "text": [
      "True\n",
      "False\n"
     ]
    }
   ],
   "source": [
    "print((\"send_currency\", \"GBP\") in transaction_data.items())\n",
    "print(('target_currency', 'GBP') in transaction_data.items())"
   ]
  },
  {
   "cell_type": "markdown",
   "id": "23692cd7",
   "metadata": {},
   "source": [
    "### How to add a new keys to a dictionary?"
   ]
  },
  {
   "cell_type": "markdown",
   "id": "df0d408e",
   "metadata": {},
   "source": [
    "-  Add both the user_address and the user_email fields to the the data available in the dictionary.\n",
    "-  Using the square brackets [] notation:"
   ]
  },
  {
   "cell_type": "code",
   "execution_count": 41,
   "id": "1009ff7f",
   "metadata": {},
   "outputs": [
    {
     "name": "stdout",
     "output_type": "stream",
     "text": [
      "transaction_id : 1000001\n",
      "source_country : United Kingdom\n",
      "target_country : Italy\n",
      "send_currency : GBP\n",
      "send_amount : 1000.0\n",
      "target_currency : EUR\n",
      "fx_rate : 1.1648674\n",
      "fee_pct : 0.5\n",
      "platform : mobile\n",
      "user_address : 221b Baker Street, London - UK\n"
     ]
    }
   ],
   "source": [
    "transaction_data['user_address'] = '221b Baker Street, London - UK'\n",
    "for k,v in transaction_data.items():\n",
    "    print(k,':',v)"
   ]
  },
  {
   "cell_type": "markdown",
   "id": "29b806b4",
   "metadata": {},
   "source": [
    "- use the update() method"
   ]
  },
  {
   "cell_type": "code",
   "execution_count": 42,
   "id": "71160ff0",
   "metadata": {},
   "outputs": [
    {
     "name": "stdout",
     "output_type": "stream",
     "text": [
      "transaction_id :: 1000001\n",
      "source_country :: United Kingdom\n",
      "target_country :: Italy\n",
      "send_currency :: GBP\n",
      "send_amount :: 1000.0\n",
      "target_currency :: EUR\n",
      "fx_rate :: 1.1648674\n",
      "fee_pct :: 0.5\n",
      "platform :: mobile\n",
      "user_address :: 221b Baker Street, London - UK\n",
      "user_email :: user@example.com\n"
     ]
    }
   ],
   "source": [
    "transaction_data.update(user_email= \"user@example.com\")\n",
    "for k,v in transaction_data.items():\n",
    "    print(k,\"::\",v)"
   ]
  },
  {
   "cell_type": "markdown",
   "id": "aeb5fabb",
   "metadata": {},
   "source": [
    "# How to Convert a Dictionary Into a Pandas DataFrame"
   ]
  },
  {
   "cell_type": "markdown",
   "id": "06c1be16",
   "metadata": {},
   "source": [
    "- To create a pandas DataFrame out of a Python dictionary we can make use of the pandas.DataFrame.from_dict method that is used to construct DataFrames from dict of array-like or dicts objects."
   ]
  },
  {
   "cell_type": "code",
   "execution_count": 43,
   "id": "518de04a",
   "metadata": {},
   "outputs": [],
   "source": [
    "users = {\n",
    "  'fist_name': ['John', 'Andrew', 'Maria', 'Helen'],\n",
    "  'last_name': ['Brown', 'Purple', 'White', 'Blue'],\n",
    "  'is_enabled': [True, False, False, True],\n",
    "  'age': [25, 48, 76, 19]\n",
    "}"
   ]
  },
  {
   "cell_type": "markdown",
   "id": "c3b2b23f",
   "metadata": {},
   "source": [
    "- Keys correspond to DataFrame columns.\n",
    "- Every element in the list corresponds to the row-value for that particular column.\n",
    "- Orient to be equal to 'columns'\n",
    "    - The “orientation” of the data. \n",
    "    - If the keys of the passed dict should be the columns of the resulting DataFrame, pass ‘columns’ (default).\n",
    "- This will work if Data in the dictionary is structured in such a way that every key corresponds to the DataFrame columns."
   ]
  },
  {
   "cell_type": "code",
   "execution_count": 44,
   "id": "4a24baab",
   "metadata": {},
   "outputs": [],
   "source": [
    "df = pd.DataFrame.from_dict(users)"
   ]
  },
  {
   "cell_type": "code",
   "execution_count": 45,
   "id": "3b0263bb",
   "metadata": {},
   "outputs": [
    {
     "data": {
      "text/html": [
       "<div>\n",
       "<style scoped>\n",
       "    .dataframe tbody tr th:only-of-type {\n",
       "        vertical-align: middle;\n",
       "    }\n",
       "\n",
       "    .dataframe tbody tr th {\n",
       "        vertical-align: top;\n",
       "    }\n",
       "\n",
       "    .dataframe thead th {\n",
       "        text-align: right;\n",
       "    }\n",
       "</style>\n",
       "<table border=\"1\" class=\"dataframe\">\n",
       "  <thead>\n",
       "    <tr style=\"text-align: right;\">\n",
       "      <th></th>\n",
       "      <th>fist_name</th>\n",
       "      <th>last_name</th>\n",
       "      <th>is_enabled</th>\n",
       "      <th>age</th>\n",
       "    </tr>\n",
       "  </thead>\n",
       "  <tbody>\n",
       "    <tr>\n",
       "      <th>0</th>\n",
       "      <td>John</td>\n",
       "      <td>Brown</td>\n",
       "      <td>True</td>\n",
       "      <td>25</td>\n",
       "    </tr>\n",
       "    <tr>\n",
       "      <th>1</th>\n",
       "      <td>Andrew</td>\n",
       "      <td>Purple</td>\n",
       "      <td>False</td>\n",
       "      <td>48</td>\n",
       "    </tr>\n",
       "    <tr>\n",
       "      <th>2</th>\n",
       "      <td>Maria</td>\n",
       "      <td>White</td>\n",
       "      <td>False</td>\n",
       "      <td>76</td>\n",
       "    </tr>\n",
       "    <tr>\n",
       "      <th>3</th>\n",
       "      <td>Helen</td>\n",
       "      <td>Blue</td>\n",
       "      <td>True</td>\n",
       "      <td>19</td>\n",
       "    </tr>\n",
       "  </tbody>\n",
       "</table>\n",
       "</div>"
      ],
      "text/plain": [
       "  fist_name last_name  is_enabled  age\n",
       "0      John     Brown        True   25\n",
       "1    Andrew    Purple       False   48\n",
       "2     Maria     White       False   76\n",
       "3     Helen      Blue        True   19"
      ]
     },
     "execution_count": 45,
     "metadata": {},
     "output_type": "execute_result"
    }
   ],
   "source": [
    "df"
   ]
  },
  {
   "cell_type": "markdown",
   "id": "4e8b2720",
   "metadata": {},
   "source": [
    "- Use the orient='index' option as showcased in the following snippet such that every key-value pair in our dictionary is parsed as a DataFrame row.\n",
    "- When using orient='index', we must explicitly specify the column names when calling from_dict().\n",
    "- To construct a pandas DataFrame out of a Python dictionary, this time by parsing every key-value pair as a DataFrame row:"
   ]
  },
  {
   "cell_type": "code",
   "execution_count": 46,
   "id": "bc9d74fb",
   "metadata": {},
   "outputs": [],
   "source": [
    "cols = ['first_name', 'last_name', 'is_enabled', 'age']\n",
    "df = pd.DataFrame.from_dict(users, orient='index', columns=cols)"
   ]
  },
  {
   "cell_type": "code",
   "execution_count": 47,
   "id": "21cc6178",
   "metadata": {},
   "outputs": [
    {
     "data": {
      "text/html": [
       "<div>\n",
       "<style scoped>\n",
       "    .dataframe tbody tr th:only-of-type {\n",
       "        vertical-align: middle;\n",
       "    }\n",
       "\n",
       "    .dataframe tbody tr th {\n",
       "        vertical-align: top;\n",
       "    }\n",
       "\n",
       "    .dataframe thead th {\n",
       "        text-align: right;\n",
       "    }\n",
       "</style>\n",
       "<table border=\"1\" class=\"dataframe\">\n",
       "  <thead>\n",
       "    <tr style=\"text-align: right;\">\n",
       "      <th></th>\n",
       "      <th>first_name</th>\n",
       "      <th>last_name</th>\n",
       "      <th>is_enabled</th>\n",
       "      <th>age</th>\n",
       "    </tr>\n",
       "  </thead>\n",
       "  <tbody>\n",
       "    <tr>\n",
       "      <th>fist_name</th>\n",
       "      <td>John</td>\n",
       "      <td>Andrew</td>\n",
       "      <td>Maria</td>\n",
       "      <td>Helen</td>\n",
       "    </tr>\n",
       "    <tr>\n",
       "      <th>last_name</th>\n",
       "      <td>Brown</td>\n",
       "      <td>Purple</td>\n",
       "      <td>White</td>\n",
       "      <td>Blue</td>\n",
       "    </tr>\n",
       "    <tr>\n",
       "      <th>is_enabled</th>\n",
       "      <td>True</td>\n",
       "      <td>False</td>\n",
       "      <td>False</td>\n",
       "      <td>True</td>\n",
       "    </tr>\n",
       "    <tr>\n",
       "      <th>age</th>\n",
       "      <td>25</td>\n",
       "      <td>48</td>\n",
       "      <td>76</td>\n",
       "      <td>19</td>\n",
       "    </tr>\n",
       "  </tbody>\n",
       "</table>\n",
       "</div>"
      ],
      "text/plain": [
       "           first_name last_name is_enabled    age\n",
       "fist_name        John    Andrew      Maria  Helen\n",
       "last_name       Brown    Purple      White   Blue\n",
       "is_enabled       True     False      False   True\n",
       "age                25        48         76     19"
      ]
     },
     "execution_count": 47,
     "metadata": {},
     "output_type": "execute_result"
    }
   ],
   "source": [
    "df"
   ]
  },
  {
   "cell_type": "code",
   "execution_count": null,
   "id": "ce29bbae",
   "metadata": {},
   "outputs": [],
   "source": []
  }
 ],
 "metadata": {
  "kernelspec": {
   "display_name": "Python 3",
   "language": "python",
   "name": "python3"
  },
  "language_info": {
   "codemirror_mode": {
    "name": "ipython",
    "version": 3
   },
   "file_extension": ".py",
   "mimetype": "text/x-python",
   "name": "python",
   "nbconvert_exporter": "python",
   "pygments_lexer": "ipython3",
   "version": "3.8.8"
  }
 },
 "nbformat": 4,
 "nbformat_minor": 5
}
