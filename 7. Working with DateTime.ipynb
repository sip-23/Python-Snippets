{
 "cells": [
  {
   "cell_type": "markdown",
   "id": "2b3f67f5",
   "metadata": {},
   "source": [
    "# Datetime module\n",
    "\n",
    "## Date Datatypes\n",
    "\n",
    "Data types to represent time series data:\n",
    "\n",
    "* **datetime64[ns]**:  \n",
    "    - This data type is mainly used for representing timestamps. \n",
    "    - It can be on the day level such as '2022-05-20' and May 1st, 2022. \n",
    "    - The precision of a timestamp can even be on a nanosecond level.\n",
    "\n",
    "* **timedelta64[ns]**: \n",
    "    - This data type can be used for expressing differences in times. \n",
    "    - The units can be \n",
    "        - days, \n",
    "        - hours, \n",
    "        - minutes, and so on. \n",
    "    - It can take on both positive and negative values. \n",
    "        - if we subtract a future date from today, we will end up having a negative timedelta value.\n",
    "\n",
    "* **period[freq]**: \n",
    "    - This data type represents fixed durations such as \n",
    "        - month, \n",
    "        - quarter, and \n",
    "        - year. \n",
    "    - it is similar to timedelta but the durations are fixed.\n",
    "        - a period[M] data type can take the value of 2022-01 but cannot be 1 month or 2 months.\n",
    "\n",
    "### Manipulating date and time data using Python’s datetime module\n",
    "\n",
    "5 main object classes\n",
    "- datetime \n",
    "    - allows us to manipulate dates and times together (month, day, year, hour, second, microsecond).\n",
    "- date\n",
    "    - allows us to manipulate dates only (month, day, year).\n",
    "- time\n",
    "    - allows us to manipulate time only (hour, minute, second, microsecond).\n",
    "- timedelta \n",
    "    - used for measuring duration, the difference between two dates or times.\n",
    "- tzinfo\n",
    "    - used for dealing with time zones. We won’t be covering this one in this tutorial."
   ]
  },
  {
   "cell_type": "markdown",
   "id": "1da45bab",
   "metadata": {},
   "source": [
    "### Datetime is both a module and a class within that module\n",
    "\n",
    "2 ways to work with dateime object\n",
    "\n",
    "1. Pass the arguments to datetime starting with the largest time unit and ending with the smallest \n",
    "    - (year, month, day, hours, minutes, second).\n",
    "2. To get the current datetime you can easily do so using:\n",
    "    - .now() function."
   ]
  },
  {
   "cell_type": "code",
   "execution_count": 33,
   "id": "35abc69f",
   "metadata": {},
   "outputs": [],
   "source": [
    "# import datetime\n",
    "import datetime\n",
    "from datetime import datetime\n",
    "from datetime import timezone"
   ]
  },
  {
   "cell_type": "code",
   "execution_count": 57,
   "id": "11cd5296",
   "metadata": {},
   "outputs": [
    {
     "name": "stdout",
     "output_type": "stream",
     "text": [
      "2022-01-14 00:00:00\n"
     ]
    }
   ],
   "source": [
    "# Create a datetime object for a custom date.\n",
    "my_date = datetime(year=2022, month=1, day=14)\n",
    "print(my_date)"
   ]
  },
  {
   "cell_type": "code",
   "execution_count": 58,
   "id": "32ec7192",
   "metadata": {},
   "outputs": [
    {
     "name": "stdout",
     "output_type": "stream",
     "text": [
      "15:30:24\n",
      "2022-01-14\n"
     ]
    }
   ],
   "source": [
    "# Create a date-specific object, import date and time from datetime\n",
    "\n",
    "from datetime import time, date\n",
    "\n",
    "my_time = time(hour=15, minute=30, second=24)\n",
    "print(my_time)\n",
    "\n",
    "my_date = date(year=2022, month=1, day=14)\n",
    "print(my_date)"
   ]
  },
  {
   "cell_type": "code",
   "execution_count": 59,
   "id": "a31f4f51",
   "metadata": {},
   "outputs": [
    {
     "name": "stdout",
     "output_type": "stream",
     "text": [
      "2022-01-14 15:30:24\n"
     ]
    }
   ],
   "source": [
    "# Combine the two, use combine() function.\n",
    "\n",
    "date_time = datetime.combine(my_date, my_time)\n",
    "print(date_time)"
   ]
  },
  {
   "cell_type": "code",
   "execution_count": 5,
   "id": "7213af53",
   "metadata": {},
   "outputs": [
    {
     "data": {
      "text/plain": [
       "datetime.datetime(2021, 6, 1, 15, 23, 25)"
      ]
     },
     "execution_count": 5,
     "metadata": {},
     "output_type": "execute_result"
    }
   ],
   "source": [
    "# create datetime object \n",
    "datetime_object1 = datetime(2021, 6, 1, 15, 23, 25)\n",
    "datetime_object1"
   ]
  },
  {
   "cell_type": "markdown",
   "id": "ae6d916e",
   "metadata": {},
   "source": [
    "##### Today’s date and time in different formats"
   ]
  },
  {
   "cell_type": "code",
   "execution_count": 6,
   "id": "e68bca34",
   "metadata": {},
   "outputs": [
    {
     "data": {
      "text/plain": [
       "datetime.datetime(2023, 10, 29, 6, 56, 47, 189756)"
      ]
     },
     "execution_count": 6,
     "metadata": {},
     "output_type": "execute_result"
    }
   ],
   "source": [
    "# get current date\n",
    "datetime_object2 = datetime.now()\n",
    "datetime_object2"
   ]
  },
  {
   "cell_type": "code",
   "execution_count": 31,
   "id": "1b1a035b",
   "metadata": {},
   "outputs": [
    {
     "name": "stdout",
     "output_type": "stream",
     "text": [
      "2023-10-29 09:43:55.824011\n"
     ]
    }
   ],
   "source": [
    "# Get current Time and Date\n",
    "current_time = datetime.now()\n",
    "print(current_time)"
   ]
  },
  {
   "cell_type": "markdown",
   "id": "0c0f1c13",
   "metadata": {},
   "source": [
    "##### Get only either the Date or Time\n",
    "Using now() returns both date and time together. \n",
    "\n",
    "if we want just the date or just the time, then we can use date() or time() function on the datetime object to get the respective value."
   ]
  },
  {
   "cell_type": "code",
   "execution_count": 56,
   "id": "0f799a03",
   "metadata": {},
   "outputs": [
    {
     "name": "stdout",
     "output_type": "stream",
     "text": [
      "Date:  2023-10-30\n",
      "Time:  21:50:28.298392\n"
     ]
    }
   ],
   "source": [
    "curr_date_time = datetime.now()\n",
    "print(\"Date: \", curr_date_time.date())\n",
    "print(\"Time: \", curr_date_time.time())"
   ]
  },
  {
   "cell_type": "markdown",
   "id": "bdfc2274",
   "metadata": {},
   "source": [
    "##### Unix timestamp / Epoch time calculation\n",
    "\n",
    "Unix timestamps are commonly used for files in operating systems. Often they show up in datasets as well.\n",
    "\n",
    "First, we can get the current Unix timestamp"
   ]
  },
  {
   "cell_type": "code",
   "execution_count": 156,
   "id": "caba42d8",
   "metadata": {},
   "outputs": [
    {
     "name": "stdout",
     "output_type": "stream",
     "text": [
      "2023-11-05 00:48:08.774456+00:00\n",
      "UTC\n",
      "1699145288.774456\n"
     ]
    }
   ],
   "source": [
    "from datetime import timezone\n",
    "dt_now = datetime.now(timezone.utc)\n",
    "print(dt_now)\n",
    "print(dt_now.tzinfo)\n",
    "print(dt_now.timestamp()) # the unix timestamp."
   ]
  },
  {
   "cell_type": "code",
   "execution_count": 37,
   "id": "6fe966c5",
   "metadata": {},
   "outputs": [
    {
     "name": "stdout",
     "output_type": "stream",
     "text": [
      "2023-10-29 09:47:36.852275\n",
      "To check UTC time to my local time: 2023-10-29 07:47:36.852493+00:00\n"
     ]
    }
   ],
   "source": [
    "current_time_rec = datetime.now()\n",
    "print(current_time_rec)\n",
    "current_time_utc = datetime.now(tz=timezone.utc)\n",
    "print('To check UTC time to my local time:' , current_time_utc)"
   ]
  },
  {
   "cell_type": "markdown",
   "id": "7758c26c",
   "metadata": {},
   "source": [
    "UTC time is 2 hours less than my local time."
   ]
  },
  {
   "cell_type": "markdown",
   "id": "c70f0286",
   "metadata": {},
   "source": [
    "##### To always generate a UTC datetime regardless of the local time zone"
   ]
  },
  {
   "cell_type": "code",
   "execution_count": 175,
   "id": "059480a4",
   "metadata": {},
   "outputs": [
    {
     "data": {
      "text/plain": [
       "datetime.datetime(2023, 11, 5, 5, 13, 39, 715636)"
      ]
     },
     "execution_count": 175,
     "metadata": {},
     "output_type": "execute_result"
    }
   ],
   "source": [
    "datetime.utcnow()"
   ]
  },
  {
   "cell_type": "markdown",
   "id": "3284bd35",
   "metadata": {},
   "source": [
    "##### Convert Unix timestamp to datetime format"
   ]
  },
  {
   "cell_type": "code",
   "execution_count": 176,
   "id": "20d38f47",
   "metadata": {},
   "outputs": [],
   "source": [
    "import pytz"
   ]
  },
  {
   "cell_type": "code",
   "execution_count": 177,
   "id": "1622ddd5",
   "metadata": {},
   "outputs": [
    {
     "name": "stdout",
     "output_type": "stream",
     "text": [
      "Africa/Abidjan\n",
      "Africa/Accra\n",
      "Africa/Addis_Ababa\n",
      "Africa/Algiers\n",
      "Africa/Asmara\n",
      "Africa/Asmera\n",
      "Africa/Bamako\n",
      "Africa/Bangui\n",
      "Africa/Banjul\n",
      "Africa/Bissau\n",
      "Africa/Blantyre\n",
      "Africa/Brazzaville\n",
      "Africa/Bujumbura\n",
      "Africa/Cairo\n",
      "Africa/Casablanca\n",
      "Africa/Ceuta\n",
      "Africa/Conakry\n",
      "Africa/Dakar\n",
      "Africa/Dar_es_Salaam\n",
      "Africa/Djibouti\n",
      "Africa/Douala\n",
      "Africa/El_Aaiun\n",
      "Africa/Freetown\n",
      "Africa/Gaborone\n",
      "Africa/Harare\n",
      "Africa/Johannesburg\n",
      "Africa/Juba\n",
      "Africa/Kampala\n",
      "Africa/Khartoum\n",
      "Africa/Kigali\n",
      "Africa/Kinshasa\n",
      "Africa/Lagos\n",
      "Africa/Libreville\n",
      "Africa/Lome\n",
      "Africa/Luanda\n",
      "Africa/Lubumbashi\n",
      "Africa/Lusaka\n",
      "Africa/Malabo\n",
      "Africa/Maputo\n",
      "Africa/Maseru\n",
      "Africa/Mbabane\n",
      "Africa/Mogadishu\n",
      "Africa/Monrovia\n",
      "Africa/Nairobi\n",
      "Africa/Ndjamena\n",
      "Africa/Niamey\n",
      "Africa/Nouakchott\n",
      "Africa/Ouagadougou\n",
      "Africa/Porto-Novo\n",
      "Africa/Sao_Tome\n",
      "Africa/Timbuktu\n",
      "Africa/Tripoli\n",
      "Africa/Tunis\n",
      "Africa/Windhoek\n",
      "America/Adak\n",
      "America/Anchorage\n",
      "America/Anguilla\n",
      "America/Antigua\n",
      "America/Araguaina\n",
      "America/Argentina/Buenos_Aires\n",
      "America/Argentina/Catamarca\n",
      "America/Argentina/ComodRivadavia\n",
      "America/Argentina/Cordoba\n",
      "America/Argentina/Jujuy\n",
      "America/Argentina/La_Rioja\n",
      "America/Argentina/Mendoza\n",
      "America/Argentina/Rio_Gallegos\n",
      "America/Argentina/Salta\n",
      "America/Argentina/San_Juan\n",
      "America/Argentina/San_Luis\n",
      "America/Argentina/Tucuman\n",
      "America/Argentina/Ushuaia\n",
      "America/Aruba\n",
      "America/Asuncion\n",
      "America/Atikokan\n",
      "America/Atka\n",
      "America/Bahia\n",
      "America/Bahia_Banderas\n",
      "America/Barbados\n",
      "America/Belem\n",
      "America/Belize\n",
      "America/Blanc-Sablon\n",
      "America/Boa_Vista\n",
      "America/Bogota\n",
      "America/Boise\n",
      "America/Buenos_Aires\n",
      "America/Cambridge_Bay\n",
      "America/Campo_Grande\n",
      "America/Cancun\n",
      "America/Caracas\n",
      "America/Catamarca\n",
      "America/Cayenne\n",
      "America/Cayman\n",
      "America/Chicago\n",
      "America/Chihuahua\n",
      "America/Coral_Harbour\n",
      "America/Cordoba\n",
      "America/Costa_Rica\n",
      "America/Creston\n",
      "America/Cuiaba\n",
      "America/Curacao\n",
      "America/Danmarkshavn\n",
      "America/Dawson\n",
      "America/Dawson_Creek\n",
      "America/Denver\n",
      "America/Detroit\n",
      "America/Dominica\n",
      "America/Edmonton\n",
      "America/Eirunepe\n",
      "America/El_Salvador\n",
      "America/Ensenada\n",
      "America/Fort_Nelson\n",
      "America/Fort_Wayne\n",
      "America/Fortaleza\n",
      "America/Glace_Bay\n",
      "America/Godthab\n",
      "America/Goose_Bay\n",
      "America/Grand_Turk\n",
      "America/Grenada\n",
      "America/Guadeloupe\n",
      "America/Guatemala\n",
      "America/Guayaquil\n",
      "America/Guyana\n",
      "America/Halifax\n",
      "America/Havana\n",
      "America/Hermosillo\n",
      "America/Indiana/Indianapolis\n",
      "America/Indiana/Knox\n",
      "America/Indiana/Marengo\n",
      "America/Indiana/Petersburg\n",
      "America/Indiana/Tell_City\n",
      "America/Indiana/Vevay\n",
      "America/Indiana/Vincennes\n",
      "America/Indiana/Winamac\n",
      "America/Indianapolis\n",
      "America/Inuvik\n",
      "America/Iqaluit\n",
      "America/Jamaica\n",
      "America/Jujuy\n",
      "America/Juneau\n",
      "America/Kentucky/Louisville\n",
      "America/Kentucky/Monticello\n",
      "America/Knox_IN\n",
      "America/Kralendijk\n",
      "America/La_Paz\n",
      "America/Lima\n",
      "America/Los_Angeles\n",
      "America/Louisville\n",
      "America/Lower_Princes\n",
      "America/Maceio\n",
      "America/Managua\n",
      "America/Manaus\n",
      "America/Marigot\n",
      "America/Martinique\n",
      "America/Matamoros\n",
      "America/Mazatlan\n",
      "America/Mendoza\n",
      "America/Menominee\n",
      "America/Merida\n",
      "America/Metlakatla\n",
      "America/Mexico_City\n",
      "America/Miquelon\n",
      "America/Moncton\n",
      "America/Monterrey\n",
      "America/Montevideo\n",
      "America/Montreal\n",
      "America/Montserrat\n",
      "America/Nassau\n",
      "America/New_York\n",
      "America/Nipigon\n",
      "America/Nome\n",
      "America/Noronha\n",
      "America/North_Dakota/Beulah\n",
      "America/North_Dakota/Center\n",
      "America/North_Dakota/New_Salem\n",
      "America/Nuuk\n",
      "America/Ojinaga\n",
      "America/Panama\n",
      "America/Pangnirtung\n",
      "America/Paramaribo\n",
      "America/Phoenix\n",
      "America/Port-au-Prince\n",
      "America/Port_of_Spain\n",
      "America/Porto_Acre\n",
      "America/Porto_Velho\n",
      "America/Puerto_Rico\n",
      "America/Punta_Arenas\n",
      "America/Rainy_River\n",
      "America/Rankin_Inlet\n",
      "America/Recife\n",
      "America/Regina\n",
      "America/Resolute\n",
      "America/Rio_Branco\n",
      "America/Rosario\n",
      "America/Santa_Isabel\n",
      "America/Santarem\n",
      "America/Santiago\n",
      "America/Santo_Domingo\n",
      "America/Sao_Paulo\n",
      "America/Scoresbysund\n",
      "America/Shiprock\n",
      "America/Sitka\n",
      "America/St_Barthelemy\n",
      "America/St_Johns\n",
      "America/St_Kitts\n",
      "America/St_Lucia\n",
      "America/St_Thomas\n",
      "America/St_Vincent\n",
      "America/Swift_Current\n",
      "America/Tegucigalpa\n",
      "America/Thule\n",
      "America/Thunder_Bay\n",
      "America/Tijuana\n",
      "America/Toronto\n",
      "America/Tortola\n",
      "America/Vancouver\n",
      "America/Virgin\n",
      "America/Whitehorse\n",
      "America/Winnipeg\n",
      "America/Yakutat\n",
      "America/Yellowknife\n",
      "Antarctica/Casey\n",
      "Antarctica/Davis\n",
      "Antarctica/DumontDUrville\n",
      "Antarctica/Macquarie\n",
      "Antarctica/Mawson\n",
      "Antarctica/McMurdo\n",
      "Antarctica/Palmer\n",
      "Antarctica/Rothera\n",
      "Antarctica/South_Pole\n",
      "Antarctica/Syowa\n",
      "Antarctica/Troll\n",
      "Antarctica/Vostok\n",
      "Arctic/Longyearbyen\n",
      "Asia/Aden\n",
      "Asia/Almaty\n",
      "Asia/Amman\n",
      "Asia/Anadyr\n",
      "Asia/Aqtau\n",
      "Asia/Aqtobe\n",
      "Asia/Ashgabat\n",
      "Asia/Ashkhabad\n",
      "Asia/Atyrau\n",
      "Asia/Baghdad\n",
      "Asia/Bahrain\n",
      "Asia/Baku\n",
      "Asia/Bangkok\n",
      "Asia/Barnaul\n",
      "Asia/Beirut\n",
      "Asia/Bishkek\n",
      "Asia/Brunei\n",
      "Asia/Calcutta\n",
      "Asia/Chita\n",
      "Asia/Choibalsan\n",
      "Asia/Chongqing\n",
      "Asia/Chungking\n",
      "Asia/Colombo\n",
      "Asia/Dacca\n",
      "Asia/Damascus\n",
      "Asia/Dhaka\n",
      "Asia/Dili\n",
      "Asia/Dubai\n",
      "Asia/Dushanbe\n",
      "Asia/Famagusta\n",
      "Asia/Gaza\n",
      "Asia/Harbin\n",
      "Asia/Hebron\n",
      "Asia/Ho_Chi_Minh\n",
      "Asia/Hong_Kong\n",
      "Asia/Hovd\n",
      "Asia/Irkutsk\n",
      "Asia/Istanbul\n",
      "Asia/Jakarta\n",
      "Asia/Jayapura\n",
      "Asia/Jerusalem\n",
      "Asia/Kabul\n",
      "Asia/Kamchatka\n",
      "Asia/Karachi\n",
      "Asia/Kashgar\n",
      "Asia/Kathmandu\n",
      "Asia/Katmandu\n",
      "Asia/Khandyga\n",
      "Asia/Kolkata\n",
      "Asia/Krasnoyarsk\n",
      "Asia/Kuala_Lumpur\n",
      "Asia/Kuching\n",
      "Asia/Kuwait\n",
      "Asia/Macao\n",
      "Asia/Macau\n",
      "Asia/Magadan\n",
      "Asia/Makassar\n",
      "Asia/Manila\n",
      "Asia/Muscat\n",
      "Asia/Nicosia\n",
      "Asia/Novokuznetsk\n",
      "Asia/Novosibirsk\n",
      "Asia/Omsk\n",
      "Asia/Oral\n",
      "Asia/Phnom_Penh\n",
      "Asia/Pontianak\n",
      "Asia/Pyongyang\n",
      "Asia/Qatar\n",
      "Asia/Qostanay\n",
      "Asia/Qyzylorda\n",
      "Asia/Rangoon\n",
      "Asia/Riyadh\n",
      "Asia/Saigon\n",
      "Asia/Sakhalin\n",
      "Asia/Samarkand\n",
      "Asia/Seoul\n",
      "Asia/Shanghai\n",
      "Asia/Singapore\n",
      "Asia/Srednekolymsk\n",
      "Asia/Taipei\n",
      "Asia/Tashkent\n",
      "Asia/Tbilisi\n",
      "Asia/Tehran\n",
      "Asia/Tel_Aviv\n",
      "Asia/Thimbu\n",
      "Asia/Thimphu\n",
      "Asia/Tokyo\n",
      "Asia/Tomsk\n",
      "Asia/Ujung_Pandang\n",
      "Asia/Ulaanbaatar\n",
      "Asia/Ulan_Bator\n",
      "Asia/Urumqi\n",
      "Asia/Ust-Nera\n",
      "Asia/Vientiane\n",
      "Asia/Vladivostok\n",
      "Asia/Yakutsk\n",
      "Asia/Yangon\n",
      "Asia/Yekaterinburg\n",
      "Asia/Yerevan\n",
      "Atlantic/Azores\n",
      "Atlantic/Bermuda\n",
      "Atlantic/Canary\n",
      "Atlantic/Cape_Verde\n",
      "Atlantic/Faeroe\n",
      "Atlantic/Faroe\n",
      "Atlantic/Jan_Mayen\n",
      "Atlantic/Madeira\n",
      "Atlantic/Reykjavik\n",
      "Atlantic/South_Georgia\n",
      "Atlantic/St_Helena\n",
      "Atlantic/Stanley\n",
      "Australia/ACT\n",
      "Australia/Adelaide\n",
      "Australia/Brisbane\n",
      "Australia/Broken_Hill\n",
      "Australia/Canberra\n",
      "Australia/Currie\n",
      "Australia/Darwin\n",
      "Australia/Eucla\n",
      "Australia/Hobart\n",
      "Australia/LHI\n",
      "Australia/Lindeman\n",
      "Australia/Lord_Howe\n",
      "Australia/Melbourne\n",
      "Australia/NSW\n",
      "Australia/North\n",
      "Australia/Perth\n",
      "Australia/Queensland\n",
      "Australia/South\n",
      "Australia/Sydney\n",
      "Australia/Tasmania\n",
      "Australia/Victoria\n",
      "Australia/West\n",
      "Australia/Yancowinna\n",
      "Brazil/Acre\n",
      "Brazil/DeNoronha\n",
      "Brazil/East\n",
      "Brazil/West\n",
      "CET\n",
      "CST6CDT\n",
      "Canada/Atlantic\n",
      "Canada/Central\n",
      "Canada/Eastern\n",
      "Canada/Mountain\n",
      "Canada/Newfoundland\n",
      "Canada/Pacific\n",
      "Canada/Saskatchewan\n",
      "Canada/Yukon\n",
      "Chile/Continental\n",
      "Chile/EasterIsland\n",
      "Cuba\n",
      "EET\n",
      "EST\n",
      "EST5EDT\n",
      "Egypt\n",
      "Eire\n",
      "Etc/GMT\n",
      "Etc/GMT+0\n",
      "Etc/GMT+1\n",
      "Etc/GMT+10\n",
      "Etc/GMT+11\n",
      "Etc/GMT+12\n",
      "Etc/GMT+2\n",
      "Etc/GMT+3\n",
      "Etc/GMT+4\n",
      "Etc/GMT+5\n",
      "Etc/GMT+6\n",
      "Etc/GMT+7\n",
      "Etc/GMT+8\n",
      "Etc/GMT+9\n",
      "Etc/GMT-0\n",
      "Etc/GMT-1\n",
      "Etc/GMT-10\n",
      "Etc/GMT-11\n",
      "Etc/GMT-12\n",
      "Etc/GMT-13\n",
      "Etc/GMT-14\n",
      "Etc/GMT-2\n",
      "Etc/GMT-3\n",
      "Etc/GMT-4\n",
      "Etc/GMT-5\n",
      "Etc/GMT-6\n",
      "Etc/GMT-7\n",
      "Etc/GMT-8\n",
      "Etc/GMT-9\n",
      "Etc/GMT0\n",
      "Etc/Greenwich\n",
      "Etc/UCT\n",
      "Etc/UTC\n",
      "Etc/Universal\n",
      "Etc/Zulu\n",
      "Europe/Amsterdam\n",
      "Europe/Andorra\n",
      "Europe/Astrakhan\n",
      "Europe/Athens\n",
      "Europe/Belfast\n",
      "Europe/Belgrade\n",
      "Europe/Berlin\n",
      "Europe/Bratislava\n",
      "Europe/Brussels\n",
      "Europe/Bucharest\n",
      "Europe/Budapest\n",
      "Europe/Busingen\n",
      "Europe/Chisinau\n",
      "Europe/Copenhagen\n",
      "Europe/Dublin\n",
      "Europe/Gibraltar\n",
      "Europe/Guernsey\n",
      "Europe/Helsinki\n",
      "Europe/Isle_of_Man\n",
      "Europe/Istanbul\n",
      "Europe/Jersey\n",
      "Europe/Kaliningrad\n",
      "Europe/Kiev\n",
      "Europe/Kirov\n",
      "Europe/Lisbon\n",
      "Europe/Ljubljana\n",
      "Europe/London\n",
      "Europe/Luxembourg\n",
      "Europe/Madrid\n",
      "Europe/Malta\n",
      "Europe/Mariehamn\n",
      "Europe/Minsk\n",
      "Europe/Monaco\n",
      "Europe/Moscow\n",
      "Europe/Nicosia\n",
      "Europe/Oslo\n",
      "Europe/Paris\n",
      "Europe/Podgorica\n",
      "Europe/Prague\n",
      "Europe/Riga\n",
      "Europe/Rome\n",
      "Europe/Samara\n",
      "Europe/San_Marino\n",
      "Europe/Sarajevo\n",
      "Europe/Saratov\n",
      "Europe/Simferopol\n",
      "Europe/Skopje\n",
      "Europe/Sofia\n",
      "Europe/Stockholm\n",
      "Europe/Tallinn\n",
      "Europe/Tirane\n",
      "Europe/Tiraspol\n",
      "Europe/Ulyanovsk\n",
      "Europe/Uzhgorod\n",
      "Europe/Vaduz\n",
      "Europe/Vatican\n",
      "Europe/Vienna\n",
      "Europe/Vilnius\n",
      "Europe/Volgograd\n",
      "Europe/Warsaw\n",
      "Europe/Zagreb\n",
      "Europe/Zaporozhye\n",
      "Europe/Zurich\n",
      "GB\n",
      "GB-Eire\n",
      "GMT\n",
      "GMT+0\n",
      "GMT-0\n",
      "GMT0\n",
      "Greenwich\n",
      "HST\n",
      "Hongkong\n",
      "Iceland\n",
      "Indian/Antananarivo\n",
      "Indian/Chagos\n",
      "Indian/Christmas\n",
      "Indian/Cocos\n",
      "Indian/Comoro\n",
      "Indian/Kerguelen\n",
      "Indian/Mahe\n",
      "Indian/Maldives\n",
      "Indian/Mauritius\n",
      "Indian/Mayotte\n",
      "Indian/Reunion\n",
      "Iran\n",
      "Israel\n",
      "Jamaica\n",
      "Japan\n",
      "Kwajalein\n",
      "Libya\n",
      "MET\n",
      "MST\n",
      "MST7MDT\n",
      "Mexico/BajaNorte\n",
      "Mexico/BajaSur\n",
      "Mexico/General\n",
      "NZ\n",
      "NZ-CHAT\n",
      "Navajo\n",
      "PRC\n",
      "PST8PDT\n",
      "Pacific/Apia\n",
      "Pacific/Auckland\n",
      "Pacific/Bougainville\n",
      "Pacific/Chatham\n",
      "Pacific/Chuuk\n",
      "Pacific/Easter\n",
      "Pacific/Efate\n",
      "Pacific/Enderbury\n",
      "Pacific/Fakaofo\n",
      "Pacific/Fiji\n",
      "Pacific/Funafuti\n",
      "Pacific/Galapagos\n",
      "Pacific/Gambier\n",
      "Pacific/Guadalcanal\n",
      "Pacific/Guam\n",
      "Pacific/Honolulu\n",
      "Pacific/Johnston\n",
      "Pacific/Kiritimati\n",
      "Pacific/Kosrae\n",
      "Pacific/Kwajalein\n",
      "Pacific/Majuro\n",
      "Pacific/Marquesas\n",
      "Pacific/Midway\n",
      "Pacific/Nauru\n",
      "Pacific/Niue\n",
      "Pacific/Norfolk\n",
      "Pacific/Noumea\n",
      "Pacific/Pago_Pago\n",
      "Pacific/Palau\n",
      "Pacific/Pitcairn\n",
      "Pacific/Pohnpei\n",
      "Pacific/Ponape\n",
      "Pacific/Port_Moresby\n",
      "Pacific/Rarotonga\n",
      "Pacific/Saipan\n",
      "Pacific/Samoa\n",
      "Pacific/Tahiti\n",
      "Pacific/Tarawa\n",
      "Pacific/Tongatapu\n",
      "Pacific/Truk\n",
      "Pacific/Wake\n",
      "Pacific/Wallis\n",
      "Pacific/Yap\n",
      "Poland\n",
      "Portugal\n",
      "ROC\n",
      "ROK\n",
      "Singapore\n",
      "Turkey\n",
      "UCT\n",
      "US/Alaska\n",
      "US/Aleutian\n",
      "US/Arizona\n",
      "US/Central\n",
      "US/East-Indiana\n",
      "US/Eastern\n",
      "US/Hawaii\n",
      "US/Indiana-Starke\n",
      "US/Michigan\n",
      "US/Mountain\n",
      "US/Pacific\n",
      "US/Samoa\n",
      "UTC\n",
      "Universal\n",
      "W-SU\n",
      "WET\n",
      "Zulu\n"
     ]
    }
   ],
   "source": [
    "for tz in pytz.all_timezones:\n",
    "    print(tz)"
   ]
  },
  {
   "cell_type": "code",
   "execution_count": 178,
   "id": "0a42f190",
   "metadata": {},
   "outputs": [
    {
     "name": "stdout",
     "output_type": "stream",
     "text": [
      "2013-08-21 02:07:41.206272+00:00\n",
      "2013-08-21 04:07:41.206272+02:00\n",
      "2013-08-21 04:07:41.206272+02:00\n"
     ]
    }
   ],
   "source": [
    "utc_timestamp = 1377050861.206272\n",
    "unix_ts_dt = datetime.fromtimestamp(utc_timestamp, timezone.utc)\n",
    "print(unix_ts_dt)\n",
    "print(unix_ts_dt.astimezone(pytz.timezone(\"Africa/Johannesburg\")))\n",
    "print(unix_ts_dt.astimezone(pytz.timezone(\"Africa/Gaborone\")))"
   ]
  },
  {
   "cell_type": "markdown",
   "id": "69497443",
   "metadata": {},
   "source": [
    "# Time zones settings"
   ]
  },
  {
   "cell_type": "code",
   "execution_count": 179,
   "id": "a0863455",
   "metadata": {},
   "outputs": [
    {
     "name": "stdout",
     "output_type": "stream",
     "text": [
      "Africa/Johannesburg\n",
      "2023-11-05 02:29:48.271419+02:00\n"
     ]
    }
   ],
   "source": [
    "import pytz\n",
    "timezone = pytz.timezone(\"Africa/Johannesburg\")\n",
    "dtz = timezone.localize(d)\n",
    "print(dtz.tzinfo)\n",
    "print(dtz)"
   ]
  },
  {
   "cell_type": "code",
   "execution_count": 180,
   "id": "a9c9de6f",
   "metadata": {},
   "outputs": [
    {
     "name": "stdout",
     "output_type": "stream",
     "text": [
      "2023-11-05 08:29:48.271419+08:00\n"
     ]
    }
   ],
   "source": [
    "shanghai_dt = dtz.astimezone(pytz.timezone(\"Asia/Shanghai\"))\n",
    "print(shanghai_dt)"
   ]
  },
  {
   "cell_type": "code",
   "execution_count": 181,
   "id": "5e6c7222",
   "metadata": {},
   "outputs": [
    {
     "name": "stdout",
     "output_type": "stream",
     "text": [
      "Africa/Abidjan\n",
      "Africa/Accra\n",
      "Africa/Addis_Ababa\n",
      "Africa/Algiers\n",
      "Africa/Asmara\n",
      "Africa/Asmera\n",
      "Africa/Bamako\n",
      "Africa/Bangui\n",
      "Africa/Banjul\n",
      "Africa/Bissau\n",
      "Africa/Blantyre\n",
      "Africa/Brazzaville\n",
      "Africa/Bujumbura\n",
      "Africa/Cairo\n",
      "Africa/Casablanca\n",
      "Africa/Ceuta\n",
      "Africa/Conakry\n",
      "Africa/Dakar\n",
      "Africa/Dar_es_Salaam\n",
      "Africa/Djibouti\n",
      "Africa/Douala\n",
      "Africa/El_Aaiun\n",
      "Africa/Freetown\n",
      "Africa/Gaborone\n",
      "Africa/Harare\n",
      "Africa/Johannesburg\n",
      "Africa/Juba\n",
      "Africa/Kampala\n",
      "Africa/Khartoum\n",
      "Africa/Kigali\n",
      "Africa/Kinshasa\n",
      "Africa/Lagos\n",
      "Africa/Libreville\n",
      "Africa/Lome\n",
      "Africa/Luanda\n",
      "Africa/Lubumbashi\n",
      "Africa/Lusaka\n",
      "Africa/Malabo\n",
      "Africa/Maputo\n",
      "Africa/Maseru\n",
      "Africa/Mbabane\n",
      "Africa/Mogadishu\n",
      "Africa/Monrovia\n",
      "Africa/Nairobi\n",
      "Africa/Ndjamena\n",
      "Africa/Niamey\n",
      "Africa/Nouakchott\n",
      "Africa/Ouagadougou\n",
      "Africa/Porto-Novo\n",
      "Africa/Sao_Tome\n",
      "Africa/Timbuktu\n",
      "Africa/Tripoli\n",
      "Africa/Tunis\n",
      "Africa/Windhoek\n",
      "America/Adak\n",
      "America/Anchorage\n",
      "America/Anguilla\n",
      "America/Antigua\n",
      "America/Araguaina\n",
      "America/Argentina/Buenos_Aires\n",
      "America/Argentina/Catamarca\n",
      "America/Argentina/ComodRivadavia\n",
      "America/Argentina/Cordoba\n",
      "America/Argentina/Jujuy\n",
      "America/Argentina/La_Rioja\n",
      "America/Argentina/Mendoza\n",
      "America/Argentina/Rio_Gallegos\n",
      "America/Argentina/Salta\n",
      "America/Argentina/San_Juan\n",
      "America/Argentina/San_Luis\n",
      "America/Argentina/Tucuman\n",
      "America/Argentina/Ushuaia\n",
      "America/Aruba\n",
      "America/Asuncion\n",
      "America/Atikokan\n",
      "America/Atka\n",
      "America/Bahia\n",
      "America/Bahia_Banderas\n",
      "America/Barbados\n",
      "America/Belem\n",
      "America/Belize\n",
      "America/Blanc-Sablon\n",
      "America/Boa_Vista\n",
      "America/Bogota\n",
      "America/Boise\n",
      "America/Buenos_Aires\n",
      "America/Cambridge_Bay\n",
      "America/Campo_Grande\n",
      "America/Cancun\n",
      "America/Caracas\n",
      "America/Catamarca\n",
      "America/Cayenne\n",
      "America/Cayman\n",
      "America/Chicago\n",
      "America/Chihuahua\n",
      "America/Coral_Harbour\n",
      "America/Cordoba\n",
      "America/Costa_Rica\n",
      "America/Creston\n",
      "America/Cuiaba\n",
      "America/Curacao\n",
      "America/Danmarkshavn\n",
      "America/Dawson\n",
      "America/Dawson_Creek\n",
      "America/Denver\n",
      "America/Detroit\n",
      "America/Dominica\n",
      "America/Edmonton\n",
      "America/Eirunepe\n",
      "America/El_Salvador\n",
      "America/Ensenada\n",
      "America/Fort_Nelson\n",
      "America/Fort_Wayne\n",
      "America/Fortaleza\n",
      "America/Glace_Bay\n",
      "America/Godthab\n",
      "America/Goose_Bay\n",
      "America/Grand_Turk\n",
      "America/Grenada\n",
      "America/Guadeloupe\n",
      "America/Guatemala\n",
      "America/Guayaquil\n",
      "America/Guyana\n",
      "America/Halifax\n",
      "America/Havana\n",
      "America/Hermosillo\n",
      "America/Indiana/Indianapolis\n",
      "America/Indiana/Knox\n",
      "America/Indiana/Marengo\n",
      "America/Indiana/Petersburg\n",
      "America/Indiana/Tell_City\n",
      "America/Indiana/Vevay\n",
      "America/Indiana/Vincennes\n",
      "America/Indiana/Winamac\n",
      "America/Indianapolis\n",
      "America/Inuvik\n",
      "America/Iqaluit\n",
      "America/Jamaica\n",
      "America/Jujuy\n",
      "America/Juneau\n",
      "America/Kentucky/Louisville\n",
      "America/Kentucky/Monticello\n",
      "America/Knox_IN\n",
      "America/Kralendijk\n",
      "America/La_Paz\n",
      "America/Lima\n",
      "America/Los_Angeles\n",
      "America/Louisville\n",
      "America/Lower_Princes\n",
      "America/Maceio\n",
      "America/Managua\n",
      "America/Manaus\n",
      "America/Marigot\n",
      "America/Martinique\n",
      "America/Matamoros\n",
      "America/Mazatlan\n",
      "America/Mendoza\n",
      "America/Menominee\n",
      "America/Merida\n",
      "America/Metlakatla\n",
      "America/Mexico_City\n",
      "America/Miquelon\n",
      "America/Moncton\n",
      "America/Monterrey\n",
      "America/Montevideo\n",
      "America/Montreal\n",
      "America/Montserrat\n",
      "America/Nassau\n",
      "America/New_York\n",
      "America/Nipigon\n",
      "America/Nome\n",
      "America/Noronha\n",
      "America/North_Dakota/Beulah\n",
      "America/North_Dakota/Center\n",
      "America/North_Dakota/New_Salem\n",
      "America/Nuuk\n",
      "America/Ojinaga\n",
      "America/Panama\n",
      "America/Pangnirtung\n",
      "America/Paramaribo\n",
      "America/Phoenix\n",
      "America/Port-au-Prince\n",
      "America/Port_of_Spain\n",
      "America/Porto_Acre\n",
      "America/Porto_Velho\n",
      "America/Puerto_Rico\n",
      "America/Punta_Arenas\n",
      "America/Rainy_River\n",
      "America/Rankin_Inlet\n",
      "America/Recife\n",
      "America/Regina\n",
      "America/Resolute\n",
      "America/Rio_Branco\n",
      "America/Rosario\n",
      "America/Santa_Isabel\n",
      "America/Santarem\n",
      "America/Santiago\n",
      "America/Santo_Domingo\n",
      "America/Sao_Paulo\n",
      "America/Scoresbysund\n",
      "America/Shiprock\n",
      "America/Sitka\n",
      "America/St_Barthelemy\n",
      "America/St_Johns\n",
      "America/St_Kitts\n",
      "America/St_Lucia\n",
      "America/St_Thomas\n",
      "America/St_Vincent\n",
      "America/Swift_Current\n",
      "America/Tegucigalpa\n",
      "America/Thule\n",
      "America/Thunder_Bay\n",
      "America/Tijuana\n",
      "America/Toronto\n",
      "America/Tortola\n",
      "America/Vancouver\n",
      "America/Virgin\n",
      "America/Whitehorse\n",
      "America/Winnipeg\n",
      "America/Yakutat\n",
      "America/Yellowknife\n",
      "Antarctica/Casey\n",
      "Antarctica/Davis\n",
      "Antarctica/DumontDUrville\n",
      "Antarctica/Macquarie\n",
      "Antarctica/Mawson\n",
      "Antarctica/McMurdo\n",
      "Antarctica/Palmer\n",
      "Antarctica/Rothera\n",
      "Antarctica/South_Pole\n",
      "Antarctica/Syowa\n",
      "Antarctica/Troll\n",
      "Antarctica/Vostok\n",
      "Arctic/Longyearbyen\n",
      "Asia/Aden\n",
      "Asia/Almaty\n",
      "Asia/Amman\n",
      "Asia/Anadyr\n",
      "Asia/Aqtau\n",
      "Asia/Aqtobe\n",
      "Asia/Ashgabat\n",
      "Asia/Ashkhabad\n",
      "Asia/Atyrau\n",
      "Asia/Baghdad\n",
      "Asia/Bahrain\n",
      "Asia/Baku\n",
      "Asia/Bangkok\n",
      "Asia/Barnaul\n",
      "Asia/Beirut\n",
      "Asia/Bishkek\n",
      "Asia/Brunei\n",
      "Asia/Calcutta\n",
      "Asia/Chita\n",
      "Asia/Choibalsan\n",
      "Asia/Chongqing\n",
      "Asia/Chungking\n",
      "Asia/Colombo\n",
      "Asia/Dacca\n",
      "Asia/Damascus\n",
      "Asia/Dhaka\n",
      "Asia/Dili\n",
      "Asia/Dubai\n",
      "Asia/Dushanbe\n",
      "Asia/Famagusta\n",
      "Asia/Gaza\n",
      "Asia/Harbin\n",
      "Asia/Hebron\n",
      "Asia/Ho_Chi_Minh\n",
      "Asia/Hong_Kong\n",
      "Asia/Hovd\n",
      "Asia/Irkutsk\n",
      "Asia/Istanbul\n",
      "Asia/Jakarta\n",
      "Asia/Jayapura\n",
      "Asia/Jerusalem\n",
      "Asia/Kabul\n",
      "Asia/Kamchatka\n",
      "Asia/Karachi\n",
      "Asia/Kashgar\n",
      "Asia/Kathmandu\n",
      "Asia/Katmandu\n",
      "Asia/Khandyga\n",
      "Asia/Kolkata\n",
      "Asia/Krasnoyarsk\n",
      "Asia/Kuala_Lumpur\n",
      "Asia/Kuching\n",
      "Asia/Kuwait\n",
      "Asia/Macao\n",
      "Asia/Macau\n",
      "Asia/Magadan\n",
      "Asia/Makassar\n",
      "Asia/Manila\n",
      "Asia/Muscat\n",
      "Asia/Nicosia\n",
      "Asia/Novokuznetsk\n",
      "Asia/Novosibirsk\n",
      "Asia/Omsk\n",
      "Asia/Oral\n",
      "Asia/Phnom_Penh\n",
      "Asia/Pontianak\n",
      "Asia/Pyongyang\n",
      "Asia/Qatar\n",
      "Asia/Qostanay\n",
      "Asia/Qyzylorda\n",
      "Asia/Rangoon\n",
      "Asia/Riyadh\n",
      "Asia/Saigon\n",
      "Asia/Sakhalin\n",
      "Asia/Samarkand\n",
      "Asia/Seoul\n",
      "Asia/Shanghai\n",
      "Asia/Singapore\n",
      "Asia/Srednekolymsk\n",
      "Asia/Taipei\n",
      "Asia/Tashkent\n",
      "Asia/Tbilisi\n",
      "Asia/Tehran\n",
      "Asia/Tel_Aviv\n",
      "Asia/Thimbu\n",
      "Asia/Thimphu\n",
      "Asia/Tokyo\n",
      "Asia/Tomsk\n",
      "Asia/Ujung_Pandang\n",
      "Asia/Ulaanbaatar\n",
      "Asia/Ulan_Bator\n",
      "Asia/Urumqi\n",
      "Asia/Ust-Nera\n",
      "Asia/Vientiane\n",
      "Asia/Vladivostok\n",
      "Asia/Yakutsk\n",
      "Asia/Yangon\n",
      "Asia/Yekaterinburg\n",
      "Asia/Yerevan\n",
      "Atlantic/Azores\n",
      "Atlantic/Bermuda\n",
      "Atlantic/Canary\n",
      "Atlantic/Cape_Verde\n",
      "Atlantic/Faeroe\n",
      "Atlantic/Faroe\n",
      "Atlantic/Jan_Mayen\n",
      "Atlantic/Madeira\n",
      "Atlantic/Reykjavik\n",
      "Atlantic/South_Georgia\n",
      "Atlantic/St_Helena\n",
      "Atlantic/Stanley\n",
      "Australia/ACT\n",
      "Australia/Adelaide\n",
      "Australia/Brisbane\n",
      "Australia/Broken_Hill\n",
      "Australia/Canberra\n",
      "Australia/Currie\n",
      "Australia/Darwin\n",
      "Australia/Eucla\n",
      "Australia/Hobart\n",
      "Australia/LHI\n",
      "Australia/Lindeman\n",
      "Australia/Lord_Howe\n",
      "Australia/Melbourne\n",
      "Australia/NSW\n",
      "Australia/North\n",
      "Australia/Perth\n",
      "Australia/Queensland\n",
      "Australia/South\n",
      "Australia/Sydney\n",
      "Australia/Tasmania\n",
      "Australia/Victoria\n",
      "Australia/West\n",
      "Australia/Yancowinna\n",
      "Brazil/Acre\n",
      "Brazil/DeNoronha\n",
      "Brazil/East\n",
      "Brazil/West\n",
      "CET\n",
      "CST6CDT\n",
      "Canada/Atlantic\n",
      "Canada/Central\n",
      "Canada/Eastern\n",
      "Canada/Mountain\n",
      "Canada/Newfoundland\n",
      "Canada/Pacific\n",
      "Canada/Saskatchewan\n",
      "Canada/Yukon\n",
      "Chile/Continental\n",
      "Chile/EasterIsland\n",
      "Cuba\n",
      "EET\n",
      "EST\n",
      "EST5EDT\n",
      "Egypt\n",
      "Eire\n",
      "Etc/GMT\n",
      "Etc/GMT+0\n",
      "Etc/GMT+1\n",
      "Etc/GMT+10\n",
      "Etc/GMT+11\n",
      "Etc/GMT+12\n",
      "Etc/GMT+2\n",
      "Etc/GMT+3\n",
      "Etc/GMT+4\n",
      "Etc/GMT+5\n",
      "Etc/GMT+6\n",
      "Etc/GMT+7\n",
      "Etc/GMT+8\n",
      "Etc/GMT+9\n",
      "Etc/GMT-0\n",
      "Etc/GMT-1\n",
      "Etc/GMT-10\n",
      "Etc/GMT-11\n",
      "Etc/GMT-12\n",
      "Etc/GMT-13\n",
      "Etc/GMT-14\n",
      "Etc/GMT-2\n",
      "Etc/GMT-3\n",
      "Etc/GMT-4\n",
      "Etc/GMT-5\n",
      "Etc/GMT-6\n",
      "Etc/GMT-7\n",
      "Etc/GMT-8\n",
      "Etc/GMT-9\n",
      "Etc/GMT0\n",
      "Etc/Greenwich\n",
      "Etc/UCT\n",
      "Etc/UTC\n",
      "Etc/Universal\n",
      "Etc/Zulu\n",
      "Europe/Amsterdam\n",
      "Europe/Andorra\n",
      "Europe/Astrakhan\n",
      "Europe/Athens\n",
      "Europe/Belfast\n",
      "Europe/Belgrade\n",
      "Europe/Berlin\n",
      "Europe/Bratislava\n",
      "Europe/Brussels\n",
      "Europe/Bucharest\n",
      "Europe/Budapest\n",
      "Europe/Busingen\n",
      "Europe/Chisinau\n",
      "Europe/Copenhagen\n",
      "Europe/Dublin\n",
      "Europe/Gibraltar\n",
      "Europe/Guernsey\n",
      "Europe/Helsinki\n",
      "Europe/Isle_of_Man\n",
      "Europe/Istanbul\n",
      "Europe/Jersey\n",
      "Europe/Kaliningrad\n",
      "Europe/Kiev\n",
      "Europe/Kirov\n",
      "Europe/Lisbon\n",
      "Europe/Ljubljana\n",
      "Europe/London\n",
      "Europe/Luxembourg\n",
      "Europe/Madrid\n",
      "Europe/Malta\n",
      "Europe/Mariehamn\n",
      "Europe/Minsk\n",
      "Europe/Monaco\n",
      "Europe/Moscow\n",
      "Europe/Nicosia\n",
      "Europe/Oslo\n",
      "Europe/Paris\n",
      "Europe/Podgorica\n",
      "Europe/Prague\n",
      "Europe/Riga\n",
      "Europe/Rome\n",
      "Europe/Samara\n",
      "Europe/San_Marino\n",
      "Europe/Sarajevo\n",
      "Europe/Saratov\n",
      "Europe/Simferopol\n",
      "Europe/Skopje\n",
      "Europe/Sofia\n",
      "Europe/Stockholm\n",
      "Europe/Tallinn\n",
      "Europe/Tirane\n",
      "Europe/Tiraspol\n",
      "Europe/Ulyanovsk\n",
      "Europe/Uzhgorod\n",
      "Europe/Vaduz\n",
      "Europe/Vatican\n",
      "Europe/Vienna\n",
      "Europe/Vilnius\n",
      "Europe/Volgograd\n",
      "Europe/Warsaw\n",
      "Europe/Zagreb\n",
      "Europe/Zaporozhye\n",
      "Europe/Zurich\n",
      "GB\n",
      "GB-Eire\n",
      "GMT\n",
      "GMT+0\n",
      "GMT-0\n",
      "GMT0\n",
      "Greenwich\n",
      "HST\n",
      "Hongkong\n",
      "Iceland\n",
      "Indian/Antananarivo\n",
      "Indian/Chagos\n",
      "Indian/Christmas\n",
      "Indian/Cocos\n",
      "Indian/Comoro\n",
      "Indian/Kerguelen\n",
      "Indian/Mahe\n",
      "Indian/Maldives\n",
      "Indian/Mauritius\n",
      "Indian/Mayotte\n",
      "Indian/Reunion\n",
      "Iran\n",
      "Israel\n",
      "Jamaica\n",
      "Japan\n",
      "Kwajalein\n",
      "Libya\n",
      "MET\n",
      "MST\n",
      "MST7MDT\n",
      "Mexico/BajaNorte\n",
      "Mexico/BajaSur\n",
      "Mexico/General\n",
      "NZ\n",
      "NZ-CHAT\n",
      "Navajo\n",
      "PRC\n",
      "PST8PDT\n",
      "Pacific/Apia\n",
      "Pacific/Auckland\n",
      "Pacific/Bougainville\n",
      "Pacific/Chatham\n",
      "Pacific/Chuuk\n",
      "Pacific/Easter\n",
      "Pacific/Efate\n",
      "Pacific/Enderbury\n",
      "Pacific/Fakaofo\n",
      "Pacific/Fiji\n",
      "Pacific/Funafuti\n",
      "Pacific/Galapagos\n",
      "Pacific/Gambier\n",
      "Pacific/Guadalcanal\n",
      "Pacific/Guam\n",
      "Pacific/Honolulu\n",
      "Pacific/Johnston\n",
      "Pacific/Kiritimati\n",
      "Pacific/Kosrae\n",
      "Pacific/Kwajalein\n",
      "Pacific/Majuro\n",
      "Pacific/Marquesas\n",
      "Pacific/Midway\n",
      "Pacific/Nauru\n",
      "Pacific/Niue\n",
      "Pacific/Norfolk\n",
      "Pacific/Noumea\n",
      "Pacific/Pago_Pago\n",
      "Pacific/Palau\n",
      "Pacific/Pitcairn\n",
      "Pacific/Pohnpei\n",
      "Pacific/Ponape\n",
      "Pacific/Port_Moresby\n",
      "Pacific/Rarotonga\n",
      "Pacific/Saipan\n",
      "Pacific/Samoa\n",
      "Pacific/Tahiti\n",
      "Pacific/Tarawa\n",
      "Pacific/Tongatapu\n",
      "Pacific/Truk\n",
      "Pacific/Wake\n",
      "Pacific/Wallis\n",
      "Pacific/Yap\n",
      "Poland\n",
      "Portugal\n",
      "ROC\n",
      "ROK\n",
      "Singapore\n",
      "Turkey\n",
      "UCT\n",
      "US/Alaska\n",
      "US/Aleutian\n",
      "US/Arizona\n",
      "US/Central\n",
      "US/East-Indiana\n",
      "US/Eastern\n",
      "US/Hawaii\n",
      "US/Indiana-Starke\n",
      "US/Michigan\n",
      "US/Mountain\n",
      "US/Pacific\n",
      "US/Samoa\n",
      "UTC\n",
      "Universal\n",
      "W-SU\n",
      "WET\n",
      "Zulu\n"
     ]
    }
   ],
   "source": [
    "# if interested in the whole list of different time zones\n",
    "for tz in pytz.all_timezones:\n",
    "    print(tz)"
   ]
  },
  {
   "cell_type": "markdown",
   "id": "6d16ee6d",
   "metadata": {},
   "source": [
    "ZoneInfo is available and it solves many of the issues seen with pytz,\n",
    "- DON’T USE pytz, use ZoneInfo"
   ]
  },
  {
   "cell_type": "markdown",
   "id": "f75c7160",
   "metadata": {},
   "source": [
    "### Using Time Zone In Practice"
   ]
  },
  {
   "cell_type": "code",
   "execution_count": 182,
   "id": "325aff1e",
   "metadata": {},
   "outputs": [
    {
     "name": "stdout",
     "output_type": "stream",
     "text": [
      "Requirement already satisfied: python-dateutil in c:\\users\\siphamandla mandindi\\anaconda3\\lib\\site-packages (2.8.1)\n",
      "Requirement already satisfied: six>=1.5 in c:\\users\\siphamandla mandindi\\anaconda3\\lib\\site-packages (from python-dateutil) (1.15.0)\n"
     ]
    }
   ],
   "source": [
    "!pip install python-dateutil"
   ]
  },
  {
   "cell_type": "code",
   "execution_count": 183,
   "id": "22d409b4",
   "metadata": {},
   "outputs": [],
   "source": [
    "from dateutil import tz\n",
    "import dateutil.parser"
   ]
  },
  {
   "cell_type": "code",
   "execution_count": 184,
   "id": "c62aa2ab",
   "metadata": {},
   "outputs": [
    {
     "name": "stdout",
     "output_type": "stream",
     "text": [
      "2017-12-30 15:09:03\n",
      "2017-12-30 15:09:03\n"
     ]
    }
   ],
   "source": [
    "# Last ride\n",
    "last_no_tz=datetime(2017,12,30,15,9,3)\n",
    "last_tz=datetime(2017,12,30,15,9,3,tzinfo= None)\n",
    "print(last_no_tz)\n",
    "print(last_tz)"
   ]
  },
  {
   "cell_type": "code",
   "execution_count": 185,
   "id": "55eedd5f",
   "metadata": {},
   "outputs": [
    {
     "name": "stdout",
     "output_type": "stream",
     "text": [
      "2017-10-01 15:23:25\n",
      "2017-10-01 15:23:25\n"
     ]
    }
   ],
   "source": [
    "# First ride\n",
    "first_no_tz=datetime(2017,10,1,15,23,25)\n",
    "first_tz=datetime(2017,10,1,15,23,25)\n",
    "print(first_no_tz)\n",
    "print(first_tz)"
   ]
  },
  {
   "cell_type": "markdown",
   "id": "d82ac16c",
   "metadata": {},
   "source": [
    "##### Get timezones of other areas"
   ]
  },
  {
   "cell_type": "code",
   "execution_count": 186,
   "id": "5d0c76a2",
   "metadata": {},
   "outputs": [
    {
     "data": {
      "text/plain": [
       "datetime.datetime(2023, 11, 5, 3, 20, 30, 187568, tzinfo=<UTC>)"
      ]
     },
     "execution_count": 186,
     "metadata": {},
     "output_type": "execute_result"
    }
   ],
   "source": [
    "# generates a UTC date, attaches a time zone of UTC to that date, then converts the time to U.S./Eastern. \n",
    "\n",
    "import pytz\n",
    "from pytz import timezone\n",
    "utc = pytz.utc\n",
    "eastern = timezone('US/Eastern')\n",
    "date = datetime.utcnow().astimezone(utc)\n",
    "date"
   ]
  },
  {
   "cell_type": "code",
   "execution_count": 187,
   "id": "38d36c26",
   "metadata": {},
   "outputs": [
    {
     "data": {
      "text/plain": [
       "datetime.datetime(2023, 11, 4, 23, 20, 30, 187568, tzinfo=<DstTzInfo 'US/Eastern' EDT-1 day, 20:00:00 DST>)"
      ]
     },
     "execution_count": 187,
     "metadata": {},
     "output_type": "execute_result"
    }
   ],
   "source": [
    "date.astimezone(eastern)"
   ]
  },
  {
   "cell_type": "markdown",
   "id": "a294eed3",
   "metadata": {},
   "source": [
    "##### Use Python datetime methods to format time zones"
   ]
  },
  {
   "cell_type": "code",
   "execution_count": 188,
   "id": "133c7af4",
   "metadata": {},
   "outputs": [
    {
     "data": {
      "text/plain": [
       "'UTC'"
      ]
     },
     "execution_count": 188,
     "metadata": {},
     "output_type": "execute_result"
    }
   ],
   "source": [
    "datetime.strftime(date, \"%Z\")"
   ]
  },
  {
   "cell_type": "code",
   "execution_count": 189,
   "id": "8e9eb1f2",
   "metadata": {},
   "outputs": [
    {
     "data": {
      "text/plain": [
       "'EDT'"
      ]
     },
     "execution_count": 189,
     "metadata": {},
     "output_type": "execute_result"
    }
   ],
   "source": [
    "datetime.strftime(date.astimezone(eastern), \"%Z\")"
   ]
  },
  {
   "cell_type": "markdown",
   "id": "8a98dea2",
   "metadata": {},
   "source": [
    "### Date Palindromes\n",
    "You may have heard that February 2, 2020 was the first true date palindrome in 909 years. In other words, 02/02/2020 is the same backward and forward."
   ]
  },
  {
   "cell_type": "code",
   "execution_count": 190,
   "id": "a8b35740",
   "metadata": {},
   "outputs": [
    {
     "data": {
      "text/plain": [
       "'20200202'"
      ]
     },
     "execution_count": 190,
     "metadata": {},
     "output_type": "execute_result"
    }
   ],
   "source": [
    "datetime.strftime(datetime(2020, 2, 2, 2, 2, 2), \"%Y%m%d\")"
   ]
  },
  {
   "cell_type": "code",
   "execution_count": 192,
   "id": "91faffe5",
   "metadata": {},
   "outputs": [
    {
     "data": {
      "text/plain": [
       "'20200202'"
      ]
     },
     "execution_count": 192,
     "metadata": {},
     "output_type": "execute_result"
    }
   ],
   "source": [
    " datetime.strftime(datetime(2020, 2, 2, 2, 2, 2), \"%Y%m%d\")[::-1]"
   ]
  },
  {
   "cell_type": "markdown",
   "id": "1c8128c6",
   "metadata": {},
   "source": [
    "### Conversion datetime object\n",
    "\n",
    "If you don’t need to have millisecond information\n",
    "- drop using split() method. \n",
    "\n",
    "Object returned by datetime.datetime.now() is a datetime class\n",
    "- convert it to a string if you want to apply split()."
   ]
  },
  {
   "cell_type": "code",
   "execution_count": 39,
   "id": "d78f759f",
   "metadata": {},
   "outputs": [
    {
     "name": "stdout",
     "output_type": "stream",
     "text": [
      "2023-10-29 09:54:24\n"
     ]
    }
   ],
   "source": [
    "current_time_without_ms = str(datetime.now()).split('.')[0] # after applying, split(), the response will be a list of string objects. select the 1st element in list\n",
    "print(current_time_without_ms)"
   ]
  },
  {
   "cell_type": "markdown",
   "id": "9c04f931",
   "metadata": {},
   "source": [
    "# TL;DR: the cheatsheet"
   ]
  },
  {
   "cell_type": "markdown",
   "id": "9c66f555",
   "metadata": {},
   "source": [
    "###  Parse date strings"
   ]
  },
  {
   "cell_type": "code",
   "execution_count": 195,
   "id": "4796c339",
   "metadata": {},
   "outputs": [
    {
     "data": {
      "text/plain": [
       "datetime.datetime(2016, 9, 20, 16, 43, 45, tzinfo=datetime.timezone(datetime.timedelta(days=-1, seconds=61200)))"
      ]
     },
     "execution_count": 195,
     "metadata": {},
     "output_type": "execute_result"
    }
   ],
   "source": [
    "format = '%Y-%m-%dT%H:%M:%S%z'\n",
    "datestring = '2016-09-20T16:43:45-07:00'\n",
    "\n",
    "# python 2.7\n",
    "# d = dateutil.parser.parse(datestring) \n",
    "\n",
    "# python 3.2+\n",
    "d = datetime.strptime(datestring, format)\n",
    "d"
   ]
  },
  {
   "cell_type": "code",
   "execution_count": null,
   "id": "97e3cd37",
   "metadata": {},
   "outputs": [],
   "source": []
  },
  {
   "cell_type": "markdown",
   "id": "5ec92d8f",
   "metadata": {},
   "source": [
    "# Parsing and Formating"
   ]
  },
  {
   "cell_type": "markdown",
   "id": "25e05cf6",
   "metadata": {},
   "source": [
    "### How to handling date and time strings with datetime module\n",
    "\n",
    "To convert objects from strings to datetime objects and vice versa. \n",
    "\n",
    "Datetime includes two useful methods:\n",
    "- strptime()\n",
    "    - use strptime() to read strings containing date and time information and convert them to datetime objects.\n",
    "    - strptime() we have to take into consideration that it can’t turn any string into a date and time, and therefore we’ll have to indicate the time format ourselves.\n",
    "    -  strptime() takes two arguments:\n",
    "        - string — time in string format\n",
    "        - format — specific formatting of the time in the string\n",
    "    - formatting codes required to help strptime() interpret our string input:\n",
    "        - %a\tSun\tWeekday as locale’s abbreviated name.\n",
    "        - %A\tSunday\tWeekday as locale’s full name.\n",
    "        - %w\t0\tWeekday as a decimal number, where 0 is Sunday and 6 is Saturday.\n",
    "        - %d\t08\tDay of the month as a zero-padded decimal number.\n",
    "        - %-d\t8\tDay of the month as a decimal number. (Platform specific)\n",
    "        - %b\tSep\tMonth as locale’s abbreviated name.\n",
    "        - %B\tSeptember\tMonth as locale’s full name.\n",
    "        - %m\t09\tMonth as a zero-padded decimal number.\n",
    "        - %-m\t9\tMonth as a decimal number. (Platform specific)\n",
    "        - %y\t13\tYear without century as a zero-padded decimal number.\n",
    "        - %Y\t2013\tYear with century as a decimal number.\n",
    "        - %H\t07\tHour (24-hour clock) as a zero-padded decimal number.\n",
    "        - %-H\t7\tHour (24-hour clock) as a decimal number. (Platform specific)\n",
    "        - %I\t07\tHour (12-hour clock) as a zero-padded decimal number.\n",
    "        - %-I\t7\tHour (12-hour clock) as a decimal number. (Platform specific)\n",
    "        - %p\tAM\tLocale’s equivalent of either AM or PM.\n",
    "        - %M\t06\tMinute as a zero-padded decimal number.\n",
    "        - %-M\t6\tMinute as a decimal number. (Platform specific)\n",
    "        - %S\t05\tSecond as a zero-padded decimal number.\n",
    "        - %-S\t5\tSecond as a decimal number. (Platform specific)\n",
    "        - %f\t000000\tMicrosecond as a decimal number, zero-padded to 6 digits.\n",
    "        - %z\t+0000\tUTC offset in the form ±HHMM[SS[.ffffff]] (empty string if the object is naive).\n",
    "        - %Z\tUTC\tTime zone name (empty string if the object is naive).\n",
    "        - %j\t251\tDay of the year as a zero-padded decimal number.\n",
    "        - %-j\t251\tDay of the year as a decimal number. (Platform specific)\n",
    "        - %U\t36\tWeek number of the year (Sunday as the first day of the week) as a zero-padded decimal number. All days in a new year preceding the first Sunday are considered to be in week 0.\n",
    "        - %-U\t36\tWeek number of the year (Sunday as the first day of the week) as a decimal number. All days in a new year preceding the first Sunday are considered to be in week 0. (Platform specific)\n",
    "        - %W\t35\tWeek number of the year (Monday as the first day of the week) as a zero-padded decimal number. All days in a new year preceding the first Monday are considered to be in week 0.\n",
    "        - %-W\t35\tWeek number of the year (Monday as the first day of the week) as a decimal number. All days in a new year preceding the first Monday are considered to be in week 0. (Platform specific)\n",
    "        - %c\tSun Sep 8 07:06:05 2013\tLocale’s appropriate date and time representation.\n",
    "        - %x\t09/08/13\tLocale’s appropriate date representation.\n",
    "        - %X\t07:06:05\tLocale’s appropriate time representation.\n",
    "        - %%\t%\tA literal '%' character.\n",
    "- strftime().\n",
    "    - strftime() to convert datetime objects back into strings.   "
   ]
  },
  {
   "cell_type": "markdown",
   "id": "5c33c005",
   "metadata": {},
   "source": [
    "##### Use the above list to customize different date formats."
   ]
  },
  {
   "cell_type": "code",
   "execution_count": 135,
   "id": "8f57cc75",
   "metadata": {},
   "outputs": [
    {
     "data": {
      "text/plain": [
       "datetime.datetime(2023, 11, 5, 2, 20, 42, 782905)"
      ]
     },
     "execution_count": 135,
     "metadata": {},
     "output_type": "execute_result"
    }
   ],
   "source": [
    "d = datetime.now() #today's datetime\n",
    "d"
   ]
  },
  {
   "cell_type": "code",
   "execution_count": 136,
   "id": "26986365",
   "metadata": {},
   "outputs": [
    {
     "name": "stdout",
     "output_type": "stream",
     "text": [
      "Sunday 05/11/2023\n"
     ]
    }
   ],
   "source": [
    "print(d.strftime(\"%A %d/%m/%Y\")) # date to string"
   ]
  },
  {
   "cell_type": "markdown",
   "id": "d0ef2078",
   "metadata": {},
   "source": [
    "#####  Two popular strings being converted to date format"
   ]
  },
  {
   "cell_type": "markdown",
   "id": "f921619c",
   "metadata": {},
   "source": [
    "### Parsing"
   ]
  },
  {
   "cell_type": "markdown",
   "id": "f675889b",
   "metadata": {},
   "source": [
    "Use when there’s a date as a string and want to parse it to a datetime object. \n",
    "\n",
    "##### Use Python built-in method to parse dates, strptime."
   ]
  },
  {
   "cell_type": "code",
   "execution_count": 23,
   "id": "a06ac277",
   "metadata": {},
   "outputs": [
    {
     "data": {
      "text/plain": [
       "datetime.datetime(2020, 11, 27, 0, 0)"
      ]
     },
     "execution_count": 23,
     "metadata": {},
     "output_type": "execute_result"
    }
   ],
   "source": [
    "date_string = '2020-11-27'\n",
    "\n",
    "# Create date object with time format yyyy-mm-dd\n",
    "date = datetime.strptime(date_string, \"%Y-%m-%d\")\n",
    "date"
   ]
  },
  {
   "cell_type": "code",
   "execution_count": 167,
   "id": "47c3fc2a",
   "metadata": {},
   "outputs": [
    {
     "data": {
      "text/plain": [
       "datetime.datetime(2020, 1, 1, 14, 0)"
      ]
     },
     "execution_count": 167,
     "metadata": {},
     "output_type": "execute_result"
    }
   ],
   "source": [
    " datetime.strptime(\"2020-01-01 14:00\", \"%Y-%m-%d %H:%M\")"
   ]
  },
  {
   "cell_type": "code",
   "execution_count": 52,
   "id": "f0a308d8",
   "metadata": {},
   "outputs": [
    {
     "name": "stdout",
     "output_type": "stream",
     "text": [
      "2021-08-06 16:00:00\n",
      "2021-08-06 16:00:00\n",
      "2021-08-06 16:00:00\n",
      "2021-08-06 16:00:00\n",
      "2021-08-06 16:00:00\n"
     ]
    }
   ],
   "source": [
    "date_example_1 = \"2021-08-06 16:00:00\"\n",
    "date_example_2 = \"2021/08/06 16/00/00\"\n",
    "date_example_3 = \"06 August 21 - 16:00:00\"\n",
    "date_example_4 = \"06 August 21 - 4 PM\"\n",
    "date_example_5 = \"Aug 2021, 06 / 4 PM\"\n",
    "date_time_obj_example_1 = datetime.strptime(date_example_1, '%Y-%m-%d %H:%M:%S')\n",
    "date_time_obj_example_2 = datetime.strptime(date_example_2, '%Y/%m/%d %H/%M/%S')\n",
    "date_time_obj_example_3 = datetime.strptime(date_example_3, '%d %B %y - %H:%M:%S')\n",
    "date_time_obj_example_4 = datetime.strptime(date_example_4, '%d %B %y - %I %p')\n",
    "date_time_obj_example_5 = datetime.strptime(date_example_5, '%b %Y, %d / %I %p')\n",
    "print(date_time_obj_example_1)\n",
    "print(date_time_obj_example_2)\n",
    "print(date_time_obj_example_3)\n",
    "print(date_time_obj_example_4)\n",
    "print(date_time_obj_example_5)"
   ]
  },
  {
   "cell_type": "markdown",
   "id": "b22d7c75",
   "metadata": {},
   "source": [
    "This takes the string “2020–01–01 14:00” and parses it to a datetime object."
   ]
  },
  {
   "cell_type": "code",
   "execution_count": 137,
   "id": "d31ecc01",
   "metadata": {},
   "outputs": [
    {
     "name": "stdout",
     "output_type": "stream",
     "text": [
      "2016-02-01 12:00:00\n"
     ]
    }
   ],
   "source": [
    "date_string = '2016-02-01 12:00PM'\n",
    "print(datetime.strptime(date_string, '%Y-%m-%d %I:%M%p'))"
   ]
  },
  {
   "cell_type": "code",
   "execution_count": 138,
   "id": "a44f7f05",
   "metadata": {},
   "outputs": [
    {
     "name": "stdout",
     "output_type": "stream",
     "text": [
      "2016-02-01 00:00:00\n"
     ]
    }
   ],
   "source": [
    "date_string = '02/01/2016'\n",
    "d2 = datetime.strptime(date_string, '%m/%d/%Y')\n",
    "print(d2)"
   ]
  },
  {
   "cell_type": "markdown",
   "id": "57c6dc24",
   "metadata": {},
   "source": [
    "### dateutil module to Parse datetime object"
   ]
  },
  {
   "cell_type": "markdown",
   "id": "aae5285d",
   "metadata": {},
   "source": [
    "##### dateutil is a great library that extends Python’s datetime functionality."
   ]
  },
  {
   "cell_type": "code",
   "execution_count": 168,
   "id": "2b79b558",
   "metadata": {},
   "outputs": [
    {
     "name": "stdout",
     "output_type": "stream",
     "text": [
      "Requirement already satisfied: python-dateutil in c:\\users\\siphamandla mandindi\\anaconda3\\lib\\site-packages (2.8.1)\n",
      "Requirement already satisfied: six>=1.5 in c:\\users\\siphamandla mandindi\\anaconda3\\lib\\site-packages (from python-dateutil) (1.15.0)\n"
     ]
    }
   ],
   "source": [
    "!pip install python-dateutil"
   ]
  },
  {
   "cell_type": "code",
   "execution_count": 169,
   "id": "4fbcb00e",
   "metadata": {},
   "outputs": [],
   "source": [
    " import dateutil.parser as parser"
   ]
  },
  {
   "cell_type": "code",
   "execution_count": 170,
   "id": "445bc27e",
   "metadata": {},
   "outputs": [
    {
     "data": {
      "text/plain": [
       "datetime.datetime(2020, 1, 1, 14, 0)"
      ]
     },
     "execution_count": 170,
     "metadata": {},
     "output_type": "execute_result"
    }
   ],
   "source": [
    "parser.parse(\"2020-01-01 14:00\")"
   ]
  },
  {
   "cell_type": "code",
   "execution_count": 171,
   "id": "4080ff69",
   "metadata": {},
   "outputs": [
    {
     "data": {
      "text/plain": [
       "datetime.datetime(2020, 1, 1, 14, 0)"
      ]
     },
     "execution_count": 171,
     "metadata": {},
     "output_type": "execute_result"
    }
   ],
   "source": [
    "parser.parse(\"01-01-2020 2:00pm\")"
   ]
  },
  {
   "cell_type": "code",
   "execution_count": 172,
   "id": "f283cb9a",
   "metadata": {},
   "outputs": [
    {
     "data": {
      "text/plain": [
       "datetime.datetime(2020, 1, 1, 14, 0)"
      ]
     },
     "execution_count": 172,
     "metadata": {},
     "output_type": "execute_result"
    }
   ],
   "source": [
    "parser.parse(\"2020-01-01T14:00\")"
   ]
  },
  {
   "cell_type": "markdown",
   "id": "e52d0211",
   "metadata": {},
   "source": [
    "dateutil isn’t always perfect when parsing dates. \n",
    "- For example, 2/1/2020 could be either \n",
    "    - Feb. 1 or \n",
    "    - Jan. 2.\n",
    "    \n",
    "\n",
    "##### When to use dateutil and strptime\n",
    "- The dateutil module works best when parsing unstructured text with a variety of date formats. \n",
    "- If the date format is known, it’s best to use strptime."
   ]
  },
  {
   "cell_type": "markdown",
   "id": "4861313a",
   "metadata": {},
   "source": [
    "### Formatting"
   ]
  },
  {
   "cell_type": "markdown",
   "id": "fad89c43",
   "metadata": {},
   "source": [
    "Starting with a datetime object and want to build a formatted string. \n",
    "\n",
    "##### Python provides the strftime method for this."
   ]
  },
  {
   "cell_type": "code",
   "execution_count": 53,
   "id": "cc3f440f",
   "metadata": {},
   "outputs": [
    {
     "name": "stdout",
     "output_type": "stream",
     "text": [
      "2021-08-06 16:00:00\n",
      "2021/08/06 16/00/00\n",
      "06 August 21 - 16:00:00\n",
      "06 August 21 - 04 PM\n",
      "Aug 2021, 06 / 04 PM\n"
     ]
    }
   ],
   "source": [
    "example_time = \"2021-08-06 16:00:00\"\n",
    "datetime_object = datetime.strptime(example_time, '%Y-%m-%d %H:%M:%S')\n",
    "date_example_1 = datetime_object.strftime('%Y-%m-%d %H:%M:%S')\n",
    "date_example_2 = datetime_object.strftime('%Y/%m/%d %H/%M/%S')\n",
    "date_example_3 = datetime_object.strftime('%d %B %y - %H:%M:%S')\n",
    "date_example_4 = datetime_object.strftime('%d %B %y - %I %p')\n",
    "date_example_5 = datetime_object.strftime('%b %Y, %d / %I %p')\n",
    "print(date_example_1)\n",
    "print(date_example_2)\n",
    "print(date_example_3)\n",
    "print(date_example_4)\n",
    "print(date_example_5)"
   ]
  },
  {
   "cell_type": "code",
   "execution_count": 174,
   "id": "3673ce31",
   "metadata": {},
   "outputs": [
    {
     "data": {
      "text/plain": [
       "'Wed January 01, 2020 02:00 PM'"
      ]
     },
     "execution_count": 174,
     "metadata": {},
     "output_type": "execute_result"
    }
   ],
   "source": [
    "date = datetime.strptime(\"2020-01-01 14:00\", \"%Y-%m-%d %H:%M\")\n",
    "datetime.strftime(date, \"%a %B %d, %Y %I:%M %p\")"
   ]
  },
  {
   "cell_type": "markdown",
   "id": "e64faf81",
   "metadata": {},
   "source": [
    "### Accessing Individual Components with datetime module\n",
    "\n",
    "- Access individual components of adatetime object using the datetime’s attributes\n",
    "    - year, \n",
    "    - day, and \n",
    "    - hour attributes"
   ]
  },
  {
   "cell_type": "code",
   "execution_count": 60,
   "id": "074ef0f2",
   "metadata": {},
   "outputs": [
    {
     "name": "stdout",
     "output_type": "stream",
     "text": [
      "2022-01-14 15:30:24\n",
      "Year:  2022\n",
      "Month:  1\n",
      "Day:  14\n",
      "Hour:  15\n",
      "Minutes:  30\n",
      "Seconds:  24\n"
     ]
    }
   ],
   "source": [
    "from datetime import datetime\n",
    "\n",
    "date_time = datetime(year=2022, month=1, day=14, \n",
    "                     hour=15, minute=30, second=24)\n",
    "print(date_time)\n",
    "\n",
    "print(\"Year: \", date_time.year)\n",
    "print(\"Month: \", date_time.month)\n",
    "print(\"Day: \", date_time.day)\n",
    "print(\"Hour: \", date_time.hour)\n",
    "print(\"Minutes: \", date_time.minute)\n",
    "print(\"Seconds: \", date_time.second)"
   ]
  },
  {
   "cell_type": "code",
   "execution_count": 61,
   "id": "f945137d",
   "metadata": {},
   "outputs": [
    {
     "data": {
      "text/plain": [
       "2023"
      ]
     },
     "execution_count": 61,
     "metadata": {},
     "output_type": "execute_result"
    }
   ],
   "source": [
    "# extract year data\n",
    "year = datetime_object2.year\n",
    "year"
   ]
  },
  {
   "cell_type": "code",
   "execution_count": 62,
   "id": "b0a314cc",
   "metadata": {},
   "outputs": [
    {
     "data": {
      "text/plain": [
       "10"
      ]
     },
     "execution_count": 62,
     "metadata": {},
     "output_type": "execute_result"
    }
   ],
   "source": [
    "# extract month data\n",
    "month = datetime_object2.month\n",
    "month"
   ]
  },
  {
   "cell_type": "code",
   "execution_count": 63,
   "id": "9205d408",
   "metadata": {},
   "outputs": [
    {
     "data": {
      "text/plain": [
       "29"
      ]
     },
     "execution_count": 63,
     "metadata": {},
     "output_type": "execute_result"
    }
   ],
   "source": [
    "# extract day data\n",
    "day = datetime_object2.day \n",
    "day"
   ]
  },
  {
   "cell_type": "code",
   "execution_count": 64,
   "id": "4b48eaac",
   "metadata": {},
   "outputs": [
    {
     "data": {
      "text/plain": [
       "6"
      ]
     },
     "execution_count": 64,
     "metadata": {},
     "output_type": "execute_result"
    }
   ],
   "source": [
    "# extract hourly data\n",
    "hour = datetime_object2.hour\n",
    "hour"
   ]
  },
  {
   "cell_type": "markdown",
   "id": "99f3366f",
   "metadata": {},
   "source": [
    "- Find the day of the week using the .weekday() function.\n",
    "    -  Python counts weekdays from 0, starting on Monday.\n",
    "        - 0 = Monday\n",
    "        - 1 = Tuesday\n",
    "        - 2 = Wednesday\n",
    "        - 3 = Thursday\n",
    "        - 4 = Friday\n",
    "        - 5 = Saturday\n",
    "        - 6 = Sunday"
   ]
  },
  {
   "cell_type": "code",
   "execution_count": 16,
   "id": "27ce966a",
   "metadata": {},
   "outputs": [
    {
     "data": {
      "text/plain": [
       "6"
      ]
     },
     "execution_count": 16,
     "metadata": {},
     "output_type": "execute_result"
    }
   ],
   "source": [
    "# extract weekday data\n",
    "datetime_object2.weekday()"
   ]
  },
  {
   "cell_type": "code",
   "execution_count": 44,
   "id": "d433a389",
   "metadata": {},
   "outputs": [
    {
     "name": "stdout",
     "output_type": "stream",
     "text": [
      "2023-10-29 06\n"
     ]
    }
   ],
   "source": [
    "print(f\"{year}-{month:02d}-{day:02d} {hour:02d}\")"
   ]
  },
  {
   "cell_type": "markdown",
   "id": "faa699e3",
   "metadata": {},
   "source": [
    "### Working with timestamp\n",
    "\n",
    "Looking into Unix timestamp AKA Posix timestamp.\n",
    "\n",
    "Devices send timestamp information to servers instead of pure date and time as it takes less space.\n",
    "\n",
    "Unix timestamp is simply the number of seconds passed since 00:00:00 UTC, January 1st, 1970."
   ]
  },
  {
   "cell_type": "code",
   "execution_count": 46,
   "id": "4f257de2",
   "metadata": {},
   "outputs": [
    {
     "name": "stdout",
     "output_type": "stream",
     "text": [
      "1631292863.0\n"
     ]
    }
   ],
   "source": [
    "# to convert 2021–09–10 16:54:23 UTC time to a timestamp\n",
    "\n",
    "example_time = \"2021-09-10 16:54:23\"\n",
    "datetime_object = datetime.strptime(example_time, '%Y-%m-%d %H:%M:%S')\n",
    "utc_time = datetime_object.replace(tzinfo=timezone.utc)\n",
    "current_timestamp = datetime.timestamp(utc_time)\n",
    "print(current_timestamp)"
   ]
  },
  {
   "cell_type": "code",
   "execution_count": 47,
   "id": "47988657",
   "metadata": {},
   "outputs": [
    {
     "name": "stdout",
     "output_type": "stream",
     "text": [
      "2021-09-10 16:54:23+00:00\n"
     ]
    }
   ],
   "source": [
    "# do the conversion to time and date, you can do that by using fromtimestamp() method\n",
    "\n",
    "timestamp = 1631292863\n",
    "time_and_date_utc = datetime.fromtimestamp(timestamp, tz=timezone.utc)\n",
    "print(time_and_date_utc)"
   ]
  },
  {
   "cell_type": "markdown",
   "id": "1e2c592d",
   "metadata": {},
   "source": [
    "# Timedeltas, DateOffsets and Periods in Datetime\n",
    "\n",
    "- More special time objects designed to make Timestamp arithmetic easy and suit special needs for marking time in your data.\n",
    "- different time objects in Python and Pandas\n",
    "\n",
    "### Timedeltas \n",
    "- Are objects representing the difference between two points in time, between two timestamps.\n",
    "    - Use several different units of measure.\n",
    "    - Can be either positive or negative.\n",
    "\n",
    "### How to measure time span"
   ]
  },
  {
   "cell_type": "markdown",
   "id": "9e5a1104",
   "metadata": {},
   "source": [
    "##### Do arithmetic on different datetime objects."
   ]
  },
  {
   "cell_type": "code",
   "execution_count": 10,
   "id": "2997252f",
   "metadata": {},
   "outputs": [
    {
     "data": {
      "text/plain": [
       "datetime.timedelta(days=879, seconds=56002, microseconds=189756)"
      ]
     },
     "execution_count": 10,
     "metadata": {},
     "output_type": "execute_result"
    }
   ],
   "source": [
    "# find out the number of seconds elapsed between the previous two datetimes.\n",
    "\n",
    "duration = datetime_object2 - datetime_object1\n",
    "duration"
   ]
  },
  {
   "cell_type": "code",
   "execution_count": 9,
   "id": "6ec74279",
   "metadata": {},
   "outputs": [
    {
     "data": {
      "text/plain": [
       "76001602.189756"
      ]
     },
     "execution_count": 9,
     "metadata": {},
     "output_type": "execute_result"
    }
   ],
   "source": [
    "duration.total_seconds()"
   ]
  },
  {
   "cell_type": "markdown",
   "id": "733ebbb6",
   "metadata": {},
   "source": [
    "##### Difference in datetime calculation"
   ]
  },
  {
   "cell_type": "code",
   "execution_count": 139,
   "id": "e0678b61",
   "metadata": {},
   "outputs": [
    {
     "name": "stdout",
     "output_type": "stream",
     "text": [
      "2834 days, 2:29:48.271419\n"
     ]
    }
   ],
   "source": [
    "from datetime import timedelta\n",
    "d = datetime.now()\n",
    "date_string = '2/01/2016'\n",
    "d2 = datetime.strptime(date_string, '%m/%d/%Y')\n",
    "print(d - d2)"
   ]
  },
  {
   "cell_type": "markdown",
   "id": "e583a422",
   "metadata": {},
   "source": [
    "##### Print the difference of two datetimes in days, weeks or years"
   ]
  },
  {
   "cell_type": "code",
   "execution_count": 140,
   "id": "0f50b02e",
   "metadata": {},
   "outputs": [
    {
     "name": "stdout",
     "output_type": "stream",
     "text": [
      "date_diff = 2834.1040309192013 days\n"
     ]
    }
   ],
   "source": [
    "date_diff = (d - d2)/timedelta(days=1)\n",
    "print('date_diff = {} days'.format(date_diff))"
   ]
  },
  {
   "cell_type": "code",
   "execution_count": 141,
   "id": "c21f7f6e",
   "metadata": {},
   "outputs": [
    {
     "name": "stdout",
     "output_type": "stream",
     "text": [
      "date_diff = 404.8720044170288 weeks\n"
     ]
    }
   ],
   "source": [
    "date_diff = (d - d2)/timedelta(weeks=1)\n",
    "print('date_diff = {} weeks'.format(date_diff))"
   ]
  },
  {
   "cell_type": "code",
   "execution_count": 142,
   "id": "f14012e0",
   "metadata": {},
   "outputs": [
    {
     "name": "stdout",
     "output_type": "stream",
     "text": [
      "date_diff = 7.764668577860825 years\n"
     ]
    }
   ],
   "source": [
    "date_diff = (d - d2)/timedelta(days=365)\n",
    "print('date_diff = {} years'.format(date_diff))"
   ]
  },
  {
   "cell_type": "markdown",
   "id": "2f0926c7",
   "metadata": {},
   "source": [
    "##### Working With Timedelta\n",
    "\n",
    "\n",
    "Timedelta class comes in handy in situations where we want to measure duration as it represents the amount of time between two dates or times.\n",
    "\n",
    "Useful when we want to add or subtract from dates or times.\n",
    "- find out what was the date and time in the past (or what will be in the future)\n",
    "    - substract or add some sort of value to our time object.\n",
    "\n",
    "timedelta can be used with any number of weeks, days, hours, minutes.\n",
    "\n",
    "It can be used with time units as small as a microsecond or as large as 2.7 million years!\n",
    "\n",
    "##### How timedelta objects and datetime objects can be used together to do mathematical operations."
   ]
  },
  {
   "cell_type": "code",
   "execution_count": 19,
   "id": "0c583671",
   "metadata": {},
   "outputs": [],
   "source": [
    "# import timedelta\n",
    "from datetime import timedelta"
   ]
  },
  {
   "cell_type": "code",
   "execution_count": 21,
   "id": "bf306f24",
   "metadata": {},
   "outputs": [
    {
     "data": {
      "text/plain": [
       "datetime.datetime(2023, 11, 25, 6, 56, 47, 189756)"
      ]
     },
     "execution_count": 21,
     "metadata": {},
     "output_type": "execute_result"
    }
   ],
   "source": [
    "# create a 27 day timedelta\n",
    "td = timedelta(days=27)\n",
    "\n",
    "#add 27 days to current date\n",
    "days_later_27 = datetime_object2 + td\n",
    "days_later_27"
   ]
  },
  {
   "cell_type": "markdown",
   "id": "33135f6e",
   "metadata": {},
   "source": [
    "##### Want to know, what date and time would be in the future or was in the past if you add or substract certain amount of days, hours."
   ]
  },
  {
   "cell_type": "code",
   "execution_count": 48,
   "id": "e8536be3",
   "metadata": {},
   "outputs": [
    {
     "name": "stdout",
     "output_type": "stream",
     "text": [
      "2021-08-06 15:32:00\n",
      "2021-08-12 21:07:00\n"
     ]
    }
   ],
   "source": [
    "# Timedelta option using\n",
    "start_time_and_date = \"2021-08-10 17:45:00\"\n",
    "date_time_obj = datetime.strptime(start_time_and_date, '%Y-%m-%d %H:%M:%S')\n",
    "\n",
    "# Calculating future date\n",
    "future_time_and_date = date_time_obj + timedelta(days=2, hours=3, minutes=22)\n",
    "# Calculating past date\n",
    "past_time_and_date = date_time_obj + timedelta(days=-4, hours=-2, minutes=-13)\n",
    "\n",
    "print(past_time_and_date)\n",
    "print(future_time_and_date)"
   ]
  },
  {
   "cell_type": "markdown",
   "id": "f743a8ab",
   "metadata": {},
   "source": [
    "##### Adding a Certain Number of Days"
   ]
  },
  {
   "cell_type": "code",
   "execution_count": 65,
   "id": "e9d79430",
   "metadata": {},
   "outputs": [
    {
     "name": "stdout",
     "output_type": "stream",
     "text": [
      "2022-01-14 15:30:24\n",
      "Date after adding 2 days:  2022-01-16 15:30:24\n"
     ]
    }
   ],
   "source": [
    "# Create a date/time object\n",
    "date_time = datetime(year=2022, month=1, day=14, hour=15, minute=30, second=24)\n",
    "print(date_time)\n",
    "\n",
    "# Add 2 days\n",
    "date_time = date_time + timedelta(days=2)\n",
    "print(\"Date after adding 2 days: \", date_time)"
   ]
  },
  {
   "cell_type": "markdown",
   "id": "99709e95",
   "metadata": {},
   "source": [
    "##### Adding Other Date/Time Parameters like hours , years"
   ]
  },
  {
   "cell_type": "code",
   "execution_count": 66,
   "id": "86f8e3e9",
   "metadata": {},
   "outputs": [
    {
     "name": "stdout",
     "output_type": "stream",
     "text": [
      "Date after adding 2 days, 3 hours and 20 seconds:  2022-01-18 18:30:44\n"
     ]
    }
   ],
   "source": [
    "# Add 2 days, 3 hours and 20 seconds\n",
    "date_time = date_time + timedelta(days=2, hours=3, seconds=20)\n",
    "print(\"Date after adding 2 days, 3 hours and 20 seconds: \", date_time)"
   ]
  },
  {
   "cell_type": "markdown",
   "id": "ea1cf6b0",
   "metadata": {},
   "source": [
    "##### Subtracting a Certain Number of Days"
   ]
  },
  {
   "cell_type": "code",
   "execution_count": 67,
   "id": "88034a8e",
   "metadata": {},
   "outputs": [
    {
     "name": "stdout",
     "output_type": "stream",
     "text": [
      "2022-02-01 15:30:24\n",
      "Date after subtracting 3 days:  2022-01-30 15:30:24\n"
     ]
    }
   ],
   "source": [
    "# Create a date/time object\n",
    "date_time = datetime(year=2022, month=2, day=1, hour=15, minute=30, second=24)\n",
    "print(date_time)\n",
    "\n",
    "# Subtracting two days\n",
    "date_time = date_time + timedelta(days=-2)\n",
    "print(\"Date after subtracting 3 days: \", date_time)"
   ]
  },
  {
   "cell_type": "markdown",
   "id": "0d0b5f03",
   "metadata": {},
   "source": [
    "##### Mixed Calculations: adds days, and hours but subtracts minutes"
   ]
  },
  {
   "cell_type": "code",
   "execution_count": 68,
   "id": "4b3c5763",
   "metadata": {},
   "outputs": [
    {
     "name": "stdout",
     "output_type": "stream",
     "text": [
      "2022-02-01 15:30:24\n",
      "Date after adding 3 days, subtracting 4 minutes, and adding 2 hours:  2022-02-04 17:26:24\n"
     ]
    }
   ],
   "source": [
    "# Create a date/time object\n",
    "date_time_mixed = datetime(year=2022, month=2, day=1, hour=15, minute=30, second=24)\n",
    "print(date_time_mixed)\n",
    "\n",
    "# Adding 3 days, subtracting 4 minutes, and adding 2 hours\n",
    "date_time_mixed = date_time_mixed + timedelta(days=3, minutes=-4, hours=2)\n",
    "print(\"Date after adding 3 days, subtracting 4 minutes, and adding 2 hours: \", date_time_mixed)"
   ]
  },
  {
   "cell_type": "markdown",
   "id": "b93f94a7",
   "metadata": {},
   "source": [
    "##### Want to know the difference, lets say in days/hours/minutes seconds between two dates, or timestamps."
   ]
  },
  {
   "cell_type": "code",
   "execution_count": 50,
   "id": "896540bf",
   "metadata": {},
   "outputs": [
    {
     "name": "stdout",
     "output_type": "stream",
     "text": [
      "6 days, 5:35:00\n"
     ]
    }
   ],
   "source": [
    "date1 = \"2021-08-06 15:32:00\"\n",
    "date2 = \"2021-08-12 21:07:00\"\n",
    "\n",
    "date_time_obj_1 = datetime.strptime(date1, '%Y-%m-%d %H:%M:%S')\n",
    "date_time_obj_2 = datetime.strptime(date2, '%Y-%m-%d %H:%M:%S')\n",
    "\n",
    "diff = date_time_obj_2 - date_time_obj_1\n",
    "print(diff)"
   ]
  },
  {
   "cell_type": "markdown",
   "id": "2d7c6d5f",
   "metadata": {},
   "source": [
    "# Timedeltas, DateOffsets and Periods in Pandas"
   ]
  },
  {
   "cell_type": "markdown",
   "id": "23c3d1ce",
   "metadata": {},
   "source": [
    "###### Creating a Timedelta is subtracting a timestamp from another"
   ]
  },
  {
   "cell_type": "code",
   "execution_count": 83,
   "id": "9cbf8438",
   "metadata": {},
   "outputs": [],
   "source": [
    "date_1 = pd.to_datetime('2023-11-01 02:32:45')\n",
    "date_2 = pd.to_datetime('2023-10-15 14:02:34')"
   ]
  },
  {
   "cell_type": "code",
   "execution_count": 84,
   "id": "92747808",
   "metadata": {},
   "outputs": [
    {
     "data": {
      "text/plain": [
       "Timedelta('16 days 12:30:11')"
      ]
     },
     "execution_count": 84,
     "metadata": {},
     "output_type": "execute_result"
    }
   ],
   "source": [
    "date_1 - date_2"
   ]
  },
  {
   "cell_type": "markdown",
   "id": "58ea2ced",
   "metadata": {},
   "source": [
    "##### Datetime plus/minus a certain period of time"
   ]
  },
  {
   "cell_type": "code",
   "execution_count": 143,
   "id": "d84ba07f",
   "metadata": {},
   "outputs": [
    {
     "name": "stdout",
     "output_type": "stream",
     "text": [
      "2023-11-05 02:29:49.271419\n",
      "2023-11-05 02:30:48.271419\n",
      "2023-11-05 03:29:48.271419\n",
      "2023-11-06 02:29:48.271419\n",
      "2023-11-12 02:29:48.271419\n",
      "2024-11-04 02:29:48.271419\n"
     ]
    }
   ],
   "source": [
    "print(d + timedelta(seconds=1)) # today + one second\n",
    "print(d + timedelta(minutes=1)) # today + one minute\n",
    "print(d + timedelta(hours=1)) # today + one hour\n",
    "print(d + timedelta(days=1)) # today + one day\n",
    "print(d + timedelta(weeks=1)) # today + one week\n",
    "print(d + timedelta(days=1)*365) # today + one year"
   ]
  },
  {
   "cell_type": "markdown",
   "id": "28d5d19c",
   "metadata": {},
   "source": [
    "##### Datetime comparisons"
   ]
  },
  {
   "cell_type": "code",
   "execution_count": 144,
   "id": "9de746cd",
   "metadata": {},
   "outputs": [
    {
     "name": "stdout",
     "output_type": "stream",
     "text": [
      "False\n",
      "True\n",
      "True\n",
      "False\n"
     ]
    }
   ],
   "source": [
    "# d is no more than 6 years (assume each year has 365 days) after d2?\n",
    "print(d < (d2 +(timedelta(days=365*6))))\n",
    "# d is more than 6 years (assume each year has 52 weeks) after d2?\n",
    "print(d > (d2 +(timedelta(weeks=52*6))))\n",
    "# d2 is not the same date as d?\n",
    "print(d != d2)\n",
    "# d2 is the same date as d?\n",
    "print(d == d2) "
   ]
  },
  {
   "cell_type": "markdown",
   "id": "b6fd254e",
   "metadata": {},
   "source": [
    "##### Constructing a Timedelta object using Pandas.Timedelta. \n",
    "- need to specify as argument(s) what is the timedelta duration you would like to have.\n",
    "    - use strings as arguments or \n",
    "    - provide integers as keyword arguments\n",
    "    - other methods you can find in the Parsing timedeltas\n",
    "\n",
    "Possible values:\n",
    "* 'W', 'D', 'T', 'S', 'L', 'U', or 'N'\n",
    "* 'days' or 'day'\n",
    "* 'hours', 'hour', 'hr', or 'h'\n",
    "* 'minutes', 'minute', 'min', or 'm'\n",
    "* 'seconds', 'second', or 'sec'\n",
    "* 'milliseconds', 'millisecond', 'millis', or 'milli'\n",
    "* 'microseconds', 'microsecond', 'micros', or 'micro'\n",
    "* 'nanoseconds', 'nanosecond', 'nanos', 'nano', or 'ns'.\n",
    "\n",
    "kwargs\n",
    "- Available kwargs: \n",
    "    - days, \n",
    "    - seconds, \n",
    "    - microseconds, \n",
    "    - milliseconds, \n",
    "    - minutes, \n",
    "    - hours, \n",
    "    - weeks"
   ]
  },
  {
   "cell_type": "code",
   "execution_count": 85,
   "id": "c397c082",
   "metadata": {},
   "outputs": [
    {
     "data": {
      "text/plain": [
       "Timedelta('3 days 00:00:00')"
      ]
     },
     "execution_count": 85,
     "metadata": {},
     "output_type": "execute_result"
    }
   ],
   "source": [
    "pd.Timedelta('3 days')"
   ]
  },
  {
   "cell_type": "code",
   "execution_count": 86,
   "id": "c4246b10",
   "metadata": {},
   "outputs": [
    {
     "data": {
      "text/plain": [
       "Timedelta('3 days 00:00:00')"
      ]
     },
     "execution_count": 86,
     "metadata": {},
     "output_type": "execute_result"
    }
   ],
   "source": [
    "pd.Timedelta('3 day')"
   ]
  },
  {
   "cell_type": "code",
   "execution_count": 87,
   "id": "86ed0a67",
   "metadata": {},
   "outputs": [
    {
     "data": {
      "text/plain": [
       "Timedelta('3 days 00:00:00')"
      ]
     },
     "execution_count": 87,
     "metadata": {},
     "output_type": "execute_result"
    }
   ],
   "source": [
    "pd.Timedelta('3 d')"
   ]
  },
  {
   "cell_type": "code",
   "execution_count": 89,
   "id": "e1ae7d59",
   "metadata": {},
   "outputs": [
    {
     "data": {
      "text/plain": [
       "Timedelta('3 days 00:00:00')"
      ]
     },
     "execution_count": 89,
     "metadata": {},
     "output_type": "execute_result"
    }
   ],
   "source": [
    "pd.Timedelta(days=3)"
   ]
  },
  {
   "cell_type": "markdown",
   "id": "d1656f42",
   "metadata": {},
   "source": [
    "##### To increase a Timestamp’s value with a specific amount of time, we can use timedeltas to make this operation."
   ]
  },
  {
   "cell_type": "code",
   "execution_count": 90,
   "id": "1f4c3b37",
   "metadata": {},
   "outputs": [],
   "source": [
    "date = pd.to_datetime('2023-12-21')"
   ]
  },
  {
   "cell_type": "code",
   "execution_count": 91,
   "id": "e151eedb",
   "metadata": {},
   "outputs": [],
   "source": [
    "timedelt = pd.Timedelta(days=4)"
   ]
  },
  {
   "cell_type": "code",
   "execution_count": 92,
   "id": "605f4663",
   "metadata": {},
   "outputs": [
    {
     "data": {
      "text/plain": [
       "Timestamp('2023-12-25 00:00:00')"
      ]
     },
     "execution_count": 92,
     "metadata": {},
     "output_type": "execute_result"
    }
   ],
   "source": [
    "date + timedelt"
   ]
  },
  {
   "cell_type": "markdown",
   "id": "c9376697",
   "metadata": {},
   "source": [
    "##### Extract Timedeltas from Timestamps and do operations with entire date ranges without looping"
   ]
  },
  {
   "cell_type": "code",
   "execution_count": 93,
   "id": "db8e9e7e",
   "metadata": {},
   "outputs": [
    {
     "data": {
      "text/plain": [
       "DatetimeIndex(['2022-10-31', '2022-11-30', '2022-12-31', '2023-01-31'], dtype='datetime64[ns]', freq='M')"
      ]
     },
     "execution_count": 93,
     "metadata": {},
     "output_type": "execute_result"
    }
   ],
   "source": [
    "drange  = pd.date_range(end='2023-02', periods=4, freq=\"M\")\n",
    "drange"
   ]
  },
  {
   "cell_type": "code",
   "execution_count": 94,
   "id": "c037873d",
   "metadata": {},
   "outputs": [],
   "source": [
    "tdelt = pd.Timedelta(hours= 9)"
   ]
  },
  {
   "cell_type": "code",
   "execution_count": 95,
   "id": "f5ae2576",
   "metadata": {},
   "outputs": [
    {
     "data": {
      "text/plain": [
       "DatetimeIndex(['2022-10-30 15:00:00', '2022-11-29 15:00:00',\n",
       "               '2022-12-30 15:00:00', '2023-01-30 15:00:00'],\n",
       "              dtype='datetime64[ns]', freq=None)"
      ]
     },
     "execution_count": 95,
     "metadata": {},
     "output_type": "execute_result"
    }
   ],
   "source": [
    "drange - tdelt"
   ]
  },
  {
   "cell_type": "markdown",
   "id": "807f6b80",
   "metadata": {},
   "source": [
    "##### Create a new Series based on the original user creation date"
   ]
  },
  {
   "cell_type": "code",
   "execution_count": 98,
   "id": "b381436b",
   "metadata": {},
   "outputs": [],
   "source": [
    "sa_temperatures['date_plus_30_years'] = sa_temperatures['date'] + pd.Timedelta(weeks=51)"
   ]
  },
  {
   "cell_type": "code",
   "execution_count": 99,
   "id": "5c9d7bc7",
   "metadata": {},
   "outputs": [
    {
     "data": {
      "text/html": [
       "<div>\n",
       "<style scoped>\n",
       "    .dataframe tbody tr th:only-of-type {\n",
       "        vertical-align: middle;\n",
       "    }\n",
       "\n",
       "    .dataframe tbody tr th {\n",
       "        vertical-align: top;\n",
       "    }\n",
       "\n",
       "    .dataframe thead th {\n",
       "        text-align: right;\n",
       "    }\n",
       "</style>\n",
       "<table border=\"1\" class=\"dataframe\">\n",
       "  <thead>\n",
       "    <tr style=\"text-align: right;\">\n",
       "      <th></th>\n",
       "      <th>Region</th>\n",
       "      <th>Country</th>\n",
       "      <th>State</th>\n",
       "      <th>City</th>\n",
       "      <th>AvgTemperature</th>\n",
       "      <th>date</th>\n",
       "      <th>Month</th>\n",
       "      <th>Day</th>\n",
       "      <th>Year</th>\n",
       "      <th>day_of_week</th>\n",
       "      <th>days_of_the_week</th>\n",
       "      <th>date_plus_30_years</th>\n",
       "    </tr>\n",
       "  </thead>\n",
       "  <tbody>\n",
       "    <tr>\n",
       "      <th>197797</th>\n",
       "      <td>Africa</td>\n",
       "      <td>South Africa</td>\n",
       "      <td>NaN</td>\n",
       "      <td>Capetown</td>\n",
       "      <td>66.8</td>\n",
       "      <td>1995-01-01</td>\n",
       "      <td>1</td>\n",
       "      <td>1</td>\n",
       "      <td>1995</td>\n",
       "      <td>6</td>\n",
       "      <td>Sunday</td>\n",
       "      <td>1995-12-24</td>\n",
       "    </tr>\n",
       "    <tr>\n",
       "      <th>197798</th>\n",
       "      <td>Africa</td>\n",
       "      <td>South Africa</td>\n",
       "      <td>NaN</td>\n",
       "      <td>Capetown</td>\n",
       "      <td>67.8</td>\n",
       "      <td>1995-01-02</td>\n",
       "      <td>1</td>\n",
       "      <td>2</td>\n",
       "      <td>1995</td>\n",
       "      <td>0</td>\n",
       "      <td>Monday</td>\n",
       "      <td>1995-12-25</td>\n",
       "    </tr>\n",
       "    <tr>\n",
       "      <th>197799</th>\n",
       "      <td>Africa</td>\n",
       "      <td>South Africa</td>\n",
       "      <td>NaN</td>\n",
       "      <td>Capetown</td>\n",
       "      <td>66.9</td>\n",
       "      <td>1995-01-03</td>\n",
       "      <td>1</td>\n",
       "      <td>3</td>\n",
       "      <td>1995</td>\n",
       "      <td>1</td>\n",
       "      <td>Tuesday</td>\n",
       "      <td>1995-12-26</td>\n",
       "    </tr>\n",
       "    <tr>\n",
       "      <th>197800</th>\n",
       "      <td>Africa</td>\n",
       "      <td>South Africa</td>\n",
       "      <td>NaN</td>\n",
       "      <td>Capetown</td>\n",
       "      <td>69.5</td>\n",
       "      <td>1995-01-04</td>\n",
       "      <td>1</td>\n",
       "      <td>4</td>\n",
       "      <td>1995</td>\n",
       "      <td>2</td>\n",
       "      <td>Wednesday</td>\n",
       "      <td>1995-12-27</td>\n",
       "    </tr>\n",
       "    <tr>\n",
       "      <th>197801</th>\n",
       "      <td>Africa</td>\n",
       "      <td>South Africa</td>\n",
       "      <td>NaN</td>\n",
       "      <td>Capetown</td>\n",
       "      <td>70.6</td>\n",
       "      <td>1995-01-05</td>\n",
       "      <td>1</td>\n",
       "      <td>5</td>\n",
       "      <td>1995</td>\n",
       "      <td>3</td>\n",
       "      <td>Thursday</td>\n",
       "      <td>1995-12-28</td>\n",
       "    </tr>\n",
       "    <tr>\n",
       "      <th>...</th>\n",
       "      <td>...</td>\n",
       "      <td>...</td>\n",
       "      <td>...</td>\n",
       "      <td>...</td>\n",
       "      <td>...</td>\n",
       "      <td>...</td>\n",
       "      <td>...</td>\n",
       "      <td>...</td>\n",
       "      <td>...</td>\n",
       "      <td>...</td>\n",
       "      <td>...</td>\n",
       "      <td>...</td>\n",
       "    </tr>\n",
       "    <tr>\n",
       "      <th>207058</th>\n",
       "      <td>Africa</td>\n",
       "      <td>South Africa</td>\n",
       "      <td>NaN</td>\n",
       "      <td>Capetown</td>\n",
       "      <td>64.0</td>\n",
       "      <td>2020-05-09</td>\n",
       "      <td>5</td>\n",
       "      <td>9</td>\n",
       "      <td>2020</td>\n",
       "      <td>5</td>\n",
       "      <td>Saturday</td>\n",
       "      <td>2021-05-01</td>\n",
       "    </tr>\n",
       "    <tr>\n",
       "      <th>207059</th>\n",
       "      <td>Africa</td>\n",
       "      <td>South Africa</td>\n",
       "      <td>NaN</td>\n",
       "      <td>Capetown</td>\n",
       "      <td>59.1</td>\n",
       "      <td>2020-05-10</td>\n",
       "      <td>5</td>\n",
       "      <td>10</td>\n",
       "      <td>2020</td>\n",
       "      <td>6</td>\n",
       "      <td>Sunday</td>\n",
       "      <td>2021-05-02</td>\n",
       "    </tr>\n",
       "    <tr>\n",
       "      <th>207060</th>\n",
       "      <td>Africa</td>\n",
       "      <td>South Africa</td>\n",
       "      <td>NaN</td>\n",
       "      <td>Capetown</td>\n",
       "      <td>64.0</td>\n",
       "      <td>2020-05-11</td>\n",
       "      <td>5</td>\n",
       "      <td>11</td>\n",
       "      <td>2020</td>\n",
       "      <td>0</td>\n",
       "      <td>Monday</td>\n",
       "      <td>2021-05-03</td>\n",
       "    </tr>\n",
       "    <tr>\n",
       "      <th>207061</th>\n",
       "      <td>Africa</td>\n",
       "      <td>South Africa</td>\n",
       "      <td>NaN</td>\n",
       "      <td>Capetown</td>\n",
       "      <td>61.3</td>\n",
       "      <td>2020-05-12</td>\n",
       "      <td>5</td>\n",
       "      <td>12</td>\n",
       "      <td>2020</td>\n",
       "      <td>1</td>\n",
       "      <td>Tuesday</td>\n",
       "      <td>2021-05-04</td>\n",
       "    </tr>\n",
       "    <tr>\n",
       "      <th>207062</th>\n",
       "      <td>Africa</td>\n",
       "      <td>South Africa</td>\n",
       "      <td>NaN</td>\n",
       "      <td>Capetown</td>\n",
       "      <td>54.0</td>\n",
       "      <td>2020-05-13</td>\n",
       "      <td>5</td>\n",
       "      <td>13</td>\n",
       "      <td>2020</td>\n",
       "      <td>2</td>\n",
       "      <td>Wednesday</td>\n",
       "      <td>2021-05-05</td>\n",
       "    </tr>\n",
       "  </tbody>\n",
       "</table>\n",
       "<p>9266 rows × 12 columns</p>\n",
       "</div>"
      ],
      "text/plain": [
       "        Region       Country State      City  AvgTemperature       date  \\\n",
       "197797  Africa  South Africa   NaN  Capetown            66.8 1995-01-01   \n",
       "197798  Africa  South Africa   NaN  Capetown            67.8 1995-01-02   \n",
       "197799  Africa  South Africa   NaN  Capetown            66.9 1995-01-03   \n",
       "197800  Africa  South Africa   NaN  Capetown            69.5 1995-01-04   \n",
       "197801  Africa  South Africa   NaN  Capetown            70.6 1995-01-05   \n",
       "...        ...           ...   ...       ...             ...        ...   \n",
       "207058  Africa  South Africa   NaN  Capetown            64.0 2020-05-09   \n",
       "207059  Africa  South Africa   NaN  Capetown            59.1 2020-05-10   \n",
       "207060  Africa  South Africa   NaN  Capetown            64.0 2020-05-11   \n",
       "207061  Africa  South Africa   NaN  Capetown            61.3 2020-05-12   \n",
       "207062  Africa  South Africa   NaN  Capetown            54.0 2020-05-13   \n",
       "\n",
       "        Month  Day  Year  day_of_week days_of_the_week date_plus_30_years  \n",
       "197797      1    1  1995            6           Sunday         1995-12-24  \n",
       "197798      1    2  1995            0           Monday         1995-12-25  \n",
       "197799      1    3  1995            1          Tuesday         1995-12-26  \n",
       "197800      1    4  1995            2        Wednesday         1995-12-27  \n",
       "197801      1    5  1995            3         Thursday         1995-12-28  \n",
       "...       ...  ...   ...          ...              ...                ...  \n",
       "207058      5    9  2020            5         Saturday         2021-05-01  \n",
       "207059      5   10  2020            6           Sunday         2021-05-02  \n",
       "207060      5   11  2020            0           Monday         2021-05-03  \n",
       "207061      5   12  2020            1          Tuesday         2021-05-04  \n",
       "207062      5   13  2020            2        Wednesday         2021-05-05  \n",
       "\n",
       "[9266 rows x 12 columns]"
      ]
     },
     "execution_count": 99,
     "metadata": {},
     "output_type": "execute_result"
    }
   ],
   "source": [
    "sa_temperatures"
   ]
  },
  {
   "cell_type": "markdown",
   "id": "33eea321",
   "metadata": {},
   "source": [
    "##### How many days (months, years, seconds) ago the users were created\n",
    "- use the Timedelta objects marking the difference between today and the creation date to divide with another Timedelta.\n",
    "- Timedelta objects have attributes and methods to access certain parts of the data or perform further operations."
   ]
  },
  {
   "cell_type": "code",
   "execution_count": 100,
   "id": "244c26c6",
   "metadata": {},
   "outputs": [
    {
     "data": {
      "text/plain": [
       "datetime.datetime(2023, 11, 1, 3, 8, 57, 331239)"
      ]
     },
     "execution_count": 100,
     "metadata": {},
     "output_type": "execute_result"
    }
   ],
   "source": [
    "todays = datetime.today()\n",
    "todays"
   ]
  },
  {
   "cell_type": "code",
   "execution_count": 101,
   "id": "fc31ceb9",
   "metadata": {},
   "outputs": [],
   "source": [
    "sa_temperatures['How_many_days_ago'] = todays - sa_temperatures['date']"
   ]
  },
  {
   "cell_type": "code",
   "execution_count": 103,
   "id": "57986e6b",
   "metadata": {},
   "outputs": [],
   "source": [
    "sa_temperatures['How_many_years_ago'] = sa_temperatures.How_many_days_ago / pd.Timedelta(days=365)"
   ]
  },
  {
   "cell_type": "code",
   "execution_count": 104,
   "id": "c73a24ac",
   "metadata": {},
   "outputs": [
    {
     "data": {
      "text/html": [
       "<div>\n",
       "<style scoped>\n",
       "    .dataframe tbody tr th:only-of-type {\n",
       "        vertical-align: middle;\n",
       "    }\n",
       "\n",
       "    .dataframe tbody tr th {\n",
       "        vertical-align: top;\n",
       "    }\n",
       "\n",
       "    .dataframe thead th {\n",
       "        text-align: right;\n",
       "    }\n",
       "</style>\n",
       "<table border=\"1\" class=\"dataframe\">\n",
       "  <thead>\n",
       "    <tr style=\"text-align: right;\">\n",
       "      <th></th>\n",
       "      <th>Region</th>\n",
       "      <th>Country</th>\n",
       "      <th>State</th>\n",
       "      <th>City</th>\n",
       "      <th>AvgTemperature</th>\n",
       "      <th>date</th>\n",
       "      <th>Month</th>\n",
       "      <th>Day</th>\n",
       "      <th>Year</th>\n",
       "      <th>day_of_week</th>\n",
       "      <th>days_of_the_week</th>\n",
       "      <th>date_plus_30_years</th>\n",
       "      <th>How_many_days_ago</th>\n",
       "      <th>How_many_years_ago</th>\n",
       "    </tr>\n",
       "  </thead>\n",
       "  <tbody>\n",
       "    <tr>\n",
       "      <th>197797</th>\n",
       "      <td>Africa</td>\n",
       "      <td>South Africa</td>\n",
       "      <td>NaN</td>\n",
       "      <td>Capetown</td>\n",
       "      <td>66.8</td>\n",
       "      <td>1995-01-01</td>\n",
       "      <td>1</td>\n",
       "      <td>1</td>\n",
       "      <td>1995</td>\n",
       "      <td>6</td>\n",
       "      <td>Sunday</td>\n",
       "      <td>1995-12-24</td>\n",
       "      <td>10531 days 03:08:57.331239</td>\n",
       "      <td>28.852414</td>\n",
       "    </tr>\n",
       "    <tr>\n",
       "      <th>197798</th>\n",
       "      <td>Africa</td>\n",
       "      <td>South Africa</td>\n",
       "      <td>NaN</td>\n",
       "      <td>Capetown</td>\n",
       "      <td>67.8</td>\n",
       "      <td>1995-01-02</td>\n",
       "      <td>1</td>\n",
       "      <td>2</td>\n",
       "      <td>1995</td>\n",
       "      <td>0</td>\n",
       "      <td>Monday</td>\n",
       "      <td>1995-12-25</td>\n",
       "      <td>10530 days 03:08:57.331239</td>\n",
       "      <td>28.849675</td>\n",
       "    </tr>\n",
       "    <tr>\n",
       "      <th>197799</th>\n",
       "      <td>Africa</td>\n",
       "      <td>South Africa</td>\n",
       "      <td>NaN</td>\n",
       "      <td>Capetown</td>\n",
       "      <td>66.9</td>\n",
       "      <td>1995-01-03</td>\n",
       "      <td>1</td>\n",
       "      <td>3</td>\n",
       "      <td>1995</td>\n",
       "      <td>1</td>\n",
       "      <td>Tuesday</td>\n",
       "      <td>1995-12-26</td>\n",
       "      <td>10529 days 03:08:57.331239</td>\n",
       "      <td>28.846935</td>\n",
       "    </tr>\n",
       "    <tr>\n",
       "      <th>197800</th>\n",
       "      <td>Africa</td>\n",
       "      <td>South Africa</td>\n",
       "      <td>NaN</td>\n",
       "      <td>Capetown</td>\n",
       "      <td>69.5</td>\n",
       "      <td>1995-01-04</td>\n",
       "      <td>1</td>\n",
       "      <td>4</td>\n",
       "      <td>1995</td>\n",
       "      <td>2</td>\n",
       "      <td>Wednesday</td>\n",
       "      <td>1995-12-27</td>\n",
       "      <td>10528 days 03:08:57.331239</td>\n",
       "      <td>28.844195</td>\n",
       "    </tr>\n",
       "    <tr>\n",
       "      <th>197801</th>\n",
       "      <td>Africa</td>\n",
       "      <td>South Africa</td>\n",
       "      <td>NaN</td>\n",
       "      <td>Capetown</td>\n",
       "      <td>70.6</td>\n",
       "      <td>1995-01-05</td>\n",
       "      <td>1</td>\n",
       "      <td>5</td>\n",
       "      <td>1995</td>\n",
       "      <td>3</td>\n",
       "      <td>Thursday</td>\n",
       "      <td>1995-12-28</td>\n",
       "      <td>10527 days 03:08:57.331239</td>\n",
       "      <td>28.841455</td>\n",
       "    </tr>\n",
       "    <tr>\n",
       "      <th>...</th>\n",
       "      <td>...</td>\n",
       "      <td>...</td>\n",
       "      <td>...</td>\n",
       "      <td>...</td>\n",
       "      <td>...</td>\n",
       "      <td>...</td>\n",
       "      <td>...</td>\n",
       "      <td>...</td>\n",
       "      <td>...</td>\n",
       "      <td>...</td>\n",
       "      <td>...</td>\n",
       "      <td>...</td>\n",
       "      <td>...</td>\n",
       "      <td>...</td>\n",
       "    </tr>\n",
       "    <tr>\n",
       "      <th>207058</th>\n",
       "      <td>Africa</td>\n",
       "      <td>South Africa</td>\n",
       "      <td>NaN</td>\n",
       "      <td>Capetown</td>\n",
       "      <td>64.0</td>\n",
       "      <td>2020-05-09</td>\n",
       "      <td>5</td>\n",
       "      <td>9</td>\n",
       "      <td>2020</td>\n",
       "      <td>5</td>\n",
       "      <td>Saturday</td>\n",
       "      <td>2021-05-01</td>\n",
       "      <td>1271 days 03:08:57.331239</td>\n",
       "      <td>3.482551</td>\n",
       "    </tr>\n",
       "    <tr>\n",
       "      <th>207059</th>\n",
       "      <td>Africa</td>\n",
       "      <td>South Africa</td>\n",
       "      <td>NaN</td>\n",
       "      <td>Capetown</td>\n",
       "      <td>59.1</td>\n",
       "      <td>2020-05-10</td>\n",
       "      <td>5</td>\n",
       "      <td>10</td>\n",
       "      <td>2020</td>\n",
       "      <td>6</td>\n",
       "      <td>Sunday</td>\n",
       "      <td>2021-05-02</td>\n",
       "      <td>1270 days 03:08:57.331239</td>\n",
       "      <td>3.479812</td>\n",
       "    </tr>\n",
       "    <tr>\n",
       "      <th>207060</th>\n",
       "      <td>Africa</td>\n",
       "      <td>South Africa</td>\n",
       "      <td>NaN</td>\n",
       "      <td>Capetown</td>\n",
       "      <td>64.0</td>\n",
       "      <td>2020-05-11</td>\n",
       "      <td>5</td>\n",
       "      <td>11</td>\n",
       "      <td>2020</td>\n",
       "      <td>0</td>\n",
       "      <td>Monday</td>\n",
       "      <td>2021-05-03</td>\n",
       "      <td>1269 days 03:08:57.331239</td>\n",
       "      <td>3.477072</td>\n",
       "    </tr>\n",
       "    <tr>\n",
       "      <th>207061</th>\n",
       "      <td>Africa</td>\n",
       "      <td>South Africa</td>\n",
       "      <td>NaN</td>\n",
       "      <td>Capetown</td>\n",
       "      <td>61.3</td>\n",
       "      <td>2020-05-12</td>\n",
       "      <td>5</td>\n",
       "      <td>12</td>\n",
       "      <td>2020</td>\n",
       "      <td>1</td>\n",
       "      <td>Tuesday</td>\n",
       "      <td>2021-05-04</td>\n",
       "      <td>1268 days 03:08:57.331239</td>\n",
       "      <td>3.474332</td>\n",
       "    </tr>\n",
       "    <tr>\n",
       "      <th>207062</th>\n",
       "      <td>Africa</td>\n",
       "      <td>South Africa</td>\n",
       "      <td>NaN</td>\n",
       "      <td>Capetown</td>\n",
       "      <td>54.0</td>\n",
       "      <td>2020-05-13</td>\n",
       "      <td>5</td>\n",
       "      <td>13</td>\n",
       "      <td>2020</td>\n",
       "      <td>2</td>\n",
       "      <td>Wednesday</td>\n",
       "      <td>2021-05-05</td>\n",
       "      <td>1267 days 03:08:57.331239</td>\n",
       "      <td>3.471592</td>\n",
       "    </tr>\n",
       "  </tbody>\n",
       "</table>\n",
       "<p>9266 rows × 14 columns</p>\n",
       "</div>"
      ],
      "text/plain": [
       "        Region       Country State      City  AvgTemperature       date  \\\n",
       "197797  Africa  South Africa   NaN  Capetown            66.8 1995-01-01   \n",
       "197798  Africa  South Africa   NaN  Capetown            67.8 1995-01-02   \n",
       "197799  Africa  South Africa   NaN  Capetown            66.9 1995-01-03   \n",
       "197800  Africa  South Africa   NaN  Capetown            69.5 1995-01-04   \n",
       "197801  Africa  South Africa   NaN  Capetown            70.6 1995-01-05   \n",
       "...        ...           ...   ...       ...             ...        ...   \n",
       "207058  Africa  South Africa   NaN  Capetown            64.0 2020-05-09   \n",
       "207059  Africa  South Africa   NaN  Capetown            59.1 2020-05-10   \n",
       "207060  Africa  South Africa   NaN  Capetown            64.0 2020-05-11   \n",
       "207061  Africa  South Africa   NaN  Capetown            61.3 2020-05-12   \n",
       "207062  Africa  South Africa   NaN  Capetown            54.0 2020-05-13   \n",
       "\n",
       "        Month  Day  Year  day_of_week days_of_the_week date_plus_30_years  \\\n",
       "197797      1    1  1995            6           Sunday         1995-12-24   \n",
       "197798      1    2  1995            0           Monday         1995-12-25   \n",
       "197799      1    3  1995            1          Tuesday         1995-12-26   \n",
       "197800      1    4  1995            2        Wednesday         1995-12-27   \n",
       "197801      1    5  1995            3         Thursday         1995-12-28   \n",
       "...       ...  ...   ...          ...              ...                ...   \n",
       "207058      5    9  2020            5         Saturday         2021-05-01   \n",
       "207059      5   10  2020            6           Sunday         2021-05-02   \n",
       "207060      5   11  2020            0           Monday         2021-05-03   \n",
       "207061      5   12  2020            1          Tuesday         2021-05-04   \n",
       "207062      5   13  2020            2        Wednesday         2021-05-05   \n",
       "\n",
       "                How_many_days_ago  How_many_years_ago  \n",
       "197797 10531 days 03:08:57.331239           28.852414  \n",
       "197798 10530 days 03:08:57.331239           28.849675  \n",
       "197799 10529 days 03:08:57.331239           28.846935  \n",
       "197800 10528 days 03:08:57.331239           28.844195  \n",
       "197801 10527 days 03:08:57.331239           28.841455  \n",
       "...                           ...                 ...  \n",
       "207058  1271 days 03:08:57.331239            3.482551  \n",
       "207059  1270 days 03:08:57.331239            3.479812  \n",
       "207060  1269 days 03:08:57.331239            3.477072  \n",
       "207061  1268 days 03:08:57.331239            3.474332  \n",
       "207062  1267 days 03:08:57.331239            3.471592  \n",
       "\n",
       "[9266 rows x 14 columns]"
      ]
     },
     "execution_count": 104,
     "metadata": {},
     "output_type": "execute_result"
    }
   ],
   "source": [
    "sa_temperatures"
   ]
  },
  {
   "cell_type": "markdown",
   "id": "96035ab0",
   "metadata": {},
   "source": [
    "### DateOffsets\n",
    "- DateOffests are closely related to Timedeltas, however, working slightly differently.\n",
    "- The different logic behind the two:\n",
    "    - sometimes the difference between two consecutive days at midnight is not 24 hours: \n",
    "        - e.g. daylight saving can shake things up a bit. \n",
    "            - 1 day Timedelta will always add 24 hours to the timestamp, \n",
    "            - while DateOffset will move the timestamp forward to the next day and then exact hour of the original timestamp.\n",
    "- Offset objects offer lots of opportunities to move forward or backward timestamps to a certain logical point in time instead of by a fixed period."
   ]
  },
  {
   "cell_type": "code",
   "execution_count": 106,
   "id": "96d2e883",
   "metadata": {},
   "outputs": [
    {
     "data": {
      "text/plain": [
       "Timestamp('2023-11-01 00:00:00+0200', tz='Europe/Helsinki')"
      ]
     },
     "execution_count": 106,
     "metadata": {},
     "output_type": "execute_result"
    }
   ],
   "source": [
    "timeser = pd.Timestamp('2023-11-01 00:00:00', tz='Europe/Helsinki')\n",
    "timeser"
   ]
  },
  {
   "cell_type": "code",
   "execution_count": 107,
   "id": "e35a577b",
   "metadata": {},
   "outputs": [
    {
     "data": {
      "text/plain": [
       "Timestamp('2023-11-02 00:00:00+0200', tz='Europe/Helsinki')"
      ]
     },
     "execution_count": 107,
     "metadata": {},
     "output_type": "execute_result"
    }
   ],
   "source": [
    "timeser + pd.Timedelta(days=1)"
   ]
  },
  {
   "cell_type": "code",
   "execution_count": 108,
   "id": "7ea5c7cd",
   "metadata": {},
   "outputs": [
    {
     "data": {
      "text/plain": [
       "Timestamp('2023-11-02 00:00:00+0200', tz='Europe/Helsinki')"
      ]
     },
     "execution_count": 108,
     "metadata": {},
     "output_type": "execute_result"
    }
   ],
   "source": [
    "timeser + pd.DateOffset(days=1)"
   ]
  },
  {
   "cell_type": "code",
   "execution_count": 109,
   "id": "650987d1",
   "metadata": {},
   "outputs": [],
   "source": [
    "sa_temperatures['date_name'] = sa_temperatures['date'].dt.day_name()"
   ]
  },
  {
   "cell_type": "code",
   "execution_count": 110,
   "id": "a3191412",
   "metadata": {},
   "outputs": [
    {
     "data": {
      "text/html": [
       "<div>\n",
       "<style scoped>\n",
       "    .dataframe tbody tr th:only-of-type {\n",
       "        vertical-align: middle;\n",
       "    }\n",
       "\n",
       "    .dataframe tbody tr th {\n",
       "        vertical-align: top;\n",
       "    }\n",
       "\n",
       "    .dataframe thead th {\n",
       "        text-align: right;\n",
       "    }\n",
       "</style>\n",
       "<table border=\"1\" class=\"dataframe\">\n",
       "  <thead>\n",
       "    <tr style=\"text-align: right;\">\n",
       "      <th></th>\n",
       "      <th>Region</th>\n",
       "      <th>Country</th>\n",
       "      <th>State</th>\n",
       "      <th>City</th>\n",
       "      <th>AvgTemperature</th>\n",
       "      <th>date</th>\n",
       "      <th>Month</th>\n",
       "      <th>Day</th>\n",
       "      <th>Year</th>\n",
       "      <th>day_of_week</th>\n",
       "      <th>days_of_the_week</th>\n",
       "      <th>date_plus_30_years</th>\n",
       "      <th>How_many_days_ago</th>\n",
       "      <th>How_many_years_ago</th>\n",
       "      <th>date_name</th>\n",
       "    </tr>\n",
       "  </thead>\n",
       "  <tbody>\n",
       "    <tr>\n",
       "      <th>197797</th>\n",
       "      <td>Africa</td>\n",
       "      <td>South Africa</td>\n",
       "      <td>NaN</td>\n",
       "      <td>Capetown</td>\n",
       "      <td>66.8</td>\n",
       "      <td>1995-01-01</td>\n",
       "      <td>1</td>\n",
       "      <td>1</td>\n",
       "      <td>1995</td>\n",
       "      <td>6</td>\n",
       "      <td>Sunday</td>\n",
       "      <td>1995-12-24</td>\n",
       "      <td>10531 days 03:08:57.331239</td>\n",
       "      <td>28.852414</td>\n",
       "      <td>Sunday</td>\n",
       "    </tr>\n",
       "    <tr>\n",
       "      <th>197798</th>\n",
       "      <td>Africa</td>\n",
       "      <td>South Africa</td>\n",
       "      <td>NaN</td>\n",
       "      <td>Capetown</td>\n",
       "      <td>67.8</td>\n",
       "      <td>1995-01-02</td>\n",
       "      <td>1</td>\n",
       "      <td>2</td>\n",
       "      <td>1995</td>\n",
       "      <td>0</td>\n",
       "      <td>Monday</td>\n",
       "      <td>1995-12-25</td>\n",
       "      <td>10530 days 03:08:57.331239</td>\n",
       "      <td>28.849675</td>\n",
       "      <td>Monday</td>\n",
       "    </tr>\n",
       "    <tr>\n",
       "      <th>197799</th>\n",
       "      <td>Africa</td>\n",
       "      <td>South Africa</td>\n",
       "      <td>NaN</td>\n",
       "      <td>Capetown</td>\n",
       "      <td>66.9</td>\n",
       "      <td>1995-01-03</td>\n",
       "      <td>1</td>\n",
       "      <td>3</td>\n",
       "      <td>1995</td>\n",
       "      <td>1</td>\n",
       "      <td>Tuesday</td>\n",
       "      <td>1995-12-26</td>\n",
       "      <td>10529 days 03:08:57.331239</td>\n",
       "      <td>28.846935</td>\n",
       "      <td>Tuesday</td>\n",
       "    </tr>\n",
       "    <tr>\n",
       "      <th>197800</th>\n",
       "      <td>Africa</td>\n",
       "      <td>South Africa</td>\n",
       "      <td>NaN</td>\n",
       "      <td>Capetown</td>\n",
       "      <td>69.5</td>\n",
       "      <td>1995-01-04</td>\n",
       "      <td>1</td>\n",
       "      <td>4</td>\n",
       "      <td>1995</td>\n",
       "      <td>2</td>\n",
       "      <td>Wednesday</td>\n",
       "      <td>1995-12-27</td>\n",
       "      <td>10528 days 03:08:57.331239</td>\n",
       "      <td>28.844195</td>\n",
       "      <td>Wednesday</td>\n",
       "    </tr>\n",
       "    <tr>\n",
       "      <th>197801</th>\n",
       "      <td>Africa</td>\n",
       "      <td>South Africa</td>\n",
       "      <td>NaN</td>\n",
       "      <td>Capetown</td>\n",
       "      <td>70.6</td>\n",
       "      <td>1995-01-05</td>\n",
       "      <td>1</td>\n",
       "      <td>5</td>\n",
       "      <td>1995</td>\n",
       "      <td>3</td>\n",
       "      <td>Thursday</td>\n",
       "      <td>1995-12-28</td>\n",
       "      <td>10527 days 03:08:57.331239</td>\n",
       "      <td>28.841455</td>\n",
       "      <td>Thursday</td>\n",
       "    </tr>\n",
       "    <tr>\n",
       "      <th>...</th>\n",
       "      <td>...</td>\n",
       "      <td>...</td>\n",
       "      <td>...</td>\n",
       "      <td>...</td>\n",
       "      <td>...</td>\n",
       "      <td>...</td>\n",
       "      <td>...</td>\n",
       "      <td>...</td>\n",
       "      <td>...</td>\n",
       "      <td>...</td>\n",
       "      <td>...</td>\n",
       "      <td>...</td>\n",
       "      <td>...</td>\n",
       "      <td>...</td>\n",
       "      <td>...</td>\n",
       "    </tr>\n",
       "    <tr>\n",
       "      <th>207058</th>\n",
       "      <td>Africa</td>\n",
       "      <td>South Africa</td>\n",
       "      <td>NaN</td>\n",
       "      <td>Capetown</td>\n",
       "      <td>64.0</td>\n",
       "      <td>2020-05-09</td>\n",
       "      <td>5</td>\n",
       "      <td>9</td>\n",
       "      <td>2020</td>\n",
       "      <td>5</td>\n",
       "      <td>Saturday</td>\n",
       "      <td>2021-05-01</td>\n",
       "      <td>1271 days 03:08:57.331239</td>\n",
       "      <td>3.482551</td>\n",
       "      <td>Saturday</td>\n",
       "    </tr>\n",
       "    <tr>\n",
       "      <th>207059</th>\n",
       "      <td>Africa</td>\n",
       "      <td>South Africa</td>\n",
       "      <td>NaN</td>\n",
       "      <td>Capetown</td>\n",
       "      <td>59.1</td>\n",
       "      <td>2020-05-10</td>\n",
       "      <td>5</td>\n",
       "      <td>10</td>\n",
       "      <td>2020</td>\n",
       "      <td>6</td>\n",
       "      <td>Sunday</td>\n",
       "      <td>2021-05-02</td>\n",
       "      <td>1270 days 03:08:57.331239</td>\n",
       "      <td>3.479812</td>\n",
       "      <td>Sunday</td>\n",
       "    </tr>\n",
       "    <tr>\n",
       "      <th>207060</th>\n",
       "      <td>Africa</td>\n",
       "      <td>South Africa</td>\n",
       "      <td>NaN</td>\n",
       "      <td>Capetown</td>\n",
       "      <td>64.0</td>\n",
       "      <td>2020-05-11</td>\n",
       "      <td>5</td>\n",
       "      <td>11</td>\n",
       "      <td>2020</td>\n",
       "      <td>0</td>\n",
       "      <td>Monday</td>\n",
       "      <td>2021-05-03</td>\n",
       "      <td>1269 days 03:08:57.331239</td>\n",
       "      <td>3.477072</td>\n",
       "      <td>Monday</td>\n",
       "    </tr>\n",
       "    <tr>\n",
       "      <th>207061</th>\n",
       "      <td>Africa</td>\n",
       "      <td>South Africa</td>\n",
       "      <td>NaN</td>\n",
       "      <td>Capetown</td>\n",
       "      <td>61.3</td>\n",
       "      <td>2020-05-12</td>\n",
       "      <td>5</td>\n",
       "      <td>12</td>\n",
       "      <td>2020</td>\n",
       "      <td>1</td>\n",
       "      <td>Tuesday</td>\n",
       "      <td>2021-05-04</td>\n",
       "      <td>1268 days 03:08:57.331239</td>\n",
       "      <td>3.474332</td>\n",
       "      <td>Tuesday</td>\n",
       "    </tr>\n",
       "    <tr>\n",
       "      <th>207062</th>\n",
       "      <td>Africa</td>\n",
       "      <td>South Africa</td>\n",
       "      <td>NaN</td>\n",
       "      <td>Capetown</td>\n",
       "      <td>54.0</td>\n",
       "      <td>2020-05-13</td>\n",
       "      <td>5</td>\n",
       "      <td>13</td>\n",
       "      <td>2020</td>\n",
       "      <td>2</td>\n",
       "      <td>Wednesday</td>\n",
       "      <td>2021-05-05</td>\n",
       "      <td>1267 days 03:08:57.331239</td>\n",
       "      <td>3.471592</td>\n",
       "      <td>Wednesday</td>\n",
       "    </tr>\n",
       "  </tbody>\n",
       "</table>\n",
       "<p>9266 rows × 15 columns</p>\n",
       "</div>"
      ],
      "text/plain": [
       "        Region       Country State      City  AvgTemperature       date  \\\n",
       "197797  Africa  South Africa   NaN  Capetown            66.8 1995-01-01   \n",
       "197798  Africa  South Africa   NaN  Capetown            67.8 1995-01-02   \n",
       "197799  Africa  South Africa   NaN  Capetown            66.9 1995-01-03   \n",
       "197800  Africa  South Africa   NaN  Capetown            69.5 1995-01-04   \n",
       "197801  Africa  South Africa   NaN  Capetown            70.6 1995-01-05   \n",
       "...        ...           ...   ...       ...             ...        ...   \n",
       "207058  Africa  South Africa   NaN  Capetown            64.0 2020-05-09   \n",
       "207059  Africa  South Africa   NaN  Capetown            59.1 2020-05-10   \n",
       "207060  Africa  South Africa   NaN  Capetown            64.0 2020-05-11   \n",
       "207061  Africa  South Africa   NaN  Capetown            61.3 2020-05-12   \n",
       "207062  Africa  South Africa   NaN  Capetown            54.0 2020-05-13   \n",
       "\n",
       "        Month  Day  Year  day_of_week days_of_the_week date_plus_30_years  \\\n",
       "197797      1    1  1995            6           Sunday         1995-12-24   \n",
       "197798      1    2  1995            0           Monday         1995-12-25   \n",
       "197799      1    3  1995            1          Tuesday         1995-12-26   \n",
       "197800      1    4  1995            2        Wednesday         1995-12-27   \n",
       "197801      1    5  1995            3         Thursday         1995-12-28   \n",
       "...       ...  ...   ...          ...              ...                ...   \n",
       "207058      5    9  2020            5         Saturday         2021-05-01   \n",
       "207059      5   10  2020            6           Sunday         2021-05-02   \n",
       "207060      5   11  2020            0           Monday         2021-05-03   \n",
       "207061      5   12  2020            1          Tuesday         2021-05-04   \n",
       "207062      5   13  2020            2        Wednesday         2021-05-05   \n",
       "\n",
       "                How_many_days_ago  How_many_years_ago  date_name  \n",
       "197797 10531 days 03:08:57.331239           28.852414     Sunday  \n",
       "197798 10530 days 03:08:57.331239           28.849675     Monday  \n",
       "197799 10529 days 03:08:57.331239           28.846935    Tuesday  \n",
       "197800 10528 days 03:08:57.331239           28.844195  Wednesday  \n",
       "197801 10527 days 03:08:57.331239           28.841455   Thursday  \n",
       "...                           ...                 ...        ...  \n",
       "207058  1271 days 03:08:57.331239            3.482551   Saturday  \n",
       "207059  1270 days 03:08:57.331239            3.479812     Sunday  \n",
       "207060  1269 days 03:08:57.331239            3.477072     Monday  \n",
       "207061  1268 days 03:08:57.331239            3.474332    Tuesday  \n",
       "207062  1267 days 03:08:57.331239            3.471592  Wednesday  \n",
       "\n",
       "[9266 rows x 15 columns]"
      ]
     },
     "execution_count": 110,
     "metadata": {},
     "output_type": "execute_result"
    }
   ],
   "source": [
    "sa_temperatures"
   ]
  },
  {
   "cell_type": "code",
   "execution_count": 113,
   "id": "03922e34",
   "metadata": {},
   "outputs": [
    {
     "data": {
      "text/html": [
       "<div>\n",
       "<style scoped>\n",
       "    .dataframe tbody tr th:only-of-type {\n",
       "        vertical-align: middle;\n",
       "    }\n",
       "\n",
       "    .dataframe tbody tr th {\n",
       "        vertical-align: top;\n",
       "    }\n",
       "\n",
       "    .dataframe thead th {\n",
       "        text-align: right;\n",
       "    }\n",
       "</style>\n",
       "<table border=\"1\" class=\"dataframe\">\n",
       "  <thead>\n",
       "    <tr style=\"text-align: right;\">\n",
       "      <th></th>\n",
       "      <th>Region</th>\n",
       "      <th>Country</th>\n",
       "      <th>State</th>\n",
       "      <th>City</th>\n",
       "      <th>AvgTemperature</th>\n",
       "      <th>date</th>\n",
       "      <th>Month</th>\n",
       "      <th>Day</th>\n",
       "      <th>Year</th>\n",
       "      <th>day_of_week</th>\n",
       "      <th>days_of_the_week</th>\n",
       "      <th>date_plus_30_years</th>\n",
       "      <th>How_many_days_ago</th>\n",
       "      <th>How_many_years_ago</th>\n",
       "      <th>date_name</th>\n",
       "      <th>Business_day</th>\n",
       "    </tr>\n",
       "  </thead>\n",
       "  <tbody>\n",
       "    <tr>\n",
       "      <th>197797</th>\n",
       "      <td>Africa</td>\n",
       "      <td>South Africa</td>\n",
       "      <td>NaN</td>\n",
       "      <td>Capetown</td>\n",
       "      <td>66.8</td>\n",
       "      <td>1995-01-01</td>\n",
       "      <td>1</td>\n",
       "      <td>1</td>\n",
       "      <td>1995</td>\n",
       "      <td>6</td>\n",
       "      <td>Sunday</td>\n",
       "      <td>1995-12-24</td>\n",
       "      <td>10531 days 03:08:57.331239</td>\n",
       "      <td>28.852414</td>\n",
       "      <td>Sunday</td>\n",
       "      <td>1995-01-02 09:00:00</td>\n",
       "    </tr>\n",
       "    <tr>\n",
       "      <th>197798</th>\n",
       "      <td>Africa</td>\n",
       "      <td>South Africa</td>\n",
       "      <td>NaN</td>\n",
       "      <td>Capetown</td>\n",
       "      <td>67.8</td>\n",
       "      <td>1995-01-02</td>\n",
       "      <td>1</td>\n",
       "      <td>2</td>\n",
       "      <td>1995</td>\n",
       "      <td>0</td>\n",
       "      <td>Monday</td>\n",
       "      <td>1995-12-25</td>\n",
       "      <td>10530 days 03:08:57.331239</td>\n",
       "      <td>28.849675</td>\n",
       "      <td>Monday</td>\n",
       "      <td>1995-01-02 09:00:00</td>\n",
       "    </tr>\n",
       "    <tr>\n",
       "      <th>197799</th>\n",
       "      <td>Africa</td>\n",
       "      <td>South Africa</td>\n",
       "      <td>NaN</td>\n",
       "      <td>Capetown</td>\n",
       "      <td>66.9</td>\n",
       "      <td>1995-01-03</td>\n",
       "      <td>1</td>\n",
       "      <td>3</td>\n",
       "      <td>1995</td>\n",
       "      <td>1</td>\n",
       "      <td>Tuesday</td>\n",
       "      <td>1995-12-26</td>\n",
       "      <td>10529 days 03:08:57.331239</td>\n",
       "      <td>28.846935</td>\n",
       "      <td>Tuesday</td>\n",
       "      <td>1995-01-03 09:00:00</td>\n",
       "    </tr>\n",
       "    <tr>\n",
       "      <th>197800</th>\n",
       "      <td>Africa</td>\n",
       "      <td>South Africa</td>\n",
       "      <td>NaN</td>\n",
       "      <td>Capetown</td>\n",
       "      <td>69.5</td>\n",
       "      <td>1995-01-04</td>\n",
       "      <td>1</td>\n",
       "      <td>4</td>\n",
       "      <td>1995</td>\n",
       "      <td>2</td>\n",
       "      <td>Wednesday</td>\n",
       "      <td>1995-12-27</td>\n",
       "      <td>10528 days 03:08:57.331239</td>\n",
       "      <td>28.844195</td>\n",
       "      <td>Wednesday</td>\n",
       "      <td>1995-01-04 09:00:00</td>\n",
       "    </tr>\n",
       "    <tr>\n",
       "      <th>197801</th>\n",
       "      <td>Africa</td>\n",
       "      <td>South Africa</td>\n",
       "      <td>NaN</td>\n",
       "      <td>Capetown</td>\n",
       "      <td>70.6</td>\n",
       "      <td>1995-01-05</td>\n",
       "      <td>1</td>\n",
       "      <td>5</td>\n",
       "      <td>1995</td>\n",
       "      <td>3</td>\n",
       "      <td>Thursday</td>\n",
       "      <td>1995-12-28</td>\n",
       "      <td>10527 days 03:08:57.331239</td>\n",
       "      <td>28.841455</td>\n",
       "      <td>Thursday</td>\n",
       "      <td>1995-01-05 09:00:00</td>\n",
       "    </tr>\n",
       "    <tr>\n",
       "      <th>...</th>\n",
       "      <td>...</td>\n",
       "      <td>...</td>\n",
       "      <td>...</td>\n",
       "      <td>...</td>\n",
       "      <td>...</td>\n",
       "      <td>...</td>\n",
       "      <td>...</td>\n",
       "      <td>...</td>\n",
       "      <td>...</td>\n",
       "      <td>...</td>\n",
       "      <td>...</td>\n",
       "      <td>...</td>\n",
       "      <td>...</td>\n",
       "      <td>...</td>\n",
       "      <td>...</td>\n",
       "      <td>...</td>\n",
       "    </tr>\n",
       "    <tr>\n",
       "      <th>207058</th>\n",
       "      <td>Africa</td>\n",
       "      <td>South Africa</td>\n",
       "      <td>NaN</td>\n",
       "      <td>Capetown</td>\n",
       "      <td>64.0</td>\n",
       "      <td>2020-05-09</td>\n",
       "      <td>5</td>\n",
       "      <td>9</td>\n",
       "      <td>2020</td>\n",
       "      <td>5</td>\n",
       "      <td>Saturday</td>\n",
       "      <td>2021-05-01</td>\n",
       "      <td>1271 days 03:08:57.331239</td>\n",
       "      <td>3.482551</td>\n",
       "      <td>Saturday</td>\n",
       "      <td>2020-05-11 09:00:00</td>\n",
       "    </tr>\n",
       "    <tr>\n",
       "      <th>207059</th>\n",
       "      <td>Africa</td>\n",
       "      <td>South Africa</td>\n",
       "      <td>NaN</td>\n",
       "      <td>Capetown</td>\n",
       "      <td>59.1</td>\n",
       "      <td>2020-05-10</td>\n",
       "      <td>5</td>\n",
       "      <td>10</td>\n",
       "      <td>2020</td>\n",
       "      <td>6</td>\n",
       "      <td>Sunday</td>\n",
       "      <td>2021-05-02</td>\n",
       "      <td>1270 days 03:08:57.331239</td>\n",
       "      <td>3.479812</td>\n",
       "      <td>Sunday</td>\n",
       "      <td>2020-05-11 09:00:00</td>\n",
       "    </tr>\n",
       "    <tr>\n",
       "      <th>207060</th>\n",
       "      <td>Africa</td>\n",
       "      <td>South Africa</td>\n",
       "      <td>NaN</td>\n",
       "      <td>Capetown</td>\n",
       "      <td>64.0</td>\n",
       "      <td>2020-05-11</td>\n",
       "      <td>5</td>\n",
       "      <td>11</td>\n",
       "      <td>2020</td>\n",
       "      <td>0</td>\n",
       "      <td>Monday</td>\n",
       "      <td>2021-05-03</td>\n",
       "      <td>1269 days 03:08:57.331239</td>\n",
       "      <td>3.477072</td>\n",
       "      <td>Monday</td>\n",
       "      <td>2020-05-11 09:00:00</td>\n",
       "    </tr>\n",
       "    <tr>\n",
       "      <th>207061</th>\n",
       "      <td>Africa</td>\n",
       "      <td>South Africa</td>\n",
       "      <td>NaN</td>\n",
       "      <td>Capetown</td>\n",
       "      <td>61.3</td>\n",
       "      <td>2020-05-12</td>\n",
       "      <td>5</td>\n",
       "      <td>12</td>\n",
       "      <td>2020</td>\n",
       "      <td>1</td>\n",
       "      <td>Tuesday</td>\n",
       "      <td>2021-05-04</td>\n",
       "      <td>1268 days 03:08:57.331239</td>\n",
       "      <td>3.474332</td>\n",
       "      <td>Tuesday</td>\n",
       "      <td>2020-05-12 09:00:00</td>\n",
       "    </tr>\n",
       "    <tr>\n",
       "      <th>207062</th>\n",
       "      <td>Africa</td>\n",
       "      <td>South Africa</td>\n",
       "      <td>NaN</td>\n",
       "      <td>Capetown</td>\n",
       "      <td>54.0</td>\n",
       "      <td>2020-05-13</td>\n",
       "      <td>5</td>\n",
       "      <td>13</td>\n",
       "      <td>2020</td>\n",
       "      <td>2</td>\n",
       "      <td>Wednesday</td>\n",
       "      <td>2021-05-05</td>\n",
       "      <td>1267 days 03:08:57.331239</td>\n",
       "      <td>3.471592</td>\n",
       "      <td>Wednesday</td>\n",
       "      <td>2020-05-13 09:00:00</td>\n",
       "    </tr>\n",
       "  </tbody>\n",
       "</table>\n",
       "<p>9266 rows × 16 columns</p>\n",
       "</div>"
      ],
      "text/plain": [
       "        Region       Country State      City  AvgTemperature       date  \\\n",
       "197797  Africa  South Africa   NaN  Capetown            66.8 1995-01-01   \n",
       "197798  Africa  South Africa   NaN  Capetown            67.8 1995-01-02   \n",
       "197799  Africa  South Africa   NaN  Capetown            66.9 1995-01-03   \n",
       "197800  Africa  South Africa   NaN  Capetown            69.5 1995-01-04   \n",
       "197801  Africa  South Africa   NaN  Capetown            70.6 1995-01-05   \n",
       "...        ...           ...   ...       ...             ...        ...   \n",
       "207058  Africa  South Africa   NaN  Capetown            64.0 2020-05-09   \n",
       "207059  Africa  South Africa   NaN  Capetown            59.1 2020-05-10   \n",
       "207060  Africa  South Africa   NaN  Capetown            64.0 2020-05-11   \n",
       "207061  Africa  South Africa   NaN  Capetown            61.3 2020-05-12   \n",
       "207062  Africa  South Africa   NaN  Capetown            54.0 2020-05-13   \n",
       "\n",
       "        Month  Day  Year  day_of_week days_of_the_week date_plus_30_years  \\\n",
       "197797      1    1  1995            6           Sunday         1995-12-24   \n",
       "197798      1    2  1995            0           Monday         1995-12-25   \n",
       "197799      1    3  1995            1          Tuesday         1995-12-26   \n",
       "197800      1    4  1995            2        Wednesday         1995-12-27   \n",
       "197801      1    5  1995            3         Thursday         1995-12-28   \n",
       "...       ...  ...   ...          ...              ...                ...   \n",
       "207058      5    9  2020            5         Saturday         2021-05-01   \n",
       "207059      5   10  2020            6           Sunday         2021-05-02   \n",
       "207060      5   11  2020            0           Monday         2021-05-03   \n",
       "207061      5   12  2020            1          Tuesday         2021-05-04   \n",
       "207062      5   13  2020            2        Wednesday         2021-05-05   \n",
       "\n",
       "                How_many_days_ago  How_many_years_ago  date_name  \\\n",
       "197797 10531 days 03:08:57.331239           28.852414     Sunday   \n",
       "197798 10530 days 03:08:57.331239           28.849675     Monday   \n",
       "197799 10529 days 03:08:57.331239           28.846935    Tuesday   \n",
       "197800 10528 days 03:08:57.331239           28.844195  Wednesday   \n",
       "197801 10527 days 03:08:57.331239           28.841455   Thursday   \n",
       "...                           ...                 ...        ...   \n",
       "207058  1271 days 03:08:57.331239            3.482551   Saturday   \n",
       "207059  1270 days 03:08:57.331239            3.479812     Sunday   \n",
       "207060  1269 days 03:08:57.331239            3.477072     Monday   \n",
       "207061  1268 days 03:08:57.331239            3.474332    Tuesday   \n",
       "207062  1267 days 03:08:57.331239            3.471592  Wednesday   \n",
       "\n",
       "              Business_day  \n",
       "197797 1995-01-02 09:00:00  \n",
       "197798 1995-01-02 09:00:00  \n",
       "197799 1995-01-03 09:00:00  \n",
       "197800 1995-01-04 09:00:00  \n",
       "197801 1995-01-05 09:00:00  \n",
       "...                    ...  \n",
       "207058 2020-05-11 09:00:00  \n",
       "207059 2020-05-11 09:00:00  \n",
       "207060 2020-05-11 09:00:00  \n",
       "207061 2020-05-12 09:00:00  \n",
       "207062 2020-05-13 09:00:00  \n",
       "\n",
       "[9266 rows x 16 columns]"
      ]
     },
     "execution_count": 113,
     "metadata": {},
     "output_type": "execute_result"
    }
   ],
   "source": [
    "# To tell them when a transaction will be processed\n",
    "offset = pd.offsets.BusinessHour(start= '09:00')\n",
    "sa_temperatures['Business_day'] = sa_temperatures['date'].apply(lambda x: offset.rollforward(x))\n",
    "sa_temperatures"
   ]
  },
  {
   "cell_type": "markdown",
   "id": "f978c7a4",
   "metadata": {},
   "source": [
    "If it happened to be applied on a Saturday, instead of flipping to the next day the offset looked for the next Monday instead."
   ]
  },
  {
   "cell_type": "code",
   "execution_count": 116,
   "id": "5a900aa2",
   "metadata": {},
   "outputs": [],
   "source": [
    "sa_temperatures['Business_day_name'] = sa_temperatures['Business_day'].dt.day_name()"
   ]
  },
  {
   "cell_type": "code",
   "execution_count": 117,
   "id": "0253c663",
   "metadata": {},
   "outputs": [
    {
     "data": {
      "text/html": [
       "<div>\n",
       "<style scoped>\n",
       "    .dataframe tbody tr th:only-of-type {\n",
       "        vertical-align: middle;\n",
       "    }\n",
       "\n",
       "    .dataframe tbody tr th {\n",
       "        vertical-align: top;\n",
       "    }\n",
       "\n",
       "    .dataframe thead th {\n",
       "        text-align: right;\n",
       "    }\n",
       "</style>\n",
       "<table border=\"1\" class=\"dataframe\">\n",
       "  <thead>\n",
       "    <tr style=\"text-align: right;\">\n",
       "      <th></th>\n",
       "      <th>Region</th>\n",
       "      <th>Country</th>\n",
       "      <th>State</th>\n",
       "      <th>City</th>\n",
       "      <th>AvgTemperature</th>\n",
       "      <th>date</th>\n",
       "      <th>Month</th>\n",
       "      <th>Day</th>\n",
       "      <th>Year</th>\n",
       "      <th>day_of_week</th>\n",
       "      <th>days_of_the_week</th>\n",
       "      <th>date_plus_30_years</th>\n",
       "      <th>How_many_days_ago</th>\n",
       "      <th>How_many_years_ago</th>\n",
       "      <th>date_name</th>\n",
       "      <th>Business_day</th>\n",
       "      <th>Business_day_name</th>\n",
       "    </tr>\n",
       "  </thead>\n",
       "  <tbody>\n",
       "    <tr>\n",
       "      <th>197797</th>\n",
       "      <td>Africa</td>\n",
       "      <td>South Africa</td>\n",
       "      <td>NaN</td>\n",
       "      <td>Capetown</td>\n",
       "      <td>66.8</td>\n",
       "      <td>1995-01-01</td>\n",
       "      <td>1</td>\n",
       "      <td>1</td>\n",
       "      <td>1995</td>\n",
       "      <td>6</td>\n",
       "      <td>Sunday</td>\n",
       "      <td>1995-12-24</td>\n",
       "      <td>10531 days 03:08:57.331239</td>\n",
       "      <td>28.852414</td>\n",
       "      <td>Sunday</td>\n",
       "      <td>1995-01-02 09:00:00</td>\n",
       "      <td>Monday</td>\n",
       "    </tr>\n",
       "    <tr>\n",
       "      <th>197798</th>\n",
       "      <td>Africa</td>\n",
       "      <td>South Africa</td>\n",
       "      <td>NaN</td>\n",
       "      <td>Capetown</td>\n",
       "      <td>67.8</td>\n",
       "      <td>1995-01-02</td>\n",
       "      <td>1</td>\n",
       "      <td>2</td>\n",
       "      <td>1995</td>\n",
       "      <td>0</td>\n",
       "      <td>Monday</td>\n",
       "      <td>1995-12-25</td>\n",
       "      <td>10530 days 03:08:57.331239</td>\n",
       "      <td>28.849675</td>\n",
       "      <td>Monday</td>\n",
       "      <td>1995-01-02 09:00:00</td>\n",
       "      <td>Monday</td>\n",
       "    </tr>\n",
       "    <tr>\n",
       "      <th>197799</th>\n",
       "      <td>Africa</td>\n",
       "      <td>South Africa</td>\n",
       "      <td>NaN</td>\n",
       "      <td>Capetown</td>\n",
       "      <td>66.9</td>\n",
       "      <td>1995-01-03</td>\n",
       "      <td>1</td>\n",
       "      <td>3</td>\n",
       "      <td>1995</td>\n",
       "      <td>1</td>\n",
       "      <td>Tuesday</td>\n",
       "      <td>1995-12-26</td>\n",
       "      <td>10529 days 03:08:57.331239</td>\n",
       "      <td>28.846935</td>\n",
       "      <td>Tuesday</td>\n",
       "      <td>1995-01-03 09:00:00</td>\n",
       "      <td>Tuesday</td>\n",
       "    </tr>\n",
       "    <tr>\n",
       "      <th>197800</th>\n",
       "      <td>Africa</td>\n",
       "      <td>South Africa</td>\n",
       "      <td>NaN</td>\n",
       "      <td>Capetown</td>\n",
       "      <td>69.5</td>\n",
       "      <td>1995-01-04</td>\n",
       "      <td>1</td>\n",
       "      <td>4</td>\n",
       "      <td>1995</td>\n",
       "      <td>2</td>\n",
       "      <td>Wednesday</td>\n",
       "      <td>1995-12-27</td>\n",
       "      <td>10528 days 03:08:57.331239</td>\n",
       "      <td>28.844195</td>\n",
       "      <td>Wednesday</td>\n",
       "      <td>1995-01-04 09:00:00</td>\n",
       "      <td>Wednesday</td>\n",
       "    </tr>\n",
       "    <tr>\n",
       "      <th>197801</th>\n",
       "      <td>Africa</td>\n",
       "      <td>South Africa</td>\n",
       "      <td>NaN</td>\n",
       "      <td>Capetown</td>\n",
       "      <td>70.6</td>\n",
       "      <td>1995-01-05</td>\n",
       "      <td>1</td>\n",
       "      <td>5</td>\n",
       "      <td>1995</td>\n",
       "      <td>3</td>\n",
       "      <td>Thursday</td>\n",
       "      <td>1995-12-28</td>\n",
       "      <td>10527 days 03:08:57.331239</td>\n",
       "      <td>28.841455</td>\n",
       "      <td>Thursday</td>\n",
       "      <td>1995-01-05 09:00:00</td>\n",
       "      <td>Thursday</td>\n",
       "    </tr>\n",
       "    <tr>\n",
       "      <th>...</th>\n",
       "      <td>...</td>\n",
       "      <td>...</td>\n",
       "      <td>...</td>\n",
       "      <td>...</td>\n",
       "      <td>...</td>\n",
       "      <td>...</td>\n",
       "      <td>...</td>\n",
       "      <td>...</td>\n",
       "      <td>...</td>\n",
       "      <td>...</td>\n",
       "      <td>...</td>\n",
       "      <td>...</td>\n",
       "      <td>...</td>\n",
       "      <td>...</td>\n",
       "      <td>...</td>\n",
       "      <td>...</td>\n",
       "      <td>...</td>\n",
       "    </tr>\n",
       "    <tr>\n",
       "      <th>207058</th>\n",
       "      <td>Africa</td>\n",
       "      <td>South Africa</td>\n",
       "      <td>NaN</td>\n",
       "      <td>Capetown</td>\n",
       "      <td>64.0</td>\n",
       "      <td>2020-05-09</td>\n",
       "      <td>5</td>\n",
       "      <td>9</td>\n",
       "      <td>2020</td>\n",
       "      <td>5</td>\n",
       "      <td>Saturday</td>\n",
       "      <td>2021-05-01</td>\n",
       "      <td>1271 days 03:08:57.331239</td>\n",
       "      <td>3.482551</td>\n",
       "      <td>Saturday</td>\n",
       "      <td>2020-05-11 09:00:00</td>\n",
       "      <td>Monday</td>\n",
       "    </tr>\n",
       "    <tr>\n",
       "      <th>207059</th>\n",
       "      <td>Africa</td>\n",
       "      <td>South Africa</td>\n",
       "      <td>NaN</td>\n",
       "      <td>Capetown</td>\n",
       "      <td>59.1</td>\n",
       "      <td>2020-05-10</td>\n",
       "      <td>5</td>\n",
       "      <td>10</td>\n",
       "      <td>2020</td>\n",
       "      <td>6</td>\n",
       "      <td>Sunday</td>\n",
       "      <td>2021-05-02</td>\n",
       "      <td>1270 days 03:08:57.331239</td>\n",
       "      <td>3.479812</td>\n",
       "      <td>Sunday</td>\n",
       "      <td>2020-05-11 09:00:00</td>\n",
       "      <td>Monday</td>\n",
       "    </tr>\n",
       "    <tr>\n",
       "      <th>207060</th>\n",
       "      <td>Africa</td>\n",
       "      <td>South Africa</td>\n",
       "      <td>NaN</td>\n",
       "      <td>Capetown</td>\n",
       "      <td>64.0</td>\n",
       "      <td>2020-05-11</td>\n",
       "      <td>5</td>\n",
       "      <td>11</td>\n",
       "      <td>2020</td>\n",
       "      <td>0</td>\n",
       "      <td>Monday</td>\n",
       "      <td>2021-05-03</td>\n",
       "      <td>1269 days 03:08:57.331239</td>\n",
       "      <td>3.477072</td>\n",
       "      <td>Monday</td>\n",
       "      <td>2020-05-11 09:00:00</td>\n",
       "      <td>Monday</td>\n",
       "    </tr>\n",
       "    <tr>\n",
       "      <th>207061</th>\n",
       "      <td>Africa</td>\n",
       "      <td>South Africa</td>\n",
       "      <td>NaN</td>\n",
       "      <td>Capetown</td>\n",
       "      <td>61.3</td>\n",
       "      <td>2020-05-12</td>\n",
       "      <td>5</td>\n",
       "      <td>12</td>\n",
       "      <td>2020</td>\n",
       "      <td>1</td>\n",
       "      <td>Tuesday</td>\n",
       "      <td>2021-05-04</td>\n",
       "      <td>1268 days 03:08:57.331239</td>\n",
       "      <td>3.474332</td>\n",
       "      <td>Tuesday</td>\n",
       "      <td>2020-05-12 09:00:00</td>\n",
       "      <td>Tuesday</td>\n",
       "    </tr>\n",
       "    <tr>\n",
       "      <th>207062</th>\n",
       "      <td>Africa</td>\n",
       "      <td>South Africa</td>\n",
       "      <td>NaN</td>\n",
       "      <td>Capetown</td>\n",
       "      <td>54.0</td>\n",
       "      <td>2020-05-13</td>\n",
       "      <td>5</td>\n",
       "      <td>13</td>\n",
       "      <td>2020</td>\n",
       "      <td>2</td>\n",
       "      <td>Wednesday</td>\n",
       "      <td>2021-05-05</td>\n",
       "      <td>1267 days 03:08:57.331239</td>\n",
       "      <td>3.471592</td>\n",
       "      <td>Wednesday</td>\n",
       "      <td>2020-05-13 09:00:00</td>\n",
       "      <td>Wednesday</td>\n",
       "    </tr>\n",
       "  </tbody>\n",
       "</table>\n",
       "<p>9266 rows × 17 columns</p>\n",
       "</div>"
      ],
      "text/plain": [
       "        Region       Country State      City  AvgTemperature       date  \\\n",
       "197797  Africa  South Africa   NaN  Capetown            66.8 1995-01-01   \n",
       "197798  Africa  South Africa   NaN  Capetown            67.8 1995-01-02   \n",
       "197799  Africa  South Africa   NaN  Capetown            66.9 1995-01-03   \n",
       "197800  Africa  South Africa   NaN  Capetown            69.5 1995-01-04   \n",
       "197801  Africa  South Africa   NaN  Capetown            70.6 1995-01-05   \n",
       "...        ...           ...   ...       ...             ...        ...   \n",
       "207058  Africa  South Africa   NaN  Capetown            64.0 2020-05-09   \n",
       "207059  Africa  South Africa   NaN  Capetown            59.1 2020-05-10   \n",
       "207060  Africa  South Africa   NaN  Capetown            64.0 2020-05-11   \n",
       "207061  Africa  South Africa   NaN  Capetown            61.3 2020-05-12   \n",
       "207062  Africa  South Africa   NaN  Capetown            54.0 2020-05-13   \n",
       "\n",
       "        Month  Day  Year  day_of_week days_of_the_week date_plus_30_years  \\\n",
       "197797      1    1  1995            6           Sunday         1995-12-24   \n",
       "197798      1    2  1995            0           Monday         1995-12-25   \n",
       "197799      1    3  1995            1          Tuesday         1995-12-26   \n",
       "197800      1    4  1995            2        Wednesday         1995-12-27   \n",
       "197801      1    5  1995            3         Thursday         1995-12-28   \n",
       "...       ...  ...   ...          ...              ...                ...   \n",
       "207058      5    9  2020            5         Saturday         2021-05-01   \n",
       "207059      5   10  2020            6           Sunday         2021-05-02   \n",
       "207060      5   11  2020            0           Monday         2021-05-03   \n",
       "207061      5   12  2020            1          Tuesday         2021-05-04   \n",
       "207062      5   13  2020            2        Wednesday         2021-05-05   \n",
       "\n",
       "                How_many_days_ago  How_many_years_ago  date_name  \\\n",
       "197797 10531 days 03:08:57.331239           28.852414     Sunday   \n",
       "197798 10530 days 03:08:57.331239           28.849675     Monday   \n",
       "197799 10529 days 03:08:57.331239           28.846935    Tuesday   \n",
       "197800 10528 days 03:08:57.331239           28.844195  Wednesday   \n",
       "197801 10527 days 03:08:57.331239           28.841455   Thursday   \n",
       "...                           ...                 ...        ...   \n",
       "207058  1271 days 03:08:57.331239            3.482551   Saturday   \n",
       "207059  1270 days 03:08:57.331239            3.479812     Sunday   \n",
       "207060  1269 days 03:08:57.331239            3.477072     Monday   \n",
       "207061  1268 days 03:08:57.331239            3.474332    Tuesday   \n",
       "207062  1267 days 03:08:57.331239            3.471592  Wednesday   \n",
       "\n",
       "              Business_day Business_day_name  \n",
       "197797 1995-01-02 09:00:00            Monday  \n",
       "197798 1995-01-02 09:00:00            Monday  \n",
       "197799 1995-01-03 09:00:00           Tuesday  \n",
       "197800 1995-01-04 09:00:00         Wednesday  \n",
       "197801 1995-01-05 09:00:00          Thursday  \n",
       "...                    ...               ...  \n",
       "207058 2020-05-11 09:00:00            Monday  \n",
       "207059 2020-05-11 09:00:00            Monday  \n",
       "207060 2020-05-11 09:00:00            Monday  \n",
       "207061 2020-05-12 09:00:00           Tuesday  \n",
       "207062 2020-05-13 09:00:00         Wednesday  \n",
       "\n",
       "[9266 rows x 17 columns]"
      ]
     },
     "execution_count": 117,
     "metadata": {},
     "output_type": "execute_result"
    }
   ],
   "source": [
    "sa_temperatures"
   ]
  },
  {
   "cell_type": "markdown",
   "id": "114c6a53",
   "metadata": {},
   "source": [
    "### Periods\n",
    "- A Period is a certain time period (hour, day, week, month, quarter) represented in a time object.\n",
    "\n",
    "main idea behind it\n",
    "- while a Timestamp represents a certain moment in time, \n",
    "- a Period is used when your data is marked with the object is associated with a periodic recurrence, a timespan that the data is linked to.\n",
    "    - even though it can very well be in such high resolution that it points to a certain second for instance\n",
    "\n",
    "Example:\n",
    "- sales data: \n",
    "    - every time you sell a donut in your shop you make a record of that sale, and the time of the sale (a Timestamp) is associated with each transaction. \n",
    "        - 100 purchases a day are leading to up to 100 different Timestamp. \n",
    "        - sum up your revenue at the end of the day, however, you have the sum of the revenue and the day (the Period) it was realized. \n",
    "        - Next day, next 100 Timestamps for the transactions, but your daily revenue gets only 1 Period mark — no need for specific Timestamp. \n",
    "        - Your daily Periods can be summed up into monthly, quarterly, and yearly Periods as well."
   ]
  },
  {
   "cell_type": "code",
   "execution_count": 118,
   "id": "46015155",
   "metadata": {},
   "outputs": [
    {
     "data": {
      "text/plain": [
       "Timestamp('2023-11-01 04:56:45')"
      ]
     },
     "execution_count": 118,
     "metadata": {},
     "output_type": "execute_result"
    }
   ],
   "source": [
    "trans = '2023-11-01 04:56:45'\n",
    "\n",
    "pd.to_datetime(trans)"
   ]
  },
  {
   "cell_type": "code",
   "execution_count": 119,
   "id": "e3291704",
   "metadata": {},
   "outputs": [
    {
     "data": {
      "text/plain": [
       "Period('2023-11-01 04:00', 'H')"
      ]
     },
     "execution_count": 119,
     "metadata": {},
     "output_type": "execute_result"
    }
   ],
   "source": [
    "pd.Period(trans, freq='H')"
   ]
  },
  {
   "cell_type": "markdown",
   "id": "7d0d542d",
   "metadata": {},
   "source": [
    "Right off the bat, there seems to be no huge difference between a Timestamp and a Period — \n",
    "- the point starts to come through when we start to play with the arithmetics and the methods/attributes associated with Periods. \n",
    "    - The frequency parameter for example plays a huge role in the logic: \n",
    "        - when adding or subtracting to a Period, the amount specified in the frequency parameter will be added"
   ]
  },
  {
   "cell_type": "code",
   "execution_count": 120,
   "id": "b7f7cc31",
   "metadata": {},
   "outputs": [
    {
     "data": {
      "text/plain": [
       "Period('2023-11-01 04:00', '3H')"
      ]
     },
     "execution_count": 120,
     "metadata": {},
     "output_type": "execute_result"
    }
   ],
   "source": [
    "pd.Period(trans, freq='3H')"
   ]
  },
  {
   "cell_type": "code",
   "execution_count": 121,
   "id": "ebb71c39",
   "metadata": {},
   "outputs": [
    {
     "data": {
      "text/plain": [
       "Period('2023-11-01 07:00', '3H')"
      ]
     },
     "execution_count": 121,
     "metadata": {},
     "output_type": "execute_result"
    }
   ],
   "source": [
    "pd.Period(trans,freq='3H') + 1"
   ]
  },
  {
   "cell_type": "markdown",
   "id": "cf7013bb",
   "metadata": {},
   "source": [
    "##### Creating Period ranges are one of the basic use cases I think when working with these objects\n",
    "- the whole point is to have some sort of regular recurrence when using these types"
   ]
  },
  {
   "cell_type": "code",
   "execution_count": 125,
   "id": "e85da5fb",
   "metadata": {},
   "outputs": [
    {
     "data": {
      "text/plain": [
       "PeriodIndex(['2023-11-01 08:00', '2023-11-01 09:00', '2023-11-01 10:00',\n",
       "             '2023-11-01 11:00', '2023-11-01 12:00', '2023-11-01 13:00',\n",
       "             '2023-11-01 14:00', '2023-11-01 15:00', '2023-11-01 16:00',\n",
       "             '2023-11-01 17:00'],\n",
       "            dtype='period[H]', freq='H')"
      ]
     },
     "execution_count": 125,
     "metadata": {},
     "output_type": "execute_result"
    }
   ],
   "source": [
    "pd.period_range(start='2023-11-01 08:00:00', end='2023-11-01 17:00:00', freq='H')"
   ]
  },
  {
   "cell_type": "markdown",
   "id": "05e35de5",
   "metadata": {},
   "source": [
    "##### Creating a Period range where the frequency marks the quarters, the start and end dates:\n",
    "- Periods encompass a given time span, and the object can return the beginning and the end of these timespans. "
   ]
  },
  {
   "cell_type": "code",
   "execution_count": 127,
   "id": "caf4800b",
   "metadata": {},
   "outputs": [],
   "source": [
    "next_Q = pd.period_range(start='2023-04-01', end='2025-03-31', freq='Q')"
   ]
  },
  {
   "cell_type": "code",
   "execution_count": 128,
   "id": "ff186dac",
   "metadata": {},
   "outputs": [
    {
     "data": {
      "text/plain": [
       "DatetimeIndex(['2023-04-01', '2023-07-01', '2023-10-01', '2024-01-01',\n",
       "               '2024-04-01', '2024-07-01', '2024-10-01', '2025-01-01'],\n",
       "              dtype='datetime64[ns]', freq='QS-OCT')"
      ]
     },
     "execution_count": 128,
     "metadata": {},
     "output_type": "execute_result"
    }
   ],
   "source": [
    "next_Q.start_time"
   ]
  },
  {
   "cell_type": "code",
   "execution_count": 129,
   "id": "216f1a2c",
   "metadata": {},
   "outputs": [
    {
     "data": {
      "text/plain": [
       "DatetimeIndex(['2023-06-30 23:59:59.999999999',\n",
       "               '2023-09-30 23:59:59.999999999',\n",
       "               '2023-12-31 23:59:59.999999999',\n",
       "               '2024-03-31 23:59:59.999999999',\n",
       "               '2024-06-30 23:59:59.999999999',\n",
       "               '2024-09-30 23:59:59.999999999',\n",
       "               '2024-12-31 23:59:59.999999999',\n",
       "               '2025-03-31 23:59:59.999999999'],\n",
       "              dtype='datetime64[ns]', freq=None)"
      ]
     },
     "execution_count": 129,
     "metadata": {},
     "output_type": "execute_result"
    }
   ],
   "source": [
    "next_Q.end_time"
   ]
  },
  {
   "cell_type": "markdown",
   "id": "0878568b",
   "metadata": {},
   "source": [
    "##### Convert Timestamps to Periods (and vice versa): Consolidate into Quarter for reporting"
   ]
  },
  {
   "cell_type": "code",
   "execution_count": 130,
   "id": "24b63cf2",
   "metadata": {},
   "outputs": [],
   "source": [
    "sa_temperatures['date_quater_start'] = sa_temperatures['date'].apply(lambda x: pd.Period(x , freq='Q').start_time)"
   ]
  },
  {
   "cell_type": "code",
   "execution_count": 132,
   "id": "038c02f5",
   "metadata": {},
   "outputs": [],
   "source": [
    "sa_temperatures['date_quarter'] = sa_temperatures['date'].apply(lambda x: pd.Period(x, freq='Q'))"
   ]
  },
  {
   "cell_type": "code",
   "execution_count": 133,
   "id": "8d212837",
   "metadata": {},
   "outputs": [
    {
     "data": {
      "text/html": [
       "<div>\n",
       "<style scoped>\n",
       "    .dataframe tbody tr th:only-of-type {\n",
       "        vertical-align: middle;\n",
       "    }\n",
       "\n",
       "    .dataframe tbody tr th {\n",
       "        vertical-align: top;\n",
       "    }\n",
       "\n",
       "    .dataframe thead th {\n",
       "        text-align: right;\n",
       "    }\n",
       "</style>\n",
       "<table border=\"1\" class=\"dataframe\">\n",
       "  <thead>\n",
       "    <tr style=\"text-align: right;\">\n",
       "      <th></th>\n",
       "      <th>Region</th>\n",
       "      <th>Country</th>\n",
       "      <th>State</th>\n",
       "      <th>City</th>\n",
       "      <th>AvgTemperature</th>\n",
       "      <th>date</th>\n",
       "      <th>Month</th>\n",
       "      <th>Day</th>\n",
       "      <th>Year</th>\n",
       "      <th>day_of_week</th>\n",
       "      <th>days_of_the_week</th>\n",
       "      <th>date_plus_30_years</th>\n",
       "      <th>How_many_days_ago</th>\n",
       "      <th>How_many_years_ago</th>\n",
       "      <th>date_name</th>\n",
       "      <th>Business_day</th>\n",
       "      <th>Business_day_name</th>\n",
       "      <th>date_quater_start</th>\n",
       "      <th>date_quarter</th>\n",
       "    </tr>\n",
       "  </thead>\n",
       "  <tbody>\n",
       "    <tr>\n",
       "      <th>197797</th>\n",
       "      <td>Africa</td>\n",
       "      <td>South Africa</td>\n",
       "      <td>NaN</td>\n",
       "      <td>Capetown</td>\n",
       "      <td>66.8</td>\n",
       "      <td>1995-01-01</td>\n",
       "      <td>1</td>\n",
       "      <td>1</td>\n",
       "      <td>1995</td>\n",
       "      <td>6</td>\n",
       "      <td>Sunday</td>\n",
       "      <td>1995-12-24</td>\n",
       "      <td>10531 days 03:08:57.331239</td>\n",
       "      <td>28.852414</td>\n",
       "      <td>Sunday</td>\n",
       "      <td>1995-01-02 09:00:00</td>\n",
       "      <td>Monday</td>\n",
       "      <td>1995-01-01</td>\n",
       "      <td>1995Q1</td>\n",
       "    </tr>\n",
       "    <tr>\n",
       "      <th>197798</th>\n",
       "      <td>Africa</td>\n",
       "      <td>South Africa</td>\n",
       "      <td>NaN</td>\n",
       "      <td>Capetown</td>\n",
       "      <td>67.8</td>\n",
       "      <td>1995-01-02</td>\n",
       "      <td>1</td>\n",
       "      <td>2</td>\n",
       "      <td>1995</td>\n",
       "      <td>0</td>\n",
       "      <td>Monday</td>\n",
       "      <td>1995-12-25</td>\n",
       "      <td>10530 days 03:08:57.331239</td>\n",
       "      <td>28.849675</td>\n",
       "      <td>Monday</td>\n",
       "      <td>1995-01-02 09:00:00</td>\n",
       "      <td>Monday</td>\n",
       "      <td>1995-01-01</td>\n",
       "      <td>1995Q1</td>\n",
       "    </tr>\n",
       "    <tr>\n",
       "      <th>197799</th>\n",
       "      <td>Africa</td>\n",
       "      <td>South Africa</td>\n",
       "      <td>NaN</td>\n",
       "      <td>Capetown</td>\n",
       "      <td>66.9</td>\n",
       "      <td>1995-01-03</td>\n",
       "      <td>1</td>\n",
       "      <td>3</td>\n",
       "      <td>1995</td>\n",
       "      <td>1</td>\n",
       "      <td>Tuesday</td>\n",
       "      <td>1995-12-26</td>\n",
       "      <td>10529 days 03:08:57.331239</td>\n",
       "      <td>28.846935</td>\n",
       "      <td>Tuesday</td>\n",
       "      <td>1995-01-03 09:00:00</td>\n",
       "      <td>Tuesday</td>\n",
       "      <td>1995-01-01</td>\n",
       "      <td>1995Q1</td>\n",
       "    </tr>\n",
       "    <tr>\n",
       "      <th>197800</th>\n",
       "      <td>Africa</td>\n",
       "      <td>South Africa</td>\n",
       "      <td>NaN</td>\n",
       "      <td>Capetown</td>\n",
       "      <td>69.5</td>\n",
       "      <td>1995-01-04</td>\n",
       "      <td>1</td>\n",
       "      <td>4</td>\n",
       "      <td>1995</td>\n",
       "      <td>2</td>\n",
       "      <td>Wednesday</td>\n",
       "      <td>1995-12-27</td>\n",
       "      <td>10528 days 03:08:57.331239</td>\n",
       "      <td>28.844195</td>\n",
       "      <td>Wednesday</td>\n",
       "      <td>1995-01-04 09:00:00</td>\n",
       "      <td>Wednesday</td>\n",
       "      <td>1995-01-01</td>\n",
       "      <td>1995Q1</td>\n",
       "    </tr>\n",
       "    <tr>\n",
       "      <th>197801</th>\n",
       "      <td>Africa</td>\n",
       "      <td>South Africa</td>\n",
       "      <td>NaN</td>\n",
       "      <td>Capetown</td>\n",
       "      <td>70.6</td>\n",
       "      <td>1995-01-05</td>\n",
       "      <td>1</td>\n",
       "      <td>5</td>\n",
       "      <td>1995</td>\n",
       "      <td>3</td>\n",
       "      <td>Thursday</td>\n",
       "      <td>1995-12-28</td>\n",
       "      <td>10527 days 03:08:57.331239</td>\n",
       "      <td>28.841455</td>\n",
       "      <td>Thursday</td>\n",
       "      <td>1995-01-05 09:00:00</td>\n",
       "      <td>Thursday</td>\n",
       "      <td>1995-01-01</td>\n",
       "      <td>1995Q1</td>\n",
       "    </tr>\n",
       "    <tr>\n",
       "      <th>...</th>\n",
       "      <td>...</td>\n",
       "      <td>...</td>\n",
       "      <td>...</td>\n",
       "      <td>...</td>\n",
       "      <td>...</td>\n",
       "      <td>...</td>\n",
       "      <td>...</td>\n",
       "      <td>...</td>\n",
       "      <td>...</td>\n",
       "      <td>...</td>\n",
       "      <td>...</td>\n",
       "      <td>...</td>\n",
       "      <td>...</td>\n",
       "      <td>...</td>\n",
       "      <td>...</td>\n",
       "      <td>...</td>\n",
       "      <td>...</td>\n",
       "      <td>...</td>\n",
       "      <td>...</td>\n",
       "    </tr>\n",
       "    <tr>\n",
       "      <th>207058</th>\n",
       "      <td>Africa</td>\n",
       "      <td>South Africa</td>\n",
       "      <td>NaN</td>\n",
       "      <td>Capetown</td>\n",
       "      <td>64.0</td>\n",
       "      <td>2020-05-09</td>\n",
       "      <td>5</td>\n",
       "      <td>9</td>\n",
       "      <td>2020</td>\n",
       "      <td>5</td>\n",
       "      <td>Saturday</td>\n",
       "      <td>2021-05-01</td>\n",
       "      <td>1271 days 03:08:57.331239</td>\n",
       "      <td>3.482551</td>\n",
       "      <td>Saturday</td>\n",
       "      <td>2020-05-11 09:00:00</td>\n",
       "      <td>Monday</td>\n",
       "      <td>2020-04-01</td>\n",
       "      <td>2020Q2</td>\n",
       "    </tr>\n",
       "    <tr>\n",
       "      <th>207059</th>\n",
       "      <td>Africa</td>\n",
       "      <td>South Africa</td>\n",
       "      <td>NaN</td>\n",
       "      <td>Capetown</td>\n",
       "      <td>59.1</td>\n",
       "      <td>2020-05-10</td>\n",
       "      <td>5</td>\n",
       "      <td>10</td>\n",
       "      <td>2020</td>\n",
       "      <td>6</td>\n",
       "      <td>Sunday</td>\n",
       "      <td>2021-05-02</td>\n",
       "      <td>1270 days 03:08:57.331239</td>\n",
       "      <td>3.479812</td>\n",
       "      <td>Sunday</td>\n",
       "      <td>2020-05-11 09:00:00</td>\n",
       "      <td>Monday</td>\n",
       "      <td>2020-04-01</td>\n",
       "      <td>2020Q2</td>\n",
       "    </tr>\n",
       "    <tr>\n",
       "      <th>207060</th>\n",
       "      <td>Africa</td>\n",
       "      <td>South Africa</td>\n",
       "      <td>NaN</td>\n",
       "      <td>Capetown</td>\n",
       "      <td>64.0</td>\n",
       "      <td>2020-05-11</td>\n",
       "      <td>5</td>\n",
       "      <td>11</td>\n",
       "      <td>2020</td>\n",
       "      <td>0</td>\n",
       "      <td>Monday</td>\n",
       "      <td>2021-05-03</td>\n",
       "      <td>1269 days 03:08:57.331239</td>\n",
       "      <td>3.477072</td>\n",
       "      <td>Monday</td>\n",
       "      <td>2020-05-11 09:00:00</td>\n",
       "      <td>Monday</td>\n",
       "      <td>2020-04-01</td>\n",
       "      <td>2020Q2</td>\n",
       "    </tr>\n",
       "    <tr>\n",
       "      <th>207061</th>\n",
       "      <td>Africa</td>\n",
       "      <td>South Africa</td>\n",
       "      <td>NaN</td>\n",
       "      <td>Capetown</td>\n",
       "      <td>61.3</td>\n",
       "      <td>2020-05-12</td>\n",
       "      <td>5</td>\n",
       "      <td>12</td>\n",
       "      <td>2020</td>\n",
       "      <td>1</td>\n",
       "      <td>Tuesday</td>\n",
       "      <td>2021-05-04</td>\n",
       "      <td>1268 days 03:08:57.331239</td>\n",
       "      <td>3.474332</td>\n",
       "      <td>Tuesday</td>\n",
       "      <td>2020-05-12 09:00:00</td>\n",
       "      <td>Tuesday</td>\n",
       "      <td>2020-04-01</td>\n",
       "      <td>2020Q2</td>\n",
       "    </tr>\n",
       "    <tr>\n",
       "      <th>207062</th>\n",
       "      <td>Africa</td>\n",
       "      <td>South Africa</td>\n",
       "      <td>NaN</td>\n",
       "      <td>Capetown</td>\n",
       "      <td>54.0</td>\n",
       "      <td>2020-05-13</td>\n",
       "      <td>5</td>\n",
       "      <td>13</td>\n",
       "      <td>2020</td>\n",
       "      <td>2</td>\n",
       "      <td>Wednesday</td>\n",
       "      <td>2021-05-05</td>\n",
       "      <td>1267 days 03:08:57.331239</td>\n",
       "      <td>3.471592</td>\n",
       "      <td>Wednesday</td>\n",
       "      <td>2020-05-13 09:00:00</td>\n",
       "      <td>Wednesday</td>\n",
       "      <td>2020-04-01</td>\n",
       "      <td>2020Q2</td>\n",
       "    </tr>\n",
       "  </tbody>\n",
       "</table>\n",
       "<p>9266 rows × 19 columns</p>\n",
       "</div>"
      ],
      "text/plain": [
       "        Region       Country State      City  AvgTemperature       date  \\\n",
       "197797  Africa  South Africa   NaN  Capetown            66.8 1995-01-01   \n",
       "197798  Africa  South Africa   NaN  Capetown            67.8 1995-01-02   \n",
       "197799  Africa  South Africa   NaN  Capetown            66.9 1995-01-03   \n",
       "197800  Africa  South Africa   NaN  Capetown            69.5 1995-01-04   \n",
       "197801  Africa  South Africa   NaN  Capetown            70.6 1995-01-05   \n",
       "...        ...           ...   ...       ...             ...        ...   \n",
       "207058  Africa  South Africa   NaN  Capetown            64.0 2020-05-09   \n",
       "207059  Africa  South Africa   NaN  Capetown            59.1 2020-05-10   \n",
       "207060  Africa  South Africa   NaN  Capetown            64.0 2020-05-11   \n",
       "207061  Africa  South Africa   NaN  Capetown            61.3 2020-05-12   \n",
       "207062  Africa  South Africa   NaN  Capetown            54.0 2020-05-13   \n",
       "\n",
       "        Month  Day  Year  day_of_week days_of_the_week date_plus_30_years  \\\n",
       "197797      1    1  1995            6           Sunday         1995-12-24   \n",
       "197798      1    2  1995            0           Monday         1995-12-25   \n",
       "197799      1    3  1995            1          Tuesday         1995-12-26   \n",
       "197800      1    4  1995            2        Wednesday         1995-12-27   \n",
       "197801      1    5  1995            3         Thursday         1995-12-28   \n",
       "...       ...  ...   ...          ...              ...                ...   \n",
       "207058      5    9  2020            5         Saturday         2021-05-01   \n",
       "207059      5   10  2020            6           Sunday         2021-05-02   \n",
       "207060      5   11  2020            0           Monday         2021-05-03   \n",
       "207061      5   12  2020            1          Tuesday         2021-05-04   \n",
       "207062      5   13  2020            2        Wednesday         2021-05-05   \n",
       "\n",
       "                How_many_days_ago  How_many_years_ago  date_name  \\\n",
       "197797 10531 days 03:08:57.331239           28.852414     Sunday   \n",
       "197798 10530 days 03:08:57.331239           28.849675     Monday   \n",
       "197799 10529 days 03:08:57.331239           28.846935    Tuesday   \n",
       "197800 10528 days 03:08:57.331239           28.844195  Wednesday   \n",
       "197801 10527 days 03:08:57.331239           28.841455   Thursday   \n",
       "...                           ...                 ...        ...   \n",
       "207058  1271 days 03:08:57.331239            3.482551   Saturday   \n",
       "207059  1270 days 03:08:57.331239            3.479812     Sunday   \n",
       "207060  1269 days 03:08:57.331239            3.477072     Monday   \n",
       "207061  1268 days 03:08:57.331239            3.474332    Tuesday   \n",
       "207062  1267 days 03:08:57.331239            3.471592  Wednesday   \n",
       "\n",
       "              Business_day Business_day_name date_quater_start date_quarter  \n",
       "197797 1995-01-02 09:00:00            Monday        1995-01-01       1995Q1  \n",
       "197798 1995-01-02 09:00:00            Monday        1995-01-01       1995Q1  \n",
       "197799 1995-01-03 09:00:00           Tuesday        1995-01-01       1995Q1  \n",
       "197800 1995-01-04 09:00:00         Wednesday        1995-01-01       1995Q1  \n",
       "197801 1995-01-05 09:00:00          Thursday        1995-01-01       1995Q1  \n",
       "...                    ...               ...               ...          ...  \n",
       "207058 2020-05-11 09:00:00            Monday        2020-04-01       2020Q2  \n",
       "207059 2020-05-11 09:00:00            Monday        2020-04-01       2020Q2  \n",
       "207060 2020-05-11 09:00:00            Monday        2020-04-01       2020Q2  \n",
       "207061 2020-05-12 09:00:00           Tuesday        2020-04-01       2020Q2  \n",
       "207062 2020-05-13 09:00:00         Wednesday        2020-04-01       2020Q2  \n",
       "\n",
       "[9266 rows x 19 columns]"
      ]
     },
     "execution_count": 133,
     "metadata": {},
     "output_type": "execute_result"
    }
   ],
   "source": [
    "sa_temperatures"
   ]
  },
  {
   "cell_type": "code",
   "execution_count": null,
   "id": "bd2648cb",
   "metadata": {},
   "outputs": [],
   "source": []
  },
  {
   "cell_type": "markdown",
   "id": "cb33260a",
   "metadata": {},
   "source": [
    "### Lambda Functions on Datetime objects"
   ]
  },
  {
   "cell_type": "markdown",
   "id": "3bfe5881",
   "metadata": {},
   "source": [
    "##### Find the first or last date of the current month or the previous month or the next month with  Lambda functions"
   ]
  },
  {
   "cell_type": "code",
   "execution_count": 54,
   "id": "496e43c6",
   "metadata": {},
   "outputs": [],
   "source": [
    "from datetime import datetime, timedelta"
   ]
  },
  {
   "cell_type": "markdown",
   "id": "d99cf5c7",
   "metadata": {},
   "source": [
    "Current Month: The First day of the Month for a given Date\n",
    "\n",
    "Use thereplace function to change the day to 1st day of the month."
   ]
  },
  {
   "cell_type": "code",
   "execution_count": null,
   "id": "38f2ddb2",
   "metadata": {},
   "outputs": [],
   "source": [
    "# Get First day of the month for a give Date\n",
    "first_day = lambda date: date.replace(day = 1)"
   ]
  },
  {
   "cell_type": "markdown",
   "id": "10d7a9af",
   "metadata": {},
   "source": [
    "Current Month: The Last day of the Month for a given Date\n",
    "\n",
    "- First, it finds the first day of the current month\n",
    "- Move to next month by adding 32 days\n",
    "- Again find the first day of the next month\n",
    "- Move back one day to find the last day of the Month."
   ]
  },
  {
   "cell_type": "code",
   "execution_count": null,
   "id": "d17ec795",
   "metadata": {},
   "outputs": [],
   "source": [
    "# Last day of the month for a given date\n",
    "last_day = lambda date: (date.replace(day=1) + timedelta(days=32)).replace(day=1) + timedelta(days=-1)"
   ]
  },
  {
   "cell_type": "markdown",
   "id": "b6e9cfe3",
   "metadata": {},
   "source": [
    "Alternatively:"
   ]
  },
  {
   "cell_type": "code",
   "execution_count": null,
   "id": "c14c1cef",
   "metadata": {},
   "outputs": [],
   "source": [
    "# Shorter Version\n",
    "last_day = lambda date: first_day(first_day(date) + timedelta(days=32)) + timedelta(days=-1)"
   ]
  },
  {
   "cell_type": "markdown",
   "id": "619a93f6",
   "metadata": {},
   "source": [
    "Previous Month: The Last day of the Previous Month for a given Date"
   ]
  },
  {
   "cell_type": "code",
   "execution_count": null,
   "id": "7816b922",
   "metadata": {},
   "outputs": [],
   "source": [
    "# Get Last day of the Previous Month for a given Date\n",
    "last_day_of_prev_month = lambda date: date.replace(day = 1) + timedelta(days=-1)"
   ]
  },
  {
   "cell_type": "markdown",
   "id": "4cdcff3a",
   "metadata": {},
   "source": [
    "Previous Month: The First day of the Previous Month for a given Date"
   ]
  },
  {
   "cell_type": "code",
   "execution_count": null,
   "id": "aa335fa1",
   "metadata": {},
   "outputs": [],
   "source": [
    "# Get First day of the Previous Month for a give Date\n",
    "first_day_of_prev_month = lambda date: (date.replace(day = 1) + timedelta(days=-1)).replace(day = 1)"
   ]
  },
  {
   "cell_type": "code",
   "execution_count": null,
   "id": "9aa61418",
   "metadata": {},
   "outputs": [],
   "source": [
    "# Shorter Version\n",
    "first_day_of_prev_month = lambda date: first_day(last_day_of_prev_month(date))"
   ]
  },
  {
   "cell_type": "markdown",
   "id": "6c388a65",
   "metadata": {},
   "source": [
    "Next Month: The First day of the Next Month for a given Date"
   ]
  },
  {
   "cell_type": "code",
   "execution_count": null,
   "id": "c9f0b563",
   "metadata": {},
   "outputs": [],
   "source": [
    "# Get First day of the next month\n",
    "first_day_of_next_month = lambda date: (date.replace(day=1) + timedelta(days=32)).replace(day=1)"
   ]
  },
  {
   "cell_type": "markdown",
   "id": "f73827f4",
   "metadata": {},
   "source": [
    "Next Month: The Last day of the Next Month for a given Date"
   ]
  },
  {
   "cell_type": "code",
   "execution_count": null,
   "id": "116eb9f3",
   "metadata": {},
   "outputs": [],
   "source": [
    "# Last Day of the next month\n",
    "last_day_of_next_month = lambda date: (date.replace(day = 1) + timedelta(days = 63)).replace(day=1) + timedelta(days=-1)"
   ]
  },
  {
   "cell_type": "code",
   "execution_count": null,
   "id": "3ca91b11",
   "metadata": {},
   "outputs": [],
   "source": [
    "# Shorter Version\n",
    "last_day_of_next_month = lambda date: last_day(first_day_of_next_month(date))"
   ]
  },
  {
   "cell_type": "markdown",
   "id": "e61984f2",
   "metadata": {},
   "source": [
    "# Pandas Module\n",
    "\n",
    "### Working with datetime objects in pandas.\n",
    "\n",
    "Similar to the datetime module, pandas also has \n",
    "- datetime and \n",
    "- timedelta objects with similar functionality to that of the datetime module.\n",
    "\n",
    "convert datetime and duration strings into pandas Datetime objects using the following functions:\n",
    "- to_datetime() — converts dates and times in string format to Python datetime objects.\n",
    "- to_timedelta() — used for measuring duration.\n",
    "\n",
    "These functions do a great job at converting strings to Python datetime as they detect the date’s format automatically, without requiring us to define it as we did for strptime().\n",
    "\n",
    "Pandas is still able to correctly parse the string and return a datetime object."
   ]
  },
  {
   "cell_type": "code",
   "execution_count": 1,
   "id": "63cf6545",
   "metadata": {},
   "outputs": [
    {
     "data": {
      "text/plain": [
       "Timestamp('2020-10-04 00:00:00')"
      ]
     },
     "execution_count": 1,
     "metadata": {},
     "output_type": "execute_result"
    }
   ],
   "source": [
    "# import pandas \n",
    "import pandas as pd\n",
    "# create date object \n",
    "date2 = pd.to_datetime(\"4th of oct, 2020\")\n",
    "date2"
   ]
  },
  {
   "cell_type": "markdown",
   "id": "b118325b",
   "metadata": {},
   "source": [
    "### Extracting Individual Components in Pandas\n",
    "\n",
    "To extract the month, hour, or minute from a date and store it as a new column inside a pandas dataframe. \n",
    "Do this using dt attributes.\n",
    "\n",
    "Use df['date'].dt.month to extract the month from a pandas column that includes the full date and store it inside a new column.\n",
    "\n",
    "Use df['date'].dt.weekday to extract the number of the day, with \n",
    "- 0 representing Monday\n",
    "- 1 represnting Tuesday\n",
    "- 2 representing Wednesday\n",
    "\n",
    "To extract the name of the weekday straight away, we can conveniently use df['date'].dt.weekday_name"
   ]
  },
  {
   "cell_type": "markdown",
   "id": "618c0187",
   "metadata": {},
   "source": [
    "### Working with Dates in Pandas DataFrame"
   ]
  },
  {
   "cell_type": "code",
   "execution_count": 2,
   "id": "34872d6d",
   "metadata": {},
   "outputs": [
    {
     "name": "stderr",
     "output_type": "stream",
     "text": [
      "C:\\Users\\Siphamandla Mandindi\\anaconda3\\lib\\site-packages\\IPython\\core\\interactiveshell.py:3165: DtypeWarning: Columns (2) have mixed types.Specify dtype option on import or set low_memory=False.\n",
      "  has_raised = await self.run_ast_nodes(code_ast.body, cell_name,\n"
     ]
    }
   ],
   "source": [
    "import pandas as pd\n",
    "\n",
    "# Read City Temperatures from a `csv` file\n",
    "city_temperatures = pd.read_csv('city_temperature.csv')\n",
    "\n",
    "# As this dataset it too big, so we will be working with one country \n",
    "# (This step is optional)\n",
    "sa_temperatures = city_temperatures[city_temperatures.Country == 'South Africa']"
   ]
  },
  {
   "cell_type": "code",
   "execution_count": 3,
   "id": "2be14bb6",
   "metadata": {},
   "outputs": [
    {
     "data": {
      "text/html": [
       "<div>\n",
       "<style scoped>\n",
       "    .dataframe tbody tr th:only-of-type {\n",
       "        vertical-align: middle;\n",
       "    }\n",
       "\n",
       "    .dataframe tbody tr th {\n",
       "        vertical-align: top;\n",
       "    }\n",
       "\n",
       "    .dataframe thead th {\n",
       "        text-align: right;\n",
       "    }\n",
       "</style>\n",
       "<table border=\"1\" class=\"dataframe\">\n",
       "  <thead>\n",
       "    <tr style=\"text-align: right;\">\n",
       "      <th></th>\n",
       "      <th>Region</th>\n",
       "      <th>Country</th>\n",
       "      <th>State</th>\n",
       "      <th>City</th>\n",
       "      <th>Month</th>\n",
       "      <th>Day</th>\n",
       "      <th>Year</th>\n",
       "      <th>AvgTemperature</th>\n",
       "    </tr>\n",
       "  </thead>\n",
       "  <tbody>\n",
       "    <tr>\n",
       "      <th>197797</th>\n",
       "      <td>Africa</td>\n",
       "      <td>South Africa</td>\n",
       "      <td>NaN</td>\n",
       "      <td>Capetown</td>\n",
       "      <td>1</td>\n",
       "      <td>1</td>\n",
       "      <td>1995</td>\n",
       "      <td>66.8</td>\n",
       "    </tr>\n",
       "    <tr>\n",
       "      <th>197798</th>\n",
       "      <td>Africa</td>\n",
       "      <td>South Africa</td>\n",
       "      <td>NaN</td>\n",
       "      <td>Capetown</td>\n",
       "      <td>1</td>\n",
       "      <td>2</td>\n",
       "      <td>1995</td>\n",
       "      <td>67.8</td>\n",
       "    </tr>\n",
       "    <tr>\n",
       "      <th>197799</th>\n",
       "      <td>Africa</td>\n",
       "      <td>South Africa</td>\n",
       "      <td>NaN</td>\n",
       "      <td>Capetown</td>\n",
       "      <td>1</td>\n",
       "      <td>3</td>\n",
       "      <td>1995</td>\n",
       "      <td>66.9</td>\n",
       "    </tr>\n",
       "    <tr>\n",
       "      <th>197800</th>\n",
       "      <td>Africa</td>\n",
       "      <td>South Africa</td>\n",
       "      <td>NaN</td>\n",
       "      <td>Capetown</td>\n",
       "      <td>1</td>\n",
       "      <td>4</td>\n",
       "      <td>1995</td>\n",
       "      <td>69.5</td>\n",
       "    </tr>\n",
       "    <tr>\n",
       "      <th>197801</th>\n",
       "      <td>Africa</td>\n",
       "      <td>South Africa</td>\n",
       "      <td>NaN</td>\n",
       "      <td>Capetown</td>\n",
       "      <td>1</td>\n",
       "      <td>5</td>\n",
       "      <td>1995</td>\n",
       "      <td>70.6</td>\n",
       "    </tr>\n",
       "    <tr>\n",
       "      <th>...</th>\n",
       "      <td>...</td>\n",
       "      <td>...</td>\n",
       "      <td>...</td>\n",
       "      <td>...</td>\n",
       "      <td>...</td>\n",
       "      <td>...</td>\n",
       "      <td>...</td>\n",
       "      <td>...</td>\n",
       "    </tr>\n",
       "    <tr>\n",
       "      <th>207058</th>\n",
       "      <td>Africa</td>\n",
       "      <td>South Africa</td>\n",
       "      <td>NaN</td>\n",
       "      <td>Capetown</td>\n",
       "      <td>5</td>\n",
       "      <td>9</td>\n",
       "      <td>2020</td>\n",
       "      <td>64.0</td>\n",
       "    </tr>\n",
       "    <tr>\n",
       "      <th>207059</th>\n",
       "      <td>Africa</td>\n",
       "      <td>South Africa</td>\n",
       "      <td>NaN</td>\n",
       "      <td>Capetown</td>\n",
       "      <td>5</td>\n",
       "      <td>10</td>\n",
       "      <td>2020</td>\n",
       "      <td>59.1</td>\n",
       "    </tr>\n",
       "    <tr>\n",
       "      <th>207060</th>\n",
       "      <td>Africa</td>\n",
       "      <td>South Africa</td>\n",
       "      <td>NaN</td>\n",
       "      <td>Capetown</td>\n",
       "      <td>5</td>\n",
       "      <td>11</td>\n",
       "      <td>2020</td>\n",
       "      <td>64.0</td>\n",
       "    </tr>\n",
       "    <tr>\n",
       "      <th>207061</th>\n",
       "      <td>Africa</td>\n",
       "      <td>South Africa</td>\n",
       "      <td>NaN</td>\n",
       "      <td>Capetown</td>\n",
       "      <td>5</td>\n",
       "      <td>12</td>\n",
       "      <td>2020</td>\n",
       "      <td>61.3</td>\n",
       "    </tr>\n",
       "    <tr>\n",
       "      <th>207062</th>\n",
       "      <td>Africa</td>\n",
       "      <td>South Africa</td>\n",
       "      <td>NaN</td>\n",
       "      <td>Capetown</td>\n",
       "      <td>5</td>\n",
       "      <td>13</td>\n",
       "      <td>2020</td>\n",
       "      <td>54.0</td>\n",
       "    </tr>\n",
       "  </tbody>\n",
       "</table>\n",
       "<p>9266 rows × 8 columns</p>\n",
       "</div>"
      ],
      "text/plain": [
       "        Region       Country State      City  Month  Day  Year  AvgTemperature\n",
       "197797  Africa  South Africa   NaN  Capetown      1    1  1995            66.8\n",
       "197798  Africa  South Africa   NaN  Capetown      1    2  1995            67.8\n",
       "197799  Africa  South Africa   NaN  Capetown      1    3  1995            66.9\n",
       "197800  Africa  South Africa   NaN  Capetown      1    4  1995            69.5\n",
       "197801  Africa  South Africa   NaN  Capetown      1    5  1995            70.6\n",
       "...        ...           ...   ...       ...    ...  ...   ...             ...\n",
       "207058  Africa  South Africa   NaN  Capetown      5    9  2020            64.0\n",
       "207059  Africa  South Africa   NaN  Capetown      5   10  2020            59.1\n",
       "207060  Africa  South Africa   NaN  Capetown      5   11  2020            64.0\n",
       "207061  Africa  South Africa   NaN  Capetown      5   12  2020            61.3\n",
       "207062  Africa  South Africa   NaN  Capetown      5   13  2020            54.0\n",
       "\n",
       "[9266 rows x 8 columns]"
      ]
     },
     "execution_count": 3,
     "metadata": {},
     "output_type": "execute_result"
    }
   ],
   "source": [
    "sa_temperatures"
   ]
  },
  {
   "cell_type": "code",
   "execution_count": 4,
   "id": "00f2bf4f",
   "metadata": {},
   "outputs": [
    {
     "data": {
      "text/plain": [
       "Capetown    9266\n",
       "Name: City, dtype: int64"
      ]
     },
     "execution_count": 4,
     "metadata": {},
     "output_type": "execute_result"
    }
   ],
   "source": [
    "sa_temperatures['City'].value_counts()"
   ]
  },
  {
   "cell_type": "code",
   "execution_count": 5,
   "id": "c2c13e26",
   "metadata": {},
   "outputs": [
    {
     "data": {
      "text/html": [
       "<div>\n",
       "<style scoped>\n",
       "    .dataframe tbody tr th:only-of-type {\n",
       "        vertical-align: middle;\n",
       "    }\n",
       "\n",
       "    .dataframe tbody tr th {\n",
       "        vertical-align: top;\n",
       "    }\n",
       "\n",
       "    .dataframe thead th {\n",
       "        text-align: right;\n",
       "    }\n",
       "</style>\n",
       "<table border=\"1\" class=\"dataframe\">\n",
       "  <thead>\n",
       "    <tr style=\"text-align: right;\">\n",
       "      <th></th>\n",
       "      <th>Region</th>\n",
       "      <th>Country</th>\n",
       "      <th>State</th>\n",
       "      <th>City</th>\n",
       "      <th>Month</th>\n",
       "      <th>Day</th>\n",
       "      <th>Year</th>\n",
       "      <th>AvgTemperature</th>\n",
       "      <th>date</th>\n",
       "    </tr>\n",
       "  </thead>\n",
       "  <tbody>\n",
       "    <tr>\n",
       "      <th>200622</th>\n",
       "      <td>Africa</td>\n",
       "      <td>South Africa</td>\n",
       "      <td>NaN</td>\n",
       "      <td>Capetown</td>\n",
       "      <td>9</td>\n",
       "      <td>26</td>\n",
       "      <td>2002</td>\n",
       "      <td>59.2</td>\n",
       "      <td>2002-09-26</td>\n",
       "    </tr>\n",
       "    <tr>\n",
       "      <th>205440</th>\n",
       "      <td>Africa</td>\n",
       "      <td>South Africa</td>\n",
       "      <td>NaN</td>\n",
       "      <td>Capetown</td>\n",
       "      <td>12</td>\n",
       "      <td>5</td>\n",
       "      <td>2015</td>\n",
       "      <td>75.4</td>\n",
       "      <td>2015-12-05</td>\n",
       "    </tr>\n",
       "    <tr>\n",
       "      <th>203311</th>\n",
       "      <td>Africa</td>\n",
       "      <td>South Africa</td>\n",
       "      <td>NaN</td>\n",
       "      <td>Capetown</td>\n",
       "      <td>2</td>\n",
       "      <td>5</td>\n",
       "      <td>2010</td>\n",
       "      <td>67.1</td>\n",
       "      <td>2010-02-05</td>\n",
       "    </tr>\n",
       "    <tr>\n",
       "      <th>199776</th>\n",
       "      <td>Africa</td>\n",
       "      <td>South Africa</td>\n",
       "      <td>NaN</td>\n",
       "      <td>Capetown</td>\n",
       "      <td>6</td>\n",
       "      <td>2</td>\n",
       "      <td>2000</td>\n",
       "      <td>60.3</td>\n",
       "      <td>2000-06-02</td>\n",
       "    </tr>\n",
       "    <tr>\n",
       "      <th>204483</th>\n",
       "      <td>Africa</td>\n",
       "      <td>South Africa</td>\n",
       "      <td>NaN</td>\n",
       "      <td>Capetown</td>\n",
       "      <td>4</td>\n",
       "      <td>22</td>\n",
       "      <td>2013</td>\n",
       "      <td>63.3</td>\n",
       "      <td>2013-04-22</td>\n",
       "    </tr>\n",
       "    <tr>\n",
       "      <th>203331</th>\n",
       "      <td>Africa</td>\n",
       "      <td>South Africa</td>\n",
       "      <td>NaN</td>\n",
       "      <td>Capetown</td>\n",
       "      <td>2</td>\n",
       "      <td>25</td>\n",
       "      <td>2010</td>\n",
       "      <td>71.3</td>\n",
       "      <td>2010-02-25</td>\n",
       "    </tr>\n",
       "    <tr>\n",
       "      <th>206953</th>\n",
       "      <td>Africa</td>\n",
       "      <td>South Africa</td>\n",
       "      <td>NaN</td>\n",
       "      <td>Capetown</td>\n",
       "      <td>1</td>\n",
       "      <td>25</td>\n",
       "      <td>2020</td>\n",
       "      <td>66.5</td>\n",
       "      <td>2020-01-25</td>\n",
       "    </tr>\n",
       "    <tr>\n",
       "      <th>199158</th>\n",
       "      <td>Africa</td>\n",
       "      <td>South Africa</td>\n",
       "      <td>NaN</td>\n",
       "      <td>Capetown</td>\n",
       "      <td>9</td>\n",
       "      <td>23</td>\n",
       "      <td>1998</td>\n",
       "      <td>57.6</td>\n",
       "      <td>1998-09-23</td>\n",
       "    </tr>\n",
       "    <tr>\n",
       "      <th>202389</th>\n",
       "      <td>Africa</td>\n",
       "      <td>South Africa</td>\n",
       "      <td>NaN</td>\n",
       "      <td>Capetown</td>\n",
       "      <td>7</td>\n",
       "      <td>29</td>\n",
       "      <td>2007</td>\n",
       "      <td>57.3</td>\n",
       "      <td>2007-07-29</td>\n",
       "    </tr>\n",
       "    <tr>\n",
       "      <th>203727</th>\n",
       "      <td>Africa</td>\n",
       "      <td>South Africa</td>\n",
       "      <td>NaN</td>\n",
       "      <td>Capetown</td>\n",
       "      <td>3</td>\n",
       "      <td>28</td>\n",
       "      <td>2011</td>\n",
       "      <td>65.7</td>\n",
       "      <td>2011-03-28</td>\n",
       "    </tr>\n",
       "  </tbody>\n",
       "</table>\n",
       "</div>"
      ],
      "text/plain": [
       "        Region       Country State      City  Month  Day  Year  \\\n",
       "200622  Africa  South Africa   NaN  Capetown      9   26  2002   \n",
       "205440  Africa  South Africa   NaN  Capetown     12    5  2015   \n",
       "203311  Africa  South Africa   NaN  Capetown      2    5  2010   \n",
       "199776  Africa  South Africa   NaN  Capetown      6    2  2000   \n",
       "204483  Africa  South Africa   NaN  Capetown      4   22  2013   \n",
       "203331  Africa  South Africa   NaN  Capetown      2   25  2010   \n",
       "206953  Africa  South Africa   NaN  Capetown      1   25  2020   \n",
       "199158  Africa  South Africa   NaN  Capetown      9   23  1998   \n",
       "202389  Africa  South Africa   NaN  Capetown      7   29  2007   \n",
       "203727  Africa  South Africa   NaN  Capetown      3   28  2011   \n",
       "\n",
       "        AvgTemperature       date  \n",
       "200622            59.2 2002-09-26  \n",
       "205440            75.4 2015-12-05  \n",
       "203311            67.1 2010-02-05  \n",
       "199776            60.3 2000-06-02  \n",
       "204483            63.3 2013-04-22  \n",
       "203331            71.3 2010-02-25  \n",
       "206953            66.5 2020-01-25  \n",
       "199158            57.6 1998-09-23  \n",
       "202389            57.3 2007-07-29  \n",
       "203727            65.7 2011-03-28  "
      ]
     },
     "execution_count": 5,
     "metadata": {},
     "output_type": "execute_result"
    }
   ],
   "source": [
    "# Create a pandas Series object called `date`\n",
    "date = pd.to_datetime(sa_temperatures[['Year', 'Month', 'Day']])\n",
    "\n",
    "# Add new columns to our dataset with this\n",
    "sa_temperatures.insert(len(sa_temperatures.columns), 'date', date)\n",
    "\n",
    "# See sample\n",
    "sa_temperatures.sample(10)"
   ]
  },
  {
   "cell_type": "code",
   "execution_count": 6,
   "id": "bc8976c9",
   "metadata": {},
   "outputs": [
    {
     "data": {
      "text/html": [
       "<div>\n",
       "<style scoped>\n",
       "    .dataframe tbody tr th:only-of-type {\n",
       "        vertical-align: middle;\n",
       "    }\n",
       "\n",
       "    .dataframe tbody tr th {\n",
       "        vertical-align: top;\n",
       "    }\n",
       "\n",
       "    .dataframe thead th {\n",
       "        text-align: right;\n",
       "    }\n",
       "</style>\n",
       "<table border=\"1\" class=\"dataframe\">\n",
       "  <thead>\n",
       "    <tr style=\"text-align: right;\">\n",
       "      <th></th>\n",
       "      <th>Region</th>\n",
       "      <th>Country</th>\n",
       "      <th>State</th>\n",
       "      <th>City</th>\n",
       "      <th>Month</th>\n",
       "      <th>Day</th>\n",
       "      <th>Year</th>\n",
       "      <th>AvgTemperature</th>\n",
       "      <th>date</th>\n",
       "    </tr>\n",
       "  </thead>\n",
       "  <tbody>\n",
       "    <tr>\n",
       "      <th>197797</th>\n",
       "      <td>Africa</td>\n",
       "      <td>South Africa</td>\n",
       "      <td>NaN</td>\n",
       "      <td>Capetown</td>\n",
       "      <td>1</td>\n",
       "      <td>1</td>\n",
       "      <td>1995</td>\n",
       "      <td>66.8</td>\n",
       "      <td>1995-01-01</td>\n",
       "    </tr>\n",
       "    <tr>\n",
       "      <th>197798</th>\n",
       "      <td>Africa</td>\n",
       "      <td>South Africa</td>\n",
       "      <td>NaN</td>\n",
       "      <td>Capetown</td>\n",
       "      <td>1</td>\n",
       "      <td>2</td>\n",
       "      <td>1995</td>\n",
       "      <td>67.8</td>\n",
       "      <td>1995-01-02</td>\n",
       "    </tr>\n",
       "    <tr>\n",
       "      <th>197799</th>\n",
       "      <td>Africa</td>\n",
       "      <td>South Africa</td>\n",
       "      <td>NaN</td>\n",
       "      <td>Capetown</td>\n",
       "      <td>1</td>\n",
       "      <td>3</td>\n",
       "      <td>1995</td>\n",
       "      <td>66.9</td>\n",
       "      <td>1995-01-03</td>\n",
       "    </tr>\n",
       "    <tr>\n",
       "      <th>197800</th>\n",
       "      <td>Africa</td>\n",
       "      <td>South Africa</td>\n",
       "      <td>NaN</td>\n",
       "      <td>Capetown</td>\n",
       "      <td>1</td>\n",
       "      <td>4</td>\n",
       "      <td>1995</td>\n",
       "      <td>69.5</td>\n",
       "      <td>1995-01-04</td>\n",
       "    </tr>\n",
       "    <tr>\n",
       "      <th>197801</th>\n",
       "      <td>Africa</td>\n",
       "      <td>South Africa</td>\n",
       "      <td>NaN</td>\n",
       "      <td>Capetown</td>\n",
       "      <td>1</td>\n",
       "      <td>5</td>\n",
       "      <td>1995</td>\n",
       "      <td>70.6</td>\n",
       "      <td>1995-01-05</td>\n",
       "    </tr>\n",
       "    <tr>\n",
       "      <th>...</th>\n",
       "      <td>...</td>\n",
       "      <td>...</td>\n",
       "      <td>...</td>\n",
       "      <td>...</td>\n",
       "      <td>...</td>\n",
       "      <td>...</td>\n",
       "      <td>...</td>\n",
       "      <td>...</td>\n",
       "      <td>...</td>\n",
       "    </tr>\n",
       "    <tr>\n",
       "      <th>207058</th>\n",
       "      <td>Africa</td>\n",
       "      <td>South Africa</td>\n",
       "      <td>NaN</td>\n",
       "      <td>Capetown</td>\n",
       "      <td>5</td>\n",
       "      <td>9</td>\n",
       "      <td>2020</td>\n",
       "      <td>64.0</td>\n",
       "      <td>2020-05-09</td>\n",
       "    </tr>\n",
       "    <tr>\n",
       "      <th>207059</th>\n",
       "      <td>Africa</td>\n",
       "      <td>South Africa</td>\n",
       "      <td>NaN</td>\n",
       "      <td>Capetown</td>\n",
       "      <td>5</td>\n",
       "      <td>10</td>\n",
       "      <td>2020</td>\n",
       "      <td>59.1</td>\n",
       "      <td>2020-05-10</td>\n",
       "    </tr>\n",
       "    <tr>\n",
       "      <th>207060</th>\n",
       "      <td>Africa</td>\n",
       "      <td>South Africa</td>\n",
       "      <td>NaN</td>\n",
       "      <td>Capetown</td>\n",
       "      <td>5</td>\n",
       "      <td>11</td>\n",
       "      <td>2020</td>\n",
       "      <td>64.0</td>\n",
       "      <td>2020-05-11</td>\n",
       "    </tr>\n",
       "    <tr>\n",
       "      <th>207061</th>\n",
       "      <td>Africa</td>\n",
       "      <td>South Africa</td>\n",
       "      <td>NaN</td>\n",
       "      <td>Capetown</td>\n",
       "      <td>5</td>\n",
       "      <td>12</td>\n",
       "      <td>2020</td>\n",
       "      <td>61.3</td>\n",
       "      <td>2020-05-12</td>\n",
       "    </tr>\n",
       "    <tr>\n",
       "      <th>207062</th>\n",
       "      <td>Africa</td>\n",
       "      <td>South Africa</td>\n",
       "      <td>NaN</td>\n",
       "      <td>Capetown</td>\n",
       "      <td>5</td>\n",
       "      <td>13</td>\n",
       "      <td>2020</td>\n",
       "      <td>54.0</td>\n",
       "      <td>2020-05-13</td>\n",
       "    </tr>\n",
       "  </tbody>\n",
       "</table>\n",
       "<p>9266 rows × 9 columns</p>\n",
       "</div>"
      ],
      "text/plain": [
       "        Region       Country State      City  Month  Day  Year  \\\n",
       "197797  Africa  South Africa   NaN  Capetown      1    1  1995   \n",
       "197798  Africa  South Africa   NaN  Capetown      1    2  1995   \n",
       "197799  Africa  South Africa   NaN  Capetown      1    3  1995   \n",
       "197800  Africa  South Africa   NaN  Capetown      1    4  1995   \n",
       "197801  Africa  South Africa   NaN  Capetown      1    5  1995   \n",
       "...        ...           ...   ...       ...    ...  ...   ...   \n",
       "207058  Africa  South Africa   NaN  Capetown      5    9  2020   \n",
       "207059  Africa  South Africa   NaN  Capetown      5   10  2020   \n",
       "207060  Africa  South Africa   NaN  Capetown      5   11  2020   \n",
       "207061  Africa  South Africa   NaN  Capetown      5   12  2020   \n",
       "207062  Africa  South Africa   NaN  Capetown      5   13  2020   \n",
       "\n",
       "        AvgTemperature       date  \n",
       "197797            66.8 1995-01-01  \n",
       "197798            67.8 1995-01-02  \n",
       "197799            66.9 1995-01-03  \n",
       "197800            69.5 1995-01-04  \n",
       "197801            70.6 1995-01-05  \n",
       "...                ...        ...  \n",
       "207058            64.0 2020-05-09  \n",
       "207059            59.1 2020-05-10  \n",
       "207060            64.0 2020-05-11  \n",
       "207061            61.3 2020-05-12  \n",
       "207062            54.0 2020-05-13  \n",
       "\n",
       "[9266 rows x 9 columns]"
      ]
     },
     "execution_count": 6,
     "metadata": {},
     "output_type": "execute_result"
    }
   ],
   "source": [
    "sa_temperatures"
   ]
  },
  {
   "cell_type": "code",
   "execution_count": 7,
   "id": "d6343772",
   "metadata": {},
   "outputs": [
    {
     "name": "stdout",
     "output_type": "stream",
     "text": [
      "<class 'pandas.core.frame.DataFrame'>\n",
      "Int64Index: 9266 entries, 197797 to 207062\n",
      "Data columns (total 9 columns):\n",
      " #   Column          Non-Null Count  Dtype         \n",
      "---  ------          --------------  -----         \n",
      " 0   Region          9266 non-null   object        \n",
      " 1   Country         9266 non-null   object        \n",
      " 2   State           0 non-null      object        \n",
      " 3   City            9266 non-null   object        \n",
      " 4   Month           9266 non-null   int64         \n",
      " 5   Day             9266 non-null   int64         \n",
      " 6   Year            9266 non-null   int64         \n",
      " 7   AvgTemperature  9266 non-null   float64       \n",
      " 8   date            9266 non-null   datetime64[ns]\n",
      "dtypes: datetime64[ns](1), float64(1), int64(3), object(4)\n",
      "memory usage: 723.9+ KB\n"
     ]
    }
   ],
   "source": [
    "sa_temperatures.info()"
   ]
  },
  {
   "cell_type": "markdown",
   "id": "67094be7",
   "metadata": {},
   "source": [
    "##### Reverse: From Date to Day, Month, Year"
   ]
  },
  {
   "cell_type": "code",
   "execution_count": 77,
   "id": "c0dec500",
   "metadata": {},
   "outputs": [],
   "source": [
    "# how we can extract values of Month, Day, and Year if we have full date values.\n",
    "\n",
    "# Dropping Month, Day, and Year column\n",
    "sa_temperatures = sa_temperatures.drop(columns=['Month', 'Day', 'Year'])"
   ]
  },
  {
   "cell_type": "code",
   "execution_count": 78,
   "id": "556d9c61",
   "metadata": {},
   "outputs": [
    {
     "data": {
      "text/html": [
       "<div>\n",
       "<style scoped>\n",
       "    .dataframe tbody tr th:only-of-type {\n",
       "        vertical-align: middle;\n",
       "    }\n",
       "\n",
       "    .dataframe tbody tr th {\n",
       "        vertical-align: top;\n",
       "    }\n",
       "\n",
       "    .dataframe thead th {\n",
       "        text-align: right;\n",
       "    }\n",
       "</style>\n",
       "<table border=\"1\" class=\"dataframe\">\n",
       "  <thead>\n",
       "    <tr style=\"text-align: right;\">\n",
       "      <th></th>\n",
       "      <th>Region</th>\n",
       "      <th>Country</th>\n",
       "      <th>State</th>\n",
       "      <th>City</th>\n",
       "      <th>AvgTemperature</th>\n",
       "      <th>date</th>\n",
       "      <th>Month</th>\n",
       "    </tr>\n",
       "  </thead>\n",
       "  <tbody>\n",
       "    <tr>\n",
       "      <th>204141</th>\n",
       "      <td>Africa</td>\n",
       "      <td>South Africa</td>\n",
       "      <td>NaN</td>\n",
       "      <td>Capetown</td>\n",
       "      <td>56.3</td>\n",
       "      <td>2012-05-15</td>\n",
       "      <td>5</td>\n",
       "    </tr>\n",
       "    <tr>\n",
       "      <th>202011</th>\n",
       "      <td>Africa</td>\n",
       "      <td>South Africa</td>\n",
       "      <td>NaN</td>\n",
       "      <td>Capetown</td>\n",
       "      <td>55.3</td>\n",
       "      <td>2006-07-16</td>\n",
       "      <td>7</td>\n",
       "    </tr>\n",
       "    <tr>\n",
       "      <th>205359</th>\n",
       "      <td>Africa</td>\n",
       "      <td>South Africa</td>\n",
       "      <td>NaN</td>\n",
       "      <td>Capetown</td>\n",
       "      <td>59.3</td>\n",
       "      <td>2015-09-15</td>\n",
       "      <td>9</td>\n",
       "    </tr>\n",
       "    <tr>\n",
       "      <th>200073</th>\n",
       "      <td>Africa</td>\n",
       "      <td>South Africa</td>\n",
       "      <td>NaN</td>\n",
       "      <td>Capetown</td>\n",
       "      <td>64.0</td>\n",
       "      <td>2001-03-26</td>\n",
       "      <td>3</td>\n",
       "    </tr>\n",
       "    <tr>\n",
       "      <th>202484</th>\n",
       "      <td>Africa</td>\n",
       "      <td>South Africa</td>\n",
       "      <td>NaN</td>\n",
       "      <td>Capetown</td>\n",
       "      <td>64.1</td>\n",
       "      <td>2007-11-01</td>\n",
       "      <td>11</td>\n",
       "    </tr>\n",
       "    <tr>\n",
       "      <th>198433</th>\n",
       "      <td>Africa</td>\n",
       "      <td>South Africa</td>\n",
       "      <td>NaN</td>\n",
       "      <td>Capetown</td>\n",
       "      <td>57.7</td>\n",
       "      <td>1996-09-28</td>\n",
       "      <td>9</td>\n",
       "    </tr>\n",
       "    <tr>\n",
       "      <th>199729</th>\n",
       "      <td>Africa</td>\n",
       "      <td>South Africa</td>\n",
       "      <td>NaN</td>\n",
       "      <td>Capetown</td>\n",
       "      <td>62.6</td>\n",
       "      <td>2000-04-16</td>\n",
       "      <td>4</td>\n",
       "    </tr>\n",
       "    <tr>\n",
       "      <th>204358</th>\n",
       "      <td>Africa</td>\n",
       "      <td>South Africa</td>\n",
       "      <td>NaN</td>\n",
       "      <td>Capetown</td>\n",
       "      <td>73.5</td>\n",
       "      <td>2012-12-18</td>\n",
       "      <td>12</td>\n",
       "    </tr>\n",
       "    <tr>\n",
       "      <th>199597</th>\n",
       "      <td>Africa</td>\n",
       "      <td>South Africa</td>\n",
       "      <td>NaN</td>\n",
       "      <td>Capetown</td>\n",
       "      <td>65.7</td>\n",
       "      <td>1999-12-06</td>\n",
       "      <td>12</td>\n",
       "    </tr>\n",
       "    <tr>\n",
       "      <th>198612</th>\n",
       "      <td>Africa</td>\n",
       "      <td>South Africa</td>\n",
       "      <td>NaN</td>\n",
       "      <td>Capetown</td>\n",
       "      <td>71.6</td>\n",
       "      <td>1997-03-26</td>\n",
       "      <td>3</td>\n",
       "    </tr>\n",
       "  </tbody>\n",
       "</table>\n",
       "</div>"
      ],
      "text/plain": [
       "        Region       Country State      City  AvgTemperature       date  Month\n",
       "204141  Africa  South Africa   NaN  Capetown            56.3 2012-05-15      5\n",
       "202011  Africa  South Africa   NaN  Capetown            55.3 2006-07-16      7\n",
       "205359  Africa  South Africa   NaN  Capetown            59.3 2015-09-15      9\n",
       "200073  Africa  South Africa   NaN  Capetown            64.0 2001-03-26      3\n",
       "202484  Africa  South Africa   NaN  Capetown            64.1 2007-11-01     11\n",
       "198433  Africa  South Africa   NaN  Capetown            57.7 1996-09-28      9\n",
       "199729  Africa  South Africa   NaN  Capetown            62.6 2000-04-16      4\n",
       "204358  Africa  South Africa   NaN  Capetown            73.5 2012-12-18     12\n",
       "199597  Africa  South Africa   NaN  Capetown            65.7 1999-12-06     12\n",
       "198612  Africa  South Africa   NaN  Capetown            71.6 1997-03-26      3"
      ]
     },
     "execution_count": 78,
     "metadata": {},
     "output_type": "execute_result"
    }
   ],
   "source": [
    "# add back Month, Day, and Year columns using pandas’ magic DateTime property dt\n",
    "# extract many elements from date like day , month , year , day_of_year , day_of_week \n",
    "\n",
    "sa_temperatures['Month'] = sa_temperatures['date'].dt.month\n",
    "sa_temperatures.sample(10)"
   ]
  },
  {
   "cell_type": "code",
   "execution_count": null,
   "id": "6f780014",
   "metadata": {},
   "outputs": [],
   "source": []
  },
  {
   "cell_type": "code",
   "execution_count": 79,
   "id": "c01bbd38",
   "metadata": {},
   "outputs": [
    {
     "data": {
      "text/html": [
       "<div>\n",
       "<style scoped>\n",
       "    .dataframe tbody tr th:only-of-type {\n",
       "        vertical-align: middle;\n",
       "    }\n",
       "\n",
       "    .dataframe tbody tr th {\n",
       "        vertical-align: top;\n",
       "    }\n",
       "\n",
       "    .dataframe thead th {\n",
       "        text-align: right;\n",
       "    }\n",
       "</style>\n",
       "<table border=\"1\" class=\"dataframe\">\n",
       "  <thead>\n",
       "    <tr style=\"text-align: right;\">\n",
       "      <th></th>\n",
       "      <th>Region</th>\n",
       "      <th>Country</th>\n",
       "      <th>State</th>\n",
       "      <th>City</th>\n",
       "      <th>AvgTemperature</th>\n",
       "      <th>date</th>\n",
       "      <th>Month</th>\n",
       "      <th>Day</th>\n",
       "      <th>Year</th>\n",
       "      <th>day_of_week</th>\n",
       "    </tr>\n",
       "  </thead>\n",
       "  <tbody>\n",
       "    <tr>\n",
       "      <th>200212</th>\n",
       "      <td>Africa</td>\n",
       "      <td>South Africa</td>\n",
       "      <td>NaN</td>\n",
       "      <td>Capetown</td>\n",
       "      <td>53.1</td>\n",
       "      <td>2001-08-12</td>\n",
       "      <td>8</td>\n",
       "      <td>12</td>\n",
       "      <td>2001</td>\n",
       "      <td>6</td>\n",
       "    </tr>\n",
       "    <tr>\n",
       "      <th>202507</th>\n",
       "      <td>Africa</td>\n",
       "      <td>South Africa</td>\n",
       "      <td>NaN</td>\n",
       "      <td>Capetown</td>\n",
       "      <td>66.5</td>\n",
       "      <td>2007-11-24</td>\n",
       "      <td>11</td>\n",
       "      <td>24</td>\n",
       "      <td>2007</td>\n",
       "      <td>5</td>\n",
       "    </tr>\n",
       "    <tr>\n",
       "      <th>200977</th>\n",
       "      <td>Africa</td>\n",
       "      <td>South Africa</td>\n",
       "      <td>NaN</td>\n",
       "      <td>Capetown</td>\n",
       "      <td>58.4</td>\n",
       "      <td>2003-09-16</td>\n",
       "      <td>9</td>\n",
       "      <td>16</td>\n",
       "      <td>2003</td>\n",
       "      <td>1</td>\n",
       "    </tr>\n",
       "    <tr>\n",
       "      <th>198025</th>\n",
       "      <td>Africa</td>\n",
       "      <td>South Africa</td>\n",
       "      <td>NaN</td>\n",
       "      <td>Capetown</td>\n",
       "      <td>56.8</td>\n",
       "      <td>1995-08-17</td>\n",
       "      <td>8</td>\n",
       "      <td>17</td>\n",
       "      <td>1995</td>\n",
       "      <td>3</td>\n",
       "    </tr>\n",
       "    <tr>\n",
       "      <th>206490</th>\n",
       "      <td>Africa</td>\n",
       "      <td>South Africa</td>\n",
       "      <td>NaN</td>\n",
       "      <td>Capetown</td>\n",
       "      <td>63.2</td>\n",
       "      <td>2018-10-19</td>\n",
       "      <td>10</td>\n",
       "      <td>19</td>\n",
       "      <td>2018</td>\n",
       "      <td>4</td>\n",
       "    </tr>\n",
       "    <tr>\n",
       "      <th>205584</th>\n",
       "      <td>Africa</td>\n",
       "      <td>South Africa</td>\n",
       "      <td>NaN</td>\n",
       "      <td>Capetown</td>\n",
       "      <td>56.5</td>\n",
       "      <td>2016-04-26</td>\n",
       "      <td>4</td>\n",
       "      <td>26</td>\n",
       "      <td>2016</td>\n",
       "      <td>1</td>\n",
       "    </tr>\n",
       "    <tr>\n",
       "      <th>206718</th>\n",
       "      <td>Africa</td>\n",
       "      <td>South Africa</td>\n",
       "      <td>NaN</td>\n",
       "      <td>Capetown</td>\n",
       "      <td>60.4</td>\n",
       "      <td>2019-06-04</td>\n",
       "      <td>6</td>\n",
       "      <td>4</td>\n",
       "      <td>2019</td>\n",
       "      <td>1</td>\n",
       "    </tr>\n",
       "    <tr>\n",
       "      <th>204451</th>\n",
       "      <td>Africa</td>\n",
       "      <td>South Africa</td>\n",
       "      <td>NaN</td>\n",
       "      <td>Capetown</td>\n",
       "      <td>69.7</td>\n",
       "      <td>2013-03-21</td>\n",
       "      <td>3</td>\n",
       "      <td>21</td>\n",
       "      <td>2013</td>\n",
       "      <td>3</td>\n",
       "    </tr>\n",
       "    <tr>\n",
       "      <th>201893</th>\n",
       "      <td>Africa</td>\n",
       "      <td>South Africa</td>\n",
       "      <td>NaN</td>\n",
       "      <td>Capetown</td>\n",
       "      <td>65.2</td>\n",
       "      <td>2006-03-20</td>\n",
       "      <td>3</td>\n",
       "      <td>20</td>\n",
       "      <td>2006</td>\n",
       "      <td>0</td>\n",
       "    </tr>\n",
       "    <tr>\n",
       "      <th>203047</th>\n",
       "      <td>Africa</td>\n",
       "      <td>South Africa</td>\n",
       "      <td>NaN</td>\n",
       "      <td>Capetown</td>\n",
       "      <td>58.0</td>\n",
       "      <td>2009-05-17</td>\n",
       "      <td>5</td>\n",
       "      <td>17</td>\n",
       "      <td>2009</td>\n",
       "      <td>6</td>\n",
       "    </tr>\n",
       "  </tbody>\n",
       "</table>\n",
       "</div>"
      ],
      "text/plain": [
       "        Region       Country State      City  AvgTemperature       date  \\\n",
       "200212  Africa  South Africa   NaN  Capetown            53.1 2001-08-12   \n",
       "202507  Africa  South Africa   NaN  Capetown            66.5 2007-11-24   \n",
       "200977  Africa  South Africa   NaN  Capetown            58.4 2003-09-16   \n",
       "198025  Africa  South Africa   NaN  Capetown            56.8 1995-08-17   \n",
       "206490  Africa  South Africa   NaN  Capetown            63.2 2018-10-19   \n",
       "205584  Africa  South Africa   NaN  Capetown            56.5 2016-04-26   \n",
       "206718  Africa  South Africa   NaN  Capetown            60.4 2019-06-04   \n",
       "204451  Africa  South Africa   NaN  Capetown            69.7 2013-03-21   \n",
       "201893  Africa  South Africa   NaN  Capetown            65.2 2006-03-20   \n",
       "203047  Africa  South Africa   NaN  Capetown            58.0 2009-05-17   \n",
       "\n",
       "        Month  Day  Year  day_of_week  \n",
       "200212      8   12  2001            6  \n",
       "202507     11   24  2007            5  \n",
       "200977      9   16  2003            1  \n",
       "198025      8   17  1995            3  \n",
       "206490     10   19  2018            4  \n",
       "205584      4   26  2016            1  \n",
       "206718      6    4  2019            1  \n",
       "204451      3   21  2013            3  \n",
       "201893      3   20  2006            0  \n",
       "203047      5   17  2009            6  "
      ]
     },
     "execution_count": 79,
     "metadata": {},
     "output_type": "execute_result"
    }
   ],
   "source": [
    "sa_temperatures['Day'] = sa_temperatures['date'].dt.day\n",
    "sa_temperatures['Year'] = sa_temperatures['date'].dt.year\n",
    "sa_temperatures['day_of_week'] = sa_temperatures['date'].dt.day_of_week\n",
    "sa_temperatures.sample(10)"
   ]
  },
  {
   "cell_type": "code",
   "execution_count": 80,
   "id": "fda7a185",
   "metadata": {},
   "outputs": [],
   "source": [
    "def days_of_the_week(x):\n",
    "    if x == 0:\n",
    "        return \"Monday\"\n",
    "    elif x == 1:\n",
    "        return \"Tuesday\"\n",
    "    elif x == 2:\n",
    "        return \"Wednesday\"\n",
    "    elif x == 3:\n",
    "        return \"Thursday\"\n",
    "    elif x == 4:\n",
    "        return \"Friday\"\n",
    "    elif x == 5:\n",
    "        return \"Saturday\"\n",
    "    else:\n",
    "        return \"Sunday\""
   ]
  },
  {
   "cell_type": "code",
   "execution_count": 81,
   "id": "c2a4e761",
   "metadata": {},
   "outputs": [],
   "source": [
    "sa_temperatures['days_of_the_week'] = sa_temperatures['day_of_week'].apply(lambda v: days_of_the_week(v))"
   ]
  },
  {
   "cell_type": "code",
   "execution_count": 82,
   "id": "9ba3bc9c",
   "metadata": {},
   "outputs": [
    {
     "data": {
      "text/html": [
       "<div>\n",
       "<style scoped>\n",
       "    .dataframe tbody tr th:only-of-type {\n",
       "        vertical-align: middle;\n",
       "    }\n",
       "\n",
       "    .dataframe tbody tr th {\n",
       "        vertical-align: top;\n",
       "    }\n",
       "\n",
       "    .dataframe thead th {\n",
       "        text-align: right;\n",
       "    }\n",
       "</style>\n",
       "<table border=\"1\" class=\"dataframe\">\n",
       "  <thead>\n",
       "    <tr style=\"text-align: right;\">\n",
       "      <th></th>\n",
       "      <th>Region</th>\n",
       "      <th>Country</th>\n",
       "      <th>State</th>\n",
       "      <th>City</th>\n",
       "      <th>AvgTemperature</th>\n",
       "      <th>date</th>\n",
       "      <th>Month</th>\n",
       "      <th>Day</th>\n",
       "      <th>Year</th>\n",
       "      <th>day_of_week</th>\n",
       "      <th>days_of_the_week</th>\n",
       "    </tr>\n",
       "  </thead>\n",
       "  <tbody>\n",
       "    <tr>\n",
       "      <th>197797</th>\n",
       "      <td>Africa</td>\n",
       "      <td>South Africa</td>\n",
       "      <td>NaN</td>\n",
       "      <td>Capetown</td>\n",
       "      <td>66.8</td>\n",
       "      <td>1995-01-01</td>\n",
       "      <td>1</td>\n",
       "      <td>1</td>\n",
       "      <td>1995</td>\n",
       "      <td>6</td>\n",
       "      <td>Sunday</td>\n",
       "    </tr>\n",
       "    <tr>\n",
       "      <th>197798</th>\n",
       "      <td>Africa</td>\n",
       "      <td>South Africa</td>\n",
       "      <td>NaN</td>\n",
       "      <td>Capetown</td>\n",
       "      <td>67.8</td>\n",
       "      <td>1995-01-02</td>\n",
       "      <td>1</td>\n",
       "      <td>2</td>\n",
       "      <td>1995</td>\n",
       "      <td>0</td>\n",
       "      <td>Monday</td>\n",
       "    </tr>\n",
       "    <tr>\n",
       "      <th>197799</th>\n",
       "      <td>Africa</td>\n",
       "      <td>South Africa</td>\n",
       "      <td>NaN</td>\n",
       "      <td>Capetown</td>\n",
       "      <td>66.9</td>\n",
       "      <td>1995-01-03</td>\n",
       "      <td>1</td>\n",
       "      <td>3</td>\n",
       "      <td>1995</td>\n",
       "      <td>1</td>\n",
       "      <td>Tuesday</td>\n",
       "    </tr>\n",
       "    <tr>\n",
       "      <th>197800</th>\n",
       "      <td>Africa</td>\n",
       "      <td>South Africa</td>\n",
       "      <td>NaN</td>\n",
       "      <td>Capetown</td>\n",
       "      <td>69.5</td>\n",
       "      <td>1995-01-04</td>\n",
       "      <td>1</td>\n",
       "      <td>4</td>\n",
       "      <td>1995</td>\n",
       "      <td>2</td>\n",
       "      <td>Wednesday</td>\n",
       "    </tr>\n",
       "    <tr>\n",
       "      <th>197801</th>\n",
       "      <td>Africa</td>\n",
       "      <td>South Africa</td>\n",
       "      <td>NaN</td>\n",
       "      <td>Capetown</td>\n",
       "      <td>70.6</td>\n",
       "      <td>1995-01-05</td>\n",
       "      <td>1</td>\n",
       "      <td>5</td>\n",
       "      <td>1995</td>\n",
       "      <td>3</td>\n",
       "      <td>Thursday</td>\n",
       "    </tr>\n",
       "    <tr>\n",
       "      <th>...</th>\n",
       "      <td>...</td>\n",
       "      <td>...</td>\n",
       "      <td>...</td>\n",
       "      <td>...</td>\n",
       "      <td>...</td>\n",
       "      <td>...</td>\n",
       "      <td>...</td>\n",
       "      <td>...</td>\n",
       "      <td>...</td>\n",
       "      <td>...</td>\n",
       "      <td>...</td>\n",
       "    </tr>\n",
       "    <tr>\n",
       "      <th>207058</th>\n",
       "      <td>Africa</td>\n",
       "      <td>South Africa</td>\n",
       "      <td>NaN</td>\n",
       "      <td>Capetown</td>\n",
       "      <td>64.0</td>\n",
       "      <td>2020-05-09</td>\n",
       "      <td>5</td>\n",
       "      <td>9</td>\n",
       "      <td>2020</td>\n",
       "      <td>5</td>\n",
       "      <td>Saturday</td>\n",
       "    </tr>\n",
       "    <tr>\n",
       "      <th>207059</th>\n",
       "      <td>Africa</td>\n",
       "      <td>South Africa</td>\n",
       "      <td>NaN</td>\n",
       "      <td>Capetown</td>\n",
       "      <td>59.1</td>\n",
       "      <td>2020-05-10</td>\n",
       "      <td>5</td>\n",
       "      <td>10</td>\n",
       "      <td>2020</td>\n",
       "      <td>6</td>\n",
       "      <td>Sunday</td>\n",
       "    </tr>\n",
       "    <tr>\n",
       "      <th>207060</th>\n",
       "      <td>Africa</td>\n",
       "      <td>South Africa</td>\n",
       "      <td>NaN</td>\n",
       "      <td>Capetown</td>\n",
       "      <td>64.0</td>\n",
       "      <td>2020-05-11</td>\n",
       "      <td>5</td>\n",
       "      <td>11</td>\n",
       "      <td>2020</td>\n",
       "      <td>0</td>\n",
       "      <td>Monday</td>\n",
       "    </tr>\n",
       "    <tr>\n",
       "      <th>207061</th>\n",
       "      <td>Africa</td>\n",
       "      <td>South Africa</td>\n",
       "      <td>NaN</td>\n",
       "      <td>Capetown</td>\n",
       "      <td>61.3</td>\n",
       "      <td>2020-05-12</td>\n",
       "      <td>5</td>\n",
       "      <td>12</td>\n",
       "      <td>2020</td>\n",
       "      <td>1</td>\n",
       "      <td>Tuesday</td>\n",
       "    </tr>\n",
       "    <tr>\n",
       "      <th>207062</th>\n",
       "      <td>Africa</td>\n",
       "      <td>South Africa</td>\n",
       "      <td>NaN</td>\n",
       "      <td>Capetown</td>\n",
       "      <td>54.0</td>\n",
       "      <td>2020-05-13</td>\n",
       "      <td>5</td>\n",
       "      <td>13</td>\n",
       "      <td>2020</td>\n",
       "      <td>2</td>\n",
       "      <td>Wednesday</td>\n",
       "    </tr>\n",
       "  </tbody>\n",
       "</table>\n",
       "<p>9266 rows × 11 columns</p>\n",
       "</div>"
      ],
      "text/plain": [
       "        Region       Country State      City  AvgTemperature       date  \\\n",
       "197797  Africa  South Africa   NaN  Capetown            66.8 1995-01-01   \n",
       "197798  Africa  South Africa   NaN  Capetown            67.8 1995-01-02   \n",
       "197799  Africa  South Africa   NaN  Capetown            66.9 1995-01-03   \n",
       "197800  Africa  South Africa   NaN  Capetown            69.5 1995-01-04   \n",
       "197801  Africa  South Africa   NaN  Capetown            70.6 1995-01-05   \n",
       "...        ...           ...   ...       ...             ...        ...   \n",
       "207058  Africa  South Africa   NaN  Capetown            64.0 2020-05-09   \n",
       "207059  Africa  South Africa   NaN  Capetown            59.1 2020-05-10   \n",
       "207060  Africa  South Africa   NaN  Capetown            64.0 2020-05-11   \n",
       "207061  Africa  South Africa   NaN  Capetown            61.3 2020-05-12   \n",
       "207062  Africa  South Africa   NaN  Capetown            54.0 2020-05-13   \n",
       "\n",
       "        Month  Day  Year  day_of_week days_of_the_week  \n",
       "197797      1    1  1995            6           Sunday  \n",
       "197798      1    2  1995            0           Monday  \n",
       "197799      1    3  1995            1          Tuesday  \n",
       "197800      1    4  1995            2        Wednesday  \n",
       "197801      1    5  1995            3         Thursday  \n",
       "...       ...  ...   ...          ...              ...  \n",
       "207058      5    9  2020            5         Saturday  \n",
       "207059      5   10  2020            6           Sunday  \n",
       "207060      5   11  2020            0           Monday  \n",
       "207061      5   12  2020            1          Tuesday  \n",
       "207062      5   13  2020            2        Wednesday  \n",
       "\n",
       "[9266 rows x 11 columns]"
      ]
     },
     "execution_count": 82,
     "metadata": {},
     "output_type": "execute_result"
    }
   ],
   "source": [
    "sa_temperatures"
   ]
  },
  {
   "cell_type": "code",
   "execution_count": 197,
   "id": "b3842b1b",
   "metadata": {},
   "outputs": [
    {
     "data": {
      "text/html": [
       "<div>\n",
       "<style scoped>\n",
       "    .dataframe tbody tr th:only-of-type {\n",
       "        vertical-align: middle;\n",
       "    }\n",
       "\n",
       "    .dataframe tbody tr th {\n",
       "        vertical-align: top;\n",
       "    }\n",
       "\n",
       "    .dataframe thead th {\n",
       "        text-align: right;\n",
       "    }\n",
       "</style>\n",
       "<table border=\"1\" class=\"dataframe\">\n",
       "  <thead>\n",
       "    <tr style=\"text-align: right;\">\n",
       "      <th></th>\n",
       "      <th>Region</th>\n",
       "      <th>Country</th>\n",
       "      <th>State</th>\n",
       "      <th>City</th>\n",
       "      <th>AvgTemperature</th>\n",
       "      <th>date</th>\n",
       "      <th>Month</th>\n",
       "      <th>Day</th>\n",
       "      <th>Year</th>\n",
       "      <th>day_of_week</th>\n",
       "      <th>days_of_the_week</th>\n",
       "      <th>date_plus_30_years</th>\n",
       "      <th>How_many_days_ago</th>\n",
       "      <th>How_many_years_ago</th>\n",
       "      <th>date_name</th>\n",
       "      <th>Business_day</th>\n",
       "      <th>Business_day_name</th>\n",
       "      <th>date_quater_start</th>\n",
       "      <th>date_quarter</th>\n",
       "    </tr>\n",
       "  </thead>\n",
       "  <tbody>\n",
       "    <tr>\n",
       "      <th>197797</th>\n",
       "      <td>Africa</td>\n",
       "      <td>South Africa</td>\n",
       "      <td>NaN</td>\n",
       "      <td>Capetown</td>\n",
       "      <td>66.8</td>\n",
       "      <td>1995-01-01</td>\n",
       "      <td>1</td>\n",
       "      <td>1</td>\n",
       "      <td>1995</td>\n",
       "      <td>6</td>\n",
       "      <td>Sunday</td>\n",
       "      <td>1995-12-24</td>\n",
       "      <td>10531 days 03:08:57.331239</td>\n",
       "      <td>28.852414</td>\n",
       "      <td>Sunday</td>\n",
       "      <td>1995-01-02 09:00:00</td>\n",
       "      <td>Monday</td>\n",
       "      <td>1995-01-01</td>\n",
       "      <td>1995Q1</td>\n",
       "    </tr>\n",
       "    <tr>\n",
       "      <th>197798</th>\n",
       "      <td>Africa</td>\n",
       "      <td>South Africa</td>\n",
       "      <td>NaN</td>\n",
       "      <td>Capetown</td>\n",
       "      <td>67.8</td>\n",
       "      <td>1995-01-02</td>\n",
       "      <td>1</td>\n",
       "      <td>2</td>\n",
       "      <td>1995</td>\n",
       "      <td>0</td>\n",
       "      <td>Monday</td>\n",
       "      <td>1995-12-25</td>\n",
       "      <td>10530 days 03:08:57.331239</td>\n",
       "      <td>28.849675</td>\n",
       "      <td>Monday</td>\n",
       "      <td>1995-01-02 09:00:00</td>\n",
       "      <td>Monday</td>\n",
       "      <td>1995-01-01</td>\n",
       "      <td>1995Q1</td>\n",
       "    </tr>\n",
       "    <tr>\n",
       "      <th>197799</th>\n",
       "      <td>Africa</td>\n",
       "      <td>South Africa</td>\n",
       "      <td>NaN</td>\n",
       "      <td>Capetown</td>\n",
       "      <td>66.9</td>\n",
       "      <td>1995-01-03</td>\n",
       "      <td>1</td>\n",
       "      <td>3</td>\n",
       "      <td>1995</td>\n",
       "      <td>1</td>\n",
       "      <td>Tuesday</td>\n",
       "      <td>1995-12-26</td>\n",
       "      <td>10529 days 03:08:57.331239</td>\n",
       "      <td>28.846935</td>\n",
       "      <td>Tuesday</td>\n",
       "      <td>1995-01-03 09:00:00</td>\n",
       "      <td>Tuesday</td>\n",
       "      <td>1995-01-01</td>\n",
       "      <td>1995Q1</td>\n",
       "    </tr>\n",
       "    <tr>\n",
       "      <th>197800</th>\n",
       "      <td>Africa</td>\n",
       "      <td>South Africa</td>\n",
       "      <td>NaN</td>\n",
       "      <td>Capetown</td>\n",
       "      <td>69.5</td>\n",
       "      <td>1995-01-04</td>\n",
       "      <td>1</td>\n",
       "      <td>4</td>\n",
       "      <td>1995</td>\n",
       "      <td>2</td>\n",
       "      <td>Wednesday</td>\n",
       "      <td>1995-12-27</td>\n",
       "      <td>10528 days 03:08:57.331239</td>\n",
       "      <td>28.844195</td>\n",
       "      <td>Wednesday</td>\n",
       "      <td>1995-01-04 09:00:00</td>\n",
       "      <td>Wednesday</td>\n",
       "      <td>1995-01-01</td>\n",
       "      <td>1995Q1</td>\n",
       "    </tr>\n",
       "    <tr>\n",
       "      <th>197801</th>\n",
       "      <td>Africa</td>\n",
       "      <td>South Africa</td>\n",
       "      <td>NaN</td>\n",
       "      <td>Capetown</td>\n",
       "      <td>70.6</td>\n",
       "      <td>1995-01-05</td>\n",
       "      <td>1</td>\n",
       "      <td>5</td>\n",
       "      <td>1995</td>\n",
       "      <td>3</td>\n",
       "      <td>Thursday</td>\n",
       "      <td>1995-12-28</td>\n",
       "      <td>10527 days 03:08:57.331239</td>\n",
       "      <td>28.841455</td>\n",
       "      <td>Thursday</td>\n",
       "      <td>1995-01-05 09:00:00</td>\n",
       "      <td>Thursday</td>\n",
       "      <td>1995-01-01</td>\n",
       "      <td>1995Q1</td>\n",
       "    </tr>\n",
       "    <tr>\n",
       "      <th>...</th>\n",
       "      <td>...</td>\n",
       "      <td>...</td>\n",
       "      <td>...</td>\n",
       "      <td>...</td>\n",
       "      <td>...</td>\n",
       "      <td>...</td>\n",
       "      <td>...</td>\n",
       "      <td>...</td>\n",
       "      <td>...</td>\n",
       "      <td>...</td>\n",
       "      <td>...</td>\n",
       "      <td>...</td>\n",
       "      <td>...</td>\n",
       "      <td>...</td>\n",
       "      <td>...</td>\n",
       "      <td>...</td>\n",
       "      <td>...</td>\n",
       "      <td>...</td>\n",
       "      <td>...</td>\n",
       "    </tr>\n",
       "    <tr>\n",
       "      <th>207058</th>\n",
       "      <td>Africa</td>\n",
       "      <td>South Africa</td>\n",
       "      <td>NaN</td>\n",
       "      <td>Capetown</td>\n",
       "      <td>64.0</td>\n",
       "      <td>2020-05-09</td>\n",
       "      <td>5</td>\n",
       "      <td>9</td>\n",
       "      <td>2020</td>\n",
       "      <td>5</td>\n",
       "      <td>Saturday</td>\n",
       "      <td>2021-05-01</td>\n",
       "      <td>1271 days 03:08:57.331239</td>\n",
       "      <td>3.482551</td>\n",
       "      <td>Saturday</td>\n",
       "      <td>2020-05-11 09:00:00</td>\n",
       "      <td>Monday</td>\n",
       "      <td>2020-04-01</td>\n",
       "      <td>2020Q2</td>\n",
       "    </tr>\n",
       "    <tr>\n",
       "      <th>207059</th>\n",
       "      <td>Africa</td>\n",
       "      <td>South Africa</td>\n",
       "      <td>NaN</td>\n",
       "      <td>Capetown</td>\n",
       "      <td>59.1</td>\n",
       "      <td>2020-05-10</td>\n",
       "      <td>5</td>\n",
       "      <td>10</td>\n",
       "      <td>2020</td>\n",
       "      <td>6</td>\n",
       "      <td>Sunday</td>\n",
       "      <td>2021-05-02</td>\n",
       "      <td>1270 days 03:08:57.331239</td>\n",
       "      <td>3.479812</td>\n",
       "      <td>Sunday</td>\n",
       "      <td>2020-05-11 09:00:00</td>\n",
       "      <td>Monday</td>\n",
       "      <td>2020-04-01</td>\n",
       "      <td>2020Q2</td>\n",
       "    </tr>\n",
       "    <tr>\n",
       "      <th>207060</th>\n",
       "      <td>Africa</td>\n",
       "      <td>South Africa</td>\n",
       "      <td>NaN</td>\n",
       "      <td>Capetown</td>\n",
       "      <td>64.0</td>\n",
       "      <td>2020-05-11</td>\n",
       "      <td>5</td>\n",
       "      <td>11</td>\n",
       "      <td>2020</td>\n",
       "      <td>0</td>\n",
       "      <td>Monday</td>\n",
       "      <td>2021-05-03</td>\n",
       "      <td>1269 days 03:08:57.331239</td>\n",
       "      <td>3.477072</td>\n",
       "      <td>Monday</td>\n",
       "      <td>2020-05-11 09:00:00</td>\n",
       "      <td>Monday</td>\n",
       "      <td>2020-04-01</td>\n",
       "      <td>2020Q2</td>\n",
       "    </tr>\n",
       "    <tr>\n",
       "      <th>207061</th>\n",
       "      <td>Africa</td>\n",
       "      <td>South Africa</td>\n",
       "      <td>NaN</td>\n",
       "      <td>Capetown</td>\n",
       "      <td>61.3</td>\n",
       "      <td>2020-05-12</td>\n",
       "      <td>5</td>\n",
       "      <td>12</td>\n",
       "      <td>2020</td>\n",
       "      <td>1</td>\n",
       "      <td>Tuesday</td>\n",
       "      <td>2021-05-04</td>\n",
       "      <td>1268 days 03:08:57.331239</td>\n",
       "      <td>3.474332</td>\n",
       "      <td>Tuesday</td>\n",
       "      <td>2020-05-12 09:00:00</td>\n",
       "      <td>Tuesday</td>\n",
       "      <td>2020-04-01</td>\n",
       "      <td>2020Q2</td>\n",
       "    </tr>\n",
       "    <tr>\n",
       "      <th>207062</th>\n",
       "      <td>Africa</td>\n",
       "      <td>South Africa</td>\n",
       "      <td>NaN</td>\n",
       "      <td>Capetown</td>\n",
       "      <td>54.0</td>\n",
       "      <td>2020-05-13</td>\n",
       "      <td>5</td>\n",
       "      <td>13</td>\n",
       "      <td>2020</td>\n",
       "      <td>2</td>\n",
       "      <td>Wednesday</td>\n",
       "      <td>2021-05-05</td>\n",
       "      <td>1267 days 03:08:57.331239</td>\n",
       "      <td>3.471592</td>\n",
       "      <td>Wednesday</td>\n",
       "      <td>2020-05-13 09:00:00</td>\n",
       "      <td>Wednesday</td>\n",
       "      <td>2020-04-01</td>\n",
       "      <td>2020Q2</td>\n",
       "    </tr>\n",
       "  </tbody>\n",
       "</table>\n",
       "<p>9266 rows × 19 columns</p>\n",
       "</div>"
      ],
      "text/plain": [
       "        Region       Country State      City  AvgTemperature       date  \\\n",
       "197797  Africa  South Africa   NaN  Capetown            66.8 1995-01-01   \n",
       "197798  Africa  South Africa   NaN  Capetown            67.8 1995-01-02   \n",
       "197799  Africa  South Africa   NaN  Capetown            66.9 1995-01-03   \n",
       "197800  Africa  South Africa   NaN  Capetown            69.5 1995-01-04   \n",
       "197801  Africa  South Africa   NaN  Capetown            70.6 1995-01-05   \n",
       "...        ...           ...   ...       ...             ...        ...   \n",
       "207058  Africa  South Africa   NaN  Capetown            64.0 2020-05-09   \n",
       "207059  Africa  South Africa   NaN  Capetown            59.1 2020-05-10   \n",
       "207060  Africa  South Africa   NaN  Capetown            64.0 2020-05-11   \n",
       "207061  Africa  South Africa   NaN  Capetown            61.3 2020-05-12   \n",
       "207062  Africa  South Africa   NaN  Capetown            54.0 2020-05-13   \n",
       "\n",
       "        Month  Day  Year  day_of_week days_of_the_week date_plus_30_years  \\\n",
       "197797      1    1  1995            6           Sunday         1995-12-24   \n",
       "197798      1    2  1995            0           Monday         1995-12-25   \n",
       "197799      1    3  1995            1          Tuesday         1995-12-26   \n",
       "197800      1    4  1995            2        Wednesday         1995-12-27   \n",
       "197801      1    5  1995            3         Thursday         1995-12-28   \n",
       "...       ...  ...   ...          ...              ...                ...   \n",
       "207058      5    9  2020            5         Saturday         2021-05-01   \n",
       "207059      5   10  2020            6           Sunday         2021-05-02   \n",
       "207060      5   11  2020            0           Monday         2021-05-03   \n",
       "207061      5   12  2020            1          Tuesday         2021-05-04   \n",
       "207062      5   13  2020            2        Wednesday         2021-05-05   \n",
       "\n",
       "                How_many_days_ago  How_many_years_ago  date_name  \\\n",
       "197797 10531 days 03:08:57.331239           28.852414     Sunday   \n",
       "197798 10530 days 03:08:57.331239           28.849675     Monday   \n",
       "197799 10529 days 03:08:57.331239           28.846935    Tuesday   \n",
       "197800 10528 days 03:08:57.331239           28.844195  Wednesday   \n",
       "197801 10527 days 03:08:57.331239           28.841455   Thursday   \n",
       "...                           ...                 ...        ...   \n",
       "207058  1271 days 03:08:57.331239            3.482551   Saturday   \n",
       "207059  1270 days 03:08:57.331239            3.479812     Sunday   \n",
       "207060  1269 days 03:08:57.331239            3.477072     Monday   \n",
       "207061  1268 days 03:08:57.331239            3.474332    Tuesday   \n",
       "207062  1267 days 03:08:57.331239            3.471592  Wednesday   \n",
       "\n",
       "              Business_day Business_day_name date_quater_start date_quarter  \n",
       "197797 1995-01-02 09:00:00            Monday        1995-01-01       1995Q1  \n",
       "197798 1995-01-02 09:00:00            Monday        1995-01-01       1995Q1  \n",
       "197799 1995-01-03 09:00:00           Tuesday        1995-01-01       1995Q1  \n",
       "197800 1995-01-04 09:00:00         Wednesday        1995-01-01       1995Q1  \n",
       "197801 1995-01-05 09:00:00          Thursday        1995-01-01       1995Q1  \n",
       "...                    ...               ...               ...          ...  \n",
       "207058 2020-05-11 09:00:00            Monday        2020-04-01       2020Q2  \n",
       "207059 2020-05-11 09:00:00            Monday        2020-04-01       2020Q2  \n",
       "207060 2020-05-11 09:00:00            Monday        2020-04-01       2020Q2  \n",
       "207061 2020-05-12 09:00:00           Tuesday        2020-04-01       2020Q2  \n",
       "207062 2020-05-13 09:00:00         Wednesday        2020-04-01       2020Q2  \n",
       "\n",
       "[9266 rows x 19 columns]"
      ]
     },
     "execution_count": 197,
     "metadata": {},
     "output_type": "execute_result"
    }
   ],
   "source": [
    "sa_temperatures"
   ]
  },
  {
   "cell_type": "code",
   "execution_count": 196,
   "id": "44d68432",
   "metadata": {},
   "outputs": [
    {
     "name": "stdout",
     "output_type": "stream",
     "text": [
      "<class 'pandas.core.frame.DataFrame'>\n",
      "Int64Index: 9266 entries, 197797 to 207062\n",
      "Data columns (total 19 columns):\n",
      " #   Column              Non-Null Count  Dtype          \n",
      "---  ------              --------------  -----          \n",
      " 0   Region              9266 non-null   object         \n",
      " 1   Country             9266 non-null   object         \n",
      " 2   State               0 non-null      object         \n",
      " 3   City                9266 non-null   object         \n",
      " 4   AvgTemperature      9266 non-null   float64        \n",
      " 5   date                9266 non-null   datetime64[ns] \n",
      " 6   Month               9266 non-null   int64          \n",
      " 7   Day                 9266 non-null   int64          \n",
      " 8   Year                9266 non-null   int64          \n",
      " 9   day_of_week         9266 non-null   int64          \n",
      " 10  days_of_the_week    9266 non-null   object         \n",
      " 11  date_plus_30_years  9266 non-null   datetime64[ns] \n",
      " 12  How_many_days_ago   9266 non-null   timedelta64[ns]\n",
      " 13  How_many_years_ago  9266 non-null   float64        \n",
      " 14  date_name           9266 non-null   object         \n",
      " 15  Business_day        9266 non-null   datetime64[ns] \n",
      " 16  Business_day_name   9266 non-null   object         \n",
      " 17  date_quater_start   9266 non-null   datetime64[ns] \n",
      " 18  date_quarter        9266 non-null   period[Q-DEC]  \n",
      "dtypes: datetime64[ns](4), float64(2), int64(4), object(7), period[Q-DEC](1), timedelta64[ns](1)\n",
      "memory usage: 1.4+ MB\n"
     ]
    }
   ],
   "source": [
    "sa_temperatures.info()"
   ]
  },
  {
   "cell_type": "markdown",
   "id": "a2dad125",
   "metadata": {},
   "source": [
    "### Specify date columns as DateTime objects\n",
    "- Pandas to treat columns as DateTime parsing dates\n",
    "\n",
    "This will change the type of the columns datetime64."
   ]
  },
  {
   "cell_type": "code",
   "execution_count": null,
   "id": "340f1e83",
   "metadata": {},
   "outputs": [],
   "source": [
    "df = pd.read_csv('capital-onebike.csv',parse_dates=['col date','col2 date'])"
   ]
  },
  {
   "cell_type": "code",
   "execution_count": null,
   "id": "fa2f40ee",
   "metadata": {},
   "outputs": [],
   "source": [
    "df['date_col']=pd.to_datetime(df['date_col'],format='%Y-%m-%d %H:%M:%S')"
   ]
  },
  {
   "cell_type": "markdown",
   "id": "aaa61f3a",
   "metadata": {},
   "source": [
    "pandas has a pd.read_excel(), pd.read_json(), and even a pd.read_clipboard() function to read tabular data that you've copied from a document or website? Most have date parsing functionality"
   ]
  },
  {
   "cell_type": "markdown",
   "id": "5e24cf8b",
   "metadata": {},
   "source": [
    "##### Calculate Duration time in seconds"
   ]
  },
  {
   "cell_type": "code",
   "execution_count": null,
   "id": "2386000e",
   "metadata": {},
   "outputs": [],
   "source": [
    "df['cal_col']=df['End date']-df['Start date']\n",
    "df['cal_col_in-secs']=(bike['End date']-bike['Start date']).dt.total_seconds()"
   ]
  },
  {
   "cell_type": "markdown",
   "id": "66aa82ba",
   "metadata": {},
   "source": [
    "##### Calculate How many days bike out of the station?"
   ]
  },
  {
   "cell_type": "code",
   "execution_count": null,
   "id": "3cf170b8",
   "metadata": {},
   "outputs": [],
   "source": [
    "bike['Start date'].max()-bike['Start date'].min()"
   ]
  },
  {
   "cell_type": "code",
   "execution_count": null,
   "id": "b19fa565",
   "metadata": {},
   "outputs": [],
   "source": [
    "bike.duration_time.sum()/timedelta(days=91)"
   ]
  },
  {
   "cell_type": "markdown",
   "id": "b2f4355e",
   "metadata": {},
   "source": [
    "##### Group_by Member type and duration"
   ]
  },
  {
   "cell_type": "code",
   "execution_count": null,
   "id": "f690a66a",
   "metadata": {},
   "outputs": [],
   "source": [
    "bike.groupby('Member type')['duration_second'].mean()"
   ]
  },
  {
   "cell_type": "markdown",
   "id": "488d3f3f",
   "metadata": {},
   "source": [
    "count values with groupby(‘column’).size(). Or\n",
    "\n",
    "call groupby(‘column’).first() for the first row of each column\n",
    "\n",
    "##### Group by time\n",
    "Group by time with pandas resample. \n",
    "Notice that resample() method can only be used with DateTime or timestamp objects. \n",
    "- ‘M’ is for months, \n",
    "- ‘Y’ is years, \n",
    "- ‘D’ is days."
   ]
  },
  {
   "cell_type": "code",
   "execution_count": null,
   "id": "44f988c2",
   "metadata": {},
   "outputs": [],
   "source": [
    "bike.resample('M',on='Start date')['duration_second'].mean()"
   ]
  },
  {
   "cell_type": "markdown",
   "id": "266ecd93",
   "metadata": {},
   "source": [
    "##### Calculate How many joy rides?"
   ]
  },
  {
   "cell_type": "code",
   "execution_count": null,
   "id": "5c2e55ee",
   "metadata": {},
   "outputs": [],
   "source": [
    "# Create joyrides\n",
    "joyrides = (bike['Start station'] == bike['End station'])\n",
    "# Total number of joyrides\n",
    "print(\"{} rides were joyrides\".format(joyrides.sum()))\n",
    "# Median of all rides\n",
    "print(\"The median duration overall was {:.2f} seconds\".format(bike['duration_second'].median()))\n",
    "# Median of joyrides\n",
    "print(\"The median duration for joyrides was {:.2f} seconds\".format(bike[joyrides]['duration_second'].median()))"
   ]
  },
  {
   "cell_type": "markdown",
   "id": "62f77252",
   "metadata": {},
   "source": [
    "##### Do members and casual riders drop off at the same rate over October to December, or does one drop off faster than the other?"
   ]
  },
  {
   "cell_type": "code",
   "execution_count": null,
   "id": "327bc15a",
   "metadata": {},
   "outputs": [],
   "source": [
    "# Resample rides to be monthly on the basis of Start date\n",
    "monthly_rides = bike.resample('M', on = 'Start date')['Member type']\n",
    "# Take the ratio of the .value_counts() over the total number of rides\n",
    "print(monthly_rides.value_counts() / monthly_rides.size())"
   ]
  },
  {
   "cell_type": "markdown",
   "id": "c7278794",
   "metadata": {},
   "source": [
    "##### Figure out if keeping Member rides only would be enough to stabilize the numbers of users throughout the fall"
   ]
  },
  {
   "cell_type": "code",
   "execution_count": null,
   "id": "896d959c",
   "metadata": {},
   "outputs": [],
   "source": [
    "# Group rides by member type, and resample to the month\n",
    "grouped = bike.groupby('Member type').resample('M', on = 'Start date')\n",
    "# Print the median duration for each group\n",
    "print(grouped['duration_second'].median())"
   ]
  },
  {
   "cell_type": "markdown",
   "id": "4e56fc73",
   "metadata": {},
   "source": [
    "##### How long per day?"
   ]
  },
  {
   "cell_type": "code",
   "execution_count": null,
   "id": "bde27788",
   "metadata": {},
   "outputs": [],
   "source": [
    "# Add a column for the weekday of the start of the ride\n",
    "bike['Ride start weekday'] = bike['Start date'].dt.strftime('%A')\n",
    "# Print the median trip time per weekday\n",
    "print(bike.groupby('Ride start weekday')['duration_second'].median())"
   ]
  },
  {
   "cell_type": "markdown",
   "id": "b8368611",
   "metadata": {},
   "source": [
    "##### How much time elapsed between rides?"
   ]
  },
  {
   "cell_type": "code",
   "execution_count": null,
   "id": "6ebc1509",
   "metadata": {},
   "outputs": [],
   "source": [
    "# Shift the index of the end date up one; now subract it from the start date\n",
    "bike['Time since'] = bike['Start date'] — (bike['End date'].shift(1))\n",
    "# Move from a timedelta to a number of seconds, which is easier to work with\n",
    "bike['Time since'] = bike['Time since'].dt.total_seconds()\n",
    "# Resample to the month\n",
    "monthly = bike.resample('M', on = 'Start date')\n",
    "# Print the average hours between rides each month\n",
    "print(monthly['Time since'].mean()/(60*60))"
   ]
  },
  {
   "cell_type": "markdown",
   "id": "b3193800",
   "metadata": {},
   "source": [
    "# Data Manipulation in Pandas\n",
    "\n",
    "* Time series data contains data points attached to sequential timestamps.\n",
    "    * Stock prices over time\n",
    "    * Daily, weekly, monthly sales\n",
    "    * Periodic measurements in a process\n",
    "    * Power or gas consumption rates over time\n",
    "* Pandas is a great library for working on dates and times. It provides numerous functions for the process of analyzing and manipulating time series data."
   ]
  },
  {
   "cell_type": "code",
   "execution_count": 1,
   "id": "ef68ec61",
   "metadata": {},
   "outputs": [
    {
     "data": {
      "text/html": [
       "<div>\n",
       "<style scoped>\n",
       "    .dataframe tbody tr th:only-of-type {\n",
       "        vertical-align: middle;\n",
       "    }\n",
       "\n",
       "    .dataframe tbody tr th {\n",
       "        vertical-align: top;\n",
       "    }\n",
       "\n",
       "    .dataframe thead th {\n",
       "        text-align: right;\n",
       "    }\n",
       "</style>\n",
       "<table border=\"1\" class=\"dataframe\">\n",
       "  <thead>\n",
       "    <tr style=\"text-align: right;\">\n",
       "      <th></th>\n",
       "      <th>purchase_date</th>\n",
       "      <th>sold_date</th>\n",
       "      <th>qty</th>\n",
       "    </tr>\n",
       "  </thead>\n",
       "  <tbody>\n",
       "    <tr>\n",
       "      <th>0</th>\n",
       "      <td>2021-05-31 00:00:00</td>\n",
       "      <td>2021-07-15</td>\n",
       "      <td>316</td>\n",
       "    </tr>\n",
       "    <tr>\n",
       "      <th>1</th>\n",
       "      <td>2021-06-30 07:00:00</td>\n",
       "      <td>2022-01-12</td>\n",
       "      <td>495</td>\n",
       "    </tr>\n",
       "    <tr>\n",
       "      <th>2</th>\n",
       "      <td>2021-07-30 13:00:00</td>\n",
       "      <td>2021-09-14</td>\n",
       "      <td>312</td>\n",
       "    </tr>\n",
       "    <tr>\n",
       "      <th>3</th>\n",
       "      <td>2021-08-31 13:00:00</td>\n",
       "      <td>2022-02-05</td>\n",
       "      <td>416</td>\n",
       "    </tr>\n",
       "    <tr>\n",
       "      <th>4</th>\n",
       "      <td>2021-09-28 07:00:00</td>\n",
       "      <td>2021-12-30</td>\n",
       "      <td>349</td>\n",
       "    </tr>\n",
       "  </tbody>\n",
       "</table>\n",
       "</div>"
      ],
      "text/plain": [
       "         purchase_date   sold_date  qty\n",
       "0  2021-05-31 00:00:00  2021-07-15  316\n",
       "1  2021-06-30 07:00:00  2022-01-12  495\n",
       "2  2021-07-30 13:00:00  2021-09-14  312\n",
       "3  2021-08-31 13:00:00  2022-02-05  416\n",
       "4  2021-09-28 07:00:00  2021-12-30  349"
      ]
     },
     "execution_count": 1,
     "metadata": {},
     "output_type": "execute_result"
    }
   ],
   "source": [
    "import pandas as pd\n",
    "\n",
    "df_sales = pd.read_csv(\"C:/Users/Siphamandla Mandindi/Documents/Explore_Data_Science/Sprint_3_Python_for_DS/500_exercises_to_master_pandas-main/Data/sales.csv\")\n",
    "\n",
    "df_sales.head()"
   ]
  },
  {
   "cell_type": "code",
   "execution_count": 2,
   "id": "3d1d0cbc",
   "metadata": {},
   "outputs": [
    {
     "data": {
      "text/plain": [
       "purchase_date    object\n",
       "sold_date        object\n",
       "qty               int64\n",
       "dtype: object"
      ]
     },
     "execution_count": 2,
     "metadata": {},
     "output_type": "execute_result"
    }
   ],
   "source": [
    "df_sales.dtypes"
   ]
  },
  {
   "cell_type": "code",
   "execution_count": 3,
   "id": "396e92c0",
   "metadata": {},
   "outputs": [
    {
     "data": {
      "text/plain": [
       "purchase_date    datetime64[ns]\n",
       "sold_date        datetime64[ns]\n",
       "qty                       int64\n",
       "dtype: object"
      ]
     },
     "execution_count": 3,
     "metadata": {},
     "output_type": "execute_result"
    }
   ],
   "source": [
    "df_sales = df_sales.astype{\"purchase_date\": \"datetime64[ns]\",\n",
    "                            \"sold_date\": \"datetime64[ns]\"})\n",
    "\n",
    "df_sales.dtypes"
   ]
  },
  {
   "cell_type": "markdown",
   "id": "652d1347",
   "metadata": {},
   "source": [
    "## Exercise 1: Day\n",
    "\n",
    "* Date manipulation functions are available via the `.dt` accessor."
   ]
  },
  {
   "cell_type": "code",
   "execution_count": 4,
   "id": "1ecd7b4f",
   "metadata": {},
   "outputs": [
    {
     "data": {
      "text/plain": [
       "0    15\n",
       "1    12\n",
       "2    14\n",
       "3     5\n",
       "4    30\n",
       "Name: sold_date, dtype: int64"
      ]
     },
     "execution_count": 4,
     "metadata": {},
     "output_type": "execute_result"
    }
   ],
   "source": [
    "df_sales[\"sold_date\"].dt.day"
   ]
  },
  {
   "cell_type": "markdown",
   "id": "9f304387",
   "metadata": {},
   "source": [
    "## Exercise 2: Month"
   ]
  },
  {
   "cell_type": "code",
   "execution_count": 6,
   "id": "645c75bf",
   "metadata": {},
   "outputs": [
    {
     "data": {
      "text/plain": [
       "0     7\n",
       "1     1\n",
       "2     9\n",
       "3     2\n",
       "4    12\n",
       "Name: sold_date, dtype: int64"
      ]
     },
     "execution_count": 6,
     "metadata": {},
     "output_type": "execute_result"
    }
   ],
   "source": [
    "# method 1\n",
    "\n",
    "df_sales[\"sold_date\"].dt.month"
   ]
  },
  {
   "cell_type": "markdown",
   "id": "58fc2dd1",
   "metadata": {},
   "source": [
    "## Exercise 3: Year"
   ]
  },
  {
   "cell_type": "code",
   "execution_count": 5,
   "id": "3be30cf8",
   "metadata": {},
   "outputs": [
    {
     "data": {
      "text/plain": [
       "0    2021\n",
       "1    2022\n",
       "2    2021\n",
       "3    2022\n",
       "4    2021\n",
       "Name: sold_date, dtype: int64"
      ]
     },
     "execution_count": 5,
     "metadata": {},
     "output_type": "execute_result"
    }
   ],
   "source": [
    "df_sales[\"sold_date\"].dt.year"
   ]
  },
  {
   "cell_type": "markdown",
   "id": "47912f09",
   "metadata": {},
   "source": [
    "## Exercise 4: Converting to Periods datatype\n",
    "\n",
    "- This data type represents fixed durations such as \n",
    "    - month, \n",
    "    - quarter, and \n",
    "    - year. \n",
    "- it is similar to timedelta but the durations are fixed.\n",
    "    - a `period[M]` data type can take the value of 2022-01 but cannot be 1 month or 2 months."
   ]
  },
  {
   "cell_type": "code",
   "execution_count": 8,
   "id": "8e3109e3",
   "metadata": {},
   "outputs": [
    {
     "data": {
      "text/plain": [
       "0    2021-07\n",
       "1    2022-01\n",
       "2    2021-09\n",
       "3    2022-02\n",
       "4    2021-12\n",
       "Name: sold_date, dtype: period[M]"
      ]
     },
     "execution_count": 8,
     "metadata": {},
     "output_type": "execute_result"
    }
   ],
   "source": [
    "df_sales[\"sold_date\"].dt.to_period(\"M\")"
   ]
  },
  {
   "cell_type": "code",
   "execution_count": 9,
   "id": "5a14d395",
   "metadata": {},
   "outputs": [
    {
     "data": {
      "text/html": [
       "<div>\n",
       "<style scoped>\n",
       "    .dataframe tbody tr th:only-of-type {\n",
       "        vertical-align: middle;\n",
       "    }\n",
       "\n",
       "    .dataframe tbody tr th {\n",
       "        vertical-align: top;\n",
       "    }\n",
       "\n",
       "    .dataframe thead th {\n",
       "        text-align: right;\n",
       "    }\n",
       "</style>\n",
       "<table border=\"1\" class=\"dataframe\">\n",
       "  <thead>\n",
       "    <tr style=\"text-align: right;\">\n",
       "      <th></th>\n",
       "      <th>purchase_date</th>\n",
       "      <th>sold_date</th>\n",
       "      <th>qty</th>\n",
       "      <th>sold_month</th>\n",
       "    </tr>\n",
       "  </thead>\n",
       "  <tbody>\n",
       "    <tr>\n",
       "      <th>0</th>\n",
       "      <td>2021-05-31 00:00:00</td>\n",
       "      <td>2021-07-15</td>\n",
       "      <td>316</td>\n",
       "      <td>2021-07</td>\n",
       "    </tr>\n",
       "    <tr>\n",
       "      <th>1</th>\n",
       "      <td>2021-06-30 07:00:00</td>\n",
       "      <td>2022-01-12</td>\n",
       "      <td>495</td>\n",
       "      <td>2022-01</td>\n",
       "    </tr>\n",
       "    <tr>\n",
       "      <th>2</th>\n",
       "      <td>2021-07-30 13:00:00</td>\n",
       "      <td>2021-09-14</td>\n",
       "      <td>312</td>\n",
       "      <td>2021-09</td>\n",
       "    </tr>\n",
       "    <tr>\n",
       "      <th>3</th>\n",
       "      <td>2021-08-31 13:00:00</td>\n",
       "      <td>2022-02-05</td>\n",
       "      <td>416</td>\n",
       "      <td>2022-02</td>\n",
       "    </tr>\n",
       "    <tr>\n",
       "      <th>4</th>\n",
       "      <td>2021-09-28 07:00:00</td>\n",
       "      <td>2021-12-30</td>\n",
       "      <td>349</td>\n",
       "      <td>2021-12</td>\n",
       "    </tr>\n",
       "  </tbody>\n",
       "</table>\n",
       "</div>"
      ],
      "text/plain": [
       "        purchase_date  sold_date  qty sold_month\n",
       "0 2021-05-31 00:00:00 2021-07-15  316    2021-07\n",
       "1 2021-06-30 07:00:00 2022-01-12  495    2022-01\n",
       "2 2021-07-30 13:00:00 2021-09-14  312    2021-09\n",
       "3 2021-08-31 13:00:00 2022-02-05  416    2022-02\n",
       "4 2021-09-28 07:00:00 2021-12-30  349    2021-12"
      ]
     },
     "execution_count": 9,
     "metadata": {},
     "output_type": "execute_result"
    }
   ],
   "source": [
    "df_sales[\"sold_month\"] = df_sales[\"sold_date\"].dt.to_period(\"M\")\n",
    "\n",
    "df_sales.head()"
   ]
  },
  {
   "cell_type": "code",
   "execution_count": 10,
   "id": "84ff4fb3",
   "metadata": {},
   "outputs": [
    {
     "data": {
      "text/plain": [
       "purchase_date    datetime64[ns]\n",
       "sold_date        datetime64[ns]\n",
       "qty                       int64\n",
       "sold_month            period[M]\n",
       "dtype: object"
      ]
     },
     "execution_count": 10,
     "metadata": {},
     "output_type": "execute_result"
    }
   ],
   "source": [
    "df_sales.dtypes"
   ]
  },
  {
   "cell_type": "markdown",
   "id": "4c4595df",
   "metadata": {},
   "source": [
    "## Exercise 5: Month name using `.month_name()` method"
   ]
  },
  {
   "cell_type": "code",
   "execution_count": 12,
   "id": "0017c9f3",
   "metadata": {},
   "outputs": [],
   "source": [
    "df_sales[\"sold_month_name\"] = df_sales[\"sold_date\"].dt.month_name()"
   ]
  },
  {
   "cell_type": "code",
   "execution_count": 13,
   "id": "f4396cd2",
   "metadata": {},
   "outputs": [
    {
     "data": {
      "text/html": [
       "<div>\n",
       "<style scoped>\n",
       "    .dataframe tbody tr th:only-of-type {\n",
       "        vertical-align: middle;\n",
       "    }\n",
       "\n",
       "    .dataframe tbody tr th {\n",
       "        vertical-align: top;\n",
       "    }\n",
       "\n",
       "    .dataframe thead th {\n",
       "        text-align: right;\n",
       "    }\n",
       "</style>\n",
       "<table border=\"1\" class=\"dataframe\">\n",
       "  <thead>\n",
       "    <tr style=\"text-align: right;\">\n",
       "      <th></th>\n",
       "      <th>purchase_date</th>\n",
       "      <th>sold_date</th>\n",
       "      <th>qty</th>\n",
       "      <th>sold_month</th>\n",
       "      <th>sold_month_name</th>\n",
       "    </tr>\n",
       "  </thead>\n",
       "  <tbody>\n",
       "    <tr>\n",
       "      <th>0</th>\n",
       "      <td>2021-05-31 00:00:00</td>\n",
       "      <td>2021-07-15</td>\n",
       "      <td>316</td>\n",
       "      <td>2021-07</td>\n",
       "      <td>July</td>\n",
       "    </tr>\n",
       "    <tr>\n",
       "      <th>1</th>\n",
       "      <td>2021-06-30 07:00:00</td>\n",
       "      <td>2022-01-12</td>\n",
       "      <td>495</td>\n",
       "      <td>2022-01</td>\n",
       "      <td>January</td>\n",
       "    </tr>\n",
       "    <tr>\n",
       "      <th>2</th>\n",
       "      <td>2021-07-30 13:00:00</td>\n",
       "      <td>2021-09-14</td>\n",
       "      <td>312</td>\n",
       "      <td>2021-09</td>\n",
       "      <td>September</td>\n",
       "    </tr>\n",
       "    <tr>\n",
       "      <th>3</th>\n",
       "      <td>2021-08-31 13:00:00</td>\n",
       "      <td>2022-02-05</td>\n",
       "      <td>416</td>\n",
       "      <td>2022-02</td>\n",
       "      <td>February</td>\n",
       "    </tr>\n",
       "    <tr>\n",
       "      <th>4</th>\n",
       "      <td>2021-09-28 07:00:00</td>\n",
       "      <td>2021-12-30</td>\n",
       "      <td>349</td>\n",
       "      <td>2021-12</td>\n",
       "      <td>December</td>\n",
       "    </tr>\n",
       "  </tbody>\n",
       "</table>\n",
       "</div>"
      ],
      "text/plain": [
       "        purchase_date  sold_date  qty sold_month sold_month_name\n",
       "0 2021-05-31 00:00:00 2021-07-15  316    2021-07            July\n",
       "1 2021-06-30 07:00:00 2022-01-12  495    2022-01         January\n",
       "2 2021-07-30 13:00:00 2021-09-14  312    2021-09       September\n",
       "3 2021-08-31 13:00:00 2022-02-05  416    2022-02        February\n",
       "4 2021-09-28 07:00:00 2021-12-30  349    2021-12        December"
      ]
     },
     "execution_count": 13,
     "metadata": {},
     "output_type": "execute_result"
    }
   ],
   "source": [
    "df_sales"
   ]
  },
  {
   "cell_type": "markdown",
   "id": "6692948a",
   "metadata": {},
   "source": [
    "## Exercise 6: Day of the week using the `.dayofweek()` & `day_name()` methods"
   ]
  },
  {
   "cell_type": "code",
   "execution_count": 16,
   "id": "ab1fc5ff",
   "metadata": {},
   "outputs": [
    {
     "data": {
      "text/html": [
       "<div>\n",
       "<style scoped>\n",
       "    .dataframe tbody tr th:only-of-type {\n",
       "        vertical-align: middle;\n",
       "    }\n",
       "\n",
       "    .dataframe tbody tr th {\n",
       "        vertical-align: top;\n",
       "    }\n",
       "\n",
       "    .dataframe thead th {\n",
       "        text-align: right;\n",
       "    }\n",
       "</style>\n",
       "<table border=\"1\" class=\"dataframe\">\n",
       "  <thead>\n",
       "    <tr style=\"text-align: right;\">\n",
       "      <th></th>\n",
       "      <th>purchase_date</th>\n",
       "      <th>sold_date</th>\n",
       "      <th>qty</th>\n",
       "      <th>sold_month</th>\n",
       "      <th>sold_month_name</th>\n",
       "      <th>sold_day_name</th>\n",
       "      <th>sold_day_ofthe_week</th>\n",
       "    </tr>\n",
       "  </thead>\n",
       "  <tbody>\n",
       "    <tr>\n",
       "      <th>0</th>\n",
       "      <td>2021-05-31 00:00:00</td>\n",
       "      <td>2021-07-15</td>\n",
       "      <td>316</td>\n",
       "      <td>2021-07</td>\n",
       "      <td>July</td>\n",
       "      <td>3</td>\n",
       "      <td>3</td>\n",
       "    </tr>\n",
       "    <tr>\n",
       "      <th>1</th>\n",
       "      <td>2021-06-30 07:00:00</td>\n",
       "      <td>2022-01-12</td>\n",
       "      <td>495</td>\n",
       "      <td>2022-01</td>\n",
       "      <td>January</td>\n",
       "      <td>2</td>\n",
       "      <td>2</td>\n",
       "    </tr>\n",
       "    <tr>\n",
       "      <th>2</th>\n",
       "      <td>2021-07-30 13:00:00</td>\n",
       "      <td>2021-09-14</td>\n",
       "      <td>312</td>\n",
       "      <td>2021-09</td>\n",
       "      <td>September</td>\n",
       "      <td>1</td>\n",
       "      <td>1</td>\n",
       "    </tr>\n",
       "    <tr>\n",
       "      <th>3</th>\n",
       "      <td>2021-08-31 13:00:00</td>\n",
       "      <td>2022-02-05</td>\n",
       "      <td>416</td>\n",
       "      <td>2022-02</td>\n",
       "      <td>February</td>\n",
       "      <td>5</td>\n",
       "      <td>5</td>\n",
       "    </tr>\n",
       "    <tr>\n",
       "      <th>4</th>\n",
       "      <td>2021-09-28 07:00:00</td>\n",
       "      <td>2021-12-30</td>\n",
       "      <td>349</td>\n",
       "      <td>2021-12</td>\n",
       "      <td>December</td>\n",
       "      <td>3</td>\n",
       "      <td>3</td>\n",
       "    </tr>\n",
       "  </tbody>\n",
       "</table>\n",
       "</div>"
      ],
      "text/plain": [
       "        purchase_date  sold_date  qty sold_month sold_month_name  \\\n",
       "0 2021-05-31 00:00:00 2021-07-15  316    2021-07            July   \n",
       "1 2021-06-30 07:00:00 2022-01-12  495    2022-01         January   \n",
       "2 2021-07-30 13:00:00 2021-09-14  312    2021-09       September   \n",
       "3 2021-08-31 13:00:00 2022-02-05  416    2022-02        February   \n",
       "4 2021-09-28 07:00:00 2021-12-30  349    2021-12        December   \n",
       "\n",
       "   sold_day_name  sold_day_ofthe_week  \n",
       "0              3                    3  \n",
       "1              2                    2  \n",
       "2              1                    1  \n",
       "3              5                    5  \n",
       "4              3                    3  "
      ]
     },
     "execution_count": 16,
     "metadata": {},
     "output_type": "execute_result"
    }
   ],
   "source": [
    "df_sales[\"sold_day_ofthe_week\"] = df_sales[\"sold_date\"].dt.dayofweek\n",
    "\n",
    "df_sales"
   ]
  },
  {
   "cell_type": "code",
   "execution_count": 17,
   "id": "a70ab019",
   "metadata": {},
   "outputs": [],
   "source": [
    "df_sales.drop('sold_day_name',axis= 1, inplace= True)"
   ]
  },
  {
   "cell_type": "code",
   "execution_count": 18,
   "id": "84041641",
   "metadata": {},
   "outputs": [],
   "source": [
    "df_sales[\"sold_day_name\"] = df_sales[\"sold_date\"].dt.day_name()"
   ]
  },
  {
   "cell_type": "code",
   "execution_count": 19,
   "id": "a54e3336",
   "metadata": {},
   "outputs": [
    {
     "data": {
      "text/html": [
       "<div>\n",
       "<style scoped>\n",
       "    .dataframe tbody tr th:only-of-type {\n",
       "        vertical-align: middle;\n",
       "    }\n",
       "\n",
       "    .dataframe tbody tr th {\n",
       "        vertical-align: top;\n",
       "    }\n",
       "\n",
       "    .dataframe thead th {\n",
       "        text-align: right;\n",
       "    }\n",
       "</style>\n",
       "<table border=\"1\" class=\"dataframe\">\n",
       "  <thead>\n",
       "    <tr style=\"text-align: right;\">\n",
       "      <th></th>\n",
       "      <th>purchase_date</th>\n",
       "      <th>sold_date</th>\n",
       "      <th>qty</th>\n",
       "      <th>sold_month</th>\n",
       "      <th>sold_month_name</th>\n",
       "      <th>sold_day_ofthe_week</th>\n",
       "      <th>sold_day_name</th>\n",
       "    </tr>\n",
       "  </thead>\n",
       "  <tbody>\n",
       "    <tr>\n",
       "      <th>0</th>\n",
       "      <td>2021-05-31 00:00:00</td>\n",
       "      <td>2021-07-15</td>\n",
       "      <td>316</td>\n",
       "      <td>2021-07</td>\n",
       "      <td>July</td>\n",
       "      <td>3</td>\n",
       "      <td>Thursday</td>\n",
       "    </tr>\n",
       "    <tr>\n",
       "      <th>1</th>\n",
       "      <td>2021-06-30 07:00:00</td>\n",
       "      <td>2022-01-12</td>\n",
       "      <td>495</td>\n",
       "      <td>2022-01</td>\n",
       "      <td>January</td>\n",
       "      <td>2</td>\n",
       "      <td>Wednesday</td>\n",
       "    </tr>\n",
       "    <tr>\n",
       "      <th>2</th>\n",
       "      <td>2021-07-30 13:00:00</td>\n",
       "      <td>2021-09-14</td>\n",
       "      <td>312</td>\n",
       "      <td>2021-09</td>\n",
       "      <td>September</td>\n",
       "      <td>1</td>\n",
       "      <td>Tuesday</td>\n",
       "    </tr>\n",
       "    <tr>\n",
       "      <th>3</th>\n",
       "      <td>2021-08-31 13:00:00</td>\n",
       "      <td>2022-02-05</td>\n",
       "      <td>416</td>\n",
       "      <td>2022-02</td>\n",
       "      <td>February</td>\n",
       "      <td>5</td>\n",
       "      <td>Saturday</td>\n",
       "    </tr>\n",
       "    <tr>\n",
       "      <th>4</th>\n",
       "      <td>2021-09-28 07:00:00</td>\n",
       "      <td>2021-12-30</td>\n",
       "      <td>349</td>\n",
       "      <td>2021-12</td>\n",
       "      <td>December</td>\n",
       "      <td>3</td>\n",
       "      <td>Thursday</td>\n",
       "    </tr>\n",
       "  </tbody>\n",
       "</table>\n",
       "</div>"
      ],
      "text/plain": [
       "        purchase_date  sold_date  qty sold_month sold_month_name  \\\n",
       "0 2021-05-31 00:00:00 2021-07-15  316    2021-07            July   \n",
       "1 2021-06-30 07:00:00 2022-01-12  495    2022-01         January   \n",
       "2 2021-07-30 13:00:00 2021-09-14  312    2021-09       September   \n",
       "3 2021-08-31 13:00:00 2022-02-05  416    2022-02        February   \n",
       "4 2021-09-28 07:00:00 2021-12-30  349    2021-12        December   \n",
       "\n",
       "   sold_day_ofthe_week sold_day_name  \n",
       "0                    3      Thursday  \n",
       "1                    2     Wednesday  \n",
       "2                    1       Tuesday  \n",
       "3                    5      Saturday  \n",
       "4                    3      Thursday  "
      ]
     },
     "execution_count": 19,
     "metadata": {},
     "output_type": "execute_result"
    }
   ],
   "source": [
    "df_sales"
   ]
  },
  {
   "cell_type": "markdown",
   "id": "0bf7a5a3",
   "metadata": {},
   "source": [
    "## Exercise 7: isocalendar\n",
    "\n",
    "- The isocalendar can be used for getting the \n",
    "    - ISO year, \n",
    "    - week number, and \n",
    "    - weekday from a date in a single step. \n",
    "- It returns a DataFrame that contains these pieces of information in separate columns."
   ]
  },
  {
   "cell_type": "code",
   "execution_count": 22,
   "id": "37a49ad2",
   "metadata": {},
   "outputs": [
    {
     "data": {
      "text/html": [
       "<div>\n",
       "<style scoped>\n",
       "    .dataframe tbody tr th:only-of-type {\n",
       "        vertical-align: middle;\n",
       "    }\n",
       "\n",
       "    .dataframe tbody tr th {\n",
       "        vertical-align: top;\n",
       "    }\n",
       "\n",
       "    .dataframe thead th {\n",
       "        text-align: right;\n",
       "    }\n",
       "</style>\n",
       "<table border=\"1\" class=\"dataframe\">\n",
       "  <thead>\n",
       "    <tr style=\"text-align: right;\">\n",
       "      <th></th>\n",
       "      <th>year</th>\n",
       "      <th>week</th>\n",
       "      <th>day</th>\n",
       "    </tr>\n",
       "  </thead>\n",
       "  <tbody>\n",
       "    <tr>\n",
       "      <th>0</th>\n",
       "      <td>2021</td>\n",
       "      <td>28</td>\n",
       "      <td>4</td>\n",
       "    </tr>\n",
       "    <tr>\n",
       "      <th>1</th>\n",
       "      <td>2022</td>\n",
       "      <td>2</td>\n",
       "      <td>3</td>\n",
       "    </tr>\n",
       "    <tr>\n",
       "      <th>2</th>\n",
       "      <td>2021</td>\n",
       "      <td>37</td>\n",
       "      <td>2</td>\n",
       "    </tr>\n",
       "    <tr>\n",
       "      <th>3</th>\n",
       "      <td>2022</td>\n",
       "      <td>5</td>\n",
       "      <td>6</td>\n",
       "    </tr>\n",
       "    <tr>\n",
       "      <th>4</th>\n",
       "      <td>2021</td>\n",
       "      <td>52</td>\n",
       "      <td>4</td>\n",
       "    </tr>\n",
       "  </tbody>\n",
       "</table>\n",
       "</div>"
      ],
      "text/plain": [
       "   year  week  day\n",
       "0  2021    28    4\n",
       "1  2022     2    3\n",
       "2  2021    37    2\n",
       "3  2022     5    6\n",
       "4  2021    52    4"
      ]
     },
     "execution_count": 22,
     "metadata": {},
     "output_type": "execute_result"
    }
   ],
   "source": [
    "df_iso =  df_sales[\"sold_date\"].dt.isocalendar()\n",
    "\n",
    "df_iso"
   ]
  },
  {
   "cell_type": "markdown",
   "id": "1984e0ce",
   "metadata": {},
   "source": [
    "* The first value of the sold date column is \"2021-07-15\" which is in the \n",
    "    - 28th week of 2021 and is \n",
    "    - the 4th day of the week. \n",
    "        - The weekday value for \n",
    "            - Monday is 1st day = 0\n",
    "            - Tuesday is 2nd day = 1\n",
    "            - Wednesday is 3rd day = 2\n",
    "            - the 4th day is Thursday = 3\n",
    "            - Friday is the 5th day = 4\n",
    "            - Saturday is the 6th day = 5\n",
    "            - Sunday is the 7th day = 6\n",
    "\n",
    "* When using the dayofweek method, the value for Monday is 0 so it returns 3 for Thursday."
   ]
  },
  {
   "cell_type": "code",
   "execution_count": 21,
   "id": "a066caca",
   "metadata": {},
   "outputs": [
    {
     "data": {
      "text/plain": [
       "0    28\n",
       "1     2\n",
       "2    37\n",
       "3     5\n",
       "4    52\n",
       "Name: week, dtype: UInt32"
      ]
     },
     "execution_count": 21,
     "metadata": {},
     "output_type": "execute_result"
    }
   ],
   "source": [
    "df_sales[\"sold_date\"].dt.isocalendar().week"
   ]
  },
  {
   "cell_type": "markdown",
   "id": "8ca0902a",
   "metadata": {},
   "source": [
    "## Exercise 8: Hour"
   ]
  },
  {
   "cell_type": "code",
   "execution_count": 23,
   "id": "4fd9cbff",
   "metadata": {},
   "outputs": [],
   "source": [
    "df_sales[\"purchase_date_hour\"] = df_sales[\"purchase_date\"].dt.hour"
   ]
  },
  {
   "cell_type": "code",
   "execution_count": 24,
   "id": "5fb05c0c",
   "metadata": {},
   "outputs": [
    {
     "data": {
      "text/html": [
       "<div>\n",
       "<style scoped>\n",
       "    .dataframe tbody tr th:only-of-type {\n",
       "        vertical-align: middle;\n",
       "    }\n",
       "\n",
       "    .dataframe tbody tr th {\n",
       "        vertical-align: top;\n",
       "    }\n",
       "\n",
       "    .dataframe thead th {\n",
       "        text-align: right;\n",
       "    }\n",
       "</style>\n",
       "<table border=\"1\" class=\"dataframe\">\n",
       "  <thead>\n",
       "    <tr style=\"text-align: right;\">\n",
       "      <th></th>\n",
       "      <th>purchase_date</th>\n",
       "      <th>sold_date</th>\n",
       "      <th>qty</th>\n",
       "      <th>sold_month</th>\n",
       "      <th>sold_month_name</th>\n",
       "      <th>sold_day_ofthe_week</th>\n",
       "      <th>sold_day_name</th>\n",
       "      <th>purchase_date_hour</th>\n",
       "    </tr>\n",
       "  </thead>\n",
       "  <tbody>\n",
       "    <tr>\n",
       "      <th>0</th>\n",
       "      <td>2021-05-31 00:00:00</td>\n",
       "      <td>2021-07-15</td>\n",
       "      <td>316</td>\n",
       "      <td>2021-07</td>\n",
       "      <td>July</td>\n",
       "      <td>3</td>\n",
       "      <td>Thursday</td>\n",
       "      <td>0</td>\n",
       "    </tr>\n",
       "    <tr>\n",
       "      <th>1</th>\n",
       "      <td>2021-06-30 07:00:00</td>\n",
       "      <td>2022-01-12</td>\n",
       "      <td>495</td>\n",
       "      <td>2022-01</td>\n",
       "      <td>January</td>\n",
       "      <td>2</td>\n",
       "      <td>Wednesday</td>\n",
       "      <td>7</td>\n",
       "    </tr>\n",
       "    <tr>\n",
       "      <th>2</th>\n",
       "      <td>2021-07-30 13:00:00</td>\n",
       "      <td>2021-09-14</td>\n",
       "      <td>312</td>\n",
       "      <td>2021-09</td>\n",
       "      <td>September</td>\n",
       "      <td>1</td>\n",
       "      <td>Tuesday</td>\n",
       "      <td>13</td>\n",
       "    </tr>\n",
       "    <tr>\n",
       "      <th>3</th>\n",
       "      <td>2021-08-31 13:00:00</td>\n",
       "      <td>2022-02-05</td>\n",
       "      <td>416</td>\n",
       "      <td>2022-02</td>\n",
       "      <td>February</td>\n",
       "      <td>5</td>\n",
       "      <td>Saturday</td>\n",
       "      <td>13</td>\n",
       "    </tr>\n",
       "    <tr>\n",
       "      <th>4</th>\n",
       "      <td>2021-09-28 07:00:00</td>\n",
       "      <td>2021-12-30</td>\n",
       "      <td>349</td>\n",
       "      <td>2021-12</td>\n",
       "      <td>December</td>\n",
       "      <td>3</td>\n",
       "      <td>Thursday</td>\n",
       "      <td>7</td>\n",
       "    </tr>\n",
       "  </tbody>\n",
       "</table>\n",
       "</div>"
      ],
      "text/plain": [
       "        purchase_date  sold_date  qty sold_month sold_month_name  \\\n",
       "0 2021-05-31 00:00:00 2021-07-15  316    2021-07            July   \n",
       "1 2021-06-30 07:00:00 2022-01-12  495    2022-01         January   \n",
       "2 2021-07-30 13:00:00 2021-09-14  312    2021-09       September   \n",
       "3 2021-08-31 13:00:00 2022-02-05  416    2022-02        February   \n",
       "4 2021-09-28 07:00:00 2021-12-30  349    2021-12        December   \n",
       "\n",
       "   sold_day_ofthe_week sold_day_name  purchase_date_hour  \n",
       "0                    3      Thursday                   0  \n",
       "1                    2     Wednesday                   7  \n",
       "2                    1       Tuesday                  13  \n",
       "3                    5      Saturday                  13  \n",
       "4                    3      Thursday                   7  "
      ]
     },
     "execution_count": 24,
     "metadata": {},
     "output_type": "execute_result"
    }
   ],
   "source": [
    "df_sales"
   ]
  },
  {
   "cell_type": "markdown",
   "id": "9484dddd",
   "metadata": {},
   "source": [
    "## Exercise 9: Minutes"
   ]
  },
  {
   "cell_type": "code",
   "execution_count": 25,
   "id": "d8628900",
   "metadata": {},
   "outputs": [
    {
     "data": {
      "text/plain": [
       "0    0\n",
       "1    0\n",
       "2    0\n",
       "3    0\n",
       "4    0\n",
       "Name: purchase_date, dtype: int64"
      ]
     },
     "execution_count": 25,
     "metadata": {},
     "output_type": "execute_result"
    }
   ],
   "source": [
    "df_sales[\"purchase_date\"].dt.minute"
   ]
  },
  {
   "cell_type": "markdown",
   "id": "8ea9e359",
   "metadata": {},
   "source": [
    "## Exercise 10:  is it Month end?"
   ]
  },
  {
   "cell_type": "code",
   "execution_count": 26,
   "id": "72b3f523",
   "metadata": {},
   "outputs": [
    {
     "data": {
      "text/plain": [
       "0     True\n",
       "1     True\n",
       "2    False\n",
       "3     True\n",
       "4    False\n",
       "Name: purchase_date, dtype: bool"
      ]
     },
     "execution_count": 26,
     "metadata": {},
     "output_type": "execute_result"
    }
   ],
   "source": [
    "df_sales[\"purchase_date\"].dt.is_month_end"
   ]
  },
  {
   "cell_type": "markdown",
   "id": "3fbdb29e",
   "metadata": {},
   "source": [
    "## Execise 11: is it Weekend?"
   ]
  },
  {
   "cell_type": "code",
   "execution_count": 27,
   "id": "a86025e6",
   "metadata": {},
   "outputs": [
    {
     "data": {
      "text/plain": [
       "0     Thursday\n",
       "1    Wednesday\n",
       "2      Tuesday\n",
       "3     Saturday\n",
       "4     Thursday\n",
       "Name: sold_day_name, dtype: object"
      ]
     },
     "execution_count": 27,
     "metadata": {},
     "output_type": "execute_result"
    }
   ],
   "source": [
    "df_sales[\"sold_day_name\"]"
   ]
  },
  {
   "cell_type": "code",
   "execution_count": 28,
   "id": "ad73058b",
   "metadata": {},
   "outputs": [
    {
     "data": {
      "text/plain": [
       "0    False\n",
       "1    False\n",
       "2    False\n",
       "3     True\n",
       "4    False\n",
       "Name: sold_date, dtype: bool"
      ]
     },
     "execution_count": 28,
     "metadata": {},
     "output_type": "execute_result"
    }
   ],
   "source": [
    "df_sales[\"sold_date\"].dt.day_name().isin([\"Saturday\", \"Sunday\"])"
   ]
  },
  {
   "cell_type": "code",
   "execution_count": 30,
   "id": "7f0821f4",
   "metadata": {},
   "outputs": [
    {
     "data": {
      "text/html": [
       "<div>\n",
       "<style scoped>\n",
       "    .dataframe tbody tr th:only-of-type {\n",
       "        vertical-align: middle;\n",
       "    }\n",
       "\n",
       "    .dataframe tbody tr th {\n",
       "        vertical-align: top;\n",
       "    }\n",
       "\n",
       "    .dataframe thead th {\n",
       "        text-align: right;\n",
       "    }\n",
       "</style>\n",
       "<table border=\"1\" class=\"dataframe\">\n",
       "  <thead>\n",
       "    <tr style=\"text-align: right;\">\n",
       "      <th></th>\n",
       "      <th>purchase_date</th>\n",
       "      <th>sold_date</th>\n",
       "      <th>qty</th>\n",
       "      <th>sold_month</th>\n",
       "      <th>sold_month_name</th>\n",
       "      <th>sold_day_ofthe_week</th>\n",
       "      <th>sold_day_name</th>\n",
       "      <th>purchase_date_hour</th>\n",
       "    </tr>\n",
       "  </thead>\n",
       "  <tbody>\n",
       "    <tr>\n",
       "      <th>3</th>\n",
       "      <td>2021-08-31 13:00:00</td>\n",
       "      <td>2022-02-05</td>\n",
       "      <td>416</td>\n",
       "      <td>2022-02</td>\n",
       "      <td>February</td>\n",
       "      <td>5</td>\n",
       "      <td>Saturday</td>\n",
       "      <td>13</td>\n",
       "    </tr>\n",
       "  </tbody>\n",
       "</table>\n",
       "</div>"
      ],
      "text/plain": [
       "        purchase_date  sold_date  qty sold_month sold_month_name  \\\n",
       "3 2021-08-31 13:00:00 2022-02-05  416    2022-02        February   \n",
       "\n",
       "   sold_day_ofthe_week sold_day_name  purchase_date_hour  \n",
       "3                    5      Saturday                  13  "
      ]
     },
     "execution_count": 30,
     "metadata": {},
     "output_type": "execute_result"
    }
   ],
   "source": [
    "df_sales[df_sales[\"sold_date\"].dt.day_name().isin([\"Saturday\", \"Sunday\"])]"
   ]
  },
  {
   "cell_type": "markdown",
   "id": "98350474",
   "metadata": {},
   "source": [
    "## Exercise 12: Time difference between dates"
   ]
  },
  {
   "cell_type": "code",
   "execution_count": 31,
   "id": "e8645147",
   "metadata": {},
   "outputs": [
    {
     "data": {
      "text/plain": [
       "0    45 days 00:00:00\n",
       "1   195 days 17:00:00\n",
       "2    45 days 11:00:00\n",
       "3   157 days 11:00:00\n",
       "4    92 days 17:00:00\n",
       "dtype: timedelta64[ns]"
      ]
     },
     "execution_count": 31,
     "metadata": {},
     "output_type": "execute_result"
    }
   ],
   "source": [
    "df_sales[\"sold_date\"] - df_sales[\"purchase_date\"]"
   ]
  },
  {
   "cell_type": "code",
   "execution_count": 32,
   "id": "fb19f23b",
   "metadata": {},
   "outputs": [
    {
     "data": {
      "text/html": [
       "<div>\n",
       "<style scoped>\n",
       "    .dataframe tbody tr th:only-of-type {\n",
       "        vertical-align: middle;\n",
       "    }\n",
       "\n",
       "    .dataframe tbody tr th {\n",
       "        vertical-align: top;\n",
       "    }\n",
       "\n",
       "    .dataframe thead th {\n",
       "        text-align: right;\n",
       "    }\n",
       "</style>\n",
       "<table border=\"1\" class=\"dataframe\">\n",
       "  <thead>\n",
       "    <tr style=\"text-align: right;\">\n",
       "      <th></th>\n",
       "      <th>purchase_date</th>\n",
       "      <th>sold_date</th>\n",
       "      <th>qty</th>\n",
       "      <th>sold_month</th>\n",
       "      <th>sold_month_name</th>\n",
       "      <th>sold_day_ofthe_week</th>\n",
       "      <th>sold_day_name</th>\n",
       "      <th>purchase_date_hour</th>\n",
       "      <th>time_difference</th>\n",
       "    </tr>\n",
       "  </thead>\n",
       "  <tbody>\n",
       "    <tr>\n",
       "      <th>0</th>\n",
       "      <td>2021-05-31 00:00:00</td>\n",
       "      <td>2021-07-15</td>\n",
       "      <td>316</td>\n",
       "      <td>2021-07</td>\n",
       "      <td>July</td>\n",
       "      <td>3</td>\n",
       "      <td>Thursday</td>\n",
       "      <td>0</td>\n",
       "      <td>45 days 00:00:00</td>\n",
       "    </tr>\n",
       "    <tr>\n",
       "      <th>1</th>\n",
       "      <td>2021-06-30 07:00:00</td>\n",
       "      <td>2022-01-12</td>\n",
       "      <td>495</td>\n",
       "      <td>2022-01</td>\n",
       "      <td>January</td>\n",
       "      <td>2</td>\n",
       "      <td>Wednesday</td>\n",
       "      <td>7</td>\n",
       "      <td>195 days 17:00:00</td>\n",
       "    </tr>\n",
       "    <tr>\n",
       "      <th>2</th>\n",
       "      <td>2021-07-30 13:00:00</td>\n",
       "      <td>2021-09-14</td>\n",
       "      <td>312</td>\n",
       "      <td>2021-09</td>\n",
       "      <td>September</td>\n",
       "      <td>1</td>\n",
       "      <td>Tuesday</td>\n",
       "      <td>13</td>\n",
       "      <td>45 days 11:00:00</td>\n",
       "    </tr>\n",
       "    <tr>\n",
       "      <th>3</th>\n",
       "      <td>2021-08-31 13:00:00</td>\n",
       "      <td>2022-02-05</td>\n",
       "      <td>416</td>\n",
       "      <td>2022-02</td>\n",
       "      <td>February</td>\n",
       "      <td>5</td>\n",
       "      <td>Saturday</td>\n",
       "      <td>13</td>\n",
       "      <td>157 days 11:00:00</td>\n",
       "    </tr>\n",
       "    <tr>\n",
       "      <th>4</th>\n",
       "      <td>2021-09-28 07:00:00</td>\n",
       "      <td>2021-12-30</td>\n",
       "      <td>349</td>\n",
       "      <td>2021-12</td>\n",
       "      <td>December</td>\n",
       "      <td>3</td>\n",
       "      <td>Thursday</td>\n",
       "      <td>7</td>\n",
       "      <td>92 days 17:00:00</td>\n",
       "    </tr>\n",
       "  </tbody>\n",
       "</table>\n",
       "</div>"
      ],
      "text/plain": [
       "        purchase_date  sold_date  qty sold_month sold_month_name  \\\n",
       "0 2021-05-31 00:00:00 2021-07-15  316    2021-07            July   \n",
       "1 2021-06-30 07:00:00 2022-01-12  495    2022-01         January   \n",
       "2 2021-07-30 13:00:00 2021-09-14  312    2021-09       September   \n",
       "3 2021-08-31 13:00:00 2022-02-05  416    2022-02        February   \n",
       "4 2021-09-28 07:00:00 2021-12-30  349    2021-12        December   \n",
       "\n",
       "   sold_day_ofthe_week sold_day_name  purchase_date_hour   time_difference  \n",
       "0                    3      Thursday                   0  45 days 00:00:00  \n",
       "1                    2     Wednesday                   7 195 days 17:00:00  \n",
       "2                    1       Tuesday                  13  45 days 11:00:00  \n",
       "3                    5      Saturday                  13 157 days 11:00:00  \n",
       "4                    3      Thursday                   7  92 days 17:00:00  "
      ]
     },
     "execution_count": 32,
     "metadata": {},
     "output_type": "execute_result"
    }
   ],
   "source": [
    "df_sales[\"time_difference\"] = df_sales[\"sold_date\"] - df_sales[\"purchase_date\"]\n",
    "\n",
    "df_sales.head()"
   ]
  },
  {
   "cell_type": "code",
   "execution_count": 33,
   "id": "d2f1f397",
   "metadata": {},
   "outputs": [
    {
     "data": {
      "text/plain": [
       "purchase_date           datetime64[ns]\n",
       "sold_date               datetime64[ns]\n",
       "qty                              int64\n",
       "sold_month                   period[M]\n",
       "sold_month_name                 object\n",
       "sold_day_ofthe_week              int64\n",
       "sold_day_name                   object\n",
       "purchase_date_hour               int64\n",
       "time_difference        timedelta64[ns]\n",
       "dtype: object"
      ]
     },
     "execution_count": 33,
     "metadata": {},
     "output_type": "execute_result"
    }
   ],
   "source": [
    "df_sales.dtypes"
   ]
  },
  {
   "cell_type": "code",
   "execution_count": 36,
   "id": "a0ff8188",
   "metadata": {},
   "outputs": [
    {
     "data": {
      "text/plain": [
       "0     45\n",
       "1    195\n",
       "2     45\n",
       "3    157\n",
       "4     92\n",
       "Name: time_difference, dtype: int64"
      ]
     },
     "execution_count": 36,
     "metadata": {},
     "output_type": "execute_result"
    }
   ],
   "source": [
    "# Time difference in days\n",
    "\n",
    "df_sales[\"time_difference\"].dt.days"
   ]
  },
  {
   "cell_type": "markdown",
   "id": "2b7dfe24",
   "metadata": {},
   "source": [
    "## Exercise 13: Time difference with Pandas Timedelta\n",
    "\n",
    "* Pandas Timedelta does not support Month and Year"
   ]
  },
  {
   "cell_type": "code",
   "execution_count": 37,
   "id": "9b794db2",
   "metadata": {},
   "outputs": [
    {
     "data": {
      "text/plain": [
       "0     45.000000\n",
       "1    195.708333\n",
       "2     45.458333\n",
       "3    157.458333\n",
       "4     92.708333\n",
       "Name: time_difference, dtype: float64"
      ]
     },
     "execution_count": 37,
     "metadata": {},
     "output_type": "execute_result"
    }
   ],
   "source": [
    "df_sales[\"time_difference\"] / pd.Timedelta(days=1)"
   ]
  },
  {
   "cell_type": "code",
   "execution_count": 38,
   "id": "5b71cd45",
   "metadata": {},
   "outputs": [
    {
     "data": {
      "text/plain": [
       "0    1080.0\n",
       "1    4697.0\n",
       "2    1091.0\n",
       "3    3779.0\n",
       "4    2225.0\n",
       "Name: time_difference, dtype: float64"
      ]
     },
     "execution_count": 38,
     "metadata": {},
     "output_type": "execute_result"
    }
   ],
   "source": [
    "df_sales[\"time_difference\"] / pd.Timedelta(hours=1)"
   ]
  },
  {
   "cell_type": "markdown",
   "id": "2f267837",
   "metadata": {},
   "source": [
    "## Exercise 14: Time difference with NumPy timedelta\n",
    "\n",
    "* Pandas Timedelta does not support Month and Year but numpy does"
   ]
  },
  {
   "cell_type": "code",
   "execution_count": 40,
   "id": "7172cad6",
   "metadata": {},
   "outputs": [
    {
     "data": {
      "text/plain": [
       "0    1.478470\n",
       "1    6.429975\n",
       "2    1.493528\n",
       "3    5.173275\n",
       "4    3.045922\n",
       "Name: time_difference, dtype: float64"
      ]
     },
     "execution_count": 40,
     "metadata": {},
     "output_type": "execute_result"
    }
   ],
   "source": [
    "import numpy as np\n",
    "\n",
    "df_sales[\"time_difference\"] / np.timedelta64(1, 'M')"
   ]
  },
  {
   "cell_type": "code",
   "execution_count": 41,
   "id": "42665528",
   "metadata": {},
   "outputs": [
    {
     "data": {
      "text/plain": [
       "0    0.123206\n",
       "1    0.535831\n",
       "2    0.124461\n",
       "3    0.431106\n",
       "4    0.253827\n",
       "Name: time_difference, dtype: float64"
      ]
     },
     "execution_count": 41,
     "metadata": {},
     "output_type": "execute_result"
    }
   ],
   "source": [
    "df_sales[\"time_difference\"] / np.timedelta64(1, 'Y')"
   ]
  },
  {
   "cell_type": "code",
   "execution_count": 42,
   "id": "cf242fa6",
   "metadata": {},
   "outputs": [
    {
     "data": {
      "text/plain": [
       "0     45.000000\n",
       "1    195.708333\n",
       "2     45.458333\n",
       "3    157.458333\n",
       "4     92.708333\n",
       "Name: time_difference, dtype: float64"
      ]
     },
     "execution_count": 42,
     "metadata": {},
     "output_type": "execute_result"
    }
   ],
   "source": [
    "df_sales[\"time_difference\"] / np.timedelta64(1, 'D')"
   ]
  },
  {
   "cell_type": "markdown",
   "id": "37a53101",
   "metadata": {},
   "source": [
    "## Exercise 15: Add interval with DateOffset"
   ]
  },
  {
   "cell_type": "code",
   "execution_count": 46,
   "id": "1bc4b91c",
   "metadata": {},
   "outputs": [
    {
     "data": {
      "text/html": [
       "<div>\n",
       "<style scoped>\n",
       "    .dataframe tbody tr th:only-of-type {\n",
       "        vertical-align: middle;\n",
       "    }\n",
       "\n",
       "    .dataframe tbody tr th {\n",
       "        vertical-align: top;\n",
       "    }\n",
       "\n",
       "    .dataframe thead th {\n",
       "        text-align: right;\n",
       "    }\n",
       "</style>\n",
       "<table border=\"1\" class=\"dataframe\">\n",
       "  <thead>\n",
       "    <tr style=\"text-align: right;\">\n",
       "      <th></th>\n",
       "      <th>purchase_date</th>\n",
       "      <th>sold_date</th>\n",
       "      <th>qty</th>\n",
       "      <th>sold_month</th>\n",
       "      <th>sold_month_name</th>\n",
       "      <th>sold_day_ofthe_week</th>\n",
       "      <th>sold_day_name</th>\n",
       "      <th>purchase_date_hour</th>\n",
       "      <th>time_difference</th>\n",
       "      <th>sold_date_limit</th>\n",
       "    </tr>\n",
       "  </thead>\n",
       "  <tbody>\n",
       "    <tr>\n",
       "      <th>0</th>\n",
       "      <td>2021-05-31 00:00:00</td>\n",
       "      <td>2021-07-15</td>\n",
       "      <td>316</td>\n",
       "      <td>2021-07</td>\n",
       "      <td>July</td>\n",
       "      <td>3</td>\n",
       "      <td>Thursday</td>\n",
       "      <td>0</td>\n",
       "      <td>45 days 00:00:00</td>\n",
       "      <td>2021-07-17</td>\n",
       "    </tr>\n",
       "    <tr>\n",
       "      <th>1</th>\n",
       "      <td>2021-06-30 07:00:00</td>\n",
       "      <td>2022-01-12</td>\n",
       "      <td>495</td>\n",
       "      <td>2022-01</td>\n",
       "      <td>January</td>\n",
       "      <td>2</td>\n",
       "      <td>Wednesday</td>\n",
       "      <td>7</td>\n",
       "      <td>195 days 17:00:00</td>\n",
       "      <td>2022-01-14</td>\n",
       "    </tr>\n",
       "    <tr>\n",
       "      <th>2</th>\n",
       "      <td>2021-07-30 13:00:00</td>\n",
       "      <td>2021-09-14</td>\n",
       "      <td>312</td>\n",
       "      <td>2021-09</td>\n",
       "      <td>September</td>\n",
       "      <td>1</td>\n",
       "      <td>Tuesday</td>\n",
       "      <td>13</td>\n",
       "      <td>45 days 11:00:00</td>\n",
       "      <td>2021-09-16</td>\n",
       "    </tr>\n",
       "    <tr>\n",
       "      <th>3</th>\n",
       "      <td>2021-08-31 13:00:00</td>\n",
       "      <td>2022-02-05</td>\n",
       "      <td>416</td>\n",
       "      <td>2022-02</td>\n",
       "      <td>February</td>\n",
       "      <td>5</td>\n",
       "      <td>Saturday</td>\n",
       "      <td>13</td>\n",
       "      <td>157 days 11:00:00</td>\n",
       "      <td>2022-02-07</td>\n",
       "    </tr>\n",
       "    <tr>\n",
       "      <th>4</th>\n",
       "      <td>2021-09-28 07:00:00</td>\n",
       "      <td>2021-12-30</td>\n",
       "      <td>349</td>\n",
       "      <td>2021-12</td>\n",
       "      <td>December</td>\n",
       "      <td>3</td>\n",
       "      <td>Thursday</td>\n",
       "      <td>7</td>\n",
       "      <td>92 days 17:00:00</td>\n",
       "      <td>2022-01-01</td>\n",
       "    </tr>\n",
       "  </tbody>\n",
       "</table>\n",
       "</div>"
      ],
      "text/plain": [
       "        purchase_date  sold_date  qty sold_month sold_month_name  \\\n",
       "0 2021-05-31 00:00:00 2021-07-15  316    2021-07            July   \n",
       "1 2021-06-30 07:00:00 2022-01-12  495    2022-01         January   \n",
       "2 2021-07-30 13:00:00 2021-09-14  312    2021-09       September   \n",
       "3 2021-08-31 13:00:00 2022-02-05  416    2022-02        February   \n",
       "4 2021-09-28 07:00:00 2021-12-30  349    2021-12        December   \n",
       "\n",
       "   sold_day_ofthe_week sold_day_name  purchase_date_hour   time_difference  \\\n",
       "0                    3      Thursday                   0  45 days 00:00:00   \n",
       "1                    2     Wednesday                   7 195 days 17:00:00   \n",
       "2                    1       Tuesday                  13  45 days 11:00:00   \n",
       "3                    5      Saturday                  13 157 days 11:00:00   \n",
       "4                    3      Thursday                   7  92 days 17:00:00   \n",
       "\n",
       "  sold_date_limit  \n",
       "0      2021-07-17  \n",
       "1      2022-01-14  \n",
       "2      2021-09-16  \n",
       "3      2022-02-07  \n",
       "4      2022-01-01  "
      ]
     },
     "execution_count": 46,
     "metadata": {},
     "output_type": "execute_result"
    }
   ],
   "source": [
    "df_sales[\"sold_date_limit\"] = df_sales[\"sold_date\"] + pd.DateOffset(days=2)\n",
    "\n",
    "df_sales"
   ]
  },
  {
   "cell_type": "code",
   "execution_count": 47,
   "id": "4e5a67b0",
   "metadata": {},
   "outputs": [],
   "source": [
    "df_sales[\"sold_date_timesend\"] = df_sales[\"sold_date\"] + pd.DateOffset(hours=4)"
   ]
  },
  {
   "cell_type": "code",
   "execution_count": 48,
   "id": "107dbeb2",
   "metadata": {},
   "outputs": [
    {
     "data": {
      "text/html": [
       "<div>\n",
       "<style scoped>\n",
       "    .dataframe tbody tr th:only-of-type {\n",
       "        vertical-align: middle;\n",
       "    }\n",
       "\n",
       "    .dataframe tbody tr th {\n",
       "        vertical-align: top;\n",
       "    }\n",
       "\n",
       "    .dataframe thead th {\n",
       "        text-align: right;\n",
       "    }\n",
       "</style>\n",
       "<table border=\"1\" class=\"dataframe\">\n",
       "  <thead>\n",
       "    <tr style=\"text-align: right;\">\n",
       "      <th></th>\n",
       "      <th>purchase_date</th>\n",
       "      <th>sold_date</th>\n",
       "      <th>qty</th>\n",
       "      <th>sold_month</th>\n",
       "      <th>sold_month_name</th>\n",
       "      <th>sold_day_ofthe_week</th>\n",
       "      <th>sold_day_name</th>\n",
       "      <th>purchase_date_hour</th>\n",
       "      <th>time_difference</th>\n",
       "      <th>sold_date_limit</th>\n",
       "      <th>sold_date_timesend</th>\n",
       "    </tr>\n",
       "  </thead>\n",
       "  <tbody>\n",
       "    <tr>\n",
       "      <th>0</th>\n",
       "      <td>2021-05-31 00:00:00</td>\n",
       "      <td>2021-07-15</td>\n",
       "      <td>316</td>\n",
       "      <td>2021-07</td>\n",
       "      <td>July</td>\n",
       "      <td>3</td>\n",
       "      <td>Thursday</td>\n",
       "      <td>0</td>\n",
       "      <td>45 days 00:00:00</td>\n",
       "      <td>2021-07-17</td>\n",
       "      <td>2021-07-15 04:00:00</td>\n",
       "    </tr>\n",
       "    <tr>\n",
       "      <th>1</th>\n",
       "      <td>2021-06-30 07:00:00</td>\n",
       "      <td>2022-01-12</td>\n",
       "      <td>495</td>\n",
       "      <td>2022-01</td>\n",
       "      <td>January</td>\n",
       "      <td>2</td>\n",
       "      <td>Wednesday</td>\n",
       "      <td>7</td>\n",
       "      <td>195 days 17:00:00</td>\n",
       "      <td>2022-01-14</td>\n",
       "      <td>2022-01-12 04:00:00</td>\n",
       "    </tr>\n",
       "    <tr>\n",
       "      <th>2</th>\n",
       "      <td>2021-07-30 13:00:00</td>\n",
       "      <td>2021-09-14</td>\n",
       "      <td>312</td>\n",
       "      <td>2021-09</td>\n",
       "      <td>September</td>\n",
       "      <td>1</td>\n",
       "      <td>Tuesday</td>\n",
       "      <td>13</td>\n",
       "      <td>45 days 11:00:00</td>\n",
       "      <td>2021-09-16</td>\n",
       "      <td>2021-09-14 04:00:00</td>\n",
       "    </tr>\n",
       "    <tr>\n",
       "      <th>3</th>\n",
       "      <td>2021-08-31 13:00:00</td>\n",
       "      <td>2022-02-05</td>\n",
       "      <td>416</td>\n",
       "      <td>2022-02</td>\n",
       "      <td>February</td>\n",
       "      <td>5</td>\n",
       "      <td>Saturday</td>\n",
       "      <td>13</td>\n",
       "      <td>157 days 11:00:00</td>\n",
       "      <td>2022-02-07</td>\n",
       "      <td>2022-02-05 04:00:00</td>\n",
       "    </tr>\n",
       "    <tr>\n",
       "      <th>4</th>\n",
       "      <td>2021-09-28 07:00:00</td>\n",
       "      <td>2021-12-30</td>\n",
       "      <td>349</td>\n",
       "      <td>2021-12</td>\n",
       "      <td>December</td>\n",
       "      <td>3</td>\n",
       "      <td>Thursday</td>\n",
       "      <td>7</td>\n",
       "      <td>92 days 17:00:00</td>\n",
       "      <td>2022-01-01</td>\n",
       "      <td>2021-12-30 04:00:00</td>\n",
       "    </tr>\n",
       "  </tbody>\n",
       "</table>\n",
       "</div>"
      ],
      "text/plain": [
       "        purchase_date  sold_date  qty sold_month sold_month_name  \\\n",
       "0 2021-05-31 00:00:00 2021-07-15  316    2021-07            July   \n",
       "1 2021-06-30 07:00:00 2022-01-12  495    2022-01         January   \n",
       "2 2021-07-30 13:00:00 2021-09-14  312    2021-09       September   \n",
       "3 2021-08-31 13:00:00 2022-02-05  416    2022-02        February   \n",
       "4 2021-09-28 07:00:00 2021-12-30  349    2021-12        December   \n",
       "\n",
       "   sold_day_ofthe_week sold_day_name  purchase_date_hour   time_difference  \\\n",
       "0                    3      Thursday                   0  45 days 00:00:00   \n",
       "1                    2     Wednesday                   7 195 days 17:00:00   \n",
       "2                    1       Tuesday                  13  45 days 11:00:00   \n",
       "3                    5      Saturday                  13 157 days 11:00:00   \n",
       "4                    3      Thursday                   7  92 days 17:00:00   \n",
       "\n",
       "  sold_date_limit  sold_date_timesend  \n",
       "0      2021-07-17 2021-07-15 04:00:00  \n",
       "1      2022-01-14 2022-01-12 04:00:00  \n",
       "2      2021-09-16 2021-09-14 04:00:00  \n",
       "3      2022-02-07 2022-02-05 04:00:00  \n",
       "4      2022-01-01 2021-12-30 04:00:00  "
      ]
     },
     "execution_count": 48,
     "metadata": {},
     "output_type": "execute_result"
    }
   ],
   "source": [
    "df_sales"
   ]
  },
  {
   "cell_type": "code",
   "execution_count": 49,
   "id": "b7df3f2d",
   "metadata": {},
   "outputs": [
    {
     "data": {
      "text/html": [
       "<div>\n",
       "<style scoped>\n",
       "    .dataframe tbody tr th:only-of-type {\n",
       "        vertical-align: middle;\n",
       "    }\n",
       "\n",
       "    .dataframe tbody tr th {\n",
       "        vertical-align: top;\n",
       "    }\n",
       "\n",
       "    .dataframe thead th {\n",
       "        text-align: right;\n",
       "    }\n",
       "</style>\n",
       "<table border=\"1\" class=\"dataframe\">\n",
       "  <thead>\n",
       "    <tr style=\"text-align: right;\">\n",
       "      <th></th>\n",
       "      <th>purchase_date</th>\n",
       "      <th>sold_date</th>\n",
       "      <th>qty</th>\n",
       "      <th>sold_month</th>\n",
       "      <th>sold_month_name</th>\n",
       "      <th>sold_day_ofthe_week</th>\n",
       "      <th>sold_day_name</th>\n",
       "      <th>purchase_date_hour</th>\n",
       "      <th>time_difference</th>\n",
       "      <th>sold_date_limit</th>\n",
       "      <th>sold_date_timesend</th>\n",
       "    </tr>\n",
       "  </thead>\n",
       "  <tbody>\n",
       "    <tr>\n",
       "      <th>0</th>\n",
       "      <td>2021-05-31 00:30:00</td>\n",
       "      <td>2021-07-15</td>\n",
       "      <td>316</td>\n",
       "      <td>2021-07</td>\n",
       "      <td>July</td>\n",
       "      <td>3</td>\n",
       "      <td>Thursday</td>\n",
       "      <td>0</td>\n",
       "      <td>45 days 00:00:00</td>\n",
       "      <td>2021-07-17</td>\n",
       "      <td>2021-07-15 04:00:00</td>\n",
       "    </tr>\n",
       "    <tr>\n",
       "      <th>1</th>\n",
       "      <td>2021-06-30 07:30:00</td>\n",
       "      <td>2022-01-12</td>\n",
       "      <td>495</td>\n",
       "      <td>2022-01</td>\n",
       "      <td>January</td>\n",
       "      <td>2</td>\n",
       "      <td>Wednesday</td>\n",
       "      <td>7</td>\n",
       "      <td>195 days 17:00:00</td>\n",
       "      <td>2022-01-14</td>\n",
       "      <td>2022-01-12 04:00:00</td>\n",
       "    </tr>\n",
       "    <tr>\n",
       "      <th>2</th>\n",
       "      <td>2021-07-30 13:30:00</td>\n",
       "      <td>2021-09-14</td>\n",
       "      <td>312</td>\n",
       "      <td>2021-09</td>\n",
       "      <td>September</td>\n",
       "      <td>1</td>\n",
       "      <td>Tuesday</td>\n",
       "      <td>13</td>\n",
       "      <td>45 days 11:00:00</td>\n",
       "      <td>2021-09-16</td>\n",
       "      <td>2021-09-14 04:00:00</td>\n",
       "    </tr>\n",
       "    <tr>\n",
       "      <th>3</th>\n",
       "      <td>2021-08-31 13:30:00</td>\n",
       "      <td>2022-02-05</td>\n",
       "      <td>416</td>\n",
       "      <td>2022-02</td>\n",
       "      <td>February</td>\n",
       "      <td>5</td>\n",
       "      <td>Saturday</td>\n",
       "      <td>13</td>\n",
       "      <td>157 days 11:00:00</td>\n",
       "      <td>2022-02-07</td>\n",
       "      <td>2022-02-05 04:00:00</td>\n",
       "    </tr>\n",
       "    <tr>\n",
       "      <th>4</th>\n",
       "      <td>2021-09-28 07:30:00</td>\n",
       "      <td>2021-12-30</td>\n",
       "      <td>349</td>\n",
       "      <td>2021-12</td>\n",
       "      <td>December</td>\n",
       "      <td>3</td>\n",
       "      <td>Thursday</td>\n",
       "      <td>7</td>\n",
       "      <td>92 days 17:00:00</td>\n",
       "      <td>2022-01-01</td>\n",
       "      <td>2021-12-30 04:00:00</td>\n",
       "    </tr>\n",
       "  </tbody>\n",
       "</table>\n",
       "</div>"
      ],
      "text/plain": [
       "        purchase_date  sold_date  qty sold_month sold_month_name  \\\n",
       "0 2021-05-31 00:30:00 2021-07-15  316    2021-07            July   \n",
       "1 2021-06-30 07:30:00 2022-01-12  495    2022-01         January   \n",
       "2 2021-07-30 13:30:00 2021-09-14  312    2021-09       September   \n",
       "3 2021-08-31 13:30:00 2022-02-05  416    2022-02        February   \n",
       "4 2021-09-28 07:30:00 2021-12-30  349    2021-12        December   \n",
       "\n",
       "   sold_day_ofthe_week sold_day_name  purchase_date_hour   time_difference  \\\n",
       "0                    3      Thursday                   0  45 days 00:00:00   \n",
       "1                    2     Wednesday                   7 195 days 17:00:00   \n",
       "2                    1       Tuesday                  13  45 days 11:00:00   \n",
       "3                    5      Saturday                  13 157 days 11:00:00   \n",
       "4                    3      Thursday                   7  92 days 17:00:00   \n",
       "\n",
       "  sold_date_limit  sold_date_timesend  \n",
       "0      2021-07-17 2021-07-15 04:00:00  \n",
       "1      2022-01-14 2022-01-12 04:00:00  \n",
       "2      2021-09-16 2021-09-14 04:00:00  \n",
       "3      2022-02-07 2022-02-05 04:00:00  \n",
       "4      2022-01-01 2021-12-30 04:00:00  "
      ]
     },
     "execution_count": 49,
     "metadata": {},
     "output_type": "execute_result"
    }
   ],
   "source": [
    "df_sales[\"purchase_date\"] = df_sales[\"purchase_date\"] + pd.DateOffset(minutes=30)\n",
    "\n",
    "df_sales"
   ]
  },
  {
   "cell_type": "markdown",
   "id": "eaaabcad",
   "metadata": {},
   "source": [
    "## Exercise 16: Subtraction with DateOffset\n",
    "\n",
    "* In order to do subtract instead of adding, we can either \n",
    "    - do subtraction or \n",
    "    - use a negative value inside the function.\n",
    "    \n",
    "\n",
    "The DateOffset function supports the following units:\n",
    "\n",
    "* years\n",
    "* months\n",
    "* weeks\n",
    "* days\n",
    "* hours\n",
    "* minutes\n",
    "* seconds\n",
    "* microseconds\n",
    "* nanoseconds"
   ]
  },
  {
   "cell_type": "code",
   "execution_count": 50,
   "id": "295a13d6",
   "metadata": {},
   "outputs": [
    {
     "data": {
      "text/plain": [
       "0   2021-05-30 19:30:00\n",
       "1   2021-06-30 02:30:00\n",
       "2   2021-07-30 08:30:00\n",
       "3   2021-08-31 08:30:00\n",
       "4   2021-09-28 02:30:00\n",
       "Name: purchase_date, dtype: datetime64[ns]"
      ]
     },
     "execution_count": 50,
     "metadata": {},
     "output_type": "execute_result"
    }
   ],
   "source": [
    "df_sales[\"purchase_date\"] - pd.DateOffset(hours=5)"
   ]
  },
  {
   "cell_type": "code",
   "execution_count": 51,
   "id": "d8f9f7c2",
   "metadata": {},
   "outputs": [
    {
     "data": {
      "text/plain": [
       "0   2021-05-30 19:30:00\n",
       "1   2021-06-30 02:30:00\n",
       "2   2021-07-30 08:30:00\n",
       "3   2021-08-31 08:30:00\n",
       "4   2021-09-28 02:30:00\n",
       "Name: purchase_date, dtype: datetime64[ns]"
      ]
     },
     "execution_count": 51,
     "metadata": {},
     "output_type": "execute_result"
    }
   ],
   "source": [
    "df_sales[\"purchase_date\"] + pd.DateOffset(hours=-5)"
   ]
  },
  {
   "cell_type": "markdown",
   "id": "b0c9f093",
   "metadata": {},
   "source": [
    "## Exercise 17: Add interval with Timedelta\n",
    "\n",
    "The TimeDelta function supports the following units:\n",
    "* W and w represent a week\n",
    "* D and d represent a day\n",
    "* H and h represent an hour\n",
    "* T and t represent a minute\n",
    "* S and s represent a second\n",
    "* L and l represent a millisecond\n",
    "* U and u represent a microsecond\n",
    "* N and n represent a nanosecond"
   ]
  },
  {
   "cell_type": "code",
   "execution_count": 53,
   "id": "a32a1a72",
   "metadata": {},
   "outputs": [
    {
     "data": {
      "text/plain": [
       "0   2021-07-25\n",
       "1   2022-01-22\n",
       "2   2021-09-24\n",
       "3   2022-02-15\n",
       "4   2022-01-09\n",
       "Name: sold_date, dtype: datetime64[ns]"
      ]
     },
     "execution_count": 53,
     "metadata": {},
     "output_type": "execute_result"
    }
   ],
   "source": [
    "df_sales[\"sold_date\"] + pd.Timedelta(value=10, unit=\"D\")"
   ]
  },
  {
   "cell_type": "code",
   "execution_count": 54,
   "id": "cfc55ddb",
   "metadata": {},
   "outputs": [
    {
     "data": {
      "text/plain": [
       "0   2021-05-31 05:30:00\n",
       "1   2021-06-30 12:30:00\n",
       "2   2021-07-30 18:30:00\n",
       "3   2021-08-31 18:30:00\n",
       "4   2021-09-28 12:30:00\n",
       "Name: purchase_date, dtype: datetime64[ns]"
      ]
     },
     "execution_count": 54,
     "metadata": {},
     "output_type": "execute_result"
    }
   ],
   "source": [
    "df_sales[\"purchase_date\"] + pd.Timedelta(value=5, unit=\"H\")"
   ]
  },
  {
   "cell_type": "markdown",
   "id": "b780fd78",
   "metadata": {},
   "source": [
    "## Exercise 18: The `to_datetime()` function\n",
    "\n",
    "* The to_datetime function can be used for converting a \n",
    "    - Scalar, \n",
    "    - Pandas Series, or \n",
    "    - Pandas DataFrame to a datetime object."
   ]
  },
  {
   "cell_type": "code",
   "execution_count": 55,
   "id": "e1a72931",
   "metadata": {},
   "outputs": [
    {
     "data": {
      "text/html": [
       "<div>\n",
       "<style scoped>\n",
       "    .dataframe tbody tr th:only-of-type {\n",
       "        vertical-align: middle;\n",
       "    }\n",
       "\n",
       "    .dataframe tbody tr th {\n",
       "        vertical-align: top;\n",
       "    }\n",
       "\n",
       "    .dataframe thead th {\n",
       "        text-align: right;\n",
       "    }\n",
       "</style>\n",
       "<table border=\"1\" class=\"dataframe\">\n",
       "  <thead>\n",
       "    <tr style=\"text-align: right;\">\n",
       "      <th></th>\n",
       "      <th>year</th>\n",
       "      <th>month</th>\n",
       "      <th>day</th>\n",
       "    </tr>\n",
       "  </thead>\n",
       "  <tbody>\n",
       "    <tr>\n",
       "      <th>0</th>\n",
       "      <td>2021</td>\n",
       "      <td>12</td>\n",
       "      <td>28</td>\n",
       "    </tr>\n",
       "    <tr>\n",
       "      <th>1</th>\n",
       "      <td>2022</td>\n",
       "      <td>4</td>\n",
       "      <td>19</td>\n",
       "    </tr>\n",
       "  </tbody>\n",
       "</table>\n",
       "</div>"
      ],
      "text/plain": [
       "   year  month  day\n",
       "0  2021     12   28\n",
       "1  2022      4   19"
      ]
     },
     "execution_count": 55,
     "metadata": {},
     "output_type": "execute_result"
    }
   ],
   "source": [
    "sample_df = pd.DataFrame({\"year\": [2021, 2022],\n",
    "                          \"month\": [12, 4],\n",
    "                          \"day\": [28, 19]})\n",
    "sample_df"
   ]
  },
  {
   "cell_type": "code",
   "execution_count": 56,
   "id": "00da5cb1",
   "metadata": {},
   "outputs": [],
   "source": [
    "# Convert Dataframe\n",
    "\n",
    "sample_df[\"date\"] = pd.to_datetime(sample_df)"
   ]
  },
  {
   "cell_type": "code",
   "execution_count": 57,
   "id": "372c7379",
   "metadata": {},
   "outputs": [
    {
     "data": {
      "text/html": [
       "<div>\n",
       "<style scoped>\n",
       "    .dataframe tbody tr th:only-of-type {\n",
       "        vertical-align: middle;\n",
       "    }\n",
       "\n",
       "    .dataframe tbody tr th {\n",
       "        vertical-align: top;\n",
       "    }\n",
       "\n",
       "    .dataframe thead th {\n",
       "        text-align: right;\n",
       "    }\n",
       "</style>\n",
       "<table border=\"1\" class=\"dataframe\">\n",
       "  <thead>\n",
       "    <tr style=\"text-align: right;\">\n",
       "      <th></th>\n",
       "      <th>year</th>\n",
       "      <th>month</th>\n",
       "      <th>day</th>\n",
       "      <th>date</th>\n",
       "    </tr>\n",
       "  </thead>\n",
       "  <tbody>\n",
       "    <tr>\n",
       "      <th>0</th>\n",
       "      <td>2021</td>\n",
       "      <td>12</td>\n",
       "      <td>28</td>\n",
       "      <td>2021-12-28</td>\n",
       "    </tr>\n",
       "    <tr>\n",
       "      <th>1</th>\n",
       "      <td>2022</td>\n",
       "      <td>4</td>\n",
       "      <td>19</td>\n",
       "      <td>2022-04-19</td>\n",
       "    </tr>\n",
       "  </tbody>\n",
       "</table>\n",
       "</div>"
      ],
      "text/plain": [
       "   year  month  day       date\n",
       "0  2021     12   28 2021-12-28\n",
       "1  2022      4   19 2022-04-19"
      ]
     },
     "execution_count": 57,
     "metadata": {},
     "output_type": "execute_result"
    }
   ],
   "source": [
    "sample_df"
   ]
  },
  {
   "cell_type": "code",
   "execution_count": 58,
   "id": "a658464e",
   "metadata": {},
   "outputs": [
    {
     "data": {
      "text/plain": [
       "Timestamp('2022-11-28 00:00:00')"
      ]
     },
     "execution_count": 58,
     "metadata": {},
     "output_type": "execute_result"
    }
   ],
   "source": [
    "# Convert string\n",
    "\n",
    "pd.to_datetime(\"2022-11-28\")"
   ]
  },
  {
   "cell_type": "code",
   "execution_count": 59,
   "id": "3285468d",
   "metadata": {},
   "outputs": [
    {
     "data": {
      "text/html": [
       "<div>\n",
       "<style scoped>\n",
       "    .dataframe tbody tr th:only-of-type {\n",
       "        vertical-align: middle;\n",
       "    }\n",
       "\n",
       "    .dataframe tbody tr th {\n",
       "        vertical-align: top;\n",
       "    }\n",
       "\n",
       "    .dataframe thead th {\n",
       "        text-align: right;\n",
       "    }\n",
       "</style>\n",
       "<table border=\"1\" class=\"dataframe\">\n",
       "  <thead>\n",
       "    <tr style=\"text-align: right;\">\n",
       "      <th></th>\n",
       "      <th>year</th>\n",
       "      <th>month</th>\n",
       "      <th>day</th>\n",
       "      <th>date</th>\n",
       "      <th>new_date</th>\n",
       "    </tr>\n",
       "  </thead>\n",
       "  <tbody>\n",
       "    <tr>\n",
       "      <th>0</th>\n",
       "      <td>2021</td>\n",
       "      <td>12</td>\n",
       "      <td>28</td>\n",
       "      <td>2021-12-28</td>\n",
       "      <td>2022-11-28</td>\n",
       "    </tr>\n",
       "    <tr>\n",
       "      <th>1</th>\n",
       "      <td>2022</td>\n",
       "      <td>4</td>\n",
       "      <td>19</td>\n",
       "      <td>2022-04-19</td>\n",
       "      <td>2022-11-28</td>\n",
       "    </tr>\n",
       "  </tbody>\n",
       "</table>\n",
       "</div>"
      ],
      "text/plain": [
       "   year  month  day       date   new_date\n",
       "0  2021     12   28 2021-12-28 2022-11-28\n",
       "1  2022      4   19 2022-04-19 2022-11-28"
      ]
     },
     "execution_count": 59,
     "metadata": {},
     "output_type": "execute_result"
    }
   ],
   "source": [
    "new_date = pd.to_datetime(\"2022-11-28\")\n",
    "\n",
    "sample_df[\"new_date\"] = new_date\n",
    "\n",
    "sample_df"
   ]
  },
  {
   "cell_type": "markdown",
   "id": "dcfda4d2",
   "metadata": {},
   "source": [
    "## Exercise 19: The `date_range()` function"
   ]
  },
  {
   "cell_type": "code",
   "execution_count": 60,
   "id": "aaee0504",
   "metadata": {},
   "outputs": [
    {
     "data": {
      "text/plain": [
       "DatetimeIndex(['2021-12-28', '2021-12-29', '2021-12-30', '2021-12-31',\n",
       "               '2022-01-01'],\n",
       "              dtype='datetime64[ns]', freq='D')"
      ]
     },
     "execution_count": 60,
     "metadata": {},
     "output_type": "execute_result"
    }
   ],
   "source": [
    "pd.date_range(start=\"2021-12-28\", periods=5, freq=\"D\")"
   ]
  },
  {
   "cell_type": "code",
   "execution_count": 61,
   "id": "80a98a36",
   "metadata": {},
   "outputs": [
    {
     "data": {
      "text/html": [
       "<div>\n",
       "<style scoped>\n",
       "    .dataframe tbody tr th:only-of-type {\n",
       "        vertical-align: middle;\n",
       "    }\n",
       "\n",
       "    .dataframe tbody tr th {\n",
       "        vertical-align: top;\n",
       "    }\n",
       "\n",
       "    .dataframe thead th {\n",
       "        text-align: right;\n",
       "    }\n",
       "</style>\n",
       "<table border=\"1\" class=\"dataframe\">\n",
       "  <thead>\n",
       "    <tr style=\"text-align: right;\">\n",
       "      <th></th>\n",
       "      <th>Date</th>\n",
       "      <th>Measurement</th>\n",
       "    </tr>\n",
       "  </thead>\n",
       "  <tbody>\n",
       "    <tr>\n",
       "      <th>0</th>\n",
       "      <td>2022-11-28</td>\n",
       "      <td>1</td>\n",
       "    </tr>\n",
       "    <tr>\n",
       "      <th>1</th>\n",
       "      <td>2022-11-29</td>\n",
       "      <td>10</td>\n",
       "    </tr>\n",
       "    <tr>\n",
       "      <th>2</th>\n",
       "      <td>2022-11-30</td>\n",
       "      <td>25</td>\n",
       "    </tr>\n",
       "    <tr>\n",
       "      <th>3</th>\n",
       "      <td>2022-12-01</td>\n",
       "      <td>7</td>\n",
       "    </tr>\n",
       "    <tr>\n",
       "      <th>4</th>\n",
       "      <td>2022-12-02</td>\n",
       "      <td>12</td>\n",
       "    </tr>\n",
       "  </tbody>\n",
       "</table>\n",
       "</div>"
      ],
      "text/plain": [
       "        Date  Measurement\n",
       "0 2022-11-28            1\n",
       "1 2022-11-29           10\n",
       "2 2022-11-30           25\n",
       "3 2022-12-01            7\n",
       "4 2022-12-02           12"
      ]
     },
     "execution_count": 61,
     "metadata": {},
     "output_type": "execute_result"
    }
   ],
   "source": [
    "df_dateR = pd.DataFrame({\"Date\": pd.date_range(start=\"2022-11-28\", periods=5, freq=\"D\"),\n",
    "                         \"Measurement\": [1, 10, 25, 7, 12]})\n",
    "\n",
    "df_dateR"
   ]
  },
  {
   "cell_type": "code",
   "execution_count": 62,
   "id": "3d910043",
   "metadata": {},
   "outputs": [
    {
     "data": {
      "text/plain": [
       "DatetimeIndex(['2022-11-28', '2022-11-29', '2022-11-30', '2022-12-01',\n",
       "               '2022-12-02', '2022-12-03', '2022-12-04', '2022-12-05',\n",
       "               '2022-12-06', '2022-12-07', '2022-12-08', '2022-12-09',\n",
       "               '2022-12-10'],\n",
       "              dtype='datetime64[ns]', freq='D')"
      ]
     },
     "execution_count": 62,
     "metadata": {},
     "output_type": "execute_result"
    }
   ],
   "source": [
    "pd.date_range(start=\"2022-11-28\", end=\"2022-12-10\", freq=\"D\")"
   ]
  },
  {
   "cell_type": "code",
   "execution_count": 63,
   "id": "1512d135",
   "metadata": {},
   "outputs": [
    {
     "data": {
      "text/plain": [
       "DatetimeIndex(['2022-11-28', '2022-11-30', '2022-12-02', '2022-12-04',\n",
       "               '2022-12-06', '2022-12-08', '2022-12-10'],\n",
       "              dtype='datetime64[ns]', freq='2D')"
      ]
     },
     "execution_count": 63,
     "metadata": {},
     "output_type": "execute_result"
    }
   ],
   "source": [
    "pd.date_range(start=\"2022-11-28\", end=\"2022-12-10\", freq=\"2D\")"
   ]
  },
  {
   "cell_type": "markdown",
   "id": "13c1c5b9",
   "metadata": {},
   "source": [
    "# Filter Pandas DataFrame By Time\n",
    "\n",
    "### How to filter by time across the different axis.\n",
    "\n",
    "examine how to filter a Pandas DataFrame by time using the .between_time() , .at_time() and .loc methods in Pandas"
   ]
  },
  {
   "cell_type": "code",
   "execution_count": 6,
   "id": "006771fc",
   "metadata": {},
   "outputs": [],
   "source": [
    "import pandas as pd\n",
    "import numpy as np"
   ]
  },
  {
   "cell_type": "code",
   "execution_count": 4,
   "id": "1831e88b",
   "metadata": {},
   "outputs": [],
   "source": [
    "ts = pd.date_range('2022-03-04', periods=10, freq='12h20min')"
   ]
  },
  {
   "cell_type": "code",
   "execution_count": 7,
   "id": "b49b7d4f",
   "metadata": {},
   "outputs": [
    {
     "data": {
      "text/html": [
       "<div>\n",
       "<style scoped>\n",
       "    .dataframe tbody tr th:only-of-type {\n",
       "        vertical-align: middle;\n",
       "    }\n",
       "\n",
       "    .dataframe tbody tr th {\n",
       "        vertical-align: top;\n",
       "    }\n",
       "\n",
       "    .dataframe thead th {\n",
       "        text-align: right;\n",
       "    }\n",
       "</style>\n",
       "<table border=\"1\" class=\"dataframe\">\n",
       "  <thead>\n",
       "    <tr style=\"text-align: right;\">\n",
       "      <th></th>\n",
       "      <th>ts</th>\n",
       "      <th>qty</th>\n",
       "    </tr>\n",
       "  </thead>\n",
       "  <tbody>\n",
       "    <tr>\n",
       "      <th>0</th>\n",
       "      <td>2022-03-04 00:00:00</td>\n",
       "      <td>20</td>\n",
       "    </tr>\n",
       "    <tr>\n",
       "      <th>1</th>\n",
       "      <td>2022-03-04 12:20:00</td>\n",
       "      <td>18</td>\n",
       "    </tr>\n",
       "    <tr>\n",
       "      <th>2</th>\n",
       "      <td>2022-03-05 00:40:00</td>\n",
       "      <td>80</td>\n",
       "    </tr>\n",
       "    <tr>\n",
       "      <th>3</th>\n",
       "      <td>2022-03-05 13:00:00</td>\n",
       "      <td>51</td>\n",
       "    </tr>\n",
       "    <tr>\n",
       "      <th>4</th>\n",
       "      <td>2022-03-06 01:20:00</td>\n",
       "      <td>71</td>\n",
       "    </tr>\n",
       "    <tr>\n",
       "      <th>5</th>\n",
       "      <td>2022-03-06 13:40:00</td>\n",
       "      <td>43</td>\n",
       "    </tr>\n",
       "    <tr>\n",
       "      <th>6</th>\n",
       "      <td>2022-03-07 02:00:00</td>\n",
       "      <td>98</td>\n",
       "    </tr>\n",
       "    <tr>\n",
       "      <th>7</th>\n",
       "      <td>2022-03-07 14:20:00</td>\n",
       "      <td>20</td>\n",
       "    </tr>\n",
       "    <tr>\n",
       "      <th>8</th>\n",
       "      <td>2022-03-08 02:40:00</td>\n",
       "      <td>88</td>\n",
       "    </tr>\n",
       "    <tr>\n",
       "      <th>9</th>\n",
       "      <td>2022-03-08 15:00:00</td>\n",
       "      <td>47</td>\n",
       "    </tr>\n",
       "  </tbody>\n",
       "</table>\n",
       "</div>"
      ],
      "text/plain": [
       "                   ts  qty\n",
       "0 2022-03-04 00:00:00   20\n",
       "1 2022-03-04 12:20:00   18\n",
       "2 2022-03-05 00:40:00   80\n",
       "3 2022-03-05 13:00:00   51\n",
       "4 2022-03-06 01:20:00   71\n",
       "5 2022-03-06 13:40:00   43\n",
       "6 2022-03-07 02:00:00   98\n",
       "7 2022-03-07 14:20:00   20\n",
       "8 2022-03-08 02:40:00   88\n",
       "9 2022-03-08 15:00:00   47"
      ]
     },
     "execution_count": 7,
     "metadata": {},
     "output_type": "execute_result"
    }
   ],
   "source": [
    "df_row = pd.DataFrame({'ts': ts, 'qty': [np.random.randint(10, 100) for i in range(10)]})\n",
    "df_row"
   ]
  },
  {
   "cell_type": "code",
   "execution_count": 8,
   "id": "d87debfc",
   "metadata": {},
   "outputs": [
    {
     "data": {
      "text/html": [
       "<div>\n",
       "<style scoped>\n",
       "    .dataframe tbody tr th:only-of-type {\n",
       "        vertical-align: middle;\n",
       "    }\n",
       "\n",
       "    .dataframe tbody tr th {\n",
       "        vertical-align: top;\n",
       "    }\n",
       "\n",
       "    .dataframe thead th {\n",
       "        text-align: right;\n",
       "    }\n",
       "</style>\n",
       "<table border=\"1\" class=\"dataframe\">\n",
       "  <thead>\n",
       "    <tr style=\"text-align: right;\">\n",
       "      <th></th>\n",
       "      <th>2022-03-04 00:00:00</th>\n",
       "      <th>2022-03-04 12:20:00</th>\n",
       "      <th>2022-03-05 00:40:00</th>\n",
       "      <th>2022-03-05 13:00:00</th>\n",
       "      <th>2022-03-06 01:20:00</th>\n",
       "      <th>2022-03-06 13:40:00</th>\n",
       "      <th>2022-03-07 02:00:00</th>\n",
       "      <th>2022-03-07 14:20:00</th>\n",
       "      <th>2022-03-08 02:40:00</th>\n",
       "      <th>2022-03-08 15:00:00</th>\n",
       "    </tr>\n",
       "  </thead>\n",
       "  <tbody>\n",
       "    <tr>\n",
       "      <th>0</th>\n",
       "      <td>34</td>\n",
       "      <td>17</td>\n",
       "      <td>21</td>\n",
       "      <td>70</td>\n",
       "      <td>6</td>\n",
       "      <td>61</td>\n",
       "      <td>23</td>\n",
       "      <td>49</td>\n",
       "      <td>20</td>\n",
       "      <td>23</td>\n",
       "    </tr>\n",
       "    <tr>\n",
       "      <th>1</th>\n",
       "      <td>16</td>\n",
       "      <td>7</td>\n",
       "      <td>73</td>\n",
       "      <td>47</td>\n",
       "      <td>47</td>\n",
       "      <td>4</td>\n",
       "      <td>16</td>\n",
       "      <td>17</td>\n",
       "      <td>60</td>\n",
       "      <td>60</td>\n",
       "    </tr>\n",
       "    <tr>\n",
       "      <th>2</th>\n",
       "      <td>1</td>\n",
       "      <td>20</td>\n",
       "      <td>88</td>\n",
       "      <td>39</td>\n",
       "      <td>5</td>\n",
       "      <td>97</td>\n",
       "      <td>3</td>\n",
       "      <td>4</td>\n",
       "      <td>35</td>\n",
       "      <td>90</td>\n",
       "    </tr>\n",
       "    <tr>\n",
       "      <th>3</th>\n",
       "      <td>49</td>\n",
       "      <td>11</td>\n",
       "      <td>19</td>\n",
       "      <td>47</td>\n",
       "      <td>69</td>\n",
       "      <td>85</td>\n",
       "      <td>92</td>\n",
       "      <td>46</td>\n",
       "      <td>76</td>\n",
       "      <td>43</td>\n",
       "    </tr>\n",
       "    <tr>\n",
       "      <th>4</th>\n",
       "      <td>56</td>\n",
       "      <td>56</td>\n",
       "      <td>58</td>\n",
       "      <td>64</td>\n",
       "      <td>94</td>\n",
       "      <td>38</td>\n",
       "      <td>96</td>\n",
       "      <td>39</td>\n",
       "      <td>34</td>\n",
       "      <td>90</td>\n",
       "    </tr>\n",
       "  </tbody>\n",
       "</table>\n",
       "</div>"
      ],
      "text/plain": [
       "   2022-03-04 00:00:00  2022-03-04 12:20:00  2022-03-05 00:40:00  \\\n",
       "0                   34                   17                   21   \n",
       "1                   16                    7                   73   \n",
       "2                    1                   20                   88   \n",
       "3                   49                   11                   19   \n",
       "4                   56                   56                   58   \n",
       "\n",
       "   2022-03-05 13:00:00  2022-03-06 01:20:00  2022-03-06 13:40:00  \\\n",
       "0                   70                    6                   61   \n",
       "1                   47                   47                    4   \n",
       "2                   39                    5                   97   \n",
       "3                   47                   69                   85   \n",
       "4                   64                   94                   38   \n",
       "\n",
       "   2022-03-07 02:00:00  2022-03-07 14:20:00  2022-03-08 02:40:00  \\\n",
       "0                   23                   49                   20   \n",
       "1                   16                   17                   60   \n",
       "2                    3                    4                   35   \n",
       "3                   92                   46                   76   \n",
       "4                   96                   39                   34   \n",
       "\n",
       "   2022-03-08 15:00:00  \n",
       "0                   23  \n",
       "1                   60  \n",
       "2                   90  \n",
       "3                   43  \n",
       "4                   90  "
      ]
     },
     "execution_count": 8,
     "metadata": {},
     "output_type": "execute_result"
    }
   ],
   "source": [
    "df_col = pd.DataFrame(np.random.randint(0,100,size=(5, 10)), columns = ts)\n",
    "df_col"
   ]
  },
  {
   "cell_type": "markdown",
   "id": "d82fcd35",
   "metadata": {},
   "source": [
    "## Exercise 20: Between Time\n",
    "\n",
    "`.between_time()` is a Pandas DataFrame method that filters for rows in a Pandas DataFrame between a start and end time.\n",
    "- `.between_time()` only filter for time regardless of the date.\n",
    "\n",
    "Parameters are:\n",
    "- start_time: datetime.time or str\n",
    "- end_time : datetime.time or str\n",
    "    - start_time and end_time argument excepts both 24-hour and 12-hour time format. \n",
    "    - start_time and end_time are inclusive by default. \n",
    "        - We can set the left and right bound as open or closed by defining the inclusive parameter.\n",
    "- inclusive : {“both”, “neither”, “left”, “right”}, default “both”. \n",
    "    - Include boundaries; whether to set each bound as closed or open.\n",
    "- axis: {0 or ‘index’, 1 or ‘columns’}, default 0.\n",
    "\n",
    "This method is used to filter a DateTimeIndex therefore we must ensure that the ts column is set as the index using the `set_index()` method. \n",
    "\n",
    "### By Row"
   ]
  },
  {
   "cell_type": "code",
   "execution_count": 9,
   "id": "44eec639",
   "metadata": {},
   "outputs": [
    {
     "data": {
      "text/html": [
       "<div>\n",
       "<style scoped>\n",
       "    .dataframe tbody tr th:only-of-type {\n",
       "        vertical-align: middle;\n",
       "    }\n",
       "\n",
       "    .dataframe tbody tr th {\n",
       "        vertical-align: top;\n",
       "    }\n",
       "\n",
       "    .dataframe thead th {\n",
       "        text-align: right;\n",
       "    }\n",
       "</style>\n",
       "<table border=\"1\" class=\"dataframe\">\n",
       "  <thead>\n",
       "    <tr style=\"text-align: right;\">\n",
       "      <th></th>\n",
       "      <th>ts</th>\n",
       "      <th>qty</th>\n",
       "    </tr>\n",
       "  </thead>\n",
       "  <tbody>\n",
       "    <tr>\n",
       "      <th>0</th>\n",
       "      <td>2022-03-07 14:20:00</td>\n",
       "      <td>20</td>\n",
       "    </tr>\n",
       "    <tr>\n",
       "      <th>1</th>\n",
       "      <td>2022-03-08 15:00:00</td>\n",
       "      <td>47</td>\n",
       "    </tr>\n",
       "  </tbody>\n",
       "</table>\n",
       "</div>"
      ],
      "text/plain": [
       "                   ts  qty\n",
       "0 2022-03-07 14:20:00   20\n",
       "1 2022-03-08 15:00:00   47"
      ]
     },
     "execution_count": 9,
     "metadata": {},
     "output_type": "execute_result"
    }
   ],
   "source": [
    "# 24 hour format\n",
    "df_row.set_index('ts').between_time('14:20', '16:00').reset_index()"
   ]
  },
  {
   "cell_type": "code",
   "execution_count": 10,
   "id": "5c7936b9",
   "metadata": {},
   "outputs": [
    {
     "data": {
      "text/html": [
       "<div>\n",
       "<style scoped>\n",
       "    .dataframe tbody tr th:only-of-type {\n",
       "        vertical-align: middle;\n",
       "    }\n",
       "\n",
       "    .dataframe tbody tr th {\n",
       "        vertical-align: top;\n",
       "    }\n",
       "\n",
       "    .dataframe thead th {\n",
       "        text-align: right;\n",
       "    }\n",
       "</style>\n",
       "<table border=\"1\" class=\"dataframe\">\n",
       "  <thead>\n",
       "    <tr style=\"text-align: right;\">\n",
       "      <th></th>\n",
       "      <th>ts</th>\n",
       "      <th>qty</th>\n",
       "    </tr>\n",
       "  </thead>\n",
       "  <tbody>\n",
       "    <tr>\n",
       "      <th>0</th>\n",
       "      <td>2022-03-07 14:20:00</td>\n",
       "      <td>20</td>\n",
       "    </tr>\n",
       "    <tr>\n",
       "      <th>1</th>\n",
       "      <td>2022-03-08 15:00:00</td>\n",
       "      <td>47</td>\n",
       "    </tr>\n",
       "  </tbody>\n",
       "</table>\n",
       "</div>"
      ],
      "text/plain": [
       "                   ts  qty\n",
       "0 2022-03-07 14:20:00   20\n",
       "1 2022-03-08 15:00:00   47"
      ]
     },
     "execution_count": 10,
     "metadata": {},
     "output_type": "execute_result"
    }
   ],
   "source": [
    "# 12 hour format\n",
    "df_row.set_index('ts').between_time('2:20PM', '4:00PM').reset_index()"
   ]
  },
  {
   "cell_type": "code",
   "execution_count": 11,
   "id": "dcfcca70",
   "metadata": {},
   "outputs": [
    {
     "ename": "TypeError",
     "evalue": "between_time() got an unexpected keyword argument 'inclusive'",
     "output_type": "error",
     "traceback": [
      "\u001b[1;31m---------------------------------------------------------------------------\u001b[0m",
      "\u001b[1;31mTypeError\u001b[0m                                 Traceback (most recent call last)",
      "\u001b[1;32m<ipython-input-11-1b174aad5c7f>\u001b[0m in \u001b[0;36m<module>\u001b[1;34m\u001b[0m\n\u001b[1;32m----> 1\u001b[1;33m \u001b[0mdf_row\u001b[0m\u001b[1;33m.\u001b[0m\u001b[0mset_index\u001b[0m\u001b[1;33m(\u001b[0m\u001b[1;34m'ts'\u001b[0m\u001b[1;33m)\u001b[0m\u001b[1;33m.\u001b[0m\u001b[0mbetween_time\u001b[0m\u001b[1;33m(\u001b[0m\u001b[1;34m'2:20PM'\u001b[0m\u001b[1;33m,\u001b[0m \u001b[1;34m'4:00PM'\u001b[0m\u001b[1;33m,\u001b[0m \u001b[0minclusive\u001b[0m \u001b[1;33m=\u001b[0m \u001b[1;34m'right'\u001b[0m\u001b[1;33m)\u001b[0m\u001b[1;33m.\u001b[0m\u001b[0mreset_index\u001b[0m\u001b[1;33m(\u001b[0m\u001b[1;33m)\u001b[0m\u001b[1;33m\u001b[0m\u001b[1;33m\u001b[0m\u001b[0m\n\u001b[0m\u001b[0;32m      2\u001b[0m \u001b[1;33m\u001b[0m\u001b[0m\n\u001b[0;32m      3\u001b[0m \u001b[1;31m#  row with time 14:20:00 is removed as the left bound is not included.\u001b[0m\u001b[1;33m\u001b[0m\u001b[1;33m\u001b[0m\u001b[1;33m\u001b[0m\u001b[0m\n",
      "\u001b[1;31mTypeError\u001b[0m: between_time() got an unexpected keyword argument 'inclusive'"
     ]
    }
   ],
   "source": [
    "df_row.set_index('ts').between_time('2:20PM', '4:00PM', inclusive = 'right').reset_index()\n",
    "\n",
    "#  row with time 14:20:00 is removed as the left bound is not included."
   ]
  },
  {
   "cell_type": "markdown",
   "id": "b48504e6",
   "metadata": {},
   "source": [
    "If we wish to get all the times that are not between the start_time and end_time we simply need to set the start_time to be later than the end_time."
   ]
  },
  {
   "cell_type": "code",
   "execution_count": 12,
   "id": "0debb353",
   "metadata": {},
   "outputs": [
    {
     "data": {
      "text/html": [
       "<div>\n",
       "<style scoped>\n",
       "    .dataframe tbody tr th:only-of-type {\n",
       "        vertical-align: middle;\n",
       "    }\n",
       "\n",
       "    .dataframe tbody tr th {\n",
       "        vertical-align: top;\n",
       "    }\n",
       "\n",
       "    .dataframe thead th {\n",
       "        text-align: right;\n",
       "    }\n",
       "</style>\n",
       "<table border=\"1\" class=\"dataframe\">\n",
       "  <thead>\n",
       "    <tr style=\"text-align: right;\">\n",
       "      <th></th>\n",
       "      <th>ts</th>\n",
       "      <th>qty</th>\n",
       "    </tr>\n",
       "  </thead>\n",
       "  <tbody>\n",
       "    <tr>\n",
       "      <th>0</th>\n",
       "      <td>2022-03-04 00:00:00</td>\n",
       "      <td>20</td>\n",
       "    </tr>\n",
       "    <tr>\n",
       "      <th>1</th>\n",
       "      <td>2022-03-04 12:20:00</td>\n",
       "      <td>18</td>\n",
       "    </tr>\n",
       "    <tr>\n",
       "      <th>2</th>\n",
       "      <td>2022-03-05 00:40:00</td>\n",
       "      <td>80</td>\n",
       "    </tr>\n",
       "    <tr>\n",
       "      <th>3</th>\n",
       "      <td>2022-03-05 13:00:00</td>\n",
       "      <td>51</td>\n",
       "    </tr>\n",
       "    <tr>\n",
       "      <th>4</th>\n",
       "      <td>2022-03-06 01:20:00</td>\n",
       "      <td>71</td>\n",
       "    </tr>\n",
       "    <tr>\n",
       "      <th>5</th>\n",
       "      <td>2022-03-06 13:40:00</td>\n",
       "      <td>43</td>\n",
       "    </tr>\n",
       "    <tr>\n",
       "      <th>6</th>\n",
       "      <td>2022-03-07 02:00:00</td>\n",
       "      <td>98</td>\n",
       "    </tr>\n",
       "    <tr>\n",
       "      <th>7</th>\n",
       "      <td>2022-03-07 14:20:00</td>\n",
       "      <td>20</td>\n",
       "    </tr>\n",
       "    <tr>\n",
       "      <th>8</th>\n",
       "      <td>2022-03-08 02:40:00</td>\n",
       "      <td>88</td>\n",
       "    </tr>\n",
       "  </tbody>\n",
       "</table>\n",
       "</div>"
      ],
      "text/plain": [
       "                   ts  qty\n",
       "0 2022-03-04 00:00:00   20\n",
       "1 2022-03-04 12:20:00   18\n",
       "2 2022-03-05 00:40:00   80\n",
       "3 2022-03-05 13:00:00   51\n",
       "4 2022-03-06 01:20:00   71\n",
       "5 2022-03-06 13:40:00   43\n",
       "6 2022-03-07 02:00:00   98\n",
       "7 2022-03-07 14:20:00   20\n",
       "8 2022-03-08 02:40:00   88"
      ]
     },
     "execution_count": 12,
     "metadata": {},
     "output_type": "execute_result"
    }
   ],
   "source": [
    "# swap the start_time and end_time\n",
    "df_row.set_index('ts').between_time('16:00', '14:20').reset_index()"
   ]
  },
  {
   "cell_type": "markdown",
   "id": "e55bec72",
   "metadata": {},
   "source": [
    "### By Column\n",
    "\n",
    "`.between_time()` also allow us to filter a DataFrame by time across columns. We can do so by defining the axis parameter as 1"
   ]
  },
  {
   "cell_type": "code",
   "execution_count": 13,
   "id": "402cd481",
   "metadata": {},
   "outputs": [
    {
     "data": {
      "text/html": [
       "<div>\n",
       "<style scoped>\n",
       "    .dataframe tbody tr th:only-of-type {\n",
       "        vertical-align: middle;\n",
       "    }\n",
       "\n",
       "    .dataframe tbody tr th {\n",
       "        vertical-align: top;\n",
       "    }\n",
       "\n",
       "    .dataframe thead th {\n",
       "        text-align: right;\n",
       "    }\n",
       "</style>\n",
       "<table border=\"1\" class=\"dataframe\">\n",
       "  <thead>\n",
       "    <tr style=\"text-align: right;\">\n",
       "      <th></th>\n",
       "      <th>2022-03-07 14:20:00</th>\n",
       "      <th>2022-03-08 15:00:00</th>\n",
       "    </tr>\n",
       "  </thead>\n",
       "  <tbody>\n",
       "    <tr>\n",
       "      <th>0</th>\n",
       "      <td>49</td>\n",
       "      <td>23</td>\n",
       "    </tr>\n",
       "    <tr>\n",
       "      <th>1</th>\n",
       "      <td>17</td>\n",
       "      <td>60</td>\n",
       "    </tr>\n",
       "    <tr>\n",
       "      <th>2</th>\n",
       "      <td>4</td>\n",
       "      <td>90</td>\n",
       "    </tr>\n",
       "    <tr>\n",
       "      <th>3</th>\n",
       "      <td>46</td>\n",
       "      <td>43</td>\n",
       "    </tr>\n",
       "    <tr>\n",
       "      <th>4</th>\n",
       "      <td>39</td>\n",
       "      <td>90</td>\n",
       "    </tr>\n",
       "  </tbody>\n",
       "</table>\n",
       "</div>"
      ],
      "text/plain": [
       "   2022-03-07 14:20:00  2022-03-08 15:00:00\n",
       "0                   49                   23\n",
       "1                   17                   60\n",
       "2                    4                   90\n",
       "3                   46                   43\n",
       "4                   39                   90"
      ]
     },
     "execution_count": 13,
     "metadata": {},
     "output_type": "execute_result"
    }
   ],
   "source": [
    "df_col.between_time('14:20', '16:00', axis = 1)"
   ]
  },
  {
   "cell_type": "markdown",
   "id": "44931ae2",
   "metadata": {},
   "source": [
    "## Exercise: At Time\n",
    "`.at_time()` is a Pandas DataFrame method that selects rows with the exact time instead of a range of time. \n",
    "\n",
    "Parameters are:\n",
    "\n",
    "- time: timedatetime.time or str\n",
    "- axis: {0 or ‘index’, 1 or ‘columns’}, default 0\n",
    "\n",
    "This method is used to filter a DateTimeIndex therefore we must ensure that the ts column is set as the index by using the `set_index()` method. \n",
    "\n",
    "The time the parameter accepts both 24-hour and 12-hour time formats. \n",
    "\n",
    "Note that `.at_time() `only filter for time regardless of the date.\n",
    "\n",
    "### By row:"
   ]
  },
  {
   "cell_type": "code",
   "execution_count": null,
   "id": "125e253c",
   "metadata": {},
   "outputs": [],
   "source": [
    "# 24 hour format\n",
    "df_row.set_index('ts').at_time('02:40').reset_index()"
   ]
  },
  {
   "cell_type": "code",
   "execution_count": null,
   "id": "b45b6d5b",
   "metadata": {},
   "outputs": [],
   "source": [
    "# 12 hour format\n",
    "df_row.set_index('ts').at_time('2:40 AM').reset_index()"
   ]
  },
  {
   "cell_type": "markdown",
   "id": "bd549c3e",
   "metadata": {},
   "source": [
    "### By Columns:\n",
    "\n",
    "`.at_time()` also allow us to filter a DataFrame by time across columns instead of rows. We can do so by simply defining the axis parameter as 1."
   ]
  },
  {
   "cell_type": "code",
   "execution_count": null,
   "id": "61ed85dc",
   "metadata": {},
   "outputs": [],
   "source": [
    "df_col.at_time('02:40', axis = 1)"
   ]
  },
  {
   "cell_type": "markdown",
   "id": "a22fff64",
   "metadata": {},
   "source": [
    "# Filter between date & time\n",
    "\n",
    "shows how to filter between two timestamps, taking into consideration both date and time e.g. between 2022-03-04 12:00 and 2022-03-06 15:00 . \n",
    "\n",
    "Let's define the start and end datetime as datetime.datetime type."
   ]
  },
  {
   "cell_type": "code",
   "execution_count": 14,
   "id": "d5b62280",
   "metadata": {},
   "outputs": [],
   "source": [
    "from datetime import datetime\n",
    "start_datetime = datetime.strptime('2022-03-04 12:00:00', '%Y-%m-%d %H:%M:%S')\n",
    "end_datetime = datetime.strptime('2022-03-06 15:00:00', '%Y-%m-%d %H:%M:%S')"
   ]
  },
  {
   "cell_type": "markdown",
   "id": "7b100645",
   "metadata": {},
   "source": [
    "## Exercise 1: To filter for rows"
   ]
  },
  {
   "cell_type": "code",
   "execution_count": null,
   "id": "ce22baa6",
   "metadata": {},
   "outputs": [],
   "source": [
    "df_row.loc[(df_row['ts'] >= start_datetime) & (df_row['ts'] <= end_datetime)]"
   ]
  },
  {
   "cell_type": "markdown",
   "id": "4ac85d7d",
   "metadata": {},
   "source": [
    "## Exercise 2: To filter for columns"
   ]
  },
  {
   "cell_type": "code",
   "execution_count": null,
   "id": "e835ae33",
   "metadata": {},
   "outputs": [],
   "source": [
    "df_col.loc[:, [i for i in df_col.columns if i >= start_datetime and i <= end_datetime]]"
   ]
  },
  {
   "cell_type": "code",
   "execution_count": null,
   "id": "83b0ee7f",
   "metadata": {},
   "outputs": [],
   "source": []
  }
 ],
 "metadata": {
  "kernelspec": {
   "display_name": "Python 3",
   "language": "python",
   "name": "python3"
  },
  "language_info": {
   "codemirror_mode": {
    "name": "ipython",
    "version": 3
   },
   "file_extension": ".py",
   "mimetype": "text/x-python",
   "name": "python",
   "nbconvert_exporter": "python",
   "pygments_lexer": "ipython3",
   "version": "3.8.8"
  }
 },
 "nbformat": 4,
 "nbformat_minor": 5
}
