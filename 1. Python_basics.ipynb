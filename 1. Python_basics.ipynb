{
 "cells": [
  {
   "cell_type": "markdown",
   "metadata": {},
   "source": [
    "# Python Basics\n",
    "© Explore Data Science Academy\n",
    "\n",
    "## Learning Objectives:\n",
    "By the end of this train, you should be able to:\n",
    "* Perform basic print functions and string manipulation; and\n",
    "* Create basic Python functions.\n",
    "\n",
    "## Outline\n",
    "In this train we will:\n",
    "* Introduce print statements;\n",
    "* Perform basic string manipulation; and\n",
    "* Breakdown the different aspects of Python Functions."
   ]
  },
  {
   "cell_type": "markdown",
   "metadata": {},
   "source": [
    "## Print Statements and Strings\n",
    "\n",
    "The standard introduction into any programming language is the ''Hello world!'' program. This is a computer program that outputs \"Hello world!\" to your console window. In Python, this program can be implemented using the **print** built-in function as follows: "
   ]
  },
  {
   "cell_type": "code",
   "execution_count": 1,
   "metadata": {},
   "outputs": [
    {
     "name": "stdout",
     "output_type": "stream",
     "text": [
      "Hello world!\n"
     ]
    }
   ],
   "source": [
    "print(\"Hello world!\")"
   ]
  },
  {
   "cell_type": "markdown",
   "metadata": {},
   "source": [
    "The **print** function \"prints\" the value stored in Python variables/objects as a **string** to the console, or other standard output devices. A **string** is a data type used to represent text, i.e. a sequence of characters. In the Python programming language, strings can be specified by encasing a sequence of characters within single or double-quotes."
   ]
  },
  {
   "cell_type": "code",
   "execution_count": 2,
   "metadata": {},
   "outputs": [
    {
     "name": "stdout",
     "output_type": "stream",
     "text": [
      "This is a string.\n",
      " This is also a string :)\n"
     ]
    }
   ],
   "source": [
    "String_1 = \"This is a string.\"\n",
    "String_2 = ' This is also a string :)'\n",
    "\n",
    "print(String_1)\n",
    "print(String_2)"
   ]
  },
  {
   "cell_type": "markdown",
   "metadata": {},
   "source": [
    "Sometimes, strings will also contain quotation marks or other special characters. To avoid syntax errors in such cases, we need to use the escape character or backslash ```\"\\\"```.  Prefixing a special character with ```\"\\\"``` turns it into an ordinary character. Additionally, the backslash ```\"\\\"``` can be used to specify special characters such as the newline ```\"\\n\"```, tab ```\"\\t\"```, carriage return ```\"\\r\"```, etc. "
   ]
  },
  {
   "cell_type": "code",
   "execution_count": 3,
   "metadata": {},
   "outputs": [
    {
     "ename": "SyntaxError",
     "evalue": "invalid syntax (<ipython-input-3-76b658394578>, line 1)",
     "output_type": "error",
     "traceback": [
      "\u001b[1;36m  File \u001b[1;32m\"<ipython-input-3-76b658394578>\"\u001b[1;36m, line \u001b[1;32m1\u001b[0m\n\u001b[1;33m    String_3 = 'This shouldn't work.'\u001b[0m\n\u001b[1;37m                             ^\u001b[0m\n\u001b[1;31mSyntaxError\u001b[0m\u001b[1;31m:\u001b[0m invalid syntax\n"
     ]
    }
   ],
   "source": [
    "String_3 = 'This shouldn't work.'"
   ]
  },
  {
   "cell_type": "code",
   "execution_count": 4,
   "metadata": {},
   "outputs": [
    {
     "name": "stdout",
     "output_type": "stream",
     "text": [
      "This shouldn't break.\n"
     ]
    }
   ],
   "source": [
    "String_3 = 'This shouldn\\'t break.'\n",
    "print(String_3)"
   ]
  },
  {
   "cell_type": "markdown",
   "metadata": {},
   "source": [
    "The escape character can also be used to specify characters using unicodes."
   ]
  },
  {
   "cell_type": "code",
   "execution_count": 5,
   "metadata": {},
   "outputs": [
    {
     "name": "stdout",
     "output_type": "stream",
     "text": [
      "Grinning face: 😀\n",
      "Squinting face: 😆\n",
      "ROFL face: 🤣\n"
     ]
    }
   ],
   "source": [
    "print(\"Grinning face: \\U0001f600\")\n",
    "print(\"Squinting face: \\U0001F606\")\n",
    "print(\"ROFL face: \\U0001F923\")"
   ]
  },
  {
   "cell_type": "markdown",
   "metadata": {},
   "source": [
    "As you might have noticed, the print function appends a newline character ```\"\\n\"``` to its output. This forces consecutive print calls to start on a new line. We can avoid this by assigning the 'end'  argument in the print function to an empty string."
   ]
  },
  {
   "cell_type": "code",
   "execution_count": 6,
   "metadata": {},
   "outputs": [
    {
     "name": "stdout",
     "output_type": "stream",
     "text": [
      "This is a string. This is also a string :)\n"
     ]
    }
   ],
   "source": [
    "print(String_1, end='')\n",
    "print(String_2)"
   ]
  },
  {
   "cell_type": "markdown",
   "metadata": {},
   "source": [
    "We can achieve the same effect by using string concatenation. This operation allows us to combine two or more strings together."
   ]
  },
  {
   "cell_type": "code",
   "execution_count": 7,
   "metadata": {},
   "outputs": [
    {
     "name": "stdout",
     "output_type": "stream",
     "text": [
      "This is a string. This is also a string :)\n"
     ]
    }
   ],
   "source": [
    "print(String_1 + String_2)"
   ]
  },
  {
   "cell_type": "markdown",
   "metadata": {},
   "source": [
    "We can also concatenate strings with other data types by first converting them into strings using the **str()** in-built function."
   ]
  },
  {
   "cell_type": "code",
   "execution_count": 8,
   "metadata": {},
   "outputs": [
    {
     "name": "stdout",
     "output_type": "stream",
     "text": [
      "String_1 is 17 characters long\n"
     ]
    }
   ],
   "source": [
    "num_chars = len(String_1)\n",
    "print(\"String_1 is \"+str(num_chars)+\" characters long\")"
   ]
  },
  {
   "cell_type": "markdown",
   "metadata": {},
   "source": [
    "Alternatively, this concatenation can be performed by passing a list of comma-separated inputs into the print function. "
   ]
  },
  {
   "cell_type": "code",
   "execution_count": 9,
   "metadata": {},
   "outputs": [
    {
     "name": "stdout",
     "output_type": "stream",
     "text": [
      "String_1 is 17 characters long\n"
     ]
    }
   ],
   "source": [
    "print(\"String_1 is\",num_chars,\"characters long\")"
   ]
  },
  {
   "cell_type": "markdown",
   "metadata": {},
   "source": [
    "Notice that we didn't need to add extra spacing around the first and last strings and didn't need to convert the num_chars integer into a string.\n",
    "\n",
    "The **print** function can be extremely useful for debugging purposes. For example, printing out the value of the variable before or after mathematical operations to ensure the correct operation occurred."
   ]
  },
  {
   "cell_type": "code",
   "execution_count": 10,
   "metadata": {},
   "outputs": [
    {
     "name": "stdout",
     "output_type": "stream",
     "text": [
      "1.6\n"
     ]
    }
   ],
   "source": [
    "a = 3\n",
    "b = a%2\n",
    "c = b**2\n",
    "d = a/(c*5) + b\n",
    "\n",
    "print(d)"
   ]
  },
  {
   "cell_type": "markdown",
   "metadata": {},
   "source": [
    "## Functions\n",
    "\n",
    "A function is a block of organised, reusable code that is used to perform an action. \n",
    "\n",
    "![alt_text](https://github.com/Explore-AI/Public-Data/blob/master/function_components.png?raw=true \"Function Components\")\n",
    "\n",
    "The image above points out all the components of a function in Python. \n",
    "\n",
    "### def\n",
    "\n",
    "We can define a function using the `def` keyword. This `def` keyword is then followed by a name for the function and two brackets (we'll get back to this later). It is important to note that everything inside the function must be indented by one tab deeper than `def`."
   ]
  },
  {
   "cell_type": "code",
   "execution_count": 11,
   "metadata": {
    "collapsed": true
   },
   "outputs": [],
   "source": [
    "def name_of_your_function(a, b, c):\n",
    "    some_result = do_something_with(a and b and c)\n",
    "    return some_result"
   ]
  },
  {
   "cell_type": "markdown",
   "metadata": {},
   "source": [
    "Here is a simple example."
   ]
  },
  {
   "cell_type": "code",
   "execution_count": 12,
   "metadata": {
    "collapsed": true
   },
   "outputs": [],
   "source": [
    "def monthly_expenses(rent, food):\n",
    "    total_expenses = rent + food\n",
    "    return total_expenses"
   ]
  },
  {
   "cell_type": "markdown",
   "metadata": {},
   "source": [
    "Now lets consider the following function."
   ]
  },
  {
   "cell_type": "code",
   "execution_count": 13,
   "metadata": {
    "collapsed": true
   },
   "outputs": [],
   "source": [
    "def print_something():\n",
    "    print('SoMeThInG')"
   ]
  },
  {
   "cell_type": "markdown",
   "metadata": {},
   "source": [
    "We can run this function by writing the name of the function, followed by two brackets:"
   ]
  },
  {
   "cell_type": "code",
   "execution_count": 14,
   "metadata": {},
   "outputs": [
    {
     "name": "stdout",
     "output_type": "stream",
     "text": [
      "SoMeThInG\n"
     ]
    }
   ],
   "source": [
    "print_something()"
   ]
  },
  {
   "cell_type": "markdown",
   "metadata": {},
   "source": [
    "### return\n",
    "\n",
    "In the above example, we printed something in the function.  But, more often than not, we would want to **return** something from the function. It's useful (at least at the start) to think of **return** as the function passing something back to whoever ran it."
   ]
  },
  {
   "cell_type": "code",
   "execution_count": 15,
   "metadata": {
    "collapsed": true
   },
   "outputs": [],
   "source": [
    "def return_something():\n",
    "    return 'SoMeThInG'"
   ]
  },
  {
   "cell_type": "code",
   "execution_count": 16,
   "metadata": {},
   "outputs": [
    {
     "data": {
      "text/plain": [
       "'SoMeThInG'"
      ]
     },
     "execution_count": 16,
     "metadata": {},
     "output_type": "execute_result"
    }
   ],
   "source": [
    "return_something()"
   ]
  },
  {
   "cell_type": "markdown",
   "metadata": {},
   "source": [
    "We notice ``return_something`` returns a string. This is different from `print_something` which won't give us any result **out**, but merely *print it*:"
   ]
  },
  {
   "cell_type": "code",
   "execution_count": 17,
   "metadata": {},
   "outputs": [
    {
     "name": "stdout",
     "output_type": "stream",
     "text": [
      "SoMeThInG\n"
     ]
    }
   ],
   "source": [
    "print_something()"
   ]
  },
  {
   "cell_type": "markdown",
   "metadata": {},
   "source": [
    "### Arguments \n",
    "\n",
    "Let's say we want to write a function that returns the result of the future value equation:\n",
    "\n",
    "$(1 + i)^n$\n",
    "\n",
    "where $i$, and $n$ are both numbers. We can pass in the values of i and n into the function, by defining it as follows."
   ]
  },
  {
   "cell_type": "code",
   "execution_count": 18,
   "metadata": {
    "collapsed": true
   },
   "outputs": [],
   "source": [
    "def future_value(i, n):\n",
    "    result = (1 + i)**n\n",
    "    return result"
   ]
  },
  {
   "cell_type": "markdown",
   "metadata": {},
   "source": [
    "We can then call our function with any values of i and n."
   ]
  },
  {
   "cell_type": "code",
   "execution_count": 19,
   "metadata": {},
   "outputs": [
    {
     "data": {
      "text/plain": [
       "2.653297705144422"
      ]
     },
     "execution_count": 19,
     "metadata": {},
     "output_type": "execute_result"
    }
   ],
   "source": [
    "future_value(0.05, 20)"
   ]
  },
  {
   "cell_type": "markdown",
   "metadata": {},
   "source": [
    "The `i` and the `n` inside `equation(i, n)` are called **arguments** to the function. Function arguments allow us to make generic functions that can be used with infinitely many variations. "
   ]
  },
  {
   "cell_type": "code",
   "execution_count": 20,
   "metadata": {},
   "outputs": [
    {
     "data": {
      "text/plain": [
       "6.727499949325611"
      ]
     },
     "execution_count": 20,
     "metadata": {},
     "output_type": "execute_result"
    }
   ],
   "source": [
    "future_value(0.1, 20)"
   ]
  },
  {
   "cell_type": "code",
   "execution_count": 21,
   "metadata": {},
   "outputs": [
    {
     "data": {
      "text/plain": [
       "16.36653739294609"
      ]
     },
     "execution_count": 21,
     "metadata": {},
     "output_type": "execute_result"
    }
   ],
   "source": [
    "future_value(0.15, 20)"
   ]
  },
  {
   "cell_type": "markdown",
   "metadata": {},
   "source": [
    "## Scope of Variables\n",
    "\n",
    "Variable scope refers to how accessible a variable is to different parts of the program. The scope of a variable can be **local** or **global**, we illustrate the difference in the example below."
   ]
  },
  {
   "cell_type": "code",
   "execution_count": 22,
   "metadata": {},
   "outputs": [
    {
     "name": "stdout",
     "output_type": "stream",
     "text": [
      "Inside function, x = 2\n",
      "Inside function, y = 10\n",
      "Outside function, y = 10\n"
     ]
    },
    {
     "ename": "NameError",
     "evalue": "name 'x' is not defined",
     "output_type": "error",
     "traceback": [
      "\u001b[1;31m---------------------------------------------------------------------------\u001b[0m",
      "\u001b[1;31mNameError\u001b[0m                                 Traceback (most recent call last)",
      "\u001b[1;32m<ipython-input-22-0d5f4a43458a>\u001b[0m in \u001b[0;36m<module>\u001b[1;34m()\u001b[0m\n\u001b[0;32m      9\u001b[0m \u001b[0mmy_function\u001b[0m\u001b[1;33m(\u001b[0m\u001b[1;33m)\u001b[0m\u001b[1;33m\u001b[0m\u001b[0m\n\u001b[0;32m     10\u001b[0m \u001b[0mprint\u001b[0m\u001b[1;33m(\u001b[0m\u001b[1;34m\"Outside function, y =\"\u001b[0m\u001b[1;33m,\u001b[0m\u001b[0my\u001b[0m\u001b[1;33m)\u001b[0m\u001b[1;33m\u001b[0m\u001b[0m\n\u001b[1;32m---> 11\u001b[1;33m \u001b[0mprint\u001b[0m\u001b[1;33m(\u001b[0m\u001b[1;34m\"Outside function, x =\"\u001b[0m\u001b[1;33m,\u001b[0m\u001b[0mx\u001b[0m\u001b[1;33m)\u001b[0m\u001b[1;33m\u001b[0m\u001b[0m\n\u001b[0m",
      "\u001b[1;31mNameError\u001b[0m: name 'x' is not defined"
     ]
    }
   ],
   "source": [
    "y = 10\n",
    "def my_function():\n",
    "    x = 2\n",
    "    print(\"Inside function, x =\",x) \n",
    "    print(\"Inside function, y =\",y) \n",
    "    \n",
    "    return \n",
    "\n",
    "my_function()\n",
    "print(\"Outside function, y =\",y)\n",
    "print(\"Outside function, x =\",x)\n"
   ]
  },
  {
   "cell_type": "markdown",
   "metadata": {},
   "source": [
    "**Local variables** only exist within a context, in the above example, this refers to the body of the function. Furthermore, they can only be accessed within this context. On the other hand, **global variables** can be accessed from anywhere in the code. ```x``` is a local variable and only exists within ```my_function``` and attempting to access if outside the function, results in an error. ```y``` however, is a global variable and can be accessed both inside and outside of the function.\n",
    "\n",
    "To declare global variables within a context, we can use the ```global``` keyword as follows:"
   ]
  },
  {
   "cell_type": "code",
   "execution_count": 23,
   "metadata": {},
   "outputs": [
    {
     "name": "stdout",
     "output_type": "stream",
     "text": [
      "Inside function, x = 3\n",
      "Inside function, y = 9\n",
      "Outside function, y = 9\n",
      "Outside function, x = 3\n"
     ]
    }
   ],
   "source": [
    "y = 9\n",
    "def my_other_function():\n",
    "    global x\n",
    "    x = 3\n",
    "    print(\"Inside function, x =\",x) \n",
    "    print(\"Inside function, y =\",y) \n",
    "    \n",
    "    return \n",
    "\n",
    "my_other_function()\n",
    "print(\"Outside function, y =\",y)\n",
    "print(\"Outside function, x =\",x)"
   ]
  },
  {
   "cell_type": "markdown",
   "metadata": {},
   "source": [
    "## Exercises\n",
    "### Exercise 1: Interest rates\n",
    "\n",
    "You just turned 20 and you want to buy a new pair of shoes to wear at your party. The shoes cost R1000. \n",
    "You're broke right now, but you know that in a year's time - when you turn 21 - you will get a lot of money from your relatives for your 21st birthday.\n",
    "\n",
    "FedBank is willing to lend you R1000, at 20% interest per year.\n",
    "\n",
    "Assuming that you take the loan - how much will you have to pay back in one year?\n",
    "\n",
    "***\n",
    "Loan summary:\n",
    "\n",
    "*   $PV$:     **R1000**\n",
    "*   $n$:      **1 year**\n",
    "*   $i$:      **20% interest** per annum, compounded annually\n",
    "\n",
    "Given a present value loan amount, PV, the formula for a future repayment (FV) is given by:\n",
    "\n",
    "\n",
    "\\begin{equation}\n",
    "FV = PV(1 + i)^n\n",
    "\\end{equation}\n",
    "\n",
    "\n",
    "***\n",
    "\n",
    "In Python we'd calculate this value as follows:"
   ]
  },
  {
   "cell_type": "code",
   "execution_count": 24,
   "metadata": {},
   "outputs": [
    {
     "data": {
      "text/plain": [
       "1200.0"
      ]
     },
     "execution_count": 24,
     "metadata": {},
     "output_type": "execute_result"
    }
   ],
   "source": [
    "# Present Value of the Loan amount:\n",
    "PV = 1000\n",
    "\n",
    "# Interest rate, i:\n",
    "i = 20 / 100\n",
    "\n",
    "# Term in years, n:\n",
    "n = 1\n",
    "\n",
    "#Calculate the Future Value, FV:\n",
    "PV*(1 + i)**n"
   ]
  },
  {
   "cell_type": "markdown",
   "metadata": {},
   "source": [
    "So, if you decide to go ahead with the purchase, you'll need to pay an extra R200 to FedBank after 1 year.\n",
    "\n",
    "### Exercise 2: Future Value Formula\n",
    "\n",
    "Now, perform the exact same calculation, just using a function! Create a function called `future_value`, that takes the following arguments: present value $PV$, interest rate $i$, and a term $n$, and returns the future repayment value ($FV$) of that loan. "
   ]
  },
  {
   "cell_type": "code",
   "execution_count": 25,
   "metadata": {
    "collapsed": true
   },
   "outputs": [],
   "source": [
    "def future_value_of(PV, i, n):\n",
    "    # YOUR CODE HERE:\n",
    "    # FV = some formula\n",
    "    return FV"
   ]
  },
  {
   "cell_type": "code",
   "execution_count": null,
   "metadata": {
    "collapsed": true
   },
   "outputs": [],
   "source": [
    "future_value_of(500, 0.15, 10)"
   ]
  },
  {
   "cell_type": "markdown",
   "metadata": {},
   "source": [
    "Your code should give the following results:\n",
    "\n",
    "\n",
    "*   `future_value(100, 0.1, 20) = 672.7499949325611`\n",
    "*   `future_value(500, 0.15, 10) = 2022.7788678539534`\n",
    "\n"
   ]
  },
  {
   "cell_type": "markdown",
   "metadata": {},
   "source": [
    "## Conclusion\n",
    "\n",
    "In this train, you learned to perform basic operations using print statements and strings, as well as the basic aspects of Python functions and the scope of variables. The reader is expected to complete the exercises before moving forward to ensure familiarity with these concepts."
   ]
  },
  {
   "cell_type": "markdown",
   "metadata": {},
   "source": [
    "\n",
    "## Appendix\n",
    "\n",
    "- [Print Statement](https://www.w3schools.com/python/ref_func_print.asp)\n",
    "\n",
    "- [Functions](https://www.w3schools.com/python/python_functions.asp)"
   ]
  },
  {
   "cell_type": "code",
   "execution_count": null,
   "metadata": {},
   "outputs": [],
   "source": []
  },
  {
   "cell_type": "markdown",
   "metadata": {},
   "source": [
    "# Lists\n",
    "\n",
    "Lists and tuples can contain multiple values, which makes it easier to write programs that handle large amounts of data. \n",
    "And since lists themselves can contain other lists, you can use them to arrange data into hierarchical structures.\n",
    "\n",
    "- **list** is a value that contains multiple values in an ordered sequence.\n",
    "    - Values inside the list are also called items.\n",
    "- The term **list value** refers to the list itself (which is a value that can be stored in a variable or passed to a function like any other value), not the values inside the list value.\n",
    "    - list value looks like this: ['cat', 'bat', 'rat', 'elephant']."
   ]
  },
  {
   "cell_type": "code",
   "execution_count": 13,
   "metadata": {},
   "outputs": [],
   "source": [
    "animals = ['cat', 'bat', 'rat', 'elephant']"
   ]
  },
  {
   "cell_type": "markdown",
   "metadata": {},
   "source": [
    "## Indexing"
   ]
  },
  {
   "cell_type": "markdown",
   "metadata": {},
   "source": [
    "### Accessing/ Indexing elements inside a list\n",
    "\n",
    "- this would evaluate to something."
   ]
  },
  {
   "cell_type": "code",
   "execution_count": 14,
   "metadata": {},
   "outputs": [
    {
     "data": {
      "text/plain": [
       "'bat'"
      ]
     },
     "execution_count": 14,
     "metadata": {},
     "output_type": "execute_result"
    }
   ],
   "source": [
    "animals[1]"
   ]
  },
  {
   "cell_type": "markdown",
   "metadata": {},
   "source": [
    "- Index that exceeds the number of values in your list value ==  Indexerror\n",
    "- Indexes can be only integer values, not floats == Type error\n",
    "- Lists can also contain other list values. \n",
    "    - The values in these lists of lists can be accessed using multiple indexes,\n",
    "        - first index dictates which list value to use, and the second indicates the value within the list value."
   ]
  },
  {
   "cell_type": "code",
   "execution_count": 15,
   "metadata": {},
   "outputs": [],
   "source": [
    "animals2 = [['cat', 'bat', 'rat', 'elephant'], [10, 20, 30, 40, 50]]"
   ]
  },
  {
   "cell_type": "code",
   "execution_count": 16,
   "metadata": {},
   "outputs": [
    {
     "data": {
      "text/plain": [
       "30"
      ]
     },
     "execution_count": 16,
     "metadata": {},
     "output_type": "execute_result"
    }
   ],
   "source": [
    "animals2[1][2]"
   ]
  },
  {
   "cell_type": "markdown",
   "metadata": {},
   "source": [
    "Negative Indexes\n",
    "- indexes start at 0 and go up,\n",
    "- use negative integers for the index. The integer value -1 refers to the last index in a list, the value -2 refers to the second-to-last index in a list, and so on."
   ]
  },
  {
   "cell_type": "code",
   "execution_count": 17,
   "metadata": {},
   "outputs": [
    {
     "data": {
      "text/plain": [
       "'rat'"
      ]
     },
     "execution_count": 17,
     "metadata": {},
     "output_type": "execute_result"
    }
   ],
   "source": [
    "animals[-2]"
   ]
  },
  {
   "cell_type": "markdown",
   "metadata": {},
   "source": [
    "### Changing Values in a List with Indexes\n",
    "\n",
    "- use an index of a list to change the value at that index.\n",
    "- Means: Assign the value at index x in the list y to the string 'xyz'."
   ]
  },
  {
   "cell_type": "code",
   "execution_count": 21,
   "metadata": {},
   "outputs": [],
   "source": [
    "animals[-1] = \"snake\""
   ]
  },
  {
   "cell_type": "code",
   "execution_count": 22,
   "metadata": {},
   "outputs": [
    {
     "data": {
      "text/plain": [
       "['cat', 'bat', 'rat', 'snake']"
      ]
     },
     "execution_count": 22,
     "metadata": {},
     "output_type": "execute_result"
    }
   ],
   "source": [
    "animals"
   ]
  },
  {
   "cell_type": "markdown",
   "metadata": {},
   "source": [
    "### Removing Values from Lists with del Statements\n",
    "\n",
    "- del statement will delete values at an index in a list.\n",
    "- All of the values in the list after the deleted value will be moved up one index.\n",
    "- del statement can also be used on a simple variable to delete it, as if it were an “unassignment” statement. If you try to use the variable after deleting it, you will get a NameError error because the variable no longer exists."
   ]
  },
  {
   "cell_type": "code",
   "execution_count": 26,
   "metadata": {},
   "outputs": [],
   "source": [
    "del animals[-1]"
   ]
  },
  {
   "cell_type": "code",
   "execution_count": 27,
   "metadata": {},
   "outputs": [
    {
     "data": {
      "text/plain": [
       "['cat', 'bat', 'rat']"
      ]
     },
     "execution_count": 27,
     "metadata": {},
     "output_type": "execute_result"
    }
   ],
   "source": [
    "animals"
   ]
  },
  {
   "cell_type": "markdown",
   "metadata": {},
   "source": [
    "## Slicing"
   ]
  },
  {
   "cell_type": "markdown",
   "metadata": {},
   "source": [
    "### Getting Sublists with Slices\n",
    "\n",
    "- slice can get several values from a list, in the form of a new list. \n",
    "- A slice is typed between square brackets, like an index, but it has two integers separated by a colon.\n",
    "- you can leave out one or both of the indexes on either side of the colon in the slice. \n",
    "    - Leaving out the first index is the same as using 0, or the beginning of the list. \n",
    "    - Leaving out the second index is the same as using the length of the list, which will slice to the end of the list."
   ]
  },
  {
   "cell_type": "code",
   "execution_count": 18,
   "metadata": {},
   "outputs": [
    {
     "data": {
      "text/plain": [
       "['bat', 'rat']"
      ]
     },
     "execution_count": 18,
     "metadata": {},
     "output_type": "execute_result"
    }
   ],
   "source": [
    "animals[1:3]"
   ]
  },
  {
   "cell_type": "code",
   "execution_count": 19,
   "metadata": {},
   "outputs": [
    {
     "data": {
      "text/plain": [
       "['cat', 'bat']"
      ]
     },
     "execution_count": 19,
     "metadata": {},
     "output_type": "execute_result"
    }
   ],
   "source": [
    "animals[:2]"
   ]
  },
  {
   "cell_type": "markdown",
   "metadata": {},
   "source": [
    "### Getting a List’s Length with len()\n",
    "\n",
    "- len() function will return the number of values that are in a list value passed to it,"
   ]
  },
  {
   "cell_type": "code",
   "execution_count": 20,
   "metadata": {},
   "outputs": [
    {
     "data": {
      "text/plain": [
       "4"
      ]
     },
     "execution_count": 20,
     "metadata": {},
     "output_type": "execute_result"
    }
   ],
   "source": [
    "len(animals)"
   ]
  },
  {
   "cell_type": "markdown",
   "metadata": {},
   "source": [
    "### List Concatenation and List Replication\n",
    "\n",
    "- The + operator can combine two lists to create a new list value in the same way it combines two strings into a new string value. \n",
    "- The * operator can also be used with a list and an integer value to replicate the list"
   ]
  },
  {
   "cell_type": "code",
   "execution_count": 24,
   "metadata": {},
   "outputs": [
    {
     "data": {
      "text/plain": [
       "[1, 2, 3, 4, 5, 6, 7, 8]"
      ]
     },
     "execution_count": 24,
     "metadata": {},
     "output_type": "execute_result"
    }
   ],
   "source": [
    "ls_concat = [1,2,3,4] + [5,6,7,8]\n",
    "ls_concat"
   ]
  },
  {
   "cell_type": "code",
   "execution_count": 25,
   "metadata": {},
   "outputs": [
    {
     "data": {
      "text/plain": [
       "[1, 2, 3, 4, 5, 6, 7, 8, 1, 2, 3, 4, 5, 6, 7, 8, 1, 2, 3, 4, 5, 6, 7, 8]"
      ]
     },
     "execution_count": 25,
     "metadata": {},
     "output_type": "execute_result"
    }
   ],
   "source": [
    "ls_concat * 3"
   ]
  },
  {
   "cell_type": "markdown",
   "metadata": {},
   "source": [
    "### Working with Lists\n",
    "\n",
    "- Instead of using multiple, repetitive variables, you can use a single variable that contains a list value."
   ]
  },
  {
   "cell_type": "code",
   "execution_count": 29,
   "metadata": {},
   "outputs": [
    {
     "name": "stdout",
     "output_type": "stream",
     "text": [
      "Enter the name of cat 1(Or enter nohing to stop.):\n",
      "cat 1\n",
      "Enter the name of cat 2(Or enter nohing to stop.):\n",
      "cat 2\n",
      "Enter the name of cat 3(Or enter nohing to stop.):\n",
      "cat 3\n",
      "Enter the name of cat 4(Or enter nohing to stop.):\n",
      "\n",
      "The cat names are: \n",
      " cat 1\n",
      " cat 2\n",
      " cat 3\n"
     ]
    }
   ],
   "source": [
    "catnames = []\n",
    "\n",
    "while True:\n",
    "    print(\"Enter the name of cat \" + str(len(catnames) +1) + \"(Or enter nohing to stop.):\")\n",
    "    name = input()\n",
    "    if name == \"\":\n",
    "        break\n",
    "    catnames = catnames + [name]\n",
    "print(\"The cat names are: \")\n",
    "for name in catnames:\n",
    "    print(\" \" + name )"
   ]
  },
  {
   "cell_type": "markdown",
   "metadata": {},
   "source": [
    "### Using for Loops with Lists"
   ]
  },
  {
   "cell_type": "markdown",
   "metadata": {},
   "source": [
    "- The for loop actually loops through its clause with the variable i set to a successive value in the list in each iteration.\n",
    "\n",
    "- the term list-like refers to data types that are technically named sequences.\n",
    "\n",
    "- technique is to use range(len(someList)) with a for loop to iterate over the indexes of a list.\n",
    "    - loop can access \n",
    "        - the index (as the variable i) and \n",
    "        - the value at that index (as animals[i]). \n",
    "    - Best of all, range(len(animals)) will iterate through all the indexes of animals, no matter how many items it contains."
   ]
  },
  {
   "cell_type": "code",
   "execution_count": 30,
   "metadata": {},
   "outputs": [
    {
     "name": "stdout",
     "output_type": "stream",
     "text": [
      "Index 0 in animals is: cat\n",
      "Index 1 in animals is: bat\n",
      "Index 2 in animals is: rat\n"
     ]
    }
   ],
   "source": [
    "for i in range(len(animals)):\n",
    "    print(\"Index \" + str(i) + \" in animals is: \" + animals[i])"
   ]
  },
  {
   "cell_type": "markdown",
   "metadata": {},
   "source": [
    "### The in and not in Operators\n",
    "\n",
    "- determine whether a value is or isn’t in a list with the in and not in operators. \n",
    "- Like other operators, in and not in are used in expressions and connect two values: \n",
    "    - a value to look for in a list and \n",
    "    - the list where it may be found. \n",
    "- These expressions will evaluate to a Boolean value."
   ]
  },
  {
   "cell_type": "code",
   "execution_count": 31,
   "metadata": {},
   "outputs": [
    {
     "data": {
      "text/plain": [
       "True"
      ]
     },
     "execution_count": 31,
     "metadata": {},
     "output_type": "execute_result"
    }
   ],
   "source": [
    "\"rat\" in animals"
   ]
  },
  {
   "cell_type": "code",
   "execution_count": 32,
   "metadata": {},
   "outputs": [
    {
     "name": "stdout",
     "output_type": "stream",
     "text": [
      "please enter an anmials name: \n",
      "snake\n",
      "Please try again, we do not have an animal named: snake\n"
     ]
    }
   ],
   "source": [
    "print(\"please enter an anmials name: \")\n",
    "ani = input()\n",
    "\n",
    "if ani not in animals:\n",
    "    print(\"Please try again, we do not have an animal named: \" + ani)\n",
    "else:\n",
    "    print(\"This is an animal indeed :)\")"
   ]
  },
  {
   "cell_type": "markdown",
   "metadata": {},
   "source": [
    "### Multiple Assignment Trick\n",
    "- The multiple assignment trick is a shortcut that lets you assign multiple variables with the values in a list in one line of code."
   ]
  },
  {
   "cell_type": "code",
   "execution_count": 33,
   "metadata": {},
   "outputs": [
    {
     "data": {
      "text/plain": [
       "['cat', 'bat', 'rat']"
      ]
     },
     "execution_count": 33,
     "metadata": {},
     "output_type": "execute_result"
    }
   ],
   "source": [
    "animals"
   ]
  },
  {
   "cell_type": "code",
   "execution_count": 34,
   "metadata": {},
   "outputs": [],
   "source": [
    "wild, creepy, disgsting = animals"
   ]
  },
  {
   "cell_type": "code",
   "execution_count": 35,
   "metadata": {},
   "outputs": [
    {
     "data": {
      "text/plain": [
       "'cat'"
      ]
     },
     "execution_count": 35,
     "metadata": {},
     "output_type": "execute_result"
    }
   ],
   "source": [
    "wild"
   ]
  },
  {
   "cell_type": "markdown",
   "metadata": {},
   "source": [
    "### Augmented Assignment Operators\n",
    "\n",
    "- When assigning a value to a variable, we frequently use the variable itself.\n",
    "    - use the augmented assignment operator +=.\n",
    "        - += operator can also do string and list concatenation, and the *= operator can do string and list replication."
   ]
  },
  {
   "cell_type": "code",
   "execution_count": 36,
   "metadata": {},
   "outputs": [],
   "source": [
    "num = 45\n",
    "num = num + 45"
   ]
  },
  {
   "cell_type": "code",
   "execution_count": 37,
   "metadata": {},
   "outputs": [
    {
     "data": {
      "text/plain": [
       "90"
      ]
     },
     "execution_count": 37,
     "metadata": {},
     "output_type": "execute_result"
    }
   ],
   "source": [
    "num"
   ]
  },
  {
   "cell_type": "code",
   "execution_count": 38,
   "metadata": {},
   "outputs": [],
   "source": [
    "num += 45"
   ]
  },
  {
   "cell_type": "code",
   "execution_count": 39,
   "metadata": {},
   "outputs": [
    {
     "data": {
      "text/plain": [
       "135"
      ]
     },
     "execution_count": 39,
     "metadata": {},
     "output_type": "execute_result"
    }
   ],
   "source": [
    "num"
   ]
  },
  {
   "cell_type": "markdown",
   "metadata": {},
   "source": [
    "### Methods\n",
    "- A method is the same thing as a function, except it is “called on” a value.\n",
    "- Each data type has its own set of methods. \n",
    "    - The list data type, has several useful methods for \n",
    "        - finding, \n",
    "        - adding, \n",
    "        - removing, and \n",
    "        - otherwise manipulating values in a list."
   ]
  },
  {
   "cell_type": "markdown",
   "metadata": {},
   "source": [
    "##### Finding a Value in a List with the index() Method\n",
    "\n",
    "- List values have an index() method that can be passed a value, and if that value exists in the list, the index of the value is returned.\n",
    "    - When there are duplicates of the value in the list, the index of its first appearance is returned."
   ]
  },
  {
   "cell_type": "code",
   "execution_count": 40,
   "metadata": {},
   "outputs": [
    {
     "data": {
      "text/plain": [
       "0"
      ]
     },
     "execution_count": 40,
     "metadata": {},
     "output_type": "execute_result"
    }
   ],
   "source": [
    "animals.index(\"cat\")"
   ]
  },
  {
   "cell_type": "markdown",
   "metadata": {},
   "source": [
    "##### Adding Values to Lists with the append() and insert() Methods\n",
    "\n",
    "- append() method call adds the argument to the end of the list. \n",
    "- The insert() method can insert a value at any index in the list.\n",
    "    - The first argument to insert() is the index for the new value, and \n",
    "    - the second argument is the new value to be inserted.\n",
    "\n",
    "The append() and insert() methods are list methods and can be called only on list values, not on other values such as strings or integers."
   ]
  },
  {
   "cell_type": "code",
   "execution_count": 41,
   "metadata": {},
   "outputs": [],
   "source": [
    "animals.append(\"snake\")"
   ]
  },
  {
   "cell_type": "code",
   "execution_count": 42,
   "metadata": {},
   "outputs": [
    {
     "data": {
      "text/plain": [
       "['cat', 'bat', 'rat', 'snake']"
      ]
     },
     "execution_count": 42,
     "metadata": {},
     "output_type": "execute_result"
    }
   ],
   "source": [
    "animals"
   ]
  },
  {
   "cell_type": "code",
   "execution_count": 43,
   "metadata": {},
   "outputs": [],
   "source": [
    "animals.insert(1, \"jackle\")"
   ]
  },
  {
   "cell_type": "code",
   "execution_count": 44,
   "metadata": {},
   "outputs": [
    {
     "data": {
      "text/plain": [
       "['cat', 'jackle', 'bat', 'rat', 'snake']"
      ]
     },
     "execution_count": 44,
     "metadata": {},
     "output_type": "execute_result"
    }
   ],
   "source": [
    "animals"
   ]
  },
  {
   "cell_type": "markdown",
   "metadata": {},
   "source": [
    "- Neither append() nor insert() gives the new value of animal as its return value. \n",
    "    - (In fact, the return value of append() and insert() is None, so you definitely wouldn’t want to store this as the new variable value.) \n",
    "        - Rather, the list is modified in place.\n",
    "    - Modifying a list in place is covered in more detail later in “Mutable and Immutable Data Types”"
   ]
  },
  {
   "cell_type": "markdown",
   "metadata": {},
   "source": [
    "##### Removing Values from Lists with remove()\n",
    "\n",
    "- remove() method is passed the value to be removed from the list it is called on.\n",
    "    - If the value appears multiple times in the list, only the first instance of the value will be removed.\n",
    "- **del statement** is good to use when you know the index of the value you want to remove from the list. \n",
    "- The **remove() method** is good when you know the value you want to remove from the list."
   ]
  },
  {
   "cell_type": "code",
   "execution_count": 45,
   "metadata": {},
   "outputs": [],
   "source": [
    "animals.remove(\"jackle\")"
   ]
  },
  {
   "cell_type": "code",
   "execution_count": 46,
   "metadata": {},
   "outputs": [
    {
     "data": {
      "text/plain": [
       "['cat', 'bat', 'rat', 'snake']"
      ]
     },
     "execution_count": 46,
     "metadata": {},
     "output_type": "execute_result"
    }
   ],
   "source": [
    "animals"
   ]
  },
  {
   "cell_type": "markdown",
   "metadata": {},
   "source": [
    "##### Manipulating values\n",
    "\n",
    "- Sorting the Values in a List with the sort() Method.\n",
    "- Lists of number values or lists of strings can be sorted with the sort() method.\n",
    "    - pass True for the reverse keyword argument to have sort() sort the values in reverse order."
   ]
  },
  {
   "cell_type": "code",
   "execution_count": 47,
   "metadata": {},
   "outputs": [],
   "source": [
    "animals.sort()"
   ]
  },
  {
   "cell_type": "code",
   "execution_count": 48,
   "metadata": {},
   "outputs": [
    {
     "data": {
      "text/plain": [
       "['bat', 'cat', 'rat', 'snake']"
      ]
     },
     "execution_count": 48,
     "metadata": {},
     "output_type": "execute_result"
    }
   ],
   "source": [
    "animals"
   ]
  },
  {
   "cell_type": "markdown",
   "metadata": {},
   "source": [
    "**Note**\n",
    "- three things you should note about the sort() method. \n",
    "    - First, the sort() method sorts the list in place; \n",
    "        - don’t try to capture the return value by writing code like spam = spam.sort().\n",
    "    - Second, you cannot sort lists that have both number values and string values in them,\n",
    "        - Python doesn’t know how to compare these values.\n",
    "    - Third, sort() uses “ASCIIbetical order” rather than actual alphabetical order for sorting strings. \n",
    "        - This means uppercase letters come before lowercase letters. \n",
    "        - Therefore, the lowercase a is sorted so that it comes after the uppercase Z."
   ]
  },
  {
   "cell_type": "markdown",
   "metadata": {},
   "source": [
    "### Copy Module’s copy() and deepcopy() Functions\n",
    "\n",
    "- Although passing around references is often the handiest way to deal with lists and dictionaries, if the function modifies the list or dictionary that is passed, you may not want these changes in the original list or dictionary value. \n",
    "- For this, Python provides a module named copy that provides both the copy() and deepcopy() functions. \n",
    "    - The first of these, copy.copy(), can be used to make a duplicate copy of a mutable value like a list or dictionary, not just a copy of a reference.\n",
    "    - If the list you need to copy contains lists, then use the copy.deepcopy() function instead of copy.copy(). \n",
    "        - The deepcopy() function will copy these inner lists as well."
   ]
  },
  {
   "cell_type": "code",
   "execution_count": 56,
   "metadata": {},
   "outputs": [],
   "source": [
    "import copy\n",
    "animals_copy = copy.copy(animals)"
   ]
  },
  {
   "cell_type": "code",
   "execution_count": 57,
   "metadata": {},
   "outputs": [
    {
     "data": {
      "text/plain": [
       "['bat', 'cat', 'rat', 'snake']"
      ]
     },
     "execution_count": 57,
     "metadata": {},
     "output_type": "execute_result"
    }
   ],
   "source": [
    "animals_copy"
   ]
  },
  {
   "cell_type": "markdown",
   "metadata": {},
   "source": [
    "#### Mutable and Immutable Data Types\n",
    "- But lists and strings are different in an important way. \n",
    "    - A list value is a mutable data type: It can have values added, removed, or changed. \n",
    "    - A string is immutable: It cannot be changed.\n",
    "        - to “mutate” a string is to use slicing and concatenation to build a new string by copying from parts of the old string."
   ]
  },
  {
   "cell_type": "code",
   "execution_count": 51,
   "metadata": {},
   "outputs": [],
   "source": [
    "name = 'Sip is a bhuda, a real man, a grootman'\n",
    "newname = name[:23] + \"Dyan\" + name[26:]"
   ]
  },
  {
   "cell_type": "code",
   "execution_count": 52,
   "metadata": {},
   "outputs": [
    {
     "data": {
      "text/plain": [
       "'Sip is a bhuda, a real Dyan, a grootman'"
      ]
     },
     "execution_count": 52,
     "metadata": {},
     "output_type": "execute_result"
    }
   ],
   "source": [
    "newname"
   ]
  },
  {
   "cell_type": "markdown",
   "metadata": {},
   "source": [
    "# Tuple Data Type\n",
    "\n",
    "- tuple data type is almost identical to the list data type, except in two ways. \n",
    "    - First, tuples are typed with parentheses, ( and ), instead of square brackets, [ and ].\n",
    "- tuples are different from lists is that tuples, like strings, are immutable. \n",
    "    - Tuples cannot have their values modified, appended, or removed.\n",
    "    \n",
    "### Converting Types with the list() and tuple() Functions\n",
    "\n",
    "- Functions list() and tuple() will return list and tuple versions of the values passed to them."
   ]
  },
  {
   "cell_type": "code",
   "execution_count": 53,
   "metadata": {},
   "outputs": [
    {
     "data": {
      "text/plain": [
       "('cat', 'dog', 5)"
      ]
     },
     "execution_count": 53,
     "metadata": {},
     "output_type": "execute_result"
    }
   ],
   "source": [
    "tuple(['cat', 'dog', 5])"
   ]
  },
  {
   "cell_type": "code",
   "execution_count": 54,
   "metadata": {},
   "outputs": [
    {
     "data": {
      "text/plain": [
       "['cat', 'dog', 5]"
      ]
     },
     "execution_count": 54,
     "metadata": {},
     "output_type": "execute_result"
    }
   ],
   "source": [
    "list(('cat', 'dog', 5))"
   ]
  },
  {
   "cell_type": "markdown",
   "metadata": {},
   "source": [
    "# Strings\n",
    "\n",
    "- can \n",
    "    - extract partial strings from string values, \n",
    "    - add or remove spacing, \n",
    "    - convert letters to lowercase or uppercase, and \n",
    "    - check that strings are formatted correctly. \n",
    "- You can even write Python code to \n",
    "    - access the clipboard for copying and pasting text.\n",
    "    - simple password manager and\n",
    "    - automate the boring chore of formatting pieces of text.\n",
    "    \n",
    "### String Literals\n",
    "- Typing string values in Python code is fairly straightforward: They begin and end with a single quote. \n",
    "    - But then  you can't use a quote inside a string? \n",
    "- Fortunately, there are multiple ways to type strings.\n",
    "\n",
    "### Double Quotes\n",
    "\n",
    "- Strings can begin and end with double quotes, just as they do with single quotes. \n",
    "- One benefit of using double quotes is that the string can have a single quote character in it.\n",
    "\n",
    "##### Escape Characters\n",
    "- escape character lets you use characters that are otherwise impossible to put into a string. \n",
    "- An escape character consists of a backslash (\\) followed by the character you want to add to the string. \n",
    "    - Despite consisting of two characters, it is commonly referred to as a singular escape character.\n",
    "    - use this inside a string that begins and ends with single quotes.\n",
    "        - \\' --> Single quote\n",
    "        - \\\" --> Double quote\n",
    "        - \\t --> Tab\n",
    "        - \\n --> Newline (line break)\n",
    "        - \\\\ --> Backslash\n",
    "\n",
    "### Raw Strings\n",
    "- You can place an r before the beginning quotation mark of a string to make it a raw string. \n",
    "    - A raw string completely ignores all escape characters and prints any backslash that appears in the string.\n",
    "- backslash as part of the string and not as the start of an escape character. \n",
    "- Raw strings are helpful if you are typing string values that contain many backslashes, \n",
    "    - such as the strings used for regular expressions\n",
    "    \n",
    "### Multiline Strings with Triple Quotes\n",
    "- While you can use the \\n escape character to put a newline into a string, it is often easier to use multiline strings. \n",
    "    - A multiline string in Python begins and ends with either three single quotes or three double quotes. \n",
    "        - Any quotes, tabs, or newlines in between the “triple quotes” are considered part of the string. \n",
    "        - Python’s indentation rules for blocks do not apply to lines inside a multiline string."
   ]
  },
  {
   "cell_type": "code",
   "execution_count": 58,
   "metadata": {},
   "outputs": [
    {
     "name": "stdout",
     "output_type": "stream",
     "text": [
      "Dear Alice,\n",
      "\n",
      "Eve's cat has been arrested for catnapping, cat burglary, and extortion.\n",
      "\n",
      "Sincerely,\n",
      "Bob\n"
     ]
    }
   ],
   "source": [
    "print('''Dear Alice,\n",
    "\n",
    "Eve's cat has been arrested for catnapping, cat burglary, and extortion.\n",
    "\n",
    "Sincerely,\n",
    "Bob''')"
   ]
  },
  {
   "cell_type": "markdown",
   "metadata": {},
   "source": [
    "### Indexing and Slicing Strings\n",
    "\n",
    "- Strings use indexes and slices the same way lists do.\n",
    "- specify an index, you’ll get the character at that position in the string. \n",
    "    - If you specify a range from one index to another, the starting index is included and the ending index is not."
   ]
  },
  {
   "cell_type": "code",
   "execution_count": 59,
   "metadata": {},
   "outputs": [],
   "source": [
    "intro = \"Hi, im Sip\""
   ]
  },
  {
   "cell_type": "code",
   "execution_count": 60,
   "metadata": {},
   "outputs": [
    {
     "data": {
      "text/plain": [
       "','"
      ]
     },
     "execution_count": 60,
     "metadata": {},
     "output_type": "execute_result"
    }
   ],
   "source": [
    "intro[2]"
   ]
  },
  {
   "cell_type": "code",
   "execution_count": 61,
   "metadata": {},
   "outputs": [
    {
     "data": {
      "text/plain": [
       "'Hi, im'"
      ]
     },
     "execution_count": 61,
     "metadata": {},
     "output_type": "execute_result"
    }
   ],
   "source": [
    "intro[:6]"
   ]
  },
  {
   "cell_type": "markdown",
   "metadata": {},
   "source": [
    "- Note that slicing a string does not modify the original string. You can capture a slice from one variable in a separate variable.\n",
    "- By slicing and storing the resulting substring in another variable, you can have both the whole string and the substring handy for quick, easy access."
   ]
  },
  {
   "cell_type": "code",
   "execution_count": 62,
   "metadata": {},
   "outputs": [],
   "source": [
    "sip = intro[-4:]"
   ]
  },
  {
   "cell_type": "code",
   "execution_count": 63,
   "metadata": {},
   "outputs": [
    {
     "data": {
      "text/plain": [
       "' Sip'"
      ]
     },
     "execution_count": 63,
     "metadata": {},
     "output_type": "execute_result"
    }
   ],
   "source": [
    "sip"
   ]
  },
  {
   "cell_type": "markdown",
   "metadata": {},
   "source": [
    "- The in and not in Operators with Strings\n",
    "- The in and not in operators can be used with strings just like with list values.\n",
    "- An expression with two strings joined using in or not in will evaluate to a Boolean True or False."
   ]
  },
  {
   "cell_type": "markdown",
   "metadata": {},
   "source": [
    "### Useful String Methods\n",
    "- Several string methods \n",
    "    - analyze strings or \n",
    "    - create transformed string values.\n",
    "- This section describes the methods you’ll be using most often."
   ]
  },
  {
   "cell_type": "markdown",
   "metadata": {},
   "source": [
    "##### upper(), lower(), isupper(), and islower() String Methods\n",
    "\n",
    "- upper() and lower() string methods return a new string where all the letters in the original string have been converted to uppercase or lowercase, respectively. \n",
    "    - Nonletter characters in the string remain unchanged.\n",
    "- these methods do not change the string itself but return new string values. \n",
    "    - If you want to change the original string, you have to call upper() or lower() on the string and then assign the new string to the variable where the original was stored.\n",
    "- upper() and lower() methods are helpful if you need to make a case-insensitive comparison. \n",
    "    - The strings 'great' and 'GREat' are not equal to each other.\n",
    "- Adding code to your program to handle variations or mistakes in user input, such as inconsistent capitalization, will make your programs easier to use and less likely to fail."
   ]
  },
  {
   "cell_type": "code",
   "execution_count": 64,
   "metadata": {},
   "outputs": [
    {
     "name": "stdout",
     "output_type": "stream",
     "text": [
      "How are you?\n",
      "great\n",
      "I feel great too.\n"
     ]
    }
   ],
   "source": [
    "print('How are you?')\n",
    "feeling = input()\n",
    "if feeling.lower() == 'great':\n",
    "    print('I feel great too.')\n",
    "else:\n",
    "    print('I hope the rest of your day is good.')"
   ]
  },
  {
   "cell_type": "markdown",
   "metadata": {},
   "source": [
    "- isupper() and islower() methods will return a Boolean True value if the string has at least one letter and all the letters are uppercase or lowercase, respectively. \n",
    "    - Otherwise, the method returns False."
   ]
  },
  {
   "cell_type": "code",
   "execution_count": 65,
   "metadata": {},
   "outputs": [
    {
     "data": {
      "text/plain": [
       "False"
      ]
     },
     "execution_count": 65,
     "metadata": {},
     "output_type": "execute_result"
    }
   ],
   "source": [
    "spam = 'Hello world!'\n",
    "spam.islower()"
   ]
  },
  {
   "cell_type": "markdown",
   "metadata": {},
   "source": [
    "- upper() and lower() string methods themselves return strings, you can call string methods on those returned string values as well. \n",
    "    - Expressions that do this will look like a chain of method calls."
   ]
  },
  {
   "cell_type": "code",
   "execution_count": 66,
   "metadata": {},
   "outputs": [
    {
     "data": {
      "text/plain": [
       "'HELLO'"
      ]
     },
     "execution_count": 66,
     "metadata": {},
     "output_type": "execute_result"
    }
   ],
   "source": [
    "'Hello'.upper()"
   ]
  },
  {
   "cell_type": "markdown",
   "metadata": {},
   "source": [
    "##### isX String Methods\n",
    "\n",
    "- Along with islower() and isupper(), there are several string methods that have names beginning with the word is. \n",
    "- These methods return a Boolean value that describes the nature of the string.\n",
    "    - isalpha() returns True if the string consists only of letters and is not blank.\n",
    "    - isalnum() returns True if the string consists only of letters and numbers and is not blank.\n",
    "    - isdecimal() returns True if the string consists only of numeric characters and is not blank.\n",
    "    - isspace() returns True if the string consists only of spaces, tabs, and newlines and is not blank.\n",
    "    - istitle() returns True if the string consists only of words that begin with an uppercase letter followed by only lowercase letters.\n",
    "- isX string methods are helpful when you need to validate user input."
   ]
  },
  {
   "cell_type": "code",
   "execution_count": 67,
   "metadata": {},
   "outputs": [
    {
     "data": {
      "text/plain": [
       "True"
      ]
     },
     "execution_count": 67,
     "metadata": {},
     "output_type": "execute_result"
    }
   ],
   "source": [
    "'hello'.isalpha()"
   ]
  },
  {
   "cell_type": "code",
   "execution_count": 68,
   "metadata": {},
   "outputs": [
    {
     "data": {
      "text/plain": [
       "True"
      ]
     },
     "execution_count": 68,
     "metadata": {},
     "output_type": "execute_result"
    }
   ],
   "source": [
    "'123'.isdecimal()"
   ]
  },
  {
   "cell_type": "code",
   "execution_count": 69,
   "metadata": {},
   "outputs": [
    {
     "data": {
      "text/plain": [
       "True"
      ]
     },
     "execution_count": 69,
     "metadata": {},
     "output_type": "execute_result"
    }
   ],
   "source": [
    "'This Is Title Case'.istitle()"
   ]
  },
  {
   "cell_type": "code",
   "execution_count": 70,
   "metadata": {},
   "outputs": [
    {
     "data": {
      "text/plain": [
       "False"
      ]
     },
     "execution_count": 70,
     "metadata": {},
     "output_type": "execute_result"
    }
   ],
   "source": [
    "'This Is not Title Case'.istitle()"
   ]
  },
  {
   "cell_type": "code",
   "execution_count": 73,
   "metadata": {},
   "outputs": [
    {
     "name": "stdout",
     "output_type": "stream",
     "text": [
      "Enter your age:\n",
      "28\n",
      "Select a new password (letters and numbers only):\n",
      "password1234\n",
      "Thank you for entering you new passwork. please wait while we process this.\n",
      "Welcome to PrecisionAI\n"
     ]
    }
   ],
   "source": [
    "while True:\n",
    "    print('Enter your age:')\n",
    "    age = input()\n",
    "    if age.isdecimal():\n",
    "        break\n",
    "    print('Please enter a number for your age.')\n",
    "    \n",
    "\n",
    "while True:\n",
    "    print('Select a new password (letters and numbers only):')\n",
    "    password = input()\n",
    "    if password.isalnum():\n",
    "        print(\"Thank you for entering you new passwork. please wait while we process this.\")\n",
    "        print(\"Welcome to PrecisionAI\")\n",
    "        break\n",
    "    print('Passwords can only have letters and numbers.')"
   ]
  },
  {
   "cell_type": "markdown",
   "metadata": {},
   "source": [
    "##### startswith() and endswith() String Methods\n",
    "- The startswith() and endswith() methods return True if the string value they are called on begins or ends (respectively) with the string passed to the method; \n",
    "    - otherwise, they return False.\n",
    "- methods are useful alternatives to the == equals operator if you need to check only whether the first or last part of the string, rather than the whole thing, is equal to another string."
   ]
  },
  {
   "cell_type": "code",
   "execution_count": 74,
   "metadata": {},
   "outputs": [
    {
     "data": {
      "text/plain": [
       "True"
      ]
     },
     "execution_count": 74,
     "metadata": {},
     "output_type": "execute_result"
    }
   ],
   "source": [
    "'Hello world!'.startswith('Hello')"
   ]
  },
  {
   "cell_type": "code",
   "execution_count": 75,
   "metadata": {},
   "outputs": [
    {
     "data": {
      "text/plain": [
       "True"
      ]
     },
     "execution_count": 75,
     "metadata": {},
     "output_type": "execute_result"
    }
   ],
   "source": [
    "'Hello world!'.endswith('world!')"
   ]
  },
  {
   "cell_type": "markdown",
   "metadata": {},
   "source": [
    "##### join() and split() String Methods\n",
    "\n",
    "- join() method is useful when you have a list of strings that need to be joined together into a single string value.\n",
    "    - join() method called on a string, \n",
    "        - gets passed a list of strings, and \n",
    "        - returns a string. \n",
    "    - The returned string is the concatenation of each string in the passed-in list."
   ]
  },
  {
   "cell_type": "code",
   "execution_count": 77,
   "metadata": {},
   "outputs": [
    {
     "data": {
      "text/plain": [
       "'My name is Simon'"
      ]
     },
     "execution_count": 77,
     "metadata": {},
     "output_type": "execute_result"
    }
   ],
   "source": [
    "' '.join(['My', 'name', 'is', 'Simon'])"
   ]
  },
  {
   "cell_type": "markdown",
   "metadata": {},
   "source": [
    "- the string join() calls on is inserted between each string of the list argument.\n",
    "- join() is called on a string value and is passed a list value."
   ]
  },
  {
   "cell_type": "markdown",
   "metadata": {},
   "source": [
    "- split() method does the opposite: It’s called on a string value and returns a list of strings.\n",
    "- the string is split wherever whitespace characters such as the space, tab, or newline characters are found. \n",
    "    - These whitespace characters are not included in the strings in the returned list. \n",
    "        - You can pass a delimiter string to the split() method to specify a different string to split upon.\n",
    "        \n",
    "- use of split() is to split a multiline string along the newline characters."
   ]
  },
  {
   "cell_type": "code",
   "execution_count": 78,
   "metadata": {},
   "outputs": [
    {
     "data": {
      "text/plain": [
       "['My', 'name', 'is', 'Simon']"
      ]
     },
     "execution_count": 78,
     "metadata": {},
     "output_type": "execute_result"
    }
   ],
   "source": [
    "'My name is Simon'.split()"
   ]
  },
  {
   "cell_type": "code",
   "execution_count": 80,
   "metadata": {},
   "outputs": [
    {
     "data": {
      "text/plain": [
       "['Dear Alice,',\n",
       " 'How have you been? I am fine.',\n",
       " 'There is a container in the fridge',\n",
       " 'that is labeled \"Milk Experiment\".',\n",
       " 'Please do not drink it.',\n",
       " 'Sincerely,',\n",
       " 'Bob']"
      ]
     },
     "execution_count": 80,
     "metadata": {},
     "output_type": "execute_result"
    }
   ],
   "source": [
    "msg = '''Dear Alice,\n",
    "How have you been? I am fine.\n",
    "There is a container in the fridge\n",
    "that is labeled \"Milk Experiment\".\n",
    "Please do not drink it.\n",
    "Sincerely,\n",
    "Bob'''\n",
    "\n",
    "msg.split('\\n')"
   ]
  },
  {
   "cell_type": "markdown",
   "metadata": {},
   "source": [
    "##### Justifying Text with rjust(), ljust(), and center()\n",
    "- The rjust() and ljust() string methods return a padded version of the string they are called on, \n",
    "    - with spaces inserted to justify the text. \n",
    "    - The first argument to both methods is an integer length for the justified string.\n",
    "        - 'Hello'.rjust(10) says that we want to right-justify 'Hello' in a string of total length 10. \n",
    "            - 'Hello' is five characters, \n",
    "                - so five spaces will be added to its left, \n",
    "                - giving us a string of 10 characters with 'Hello' justified right.\n",
    "    - optional second argument to rjust() and ljust() will specify a fill character other than a space character.\n",
    "- center() string method works like ljust() and rjust() but centers the text rather than justifying it to the left or right."
   ]
  },
  {
   "cell_type": "code",
   "execution_count": 81,
   "metadata": {},
   "outputs": [
    {
     "data": {
      "text/plain": [
       "'Hello---------------'"
      ]
     },
     "execution_count": 81,
     "metadata": {},
     "output_type": "execute_result"
    }
   ],
   "source": [
    "'Hello'.ljust(20, '-')"
   ]
  },
  {
   "cell_type": "code",
   "execution_count": 84,
   "metadata": {},
   "outputs": [
    {
     "data": {
      "text/plain": [
       "'***************Hello'"
      ]
     },
     "execution_count": 84,
     "metadata": {},
     "output_type": "execute_result"
    }
   ],
   "source": [
    "'Hello'.rjust(20, '*')"
   ]
  },
  {
   "cell_type": "code",
   "execution_count": 82,
   "metadata": {},
   "outputs": [
    {
     "data": {
      "text/plain": [
       "'       Hello        '"
      ]
     },
     "execution_count": 82,
     "metadata": {},
     "output_type": "execute_result"
    }
   ],
   "source": [
    "'Hello'.center(20)"
   ]
  },
  {
   "cell_type": "code",
   "execution_count": 83,
   "metadata": {},
   "outputs": [
    {
     "data": {
      "text/plain": [
       "'=======Hello========'"
      ]
     },
     "execution_count": 83,
     "metadata": {},
     "output_type": "execute_result"
    }
   ],
   "source": [
    "'Hello'.center(20, '=')"
   ]
  },
  {
   "cell_type": "markdown",
   "metadata": {},
   "source": [
    "Methods are especially useful when you need to print tabular data that has the correct spacing."
   ]
  },
  {
   "cell_type": "code",
   "execution_count": 88,
   "metadata": {},
   "outputs": [
    {
     "name": "stdout",
     "output_type": "stream",
     "text": [
      "---PICNIC ITEMS--\n",
      "sandwiches..    4\n",
      "apples......   12\n",
      "cups........    4\n",
      "cookies..... 8000\n",
      "-------PICNIC ITEMS-------\n",
      "sandwiches..........     4\n",
      "apples..............    12\n",
      "cups................     4\n",
      "cookies.............  8000\n"
     ]
    }
   ],
   "source": [
    "def printPicnic(itemsDict, leftWidth, rightWidth):\n",
    "    print('PICNIC ITEMS'.center(leftWidth + rightWidth, '-'))\n",
    "    for k, v in itemsDict.items():\n",
    "        print(k.ljust(leftWidth, '.') + str(v).rjust(rightWidth))\n",
    "\n",
    "picnicItems = {'sandwiches': 4, 'apples': 12, 'cups': 4, 'cookies': 8000}\n",
    "\n",
    "printPicnic(picnicItems, 12, 5)\n",
    "printPicnic(picnicItems, 20, 6)"
   ]
  },
  {
   "cell_type": "markdown",
   "metadata": {},
   "source": [
    "- we define a printPicnic() method that will take in a dictionary of information and use center(), ljust(), and rjust() to display that information in a neatly aligned table-like format.\n",
    "- The dictionary that we’ll pass to printPicnic() is picnicItems. In picnicItems, we have \n",
    "    - 4 sandwiches, \n",
    "    - 12 apples, \n",
    "    - 4 cups, and\n",
    "    - 8000 cookies.\n",
    "- We want to organize this information into two columns, with the name of the item on the left and the quantity on the right.\n",
    "- To do this, \n",
    "    - we decide how wide we want the left and right columns to be. \n",
    "    - Along with our dictionary, we’ll pass these values to printPicnic().\n",
    "        - printPicnic() takes in a dictionary, a leftWidth for the left column of a table, and a rightWidth for the right column. \n",
    "    - It prints a title, PICNIC ITEMS, centered above the table. \n",
    "    - Then, it loops through the dictionary, printing each key-value pair on a line with the key justified left and padded by periods, and the value justified right and padded by spaces.\n",
    "    - After defining printPicnic(), we define the dictionary picnicItems and call printPicnic() twice, passing it different widths for the left and right table columns."
   ]
  },
  {
   "cell_type": "markdown",
   "metadata": {},
   "source": [
    "##### Removing Whitespace with strip(), rstrip(), and lstrip()\n",
    "- Sometimes you may want to strip off whitespace characters (space, tab, and newline) from the left side, right side, or both sides of a string. \n",
    "- The strip() string method will return a new string without any whitespace characters at the beginning or end. \n",
    "    - The lstrip() and rstrip() methods will remove whitespace characters from the left and right ends, respectively.  \n",
    "- Optionally, a string argument will specify which characters on the ends should be stripped."
   ]
  },
  {
   "cell_type": "code",
   "execution_count": 90,
   "metadata": {},
   "outputs": [
    {
     "data": {
      "text/plain": [
       "'Hello World'"
      ]
     },
     "execution_count": 90,
     "metadata": {},
     "output_type": "execute_result"
    }
   ],
   "source": [
    "spam2 = ' Hello World '\n",
    "spam2.strip()"
   ]
  },
  {
   "cell_type": "code",
   "execution_count": 91,
   "metadata": {},
   "outputs": [
    {
     "data": {
      "text/plain": [
       "'BaconSpamEggs'"
      ]
     },
     "execution_count": 91,
     "metadata": {},
     "output_type": "execute_result"
    }
   ],
   "source": [
    "spam = 'SpamSpamBaconSpamEggsSpamSpam'\n",
    "spam.strip('ampS')"
   ]
  },
  {
   "cell_type": "markdown",
   "metadata": {},
   "source": [
    "- Passing strip() the argument 'ampS' will tell it to strip occurences of a, m, p, and capital S from the ends of the string stored in spam. \n",
    "    - The order of the characters in the string passed to strip() does not matter: \n",
    "        - strip('ampS') will do the same thing as strip('mapS') or strip('Spam')."
   ]
  },
  {
   "cell_type": "markdown",
   "metadata": {},
   "source": [
    "##### Copying and Pasting Strings with the pyperclip Module\n",
    "- The pyperclip module has copy() and paste() functions that can send text to and receive text from your computer’s clipboard. - Sending the output of your program to the clipboard will make it easy to paste it to an email, word processor, or some other software.\n",
    "    - Pyperclip does not come with Python. \n",
    "        - To install it, follow the directions for installing third-party modules.\n",
    "- if something outside of your program changes the clipboard contents, the paste() function will return it."
   ]
  },
  {
   "cell_type": "code",
   "execution_count": null,
   "metadata": {},
   "outputs": [],
   "source": []
  }
 ],
 "metadata": {
  "kernelspec": {
   "display_name": "Python 3",
   "language": "python",
   "name": "python3"
  },
  "language_info": {
   "codemirror_mode": {
    "name": "ipython",
    "version": 3
   },
   "file_extension": ".py",
   "mimetype": "text/x-python",
   "name": "python",
   "nbconvert_exporter": "python",
   "pygments_lexer": "ipython3",
   "version": "3.8.8"
  }
 },
 "nbformat": 4,
 "nbformat_minor": 2
}
