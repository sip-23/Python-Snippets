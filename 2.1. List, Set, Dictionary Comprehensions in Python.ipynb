{
 "cells": [
  {
   "cell_type": "markdown",
   "metadata": {},
   "source": [
    "# Comprehensions in Python:\n",
    "Comprehension consists of a \n",
    "- single expression \n",
    "- followed by at least one for clause and \n",
    "- zero or more for or if clauses\n",
    "\n",
    "There are three comprehensions in Python.\n",
    "- List Comprehension\n",
    "- Set Comprehension\n",
    "- Dictionary Comprehension\n",
    "\n",
    "# List Comprehensions:\n",
    "- way to create lists\n",
    "- applications are to \n",
    "    - make new lists where each element is the result of some operations applied to each member of another sequence or iterable or\n",
    "    - to create a subsequence of those elements that satisfy a certain condition.\n",
    "        -  condition is optional, and is used to filter out elements that meet a certain condition.\n",
    "    - both expression and condition are in terms of i.\n",
    "    - using a for loop along with .append() to create a list, List Comprehensions are an excellent alternative.\n",
    "    \n",
    "Syntax: [expression for item in iterable if conditional]\n",
    "\n",
    "or: [expr for val in collection if condition]\n",
    "\n",
    "- expression can be any \n",
    "    - arbitary expression, \n",
    "    - complex expressions, \n",
    "    - tuple, \n",
    "    - nested functions, or another \n",
    "    - list comprehension.\n",
    "    \n",
    "Return Type:\n",
    "- List\n",
    "\n",
    "Use cases:\n",
    "- Manipulating lists\n",
    "- Extracting information\n",
    "- Filtering lists"
   ]
  },
  {
   "cell_type": "code",
   "execution_count": 1,
   "metadata": {},
   "outputs": [
    {
     "data": {
      "text/plain": [
       "[4, 16, 36, 64, 100]"
      ]
     },
     "execution_count": 1,
     "metadata": {},
     "output_type": "execute_result"
    }
   ],
   "source": [
    "nums= [2,4,6,8,10]\n",
    "\n",
    "# list Comprehension\n",
    "\n",
    "[expression for item in iterable if conditional]\n",
    "\n",
    "[x**2 for x in nums if x%2 == 0]"
   ]
  },
  {
   "cell_type": "code",
   "execution_count": null,
   "metadata": {},
   "outputs": [],
   "source": [
    "for item in iterable:\n",
    "    if conditional:\n",
    "        expression"
   ]
  },
  {
   "cell_type": "markdown",
   "metadata": {},
   "source": [
    "### Using List Comprehension:\n",
    "list comprehension consists of brackets[] containing an:\n",
    "- expression followed by a \n",
    "- for clause, \n",
    "- then zero or more for or if clauses. \n",
    "\n",
    "The result will be a \n",
    "- new list resulting from evaluating the expression in the context of the for and if clauses that follow it."
   ]
  },
  {
   "cell_type": "markdown",
   "metadata": {},
   "source": [
    "### 10 Things to Know to Master Comprehensions\n",
    "\n",
    "##### Structure of List Comprehension\n",
    "- List comprehension is a concise way of creating lists from an existing iterable.\n",
    "    - it applys each of the item to the expression, by turn, which will return a value that will go to the created list as an item.\n",
    "- We will use the expanded form — a for loop to illustrate how list comprehension works:"
   ]
  },
  {
   "cell_type": "code",
   "execution_count": null,
   "metadata": {},
   "outputs": [],
   "source": [
    "# The expanded form using for loop\n",
    "\n",
    "created_list = []\n",
    "for item in iterable:\n",
    "    created_item = certain_expression_to_process_the_item\n",
    "    created_list.append(created_item)"
   ]
  },
  {
   "cell_type": "code",
   "execution_count": null,
   "metadata": {},
   "outputs": [],
   "source": [
    "# The syntax for list comprehension\n",
    "\n",
    "created_list = [expression for item in iterable]"
   ]
  },
  {
   "cell_type": "markdown",
   "metadata": {},
   "source": [
    "#####  Creating a List From an Iterable\n",
    "\n",
    "- A common use case is to create a list object from an existing iterable. \n",
    "- There are many kinds of iterables, such as \n",
    "    - strings, \n",
    "    - lists, \n",
    "    - sets, \n",
    "    - dictionaries, \n",
    "    - map objects, and so on. \n",
    "- Any iterable can be used in a list comprehension."
   ]
  },
  {
   "cell_type": "code",
   "execution_count": 22,
   "metadata": {},
   "outputs": [
    {
     "data": {
      "text/plain": [
       "[4, 9, 16]"
      ]
     },
     "execution_count": 22,
     "metadata": {},
     "output_type": "execute_result"
    }
   ],
   "source": [
    "# Set object\n",
    "\n",
    "obj_set = {2, 3, 4}\n",
    "\n",
    "[x*x for x in obj_set]"
   ]
  },
  {
   "cell_type": "code",
   "execution_count": 23,
   "metadata": {},
   "outputs": [
    {
     "data": {
      "text/plain": [
       "['1_one', '2_two']"
      ]
     },
     "execution_count": 23,
     "metadata": {},
     "output_type": "execute_result"
    }
   ],
   "source": [
    "# Dict Object\n",
    "\n",
    "obj_dict = {1: 'one', 2: 'two'}\n",
    "\n",
    "[f\"{key}_{value}\" for key, value in obj_dict.items()]\n",
    "\n",
    "# for the dict object, which I use the items method to retrieve the key-value pairs. \n",
    "# In the expression, both key and value can be used to create the items for the list object."
   ]
  },
  {
   "cell_type": "code",
   "execution_count": 24,
   "metadata": {},
   "outputs": [
    {
     "data": {
      "text/plain": [
       "[1, 4, 27]"
      ]
     },
     "execution_count": 24,
     "metadata": {},
     "output_type": "execute_result"
    }
   ],
   "source": [
    "# Tup object\n",
    "\n",
    "obj_tup = (1, 2, 3)\n",
    "\n",
    "[x**x for x in obj_tup]"
   ]
  },
  {
   "cell_type": "markdown",
   "metadata": {},
   "source": [
    "#####  Keeping the Needed Items\n",
    "- Apply a conditional evaluation to check whether an item should be included."
   ]
  },
  {
   "cell_type": "code",
   "execution_count": null,
   "metadata": {},
   "outputs": [],
   "source": [
    "# Equivalent for loop\n",
    "\n",
    "items = []\n",
    "for item in iterable:\n",
    "    if condition_of_the_item:\n",
    "        created_item = expression\n",
    "        items.append(created_item)"
   ]
  },
  {
   "cell_type": "code",
   "execution_count": null,
   "metadata": {},
   "outputs": [],
   "source": [
    "# condition in a list comprehension\n",
    "\n",
    "items = [expression for item in iterable if condition]"
   ]
  },
  {
   "cell_type": "code",
   "execution_count": 25,
   "metadata": {},
   "outputs": [
    {
     "data": {
      "text/plain": [
       "[0, 9, 25, 441]"
      ]
     },
     "execution_count": 25,
     "metadata": {},
     "output_type": "execute_result"
    }
   ],
   "source": [
    "# Example: keep only fibonacci sequences that are multiples of three or five.\n",
    "\n",
    "fibonacci = [0, 1, 1, 2, 3, 5, 8, 13, 21, 34]\n",
    "\n",
    "squares_fib = [x*x for x in fibonacci if x%3 == 0 or x%5 == 0]\n",
    "squares_fib"
   ]
  },
  {
   "cell_type": "markdown",
   "metadata": {},
   "source": [
    "##### Conditional Assignment (Ternary Expression)\n",
    "- Instead of writing the multi-line version of if…else… statement, you can use a one-liner.\n",
    "    - a if condition else b.\n",
    "        - This expression evaluates to a if the condition is True \n",
    "        - while to b if the condition is False.\n",
    "- apply the ternary expression in the list comprehension, which will do conditional assignment on the items of the original list: \n",
    "    - [expr0 if condition else expr1 for item in iterable]"
   ]
  },
  {
   "cell_type": "code",
   "execution_count": 27,
   "metadata": {},
   "outputs": [
    {
     "data": {
      "text/plain": [
       "[1, 8, 9, 64, 25]"
      ]
     },
     "execution_count": 27,
     "metadata": {},
     "output_type": "execute_result"
    }
   ],
   "source": [
    "numbers = [1, 2, 3, 4, 5]\n",
    "\n",
    "powered_numbers = [pow(x, 2) if x % 2 else pow(x, 3) for x in numbers]\n",
    "powered_numbers"
   ]
  },
  {
   "cell_type": "markdown",
   "metadata": {},
   "source": [
    "##### Nested List Comprehensions\n",
    "-  list comprehension is a way to replace a for loop to create a list object.\n",
    "    - we can have nested for loops\n",
    "    - we can convert this nested for loop to a list comprehension\n",
    "        - use nested list comprehension."
   ]
  },
  {
   "cell_type": "code",
   "execution_count": null,
   "metadata": {},
   "outputs": [],
   "source": [
    "for items in items_list:\n",
    "    for item in items:\n",
    "        expression"
   ]
  },
  {
   "cell_type": "code",
   "execution_count": 28,
   "metadata": {},
   "outputs": [
    {
     "data": {
      "text/plain": [
       "[7.83, 8.24, 9.42, 8.43, 8.86, 8.34]"
      ]
     },
     "execution_count": 28,
     "metadata": {},
     "output_type": "execute_result"
    }
   ],
   "source": [
    "# Example:\n",
    "\n",
    "scores = [[7.835, 8.236, 9.421], [8.431, 8.856, 8.343]]\n",
    "\n",
    "rounded_scores = [round(x, 2) for items in scores for x in items]\n",
    "rounded_scores\n",
    "\n",
    "# first for loop, which is the first level, and \n",
    "# the second for loop is the inner loop."
   ]
  },
  {
   "cell_type": "markdown",
   "metadata": {},
   "source": [
    "##### Replacing map()\n",
    "\n",
    "- map function applies a function to each item of an iterable, \n",
    "    - creating another iterable — the map object. \n",
    "    - use map to create a list\n",
    "        - note that we need to use a list constructor, in which we pass the map object, an iterable that is different from a list object.\n",
    "- list comprehension, the expression is applied to each of the iterable’s items."
   ]
  },
  {
   "cell_type": "code",
   "execution_count": 29,
   "metadata": {},
   "outputs": [
    {
     "data": {
      "text/plain": [
       "['TIGER', 'LION', 'DOG', 'CAT']"
      ]
     },
     "execution_count": 29,
     "metadata": {},
     "output_type": "execute_result"
    }
   ],
   "source": [
    "animals = ['tiger', 'Lion', 'doG', 'CAT']\n",
    "\n",
    "uppercased_animals = list(map(str.upper, animals))\n",
    "uppercased_animals"
   ]
  },
  {
   "cell_type": "code",
   "execution_count": 31,
   "metadata": {},
   "outputs": [
    {
     "data": {
      "text/plain": [
       "['tiger', 'lion', 'dog', 'cat']"
      ]
     },
     "execution_count": 31,
     "metadata": {},
     "output_type": "execute_result"
    }
   ],
   "source": [
    " [x.lower() for x in animals]"
   ]
  },
  {
   "cell_type": "markdown",
   "metadata": {},
   "source": [
    "##### Using List Constructor When Applicable"
   ]
  },
  {
   "cell_type": "markdown",
   "metadata": {},
   "source": [
    "- misuse about list comprehension to avoid is:\n",
    "    - to use list constructor when applicable. \n",
    "    - What’s list constructor? \n",
    "        - The so-called list function.\n",
    "        - list constructor can take any iterable directly.\n",
    "        - when you don’t manipulate the item in an iterable, you should send it directly to the list constructor.\n",
    "        \n",
    "        \n",
    "Take-home message\n",
    "- unless you manipulate the items of the iterable (e.g., applying a function),\n",
    "    - use the list constructor directly."
   ]
  },
  {
   "cell_type": "code",
   "execution_count": 36,
   "metadata": {},
   "outputs": [
    {
     "data": {
      "text/plain": [
       "['H', 'e', 'l', 'l', 'o']"
      ]
     },
     "execution_count": 36,
     "metadata": {},
     "output_type": "execute_result"
    }
   ],
   "source": [
    "### proof of concept.\n",
    "\n",
    "words = \"Hello\"\n",
    "\n",
    "# List comprehension\n",
    "letters0 = [x for x in words]\n",
    "letters0"
   ]
  },
  {
   "cell_type": "code",
   "execution_count": 34,
   "metadata": {},
   "outputs": [
    {
     "data": {
      "text/plain": [
       "['H', 'e', 'l', 'l', 'o']"
      ]
     },
     "execution_count": 34,
     "metadata": {},
     "output_type": "execute_result"
    }
   ],
   "source": [
    "# List constructor\n",
    "letters1 = list(words)\n",
    "letters1"
   ]
  },
  {
   "cell_type": "code",
   "execution_count": 35,
   "metadata": {},
   "outputs": [],
   "source": [
    "assert letters0 == letters1 == [\"H\", \"e\", \"l\", \"l\", \"o\"]"
   ]
  },
  {
   "cell_type": "code",
   "execution_count": 37,
   "metadata": {},
   "outputs": [
    {
     "data": {
      "text/plain": [
       "[(1, 'one'), (2, 'two')]"
      ]
     },
     "execution_count": 37,
     "metadata": {},
     "output_type": "execute_result"
    }
   ],
   "source": [
    "# list constructor over list comprehension\n",
    "\n",
    "numbers_dict = {1: 'one', 2: 'two'}\n",
    "\n",
    "# list comprehension\n",
    "[(key, value) for key, value in numbers_dict.items()]"
   ]
  },
  {
   "cell_type": "code",
   "execution_count": 38,
   "metadata": {},
   "outputs": [
    {
     "data": {
      "text/plain": [
       "[(1, 'one'), (2, 'two')]"
      ]
     },
     "execution_count": 38,
     "metadata": {},
     "output_type": "execute_result"
    }
   ],
   "source": [
    "# list constructor\n",
    "list(numbers_dict.items())"
   ]
  },
  {
   "cell_type": "markdown",
   "metadata": {},
   "source": [
    "##### Set Comprehension\n",
    "\n",
    "- use comprehension to create a set from an existing iterable: {expression for item in iterable}\n",
    "    - set comprehension uses curly braces\n",
    "    - list comprehension uses square brackets\n",
    "- things to note when we use set comprehension\n",
    "    - There will be no duplicates in the created set. \n",
    "        - Even if duplicated items will be created from the expression, only one copy will be kept in the final set object.\n",
    "    - Set objects can only store hashable data, such as strings and integers, but not lists and dictionaries."
   ]
  },
  {
   "cell_type": "code",
   "execution_count": 39,
   "metadata": {},
   "outputs": [
    {
     "data": {
      "text/plain": [
       "{1, 4, 9, 16, 25}"
      ]
     },
     "execution_count": 39,
     "metadata": {},
     "output_type": "execute_result"
    }
   ],
   "source": [
    "numbers = [-3, -2, -1, 1, 2, 3, 4, 5]\n",
    "\n",
    "squares_set = {x*x for x in numbers}\n",
    "squares_set"
   ]
  },
  {
   "cell_type": "markdown",
   "metadata": {},
   "source": [
    "#####  Dict Comprehension\n",
    "\n",
    "- use dict comprehension to create a dict object: {key_expr: value_expr for item in iterable}\n",
    "- dictionary comprehension takes two expressions, one for the key and the other for the value. \n",
    "- thing to note is that \n",
    "    - dictionary keys have to be hashable, so \n",
    "        - the key_expr should produce a hashable object."
   ]
  },
  {
   "cell_type": "code",
   "execution_count": 40,
   "metadata": {},
   "outputs": [
    {
     "data": {
      "text/plain": [
       "{-3: 9, -2: 4, -1: 1, 1: 1, 2: 4, 3: 9, 4: 16, 5: 25}"
      ]
     },
     "execution_count": 40,
     "metadata": {},
     "output_type": "execute_result"
    }
   ],
   "source": [
    "numbers = [-3, -2, -1, 1, 2, 3, 4, 5]\n",
    "\n",
    "squares_dict = {x: x*x for x in numbers}\n",
    "squares_dict"
   ]
  },
  {
   "cell_type": "code",
   "execution_count": null,
   "metadata": {},
   "outputs": [],
   "source": []
  },
  {
   "cell_type": "markdown",
   "metadata": {},
   "source": [
    "### List comprehension vs for loop.\n",
    "Using List Comprehension is more concise and readable comparing to for loop.\n",
    "\n",
    "**Finding square of numbers using List Comprehension vs for loop:**"
   ]
  },
  {
   "cell_type": "code",
   "execution_count": 2,
   "metadata": {},
   "outputs": [
    {
     "name": "stdout",
     "output_type": "stream",
     "text": [
      "[1, 4, 9, 16, 25, 36, 49, 64, 81, 100]\n"
     ]
    }
   ],
   "source": [
    "# Using for loop\n",
    "l1=[]\n",
    "for i in range(1,11):\n",
    "    a=i*i\n",
    "    l1.append(a)\n",
    "print (l1) "
   ]
  },
  {
   "cell_type": "code",
   "execution_count": 3,
   "metadata": {},
   "outputs": [
    {
     "name": "stdout",
     "output_type": "stream",
     "text": [
      "[1, 4, 9, 16, 25, 36, 49, 64, 81, 100]\n"
     ]
    }
   ],
   "source": [
    "# Using List Comprehension\n",
    "l2 = [i*i for i in range(1,11)]\n",
    "print (l2)"
   ]
  },
  {
   "cell_type": "code",
   "execution_count": null,
   "metadata": {},
   "outputs": [],
   "source": [
    "# Calculate the square of the numbers 1 to 10\n",
    "\n",
    "# uses append to add the square of the number to the list.\n",
    "\n",
    "squares = []\n",
    "for i in range(1, 11):\n",
    "    squares.append(i**2)\n",
    "\n",
    "squares_lc = [i**2 for i in range(1, 11)]"
   ]
  },
  {
   "cell_type": "code",
   "execution_count": 2,
   "metadata": {},
   "outputs": [
    {
     "name": "stdout",
     "output_type": "stream",
     "text": [
      "['S', 'i', 'p', 'h', 'a', 'm', 'a', 'n', 'd', 'l', 'a']\n"
     ]
    }
   ],
   "source": [
    "# using for loop\n",
    "\n",
    "name = 'Siphamandla'\n",
    "\n",
    "char_list = []\n",
    "for i in name:\n",
    "    char_list.append(i)\n",
    "    \n",
    "print(char_list)\n"
   ]
  },
  {
   "cell_type": "code",
   "execution_count": 3,
   "metadata": {},
   "outputs": [
    {
     "name": "stdout",
     "output_type": "stream",
     "text": [
      "['S', 'i', 'p', 'h', 'a', 'm', 'a', 'n', 'd', 'l', 'a']\n"
     ]
    }
   ],
   "source": [
    "# using List Comp\n",
    "\n",
    "name = 'Siphamandla'\n",
    "\n",
    "char_list = [c for c in name]\n",
    "print(char_list)"
   ]
  },
  {
   "cell_type": "markdown",
   "metadata": {},
   "source": [
    "- List comprehensions are faster than for loops to create lists.\n",
    "    - in for loop: this is because we are creating a list by appending new elements to it at each iteration. This is slow.\n",
    "    - It would even be worse if it was a Numpy Array and not a list. The for loop would take minutes to run.\n",
    "        - Do not create numpy arrays by appending values in a loop."
   ]
  },
  {
   "cell_type": "code",
   "execution_count": 41,
   "metadata": {},
   "outputs": [
    {
     "name": "stdout",
     "output_type": "stream",
     "text": [
      "24.52744221687317\n"
     ]
    }
   ],
   "source": [
    "# Using time\n",
    "import time\n",
    "iterations = 100000000\n",
    "\n",
    "\n",
    "# For Loop\n",
    "start = time.time()\n",
    "mylist = []\n",
    "for i in range(iterations):\n",
    "    mylist.append(i+1)\n",
    "end = time.time()\n",
    "print(end - start)"
   ]
  },
  {
   "cell_type": "code",
   "execution_count": 43,
   "metadata": {},
   "outputs": [
    {
     "name": "stdout",
     "output_type": "stream",
     "text": [
      "17.37248468399048\n"
     ]
    }
   ],
   "source": [
    "# List Comprehension\n",
    "start = time.time()\n",
    "mylist = [i+1 for i in range(iterations)]\n",
    "end = time.time()\n",
    "print(end - start)"
   ]
  },
  {
   "cell_type": "code",
   "execution_count": 46,
   "metadata": {},
   "outputs": [],
   "source": [
    "# Numpy array\n",
    "import numpy as np\n",
    "\n",
    "myarray = np.array([])\n",
    "for i in range(iterations):\n",
    "    myarray = np.append(myarray, i+1)"
   ]
  },
  {
   "cell_type": "markdown",
   "metadata": {},
   "source": [
    "If you want to perform some computations (or call an independent function multiple times) and do not want to create a list.\n",
    "- For loops are faster than list comprehensions to run functions."
   ]
  },
  {
   "cell_type": "code",
   "execution_count": 47,
   "metadata": {},
   "outputs": [
    {
     "name": "stdout",
     "output_type": "stream",
     "text": [
      "10.690795183181763\n"
     ]
    }
   ],
   "source": [
    "start = time.time()\n",
    "for i in range(iterations):\n",
    "    i+1\n",
    "end = time.time()\n",
    "print(end - start)"
   ]
  },
  {
   "cell_type": "code",
   "execution_count": 48,
   "metadata": {},
   "outputs": [
    {
     "name": "stdout",
     "output_type": "stream",
     "text": [
      "17.76056694984436\n"
     ]
    }
   ],
   "source": [
    "start = time.time()\n",
    "[i+1 for i in range(iterations)]\n",
    "end = time.time()\n",
    "print(end - start)"
   ]
  },
  {
   "cell_type": "markdown",
   "metadata": {},
   "source": [
    "Array Computations are Faster than For Loops\n",
    "- it is a bad practice in Python to use for loops, list comprehensions, or .apply() in pandas. \n",
    "- Instead, you should always prefer array computations."
   ]
  },
  {
   "cell_type": "code",
   "execution_count": 49,
   "metadata": {},
   "outputs": [
    {
     "name": "stdout",
     "output_type": "stream",
     "text": [
      "6.922642230987549\n"
     ]
    }
   ],
   "source": [
    "# create our list even faster using list(range())\n",
    "\n",
    "start = time.time()\n",
    "mylist = list(range(iterations))\n",
    "end = time.time()\n",
    "print(end - start)"
   ]
  },
  {
   "cell_type": "markdown",
   "metadata": {},
   "source": [
    "# Comparing List Comprehensions vs. Built-In Functions\n",
    "- consider the specific use case and the readability/maintainability of the code.\n",
    "\n",
    "List Comprehensions:\n",
    "- List comprehensions are concise and expressive, \n",
    "    - allowing you to create new lists based on existing ones in a single line of code.\n",
    "- They provide a compact syntax for transforming and filtering elements from an iterable.\n",
    "- List comprehensions are generally faster in execution compared to traditional loops because they are implemented at a lower level in Python.\n",
    "- They can make code more readable and maintainable by encapsulating logic within a compact expression.\n",
    "\n",
    "\n",
    "Built-In Functions:\n",
    "- Python offers a rich set of built-in functions such as \n",
    "    - `map()`, \n",
    "    - `filter()`, and \n",
    "    - `reduce()`, which provide more flexibility in data transformation and filtering.\n",
    "- These functions are versatile and can be used with different iterables and data types.\n",
    "- Built-in functions often provide better separation of concerns, \n",
    "    - as they separate the transformation or filtering logic from the construction of the new list.\n",
    "- They can be more expressive when the logic involves complex operations or multiple iterables."
   ]
  },
  {
   "cell_type": "code",
   "execution_count": 54,
   "metadata": {},
   "outputs": [
    {
     "data": {
      "text/plain": [
       "[4, 16]"
      ]
     },
     "execution_count": 54,
     "metadata": {},
     "output_type": "execute_result"
    }
   ],
   "source": [
    "numbers = [1, 2, 3, 4, 5]\n",
    "squared_numbers = [x**2 for x in numbers if x % 2 == 0]\n",
    "squared_numbers"
   ]
  },
  {
   "cell_type": "code",
   "execution_count": 53,
   "metadata": {},
   "outputs": [
    {
     "data": {
      "text/plain": [
       "[4, 16]"
      ]
     },
     "execution_count": 53,
     "metadata": {},
     "output_type": "execute_result"
    }
   ],
   "source": [
    "numbers = [1, 2, 3, 4, 5]\n",
    "squared_numbers2 = list(map(lambda x: x**2, filter(lambda x: x % 2 == 0, numbers)))\n",
    "squared_numbers2"
   ]
  },
  {
   "cell_type": "markdown",
   "metadata": {},
   "source": [
    "Choosing Between the Two:\n",
    "- For simple transformations and filtering, \n",
    "    - list comprehensions are generally preferred due to their concise and readable syntax.\n",
    "- If the logic becomes more complex or involves operations beyond basic transformations and filtering, \n",
    "    - built-in functions or even traditional loops may provide better readability and maintainability.\n",
    "- Consider the \n",
    "    - context, \n",
    "    - code style guidelines, and the \n",
    "    - preference of your development team when deciding between list comprehensions and built-in functions."
   ]
  },
  {
   "cell_type": "markdown",
   "metadata": {},
   "source": [
    "### List comprehension vs filter.\n",
    "\n",
    "filter:\n",
    "- Returns an iterator from those elements of iterable for which function returns true. iterable may be either a sequence, a container which supports iteration, or an iterator\n",
    "\n",
    "##### Finding Even Numbers Using List Comprehension vs filter():"
   ]
  },
  {
   "cell_type": "code",
   "execution_count": 4,
   "metadata": {},
   "outputs": [
    {
     "name": "stdout",
     "output_type": "stream",
     "text": [
      "<filter object at 0x00000173782915B0>\n"
     ]
    }
   ],
   "source": [
    "# Using filter function\n",
    "evennumber=filter(lambda x: x%2==0,range(1,11))\n",
    "print (evennumber)"
   ]
  },
  {
   "cell_type": "code",
   "execution_count": 5,
   "metadata": {},
   "outputs": [
    {
     "name": "stdout",
     "output_type": "stream",
     "text": [
      "[2, 4, 6, 8, 10]\n"
     ]
    }
   ],
   "source": [
    "print(list(evennumber))"
   ]
  },
  {
   "cell_type": "code",
   "execution_count": 6,
   "metadata": {},
   "outputs": [
    {
     "name": "stdout",
     "output_type": "stream",
     "text": [
      "[2, 4, 6, 8, 10]\n"
     ]
    }
   ],
   "source": [
    "# Using List Comprehension\n",
    "evenno=[n for n in range(1,11) if n%2==0]\n",
    "print(evenno)"
   ]
  },
  {
   "cell_type": "code",
   "execution_count": null,
   "metadata": {},
   "outputs": [],
   "source": [
    "# Filter the odd numbers from the numbers 1 to 10\n",
    "\n",
    "# uses a for loop and the Modulo operator to calculate the remainder\n",
    "\n",
    "odd_numbers = []\n",
    "for number in range(1, 11):\n",
    "    if number % 2 != 0:\n",
    "        odd_numbers.append(number)\n",
    "\n",
    "odd_numbers_lc = [number for number in range(1, 11) if number % 2 != 0]"
   ]
  },
  {
   "cell_type": "code",
   "execution_count": 4,
   "metadata": {},
   "outputs": [
    {
     "name": "stdout",
     "output_type": "stream",
     "text": [
      "['e', 'e', 'e', 'e', 'e']\n",
      "There are 5 Es in the string Sent.\n"
     ]
    }
   ],
   "source": [
    "#check how many times the later e appears\n",
    "# using list comp\n",
    "\n",
    "sent = 'explore data science academy'\n",
    "\n",
    "ls = [i for i in sent if i == 'e']\n",
    "print(ls)\n",
    "print(f'There are {len(ls)} Es in the string Sent.')\n"
   ]
  },
  {
   "cell_type": "code",
   "execution_count": 2,
   "metadata": {},
   "outputs": [
    {
     "data": {
      "text/plain": [
       "['Cherry', 'Peter']"
      ]
     },
     "execution_count": 2,
     "metadata": {},
     "output_type": "execute_result"
    }
   ],
   "source": [
    "# Filter people above 25 years old\n",
    "\n",
    "users = [{'name': 'Fred', 'age': 24},\n",
    "         {'name': 'Cherry', 'age': 27},\n",
    "         {'name': 'Peter', 'age': 30}]\n",
    "\n",
    "names = []\n",
    "for user in users:\n",
    "    if user['age'] > 25:\n",
    "        names.append(user['name'])\n",
    "\n",
    "names = [user['name'] for user in users if user['age'] > 25]\n",
    "names"
   ]
  },
  {
   "cell_type": "code",
   "execution_count": null,
   "metadata": {},
   "outputs": [],
   "source": [
    "# Creating an identity matrix\n",
    "# An identity matrix of size n is an n by n square matrix with only ones on the main diagonal.\n",
    "\n",
    "[ [ 1, 0, 0 ],\n",
    "  [ 0, 1, 0 ],\n",
    "  [ 0, 0, 1 ] ]"
   ]
  },
  {
   "cell_type": "code",
   "execution_count": 3,
   "metadata": {},
   "outputs": [],
   "source": [
    "# using two for loops, one for iterating the rows and another for the columns. \n",
    "# If the column index and the row index are the same, we append a one; otherwise, we add a zero.\n",
    "\n",
    "matrix = []\n",
    "for row_index in range(0, 3):\n",
    "    row = []\n",
    "    for col_index in range(0, 3):\n",
    "        if col_index == row_index:\n",
    "            row.append(1)\n",
    "        else:\n",
    "            row.append(0)\n",
    "    matrix.append(row)"
   ]
  },
  {
   "cell_type": "code",
   "execution_count": 4,
   "metadata": {},
   "outputs": [
    {
     "data": {
      "text/plain": [
       "[[1, 0, 0], [0, 1, 0], [0, 0, 1]]"
      ]
     },
     "execution_count": 4,
     "metadata": {},
     "output_type": "execute_result"
    }
   ],
   "source": [
    "matrix"
   ]
  },
  {
   "cell_type": "code",
   "execution_count": 5,
   "metadata": {},
   "outputs": [],
   "source": [
    "# implement this using a List Comprehension, we use a second iteration.\n",
    "\n",
    "imx = [[1 if c_idx == r_idx else 0 for c_idx in range(0, 3)] for r_idx in range(0, 3)]"
   ]
  },
  {
   "cell_type": "code",
   "execution_count": 6,
   "metadata": {},
   "outputs": [
    {
     "data": {
      "text/plain": [
       "[[1, 0, 0], [0, 1, 0], [0, 0, 1]]"
      ]
     },
     "execution_count": 6,
     "metadata": {},
     "output_type": "execute_result"
    }
   ],
   "source": [
    "imx"
   ]
  },
  {
   "cell_type": "markdown",
   "metadata": {},
   "source": [
    "### List Comprehension vs map.\n",
    "\n",
    "map:\n",
    "\n",
    "- Return an iterator that applies a function to every item of iterable, yielding the results.\n",
    "\n",
    "##### Finding square of numbers using List Comprehension vs map():"
   ]
  },
  {
   "cell_type": "code",
   "execution_count": 8,
   "metadata": {},
   "outputs": [
    {
     "name": "stdout",
     "output_type": "stream",
     "text": [
      "<map object at 0x00000173782D00A0>\n"
     ]
    }
   ],
   "source": [
    "#Using map() function\n",
    "l1= map(lambda x: x*x,range(1,11))\n",
    "\n",
    "#Returns an iterator(map object)\n",
    "print (l1)"
   ]
  },
  {
   "cell_type": "code",
   "execution_count": 9,
   "metadata": {},
   "outputs": [
    {
     "name": "stdout",
     "output_type": "stream",
     "text": [
      "[1, 4, 9, 16, 25, 36, 49, 64, 81, 100]\n"
     ]
    }
   ],
   "source": [
    "print(list(l1))"
   ]
  },
  {
   "cell_type": "code",
   "execution_count": 10,
   "metadata": {},
   "outputs": [
    {
     "name": "stdout",
     "output_type": "stream",
     "text": [
      "[1, 4, 9, 16, 25, 36, 49, 64, 81, 100]\n"
     ]
    }
   ],
   "source": [
    "#Using List Comprehension\n",
    "l2= [x*x for x in range(1,11)]\n",
    "print(l2)"
   ]
  },
  {
   "cell_type": "markdown",
   "metadata": {},
   "source": [
    "### Nested loops in List Comprehension.\n",
    "\n",
    "List comprehension can contain one or more for clause.\n",
    "\n",
    "##### Example 1: Flatten a list using List Comprehension with two ‘for’ clause:"
   ]
  },
  {
   "cell_type": "code",
   "execution_count": 11,
   "metadata": {},
   "outputs": [
    {
     "name": "stdout",
     "output_type": "stream",
     "text": [
      "[1, 2, 3, 4, 5, 6, 7, 8, 9]\n"
     ]
    }
   ],
   "source": [
    "l1=[[1,2,3],[4,5,6],[7,8,9]]\n",
    "l2=[num2 for num1 in l1 for num2 in num1]\n",
    "print(l2)"
   ]
  },
  {
   "cell_type": "code",
   "execution_count": 7,
   "metadata": {},
   "outputs": [
    {
     "name": "stdout",
     "output_type": "stream",
     "text": [
      "[2, 4, 6, 8]\n"
     ]
    }
   ],
   "source": [
    "# iterate over 2 lists simultaneously\n",
    "\n",
    "ls_1= [1,2,3,4,5,6,7,8]\n",
    "ls_2= [2,4,6,8,10]\n",
    "\n",
    "intersect_list = [a for a in ls_1 for b in ls_2 if a == b]\n",
    "print(intersect_list)"
   ]
  },
  {
   "cell_type": "code",
   "execution_count": 9,
   "metadata": {},
   "outputs": [
    {
     "name": "stdout",
     "output_type": "stream",
     "text": [
      "['consonent', 'vowel', 'consonent', 'consonent', 'vowel', 'consonent', 'vowel', 'consonent', 'consonent', 'consonent', 'vowel']\n"
     ]
    }
   ],
   "source": [
    "# iterating over 2 strings simultaneously\n",
    "\n",
    "str_a = 'Siphamandla'\n",
    "search_str = 'aeiou'\n",
    "\n",
    "intersec = ['vowel' if v in search_str else 'consonent' for v in str_a ]\n",
    "print(intersec)"
   ]
  },
  {
   "cell_type": "markdown",
   "metadata": {},
   "source": [
    "### Multiple if condition in List Comprehension.\n",
    "\n",
    "List comprehension can contain zero or more if clause.\n",
    "\n",
    "##### Example: Finding numbers that are divisible by 2 and 3."
   ]
  },
  {
   "cell_type": "code",
   "execution_count": 12,
   "metadata": {},
   "outputs": [
    {
     "name": "stdout",
     "output_type": "stream",
     "text": [
      "[6, 12]\n"
     ]
    }
   ],
   "source": [
    "l1=[1,2,3,4,5,6,7,8,9,10,11,12]\n",
    "l2=[n for n in l1 if n%2==0 if n%3==0]\n",
    "print(l2)"
   ]
  },
  {
   "cell_type": "markdown",
   "metadata": {},
   "source": [
    "### The expression can be tuple in List Comprehension.\n",
    "\n",
    "We can mention expression as a tuple in a list comprehension. It should be written within parentheses. Otherwise, it will raise Error. The result will be a list of tuples.\n",
    "\n",
    "#### Permutations/Combination\n",
    "\n",
    "##### Example 1: Creating a list of tuples using List Comprehension with two ‘for’ clause:"
   ]
  },
  {
   "cell_type": "code",
   "execution_count": 13,
   "metadata": {},
   "outputs": [
    {
     "name": "stdout",
     "output_type": "stream",
     "text": [
      "[('red', 0), ('red', 1), ('red', 2), ('green', 0), ('green', 1), ('green', 2), ('blue', 0), ('blue', 1), ('blue', 2)]\n"
     ]
    }
   ],
   "source": [
    "a1=['red','green','blue']\n",
    "b1=[0,1,2]\n",
    "\n",
    "a2=[(a,b) for a in a1 for b in b1]\n",
    "\n",
    "print(a2)"
   ]
  },
  {
   "cell_type": "markdown",
   "metadata": {},
   "source": [
    "##### Example 2:Using zip() function in List Comprehension:"
   ]
  },
  {
   "cell_type": "code",
   "execution_count": 14,
   "metadata": {},
   "outputs": [
    {
     "name": "stdout",
     "output_type": "stream",
     "text": [
      "[('red', 0), ('green', 1), ('blue', 2)]\n"
     ]
    }
   ],
   "source": [
    "l1=['red','green','blue']\n",
    "l2=[0,1,2]\n",
    "\n",
    "l3=[(n1,n2) for n1,n2 in zip(l1,l2)]\n",
    "print (l3)"
   ]
  },
  {
   "cell_type": "code",
   "execution_count": 10,
   "metadata": {},
   "outputs": [
    {
     "name": "stdout",
     "output_type": "stream",
     "text": [
      "[5, 7, 9]\n"
     ]
    }
   ],
   "source": [
    "# elemrnt-wise addition\n",
    "\n",
    "a = [1,2,3]\n",
    "b = [4,5,6]\n",
    "\n",
    "c = [i+j for i,j in zip(a,b)]\n",
    "print(c)"
   ]
  },
  {
   "cell_type": "markdown",
   "metadata": {},
   "source": [
    "### List comprehension can be used to call a method on each element.\n",
    "\n",
    "##### Example 1: Calling strip() method on each element in the list. It is used to strip the white spaces."
   ]
  },
  {
   "cell_type": "code",
   "execution_count": 15,
   "metadata": {},
   "outputs": [
    {
     "name": "stdout",
     "output_type": "stream",
     "text": [
      "['a', 'b', 'c']\n"
     ]
    }
   ],
   "source": [
    "l1=[\"   a\",\"b  \",\"  c  \"]\n",
    "l2=[i.strip() for i in l1]\n",
    "\n",
    "print (l2)"
   ]
  },
  {
   "cell_type": "markdown",
   "metadata": {},
   "source": [
    "##### Example 2: apply() fucntion on list"
   ]
  },
  {
   "cell_type": "code",
   "execution_count": 6,
   "metadata": {},
   "outputs": [
    {
     "name": "stdout",
     "output_type": "stream",
     "text": [
      "['EXPLORE', 'JUPYTER', 'ACADEMY', 'PYTHON']\n"
     ]
    }
   ],
   "source": [
    "# Using list comp\n",
    "\n",
    "low_c = ['explore', 'jupyter', 'academy', 'python']\n",
    "upper_c = [i.upper() for i in low_c]\n",
    "print(upper_c)"
   ]
  },
  {
   "cell_type": "markdown",
   "metadata": {},
   "source": [
    "##### Example 3: Calling the upper() method on each element in the list."
   ]
  },
  {
   "cell_type": "code",
   "execution_count": 16,
   "metadata": {},
   "outputs": [
    {
     "name": "stdout",
     "output_type": "stream",
     "text": [
      "['RED', 'BLUE']\n"
     ]
    }
   ],
   "source": [
    "l1=['red','blue']\n",
    "l2=[i.upper() for i in l1]\n",
    "print (l2)"
   ]
  },
  {
   "cell_type": "markdown",
   "metadata": {},
   "source": [
    "### List comprehension can contain complex expressions and nested functions.\n",
    "\n",
    "###### Example 1: In expression we are using the strip method and int function."
   ]
  },
  {
   "cell_type": "code",
   "execution_count": 17,
   "metadata": {},
   "outputs": [
    {
     "name": "stdout",
     "output_type": "stream",
     "text": [
      "[1, 2]\n"
     ]
    }
   ],
   "source": [
    "l1=[' 1',' 2']\n",
    "l2=[int(i.strip()) for i in l1]\n",
    "print(l2)"
   ]
  },
  {
   "cell_type": "markdown",
   "metadata": {},
   "source": [
    "##### Example 2: In expression, we are using abs() and str() function."
   ]
  },
  {
   "cell_type": "code",
   "execution_count": 18,
   "metadata": {},
   "outputs": [
    {
     "name": "stdout",
     "output_type": "stream",
     "text": [
      "['2', '1', '0', '3', '4']\n"
     ]
    }
   ],
   "source": [
    "l=[-2,-1,0,3,4]\n",
    "l3=[str(abs(i)) for i in l]\n",
    "\n",
    "print(l3)"
   ]
  },
  {
   "cell_type": "markdown",
   "metadata": {},
   "source": [
    "### Nested List Comprehension.\n",
    "\n",
    "The expression in a list comprehension can include another list comprehension also.\n",
    "\n",
    "##### Example: \n",
    "- First List comprehension given as expression will return a list of even numbers from 0 to 10. \n",
    "- Nested list comprehension will return that expression (list of even numbers from 0 to 10) three times(range(3))."
   ]
  },
  {
   "cell_type": "code",
   "execution_count": 19,
   "metadata": {},
   "outputs": [
    {
     "name": "stdout",
     "output_type": "stream",
     "text": [
      "[[0, 2, 4, 6, 8], [0, 2, 4, 6, 8], [0, 2, 4, 6, 8]]\n"
     ]
    }
   ],
   "source": [
    "l1=[[n for n in range(10) if n %2==0] for n1 in range(3)]\n",
    "print (l1)"
   ]
  },
  {
   "cell_type": "markdown",
   "metadata": {},
   "source": [
    "## 9 Levels Of List Comprehension In Python"
   ]
  },
  {
   "cell_type": "markdown",
   "metadata": {},
   "source": [
    "##### 1. Basic List Comprehension\n",
    "\n",
    "-  List comprehension generates a new list containing the squares of each number in the original list lis."
   ]
  },
  {
   "cell_type": "code",
   "execution_count": 2,
   "metadata": {},
   "outputs": [
    {
     "data": {
      "text/plain": [
       "[1, 4, 9, 16, 25]"
      ]
     },
     "execution_count": 2,
     "metadata": {},
     "output_type": "execute_result"
    }
   ],
   "source": [
    "lis = [1, 2, 3, 4, 5]\n",
    "\n",
    "new = [n**2 for n in lis]\n",
    "new"
   ]
  },
  {
   "cell_type": "markdown",
   "metadata": {},
   "source": [
    "##### 2. List Comprehension With A Condition\n",
    "\n",
    "- List comprehension generates a new list containing the squares of only the even numbers in the original list lis. \n",
    "- The condition if n%2==0 forces the list comprehension to keep only elements where this condition evaluates to True."
   ]
  },
  {
   "cell_type": "code",
   "execution_count": 4,
   "metadata": {},
   "outputs": [
    {
     "data": {
      "text/plain": [
       "[4, 16]"
      ]
     },
     "execution_count": 4,
     "metadata": {},
     "output_type": "execute_result"
    }
   ],
   "source": [
    "lis = [1, 2, 3, 4, 5]\n",
    "\n",
    "new2 = [n**2 for n in lis if n%2==0]\n",
    "new2"
   ]
  },
  {
   "cell_type": "markdown",
   "metadata": {},
   "source": [
    "##### 3. List Comprehension With Multiple Conditions\n",
    "\n",
    "- Add multiple conditions using the `and` or `or` keywords.\n",
    "- Add brackets to the 2 conditions or omit them if you want (just for visability).\n",
    "- List comprehension generates a new list containing the squares of numbers that fulfil either condition:\n",
    "    - it is an even number OR\n",
    "    - the number is equal to 1."
   ]
  },
  {
   "cell_type": "code",
   "execution_count": 5,
   "metadata": {},
   "outputs": [
    {
     "data": {
      "text/plain": [
       "[1, 4, 16]"
      ]
     },
     "execution_count": 5,
     "metadata": {},
     "output_type": "execute_result"
    }
   ],
   "source": [
    "lis = [1, 2, 3, 4, 5]\n",
    "\n",
    "new3 = [n**2 for n in lis if (n%2==0) or (n==1)]\n",
    "new3"
   ]
  },
  {
   "cell_type": "markdown",
   "metadata": {},
   "source": [
    "##### 4. List Comprehension Using Custom Functions\n",
    "\n",
    "- If our expressions become too long, Convert them into functions \n",
    "    - use these custom functions inside our list comprehension."
   ]
  },
  {
   "cell_type": "code",
   "execution_count": 7,
   "metadata": {},
   "outputs": [
    {
     "data": {
      "text/plain": [
       "[1, 4, 16]"
      ]
     },
     "execution_count": 7,
     "metadata": {},
     "output_type": "execute_result"
    }
   ],
   "source": [
    "lis = [1, 2, 3, 4, 5]\n",
    "\n",
    "def transform(n):\n",
    "    return n**2\n",
    "\n",
    "def valid(n):\n",
    "    return n%2==0 or n==1\n",
    "\n",
    "new4 = [transform(n) for n in lis if valid(n)]\n",
    "new4"
   ]
  },
  {
   "cell_type": "markdown",
   "metadata": {},
   "source": [
    "##### 5. List Comprehension Using The Ternary Operator\n",
    "\n",
    "- The ternary operator allows us to condense an if-else statement into 1 line.\n",
    "- The ternary operator 'odd' if n%2==1 else 'even' first checks if n is odd or even.\n",
    "    - If it’s odd, it maps to the string 'odd'. \n",
    "    - Otherwise, it maps to the string 'even'."
   ]
  },
  {
   "cell_type": "markdown",
   "metadata": {},
   "source": [
    "##### 6. List Comprehension Using enumerate()\n",
    "\n",
    "- The built-in enumerate() function allows us to generate both index and element at the same time.'\n",
    "- use it in our list comprehensions if we need work with the index or each element."
   ]
  },
  {
   "cell_type": "code",
   "execution_count": 8,
   "metadata": {},
   "outputs": [
    {
     "data": {
      "text/plain": [
       "[(0, 'apple'), (1, 'orange'), (2, 'pear')]"
      ]
     },
     "execution_count": 8,
     "metadata": {},
     "output_type": "execute_result"
    }
   ],
   "source": [
    "lis = ['apple', 'orange', 'pear']\n",
    "\n",
    "new5 = [(i,fruit) for i,fruit in enumerate(lis)]\n",
    "new5"
   ]
  },
  {
   "cell_type": "markdown",
   "metadata": {},
   "source": [
    "##### 7. List Comprehension Using zip()\n",
    "\n",
    "- The built-in zip function allows us to loop through 2 or more lists (or iterables) at the same time.\n",
    "- number of iterator variables must match the number of lists you are looping through concurrently."
   ]
  },
  {
   "cell_type": "code",
   "execution_count": 10,
   "metadata": {},
   "outputs": [
    {
     "data": {
      "text/plain": [
       "[('apple', 4), ('orange', 5), ('pear', 6)]"
      ]
     },
     "execution_count": 10,
     "metadata": {},
     "output_type": "execute_result"
    }
   ],
   "source": [
    "fruits = ['apple', 'orange', 'pear']\n",
    "prices = [4, 5, 6]\n",
    "\n",
    "new6 = [(fruit,price) for fruit,price in zip(fruits,prices)]\n",
    "new6"
   ]
  },
  {
   "cell_type": "code",
   "execution_count": 11,
   "metadata": {},
   "outputs": [
    {
     "data": {
      "text/plain": [
       "[('a', 4, '!'), ('b', 5, '@'), ('c', 6, '#')]"
      ]
     },
     "execution_count": 11,
     "metadata": {},
     "output_type": "execute_result"
    }
   ],
   "source": [
    "letters = ['a', 'b', 'c']\n",
    "numbers = [4, 5, 6]\n",
    "symbols = ['!', '@', '#']\n",
    "\n",
    "new7 = [(l,n,s) for l,n,s in zip(letters, numbers, symbols)]\n",
    "new7"
   ]
  },
  {
   "cell_type": "markdown",
   "metadata": {},
   "source": [
    "##### 8. List Comprehension With Nested Loops\n",
    "\n",
    "- convert a nested loop into a list comprehension by simply adding the for loops in order."
   ]
  },
  {
   "cell_type": "code",
   "execution_count": 12,
   "metadata": {},
   "outputs": [],
   "source": [
    "letters = ['a', 'b', 'c']\n",
    "numbers = [4, 5]\n",
    "\n",
    "new8 = []\n",
    "for l in letters:\n",
    "    for n in numbers:\n",
    "        new8.append(l+str(n))"
   ]
  },
  {
   "cell_type": "code",
   "execution_count": 13,
   "metadata": {},
   "outputs": [
    {
     "data": {
      "text/plain": [
       "['a4', 'a5', 'b4', 'b5', 'c4', 'c5']"
      ]
     },
     "execution_count": 13,
     "metadata": {},
     "output_type": "execute_result"
    }
   ],
   "source": [
    "new8"
   ]
  },
  {
   "cell_type": "markdown",
   "metadata": {},
   "source": [
    "- for l in letters is the outer loop, \n",
    "- while for n in numbers is the inner loop. \n",
    "\n",
    "Which is why for l in letters comes first in our list comprehension."
   ]
  },
  {
   "cell_type": "code",
   "execution_count": 14,
   "metadata": {},
   "outputs": [
    {
     "data": {
      "text/plain": [
       "['a4', 'a5', 'b4', 'b5', 'c4', 'c5']"
      ]
     },
     "execution_count": 14,
     "metadata": {},
     "output_type": "execute_result"
    }
   ],
   "source": [
    "letters = ['a', 'b', 'c']\n",
    "numbers = [4, 5]\n",
    "\n",
    "new9 = [l+str(n) for l in letters for n in numbers]\n",
    "new9"
   ]
  },
  {
   "cell_type": "markdown",
   "metadata": {},
   "source": [
    "##### 9. List Comprehensions With Smaller List Comprehensions Inside"
   ]
  },
  {
   "cell_type": "code",
   "execution_count": 17,
   "metadata": {},
   "outputs": [],
   "source": [
    "lis = [1, 2, 3]\n",
    "\n",
    "new10 = []\n",
    "for n in lis:\n",
    "    row1 = []\n",
    "    for i in range(n):\n",
    "        row1.append(i+1)\n",
    "    new10.append(row1)"
   ]
  },
  {
   "cell_type": "code",
   "execution_count": 18,
   "metadata": {},
   "outputs": [
    {
     "data": {
      "text/plain": [
       "[1, 2, 3]"
      ]
     },
     "execution_count": 18,
     "metadata": {},
     "output_type": "execute_result"
    }
   ],
   "source": [
    "row1"
   ]
  },
  {
   "cell_type": "code",
   "execution_count": 19,
   "metadata": {},
   "outputs": [
    {
     "data": {
      "text/plain": [
       "[[1], [1, 2], [1, 2, 3]]"
      ]
     },
     "execution_count": 19,
     "metadata": {},
     "output_type": "execute_result"
    }
   ],
   "source": [
    "new10"
   ]
  },
  {
   "cell_type": "code",
   "execution_count": 21,
   "metadata": {},
   "outputs": [
    {
     "data": {
      "text/plain": [
       "[[1], [1, 2], [1, 2, 3]]"
      ]
     },
     "execution_count": 21,
     "metadata": {},
     "output_type": "execute_result"
    }
   ],
   "source": [
    "lis = [1, 2, 3]\n",
    "\n",
    "new11 = [[i+1 for i in range(n)] for n in lis]\n",
    "new11"
   ]
  },
  {
   "cell_type": "markdown",
   "metadata": {},
   "source": [
    "# Python List Comprehension & Pandas Tricks\n",
    "\n",
    "### 1- if else usage in list comprehension:"
   ]
  },
  {
   "cell_type": "code",
   "execution_count": null,
   "metadata": {},
   "outputs": [],
   "source": [
    "# Without Else\n",
    "\n",
    "ls = [x.upper() for x in list(df.columns) if \"meta.\" in x]"
   ]
  },
  {
   "cell_type": "code",
   "execution_count": null,
   "metadata": {},
   "outputs": [],
   "source": [
    "# With Else\n",
    "\n",
    "ls = [x.upper() if \"meta.\" in x else x.lower() for x in list(df.columns)]"
   ]
  },
  {
   "cell_type": "markdown",
   "metadata": {},
   "source": [
    "### 2- Aggregate functions on a dataframe( df.agg() ):"
   ]
  },
  {
   "cell_type": "code",
   "execution_count": 1,
   "metadata": {},
   "outputs": [
    {
     "data": {
      "text/html": [
       "<div>\n",
       "<style scoped>\n",
       "    .dataframe tbody tr th:only-of-type {\n",
       "        vertical-align: middle;\n",
       "    }\n",
       "\n",
       "    .dataframe tbody tr th {\n",
       "        vertical-align: top;\n",
       "    }\n",
       "\n",
       "    .dataframe thead th {\n",
       "        text-align: right;\n",
       "    }\n",
       "</style>\n",
       "<table border=\"1\" class=\"dataframe\">\n",
       "  <thead>\n",
       "    <tr style=\"text-align: right;\">\n",
       "      <th></th>\n",
       "      <th>A</th>\n",
       "      <th>B</th>\n",
       "      <th>C</th>\n",
       "    </tr>\n",
       "  </thead>\n",
       "  <tbody>\n",
       "    <tr>\n",
       "      <th>0</th>\n",
       "      <td>1.0</td>\n",
       "      <td>2.0</td>\n",
       "      <td>3.0</td>\n",
       "    </tr>\n",
       "    <tr>\n",
       "      <th>1</th>\n",
       "      <td>4.0</td>\n",
       "      <td>5.0</td>\n",
       "      <td>6.0</td>\n",
       "    </tr>\n",
       "    <tr>\n",
       "      <th>2</th>\n",
       "      <td>7.0</td>\n",
       "      <td>8.0</td>\n",
       "      <td>9.0</td>\n",
       "    </tr>\n",
       "    <tr>\n",
       "      <th>3</th>\n",
       "      <td>NaN</td>\n",
       "      <td>NaN</td>\n",
       "      <td>NaN</td>\n",
       "    </tr>\n",
       "  </tbody>\n",
       "</table>\n",
       "</div>"
      ],
      "text/plain": [
       "     A    B    C\n",
       "0  1.0  2.0  3.0\n",
       "1  4.0  5.0  6.0\n",
       "2  7.0  8.0  9.0\n",
       "3  NaN  NaN  NaN"
      ]
     },
     "execution_count": 1,
     "metadata": {},
     "output_type": "execute_result"
    }
   ],
   "source": [
    "import pandas as pd\n",
    "import numpy as np\n",
    "\n",
    "df_ex2 = pd.DataFrame([[1,2,3],\n",
    "                      [4,5,6],\n",
    "                      [7,8,9],\n",
    "                      [np.nan, np.nan, np.nan]], \n",
    "                      columns = ['A','B','C'])\n",
    "df_ex2"
   ]
  },
  {
   "cell_type": "code",
   "execution_count": 2,
   "metadata": {},
   "outputs": [
    {
     "data": {
      "text/html": [
       "<div>\n",
       "<style scoped>\n",
       "    .dataframe tbody tr th:only-of-type {\n",
       "        vertical-align: middle;\n",
       "    }\n",
       "\n",
       "    .dataframe tbody tr th {\n",
       "        vertical-align: top;\n",
       "    }\n",
       "\n",
       "    .dataframe thead th {\n",
       "        text-align: right;\n",
       "    }\n",
       "</style>\n",
       "<table border=\"1\" class=\"dataframe\">\n",
       "  <thead>\n",
       "    <tr style=\"text-align: right;\">\n",
       "      <th></th>\n",
       "      <th>A</th>\n",
       "      <th>B</th>\n",
       "    </tr>\n",
       "  </thead>\n",
       "  <tbody>\n",
       "    <tr>\n",
       "      <th>sum</th>\n",
       "      <td>12.0</td>\n",
       "      <td>NaN</td>\n",
       "    </tr>\n",
       "    <tr>\n",
       "      <th>min</th>\n",
       "      <td>1.0</td>\n",
       "      <td>2.0</td>\n",
       "    </tr>\n",
       "    <tr>\n",
       "      <th>max</th>\n",
       "      <td>NaN</td>\n",
       "      <td>8.0</td>\n",
       "    </tr>\n",
       "  </tbody>\n",
       "</table>\n",
       "</div>"
      ],
      "text/plain": [
       "        A    B\n",
       "sum  12.0  NaN\n",
       "min   1.0  2.0\n",
       "max   NaN  8.0"
      ]
     },
     "execution_count": 2,
     "metadata": {},
     "output_type": "execute_result"
    }
   ],
   "source": [
    "df_ex2.agg({'A': ['sum','min'], 'B': ['min', 'max']})"
   ]
  },
  {
   "cell_type": "markdown",
   "metadata": {},
   "source": [
    "### 3- ‘bin labels must be one fewer than the number of bin edges’ error:\n",
    "- When using the pd.cut() function, error might be encountered, if we try to perform all pdcut in one line.\n",
    "    - reason: command has ‘label count > bin count’.\n",
    "\n",
    "To overcome this we must determine the number of bins\n",
    "- Then assign the labels according to that count."
   ]
  },
  {
   "cell_type": "code",
   "execution_count": null,
   "metadata": {},
   "outputs": [],
   "source": [
    "# determine number of bins\n",
    "pd.qcut(df['Price'], q=4, duplicates='drop')"
   ]
  },
  {
   "cell_type": "code",
   "execution_count": null,
   "metadata": {},
   "outputs": [],
   "source": [
    "bin_labels = ['A', 'B', 'C']"
   ]
  },
  {
   "cell_type": "code",
   "execution_count": null,
   "metadata": {},
   "outputs": [],
   "source": [
    "# Then assign the labels according to that count.\n",
    "agg_df['Segments'] = pd.qcut(df['Price'], q=4, labels = bin_labels, duplicates='drop')"
   ]
  },
  {
   "cell_type": "markdown",
   "metadata": {},
   "source": [
    "##### 4- .apply function for dataframes:\n",
    "\n",
    "- In pandas dataframes, applying a function is much eeasier using ‘.apply’.\n",
    "- ‘to_cat()’ function is applied to each cell of the dataframe’s ‘AGE’ column. \n",
    "- That is done without any \n",
    "    - loop or \n",
    "    - list comprehension."
   ]
  },
  {
   "cell_type": "code",
   "execution_count": null,
   "metadata": {},
   "outputs": [],
   "source": [
    "df['Age_cat'] = df['Age'].apply(to_cat)"
   ]
  },
  {
   "cell_type": "markdown",
   "metadata": {},
   "source": [
    "##### 5- dataframe merge:\n",
    "- Merge is used for creating a new dataframe by using 2 dataframes having different columns. \n",
    "\n",
    "two points:\n",
    "- Determine which column to merge on. \n",
    "    - If we follow a primary key-foreign key pair\n",
    "- ‘how’ flag has \n",
    "    - left’, \n",
    "    - ‘right’, \n",
    "    - ‘outer’, \n",
    "    - ‘inner’, \n",
    "        - ‘left’, ‘right’, ‘outer’, ‘inner’ are analogous to SQL joins of LEFT JOIN, RIGHT JOIN, FULL OUTER JOIN, INNER JOIN.\n",
    "    - ‘cross’ options. \n",
    "        - ‘cross’ option creates a cartesian product of columns which creates a combination of all columns on both dataframes."
   ]
  },
  {
   "cell_type": "code",
   "execution_count": null,
   "metadata": {},
   "outputs": [],
   "source": [
    "df_final = df_1.merge(df_2, on = 'c_id', how = 'left')"
   ]
  },
  {
   "cell_type": "markdown",
   "metadata": {},
   "source": [
    "##### 6- Enumerate in Pandas Dataframe:\n",
    "- enumerate() function, \n",
    "    - gives us a list of numbers and the specified list elements.\n",
    "- use enumerate within a dataframe to get the \n",
    "    - index together with the \n",
    "    - specified column. \n",
    "- Example:\n",
    "    - enumerate() generates a list of every element is a 2 element. \n",
    "        - The first element(i) of this list of 2 elements is the corresponding ‘index’ of the dataframe which give us an ease of use."
   ]
  },
  {
   "cell_type": "code",
   "execution_count": null,
   "metadata": {},
   "outputs": [],
   "source": [
    "for i, prod in enumerate(df['column']):\n",
    "    for j in List(prod):\n",
    "        if j == prod_id:"
   ]
  },
  {
   "cell_type": "code",
   "execution_count": null,
   "metadata": {},
   "outputs": [],
   "source": []
  },
  {
   "cell_type": "markdown",
   "metadata": {},
   "source": [
    "# Set Comprehensions:\n",
    "\n",
    "Set comprehension is written within curly braces{}.Returns new set based on existing iterables.\n",
    "\n",
    "Syntax: {expression for item in iterable if conditional}\n",
    "\n",
    "or: {expr for key in dictionary if condition} \n",
    "\n",
    "Return Type: \n",
    "- Set\n",
    "\n",
    "##### How to find even numbers using set Comprehension:"
   ]
  },
  {
   "cell_type": "code",
   "execution_count": 20,
   "metadata": {},
   "outputs": [
    {
     "name": "stdout",
     "output_type": "stream",
     "text": [
      "{2, 4, 6, 8, 10}\n"
     ]
    }
   ],
   "source": [
    "s1={n for n in range(1,11) if n%2==0}\n",
    "print (s1)"
   ]
  },
  {
   "cell_type": "markdown",
   "metadata": {},
   "source": [
    "##### How to find the square of numbers using Set Comprehension."
   ]
  },
  {
   "cell_type": "code",
   "execution_count": 21,
   "metadata": {},
   "outputs": [
    {
     "name": "stdout",
     "output_type": "stream",
     "text": [
      "{64, 1, 4, 36, 100, 9, 16, 49, 81, 25}\n"
     ]
    }
   ],
   "source": [
    "s1={n*n for n in range(1,11)}\n",
    "#Sets are unordered.\n",
    "print (s1)"
   ]
  },
  {
   "cell_type": "markdown",
   "metadata": {},
   "source": [
    "### If condition in Set comprehension:\n",
    "\n",
    "How to calculate the square of even numbers.\n",
    "- The expression can be a tuple, written within parentheses.\n",
    "- We are using if condition to filter the even numbers.\n",
    "- Sets are unordered. \n",
    "    - So elements are returned in any order."
   ]
  },
  {
   "cell_type": "code",
   "execution_count": 22,
   "metadata": {},
   "outputs": [
    {
     "name": "stdout",
     "output_type": "stream",
     "text": [
      "{(2, 4), (4, 16), (8, 64), (10, 100), (6, 36)}\n"
     ]
    }
   ],
   "source": [
    "s={(n,n*n) for n in range(1,11) if n%2==0}\n",
    "#Sets are unordered\n",
    "print(s)"
   ]
  },
  {
   "cell_type": "code",
   "execution_count": 23,
   "metadata": {},
   "outputs": [
    {
     "name": "stdout",
     "output_type": "stream",
     "text": [
      "<class 'set'>\n"
     ]
    }
   ],
   "source": [
    "print(type(s))"
   ]
  },
  {
   "cell_type": "code",
   "execution_count": null,
   "metadata": {},
   "outputs": [],
   "source": [
    "# Filter distinct values of a column in a table\n",
    "\n",
    "# Set Comprehension is used to select all cities of the persons in the list.\n",
    "\n",
    "class Person:\n",
    "    \n",
    "    def __init__(self, id, name, age, city):\n",
    "        self.id = id\n",
    "        self.name = name\n",
    "        self.age = age\n",
    "        self.city = city\n",
    "\n",
    "\n",
    "persons = [ Person(1, \"Fred\", 26, \"San Francisco\"), Person(2, \"Ria\", 31, \"San Francisco\"), Person(3, \"Sayid\", 23, \"New York City\") ]\n",
    "\n",
    "unique_cities = { person.city for person in persons }\n",
    "\n",
    "print(unique_cities)"
   ]
  },
  {
   "cell_type": "markdown",
   "metadata": {},
   "source": [
    "# Dictionary Comprehension:\n",
    "\n",
    "A dict comprehension, in contrast, to list and set comprehensions, needs \n",
    "- two expressions separated with a colon followed by the usual “for” and “if” clauses. \n",
    "\n",
    "When the comprehension is run, the resulting \n",
    "- key and value elements are inserted in the new dictionary in the order they are produced.\n",
    "- Dictionary comprehension is written within curly braces{}.\n",
    "- key, value and condition are in terms of i.\n",
    "\n",
    "In Expression key and value are separated by :\n",
    "\n",
    "Syntax: {key:value for (key,value) in iterable if conditional}\n",
    "\n",
    "or: {expr for (key,value) in dictionary if condition}\n",
    "\n",
    "Return Type: \n",
    "- dict\n",
    "\n",
    "Use cases:\n",
    "- Manipulating Dictionaries\n",
    "- Extracting information\n",
    "- Filtering Dictionaries\n",
    "\n",
    "##### How to find the square of numbers using Dictionary Comprehension."
   ]
  },
  {
   "cell_type": "code",
   "execution_count": 24,
   "metadata": {},
   "outputs": [
    {
     "name": "stdout",
     "output_type": "stream",
     "text": [
      "{1: 1, 2: 4, 3: 9, 4: 16, 5: 25, 6: 36, 7: 49, 8: 64, 9: 81, 10: 100}\n"
     ]
    }
   ],
   "source": [
    "d1={n:n*n for n in range(1,11)}\n",
    "print(d1)"
   ]
  },
  {
   "cell_type": "code",
   "execution_count": 2,
   "metadata": {},
   "outputs": [
    {
     "data": {
      "text/plain": [
       "{1: 1, 2: 4, 3: 9}"
      ]
     },
     "execution_count": 2,
     "metadata": {},
     "output_type": "execute_result"
    }
   ],
   "source": [
    "numbers = [1,2,3]\n",
    "d = {k:k**2 for k in numbers}\n",
    "d"
   ]
  },
  {
   "cell_type": "markdown",
   "metadata": {},
   "source": [
    "##### How to iterate through two sets using dictionary comprehension:"
   ]
  },
  {
   "cell_type": "code",
   "execution_count": 25,
   "metadata": {},
   "outputs": [
    {
     "name": "stdout",
     "output_type": "stream",
     "text": [
      "{'shape': 'apple', 'color': 'circle', 'fruit': 'red'}\n"
     ]
    }
   ],
   "source": [
    "d1={'color','shape','fruit'}\n",
    "d2={'red','circle','apple'}\n",
    "d3={k:v for (k,v) in zip(d1,d2)}\n",
    "print (d3)"
   ]
  },
  {
   "cell_type": "markdown",
   "metadata": {},
   "source": [
    "### If Condition in Dictionary Comprehension:\n",
    "\n",
    "include a condition (this is optional) to filter out certain elements in our iterable (numbers).\n",
    "\n",
    "Zero or more if clause can be used in dictionary comprehension.\n",
    "\n",
    "##### calculating the square of even numbers."
   ]
  },
  {
   "cell_type": "code",
   "execution_count": 26,
   "metadata": {},
   "outputs": [
    {
     "name": "stdout",
     "output_type": "stream",
     "text": [
      "{2: 4, 4: 16, 6: 36, 8: 64, 10: 100}\n",
      "<class 'dict'>\n"
     ]
    }
   ],
   "source": [
    "d={n:n*n for n in range(1,11) if n%2==0}\n",
    "print (d)\n",
    "print (type(d))"
   ]
  },
  {
   "cell_type": "markdown",
   "metadata": {},
   "source": [
    "### Finding the number of occurrences using dictionary comprehension:\n",
    "\n",
    "##### calculating the number of occurrences of each character in a string. \n",
    "- We can call the method count() on each element in the string. count() will return the number of occurrences of a substring in the string.\n",
    "- We are calculating the number of occurrences of each word in the list by calling count()on each word in the list."
   ]
  },
  {
   "cell_type": "code",
   "execution_count": 27,
   "metadata": {},
   "outputs": [
    {
     "name": "stdout",
     "output_type": "stream",
     "text": [
      "{'d': 1, 'i': 2, 'c': 1, 't': 1, 'o': 1, 'n': 1, 'a': 1, 'r': 1, 'y': 1}\n"
     ]
    }
   ],
   "source": [
    "# finding the number of occurrences of each character in the string\n",
    "s=\"dictionary\"\n",
    "d={n:s.count(n) for n in s}\n",
    "print (d)"
   ]
  },
  {
   "cell_type": "code",
   "execution_count": 28,
   "metadata": {},
   "outputs": [
    {
     "name": "stdout",
     "output_type": "stream",
     "text": [
      "{'red': 2, 'green': 1, 'blue': 1}\n"
     ]
    }
   ],
   "source": [
    "# finding the number of occurrences of each word in list using dict comprehension\n",
    "l=[\"red\",\"green\",\"blue\",\"red\"]\n",
    "d={n:l.count(n) for n in l}\n",
    "print(d)"
   ]
  },
  {
   "cell_type": "code",
   "execution_count": null,
   "metadata": {},
   "outputs": [],
   "source": [
    "# Calculate the square of the numbers 1 to 10 and store it in a dictionary\n",
    "\n",
    "squares = {}\n",
    "for i in range(1, 11):\n",
    "    squares[i] = i**2\n",
    "\n",
    "squares = {i: i**2 for i in range(1, 11)}"
   ]
  },
  {
   "cell_type": "code",
   "execution_count": null,
   "metadata": {},
   "outputs": [],
   "source": [
    "# Filter people above 25 years old\n",
    "class Person:\n",
    "    \n",
    "    def __init__(self, id, name, age):\n",
    "        self.id = id\n",
    "        self.name = name\n",
    "        self.age = age\n",
    "\n",
    "\n",
    "persons = { 1: Person(1, \"Fred\", 26), 2: Person(2, \"Ria\", 31), 3: Person(3, \"Sayid\", 23) }\n",
    "\n",
    "above_25 = {}\n",
    "for key in persons:\n",
    "    if persons[key].age > 25:\n",
    "        above_25[key] = persons[key]\n",
    "\n",
    "\n",
    "above_25_dc = {id: person for (id, person) in persons.items() if person.age > 25}"
   ]
  },
  {
   "cell_type": "code",
   "execution_count": null,
   "metadata": {},
   "outputs": [],
   "source": [
    "# Count the occurrence of words in a sentence\n",
    "\n",
    "# example below count the words in a string without using a Dictionary Comprehension. \n",
    "# First, it creates a dictionary, splits the string, and iterates over the words. \n",
    "# The program uses the word as the key to the dictionary. \n",
    "# If the key already exists, it adds one to the count otherwise; it sets the count to 1.\n",
    "\n",
    "### The Dictionary Comprehension on row six splits the message and creates a set. \n",
    "# By creating a set all the double words are removed. \n",
    "# It iterates over all unique words and counts how many times the unique word occurs in the split string.\n",
    "\n",
    "message = 'Dictionary Comprehensions are able to construct a Dictionary using a single line'\n",
    "word_count = {}\n",
    "for word in message.split(\" \"):\n",
    "    word_count[word] = word_count.get(word, 0) + 1\n",
    "\n",
    "word_count_dc = {word: message.split().count(word) for word in set(message.split())}"
   ]
  }
 ],
 "metadata": {
  "kernelspec": {
   "display_name": "Python 3",
   "language": "python",
   "name": "python3"
  },
  "language_info": {
   "codemirror_mode": {
    "name": "ipython",
    "version": 3
   },
   "file_extension": ".py",
   "mimetype": "text/x-python",
   "name": "python",
   "nbconvert_exporter": "python",
   "pygments_lexer": "ipython3",
   "version": "3.8.8"
  }
 },
 "nbformat": 4,
 "nbformat_minor": 4
}
