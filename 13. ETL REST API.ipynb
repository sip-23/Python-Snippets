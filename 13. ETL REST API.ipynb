{
 "cells": [
  {
   "cell_type": "markdown",
   "id": "a47ea3b1",
   "metadata": {},
   "source": [
    "# How to connect to an API with Python\n",
    "\n",
    "# What is an API?\n",
    "- An API, or Application Programming Interface:\n",
    "    - is a software to software interface that receives a request and gives a response.\n",
    "    - is a server that helps you to \n",
    "        - retrieve, \n",
    "        - send, \n",
    "        - update and \n",
    "        - delete data. \n",
    "    - allows communication between two software, or products or services.\n",
    "    - When we want to perform these actions we request the API server.\n",
    "        - takes requests from the user and brings them to the system for some kind of action to be performed.\n",
    "\n",
    "API makes the connection between the user and the system.\n",
    "- API is the messenger.\n",
    "\n",
    "APIs provide a means of communication between programs enabling them to use the other’s functions.\n",
    "\n",
    "API specifies how software components should interact with each other.\n",
    "\n",
    "API is a set of protocols, routines, and tools to build applications.\n",
    "\n",
    "Example:\n",
    "- Use credentials from one of our social media accounts and use them to log into another website.\n",
    "\n",
    "# How APIs Work?\n",
    "APIs connect two systems/software programs\n",
    "- the server(which runs and provides the unique API ) and \n",
    "- the client that \n",
    "and exchanges data with the server through the API.\n",
    "\n",
    "## What are the API request methods?\n",
    "\n",
    "The python requests library has easy-to-use methods to handle HTTP operations such as GET, POST, PUT, and DELETE against a specific web server specified by its URL.\n",
    "\n",
    "Supports sending extra information to a web server through \n",
    "- parameters and headers, \n",
    "- encoding the server responses, \n",
    "- detecting errors, and \n",
    "- handling redirects.\n",
    "\n",
    "The Requests library and the urllib Library\n",
    "- It simplifies how we work with the HTTP operations\n",
    "- Provides advanced features such as handling HTTP exceptions and authentication.\n",
    "\n",
    "- The methods of API or CRUD operations that we will be using are:\n",
    "    - Create -> POST -> Used to create an API resource in the server\n",
    "    - Read -> GET -> Used to retrieve information about an API from the server\n",
    "    - Update -> PUT -> Used to update an API information in the server\n",
    "    - Delete -> DELETE -> Used to delete API information in the server\n",
    "\n",
    "## What are the status codes returned by the API server?\n",
    "- 1xx: Informational\n",
    "    - It means the request is received and the process is continuing.\n",
    "- 2xx: Success\n",
    "    - It means the action is successfully received and accepted.\n",
    "- 3xx: Redirection\n",
    "    - It means further must be taken to complete the request.\n",
    "- 4xx: Client Error\n",
    "    - It means the request contains incorrect syntax or cannot be fulfilled.\n",
    "\n",
    "# What is HTTP?\n",
    "HTTP stands for Hyper Text Transfer Protocol. \n",
    "\n",
    "It is a request/response protocol based on the client-server architecture that relies on TCP/IP connections to exchange request and response messages.\n",
    "\n",
    "HTTP clients (web browsers or mobile applications) send requests to the HTTP server, \n",
    "- The server responds to them with messages containing:\n",
    "    - a status line, \n",
    "    - a header, and \n",
    "    - a body.\n",
    "\n",
    "### API Jargon\n",
    "- Create a simple console application that consumes a public API using a HTTP chart.\n",
    "- create a simple Cleaning program that consumes a HighBond API and Human Capital API using a HTTP/ HTTP URL\n",
    "- create a simple Currency Converter program that consumes a public Currency API using ...\n",
    "    - This means I have to get a unique API key from the API websites.\n",
    "    - proceed to build my console app on my editor.\n",
    "    - run it on the command prompt.\n",
    "    - pushing it to GitHub.\n",
    "\n",
    "\n",
    "# API types\n",
    "\n",
    "There are mainly four different types of APIs commonly used.\n",
    "The “type” of the API denotes the intended scope of use.\n",
    "\n",
    "### Private\n",
    "Private APIs (or internal APIs) build to use only within an organization to make the connection between the system and data. \n",
    "\n",
    "For example, \n",
    "- an internal API may link the payroll and HR systems of an organization.\n",
    "\n",
    "### Partner\n",
    "Partner APIs are available for specific outside organizations or developers who are selected and authorized to use them. \n",
    "\n",
    "For example\n",
    "- This type of API allows business-to-business activities.\n",
    "\n",
    "### Public\n",
    "Public APIs are available to any outside developer or organization. There are no restrictions to use them.\n",
    "\n",
    "### Composite\n",
    "These APIs are generated by using two or more APIs to execute a sequence of independent operations. Sometimes composite APIs can improve speed and performance over individual APIs.\n",
    "\n",
    "# Specifications of APIs\n",
    "When API exchanges data, it requires: \n",
    "- protocols and \n",
    "- structures \n",
    "To govern these operations.\n",
    "\n",
    "### Representational state transfer (REST)\n",
    "Approach to building APIs and offers web-wide standards amongst computer systems which make communication flow easier.\n",
    "\n",
    "REST is stateless which means it doesn’t store any data or status between requests.\n",
    "\n",
    "### Service object access protocol (SOAP)\n",
    "Is lightweight protocol for transmitting structured information in a decentralized, distributed environment.\n",
    "\n",
    "SOAP APIs are usually \n",
    "- used to create web APIs with XML.\n",
    "- Supports a wide range of communication protocols such as HTTP, SMTP, and TCP.\n",
    "- Allows developers to add features and functionalities easily because SOAP is extensible and style-independent.\n",
    "\n",
    "### GraphQL\n",
    "Query language for APIs\n",
    "\n",
    "Get the exact data because it offers an absolute and simplified description of the data.\n",
    "- simpler to evolve APIs over time and sophisticated developer tools are made possible.\n",
    "\n",
    "### Remote procedural call (RPC)\n",
    "Protocol is used to send multiple parameters and receive results. \n",
    "\n",
    "It invokes executable actions or processes. \n",
    "\n",
    "JSON and XML are two programming languages that RPC can use; \n",
    "these APIs are referred to as JSON-RPC and XML-RPC,\n",
    "\n",
    "\n",
    "# Command-Line Apps and APIs\n",
    "\n",
    "Command Line applications are simple applications that are executed on the terminal (shell, console) using a text interface.\n",
    "- basically, you type into the shell to execute your application.\n",
    "\n",
    "Example:\n",
    "- git is a command-line application\n",
    "\n",
    "To get started building a command line applications that uses API to consume HTTP verbs you will need:\n",
    "- A virtual environment of-course (to seclude/separate individual development projects)\n",
    "- A command-line parsing library like Docopt or Clint.\n",
    "- An Api library from where to get your Api key from."
   ]
  },
  {
   "cell_type": "markdown",
   "id": "25de4ec2",
   "metadata": {},
   "source": [
    "## Exercise 1: The libraries:\n",
    "\n",
    "Step 1: Import all the required libraries to perform the task and then\n",
    "- requests or\n",
    "- urllib\n",
    "- pandas\n",
    "- matplotlib.pyplot\n",
    "\n",
    "Step 2: dynamically construct the API URL. \n",
    "- The base URL for the API is mentioned on the site."
   ]
  },
  {
   "cell_type": "code",
   "execution_count": 1,
   "id": "0a4ca0f2",
   "metadata": {},
   "outputs": [],
   "source": [
    "import requests\n",
    "import pandas as pd\n",
    "import matplotlib.pyplot as plt\n",
    "\n",
    "api_base_url=r'https://www.bankofcanada.ca/valet'\n",
    "api_foreign_exchange_from='CAD'\n",
    "api_foreign_exchange_to='USD'\n",
    "api_endpoint_query=r'/observations/FX' + api_foreign_exchange_from + api_foreign_exchange_to +'/json?recent_years='\n",
    "\n",
    "api_recent_years=10\n",
    "\n",
    "concat_api_url= api_base_url + api_endpoint_query + str(api_recent_years)"
   ]
  },
  {
   "cell_type": "code",
   "execution_count": 2,
   "id": "725719ba",
   "metadata": {},
   "outputs": [
    {
     "data": {
      "text/plain": [
       "'https://www.bankofcanada.ca/valet/observations/FXCADUSD/json?recent_years=10'"
      ]
     },
     "execution_count": 2,
     "metadata": {},
     "output_type": "execute_result"
    }
   ],
   "source": [
    "concat_api_url"
   ]
  },
  {
   "cell_type": "markdown",
   "id": "15e8e0fd",
   "metadata": {},
   "source": [
    "Once constructed the API link, \n",
    "- I try the link on the web to make sure it works and produces the JSON file. \n",
    "\n",
    "Now pass the `api_url_response` to the API server and check for the `api_url_response.status_code` using an if condition.\n",
    "- If the `api_url_response.status_code` is not “200” then I print the status code and description for the user to investigate what caused the error status code as mentioned above. \n",
    "- If not then get the data from the API server filtered for “observations”.\n",
    "\n",
    "# Using the requests library\n",
    "\n",
    "Requests is an open-source, HTTP library that simplifies making HTTP requests to web servers and working with their responses.\n",
    "\n",
    "- requests library is available on PyPI:\n",
    "\n",
    "### Installing the requests Library on Mac:\n",
    "$ python -m pip install requests"
   ]
  },
  {
   "cell_type": "code",
   "execution_count": 5,
   "id": "0f1d1151",
   "metadata": {},
   "outputs": [],
   "source": [
    "api_url_response=requests.get(concat_api_url)"
   ]
  },
  {
   "cell_type": "code",
   "execution_count": 6,
   "id": "a4a4f8d2",
   "metadata": {},
   "outputs": [],
   "source": [
    "if api_url_response.status_code!=200:\n",
    "    print(\"Request returned error code: \" + str(api_url_response.status_code))\n",
    "    print(\"Request returned error description: \" + api_url_response.json()['message'])\n",
    "    \n",
    "else:\n",
    "    api_json_data = api_url_response.json()['observations']\n",
    "    \n",
    "    exchange_date=[]\n",
    "    exchange_value=[]"
   ]
  },
  {
   "cell_type": "markdown",
   "id": "6f64230b",
   "metadata": {},
   "source": [
    "Then creating two lists to store the exchange date and value.\n",
    "- Running a loop on `api_json_data` to extract the date and append it to the empty list. \n",
    "\n",
    "Following the same process for extracting the value with some modification to the code and making it dynamic for future use."
   ]
  },
  {
   "cell_type": "code",
   "execution_count": 9,
   "id": "08a2f4b0",
   "metadata": {},
   "outputs": [],
   "source": [
    "for exc_date in api_json_data:\n",
    "    temp_date=exc_date['d']\n",
    "    exchange_date.append(temp_date)\n",
    "    \n",
    "for exc_val in api_json_data:\n",
    "    temp_series= eval(\"'FX\" + api_foreign_exchange_from +api_foreign_exchange_to + \"'\")\n",
    "    temp_val=exc_val[temp_series]['v']\n",
    "    exchange_value.append(temp_val)"
   ]
  },
  {
   "cell_type": "code",
   "execution_count": 16,
   "id": "9c9f3399",
   "metadata": {},
   "outputs": [],
   "source": [
    "data_dict = {'exchange_date' : exchange_date,\n",
    "             'exchange_value': exchange_value}"
   ]
  },
  {
   "cell_type": "code",
   "execution_count": 17,
   "id": "f6b5d8b2",
   "metadata": {},
   "outputs": [
    {
     "data": {
      "text/html": [
       "<div>\n",
       "<style scoped>\n",
       "    .dataframe tbody tr th:only-of-type {\n",
       "        vertical-align: middle;\n",
       "    }\n",
       "\n",
       "    .dataframe tbody tr th {\n",
       "        vertical-align: top;\n",
       "    }\n",
       "\n",
       "    .dataframe thead th {\n",
       "        text-align: right;\n",
       "    }\n",
       "</style>\n",
       "<table border=\"1\" class=\"dataframe\">\n",
       "  <thead>\n",
       "    <tr style=\"text-align: right;\">\n",
       "      <th></th>\n",
       "      <th>exchange_date</th>\n",
       "      <th>exchange_value</th>\n",
       "    </tr>\n",
       "  </thead>\n",
       "  <tbody>\n",
       "    <tr>\n",
       "      <th>0</th>\n",
       "      <td>2017-01-03</td>\n",
       "      <td>0.7443</td>\n",
       "    </tr>\n",
       "    <tr>\n",
       "      <th>1</th>\n",
       "      <td>2017-01-04</td>\n",
       "      <td>0.7510</td>\n",
       "    </tr>\n",
       "    <tr>\n",
       "      <th>2</th>\n",
       "      <td>2017-01-05</td>\n",
       "      <td>0.7551</td>\n",
       "    </tr>\n",
       "    <tr>\n",
       "      <th>3</th>\n",
       "      <td>2017-01-06</td>\n",
       "      <td>0.7568</td>\n",
       "    </tr>\n",
       "    <tr>\n",
       "      <th>4</th>\n",
       "      <td>2017-01-09</td>\n",
       "      <td>0.7553</td>\n",
       "    </tr>\n",
       "    <tr>\n",
       "      <th>...</th>\n",
       "      <td>...</td>\n",
       "      <td>...</td>\n",
       "    </tr>\n",
       "    <tr>\n",
       "      <th>1748</th>\n",
       "      <td>2024-01-05</td>\n",
       "      <td>0.7492</td>\n",
       "    </tr>\n",
       "    <tr>\n",
       "      <th>1749</th>\n",
       "      <td>2024-01-08</td>\n",
       "      <td>0.7478</td>\n",
       "    </tr>\n",
       "    <tr>\n",
       "      <th>1750</th>\n",
       "      <td>2024-01-09</td>\n",
       "      <td>0.7468</td>\n",
       "    </tr>\n",
       "    <tr>\n",
       "      <th>1751</th>\n",
       "      <td>2024-01-10</td>\n",
       "      <td>0.7473</td>\n",
       "    </tr>\n",
       "    <tr>\n",
       "      <th>1752</th>\n",
       "      <td>2024-01-11</td>\n",
       "      <td>0.7458</td>\n",
       "    </tr>\n",
       "  </tbody>\n",
       "</table>\n",
       "<p>1753 rows × 2 columns</p>\n",
       "</div>"
      ],
      "text/plain": [
       "     exchange_date exchange_value\n",
       "0       2017-01-03         0.7443\n",
       "1       2017-01-04         0.7510\n",
       "2       2017-01-05         0.7551\n",
       "3       2017-01-06         0.7568\n",
       "4       2017-01-09         0.7553\n",
       "...            ...            ...\n",
       "1748    2024-01-05         0.7492\n",
       "1749    2024-01-08         0.7478\n",
       "1750    2024-01-09         0.7468\n",
       "1751    2024-01-10         0.7473\n",
       "1752    2024-01-11         0.7458\n",
       "\n",
       "[1753 rows x 2 columns]"
      ]
     },
     "execution_count": 17,
     "metadata": {},
     "output_type": "execute_result"
    }
   ],
   "source": [
    "df = pd.DataFrame(data_dict, columns= ['exchange_date', 'exchange_value'])\n",
    "\n",
    "df"
   ]
  },
  {
   "cell_type": "markdown",
   "id": "ed59926e",
   "metadata": {},
   "source": [
    "- Adding the list data to the newly created dataframe “df_data” and splitting the “Old Exchange Date” to retain only the year. - Converting the “Old Exchange Value” to decimal type. \n",
    "- Post which the data is grouped and aggregated with the mean value for analysis."
   ]
  },
  {
   "cell_type": "code",
   "execution_count": 18,
   "id": "040f6c71",
   "metadata": {},
   "outputs": [],
   "source": [
    "df_data=pd.DataFrame()\n",
    "df_grouped=pd.DataFrame()\n",
    "\n",
    "df_data['Old Exchange Date']=exchange_date\n",
    "df_data['Old Exchange Value']=exchange_value\n",
    "\n",
    "df_data['New Exchange Date']=df_data['Old Exchange Date'].str.split('-').str[0]\n",
    "df_data['New Exchange Value']=df_data['Old Exchange Value'].astype(float)\n",
    "\n",
    "df_grouped=df_data.groupby('New Exchange Date').agg('mean')"
   ]
  },
  {
   "cell_type": "code",
   "execution_count": 19,
   "id": "df643ed7",
   "metadata": {},
   "outputs": [
    {
     "data": {
      "text/html": [
       "<div>\n",
       "<style scoped>\n",
       "    .dataframe tbody tr th:only-of-type {\n",
       "        vertical-align: middle;\n",
       "    }\n",
       "\n",
       "    .dataframe tbody tr th {\n",
       "        vertical-align: top;\n",
       "    }\n",
       "\n",
       "    .dataframe thead th {\n",
       "        text-align: right;\n",
       "    }\n",
       "</style>\n",
       "<table border=\"1\" class=\"dataframe\">\n",
       "  <thead>\n",
       "    <tr style=\"text-align: right;\">\n",
       "      <th></th>\n",
       "      <th>New Exchange Value</th>\n",
       "    </tr>\n",
       "    <tr>\n",
       "      <th>New Exchange Date</th>\n",
       "      <th></th>\n",
       "    </tr>\n",
       "  </thead>\n",
       "  <tbody>\n",
       "    <tr>\n",
       "      <th>2017</th>\n",
       "      <td>0.770847</td>\n",
       "    </tr>\n",
       "    <tr>\n",
       "      <th>2018</th>\n",
       "      <td>0.772119</td>\n",
       "    </tr>\n",
       "    <tr>\n",
       "      <th>2019</th>\n",
       "      <td>0.753689</td>\n",
       "    </tr>\n",
       "    <tr>\n",
       "      <th>2020</th>\n",
       "      <td>0.746142</td>\n",
       "    </tr>\n",
       "    <tr>\n",
       "      <th>2021</th>\n",
       "      <td>0.797978</td>\n",
       "    </tr>\n",
       "    <tr>\n",
       "      <th>2022</th>\n",
       "      <td>0.769163</td>\n",
       "    </tr>\n",
       "    <tr>\n",
       "      <th>2023</th>\n",
       "      <td>0.741044</td>\n",
       "    </tr>\n",
       "    <tr>\n",
       "      <th>2024</th>\n",
       "      <td>0.748175</td>\n",
       "    </tr>\n",
       "  </tbody>\n",
       "</table>\n",
       "</div>"
      ],
      "text/plain": [
       "                   New Exchange Value\n",
       "New Exchange Date                    \n",
       "2017                         0.770847\n",
       "2018                         0.772119\n",
       "2019                         0.753689\n",
       "2020                         0.746142\n",
       "2021                         0.797978\n",
       "2022                         0.769163\n",
       "2023                         0.741044\n",
       "2024                         0.748175"
      ]
     },
     "execution_count": 19,
     "metadata": {},
     "output_type": "execute_result"
    }
   ],
   "source": [
    "df_grouped"
   ]
  },
  {
   "cell_type": "markdown",
   "id": "2f5a668b",
   "metadata": {},
   "source": [
    "- On the grouped dataframe “df_grouped” plotting line chart with marker “*”. \n",
    "- Then add a dynamic title to the chart, assigning the “x-axis” and “y-axis” labels."
   ]
  },
  {
   "cell_type": "code",
   "execution_count": 20,
   "id": "e59f2abe",
   "metadata": {},
   "outputs": [
    {
     "data": {
      "image/png": "[encoded data removed]",
      "text/plain": [
       "<Figure size 432x288 with 1 Axes>"
      ]
     },
     "metadata": {
      "needs_background": "light"
     },
     "output_type": "display_data"
    }
   ],
   "source": [
    "df_grouped.plot.line(marker = '*',color='#2eb82e')\n",
    "plt.title(\"Data Trend of \"+ api_foreign_exchange_from + \" to \"+api_foreign_exchange_to,c='#0099ff',fontname='Franklin Gothic Medium')\n",
    "plt.xlabel(\"Exchange Year\",c='#996633',fontname='Franklin Gothic Medium',fontsize=12)\n",
    "plt.ylabel(\"Avg. Exchange Value\",c='#996633',fontname='Franklin Gothic Medium',fontsize=12)\n",
    "plt.show()"
   ]
  },
  {
   "cell_type": "code",
   "execution_count": null,
   "id": "50cfe15e",
   "metadata": {},
   "outputs": [],
   "source": [
    "import requests\n",
    "import pandas as pd\n",
    "import matplotlib.pyplot as plt\n",
    "\n",
    "api_base_url=r'https://www.bankofcanada.ca/valet'\n",
    "api_foreign_exchange_from='CAD'\n",
    "api_foreign_exchange_to='USD'\n",
    "api_endpoint_query=r'/observations/FX' + api_foreign_exchange_from + \\\n",
    "                    api_foreign_exchange_to +'/json?recent_years='\n",
    "api_recent_years=10\n",
    "\n",
    "concat_api_url= api_base_url + api_endpoint_query + str(api_recent_years)\n",
    "api_url_response=requests.get(concat_api_url)\n",
    "\n",
    "if api_url_response.status_code!=200:\n",
    "    print(\"Request returned error code: \" + str(api_url_response.status_code))\n",
    "    print(\"Request returned error description: \" + api_url_response.json()['message'])\n",
    "    \n",
    "else:\n",
    "    api_json_data=api_url_response.json()['observations']\n",
    "    \n",
    "    exchange_date=[]\n",
    "    exchange_value=[]\n",
    "    \n",
    "    for exc_date in api_json_data:\n",
    "        temp_date=exc_date['d']\n",
    "        exchange_date.append(temp_date)\n",
    "    \n",
    "    for exc_val in api_json_data:\n",
    "        temp_series=eval(\"'FX\" + api_foreign_exchange_from +api_foreign_exchange_to + \"'\")\n",
    "        temp_val=exc_val[temp_series]['v']\n",
    "        exchange_value.append(temp_val)\n",
    "        \n",
    "    df_data=pd.DataFrame()\n",
    "    df_grouped=pd.DataFrame()\n",
    "    \n",
    "    df_data['Old Exchange Date']=exchange_date\n",
    "    df_data['Old Exchange Value']=exchange_value\n",
    "    \n",
    "    df_data['New Exchange Date']=df_data['Old Exchange Date'].str.split('-').str[0]\n",
    "    df_data['New Exchange Value']=df_data['Old Exchange Value'].astype(float)\n",
    "    \n",
    "    df_grouped=df_data.groupby('New Exchange Date').agg('mean')\n",
    "    \n",
    "    df_grouped.plot.line(marker = '*',color='#2eb82e')\n",
    "    plt.title(\"Data Trend of \"+ api_foreign_exchange_from + \" to \"+api_foreign_exchange_to,c='#0099ff',fontname='Franklin Gothic Medium')\n",
    "    plt.xlabel(\"Exchange Year\",c='#996633',fontname='Franklin Gothic Medium',fontsize=12)\n",
    "    plt.ylabel(\"Avg. Exchange Value\",c='#996633',fontname='Franklin Gothic Medium',fontsize=12)\n",
    "    plt.show()"
   ]
  },
  {
   "cell_type": "markdown",
   "id": "6abceef1",
   "metadata": {},
   "source": [
    "# Python API Tutorial\n",
    "\n",
    "Explore how to retrieve data for AI and data science projects using APIs (Application Programming Interfaces). \n",
    "APIs play an increasingly crucial role in the age of artificial intelligence and data science by providing access to vast amounts of data.\n",
    "\n",
    "### How APIs Benefit AI and Data Science Projects\n",
    "To use an API, you make a request to a remote web server and retrieve the data you need.\n",
    "\n",
    "### Several key benefits\n",
    "- Real-time data access: APIs allow you to retrieve up-to-date data on demand, which is crucial for AI models and data science projects that require real-time data to make accurate predictions or decisions.\n",
    "- Large datasets: Training AI models often requires large amounts of data. APIs provide a way to access and integrate data from multiple sources without the need for local storage and management.\n",
    "- Pre-processed data: Some APIs offer pre-processed or enriched data, such as sentiment analysis or entity recognition, saving significant time and resources in AI projects.\n",
    "\n",
    "### When to Use APIs Instead of Static Datasets\n",
    "- Rapidly changing data: \n",
    "    - For data that changes quickly, like stock prices, using an API is more efficient than repeatedly downloading a static dataset.\n",
    "- Specific subsets of data: \n",
    "    - If you only need a small piece of a larger dataset, such as your own comments on Reddit, an API allows you to retrieve just the relevant data.\n",
    "- Complex computations: \n",
    "    - APIs like Spotify's can provide information like music genres, leveraging their extensive data and computational resources.\n",
    "\n",
    "### Mastering API integration will allow you to:\n",
    "\n",
    "- Access large datasets to train and improve AI models\n",
    "- Incorporate AI-powered services into your projects\n",
    "- Retrieve real-time data streams for AI applications"
   ]
  },
  {
   "cell_type": "code",
   "execution_count": null,
   "id": "f326438b",
   "metadata": {},
   "outputs": [],
   "source": [
    "# use pip to manage your Python packages\n",
    "!pip install requests\n",
    "\n",
    "# use conda\n",
    "conda install requests\n",
    "\n",
    "# Once installed the library, import it.\n",
    "import requests"
   ]
  },
  {
   "cell_type": "markdown",
   "id": "f2f77960",
   "metadata": {},
   "source": [
    "## Exercise 1: GET method\n",
    "\n",
    "GET, the most common type, retrieves data\n",
    "\n",
    "the response includes a status code that tells us whether the request was successful.\n",
    "\n",
    "To make a GET request, we use the requests.get() function, passing in the URL we want to request."
   ]
  },
  {
   "cell_type": "code",
   "execution_count": null,
   "id": "a8dbd19f",
   "metadata": {},
   "outputs": [],
   "source": [
    "import requests\n",
    "r = requests.get('https://jsonplaceholder.typicode.com/users')\n",
    "print('Response Code:', r.status_code)\n",
    "\n",
    "# if outputs <Response [200]>\n",
    "# meaning the request is successful and the URL is reachable.\n",
    "\n",
    "# check the datatype of the r variable\n",
    "print(type(r))\n",
    "\n",
    "# API response is in JSON format.\n",
    "\n",
    "# returns <class 'requests.models.Response'>, which means it’s an instance of Response class. \n",
    "# A Response object contains the result of an HTTP request.\n",
    "\n",
    "# see the headers of the response.\n",
    "print('Response Headers:\\n', r.headers)\n"
   ]
  },
  {
   "cell_type": "markdown",
   "id": "ac810c5c",
   "metadata": {},
   "source": [
    "#####  Output: Response Headers:\n",
    "{'Date': 'Tue, 16 Aug 2022 13:17:21 GMT', 'Content-Type': 'application/json; charset=utf-8', 'Transfer-Encoding': 'chunked', 'Connection': 'keep-alive', 'X-Powered-By': 'Express', 'X-Ratelimit-Limit': '1000', 'X-Ratelimit-Remaining': '999', 'X-Ratelimit-Reset': '1658609131', 'Vary': 'Origin, Accept-Encoding', 'Access-Control-Allow-Credentials': 'true', 'Cache-Control': 'max-age=43200', 'Pragma': 'no-cache', 'Expires': '-1', 'X-Content-Type-Options': 'nosniff', 'Etag': 'W/\"160d-1eMSsxeJRfnVLRBmYJSbCiJZ1qQ\"', 'Content-Encoding': 'gzip', 'Via': '1.1 vegur', 'CF-Cache-Status': 'HIT', 'Age': '26626', 'Expect-CT': 'max-age=604800, report-uri=\"https://report-uri.cloudflare.com/cdn-cgi/beacon/expect-ct\"', 'Report-To': '{\"endpoints\":[{\"url\":\"https:\\\\/\\\\/a.nel.cloudflare.com\\\\/report\\\\/v3?s=hU%2ByipMaAPTN%2B0CMablfEX8zpzKx%2BUzGewBeix4suppgOFZjYd2sa6Mh2WhLQQs755Hx6XiPgVXAb5Nz%2FqIqVVQ5jxejGXnBdcKzOoUZ%2FLYw4XQP34oRG2tcApgjxYaUBUiPpWJrbhg3%2B%2BFvPQmx\"}],\"group\":\"cf-nel\",\"max_age\":604800}', 'NEL': '{\"success_fraction\":0,\"report_to\":\"cf-nel\",\"max_age\":604800}', 'Server': 'cloudflare', 'CF-RAY': '73ba732238a57437-LHR', 'alt-svc': 'h3=\":443\"; ma=86400, h3-29=\":443\"; ma=86400'}\n",
    "\n",
    "### HTTP Headers\n",
    "HTTP headers let the client and the server pass additional information with an HTTP request or response.\n",
    "\n",
    "HTTP header consists of its case-insensitive name followed by a colon (:), then by its value. \n",
    "- Whitespace before the value is ignored."
   ]
  },
  {
   "cell_type": "code",
   "execution_count": null,
   "id": "8bb0342e",
   "metadata": {},
   "outputs": [],
   "source": [
    "# see the response of the body.\n",
    "# use the response.json() method to view the data\n",
    "r.json()[0]\n",
    "\n",
    "# pass parameters to HTTP requests like below:\n",
    "import requests\n",
    "\n",
    "payload = {'id': 1, 'username': 'Bret'}\n",
    "res = requests.get('https://jsonplaceholder.typicode.com/users',params = payload)\n",
    "print(res.json())"
   ]
  },
  {
   "cell_type": "markdown",
   "id": "1adea9a0",
   "metadata": {},
   "source": [
    "## Exercise 2: POST method"
   ]
  },
  {
   "cell_type": "code",
   "execution_count": null,
   "id": "94f05563",
   "metadata": {},
   "outputs": [],
   "source": [
    "res = requests.post('https://jsonplaceholder.typicode.com/users', data = {'id':'100', 'username':'Sunil Kumar'})\n",
    "print('Response Code:', r.status_code)\n",
    "res.json()"
   ]
  },
  {
   "cell_type": "markdown",
   "id": "9e140c75",
   "metadata": {},
   "source": [
    "## Exercise 3: PUT method"
   ]
  },
  {
   "cell_type": "code",
   "execution_count": null,
   "id": "057a7231",
   "metadata": {},
   "outputs": [],
   "source": [
    "res = requests.put('https://jsonplaceholder.typicode.com/users', data ={'id':'100', 'username':'Sunil Kumar'})\n",
    "print('Response Code:', r.status_code)"
   ]
  },
  {
   "cell_type": "markdown",
   "id": "126d7e16",
   "metadata": {},
   "source": [
    "## Exercise 4:  API with Query Parameters\n",
    "\n",
    "API endpoints commonly require us to specify parameters.\n",
    "Query parameters allow us to customize the behavior of AI models, access specific subsets of data,\n",
    "\n",
    "Query Parameters Relate to LLMs\n",
    "\n",
    "LLMs like ChatGPT are trained on extensive datasets to grasp the nuances of human language and generate relevant responses. When you prompt ChatGPT with a question, such as 'Explain the theory of relativity,' it filters through its dataset to find and compile information that aligns with your request. This process is analogous to using query parameters in an API to extract a subset of data from a larger dataset.\n",
    "\n",
    "### Query Parameters: Like Customizing a Burger Order\n",
    "\n",
    "Rather than retrieving all the data an API offers, we might want only a subset of that data. \n",
    "\n",
    "Optional query parameters allow us to specify or filter the data we want from an API, much like adding specific instructions to our burger order.\n",
    "\n",
    "To filter data to only include countries in Sub-Saharan Africa, we use a query parameter in the URL.\n",
    "\n",
    "Example: \n",
    "- https://api-server.dataquest.io/economic_data/countries?filter_by=region=Sub-Saharan%20Africa.\n",
    "\n",
    "World Development Indicators API enables refined searches by supporting these parameters:\n",
    "/countries, \n",
    "/indicators, \n",
    "/country_series, \n",
    "/series_time, \n",
    "/footnotes, and \n",
    "/historical-data."
   ]
  },
  {
   "cell_type": "code",
   "execution_count": null,
   "id": "3268617c",
   "metadata": {},
   "outputs": [],
   "source": [
    "import requests\n",
    "\n",
    "response = requests.get(\"https://api-server.dataquest.io/economic_data/countries\") \n",
    "data = response.json()\n",
    "\n",
    "# Data variable now contains a list of all countries in the database.\n",
    "# If we are specifically interested in countries within a certain region, such as Sub-Saharan Africa, we need to utilize query parameters to refine our request.\n",
    "# API supports the filter_by parameter, allowing for more targeted searches.\n",
    "\n",
    "response = requests.get(\"https://api-server.dataquest.io/economic_data/countries?filter_by=region=Sub-Saharan%20Africa\") \n",
    "data = response.json()\n"
   ]
  },
  {
   "cell_type": "markdown",
   "id": "26eadf97",
   "metadata": {},
   "source": [
    "### Explaining URL\n",
    "\n",
    "-  filter_by=region=Sub-Saharan%20Africa\n",
    "\n",
    "Meaning:\n",
    "\n",
    "- ? is a delimiter that marks the beginning of the query string. It separates the path of the URL from the parameters that are being passed.\n",
    "- filter_by indicates the type of filtering we are applying.\n",
    "- region is a specific field in the API's database that we want to filter by. In this context, region refers to the geographical area of the countries.\n",
    "- The first = sign following filter_by is used to assign the filtering criteria (region in this case), and the second = sign assigns the specific value (Sub-Saharan Africa) to the region field.\n",
    "- %20 is URL encoding for a space character, necessary because URLs cannot contain actual space characters. However, when composing a GET request in an editor or a tool, you don't need to manually type %20 for spaces; it is typically handled automatically by the software."
   ]
  },
  {
   "cell_type": "markdown",
   "id": "9d606f89",
   "metadata": {},
   "source": [
    "# Request Handling Exceptions\n",
    "\n",
    "Exceptions may occur while communicating with a remote server.\n",
    "\n",
    "## Examples:\n",
    "- the server can be unreachable\n",
    "- the requested URL doesn’t exist on the server\n",
    "- the server doesn’t respond in a proper timeframe\n",
    "\n",
    "## Check for the following:\n",
    "response.raise_for_status() or response.status_code before parsing JSON\n",
    "- The successful call to response.json() does not indicate the success of the request."
   ]
  },
  {
   "cell_type": "code",
   "execution_count": null,
   "id": "740f10e8",
   "metadata": {},
   "outputs": [],
   "source": [
    "res.raise_for_status()\n",
    "\n",
    "res.status_code"
   ]
  },
  {
   "cell_type": "markdown",
   "id": "a7b88b01",
   "metadata": {},
   "source": [
    "## Example 1: HTTP 500 error\n",
    "\n",
    "some servers may return a JSON object in a failed response (e.g., error details with HTTP 500)\n",
    "\n",
    "Solution:\n",
    "- execute response.json() after check response.raise_for_status() or check response.status_code."
   ]
  },
  {
   "cell_type": "code",
   "execution_count": null,
   "id": "bc21317e",
   "metadata": {},
   "outputs": [],
   "source": [
    "import requests\n",
    "from requests import HTTPError\n",
    "url = \"https://jsonplaceholder.typicode.com/users/status/404\"\n",
    "try:\n",
    "    r = requests.get(url)\n",
    "    r.raise_for_status()\n",
    "    print('Response Code:', r.status_code)\n",
    "    print(res.json()\n",
    "          \n",
    "except HTTPError as ex:\n",
    "    print(ex)\n",
    "\n",
    "\n",
    "# Output: 404 Client Error: Not Found for url: https://jsonplaceholder.typicode.com/users/status/404"
   ]
  },
  {
   "cell_type": "markdown",
   "id": "8dd4589c",
   "metadata": {},
   "source": [
    "## Example 2: Timeout"
   ]
  },
  {
   "cell_type": "code",
   "execution_count": null,
   "id": "8a3ff4ae",
   "metadata": {},
   "outputs": [],
   "source": [
    "import requests\n",
    "from requests import HTTPError\n",
    "from requests import Timeout\n",
    "url = \"https://jsonplaceholder.typicode.com/users/delay/3\"\n",
    "try:\n",
    "    r = requests.get(url, timeout=3)\n",
    "    print('Response Code:', r.status_code)\n",
    "except HTTPError as ex:\n",
    "    print(ex)\n",
    "except Timeout as ex:\n",
    "    print(ex)\n",
    "\n",
    "\n",
    "# Output: HTTPConnectionPool(host='httpbin.org', port=80): Read timed out. (read timeout=3)"
   ]
  },
  {
   "cell_type": "markdown",
   "id": "5c8f53ee",
   "metadata": {},
   "source": [
    "## Example 3: Authenticated request\n",
    "\n",
    "Use auth parameter to perform the authenticated request. There is a popular form of HTTP Authentication is Digest Authentication, and Requests supports.\n"
   ]
  },
  {
   "cell_type": "code",
   "execution_count": null,
   "id": "c62282b0",
   "metadata": {},
   "outputs": [],
   "source": [
    "import requests\n",
    "from requests.auth import HTTPDigestAuth\n",
    "r = requests.get('https://httpbin.org/digest-auth/auth/user/pass', auth=HTTPDigestAuth('user', 'pass'))\n",
    "print('Response Code:', r.status_code)\n",
    "print('Response Content:\\n', r.text)\n",
    "\n",
    "# Output: Response Code: 200\n",
    "# Response Content: {\"authenticated\": true,  \"user\": \"data\"}"
   ]
  },
  {
   "cell_type": "markdown",
   "id": "386924e0",
   "metadata": {},
   "source": [
    "# Using the urllib Library\n",
    "\n",
    "Make \n",
    "- HTTP requests, \n",
    "- read server responses, and \n",
    "- handle errors using Python’s urllib library.\n",
    "\n",
    "The urllib library is a powerful, built-in tool for working with URLs and making HTTP requests.\n",
    "\n",
    "Focusing on the urllib.request module"
   ]
  },
  {
   "cell_type": "markdown",
   "id": "d627e341",
   "metadata": {},
   "source": [
    "## Exercise 1: Importing the urllib.request module"
   ]
  },
  {
   "cell_type": "code",
   "execution_count": null,
   "id": "e0e1994b",
   "metadata": {},
   "outputs": [],
   "source": [
    "import urllib.request"
   ]
  },
  {
   "cell_type": "markdown",
   "id": "6673da43",
   "metadata": {},
   "source": [
    "## Exercise 2: GET request\n",
    "\n",
    "Use the urlopen function from the urllib.request module\n",
    "\n",
    "The urlopen function returns an HTTPResponse object containing the server's response."
   ]
  },
  {
   "cell_type": "code",
   "execution_count": null,
   "id": "31b0e7dc",
   "metadata": {},
   "outputs": [],
   "source": [
    "url = 'https://example.com'\n",
    "response = urllib.request.urlopen(url)"
   ]
  },
  {
   "cell_type": "markdown",
   "id": "086d196b",
   "metadata": {},
   "source": [
    "## Exercise 3: Reading the response content\n",
    "\n",
    "Content is returned as bytes.\n",
    "\n",
    "To convert the content to a string, use the decode method"
   ]
  },
  {
   "cell_type": "code",
   "execution_count": null,
   "id": "5b43233b",
   "metadata": {},
   "outputs": [],
   "source": [
    "content = response.read()"
   ]
  },
  {
   "cell_type": "markdown",
   "id": "83b449ec",
   "metadata": {},
   "source": [
    "## Exercise 4: Convert the content to a string"
   ]
  },
  {
   "cell_type": "markdown",
   "id": "32a9d00e",
   "metadata": {},
   "source": [
    "content = content.decode('utf-8')"
   ]
  },
  {
   "cell_type": "markdown",
   "id": "9bc66ee3",
   "metadata": {},
   "source": [
    "## Exercise 5: Full URL code"
   ]
  },
  {
   "cell_type": "code",
   "execution_count": null,
   "id": "0038d1df",
   "metadata": {},
   "outputs": [],
   "source": [
    "req = urllib.request.Request(URL)\n",
    "req.add_header('Authorization', 'Bearer ' + token\n",
    "\n",
    "with urllib.request.urlopen(req) as response:\n",
    "    html_response = response.read()\n",
    "    encoding = response.headers.get_content_charset('utf-8')\n",
    "    decoded_html = html_response.decode(encoding)\n",
    "    text = get_text(decoded_html)\n",
    "\n",
    "jsn_rid = json.loads(text, strict=False)\n",
    "df_rid = pd.json_normalize(jsn_rid, 'data')\n",
    "\n",
    "#  Remove NAN Values.\n",
    "df_rid.fillna('', inplace=True)"
   ]
  },
  {
   "cell_type": "markdown",
   "id": "c9ca8674",
   "metadata": {},
   "source": [
    "## Exercise 6: Handling exceptions\n",
    "\n",
    "To handle exceptions:\n",
    "- Network issues \n",
    "- invalid URLs\n",
    "\n",
    "Tse the urllib.error module, which provides two common exception classes: \n",
    "- URLError\n",
    "- HTTPError - HTTPError is a subclass of URLError and offers more specific information about HTTP-related errors."
   ]
  },
  {
   "cell_type": "code",
   "execution_count": null,
   "id": "de93c096",
   "metadata": {},
   "outputs": [],
   "source": [
    "import urllib.request\n",
    "import urllib.error\n",
    "\n",
    "url = 'https://example.com'\n",
    "\n",
    "try:\n",
    "    response = urllib.request.urlopen(url)\n",
    "    \n",
    "    content = response.read()\n",
    "    content = content.decode('utf-8')\n",
    "    \n",
    "    print(content)\n",
    "\n",
    "except urllib.error.HTTPError as e:\n",
    "    print(f\"HTTP Error: {e.code} {e.reason}\")\n",
    "\n",
    "except urllib.error.URLError as e:\n",
    "    print(f\"URL Error: {e.reason}\")"
   ]
  }
 ],
 "metadata": {
  "kernelspec": {
   "display_name": "Python 3",
   "language": "python",
   "name": "python3"
  },
  "language_info": {
   "codemirror_mode": {
    "name": "ipython",
    "version": 3
   },
   "file_extension": ".py",
   "mimetype": "text/x-python",
   "name": "python",
   "nbconvert_exporter": "python",
   "pygments_lexer": "ipython3",
   "version": "3.8.8"
  }
 },
 "nbformat": 4,
 "nbformat_minor": 5
}
