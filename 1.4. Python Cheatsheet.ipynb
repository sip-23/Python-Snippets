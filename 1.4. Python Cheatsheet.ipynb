{
 "cells": [
  {
   "cell_type": "markdown",
   "id": "5536f1f4",
   "metadata": {},
   "source": [
    "# Working With The Operating System"
   ]
  },
  {
   "cell_type": "markdown",
   "id": "4ddaa036",
   "metadata": {},
   "source": [
    "## Exercise 1: Navigating File Paths\n",
    "To craft and dissect paths, ensuring compatibility across realms (operating systems)"
   ]
  },
  {
   "cell_type": "code",
   "execution_count": null,
   "id": "1d3fa25c",
   "metadata": {},
   "outputs": [],
   "source": [
    "import os\n",
    "# Craft a path compatible with the underlying OS\n",
    "path = os.path.join('mystic', 'forest', 'artifact.txt')\n",
    "# Retrieve the tome's directory\n",
    "directory = os.path.dirname(path)\n",
    "# Unveil the artifact's name\n",
    "artifact_name = os.path.basename(path)"
   ]
  },
  {
   "cell_type": "markdown",
   "id": "f9695f44",
   "metadata": {},
   "source": [
    "## Exercise 2: Listing Directory Contents\n",
    "To reveal all entities within a mystical directory"
   ]
  },
  {
   "cell_type": "code",
   "execution_count": null,
   "id": "c74ebcef",
   "metadata": {},
   "outputs": [],
   "source": [
    "import os\n",
    "contents = os.listdir('enchanted_grove')\n",
    "print(contents)"
   ]
  },
  {
   "cell_type": "markdown",
   "id": "7cc7464c",
   "metadata": {},
   "source": [
    "## Exercise 3: Creating Directories\n",
    "To conjure new directories within the fabric of the filesystem"
   ]
  },
  {
   "cell_type": "code",
   "execution_count": null,
   "id": "547e630e",
   "metadata": {},
   "outputs": [],
   "source": [
    "import os\n",
    "# create a single directory\n",
    "os.mkdir('alchemy_lab')\n",
    "# create a hierarchy of directories\n",
    "os.makedirs('alchemy_lab/potions/elixirs')"
   ]
  },
  {
   "cell_type": "markdown",
   "id": "2fbda773",
   "metadata": {},
   "source": [
    "## Exercise 4: Removing Files and Directories\n",
    "To erase files or directories, banishing their essence"
   ]
  },
  {
   "cell_type": "code",
   "execution_count": null,
   "id": "a9a85df6",
   "metadata": {},
   "outputs": [],
   "source": [
    "import os\n",
    "# remove a file\n",
    "os.remove('unnecessary_scroll.txt')\n",
    "# remove an empty directory\n",
    "os.rmdir('abandoned_hut')\n",
    "# remove a directory and its contents\n",
    "import shutil\n",
    "shutil.rmtree('cursed_cavern')"
   ]
  },
  {
   "cell_type": "markdown",
   "id": "4b86d736",
   "metadata": {},
   "source": [
    "## Exercise 5: Executing Shell Commands\n",
    "To invoke the shell’s ancient powers directly from Python"
   ]
  },
  {
   "cell_type": "code",
   "execution_count": null,
   "id": "49ecec10",
   "metadata": {},
   "outputs": [],
   "source": [
    "import subprocess\n",
    "# Invoke the 'echo' incantation\n",
    "result = subprocess.run(['echo', 'Revealing the arcane'], capture_output=True, text=True)\n",
    "print(result.stdout)"
   ]
  },
  {
   "cell_type": "markdown",
   "id": "e59846f2",
   "metadata": {},
   "source": [
    "## Exercise 6: Working with Environment Variables\n",
    "To read and inscribe upon the ethereal environment variables"
   ]
  },
  {
   "cell_type": "code",
   "execution_count": null,
   "id": "d58d8cd5",
   "metadata": {},
   "outputs": [],
   "source": [
    "import os\n",
    "# Read the 'PATH' variable\n",
    "path = os.environ.get('PATH')\n",
    "# Create a new environment variable\n",
    "os.environ['MAGIC'] = 'Arcane'"
   ]
  },
  {
   "cell_type": "markdown",
   "id": "ae4aff68",
   "metadata": {},
   "source": [
    "## Exercise 7: Changing the Current Working Directory\n",
    "To shift your presence to another directory within the filesystem"
   ]
  },
  {
   "cell_type": "code",
   "execution_count": null,
   "id": "f8f51563",
   "metadata": {},
   "outputs": [],
   "source": [
    "import os\n",
    "# Traverse to the 'arcane_library' directory\n",
    "os.chdir('arcane_library')"
   ]
  },
  {
   "cell_type": "markdown",
   "id": "59cd5cf3",
   "metadata": {},
   "source": [
    "## Exercise 8: Path Existence and Type\n",
    "\n",
    "To discern the existence of paths and their nature — be they file or directory"
   ]
  },
  {
   "cell_type": "code",
   "execution_count": null,
   "id": "e81a4de0",
   "metadata": {},
   "outputs": [],
   "source": [
    "import os\n",
    "# Check if a path exists\n",
    "exists = os.path.exists('mysterious_ruins')\n",
    "# Ascertain if the path is a directory\n",
    "is_directory = os.path.isdir('mysterious_ruins')\n",
    "# Determine if the path is a file\n",
    "is_file = os.path.isfile('ancient_manuscript.txt')"
   ]
  },
  {
   "cell_type": "markdown",
   "id": "ddd54749",
   "metadata": {},
   "source": [
    "## Exercise 9: Working with Temporary Files\n",
    "To summon temporary files and directories, fleeting and ephemeral"
   ]
  },
  {
   "cell_type": "code",
   "execution_count": null,
   "id": "0a1b7f06",
   "metadata": {},
   "outputs": [],
   "source": [
    "import tempfile\n",
    "# Create a temporary file\n",
    "temp_file = tempfile.NamedTemporaryFile(delete=False)\n",
    "print(temp_file.name)\n",
    "# Erect a temporary directory\n",
    "temp_dir = tempfile.TemporaryDirectory()\n",
    "print(temp_dir.name)"
   ]
  },
  {
   "cell_type": "markdown",
   "id": "48e0f196",
   "metadata": {},
   "source": [
    "## Exercise 10: Getting System Information\n",
    "To unveil information about the host system, its name, and the enchantments it supports"
   ]
  },
  {
   "cell_type": "code",
   "execution_count": null,
   "id": "88a25ce3",
   "metadata": {},
   "outputs": [],
   "source": [
    "import os\n",
    "import platform\n",
    "# Discover the operating system\n",
    "os_name = os.name  # 'posix', 'nt', 'java'\n",
    "# Unearth detailed system information\n",
    "system_info = platform.system()  # 'Linux', 'Windows', 'Darwin'"
   ]
  },
  {
   "cell_type": "markdown",
   "id": "e1b9c03c",
   "metadata": {},
   "source": [
    "# Working With Files"
   ]
  },
  {
   "cell_type": "markdown",
   "id": "a0fa9582",
   "metadata": {},
   "source": [
    "## Exercise 1: Reading a File\n",
    "\n",
    "To read the entire content of a file"
   ]
  },
  {
   "cell_type": "code",
   "execution_count": 4,
   "id": "843eb1fd",
   "metadata": {},
   "outputs": [],
   "source": [
    "with open('example.txt', 'r') as file:\n",
    "    content = file.read()\n",
    "    print(content)"
   ]
  },
  {
   "cell_type": "markdown",
   "id": "afe9eec8",
   "metadata": {},
   "source": [
    "## Exercise 2: Reading Lines into a List\n",
    "\n",
    "To read a file line by line into a list"
   ]
  },
  {
   "cell_type": "code",
   "execution_count": null,
   "id": "277286f8",
   "metadata": {},
   "outputs": [],
   "source": [
    "with open('example.txt', 'r') as file:\n",
    "    lines = file.readlines()\n",
    "    print(lines)"
   ]
  },
  {
   "cell_type": "markdown",
   "id": "fd033c47",
   "metadata": {},
   "source": [
    "## Exercise 3: Iterating Over Each Line in a File\n",
    "\n",
    "To process each line in a file"
   ]
  },
  {
   "cell_type": "code",
   "execution_count": null,
   "id": "de6cdb12",
   "metadata": {},
   "outputs": [],
   "source": [
    "with open('example.txt', 'r') as file:\n",
    "    for line in file:\n",
    "        print(line.strip())"
   ]
  },
  {
   "cell_type": "markdown",
   "id": "0aca1a89",
   "metadata": {},
   "source": [
    "## Exercise 4: Writing to a File\n",
    "\n",
    "To write text to a file, overwriting existing content"
   ]
  },
  {
   "cell_type": "code",
   "execution_count": null,
   "id": "8f69580a",
   "metadata": {},
   "outputs": [],
   "source": [
    "with open('example.txt', 'w') as file:\n",
    "    file.write('Hello, Python!')"
   ]
  },
  {
   "cell_type": "markdown",
   "id": "9cce2357",
   "metadata": {},
   "source": [
    "## Exercise 5: Writing Lists to a File\n",
    "\n",
    "To write each element of a list to a new line in a file"
   ]
  },
  {
   "cell_type": "code",
   "execution_count": null,
   "id": "7319326a",
   "metadata": {},
   "outputs": [],
   "source": [
    "lines = ['First line', 'Second line', 'Third line']\n",
    "with open('example.txt', 'w') as file:\n",
    "    for line in lines:\n",
    "        file.write(f'{line}\\n')"
   ]
  },
  {
   "cell_type": "markdown",
   "id": "1d217718",
   "metadata": {},
   "source": [
    "## Exercise 6 : Appending to a File\n",
    "\n",
    "To add text to the end of an existing file"
   ]
  },
  {
   "cell_type": "code",
   "execution_count": null,
   "id": "4837c951",
   "metadata": {},
   "outputs": [],
   "source": [
    "with open('example.txt', 'a') as file:\n",
    "    file.write('\\nAppend this line.')"
   ]
  },
  {
   "cell_type": "markdown",
   "id": "191e44a7",
   "metadata": {},
   "source": [
    "## Exercise 7: Using With Blocks for Multiple Files\n",
    "\n",
    "To work with multiple files simultaneously using with blocks\n",
    "\n",
    "Reading in infromation from source file and writing to destination file."
   ]
  },
  {
   "cell_type": "code",
   "execution_count": null,
   "id": "107113be",
   "metadata": {},
   "outputs": [],
   "source": [
    "with open('source.txt', 'r') as source, open('destination.txt', 'w') as destination:\n",
    "    content = source.read()\n",
    "    destination.write(content)"
   ]
  },
  {
   "cell_type": "markdown",
   "id": "21787ce2",
   "metadata": {},
   "source": [
    "## Exercise 8: Checking If a File Exists\n",
    "\n",
    "To check if a file exists before performing file operations"
   ]
  },
  {
   "cell_type": "code",
   "execution_count": null,
   "id": "59415874",
   "metadata": {},
   "outputs": [],
   "source": [
    "import os\n",
    "if os.path.exists('example.txt'):\n",
    "    print('File exists.')\n",
    "else:\n",
    "    print('File does not exist.')"
   ]
  },
  {
   "cell_type": "markdown",
   "id": "2fe6c667",
   "metadata": {},
   "source": [
    "## Exercise 9: Deleting a File\n",
    "\n",
    "To safely delete a file if it exists"
   ]
  },
  {
   "cell_type": "code",
   "execution_count": null,
   "id": "75cc8673",
   "metadata": {},
   "outputs": [],
   "source": [
    "import os\n",
    "if os.path.exists('example.txt'):\n",
    "    os.remove('example.txt')\n",
    "    print('File deleted.')\n",
    "else:\n",
    "    print('File does not exist.')"
   ]
  },
  {
   "cell_type": "markdown",
   "id": "3df66cc0",
   "metadata": {},
   "source": [
    "## Exercise 10: Reading and Writing Binary Files\n",
    "\n",
    "To read from and write to a file in binary mode (useful for images, videos, etc.)"
   ]
  },
  {
   "cell_type": "code",
   "execution_count": null,
   "id": "b56df64d",
   "metadata": {},
   "outputs": [],
   "source": [
    "# Reading a binary file\n",
    "with open('image.jpg', 'rb') as file:\n",
    "    content = file.read()\n",
    "# Writing to a binary file\n",
    "with open('copy.jpg', 'wb') as file:\n",
    "    file.write(content)"
   ]
  },
  {
   "cell_type": "markdown",
   "id": "6e9d162c",
   "metadata": {},
   "source": [
    "# Working With Simple HTTP APIs"
   ]
  },
  {
   "cell_type": "markdown",
   "id": "6839d4ee",
   "metadata": {},
   "source": [
    "## Exercise 1: Basic GET Request\n",
    "\n",
    "To fetch data from an API endpoint using a GET request"
   ]
  },
  {
   "cell_type": "code",
   "execution_count": null,
   "id": "21b16598",
   "metadata": {},
   "outputs": [],
   "source": [
    "import requests\n",
    "response = requests.get('https://api.example.com/data')\n",
    "data = response.json()  # Assuming the response is JSON\n",
    "print(data)"
   ]
  },
  {
   "cell_type": "markdown",
   "id": "dfd5d44d",
   "metadata": {},
   "source": [
    "## Exercise 2: GET Request with Query Parameters\n",
    "\n",
    "To send a GET request with query parameters"
   ]
  },
  {
   "cell_type": "code",
   "execution_count": null,
   "id": "b61c83fc",
   "metadata": {},
   "outputs": [],
   "source": [
    "import requests\n",
    "params = {'key1': 'value1', 'key2': 'value2'}\n",
    "response = requests.get('https://api.example.com/search', params=params)\n",
    "data = response.json()\n",
    "print(data)"
   ]
  },
  {
   "cell_type": "markdown",
   "id": "76694c8e",
   "metadata": {},
   "source": [
    "## Exercise 3: Handling HTTP Errors\n",
    "\n",
    "To handle possible HTTP errors gracefully"
   ]
  },
  {
   "cell_type": "code",
   "execution_count": null,
   "id": "87ff691f",
   "metadata": {},
   "outputs": [],
   "source": [
    "import requests\n",
    "response = requests.get('https://api.example.com/data')\n",
    "try:\n",
    "    response.raise_for_status()  # Raises an HTTPError if the status is 4xx, 5xx\n",
    "    data = response.json()\n",
    "    print(data)\n",
    "except requests.exceptions.HTTPError as err:\n",
    "    print(f'HTTP Error: {err}')"
   ]
  },
  {
   "cell_type": "markdown",
   "id": "96f544b1",
   "metadata": {},
   "source": [
    "## Exercise 4: Setting Timeout for Requests\n",
    "To set a timeout for API requests to avoid hanging indefinitely"
   ]
  },
  {
   "cell_type": "code",
   "execution_count": null,
   "id": "2a3cab1c",
   "metadata": {},
   "outputs": [],
   "source": [
    "import requests\n",
    "try:\n",
    "    response = requests.get('https://api.example.com/data', timeout=5)  # Timeout in seconds\n",
    "    data = response.json()\n",
    "    print(data)\n",
    "except requests.exceptions.Timeout:\n",
    "    print('The request timed out')"
   ]
  },
  {
   "cell_type": "markdown",
   "id": "d5171d3d",
   "metadata": {},
   "source": [
    "## Exercise 5: Using Headers in Requests\n",
    "To include headers in your request (e.g., for authorization)"
   ]
  },
  {
   "cell_type": "code",
   "execution_count": null,
   "id": "47adb54d",
   "metadata": {},
   "outputs": [],
   "source": [
    "import requests\n",
    "headers = {'Authorization': 'Bearer YOUR_ACCESS_TOKEN'}\n",
    "response = requests.get('https://api.example.com/protected', headers=headers)\n",
    "data = response.json()\n",
    "print(data)"
   ]
  },
  {
   "cell_type": "markdown",
   "id": "ba60d369",
   "metadata": {},
   "source": [
    "## Exercise 6: POST Request with JSON Payload\n",
    "To send data to an API endpoint using a POST request with a JSON payload"
   ]
  },
  {
   "cell_type": "code",
   "execution_count": null,
   "id": "f057885c",
   "metadata": {},
   "outputs": [],
   "source": [
    "import requests\n",
    "payload = {'key1': 'value1', 'key2': 'value2'}\n",
    "headers = {'Content-Type': 'application/json'}\n",
    "response = requests.post('https://api.example.com/submit', json=payload, headers=headers)\n",
    "print(response.json())"
   ]
  },
  {
   "cell_type": "markdown",
   "id": "e04fef03",
   "metadata": {},
   "source": [
    "## Exercise 7: Handling Response Encoding\n",
    "To handle the response encoding properly"
   ]
  },
  {
   "cell_type": "code",
   "execution_count": null,
   "id": "083799f2",
   "metadata": {},
   "outputs": [],
   "source": [
    "import requests\n",
    "response = requests.get('https://api.example.com/data')\n",
    "response.encoding = 'utf-8'  # Set encoding to match the expected response format\n",
    "data = response.text\n",
    "print(data)"
   ]
  },
  {
   "cell_type": "markdown",
   "id": "be635dce",
   "metadata": {},
   "source": [
    "## Exercise 8: Using Sessions with Requests\n",
    "\n",
    "To use a session object for making multiple requests to the same host, which can improve performance"
   ]
  },
  {
   "cell_type": "code",
   "execution_count": null,
   "id": "74972413",
   "metadata": {},
   "outputs": [],
   "source": [
    "import requests\n",
    "with requests.Session() as session:\n",
    "    session.headers.update({'Authorization': 'Bearer YOUR_ACCESS_TOKEN'})\n",
    "    response = session.get('https://api.example.com/data')\n",
    "    print(response.json())"
   ]
  },
  {
   "cell_type": "markdown",
   "id": "0199a953",
   "metadata": {},
   "source": [
    "## Exercise 9: Handling Redirects\n",
    "To handle or disable redirects in requests"
   ]
  },
  {
   "cell_type": "code",
   "execution_count": null,
   "id": "22f3ae84",
   "metadata": {},
   "outputs": [],
   "source": [
    "import requests\n",
    "response = requests.get('https://api.example.com/data', allow_redirects=False)\n",
    "print(response.status_code)"
   ]
  },
  {
   "cell_type": "markdown",
   "id": "4d6df000",
   "metadata": {},
   "source": [
    "## Exercise 10: Streaming Large Responses\n",
    "To stream a large response to process it in chunks, rather than loading it all into memory"
   ]
  },
  {
   "cell_type": "code",
   "execution_count": null,
   "id": "689008f2",
   "metadata": {},
   "outputs": [],
   "source": [
    "import requests\n",
    "response = requests.get('https://api.example.com/large-data', stream=True)\n",
    "for chunk in response.iter_content(chunk_size=1024):\n",
    "    process(chunk)  # Replace 'process' with your actual processing function"
   ]
  },
  {
   "cell_type": "markdown",
   "id": "49a2046f",
   "metadata": {},
   "source": [
    "# Working With Lists"
   ]
  },
  {
   "cell_type": "markdown",
   "id": "bc7178d0",
   "metadata": {},
   "source": [
    "## Exercise 1: Creating a List\n",
    "To conjure a list into being"
   ]
  },
  {
   "cell_type": "code",
   "execution_count": null,
   "id": "90510ff6",
   "metadata": {},
   "outputs": [],
   "source": [
    "# A list of mystical elements\n",
    "elements = ['Earth', 'Air', 'Fire', 'Water']"
   ]
  },
  {
   "cell_type": "markdown",
   "id": "9687e8bd",
   "metadata": {},
   "source": [
    "## Exercise 2: Appending to a List\n",
    "To append a new element to the end of a list"
   ]
  },
  {
   "cell_type": "code",
   "execution_count": null,
   "id": "97b18912",
   "metadata": {},
   "outputs": [],
   "source": [
    "elements.append('Aether')"
   ]
  },
  {
   "cell_type": "markdown",
   "id": "ce895aa8",
   "metadata": {},
   "source": [
    "## Exercise 3: Inserting into a List\n",
    "To insert an element at a specific position in the list"
   ]
  },
  {
   "cell_type": "code",
   "execution_count": null,
   "id": "a958f611",
   "metadata": {},
   "outputs": [],
   "source": [
    "# Insert 'Spirit' at index 1\n",
    "elements.insert(1, 'Spirit')"
   ]
  },
  {
   "cell_type": "markdown",
   "id": "43d664a3",
   "metadata": {},
   "source": [
    "## Exercise 4: Removing from a List\n",
    "To remove an element by value from the list"
   ]
  },
  {
   "cell_type": "code",
   "execution_count": null,
   "id": "a87d9306",
   "metadata": {},
   "outputs": [],
   "source": [
    "elements.remove('Earth')  # Removes the first occurrence of 'Earth'"
   ]
  },
  {
   "cell_type": "markdown",
   "id": "33d39246",
   "metadata": {},
   "source": [
    "## Exercise 5: Popping an Element from a List\n",
    "To remove and return an element at a given index (default is the last item)"
   ]
  },
  {
   "cell_type": "code",
   "execution_count": null,
   "id": "ce71fca3",
   "metadata": {},
   "outputs": [],
   "source": [
    "last_element = elements.pop()  # Removes and returns the last element"
   ]
  },
  {
   "cell_type": "markdown",
   "id": "27dc830e",
   "metadata": {},
   "source": [
    "## Exercise 6: Finding the Index of an Element\n",
    "To find the index of the first occurrence of an element"
   ]
  },
  {
   "cell_type": "code",
   "execution_count": null,
   "id": "598b2b4d",
   "metadata": {},
   "outputs": [],
   "source": [
    "index_of_air = elements.index('Air')"
   ]
  },
  {
   "cell_type": "markdown",
   "id": "6f7054e7",
   "metadata": {},
   "source": [
    "## Exercise 7: List Slicing\n",
    "To slice a list, obtaining a sub-list"
   ]
  },
  {
   "cell_type": "code",
   "execution_count": null,
   "id": "c578daa1",
   "metadata": {},
   "outputs": [],
   "source": [
    "# Get elements from index 1 to 3\n",
    "sub_elements = elements[1:4]"
   ]
  },
  {
   "cell_type": "markdown",
   "id": "9352bdbe",
   "metadata": {},
   "source": [
    "## Exercise 8: List Comprehension\n",
    "To create a new list by applying an expression to each element of an existing one"
   ]
  },
  {
   "cell_type": "code",
   "execution_count": null,
   "id": "be7228bf",
   "metadata": {},
   "outputs": [],
   "source": [
    "# Create a new list with lengths of each element\n",
    "lengths = [len(element) for element in elements]"
   ]
  },
  {
   "cell_type": "markdown",
   "id": "9a3a10e5",
   "metadata": {},
   "source": [
    "## Exercise 9: Sorting a List\n",
    "To sort a list in ascending order (in-place)"
   ]
  },
  {
   "cell_type": "code",
   "execution_count": null,
   "id": "3d56a850",
   "metadata": {},
   "outputs": [],
   "source": [
    "elements.sort()"
   ]
  },
  {
   "cell_type": "markdown",
   "id": "555c0c32",
   "metadata": {},
   "source": [
    "## Exercise 10: Reversing a List\n",
    "To reverse the elements of a list in-place"
   ]
  },
  {
   "cell_type": "code",
   "execution_count": null,
   "id": "13b23cce",
   "metadata": {},
   "outputs": [],
   "source": [
    "elements.reverse()"
   ]
  },
  {
   "cell_type": "markdown",
   "id": "9fa1237d",
   "metadata": {},
   "source": [
    "# Working With More Advanced List Comprehensions and Lambda Functions"
   ]
  },
  {
   "cell_type": "markdown",
   "id": "eb22cbff",
   "metadata": {},
   "source": [
    "## Exercise 1: Nested List Comprehensions\n",
    "To work with nested list Comprehensions"
   ]
  },
  {
   "cell_type": "code",
   "execution_count": 5,
   "id": "a2f21bb0",
   "metadata": {},
   "outputs": [
    {
     "name": "stdout",
     "output_type": "stream",
     "text": [
      "[[0, 1, 2, 3, 4], [0, 1, 2, 3, 4], [0, 1, 2, 3, 4]]\n"
     ]
    }
   ],
   "source": [
    "matrix = [[j for j in range(5)] for i in range(3)]\n",
    "print(matrix)  # Creates a 3x5 matrix"
   ]
  },
  {
   "cell_type": "markdown",
   "id": "a4fddb9d",
   "metadata": {},
   "source": [
    "## Exercise 2: Conditional List Comprehensions\n",
    "To filter elements that meet your criteria"
   ]
  },
  {
   "cell_type": "code",
   "execution_count": 6,
   "id": "22e60b4a",
   "metadata": {},
   "outputs": [
    {
     "name": "stdout",
     "output_type": "stream",
     "text": [
      "[0, 2, 4, 6, 8]\n"
     ]
    }
   ],
   "source": [
    "filtered = [x for x in range(10) if x % 2 == 0]\n",
    "print(filtered)  # Even numbers from 0 to 9"
   ]
  },
  {
   "cell_type": "markdown",
   "id": "fdcd1ac2",
   "metadata": {},
   "source": [
    "## Exercise 3: List Comprehensions with Multiple Iterables\n",
    "To merge and transform elements from multiple sources in a single dance"
   ]
  },
  {
   "cell_type": "code",
   "execution_count": 7,
   "id": "f4737ab6",
   "metadata": {},
   "outputs": [
    {
     "name": "stdout",
     "output_type": "stream",
     "text": [
      "[(1, 3), (1, 4), (2, 3), (2, 1), (2, 4), (3, 1), (3, 4)]\n"
     ]
    }
   ],
   "source": [
    "pairs = [(x, y) for x in [1, 2, 3] for y in [3, 1, 4] if x != y]\n",
    "print(pairs)  # Pairs of non-equal elements"
   ]
  },
  {
   "cell_type": "markdown",
   "id": "90c57ea8",
   "metadata": {},
   "source": [
    "## Exercise 4: Using Lambda Functions\n",
    "To summon anonymous functions, ephemeral and concise, for a single act of magic"
   ]
  },
  {
   "cell_type": "code",
   "execution_count": 8,
   "id": "5b0b8afd",
   "metadata": {},
   "outputs": [
    {
     "name": "stdout",
     "output_type": "stream",
     "text": [
      "25\n"
     ]
    }
   ],
   "source": [
    "square = lambda x: x**2\n",
    "print(square(5))  # Returns 25"
   ]
  },
  {
   "cell_type": "markdown",
   "id": "6ef4c0c1",
   "metadata": {},
   "source": [
    "## Exercise 5: Lambda Functions in List Comprehensions\n",
    "To employ lambda functions within your list comprehensions"
   ]
  },
  {
   "cell_type": "code",
   "execution_count": 9,
   "id": "db3ea3d3",
   "metadata": {},
   "outputs": [
    {
     "name": "stdout",
     "output_type": "stream",
     "text": [
      "[0, 1, 4, 9, 16]\n"
     ]
    }
   ],
   "source": [
    "squared = [(lambda x: x**2)(x) for x in range(5)]\n",
    "print(squared)  # Squares of numbers from 0 to 4"
   ]
  },
  {
   "cell_type": "markdown",
   "id": "705c1f87",
   "metadata": {},
   "source": [
    "## Exercise 6: List Comprehensions for Flattening Lists\n",
    "To flatten a nested list, spreading its elements into a single dimension"
   ]
  },
  {
   "cell_type": "code",
   "execution_count": 10,
   "id": "c21caf7a",
   "metadata": {},
   "outputs": [
    {
     "name": "stdout",
     "output_type": "stream",
     "text": [
      "[1, 2, 3, 4, 5, 6, 7]\n"
     ]
    }
   ],
   "source": [
    "nested = [[1, 2, 3], [4, 5], [6, 7]]\n",
    "flattened = [x for sublist in nested for x in sublist]\n",
    "print(flattened)"
   ]
  },
  {
   "cell_type": "markdown",
   "id": "8a3bd488",
   "metadata": {},
   "source": [
    "## Exercise 7: Applying Functions to Elements\n",
    "To apply a transformation function to each element"
   ]
  },
  {
   "cell_type": "code",
   "execution_count": 11,
   "id": "fe8cc60d",
   "metadata": {},
   "outputs": [
    {
     "name": "stdout",
     "output_type": "stream",
     "text": [
      "[1.0, 1.4142135623730951, 1.7320508075688772, 2.0, 2.23606797749979]\n"
     ]
    }
   ],
   "source": [
    "import math\n",
    "transformed = [math.sqrt(x) for x in range(1, 6)]\n",
    "print(transformed)  # Square roots of numbers from 1 to 5"
   ]
  },
  {
   "cell_type": "markdown",
   "id": "6d5e4169",
   "metadata": {},
   "source": [
    "## Exercise 8: Using Lambda with Map and Filter (Higher-order functions)\n",
    "To map and filter lists"
   ]
  },
  {
   "cell_type": "code",
   "execution_count": 12,
   "id": "3a2d5fcf",
   "metadata": {},
   "outputs": [
    {
     "name": "stdout",
     "output_type": "stream",
     "text": [
      "[0, 1, 4, 9, 16]\n",
      "[9, 16]\n"
     ]
    }
   ],
   "source": [
    "mapped = list(map(lambda x: x**2, range(5)))\n",
    "filtered = list(filter(lambda x: x > 5, mapped))\n",
    "print(mapped)    # Squares of numbers from 0 to 4\n",
    "print(filtered)  # Elements greater than 5"
   ]
  },
  {
   "cell_type": "markdown",
   "id": "6abc9dd5",
   "metadata": {},
   "source": [
    "## Exercise 9: List Comprehensions with Conditional Expressions\n",
    "List Comprehensions with Condidtional Expressions"
   ]
  },
  {
   "cell_type": "code",
   "execution_count": 13,
   "id": "62be8ddd",
   "metadata": {},
   "outputs": [
    {
     "name": "stdout",
     "output_type": "stream",
     "text": [
      "[0, 1, 4, 3, 4]\n"
     ]
    }
   ],
   "source": [
    "conditional = [x if x > 2 else x**2 for x in range(5)]\n",
    "print(conditional)  # Squares numbers less than or equal to 2, passes others unchanged"
   ]
  },
  {
   "cell_type": "markdown",
   "id": "f88f6e1c",
   "metadata": {},
   "source": [
    "## Exercise 10: Complex Transformations with Lambda\n",
    "To conduct intricate transformations, using lambda functions"
   ]
  },
  {
   "cell_type": "code",
   "execution_count": 14,
   "id": "8ca3787e",
   "metadata": {},
   "outputs": [
    {
     "name": "stdout",
     "output_type": "stream",
     "text": [
      "[0, 6, 4, 8, 16]\n"
     ]
    }
   ],
   "source": [
    "complex_transformation = list(map(lambda x: x**2 if x % 2 == 0 else x + 5, range(5)))\n",
    "print(complex_transformation)  # Applies different transformations based on even-odd condition"
   ]
  },
  {
   "cell_type": "markdown",
   "id": "2a1fb313",
   "metadata": {},
   "source": [
    "# Working With Dictionaries"
   ]
  },
  {
   "cell_type": "markdown",
   "id": "6d38dd7b",
   "metadata": {},
   "source": [
    "## Exercise 1: Creating a Dictionary\n",
    "To forge a new dictionary"
   ]
  },
  {
   "cell_type": "code",
   "execution_count": 15,
   "id": "472d7697",
   "metadata": {},
   "outputs": [],
   "source": [
    "# A tome of elements and their symbols\n",
    "elements = {'Hydrogen': 'H', 'Helium': 'He', 'Lithium': 'Li'}"
   ]
  },
  {
   "cell_type": "markdown",
   "id": "3fdd5fb0",
   "metadata": {},
   "source": [
    "## Exercise 2: Adding or Updating Entries\n",
    "To add a new entry or update an existing one"
   ]
  },
  {
   "cell_type": "code",
   "execution_count": 16,
   "id": "52747d3c",
   "metadata": {},
   "outputs": [],
   "source": [
    "elements['Carbon'] = 'C'  # Adds 'Carbon' or updates its value to 'C'"
   ]
  },
  {
   "cell_type": "markdown",
   "id": "5cb38378",
   "metadata": {},
   "source": [
    "## Exercise 3:  Removing an Entry\n",
    "To banish an entry from the dictionary"
   ]
  },
  {
   "cell_type": "code",
   "execution_count": 17,
   "id": "49a4f3c6",
   "metadata": {},
   "outputs": [],
   "source": [
    "del elements['Lithium']  # Removes the key 'Lithium' and its value"
   ]
  },
  {
   "cell_type": "markdown",
   "id": "7af0085f",
   "metadata": {},
   "source": [
    "## Exercise 4: Checking for Key Existence\n",
    "To check if a key resides within the dictionary"
   ]
  },
  {
   "cell_type": "code",
   "execution_count": 18,
   "id": "7e9d9801",
   "metadata": {},
   "outputs": [
    {
     "name": "stdout",
     "output_type": "stream",
     "text": [
      "Helium is present\n"
     ]
    }
   ],
   "source": [
    "if 'Helium' in elements:\n",
    "    print('Helium is present')"
   ]
  },
  {
   "cell_type": "markdown",
   "id": "2ed567bb",
   "metadata": {},
   "source": [
    "## Exercise 5: Iterating Over Keys\n",
    "To iterate over the keys in the dictionary"
   ]
  },
  {
   "cell_type": "code",
   "execution_count": 19,
   "id": "f2834968",
   "metadata": {},
   "outputs": [
    {
     "name": "stdout",
     "output_type": "stream",
     "text": [
      "Hydrogen\n",
      "Helium\n",
      "Carbon\n"
     ]
    }
   ],
   "source": [
    "for element in elements:\n",
    "    print(element)  # Prints each key"
   ]
  },
  {
   "cell_type": "markdown",
   "id": "6ae7e8b9",
   "metadata": {},
   "source": [
    "## Exercise 6:  Iterating Over Values\n",
    "To traverse through the values in the dictionary"
   ]
  },
  {
   "cell_type": "code",
   "execution_count": 20,
   "id": "1274ee2a",
   "metadata": {},
   "outputs": [
    {
     "name": "stdout",
     "output_type": "stream",
     "text": [
      "H\n",
      "He\n",
      "C\n"
     ]
    }
   ],
   "source": [
    "for symbol in elements.values():\n",
    "    print(symbol)  # Prints each value"
   ]
  },
  {
   "cell_type": "markdown",
   "id": "c7c5bc1a",
   "metadata": {},
   "source": [
    "## Exercise 7: Iterating Over Items\n",
    "To journey through both keys and values together:"
   ]
  },
  {
   "cell_type": "code",
   "execution_count": 21,
   "id": "1b078010",
   "metadata": {},
   "outputs": [
    {
     "name": "stdout",
     "output_type": "stream",
     "text": [
      "Hydrogen: H\n",
      "Helium: He\n",
      "Carbon: C\n"
     ]
    }
   ],
   "source": [
    "for element, symbol in elements.items():\n",
    "    print(f'{element}: {symbol}')"
   ]
  },
  {
   "cell_type": "markdown",
   "id": "a53f0349",
   "metadata": {},
   "source": [
    "## Exercise 8: Dictionary Comprehension\n",
    "To conjure a new dictionary through an incantation over an iterable"
   ]
  },
  {
   "cell_type": "code",
   "execution_count": 23,
   "id": "d95141bb",
   "metadata": {},
   "outputs": [
    {
     "data": {
      "text/plain": [
       "{0: 0, 1: 1, 2: 4, 3: 9, 4: 16}"
      ]
     },
     "execution_count": 23,
     "metadata": {},
     "output_type": "execute_result"
    }
   ],
   "source": [
    "# Squares of numbers from 0 to 4\n",
    "squares = {x: x**2 for x in range(5)}\n",
    "squares"
   ]
  },
  {
   "cell_type": "markdown",
   "id": "e2f2d687",
   "metadata": {},
   "source": [
    "## Exercise 9: Merging Dictionaries\n",
    "To merge two or more dictionaries, forming a new alliance of their entries\n",
    "\n",
    "This method checks for any duplicate keys from left to right, possibly overwriting the keys in common between the two dictionaries."
   ]
  },
  {
   "cell_type": "code",
   "execution_count": 24,
   "id": "f0d6f540",
   "metadata": {},
   "outputs": [],
   "source": [
    "alchemists = {'Paracelsus': 'Mercury'}\n",
    "philosophers = {'Plato': 'Aether'}\n",
    "merged = {**alchemists, **philosophers}"
   ]
  },
  {
   "cell_type": "code",
   "execution_count": 25,
   "id": "2e1f3fcc",
   "metadata": {},
   "outputs": [
    {
     "data": {
      "text/plain": [
       "{'Paracelsus': 'Mercury', 'Plato': 'Aether'}"
      ]
     },
     "execution_count": 25,
     "metadata": {},
     "output_type": "execute_result"
    }
   ],
   "source": [
    "merged"
   ]
  },
  {
   "cell_type": "code",
   "execution_count": 28,
   "id": "04c0a71b",
   "metadata": {},
   "outputs": [
    {
     "data": {
      "text/plain": [
       "{'first_el': 13, 'second_el': 3, 'third_el': 4, 'fourth_el': 667}"
      ]
     },
     "execution_count": 28,
     "metadata": {},
     "output_type": "execute_result"
    }
   ],
   "source": [
    "# How to merge two dictionaries  \n",
    "foo = {'first_el': 13, 'second_el': 33, 'third_el': 491}\n",
    "bar = {'second_el': 3, 'third_el': 4, 'fourth_el': 667}\n",
    "\n",
    "baz = {**foo, **bar} \n",
    "baz"
   ]
  },
  {
   "cell_type": "code",
   "execution_count": null,
   "id": "d57a5896",
   "metadata": {},
   "outputs": [],
   "source": [
    "# Come combinare due dictionary \n",
    "# in Python 2\n",
    "foo = {'first_el': 13, 'second_el': 33, 'third_el': 491}\n",
    "bar = {'second_el': 3, 'third_el': 4, 'fourth_el': 667}\n",
    "\n",
    "baz = dict(foo, **bar)\n",
    "baz"
   ]
  },
  {
   "cell_type": "markdown",
   "id": "22c2fe02",
   "metadata": {},
   "source": [
    "## Exercise 10: Getting a Value with Default\n",
    "To retrieve a value safely, providing a default for absent keys"
   ]
  },
  {
   "cell_type": "code",
   "execution_count": 27,
   "id": "3051717f",
   "metadata": {},
   "outputs": [
    {
     "data": {
      "text/plain": [
       "'Unknown'"
      ]
     },
     "execution_count": 27,
     "metadata": {},
     "output_type": "execute_result"
    }
   ],
   "source": [
    "element = elements.get('Neon', 'Unknown')  # Returns 'Unknown' if 'Neon' is not found\n",
    "element"
   ]
  },
  {
   "cell_type": "code",
   "execution_count": null,
   "id": "b80b79da",
   "metadata": {},
   "outputs": [],
   "source": [
    "## Exercise 1:"
   ]
  },
  {
   "cell_type": "code",
   "execution_count": null,
   "id": "78f61e52",
   "metadata": {},
   "outputs": [],
   "source": []
  }
 ],
 "metadata": {
  "kernelspec": {
   "display_name": "Python 3",
   "language": "python",
   "name": "python3"
  },
  "language_info": {
   "codemirror_mode": {
    "name": "ipython",
    "version": 3
   },
   "file_extension": ".py",
   "mimetype": "text/x-python",
   "name": "python",
   "nbconvert_exporter": "python",
   "pygments_lexer": "ipython3",
   "version": "3.8.8"
  }
 },
 "nbformat": 4,
 "nbformat_minor": 5
}
