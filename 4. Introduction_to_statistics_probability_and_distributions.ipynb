{
 "cells": [
  {
   "cell_type": "markdown",
   "metadata": {
    "colab_type": "text",
    "id": "ywumyYkxvR-u"
   },
   "source": [
    "# Introduction To Statistics - Probability & Distributions\n",
    "\n",
    "© Explore Data Science Academy"
   ]
  },
  {
   "cell_type": "markdown",
   "metadata": {
    "colab_type": "text",
    "id": "C4m0jEFcvR-w"
   },
   "source": [
    "## Learning Objectives\n",
    "By the end of this train, you should be able to:\n",
    "\n",
    "* Distinguish between Inferential and Descriptive Statistics;\n",
    "* Describe and identify the different variable and data types;\n",
    "* Utilise the stats package scipy in python;\n",
    "* Understand the concepts of random variables;\n",
    "* Understand probability functions; and\n",
    "* Differentiate and explain different distributions.\n",
    "\n",
    "## Outline\n",
    "In this train we will:\n",
    "* Explore some introductory statistical concepts;\n",
    "* Introduce probability; and\n",
    "* Introduce different distributions."
   ]
  },
  {
   "cell_type": "markdown",
   "metadata": {
    "colab_type": "text",
    "id": "1VHOn0PHaiaz"
   },
   "source": [
    "## Introduction\n",
    "\n",
    "Within the realm of data, probabilities and distributions are extremely important. These concepts will provide a vital basis when moving on to related technical fields such as machine learning, modelling, and algorithmic development.   \n",
    "\n",
    "Statistics can be broken down into two avenues - Descriptive & Inferential. The best comparison between the two is described in Keone Hon's *Introduction to Statistics* - \"Descriptive statistics is used to say something about a set of information that has been collected only. Inferential statistics is used to make predictions or comparisons about a larger group (a population) using information gathered about a small part of that population. Thus, inferential statistics involves generalizing beyond the data, something that descriptive statistics does not do.\"\n",
    "\n",
    "So think of descriptive stats as how we describe data (mean, mode and median, for example) and inferential statistics as how we can make assumptions using the data (hypothesis testing and confidence intervals, for example).\n",
    "\n",
    "### Types of Data and Variables\n",
    "\n",
    "1. Nominal Data\n",
    " - 1.1 Binary Data - two distinct data types (yes/no or true/false)\n",
    " - 1.2 Categorical Data -  many data types (primary/secondary/tertiary)\n",
    "\n",
    "2.  Ordinal Data - a number used in scoring that implies an order. An example is a rank from 0 to 5 (this is considered categorical)\n",
    "\n",
    "3.  Continous Data (Interval data) - variable with any number (Blood pressure or seconds)\n",
    "\n",
    "4.  Discrete Variables - variables which hold a whole number; can be used as a counting number (Number of Explore graduates who have been placed into jobs)"
   ]
  },
  {
   "cell_type": "markdown",
   "metadata": {
    "colab_type": "text",
    "id": "kiGa1e-cvR-1"
   },
   "source": [
    "# Topic 1: Probabiliy Theory\n",
    "\n",
    "This section is going to introduce you to the world of probability and show you how powerful python packages can help you compute the numbers related to probability. \n",
    "\n",
    "Defines the likelihood of an event’s occurrence. It’s defined as the ratio of the no of favorable outcomes to the total no of outcomes of an event.\n",
    "\n",
    "- Probability of event to happen P(E) = Number of favourable outcomes/Total Number of outcomes\n",
    "\n",
    "This type of probability is different from the mathematical way of looking at probability, which you can find in probability theory, a branch of mathematics. And in mathematics, you have two broad categories of interpretations on \"probability\" is - \n",
    "- the \"physical\" and\n",
    "    - also called Objective or frequency probabilities and are associated with random physical systems such as \n",
    "        - flipping coins, \n",
    "        - roulette wheels, or \n",
    "        - rolling dice. \n",
    "    - In such systems, a given type of event tends to occur at a persistent rate, or \"relative frequency\", in a long run of trials.\n",
    "- the \"evidential\" probabilities.\n",
    "    - also called Bayesian probability, which can be assigned to any statement whatsoever, even when no random process is involved, as a way to represent its subjective plausibility, or the degree to which the statement is supported by the available evidence. \n",
    "    - On most accounts, evidential probabilities are considered to be degrees of belief, defined in terms of dispositions to gamble at certain odds.\n",
    "\n",
    "**Probability theory** is mainly concerned with predicting the likelihood of future events, while \n",
    "\n",
    "**statistics** analyzes the frequency of past events.\n",
    "\n",
    "Necessary for understanding and analyzing random events and their outcomes.\n",
    "\n",
    "To refresh your memory or start you off on basic probabilities, read up in *Chapter 3* of [Keone's textbook](https://www.fd.cvut.cz/department/k611/PEDAGOG/THO_A/A_soubory/statistics_firstfive.pdf).\n",
    "You could then go have a look at how those concepts are implemented in python [here](https://www.datacamp.com/community/tutorials/statistics-python-tutorial-probability-1).\n",
    "\n",
    "Let's start off by importing some important packages in python:"
   ]
  },
  {
   "cell_type": "code",
   "execution_count": 2,
   "metadata": {
    "colab": {},
    "colab_type": "code",
    "collapsed": true,
    "id": "UouT0xT5vR-3"
   },
   "outputs": [],
   "source": [
    "import numpy as np\n",
    "import scipy.stats as st #read this documentation and refer to documentation on the super stats package\n",
    "import matplotlib.pyplot as plt"
   ]
  },
  {
   "cell_type": "markdown",
   "metadata": {},
   "source": [
    "## The fundamental ingredient of probability theory is:\n",
    "- **An experiment**: is of that can be repeated, at least hypothetically, under essentially identical conditions. \n",
    "    - This experiment may lead to different outcomes on different trials or single performances of an experiment. \n",
    "- **Sample space**: The set of all possible outcomes or results of an experiment. \n",
    "- **An event**: is a well-defined subset of the sample space.\n",
    "\n",
    "### Exercise  1: Calculating Probability For Single Events\n",
    "eg. coin landing on tails\n",
    "\n",
    "Calculation: Divide the number of possible event outcomes by the sample space.\n",
    "\n",
    "1. consider first how many possible ways there are for the coin to land on tails\n",
    "- Answer is 1. as you have only one possible way to get tails.\n",
    "2. consider the number of possible outcomes.\n",
    "- Answer is 2, as you will either get heads or tails when you flip the coin.\n",
    "\n",
    "calculation of the probability of an event:\n",
    "$P(A) = \\frac{Event \\ outcomes \\ favorable \\ to \\ A}{Sample \\ space}$\n",
    "\n",
    "### Exercise 2: A deck of 52 playing cards.\n",
    "\n",
    "52 cards In a standard deck of cards and of those 52 cards, 4 are Aces. \n",
    "\n",
    "Divide the number of possible event outcomes (4), by the sample space (52)\n",
    "\n",
    "$P(A) = \\frac{4}{52}$\n"
   ]
  },
  {
   "cell_type": "code",
   "execution_count": null,
   "metadata": {},
   "outputs": [],
   "source": [
    "# Sample Space\n",
    "cards = 52\n",
    "\n",
    "# Outcomes\n",
    "aces = 4\n",
    "\n",
    "# Divide possible outcomes by the sample set\n",
    "ace_probability = aces / cards\n",
    "\n",
    "# Print probability rounded to two decimal places\n",
    "print(round(ace_probability, 2))\n",
    "\n",
    "# Ace Probability Percent Code\n",
    "ace_probability_percent = ace_probability * 100\n",
    "\n",
    "# Print probability percent rounded to one decimal place\n",
    "print(str(round(ace_probability_percent, 0)) + '%')"
   ]
  },
  {
   "cell_type": "markdown",
   "metadata": {},
   "source": [
    "### Exercise 3: probability of drawing a card that is a Heart, a face card (such as Jacks, Queens, or Kings), or a combination of both, such as a Queen of Hearts.\n",
    "\n",
    "In such cases, you might want to create a User-Defined Function (UDF) event_probability() to which you pass the event_outcomes and the sample_space to find the probability of an event in percentage form"
   ]
  },
  {
   "cell_type": "code",
   "execution_count": null,
   "metadata": {},
   "outputs": [],
   "source": [
    "# Create function that returns probability percent rounded to one decimal place\n",
    "def event_probability(event_outcomes, sample_space):\n",
    "    probability = (event_outcomes / sample_space) * 100\n",
    "    return round(probability, 1)\n",
    "\n",
    "# Sample Space\n",
    "cards = 52\n",
    "\n",
    "# Determine the probability of drawing a heart\n",
    "hearts = 13\n",
    "heart_probability = event_probability(hearts, cards)\n",
    "\n",
    "# Determine the probability of drawing a face card\n",
    "face_cards = 12\n",
    "face_card_probability = event_probability(face_cards, cards)\n",
    "\n",
    "# Determine the probability of drawing the queen of hearts\n",
    "queen_of_hearts = 1\n",
    "queen_of_hearts_probability = event_probability(queen_of_hearts, cards)\n",
    "\n",
    "# Print each probability\n",
    "print(str(heart_probability) + '%')\n",
    "print(str(face_card_probability) + '%')\n",
    "print(str(queen_of_hearts_probability) + '%')"
   ]
  },
  {
   "cell_type": "markdown",
   "metadata": {},
   "source": [
    "## Probability with Combinations and Permutations\n",
    "\n",
    "Determining the size of your sample space is key.\n",
    "\n",
    "There are ways to make the counting task easier. Two of these ways are \n",
    "- permutations\n",
    "- combinations.\n",
    "\n",
    "### Permutations\n",
    "Permutations are the number of ways a subset of a specified size can be arranged from a given set, \n",
    "- **without replacement**.\n",
    "- **order matters.**\n",
    "\n",
    "Example:\n",
    "- A 4 digit PIN with no repeated digits.\n",
    "\n",
    "The probability of having no repeated digits can be calculated by executing the following calculation:\n",
    "\n",
    "$10 \\times 9 \\times 8 \\times 7$.\n",
    "\n",
    "Explaination:\n",
    "- 10 numbers to choose from, but as you're working without replacement, \n",
    "- one option always falls away as you pick a number for the 4-digit pin.\n",
    "\n",
    "2 Things to consider:\n",
    "- (1) the numbers to choose from, and \n",
    "- (2) the numbers that you actually choose.\n",
    "\n",
    "##### calculating the permutations, \n",
    "- (1) consider the full set of the numbers to choose from, \n",
    "    - which is in reality $$10 \\times 9 \\times 8 \\times 7 \\times 6 \\times 5 \\times 4 \\times 3 \\times 2 \\times 1$$ and\n",
    "- (2) divide the result of this calculation by the difference in the numbers to choose from (10) and the numbers that you actually choose (4).\n",
    "    - this means that this difference will be $$6 \\times 5 \\times 4 \\times 3 \\times 2 \\times 1$$.\n",
    "\n",
    "$10P4 = \\frac{10!}{(10 - 4)!}$\n",
    "-  \"10!\" and \"6!\" or \"10 factorial\" and \"6 factorial\"\n",
    "    -  indicate that all the consecutive positive integers from 1 up to and including 10 or 6 are to be multiplied together.\n",
    "\n",
    "Generalizing the calculations\n",
    "\n",
    "$nPk = \\frac{n!}{(n - k)!}$\n",
    "\n",
    "### Combinations\n",
    "\n",
    "The number of ways a subset of a specified size can be drawn from a given set.\n",
    "**order doesn't matter.**\n",
    "\n",
    "Example:\n",
    "- Deck of cards, which consists of 52 cards. \n",
    "    - Three cards are going to be taken out of the deck. \n",
    "    - How many different ways can you choose these three cards?\n",
    "\n",
    "$52 \\times 51 \\times 50$\n",
    "\n",
    "- Need to figure out how many combinations you actually have,\n",
    "    - create all the permutations and divide by all the redundancies or \n",
    "\n",
    "$3 \\times 2 \\times 1$\n",
    "\n",
    "##### Calculation of the combinations\n",
    "\n",
    "$52C3 = \\frac{\\frac {52!}{(52-3)!}}{3!}$\n",
    "\n",
    "Generalized Calculation\n",
    "\n",
    "$nCk = \\frac{nPk}{k!}$\n",
    "\n",
    "where:\n",
    "- the numerator is exactly the same formula as the permutations formula\n",
    "- denominator is the factorial of the number of cards that you will actually choose.\n",
    "\n",
    "### Exercise 4:\n",
    "find the number of combinations\n",
    "- four Aces in a deck of cards, and these are all the different combinations of pocket Aces\n",
    "    - six combinations of pocket Aces\n",
    "\n",
    "- determine the number of combinations, \n",
    "    - simply divide the number of permutations by the factorial of the size of the subset."
   ]
  },
  {
   "cell_type": "code",
   "execution_count": null,
   "metadata": {},
   "outputs": [],
   "source": [
    "# Permutations Code\n",
    "import math\n",
    "n = 4\n",
    "k = 2\n",
    "\n",
    "# Determine permutations and print result\n",
    "Permutations = math.factorial(n) / math.factorial(k)\n",
    "print(Permutations)\n",
    "\n",
    "# Combinations Code\n",
    "n = 52\n",
    "k = 2\n",
    "\n",
    "# Determine Permutations\n",
    "Permutations = math.factorial(n) / math.factorial(n - k)\n",
    "\n",
    "# Determine Combinations and print result\n",
    "Combinations = Permutations / math.factorial(k)\n",
    "print(Combinations)"
   ]
  },
  {
   "cell_type": "markdown",
   "metadata": {},
   "source": [
    "## Independent versus Dependent Events\n",
    "\n",
    "What is an Event\n",
    "- Event is a well-defined subset of the sample space. \n",
    "- Events can be classified into two categories: \n",
    "    - dependent or \n",
    "    - independent.\n",
    "\n",
    "### Independent Events\n",
    "\n",
    "- Independent events are events that don't impact the probability of the other event(s). \n",
    "- Two events A and B are independent if knowing whether event A occurred gives no information about whether event B occurred.\n",
    "\n",
    "Example\n",
    "\n",
    "- Draw an Ace from the deck, replace the card, shuffle the deck, and then drawing another card. The probability of drawing an Ace the first draw is the same as the second.\n",
    "\n",
    "##### events A and B are independent if:\n",
    "\n",
    "- The probability of events A and B to occur equals the product of the probabilities of each event occurring.\n",
    "- The probability of event A to occur if an event B has already occurred is equal to the probability of an event A to occur.\n",
    "- The probability of an event B to occur if an event A has already occurred is the same as the probability of an event B to occur.\n",
    "\n",
    "### Dependent events,\n",
    "- Events that have an impact on the probability of the other event(s).\n",
    "\n",
    "Example\n",
    "\n",
    "- draw a card from the deck and then draw a second card from the deck without replacing the first card.\n",
    "    - the probability of drawing an Ace the fist draw is not the same as the probability of drawing an Ace on the second draw. \n",
    "    - After the first card is drawn, the sample space has reduced by 1, from 52 to 51. \n",
    "    - Depending on what the card was on the first draw, the number of event outcomes may have also changed. \n",
    "    - If the card was an Ace, there are now only 3 Aces remaining for the second draw."
   ]
  },
  {
   "cell_type": "code",
   "execution_count": null,
   "metadata": {},
   "outputs": [],
   "source": [
    "# Sample Space\n",
    "cards = 52\n",
    "cards_drawn = 1 \n",
    "cards = cards - cards_drawn \n",
    "\n",
    "# Determine the probability of drawing an Ace after drawing a King on the first draw\n",
    "aces = 4\n",
    "ace_probability1 = event_probability(aces, cards)\n",
    "\n",
    "# Determine the probability of drawing an Ace after drawing an Ace on the first draw\n",
    "aces_drawn = 1\n",
    "aces = aces - aces_drawn\n",
    "ace_probability2 = event_probability(aces, cards)\n",
    "\n",
    "# Print each probability\n",
    "print(ace_probability1)\n",
    "print(ace_probability2)"
   ]
  },
  {
   "cell_type": "code",
   "execution_count": null,
   "metadata": {},
   "outputs": [],
   "source": [
    "# Dependent Events: Flush Draw - Ace high Flush\n",
    "# A Flush is a strong poker hand where all five cards are the same suit. \n",
    "# What's the probability that the last community card, known as the River Card, is a Diamond?\n",
    "\n",
    "# Sample Space\n",
    "cards = 52\n",
    "hole_cards = 2\n",
    "turn_community_cards = 4\n",
    "cards = cards - (hole_cards + turn_community_cards)\n",
    "\n",
    "# Outcomes\n",
    "diamonds = 13\n",
    "diamonds_drawn = 4\n",
    "# In poker, cards that complete a draw are known as \"outs\"\n",
    "outs = diamonds - diamonds_drawn\n",
    "\n",
    "#Determine river flush probability\n",
    "river_flush_probability = event_probability(outs, cards)\n",
    "print(river_flush_probability)"
   ]
  },
  {
   "cell_type": "code",
   "execution_count": null,
   "metadata": {},
   "outputs": [],
   "source": [
    "# Dependent Events: Open-Ended Straight Draw\n",
    "# A Straight is another strong hand where there are five cards in sequential order. \n",
    "# The Straight draw is open-ended because any: \n",
    "## Eight ( 8, 9, 10, Jack, Queen) \n",
    "## King (9, 10, Jack, Queen, King) will complete the straight.\n",
    "\n",
    "# What's the probability that the River card completes the Straight?\n",
    "\n",
    "# Sample Space\n",
    "cards = 52\n",
    "hole_cards = 2\n",
    "turn_community_cards = 4\n",
    "cards = cards - (hole_cards + turn_community_cards)\n",
    "\n",
    "# Outcomes\n",
    "eights = 4\n",
    "kings = 4\n",
    "outs = eights + kings\n",
    "\n",
    "# Determine river straight probability\n",
    "river_straight_probability = event_probability(outs, cards)\n",
    "print(river_straight_probability)"
   ]
  },
  {
   "cell_type": "markdown",
   "metadata": {},
   "source": [
    "## Multiple Events\n",
    "\n",
    "Example\n",
    "- What is the probability of eating three oatmeal cookies followed by a chocolate chip cookie when you eat four cookies out of a cookie jar filled with these two types of cookies?\n",
    "- Eating four cookies is actually four events.\n",
    "\n",
    "Solution:\n",
    "- To calculate the probability for multiple events, you basically \n",
    "1. determine the number of events (4 in this case), you then \n",
    "2. determine the probability for each event occurring separately and you \n",
    "3. multiply all of these probabilities\n",
    "\n",
    "$P(Event A \\cap Event B)=P(Event A) \\times P(Event A)$\n",
    "\n",
    "Here, calculate the probabilities of eating an oatmeal cookie AND another oatmeal cookie AND a third oatmeal, AND a last chocolate chip cookie. When you're considering events that all have to happen, you multiply the probabilities.\n",
    "\n",
    "Example: deck of playing cards\n",
    "- What is the probability of getting three Hearts when choosing without replacement?\n",
    "\n",
    "Solution\n",
    "- sample or choose without replacement, it means that you choose a card but do not put it back, so that your final selection cannot include that same card. \n",
    "- your probability calculation will be the following: 13/52 x 12/51 x 11/50.\n",
    "\n",
    "### Mutually Exclusive Events\n",
    "\n",
    "working with multiple events, you might also have events that are mutually exclusive or disjoint: they cannot both occur. \n",
    "- Here, calculate the probability (or the union) of any of multiple mutually exclusive events occurring.\n",
    "    - you don't multiply probabilities, but you simply add together the probability of each event occurring:\n",
    "\n",
    "$P(Event A \\cup Event B) = P(Event A) + P(Event B)$\n",
    "\n",
    "- The \"OR\" component is very important: drawing a heart OR drawing a club are two mutually exclusive events.\n",
    "\n",
    "Example\n",
    "- To determine the probability of drawing a heart or drawing a club, add the probability of drawing a heart to the probability of drawing a club.\n",
    "\n",
    "$P(Heart \\cup Club) = (\\frac{13}{52}) + (\\frac{13}{52})$\n",
    "\n",
    "##### Exercise: determine the probability of the following mutually exclusive events\n",
    "\n",
    "- Drawing a heart or drawing a club;\n",
    "- Drawing an ace, a king or a queen."
   ]
  },
  {
   "cell_type": "code",
   "execution_count": null,
   "metadata": {},
   "outputs": [],
   "source": [
    "# Sample Space\n",
    "cards = 52\n",
    "\n",
    "# Calculate the probability of drawing a heart or a club\n",
    "hearts = 13\n",
    "clubs = 13\n",
    "heart_or_club = event_probability(hearts, cards) + event_probability(clubs, cards)\n",
    "\n",
    "# Calculate the probability of drawing an ace, king, or a queen\n",
    "aces = 4\n",
    "kings = 4\n",
    "queens = 4\n",
    "ace_king_or_queen = event_probability(aces, cards) + event_probability(kings, cards) + event_probability(queens, cards)\n",
    "\n",
    "print(heart_or_club)\n",
    "print(ace_king_or_queen)"
   ]
  },
  {
   "cell_type": "markdown",
   "metadata": {},
   "source": [
    "### Non-Mutually Exclusive Events\n",
    "\n",
    "Example\n",
    "- Drawing a heart or drawing an ace are two non-mutually exclusive events. \n",
    "    - The ace of hearts is both an ace and a heart. \n",
    "- When events are not mutually exclusive, you must correct for the overlap.\n",
    "\n",
    "$P(Event A \\cup Event B) = P(Event A) + P(Event B) - P(EventA \\cup EventB)$\n",
    "\n",
    "Solution\n",
    "- To calculate the probability of drawing a heart or an ace, \n",
    "1. add the probability of drawing a heart to the \n",
    "2. probability of drawing an ace and \n",
    "3. then subtract the probability of drawing the ace of hearts.\n",
    "\n",
    "$P(Heart \\cup Ace) = (\\frac{13}{52}) + (\\frac{4}{52}) - (\\frac{1}{52})$\n",
    "\n",
    "##### Exercise: Calculate the probability of the following non mutually exclusive events\n",
    "- Drawing a heart or an ace\n",
    "- Drawing a red card or drawing a face card.\n",
    "\n"
   ]
  },
  {
   "cell_type": "code",
   "execution_count": null,
   "metadata": {},
   "outputs": [],
   "source": [
    "# Sample Space\n",
    "cards = 52\n",
    "\n",
    "# Calculate the probability of drawing a heart or an ace\n",
    "hearts = 13\n",
    "aces = 4\n",
    "ace_of_hearts = 1\n",
    "heart_or_ace = event_probability(hearts, cards) + event_probability(aces, cards) - event_probability(ace_of_hearts, cards)\n",
    "\n",
    "# Calculate the probability of drawing a red card or a face card\n",
    "red_cards = 26\n",
    "face_cards = 12\n",
    "red_face_cards = 6\n",
    "red_or_face_cards = event_probability(red_cards, cards) + event_probability(face_cards, cards) - event_probability(red_face_cards, cards)\n",
    "\n",
    "print(round(heart_or_ace, 1))\n",
    "print(round(red_or_face_cards, 1))"
   ]
  },
  {
   "cell_type": "markdown",
   "metadata": {},
   "source": [
    "## Mutliple Events: Intersection of Independent And Dependent Events\n",
    "\n",
    "### Intersection of Independent Events\n",
    "The probability of the intersection of two independent events is determined by multiplying the probabilities of each event occurring.\n",
    "\n",
    "$P(Event A \\cap Event B) = P(Event A) \\times P(Event B)$\n",
    "\n",
    "##### Exercise: The probability of drawing two Aces in a row, independently\n",
    "Probabilty of drawing an Ace from a deck of cards, replacing it, reshuffling the deck, and drawing another Ace,\n",
    "\n",
    "Solution:\n",
    "\n",
    "1. multiply the probability of drawing and Ace times the probability of drawing an Ace.\n",
    "\n",
    "$P(Ace \\cap Ace) = (\\frac{4}{52}) \\times (\\frac{4}{52})$"
   ]
  },
  {
   "cell_type": "code",
   "execution_count": null,
   "metadata": {},
   "outputs": [],
   "source": [
    "# Sample Space\n",
    "cards = 52\n",
    "\n",
    "# Outcomes\n",
    "aces = 4\n",
    "\n",
    "# Probability of one ace\n",
    "ace_probability = aces / cards\n",
    "\n",
    "# Probability of two consecutive independant aces \n",
    "two_aces_probability = ace_probability * ace_probability\n",
    "\n",
    "# Two Ace Probability Percent Code\n",
    "two_ace_probability_percent = two_aces_probability * 100\n",
    "print(round(two_ace_probability_percent, 1))"
   ]
  },
  {
   "cell_type": "markdown",
   "metadata": {},
   "source": [
    "### Intersection of Dependent Events\n",
    "The probability of the intersection of two non independent events (Event A & Event B given A) is determined by \n",
    "1. multiplying the probability of Event A occurring times the probability of Event B given A.\n",
    "\n",
    "$P(Event A \\cap Event B | A) = P(Event A) \\times P(Event B | A)$\n",
    "\n",
    "The best starting hand you can have in Texas Hold’em is pocket Aces. \n",
    "\n",
    "What is the probability of being dealt two Aces?\n",
    "\n",
    "$P(Ace \\cap Ace | Ace) = (\\frac{4}{52}) \\times (\\frac{3}{51})$"
   ]
  },
  {
   "cell_type": "code",
   "execution_count": null,
   "metadata": {},
   "outputs": [],
   "source": [
    "# Sample Space first draw\n",
    "cards = 52\n",
    "\n",
    "# Outcomes first draw\n",
    "aces = 4\n",
    "\n",
    "# Probability of ace on first draw\n",
    "first_ace_probability = aces / cards\n",
    "\n",
    "# Sample Space second draw\n",
    "cards = cards - 1\n",
    "\n",
    "# Outcomes second draw\n",
    "aces = aces - 1\n",
    "\n",
    "# Probability of ace on second draw after ace on first\n",
    "second_ace_probability = aces / cards\n",
    "\n",
    "# Probability of two consecutive aces (dependent)\n",
    "both_aces_probability = first_ace_probability * second_ace_probability * 100\n",
    "print(both_aces_probability)"
   ]
  },
  {
   "cell_type": "markdown",
   "metadata": {},
   "source": [
    "##### Exercise: Intersection of Dependent Events: Flop Flush Draw\n",
    "determine the probability of getting a Flush by the River? First you need to determine all the different possible scenarios\n",
    "\n",
    "- A) Turn Diamond, River Non Diamond (Made Flush)\n",
    "- B) Turn Non Diamond, River Diamond (Made Flush)\n",
    "- C) Turn Diamond, River Diamond (Made Flush)\n",
    "- D) Turn Non Diamond, River Non Diamond (No Flush)\n",
    "\n",
    "Each of those scenarios are mutually exclusive. \n",
    "\n",
    "This means that if you add the probabilities of each of those scenarios occurring, the total will be 1. \n",
    "- one of those four scenarios is definitely going to occur. \n",
    "- You want to know the probability of scenario A, B, or C occurring. \n",
    "- The simplest approach to figure this out is to determine the probability of scenario D, and subtract that from 1."
   ]
  },
  {
   "cell_type": "code",
   "execution_count": null,
   "metadata": {},
   "outputs": [],
   "source": [
    "# Sample Space on turn\n",
    "cards = 52\n",
    "hole_cards = 2\n",
    "flop_community_cards = 3\n",
    "cards = cards - (hole_cards + flop_community_cards)\n",
    "\n",
    "# Outcomes\n",
    "diamonds = 13\n",
    "diamonds_drawn = 4\n",
    "non_diamonds_drawn = 1\n",
    "outs = diamonds - diamonds_drawn\n",
    "turn_non_diamonds = cards - outs - non_diamonds_drawn \n",
    "\n",
    "# Probability of not getting a diamond on the turn\n",
    "no_diamond_turn_probability = turn_non_diamonds / cards\n",
    "\n",
    "# Sample Space on river\n",
    "turn_community_card = 1\n",
    "cards = cards - turn_community_card\n",
    "\n",
    "# Outcomes on river\n",
    "river_non_diamonds = turn_non_diamonds - turn_community_card\n",
    "\n",
    "# Probability of not getting a diamond on the river\n",
    "no_diamond_river_probability = river_non_diamonds / cards\n",
    "\n",
    "# Probability of not getting a flush\n",
    "no_flush_probability = no_diamond_turn_probability * no_diamond_river_probability\n",
    "\n",
    "# Probability of getting a flush\n",
    "flush_probability = 1 - no_flush_probability\n",
    "flush_probability_percent = flush_probability * 100\n",
    "\n",
    "# Print probability percent rounded to one decimal place\n",
    "print(round(flush_probability_percent, 1))"
   ]
  },
  {
   "cell_type": "markdown",
   "metadata": {},
   "source": [
    "##### Exercise 2:\n",
    "\n",
    "You still have a flush draw, but this time you don’t have the Ace. If a Diamond falls on the turn and the river, there is a good chance someone will have a better flush draw. Determine the probability of a Diamond falling on the Turn or the River, but not both. You already have the probability of not hitting a flush.\n",
    "\n",
    "Now find the probability of a diamond falling on the turn and river, add that to the probability of not hitting a flush, and subtract from 1."
   ]
  },
  {
   "cell_type": "code",
   "execution_count": null,
   "metadata": {},
   "outputs": [],
   "source": [
    "# Sample Space on turn\n",
    "cards = 52\n",
    "hole_cards = 2\n",
    "flop_community_cards = 3\n",
    "cards = cards - (hole_cards + flop_community_cards)\n",
    "\n",
    "# Outcomes on turn\n",
    "diamonds = 13\n",
    "diamonds_drawn = 4\n",
    "outs = diamonds - diamonds_drawn\n",
    "\n",
    "# Probability of diamond on turn\n",
    "diamond_turn_probability = outs / cards\n",
    "\n",
    "# Sample Space on river\n",
    "turn_diamonds = 1\n",
    "cards = cards - turn_diamonds\n",
    "\n",
    "# Outcomes on river\n",
    "river_diamonds = outs - turn_diamonds\n",
    "\n",
    "# Probability of diamond on river\n",
    "diamond_river_probability = river_diamonds / cards\n",
    "\n",
    "# Probability of getting a diamond on the turn and river\n",
    "two_diamonds_probability = diamond_turn_probability * diamond_river_probability\n",
    "\n",
    "# Determine the probability of getting only one diamond by the river\n",
    "one_diamond_probability = 1 - (no_flush_probability + two_diamonds_probability)\n",
    "one_diamond_probability_percent = one_diamond_probability * 100\n",
    "\n",
    "# Print probability percent rounded to one decimal place\n",
    "print(round(one_diamond_probability_percent, 1))"
   ]
  },
  {
   "cell_type": "markdown",
   "metadata": {},
   "source": [
    "## Expected value and variance\n",
    "\n",
    "Consider calculating the expected value and variance of a random variable with a normal distribution and a mean of 0 and a standard deviation of 1.\n"
   ]
  },
  {
   "cell_type": "code",
   "execution_count": null,
   "metadata": {},
   "outputs": [],
   "source": [
    "import numpy as np\n",
    "\n",
    "# Generate 10000 random numbers from a normal distribution\n",
    "rand_nums = np.random.normal(loc=0, scale=1, size=10000)\n",
    "\n",
    "# Calculate the expected value and variance\n",
    "expected_value = np.mean(rand_nums)\n",
    "variance = np.var(rand_nums)\n",
    "\n",
    "print(f\"Expected value: {expected_value:.2f}\")\n",
    "print(f\"Variance: {variance:.2f}\")"
   ]
  },
  {
   "cell_type": "markdown",
   "metadata": {},
   "source": [
    "In probability theory, conditional probability and Bayes’ theorem are also important concepts.\n",
    "\n",
    "## Conditional Probability\n",
    "\n",
    "Probability of an event occurring given that another event has already occurred. \n",
    "\n",
    "It is represented as P(A|B), which is the probability of event A occurring given that event B has already occurred."
   ]
  },
  {
   "cell_type": "code",
   "execution_count": null,
   "metadata": {},
   "outputs": [],
   "source": [
    "################################################\n",
    "# Example code for conditional probability\n",
    "################################################\n",
    "\n",
    "# Calculate the conditional probability P(A|B)\n",
    "def calculate_conditional_probability(A, B):\n",
    "    # Calculate the joint probability P(A and B)\n",
    "    joint_probability = P_A_and_B(A, B)\n",
    "    \n",
    "    # Calculate the probability P(B)\n",
    "    probability_B = P(B)\n",
    "    \n",
    "    # Calculate the conditional probability P(A|B)\n",
    "    conditional_probability = joint_probability / probability_B\n",
    "    \n",
    "    return conditional_probability\n",
    "\n",
    "# Example usage\n",
    "event_A = \"Event A\"\n",
    "event_B = \"Event B\"\n",
    "\n",
    "# Calculate P(A|B)\n",
    "conditional_probability = calculate_conditional_probability(event_A, event_B)\n",
    "print(f\"The conditional probability of {event_A} given {event_B} is: {conditional_probability}\")"
   ]
  },
  {
   "cell_type": "markdown",
   "metadata": {},
   "source": [
    "## Bayes Theorem\n",
    "\n",
    "Bayes’ Theorem is a fundamental concept in probability that allows us to update the probability of an event based on new evidence. \n",
    "\n",
    "It is expressed as P(A|B) = (P(B|A) * P(A)) / P(B)."
   ]
  },
  {
   "cell_type": "code",
   "execution_count": null,
   "metadata": {},
   "outputs": [],
   "source": [
    "#############################################\n",
    "# Example code for Bayes' Theorem\n",
    "#############################################\n",
    "\n",
    "# Calculate the posterior probability using Bayes' Theorem\n",
    "def calculate_posterior_probability(P_A, P_B_given_A, P_B):\n",
    "    posterior_probability = (P_B_given_A * P_A) / P_B\n",
    "    return posterior_probability\n",
    "\n",
    "# Example usage\n",
    "P_A = 0.3  # Prior probability of event A\n",
    "P_B_given_A = 0.7  # Probability of event B given event A\n",
    "P_B = 0.5  # Probability of event B\n",
    "\n",
    "# Calculate the posterior probability P(A|B)\n",
    "posterior_probability = calculate_posterior_probability(P_A, P_B_given_A, P_B)\n",
    "print(f\"The posterior probability of event A given event B is: {posterior_probability}\")"
   ]
  },
  {
   "cell_type": "markdown",
   "metadata": {
    "colab_type": "text",
    "id": "uLXscBBIvR-6"
   },
   "source": [
    "# Topic 2: Probability Distributions\n",
    "\n",
    "## Random Variables \n",
    "\n",
    "In probability theory, we defined the concept of the sample space $S$ as the set of all possible events; we can think of this as representing all of the possible outcomes of an experiment whose outcome is unknown at the outset. For example, getting dressed in the morning we reach blindly into the drawer to pull out a pair of socks, knowing that there are white, black and blue socks in there.\n",
    "\n",
    "We can think of this as an experiment: we know what all the possible outcomes are, and if we know something about how many pairs of each colour sock we own, we also know something about the probabilities of those outcomes. But we don't know the actual outcome until we pull our hand back out and examine the pair of socks it's clutching.\n",
    "\n",
    "We can define a variable $X$ to stand for the values of the possible outcomes. This $X$ is what we define as a **random variable**: one which can take on a range of possible values and whose actual value is unknown until completion of the experiment.\n",
    "\n",
    "Other classic examples include the tossing of a coin or the rolling of a die.\n",
    "\n",
    "## Discrete Random Variables \n",
    "\n",
    "Discrete random variables can only take on specific values. Our sock, coin and die examples above are all discrete: the possibilities are {white, black,blue}, {heads, tails} and {1, 2, 3, 4, 5, 6} respectively.\n",
    "\n",
    "Usually, we'll be looking at problems where the outcomes are real numbers, as in the die example. Where they're not, as in the coin example, we would usually proceed by assigning a numeric value to each of the possible outcomes, e.g. 1 for heads and 2 for tails. Most common discrete random variables take on integer values, but that's not necessarily the case: if there are either 2 or 3 people coming to share a pizza with me, and we share equally, then the possible outcomes for me are one-quarter and one-third of a pizza."
   ]
  },
  {
   "cell_type": "markdown",
   "metadata": {
    "colab_type": "text",
    "id": "yXbUTvSXvR-8"
   },
   "source": [
    "## Probability mass (PMF) and probability density functions (PDF)\n",
    "\n",
    "We need some mathematical language to describe the probabilities of the various possible outcomes of random variables (what we refer to as **probability distributions**). \n",
    "\n",
    "Random variables have functions which map their outcomes onto their corresponding probabilities. These are most easily described in the case of discrete random variables, whose\n",
    "-  **probability mass functions** $p(x)$ directly map a given outcome $x$ onto the probability of $x$ being observed in a given trial.\n",
    "\n",
    "There are three conditions which a probability mass function (PMF) must fulfil:\n",
    "\n",
    "1. $p(x)$ is defined for all $x$, but $p(x)>0$ only for a finite set of points. (Or countably infinite set of points, but that's a subtlety we can happily ignore at this stage.)\n",
    "\n",
    "2. $0 \\le p(x) \\le 1$ for all $x$. Intuitively, the bounds on a probability are 0 for an outcome that can never be observed and 1 for a certain outcome.\n",
    "\n",
    "3. $\\displaystyle \\sum_x p(x) = 1$. Observing one of the range of all possible outcomes is certain, and hence probabilities must sum to 1.\n",
    "\n",
    "Consider the coin toss, coding heads as 1 and tails as 2. We have that $p(1) = p(2) = 0.5$ and $p(x) = 0$ for all $x \\neq 1,2$, hence all three conditions hold and the probability mass function for the coin toss is a valid PMF.\n"
   ]
  },
  {
   "cell_type": "markdown",
   "metadata": {},
   "source": [
    "### 1. PMF (Probability Mass Function)\n",
    "Definition: \n",
    "- The PMF is used for discrete random variables. \n",
    "- It gives the probability that a discrete random variable is exactly equal to some value.\n",
    "\n",
    "Usage: \n",
    "- If you're working with discrete distributions (e.g., the number of times an event occurs), \n",
    "    - the PMF helps determine the probability of each outcome.\n",
    "\n",
    "Example: \n",
    "- For a dice roll, the PMF of rolling a 3 is \n",
    "    - $ 𝑃(𝑋=3) = \\frac{1}{6}$\n",
    "\n",
    "\n",
    "PMF Example: Calculating the probability of exactly 4 heads when flipping a coin 10 times.\n",
    "\n",
    "Use PMF: When dealing with discrete data (e.g., counts, categorical data)."
   ]
  },
  {
   "cell_type": "code",
   "execution_count": null,
   "metadata": {},
   "outputs": [],
   "source": [
    "from scipy.stats import binom\n",
    "\n",
    "# PMF for a binomial distribution (e.g., 10 trials, probability of success = 0.5)\n",
    "n = 10\n",
    "p = 0.5\n",
    "k = 3  # Number of successes\n",
    "\n",
    "probability = binom.pmf(k, n, p)\n",
    "print(\"PMF for k=3:\", probability)\n"
   ]
  },
  {
   "cell_type": "markdown",
   "metadata": {},
   "source": [
    "### 4. CMF (Cumulative Mass Function)\n",
    "\n",
    "Definition: \n",
    "- The CMF is essentially the CDF for a discrete random variable. \n",
    "- It represents the cumulative probability up to a certain value.\n",
    "\n",
    "Usage: \n",
    "- It’s useful when dealing with discrete distributions like the number of defective products in a batch or survey responses.\n",
    "\n",
    "Example: \n",
    "- For a dice roll, the CMF for rolling a 3 is $P(X≤3)=P(1)+P(2)+P(3)$.\n",
    "\n",
    "CMF Example: Estimating the probability that a delivery truck makes 5 or fewer deliveries in a day.\n",
    "\n",
    "Use CMF: Specifically for cumulative probabilities in discrete scenarios."
   ]
  },
  {
   "cell_type": "code",
   "execution_count": null,
   "metadata": {},
   "outputs": [],
   "source": [
    "# Using the binomial distribution for CMF\n",
    "cumulative_probability = binom.cdf(k, n, p)\n",
    "print(\"CMF (CDF for discrete) for k=3:\", cumulative_probability)"
   ]
  },
  {
   "cell_type": "markdown",
   "metadata": {
    "colab_type": "text",
    "id": "7yKSMUzMvR-9"
   },
   "source": [
    "### Continuous random variables\n",
    "\n",
    "Are a little more tricky, conceptually. For discrete variables, the probability mass function tells us directly the probability of individual outcomes, or (by summing) of groups of outcomes. \n",
    "For example, the PMF for the roll of a die is $p(x) = 1/6$ for $x \\in 1, 2, 3, 4, 5, 6$. We can see directly that there is a one-in-six chance of rolling a three, or a 50% chance $(1/6 + 1/6 + 1/6)$ of rolling a four or above. But for continuous random variables, the probability of achieving a very specific outcome is in fact zero. This sounds a little counter-intuitive, I know, but it has to do with the infinite divisibility of outcomes. \n",
    "Therefore, for a continuous random variable, we must think in terms of the probability of achieving an outcome between two limits. For example, for the 400m world record, we could think of the probability of Wayde van Niekerk running another 43.03 second race, rounded to the nearest hundredth of a second, as the probability of time between 43.025 and 43.035 seconds."
   ]
  },
  {
   "cell_type": "markdown",
   "metadata": {
    "colab_type": "text",
    "id": "tjQPlrNhvR--"
   },
   "source": [
    "### Probability Density Function\n",
    "\n",
    "We, therefore, can't directly define a probability mass function for continuous random variables; instead, we define what is known as a **probability density function** (PDF). There are also three conditions for PDFs which are conventionally written as $f(x)$:\n",
    "\n",
    "1. $f(x)$ must be defined for all values of $x$.\n",
    "\n",
    "2. All values of $f(x)$ are non-negative (note there is no upper bound on this, unlike $p(x)$ for a discrete random variable).\n",
    "\n",
    "3. Finally, $\\displaystyle \\int_{-\\infty}^{\\infty} f(x) dx = 1$.\n",
    "\n",
    "The last condition is the equivalent of the requirement that all probability masses sum to 1 for a discrete random variable. Probabilities for continuous variables are found by integration, which is after all the continuous analogue to summation, and this condition enforces that the integral of the probability densities over all possible values of $x$ comes to 1, as necessary for a valid probability distribution. To continue with our 400m example, we would evaluate the probability we're after by integrating between 43.025 and 43.035 seconds. We'd find the probability of Wayde breaking his own world record by integrating over the interval 0 (or negative infinity, but negative times are of course not possible so we can safely ignore this part of the real number line) to 43.025 seconds."
   ]
  },
  {
   "cell_type": "markdown",
   "metadata": {},
   "source": [
    "###  2. PDF (Probability Density Function)\n",
    "\n",
    "Definition: \n",
    "- The PDF is used for continuous random variables. \n",
    "- It describes the likelihood of the random variable falling within a particular range of values, rather than taking any specific value \n",
    "    - (because for continuous variables, $ P(X=x)=0 $) \n",
    "\n",
    "Usage: \n",
    "- PDFs are useful for modeling data that can take any value within a range (e.g., heights, weights).\n",
    "\n",
    "Example: \n",
    "- The normal distribution is a common continuous distribution represented by a PDF.\n",
    "\n",
    "PDF Example: Modeling the distribution of heights in a population to find out how likely it is for someone to be between 160 cm and 170 cm.\n",
    "\n",
    "Use PDF: For continuous data when you need to model or visualize density."
   ]
  },
  {
   "cell_type": "code",
   "execution_count": null,
   "metadata": {},
   "outputs": [],
   "source": [
    "import numpy as np\n",
    "import matplotlib.pyplot as plt\n",
    "from scipy.stats import norm\n",
    "\n",
    "x = np.linspace(-3, 3, 1000)\n",
    "pdf_values = norm.pdf(x, loc=0, scale=1)\n",
    "\n",
    "plt.plot(x, pdf_values, label='PDF')\n",
    "plt.title(\"Normal Distribution PDF\")\n",
    "plt.xlabel(\"x\")\n",
    "plt.ylabel(\"Density\")\n",
    "plt.show()"
   ]
  },
  {
   "cell_type": "markdown",
   "metadata": {
    "colab_type": "text",
    "id": "BNuzrfCVvR-_"
   },
   "source": [
    "### Cumulative Distribution Functions\n",
    "\n",
    "Cumulative distribution functions (CDFs, or just distribution functions), usually denoted $F(x)$, give the probability that a random variable $X$ takes on a value less than or equal to some given value $x$. In other words, $$F(x) = P(X \\le x).$$\n",
    "\n",
    "Before you read further, see if you can figure out how $F(x)$ would be defined for a discrete and a continuous random variable respectively.\n",
    "\n",
    "That's right: for a discrete variable it would be \n",
    "\n",
    "$$F(x) = \\sum_{t \\le x} p(t),$$ \n",
    "\n",
    "and for a continuous random variable we would define the distribution function as \n",
    "\n",
    "$$F(x) = \\int_{-\\infty}^x f(t) \\: dt.$$\n",
    "\n",
    "\n",
    "If you are confused on CDF's, go to [this link](https://www.countbayesie.com/blog/2015/4/4/parameter-estimation-the-pdf-cdf-and-quantile-function) for another explanation of CDF's "
   ]
  },
  {
   "cell_type": "markdown",
   "metadata": {},
   "source": [
    "### 3. CDF (Cumulative Distribution Function)\n",
    "Definition: \n",
    "- The CDF for a random variable $𝑋$ represents the probability that $𝑋$ will take a value less than or equal to $𝑥$\n",
    "- It accumulates probabilities up to a certain point.\n",
    "\n",
    "Usage: \n",
    "- The CDF is useful for finding the probability that a variable is within a certain range or below a certain value. \n",
    "- It applies to both **discrete and continuous distributions**.\n",
    "\n",
    "Example: \n",
    "- In a reliability test, you might want to know the probability that a machine will function up to a certain number of hours without failure.\n",
    "\n",
    "CDF Example: Determining the probability that a stock price stays below a certain threshold over a given time.\n",
    "\n",
    "Use CDF: For cumulative probabilities to understand the distribution's behavior up to a certain point."
   ]
  },
  {
   "cell_type": "code",
   "execution_count": null,
   "metadata": {},
   "outputs": [],
   "source": [
    "x = np.linspace(-3, 3, 1000)\n",
    "cdf_values = norm.cdf(x, loc=0, scale=1)\n",
    "\n",
    "plt.plot(x, cdf_values, label='CDF')\n",
    "plt.title(\"Normal Distribution CDF\")\n",
    "plt.xlabel(\"x\")\n",
    "plt.ylabel(\"Cumulative Probability\")\n",
    "plt.show()"
   ]
  },
  {
   "cell_type": "markdown",
   "metadata": {
    "colab_type": "text",
    "id": "oafP7ncxvR_B"
   },
   "source": [
    "## Distributions - mapping your data"
   ]
  },
  {
   "cell_type": "markdown",
   "metadata": {
    "colab_type": "text",
    "id": "zusDWczYvR_C"
   },
   "source": [
    "There are 2 categories of distributions with their respective distributions:\n",
    "\n",
    "1. Discrete Distributions:\n",
    " - Binomial\n",
    " - Poisson\n",
    " - Negative Binomial\n",
    "<br>\n",
    "2. Continuous Distributions:\n",
    " - Normal\n",
    " - Exponential\n",
    " - Uniform\n",
    " \n",
    "A bonus graph that we will touch on is the logistic graph which plays a prominent part in classification techniques when we focus on machine learning.\n",
    "\n",
    "## Discrete Distributions\n",
    "\n",
    "### Binomial Distribution \n",
    "\n",
    "A binomial process is a series of independent trials of an experiment with two possible outcomes; a series of coin tosses is a good example. It's easy to figure out the probability of one coin toss landing on heads; it requires a little more insight (but is still easy enough) to figure out the probability of two tails on two consecutive tosses; but it's not nearly so straightforward to figure out the probability of thirty heads and twenty tails when we toss the coin fifty times.\n",
    "\n",
    "Probability distribution that describes the number of success in a fixed number of independent trials. It is used to model the number of successes in a fixed number of trials when the probability of success is constant.\n",
    "\n",
    "Let the random variable $X$ be the number of a particular outcome in a binomial process with $n$ independent trials where $p$ is the probability of the outcome in question for any individual trial. Then $X$ has the binomial distribution, whose PMF is given by\n",
    "\n",
    "\\begin{align}\n",
    "p(x) & = \\binom{n}{x} \\: p^x \\: (1-p)^{n-x} & & \\text{for } x = 0, 1, \\ldots, n\\\\\n",
    "     & = 0 & & \\text{otherwise}\n",
    "\\end{align}"
   ]
  },
  {
   "cell_type": "markdown",
   "metadata": {
    "colab_type": "text",
    "id": "ZF3btgQZvR_D"
   },
   "source": [
    "It isn't hard to see how this is derived. With $n$ trials, there are $2^n$ possible specific outcomes for the trial. For example, if $n=3$ and we're tossing a coin, so $p=0.5$, the possible outcomes are (with Heads denoted H and Tails denoted T):\n",
    "\n",
    "H, H, H\n",
    "\n",
    "H, H, T\n",
    "\n",
    "H, T, H\n",
    "\n",
    "H, T, T\n",
    "\n",
    "T, H, H\n",
    "\n",
    "T, H, T\n",
    "\n",
    "T, T, H\n",
    "\n",
    "T, T, T\n",
    "\n",
    "Because $p = 0.5 = (1-p)$, each of those outcomes has probability $0.5^3 = 0.125$. But with our random variable $X$, we're not interested in the specific ordering of the outcomes, but only in how many of a particular outcome were observed. Only one outcome delivers three heads, and only one delivers zero heads. But for two heads and one head respectively, we can see that there are three possibilities.\n",
    "\n",
    "The sharp among you will have realised that this is just an examble of the combination logic we learned about in the probability module: there is $\\binom{3}{3} = 1$ outcome with three heads, $\\binom{3}{2} = 3$ outcomes with two heads, and so on; or, in general, $\\binom{3}{x}$ outcomes with $x$ heads. The binomial distribution PMF above is simply the generalisation of this logic to any $n$, $x$ and $p$.\n",
    "\n",
    "Let's plot the PMF for 10 trials, where $p$ is alternately 0.1 and 0.5."
   ]
  },
  {
   "cell_type": "code",
   "execution_count": 2,
   "metadata": {
    "colab": {
     "base_uri": "https://localhost:8080/",
     "height": 374
    },
    "colab_type": "code",
    "executionInfo": {
     "elapsed": 1694,
     "status": "ok",
     "timestamp": 1574939801537,
     "user": {
      "displayName": "Jason Webster",
      "photoUrl": "",
      "userId": "13254939673721675351"
     },
     "user_tz": -120
    },
    "id": "eIvJZ64hvR_E",
    "outputId": "139e49ae-bb26-4e94-8bfd-e223341b9cc0"
   },
   "outputs": [
    {
     "data": {
      "image/png": "[encoded data removed]",
      "text/plain": [
       "<Figure size 720x432 with 1 Axes>"
      ]
     },
     "metadata": {},
     "output_type": "display_data"
    }
   ],
   "source": [
    "n = 10\n",
    "x = np.arange(0,11)\n",
    "p1 = 0.1\n",
    "px1 = st.binom.pmf(x, n, p1)\n",
    "p2 = 0.5\n",
    "px2 = st.binom.pmf(x, n, p2)\n",
    "\n",
    "plt.rcParams[\"figure.figsize\"] = (10,6)\n",
    "plt.plot(x, px1, 'k', label = 'p = 0.1')\n",
    "plt.plot(x, px2, 'r', label = 'p = 0.5')\n",
    "plt.legend()\n",
    "plt.show()"
   ]
  },
  {
   "cell_type": "code",
   "execution_count": null,
   "metadata": {},
   "outputs": [],
   "source": [
    "############################################\n",
    "# Example code for binomial distribution\n",
    "############################################\n",
    "\n",
    "from scipy.stats import binom\n",
    "\n",
    "# Define the parameters of the binomial distribution\n",
    "n = 10  # Number of trials\n",
    "p = 0.5  # Probability of success\n",
    "\n",
    "# Create a binomial distribution object\n",
    "binomial_dist = binom(n, p)\n",
    "\n",
    "# Calculate the probability mass function (PMF) for k successes\n",
    "k = 3\n",
    "probability = binomial_dist.pmf(k)\n",
    "\n",
    "print(f\"The probability of {k} successes in {n} trials with a success probability of {p} is: {probability}\")"
   ]
  },
  {
   "cell_type": "code",
   "execution_count": null,
   "metadata": {},
   "outputs": [],
   "source": [
    "#############################################\n",
    "# Code for generation Binimial Distribution\n",
    "#############################################\n",
    "\n",
    "from scipy.stats import binom\n",
    "\n",
    "# Create a binomial distribution with n=10 and p=0.5\n",
    "n, p = 10, 0.5\n",
    "x = np.arange(binom.ppf(0.01, n, p), binom.ppf(0.99, n, p))\n",
    "plt.plot(x, binom.pmf(x, n, p), 'bo', ms=8)\n",
    "plt.show()"
   ]
  },
  {
   "cell_type": "code",
   "execution_count": null,
   "metadata": {},
   "outputs": [],
   "source": [
    "##########################################\n",
    "# a simulation of a binomial distribution\n",
    "##########################################\n",
    "\n",
    "n = 100\n",
    "p = 0.5\n",
    "size = 1000\n",
    "\n",
    "binomial = np.random.binomial(n,p,size)\n",
    "plt.hist(binomial)"
   ]
  },
  {
   "cell_type": "markdown",
   "metadata": {},
   "source": [
    "### Bernoulli Distributions: \n",
    "- Explain their use in modeling yes/no or success/failure experiments.\n",
    "- When setting n equals to 1, we simulate a Bernoulli distribution"
   ]
  },
  {
   "cell_type": "code",
   "execution_count": null,
   "metadata": {},
   "outputs": [],
   "source": [
    "##########################################\n",
    "# Simulating a Bernoulli trail\n",
    "##########################################\n",
    "\n",
    "import numpy as np\n",
    "\n",
    "# Success probability is the same as the failure probability\n",
    "np.random.choice([\"sucess\", \"failure\"], p= (0.5, 0.5))\n",
    "\n",
    "# When probabilities are different\n",
    "np.random.choice([\"success\", \"failure\"], p=  (0.9, 0.1))"
   ]
  },
  {
   "cell_type": "code",
   "execution_count": null,
   "metadata": {},
   "outputs": [],
   "source": [
    "##########################################\n",
    "# Simulating a Bernoulli trail\n",
    "##########################################\n",
    "\n",
    "n = 1\n",
    "p = 0.5\n",
    "size = 10000\n",
    "\n",
    "bernoulli = np.random.binomial(n,p,size)\n",
    "plt.hist(bernoulli)"
   ]
  },
  {
   "cell_type": "markdown",
   "metadata": {},
   "source": [
    "### Geometric Distribution\n",
    "\n",
    "To simulate a Geometric distribution, use the Bernoulli trails and count for the number of failures before the number of sucess"
   ]
  },
  {
   "cell_type": "code",
   "execution_count": null,
   "metadata": {},
   "outputs": [],
   "source": [
    "geometric = []\n",
    "failure = 0\n",
    "n = 0\n",
    "p = 0.5\n",
    "\n",
    "while n < 1000:\n",
    "    result = np.random.choice([\"succes\", \"failure\"], p = (p, 1-p))\n",
    "    if result == \"failure\":\n",
    "        failure += 1\n",
    "    else:\n",
    "        geometric.append(failure)\n",
    "        failure = 0\n",
    "        n += 1\n",
    "        \n",
    "plt.hist(geometric)\n",
    "plt.axvline(np.mean(geometric), color = \"red\")"
   ]
  },
  {
   "cell_type": "markdown",
   "metadata": {
    "colab_type": "text",
    "id": "Y_XYRuSOvR_J"
   },
   "source": [
    "### Poisson Distribution\n",
    "\n",
    "So you have a kid brother or sister who wants to play coin tosses. This can happen at any rare moment in *time* and this will most likely happen till infinity because kids want to \"do it again\" that many times. This will result in a larger n and a smaller p of the event happening. Using a binomial will not work as n is usually finite (limited number of attempts) and the probabilities are way too small of the event happening. This is how we would write it in maths terms:\n",
    "\n",
    "###### let n→∞ \n",
    "###### and p→0 \n",
    "###### in such a way that np→λ where np represents the mean\n",
    "\n",
    "\n",
    "Here's another example:\n",
    "\n",
    "Suppose that there is some event that is equally likely to occur at any point in time, say your facilitator popping his head over your shoulder to check that you're working on your introductory statistics tutorial instead of looking at pictures of otters on Facebook. Let the random variable $X$ be equal to the number of occurrences of this event in a given period of time, where we use the fixed parameter $\\lambda$ to represent the rate at which events occur per time period. The notation $X \\sim P(\\lambda)$ (that symbol $\\sim$ is read \"is distributed\") signifies that $X$ follows the Poisson distribution with parameter $\\lambda$, which has PMF as follows:\n",
    "\n",
    "\\begin{align}\n",
    "p(x) & = \\displaystyle \\frac{e^{-\\lambda} \\lambda^x}{x!} & & \\text{for } x = 0, 1, 2, \\ldots\\\\\n",
    "     & = 0 & & \\text{otherwise}\n",
    "\\end{align}"
   ]
  },
  {
   "cell_type": "markdown",
   "metadata": {
    "colab_type": "text",
    "id": "Uhx2ZU5AvR_L"
   },
   "source": [
    "- Poisson Distribution: Understand its application for rare events (e.g., number of customer service calls per hour).\n",
    "\n",
    "Suppose that your facilitator appearing unexpectedly occurs at the rate of 0.3 per hour, which is a rate of 2.4 per 8-hour day. Let's plot the PMF of the number of facilitator appearances expected in a workday:"
   ]
  },
  {
   "cell_type": "code",
   "execution_count": 3,
   "metadata": {
    "colab": {
     "base_uri": "https://localhost:8080/",
     "height": 374
    },
    "colab_type": "code",
    "executionInfo": {
     "elapsed": 2850,
     "status": "ok",
     "timestamp": 1574939802713,
     "user": {
      "displayName": "Jason Webster",
      "photoUrl": "",
      "userId": "13254939673721675351"
     },
     "user_tz": -120
    },
    "id": "BpP2C5ZKvR_L",
    "outputId": "52de5e96-457c-4b5c-a37a-0d336a354178"
   },
   "outputs": [
    {
     "data": {
      "image/png": "[encoded data removed]",
      "text/plain": [
       "<Figure size 720x432 with 1 Axes>"
      ]
     },
     "metadata": {},
     "output_type": "display_data"
    }
   ],
   "source": [
    "poisson_lambda = 2.4\n",
    "x = np.arange(0,11)\n",
    "px = st.poisson.pmf(x, poisson_lambda)\n",
    "\n",
    "plt.rcParams[\"figure.figsize\"] = (10,6)\n",
    "plt.plot(x, px, 'k', label = 'lambda = 2.4')\n",
    "plt.legend()\n",
    "plt.show()"
   ]
  },
  {
   "cell_type": "markdown",
   "metadata": {},
   "source": [
    "#### Poisson Distribution: \n",
    "\n",
    "It is a discrete distribution that describes the likelihood of a certain number of events occurring in a given time or space interval. It only has one parameter λ (the average number of events per interval)."
   ]
  },
  {
   "cell_type": "code",
   "execution_count": null,
   "metadata": {},
   "outputs": [],
   "source": [
    "###############################################\n",
    "# Code for generation a Poisson distribution\n",
    "###############################################\n",
    "\n",
    "\n",
    "from scipy.stats import poisson\n",
    "\n",
    "# Create a Poisson distribution with lambda=2\n",
    "mu = 2\n",
    "x = np.arange(poisson.ppf(0.01, mu), poisson.ppf(0.99, mu))\n",
    "plt.plot(x, poisson.pmf(x, mu), 'bo', ms=8)\n",
    "plt.show()"
   ]
  },
  {
   "cell_type": "code",
   "execution_count": null,
   "metadata": {},
   "outputs": [],
   "source": [
    "################################################\n",
    "# Simulation of a Poisson distribution\n",
    "################################################\n",
    "\n",
    "lam = 1\n",
    "poi = np.random.poisson(lam = lam, size= 1000)\n",
    "plt.hist(poi)\n",
    "plt.axvline(x= lam, c=\"red\")"
   ]
  },
  {
   "cell_type": "markdown",
   "metadata": {
    "colab_type": "text",
    "id": "xBEsyvrOvR_O"
   },
   "source": [
    "### Negative binomial distribution\n",
    "\n",
    "Suppose once again that we have a binomial process, where each trial is either a success or a failure. If we let $X$ represent the number of failures that occur before we hit a specific number of successes, usually denoted $r$, and $p$ is the probability of success on each trial, then $X \\sim NB(r,p)$, i.e. $X$ follows the negative binomial distribution with parameters $r$ and $p$ and has PMF:\n",
    "\n",
    "\\begin{align}\n",
    "p(x) & = \\binom{x+r-1}{x} p^r (1-p)^{x} & & \\text{for } x = 0, 1, \\ldots, n\\\\\n",
    "     & = 0 & & \\text{otherwise}\n",
    "\\end{align}\n",
    "\n",
    "You can derive this PMF in a similar way to the approach we took for the binomial distribution. Intuitively, each possible path that takes us to $r$ successes and $x$ failures must have probability $p^r (1-p)^x$. How many such combinations are there? Well, remember first of all that by our definition, the last trial must have been a success, so in the previous $x+r-1$ trials we will have had $x$ failures. There are $\\binom{x+r-1}{x}$ ways of arranging these\n",
    "$x$ failures and $r-1$ successes.\n",
    "\n",
    "Let's plot the PMF for $p = 0.3$ and $r$ equal to either 2 or 3.\n"
   ]
  },
  {
   "cell_type": "code",
   "execution_count": 4,
   "metadata": {
    "colab": {
     "base_uri": "https://localhost:8080/",
     "height": 374
    },
    "colab_type": "code",
    "executionInfo": {
     "elapsed": 2831,
     "status": "ok",
     "timestamp": 1574939802715,
     "user": {
      "displayName": "Jason Webster",
      "photoUrl": "",
      "userId": "13254939673721675351"
     },
     "user_tz": -120
    },
    "id": "DSXoc9VKvR_O",
    "outputId": "abd080fd-e9eb-4928-bf2a-6a5cb0a4c179"
   },
   "outputs": [
    {
     "data": {
      "image/png": "[encoded data removed]",
      "text/plain": [
       "<Figure size 720x432 with 1 Axes>"
      ]
     },
     "metadata": {},
     "output_type": "display_data"
    }
   ],
   "source": [
    "p = 0.3\n",
    "x = np.arange(0,11)\n",
    "r1 = 2\n",
    "px1 = st.nbinom.pmf(x, r1, p)\n",
    "r2 = 3\n",
    "px2 = st.nbinom.pmf(x, r2, p)\n",
    "\n",
    "plt.rcParams[\"figure.figsize\"] = (10,6)\n",
    "plt.plot(x, px1, 'k', label = 'p = 0.3, r = 2')\n",
    "plt.plot(x, px2, 'r', label = 'p = 0.3, r = 3')\n",
    "plt.legend()\n",
    "plt.show()"
   ]
  },
  {
   "cell_type": "markdown",
   "metadata": {
    "colab_type": "text",
    "id": "XzKhn3y2vR_R"
   },
   "source": [
    "## Continous Distribution\n",
    "\n",
    "### Normal Distribution\n",
    "\n",
    "The normal, or Gaussian, distribution is hugely important in statistical and data science work (although it has its limitations!)- one of its primary applications is in what's known as the Central Limit Theorem, which we'll refresh our memories about a little later. So it's worth spending a little time to understand it thoroughly.\n",
    "\n",
    "A normally distributed variable is continuous, and has PDF:\n",
    "\n",
    "$$ f(x) = \\displaystyle \\frac{1}{\\sqrt{2 \\pi \\sigma^2}} e^{-\\frac{1}{2} \\left( \\frac{x-\\mu}{\\sigma} \\right) ^2} $$\n",
    "\n",
    "for $x$ taking on any value on the real number line.\n",
    "\n",
    "You'll immediately have seen (won't you?) that the normal distribution has two parameters, $\\mu$ and $\\sigma$. These in fact are the mean and standard deviation of the distribution respectively; some of you will already be familiar with these concepts but for those who aren't, don't let it bother you just yet: we'll be explaining those in a little while.\n",
    "\n",
    "An important practical application is the **standard normal distribution**, which has $\\mu =0$ and $\\sigma = 1$, and hence PDF:\n",
    "\n",
    "$$ \\phi(x) = \\displaystyle \\frac{1}{\\sqrt{2 \\pi}} e^{-\\frac{1}{2} x^2} $$\n",
    "\n",
    "The normal distribution is bell-shaped: let's write a little Python code to illustrate that using ```matplotlib```. This time, just for fun, we'll evaluate the density directly from the above equation, rather than using the built-in ```scipy``` functions. But you can easily verify that you get the same results from the latter."
   ]
  },
  {
   "cell_type": "code",
   "execution_count": 5,
   "metadata": {
    "colab": {
     "base_uri": "https://localhost:8080/",
     "height": 374
    },
    "colab_type": "code",
    "executionInfo": {
     "elapsed": 2808,
     "status": "ok",
     "timestamp": 1574939802717,
     "user": {
      "displayName": "Jason Webster",
      "photoUrl": "",
      "userId": "13254939673721675351"
     },
     "user_tz": -120
    },
    "id": "6TdDFhovvR_S",
    "outputId": "e9476fc8-126c-4231-f848-18b801b58143"
   },
   "outputs": [
    {
     "data": {
      "image/png": "[encoded data removed]",
      "text/plain": [
       "<Figure size 720x432 with 1 Axes>"
      ]
     },
     "metadata": {},
     "output_type": "display_data"
    }
   ],
   "source": [
    "x = np.arange(-5,5,0.01)     # range of values for z\n",
    "mu = 0                       # mu = 0 for standard normal\n",
    "sigma = 1                    # mu = 1 for standard normal\n",
    "\n",
    "# now calculate f(x)\n",
    "f = 1 / np.sqrt ((2 * np.pi * sigma ** 2)) * np.exp (-0.5 * ((x - mu) / sigma) ** 2)\n",
    "\n",
    "plt.rcParams[\"figure.figsize\"] = (10,6)\n",
    "plt.plot(x,f,'k')\n",
    "plt.show()"
   ]
  },
  {
   "cell_type": "markdown",
   "metadata": {
    "colab_type": "text",
    "id": "0tkwG7B5vR_U"
   },
   "source": [
    "Why don't you mess about with the parameter values?\n",
    "\n",
    "What happens if you change the value of `sigma` to 0.5? And to 2?\n",
    "\n",
    "And what about if you leave `sigma` at 1 but change `mu` to 5?\n",
    "\n",
    "Oops. Why did that happen? What would you need to do to show the bell shape we'd like to see?\n"
   ]
  },
  {
   "cell_type": "markdown",
   "metadata": {
    "colab_type": "text",
    "id": "19klSSjvvR_V"
   },
   "source": [
    "Notation-wise, if $X$ is normally distributed with mean $\\mu$ and standard deviation $\\sigma$, then we denote this as $X \\sim N(\\mu, \\sigma^2)$. Note that the second parameter is by convention shown as $\\sigma^2$ rather than $\\sigma$ - you may recognise this as the variance of the distribution, but if not, don't worry, we're getting there soon!\n",
    "\n",
    "Remember that for continuous random variables, to calculate the probability of an outcome in a particular range, we need to use the cumulative distribution function. As we've seen above, this requires integrating the PDF. Unfortunately, there are no analytical solutions to this, but numerical methods can be used (don't worry if the mathematics of numerical integration are outside your range of expertise, as this is beyond our scope at this point; if you're interested, you can get a high-level overview at https://en.wikipedia.org/wiki/Numerical_integration). This has been encoded in handy tables with which you'll no doubt be familiar if you've done any university-level statistics, and of course, Python and `scipy` provide functions for us to evaluate. Let's define a function to calculate the probability of observation following the above distribution lying between arbitrary bounds $x_1$ and $x_2$, and then use that to calculate the probability of observation between 2 and 5. We use the simple logic here that the probability we're after is the probability of observation of less than $x_2$, less the probability of an observation less than $x_1$."
   ]
  },
  {
   "cell_type": "code",
   "execution_count": 6,
   "metadata": {
    "colab": {
     "base_uri": "https://localhost:8080/",
     "height": 36
    },
    "colab_type": "code",
    "executionInfo": {
     "elapsed": 2789,
     "status": "ok",
     "timestamp": 1574939802719,
     "user": {
      "displayName": "Jason Webster",
      "photoUrl": "",
      "userId": "13254939673721675351"
     },
     "user_tz": -120
    },
    "id": "i0OsbQapvR_W",
    "outputId": "b53617a9-98ea-4c37-ee80-e7444b056612"
   },
   "outputs": [
    {
     "data": {
      "text/plain": [
       "0.022749845296607285"
      ]
     },
     "execution_count": 6,
     "metadata": {},
     "output_type": "execute_result"
    }
   ],
   "source": [
    "def normal_prob (x1, x2, mu, sigma):\n",
    "    return (st.norm.cdf (x2, mu, sigma) - st.norm.cdf (x1, mu, sigma))\n",
    "\n",
    "normal_prob(2, 5, mu, sigma)"
   ]
  },
  {
   "cell_type": "markdown",
   "metadata": {},
   "source": [
    "### Probability Density Function (PDF) \n",
    "\n",
    "is a function that describes the probability distribution of a continuous random variable. It gives the probability that a random variable will take on a certain value, rather than falling within a certain range of values."
   ]
  },
  {
   "cell_type": "code",
   "execution_count": null,
   "metadata": {},
   "outputs": [],
   "source": [
    "# Example code for probability density function (PDF)\n",
    "\n",
    "from scipy.stats import norm\n",
    "\n",
    "# Define the parameters of the normal distribution\n",
    "mu = 0  # Mean\n",
    "sigma = 1  # Standard deviation\n",
    "\n",
    "# Create a normal distribution object\n",
    "normal_dist = norm(mu, sigma)\n",
    "\n",
    "# Calculate the probability density function (PDF) for x\n",
    "x = 1.5\n",
    "pdf_value = normal_dist.pdf(x)\n",
    "\n",
    "print(f\"The probability density function (PDF) at x = {x} is: {pdf_value}\")"
   ]
  },
  {
   "cell_type": "code",
   "execution_count": null,
   "metadata": {},
   "outputs": [],
   "source": [
    "######################################################\n",
    "# Code for generating Normal distribution\n",
    "######################################################\n",
    "\n",
    "from scipy.stats import norm\n",
    "import numpy as np\n",
    "arr2 = np.array([0.91,0.17,0.99996833, 0.81, 0.97,0.54])\n",
    "print(norm.ppf(arr2))"
   ]
  },
  {
   "cell_type": "code",
   "execution_count": null,
   "metadata": {},
   "outputs": [],
   "source": [
    "######################################################\n",
    "# Python code for generating a normal distribution\n",
    "######################################################\n",
    "\n",
    "import numpy as np\n",
    "import matplotlib.pyplot as plt\n",
    "\n",
    "mu, sigma = 0, 0.1 # mean and standard deviation\n",
    "s = np.random.normal(mu, sigma, 1000)\n",
    "\n",
    "count, bins, ignored = plt.hist(s, 30, density=True)\n",
    "plt.plot(bins, 1/(sigma * np.sqrt(2 * np.pi)) * np.exp( - (bins - mu)**2 / (2 * sigma**2) ), linewidth=2, color='r')\n",
    "plt.show()"
   ]
  },
  {
   "cell_type": "code",
   "execution_count": null,
   "metadata": {},
   "outputs": [],
   "source": [
    "#####################################################\n",
    "# Python code for generating a normal distribution 2\n",
    "#####################################################\n",
    "\n",
    "import numpy as np\n",
    "import matplotlib.pyplot as plt\n",
    "from scipy.stats import norm\n",
    "\n",
    "# Create a normal distribution with mean 0 and standard deviation 1\n",
    "mu, sigma = 0, 1\n",
    "x = np.linspace(mu - 3*sigma, mu + 3*sigma, 100)\n",
    "plt.plot(x, norm.pdf(x, mu, sigma))\n",
    "plt.show()"
   ]
  },
  {
   "cell_type": "code",
   "execution_count": null,
   "metadata": {},
   "outputs": [],
   "source": [
    "#################################################\n",
    "# Simulate a Normal distribution\n",
    "#################################################\n",
    "\n",
    "np.random.normal(mu,sigma,1000)"
   ]
  },
  {
   "cell_type": "code",
   "execution_count": null,
   "metadata": {},
   "outputs": [],
   "source": [
    "#################################################\n",
    "# Use the central Limit Theorem\n",
    "#################################################\n",
    "\n",
    "def clm(N,n):\n",
    "    # generate a sample from any random population\n",
    "    lis = np.random.random(size = N)\n",
    "    means = []\n",
    "    \n",
    "    # take and random sub sample within size n from N\n",
    "    for i in range(n):\n",
    "        lis_index = np.random.randint(0, N, n)\n",
    "        means.append(lis[lis_index].mean())\n",
    "        i += 1\n",
    "\n",
    "    # plot means\n",
    "    return plt.hist(means)\n",
    "\n",
    "clm(1000,1000)"
   ]
  },
  {
   "cell_type": "markdown",
   "metadata": {
    "colab_type": "text",
    "id": "dFo59ijLvR_Z"
   },
   "source": [
    "### Exponential distribution\n",
    "\n",
    "The exponential distribution is related to the Poisson process which underlies the Poisson distribution (a Poisson process is simply one in which events occur at the rate of $\\lambda$ per time period). Here, instead of modelling the number of events in a time period, as we did with the Poisson, we are interested in the time interval between events. Unlike the Poisson distribution, therefore, this is a continuous random variable. With $\\lambda$ defined as before, then the PDF for $X \\sim E(\\lambda)$ measuring the time between events is:\n",
    "\n",
    "\\begin{align}\n",
    "f(x) & = \\lambda e^{-\\lambda x}  & & \\text{for } x \\ge 0 \\\\\n",
    "     & = 0 & & \\text{otherwise}\n",
    "\\end{align}\n",
    "\n",
    "\n",
    "Let's go back to our 'facilitator wandering in' example, where $\\lambda = 0.3$ per hour. And then let's plot the probability density of the time interval between consecutive facilitator appearances:"
   ]
  },
  {
   "cell_type": "code",
   "execution_count": 7,
   "metadata": {
    "colab": {
     "base_uri": "https://localhost:8080/",
     "height": 374
    },
    "colab_type": "code",
    "executionInfo": {
     "elapsed": 3648,
     "status": "ok",
     "timestamp": 1574939803595,
     "user": {
      "displayName": "Jason Webster",
      "photoUrl": "",
      "userId": "13254939673721675351"
     },
     "user_tz": -120
    },
    "id": "-awn1zkSvR_Z",
    "outputId": "10dae5ef-7dce-49ff-f961-4eaf0da68c82"
   },
   "outputs": [
    {
     "data": {
      "image/png": "[encoded data removed]",
      "text/plain": [
       "<Figure size 720x432 with 1 Axes>"
      ]
     },
     "metadata": {},
     "output_type": "display_data"
    }
   ],
   "source": [
    "poisson_lambda = 0.3\n",
    "x = np.arange(0,5,0.01)\n",
    "dx = st.expon.pdf(x, scale = 1/poisson_lambda)\n",
    "\n",
    "plt.rcParams[\"figure.figsize\"] = (10,6)\n",
    "plt.plot(x, dx, 'k')\n",
    "plt.show()"
   ]
  },
  {
   "cell_type": "markdown",
   "metadata": {
    "colab_type": "text",
    "id": "FdBHQ4T6vR_c"
   },
   "source": [
    "Let's calculate the probability of a time interval of less than half an hour between consecutive lecturer appearances:"
   ]
  },
  {
   "cell_type": "code",
   "execution_count": 8,
   "metadata": {
    "colab": {
     "base_uri": "https://localhost:8080/",
     "height": 36
    },
    "colab_type": "code",
    "executionInfo": {
     "elapsed": 3626,
     "status": "ok",
     "timestamp": 1574939803596,
     "user": {
      "displayName": "Jason Webster",
      "photoUrl": "",
      "userId": "13254939673721675351"
     },
     "user_tz": -120
    },
    "id": "AaIDpBmpvR_d",
    "outputId": "7e4dc6ca-6158-4580-9e21-55c7f1fcd29c"
   },
   "outputs": [
    {
     "data": {
      "text/plain": [
       "0.1392920235749422"
      ]
     },
     "execution_count": 8,
     "metadata": {},
     "output_type": "execute_result"
    }
   ],
   "source": [
    "st.expon.cdf(0.5, scale = 1/poisson_lambda)"
   ]
  },
  {
   "cell_type": "markdown",
   "metadata": {},
   "source": [
    "#### Exponential Distribution: \n",
    "\n",
    "It is a continuous distribution that describes the time between events in a Poisson process, where events happen at random and independently. It only has one parameter λ (the rate of the Poisson process)."
   ]
  },
  {
   "cell_type": "code",
   "execution_count": null,
   "metadata": {},
   "outputs": [],
   "source": [
    "from scipy.stats import expon\n",
    "\n",
    "# Create an exponential distribution with lambda=0.5\n",
    "rate = 0.5\n",
    "x = np.linspace(0, 10, 100)\n",
    "plt.plot(x, expon.pdf(x, scale=1/rate))\n",
    "plt.show()"
   ]
  },
  {
   "cell_type": "code",
   "execution_count": null,
   "metadata": {},
   "outputs": [],
   "source": [
    "lam = 2\n",
    "exp = np.random.exponential(lam, 10000)\n",
    "plt.hist(exp)\n",
    "plt.axvline(x=lam, c=\"red\")"
   ]
  },
  {
   "cell_type": "markdown",
   "metadata": {},
   "source": [
    "To get am Exponential distribution,\n",
    "-  Using the CDF and Uniform distribution from (0,1) to simulate it."
   ]
  },
  {
   "cell_type": "code",
   "execution_count": null,
   "metadata": {},
   "outputs": [],
   "source": [
    "rate = 1/20\n",
    "inverse_cdf = np.random.uniform(0,1, size = 1000)\n",
    "\n",
    "interval = [-np.log(1-u)/rate for u in inverse_cdf]\n",
    "\n",
    "plt.hist(interval)"
   ]
  },
  {
   "cell_type": "markdown",
   "metadata": {
    "colab_type": "text",
    "id": "lR5CqN7NvR_g"
   },
   "source": [
    "### Uniform distribution\n",
    "\n",
    "As the name suggests, a uniformly distributed random variable will take on any value in a given interval with equal probability. The two key parameters are therefore the lower and upper points of the interval, usually denoted $a$ and $b$ respectively, and $X \\sim U(a,b)$ has PDF:\n",
    "\n",
    "\\begin{align}\n",
    "f(x) & = \\displaystyle \\frac{1}{b-a} & & \\text{for } a \\le x \\le b \\\\\n",
    "     & = 0 & & \\text{otherwise}\n",
    "\\end{align}\n",
    "\n",
    "This looks like the following:"
   ]
  },
  {
   "cell_type": "code",
   "execution_count": 9,
   "metadata": {
    "colab": {
     "base_uri": "https://localhost:8080/",
     "height": 393
    },
    "colab_type": "code",
    "executionInfo": {
     "elapsed": 3609,
     "status": "ok",
     "timestamp": 1574939803598,
     "user": {
      "displayName": "Jason Webster",
      "photoUrl": "",
      "userId": "13254939673721675351"
     },
     "user_tz": -120
    },
    "id": "s_H-WG6jtvdi",
    "outputId": "57c3d6f2-62a2-4a94-89f1-7e403ba6dfe8"
   },
   "outputs": [
    {
     "data": {
      "text/plain": [
       "[<matplotlib.lines.Line2D at 0x203e398bb38>]"
      ]
     },
     "execution_count": 9,
     "metadata": {},
     "output_type": "execute_result"
    }
   ],
   "source": [
    "a = 0\n",
    "b = 5\n",
    "\n",
    "x = np.linspace(a-1, b+1, 100)\n",
    "y = st.uniform.pdf(x, loc=a, scale=b-a)\n",
    "\n",
    "plt.plot(x, y, 'k')"
   ]
  },
  {
   "cell_type": "markdown",
   "metadata": {
    "colab_type": "text",
    "id": "M9eh1IC6tqX8"
   },
   "source": [
    "\n",
    "A little integration will tell you that the probability of an observation between $c$ and $d$, where $a < c < d < b$, is equal to $\\displaystyle \\frac{c - d}{b - a}$, which should strike you as intuitively correct given that the essence of a uniform distribution is that every possible observation between the lower and upper bounds is equally likely. Let's test:"
   ]
  },
  {
   "cell_type": "code",
   "execution_count": 10,
   "metadata": {
    "colab": {
     "base_uri": "https://localhost:8080/",
     "height": 36
    },
    "colab_type": "code",
    "executionInfo": {
     "elapsed": 3592,
     "status": "ok",
     "timestamp": 1574939803598,
     "user": {
      "displayName": "Jason Webster",
      "photoUrl": "",
      "userId": "13254939673721675351"
     },
     "user_tz": -120
    },
    "id": "FJJaayFSvR_h",
    "outputId": "ee21ac5d-7bed-4c80-b58b-b111282ebba0"
   },
   "outputs": [
    {
     "data": {
      "text/plain": [
       "0.19999999999999996"
      ]
     },
     "execution_count": 10,
     "metadata": {},
     "output_type": "execute_result"
    }
   ],
   "source": [
    "a = 0\n",
    "b = 5\n",
    "c = 2\n",
    "d = 3\n",
    "\n",
    "st.uniform.cdf(d, loc = a, scale =  b-a) - st.uniform.cdf(c, loc = a, scale = b-a)"
   ]
  },
  {
   "cell_type": "markdown",
   "metadata": {},
   "source": [
    "HA! Were you expecting exactly 2?  This is an example of python's [floating point precision](https://docs.python.org/3/tutorial/floatingpoint.html) limitations."
   ]
  },
  {
   "cell_type": "markdown",
   "metadata": {},
   "source": [
    "### Uniform Distribution\n",
    "\n",
    "Distribution with location (loc) and Scale (scale) parameters. Continuous distributions can be uniform or can take forms where some values have a higher probability than others."
   ]
  },
  {
   "cell_type": "code",
   "execution_count": null,
   "metadata": {},
   "outputs": [],
   "source": [
    "#################################################\n",
    "# Code for generating Uniform distribution\n",
    "#################################################\n",
    "\n",
    "from scipy.stats import uniform\n",
    "arr2 = np.array([5,6,7,12,34,67,89]) \n",
    "print (uniform.cdf(arr2, loc =4 , scale = 5))"
   ]
  },
  {
   "cell_type": "code",
   "execution_count": null,
   "metadata": {},
   "outputs": [],
   "source": [
    "#################################################\n",
    "# generate a random variable follows U(0,1)\n",
    "################################################\n",
    "\n",
    "np.random.uniform(0, 1, size = 1000)\n",
    "\n",
    "# use U(1,0) to generate U(a,b)\n",
    "def uniform(a,b):\n",
    "    return a + (b-a) * np.random.uniform(0, 1, size=1000)"
   ]
  },
  {
   "cell_type": "markdown",
   "metadata": {},
   "source": [
    "### Gamma Distribution:\n",
    "\n",
    "It is a continuous distribution that describes the time between k events in a Poisson process, where each event has a rate of λ. It has two parameters, k and λ."
   ]
  },
  {
   "cell_type": "code",
   "execution_count": null,
   "metadata": {},
   "outputs": [],
   "source": [
    "from scipy.stats import gamma\n",
    "\n",
    "# Create a gamma distribution with k=2 and lambda=0.5\n",
    "k, theta = 2, 1/0.5\n",
    "x = np.linspace(gamma.ppf(0.01, k), gamma.ppf(0.99, k), 100)\n",
    "plt.plot(x, gamma.pdf(x, k, scale=theta))\n",
    "plt.show()"
   ]
  },
  {
   "cell_type": "markdown",
   "metadata": {},
   "source": [
    "# Topic 3: Inferential Statistics\n",
    "\n",
    "Will cover these topics\n",
    "- Sampling and Sampling Distributions, \n",
    "- Confidence Intervals, \n",
    "- Hypothesis Testing\n",
    "\n",
    "## Sampling and Sampling Distributions\n",
    "\n",
    "Sampling is the process of selecting a subset (sample) from a larger set (population) to make inferences about the population. Sampling allows researchers to collect and analyze data without needing to observe the entire population, which is often impractical due to constraints like cost, time, or accessibility.\n",
    "\n",
    "##### Importance of Sampling:\n",
    "\n",
    "- Efficiency: Saves time and resources compared to studying an entire population.\n",
    "- Feasibility: Makes data collection manageable and possible in cases where it's otherwise impractical.\n",
    "- Statistical Validity: Enables accurate estimates of population parameters when done correctly, minimizing bias.\n",
    "\n",
    "### Types of Sampling Methods\n",
    "1. Probability Sampling: Every member of the population has a known, non-zero chance of being selected.\n",
    "- Simple Random Sampling: Each member has an equal probability of being chosen.\n",
    "- Systematic Sampling: Selects every kth element from a list after a random start.\n",
    "- Stratified Sampling: Divides the population into strata (subgroups) and samples from each stratum proportionally.\n",
    "- Cluster Sampling: Divides the population into clusters, then randomly selects clusters and samples all members within them.\n",
    "\n",
    "2. Non-Probability Sampling: Some members of the population may not have a chance of being included.\n",
    "- Convenience Sampling: Samples those easiest to access.\n",
    "- Judgmental (Purposive) Sampling: Involves researcher judgment to select participants.\n",
    "- Quota Sampling: Ensures representation of specific characteristics within the sample.\n",
    "- Snowball Sampling: Used for hard-to-reach populations, where existing participants recruit new ones.\n",
    "\n",
    "### Sampling Distributions\n",
    "A sampling distribution is the probability distribution of a given statistic based on a random sample. \n",
    "\n",
    "For example, \n",
    "- if you take multiple samples from a population and calculate the mean for each, the distribution of those means forms the sampling distribution of the mean.\n",
    "\n",
    "Key Points:\n",
    "- The shape of the sampling distribution depends on the sample size and the population distribution.\n",
    "- As sample size increases, the sampling distribution of the mean becomes approximately normal due to the **Central Limit Theorem**\n",
    "\n",
    "### Sampling Distribution \n",
    "\n",
    "is the distribution of the sample mean or other statistics, when the samples are selected randomly from a population. It is used to understand the behavior of a statistic when the samples are randomly selected from a population."
   ]
  },
  {
   "cell_type": "code",
   "execution_count": null,
   "metadata": {},
   "outputs": [],
   "source": [
    "############################################\n",
    "# Example code for sampling distribution\n",
    "############################################\n",
    "\n",
    "import numpy as np\n",
    "\n",
    "# Generate random samples from a population\n",
    "population = np.random.normal(0, 1, 1000)\n",
    "\n",
    "# Select a sample from the population\n",
    "sample_size = 100\n",
    "sample = np.random.choice(population, size=sample_size, replace=False)\n",
    "\n",
    "# Calculate the sample mean\n",
    "sample_mean = np.mean(sample)\n",
    "\n",
    "\n",
    "print(f\"The population value are: {population}\")\n",
    "print(f\"The sample mean is: {sample_mean}\")"
   ]
  },
  {
   "cell_type": "markdown",
   "metadata": {},
   "source": [
    "## Central Limit Theorem (CLT)\n",
    "Definition: \n",
    "- The CLT states that, given a sufficiently large sample size from a population with any distribution, the sampling distribution of the sample mean will approximate a normal distribution, regardless of the original population distribution.\n",
    "\n",
    "Intuition:\n",
    "- With larger samples, the average of the data tends to be more \"normal\" and centered around the population mean.\n",
    "- This theorem enables us to make inferences about population parameters using sample statistics, even if the population distribution is not normal.\n",
    "\n",
    "##### Why the CLT is Crucial:\n",
    "- Inferences: It allows us to use the normal distribution to make probability-based inferences about the population mean.\n",
    "- Confidence Intervals: Helps construct confidence intervals for population means.\n",
    "- Hypothesis Testing: Facilitates hypothesis tests for mean comparison.\n",
    "\n",
    "##### Exercise: \n",
    "\n",
    "Scenario: \n",
    "- A company wants to understand the average time customers spend on their website.\n",
    "\n",
    "Steps:\n",
    "- Simulate Data: Create a synthetic dataset that represents the population (e.g., website visit times).\n",
    "- Draw Samples: Draw multiple samples from this population and calculate their means.\n",
    "- Visualize: Show how the distribution of sample means becomes approximately normal as the sample size increases.\n",
    "- Apply CLT: Demonstrate how the sample means are used to estimate the population mean."
   ]
  },
  {
   "cell_type": "code",
   "execution_count": null,
   "metadata": {},
   "outputs": [],
   "source": [
    "import numpy as np\n",
    "import matplotlib.pyplot as plt\n",
    "import seaborn as sns\n",
    "\n",
    "# Step 1: Simulate population data\n",
    "np.random.seed(42)\n",
    "population = np.random.exponential(scale=30, size=10000)  # Simulate a population of website visit times\n",
    "\n",
    "# Step 2: Draw samples and calculate sample means\n",
    "sample_means = []\n",
    "sample_size = 30  # Sample size (can be adjusted)\n",
    "\n",
    "for _ in range(1000):  # Draw 1000 samples\n",
    "    sample = np.random.choice(population, size=sample_size, replace=True)\n",
    "    sample_means.append(np.mean(sample))\n",
    "\n",
    "# Step 3: Visualize sampling distribution\n",
    "sns.histplot(sample_means, kde=True, color='skyblue')\n",
    "plt.title('Sampling Distribution of the Mean (Sample Size = 30)')\n",
    "plt.xlabel('Sample Mean')\n",
    "plt.ylabel('Frequency')\n",
    "plt.show()\n",
    "\n",
    "# Step 4: Show the Central Limit Theorem in action\n",
    "print(f\"Population Mean: {np.mean(population):.2f}\")\n",
    "print(f\"Mean of Sample Means: {np.mean(sample_means):.2f}\")\n",
    "print(f\"Population Standard Deviation: {np.std(population):.2f}\")\n",
    "print(f\"Standard Deviation of Sample Means: {np.std(sample_means):.2f}\")\n"
   ]
  },
  {
   "cell_type": "markdown",
   "metadata": {},
   "source": [
    "##### Explanation of the Code:\n",
    "- Population: Simulated using an exponential distribution to show that even non-normal populations yield normal sampling distributions when sample size is large.\n",
    "- Samples: Drawn and the means calculated.\n",
    "- Visualization: The histogram of sample means demonstrates the CLT in action.\n",
    "- Outputs: Compare the mean of the population and the mean of the sample means to show consistency.\n",
    "\n",
    "Additional Important Concepts:\n",
    "- Sample Size and Accuracy: Larger sample sizes lead to smaller standard errors (i.e., more accurate sample means).\n",
    "- Standard Error: Measures the dispersion of sample means and decreases with larger samples.\n",
    "- Practical Threshold: A sample size of 30 or more is often sufficient for the CLT to hold.\n",
    "\n",
    "### Example:\n",
    "\n",
    "Analyzing average response times for customer support to ensure they align with service-level agreements (SLAs). By using sampling distributions and the CLT, data analysts can confidently infer overall response time performance from samples.\n",
    "\n",
    "### Central Limit Theorem\n",
    "\n",
    "The Central Limit Theorem states that the sampling distribution of the sample mean approaches a normal distribution as the sample size increases, regardless of the shape of the population distribution."
   ]
  },
  {
   "cell_type": "code",
   "execution_count": null,
   "metadata": {},
   "outputs": [],
   "source": [
    "################################################\n",
    "# Example code for Central Limit Theorem\n",
    "################################################\n",
    "\n",
    "import numpy as np\n",
    "import matplotlib.pyplot as plt\n",
    "\n",
    "# Generate random samples from a population\n",
    "population = np.random.normal(0, 1, 1000)\n",
    "\n",
    "# Select multiple samples from the population\n",
    "sample_size = 100\n",
    "num_samples = 1000\n",
    "\n",
    "sample_means = []\n",
    "\n",
    "for _ in range(num_samples):\n",
    "    sample = np.random.choice(population, size=sample_size, replace=False)\n",
    "    sample_mean = np.mean(sample)\n",
    "    sample_means.append(sample_mean)\n",
    "\n",
    "# Plot the sampling distribution\n",
    "plt.hist(sample_means, bins=10, density=True, alpha=0.7)\n",
    "plt.xlabel(\"Sample Mean\")\n",
    "plt.ylabel(\"Probability\")\n",
    "plt.title(\"Sampling Distribution\")\n",
    "plt.show()"
   ]
  },
  {
   "cell_type": "markdown",
   "metadata": {},
   "source": [
    "## Hypothersis Testing\n",
    "\n",
    "Hypothesis testing is a statistical method used to make inferences or draw conclusions about a population based on sample data. \n",
    "- It involves \n",
    "    - stating a null hypothesis and an alternative hypothesis, \n",
    "    - calculating test statistics, and \n",
    "    - comparing it to a critical value or p-value.\n",
    "\n",
    "### 1. Formulating Hypotheses: Null and Alternative Hypotheses\n",
    "In hypothesis testing, we start by forming two hypotheses:\n",
    "\n",
    "Null Hypothesis $(𝐻_0)$: This is a statement asserting that there is no effect or no difference. \n",
    "\n",
    "For example, \n",
    "\n",
    "$𝐻_0$ : The mean sales before and after a marketing campaign are the same.\n",
    "\n",
    "Alternative Hypothesis $(𝐻_1 or 𝐻_𝑎)$: This is the claim we are testing against the null hypothesis. \n",
    "\n",
    "For example, \n",
    "\n",
    "$𝐻_1$: The mean sales after the marketing campaign are higher than before.\n",
    "\n",
    "The goal of hypothesis testing is to determine whether the observed data provides enough evidence to reject $𝐻_0$ in favor of $𝐻_1$."
   ]
  },
  {
   "cell_type": "markdown",
   "metadata": {},
   "source": [
    "### 2. Types of Hypothesis Tests\n",
    "\n",
    "##### Z-test\n",
    "\n",
    "Use Case: When the sample size $𝑛>30$ (large samples) and the population standard deviation $𝜎$ is known.\n",
    "\n",
    "Example: \n",
    "- Testing if the average height of a sample group differs significantly from a known population mean.\n",
    "\n",
    "Assumptions:\n",
    "- Sample data should be approximately normally distributed (or $n>30$ for the Central Limit Theorem to apply).\n",
    "- The variance of the population is known."
   ]
  },
  {
   "cell_type": "code",
   "execution_count": null,
   "metadata": {},
   "outputs": [],
   "source": [
    "from scipy import stats\n",
    "\n",
    "# Sample data\n",
    "sample_mean = 75\n",
    "population_mean = 70\n",
    "population_std = 10\n",
    "n = 50\n",
    "\n",
    "# Calculate Z-score\n",
    "z_score = (sample_mean - population_mean) / (population_std / (n ** 0.5))\n",
    "p_value = 2 * (1 - stats.norm.cdf(abs(z_score)))\n",
    "\n",
    "print(f\"Z-score: {z_score}, p-value: {p_value}\")\n"
   ]
  },
  {
   "cell_type": "markdown",
   "metadata": {},
   "source": [
    "##### t-test\n",
    "Use Case: When the sample size is small $(n≤30)$ and/or the population standard deviation $𝜎$ is unknown.\n",
    "\n",
    "Types:\n",
    "- One-sample t-test: Compare the sample mean to a known value.\n",
    "- Two-sample t-test: Compare means of two independent groups.\n",
    "- Paired t-test: Compare means from the same group at different times.\n",
    "\n",
    "Assumptions:\n",
    "- Data should be approximately normally distributed (more crucial for smaller samples).\n",
    "- Samples are independent and have approximately equal variances (for two-sample t-tests)."
   ]
  },
  {
   "cell_type": "code",
   "execution_count": null,
   "metadata": {},
   "outputs": [],
   "source": [
    "# One-sample t-test\n",
    "sample_data = [12, 15, 14, 10, 13, 17, 12, 11]\n",
    "population_mean = 14\n",
    "t_stat, p_value = stats.ttest_1samp(sample_data, population_mean)\n",
    "\n",
    "print(f\"T-statistic: {t_stat}, p-value: {p_value}\")"
   ]
  },
  {
   "cell_type": "code",
   "execution_count": null,
   "metadata": {},
   "outputs": [],
   "source": [
    "################################################\n",
    "#  hypothesis testing - Two-sample t-test\n",
    "################################################\n",
    "\n",
    "from scipy.stats import ttest_ind\n",
    "\n",
    "# Define two samples\n",
    "sample1 = [10, 12, 15, 13, 11]\n",
    "sample2 = [14, 16, 18, 17, 19]\n",
    "\n",
    "# Perform a t-test\n",
    "t_statistic, p_value = ttest_ind(sample1, sample2)\n",
    "\n",
    "print(\"T-Statistic:\", t_statistic)\n",
    "print(\"P-Value:\", p_value)"
   ]
  },
  {
   "cell_type": "code",
   "execution_count": null,
   "metadata": {},
   "outputs": [],
   "source": [
    "##############################################\n",
    "# Hypothesis testng - Old blend of coffee vs new Blend of coffee satisfaction scores\n",
    "##############################################\n",
    "\n",
    "import numpy as np\n",
    "from scipy import stats\n",
    "\n",
    "# Generate dummy data for 2 samples\n",
    "np.random.seed(42) # this is for reproducibility\n",
    "old_blend_scores = np.random.normal(3.5,0.8, 50) # mean: 3.5 , std: 0.8\n",
    "new_blend_scores = np.random.normal(4.0, 0.8, 50) # mean:4.0 , std: 0.8\n",
    "\n",
    "# perform two-sample t-test (assuming equal variance)\n",
    "t_statistic, p_value = stats.ttest_ind(old_blend_scores, new_blend_scores)\n",
    "\n",
    "# Define significance level(alpha)\n",
    "alpha = 0.05\n",
    "\n",
    "# Print the results\n",
    "print(\"Hypothesis Testing and P-value\")\n",
    "print(\"-------------------------------\")\n",
    "print(\"Null Hypothesis(H0): There is no significant difference in customer satisfaction between old and new blend\")\n",
    "print(\"Altenative Hypothesis(H1): There is a significant difference in customer satisfaction between old and new blends.\")\n",
    "print(f\"T-Statistic: {t_statistic: .4f}\")\n",
    "print(f\"P-values: {p_value: .4f}\")\n",
    "print(f\"Significance Level (alpha): {alpha}\")\n",
    "print(\"________________________________\")\n",
    "\n",
    "# Compare the p-value with the significance level\n",
    "if p_value < alpha:\n",
    "    print(\"Result: we reject the null hypythosis.\")\n",
    "    print(\"Conclusion: There is a significant difference in the customer satisfaction between old and new blends\")\n",
    "else:\n",
    "    print(\"Result: We fail to reject the null hypothesis.\")\n",
    "    print(\"Conclusion: There is no signifance difference in the customer satisfaction between old and new blends.\")"
   ]
  },
  {
   "cell_type": "code",
   "execution_count": null,
   "metadata": {},
   "outputs": [],
   "source": [
    "# Null Hypothesis: Average height of students in a school is 5 feet\n",
    "# Alternative Hypothesis: Average height of students in a school is greater than 5 feet\n",
    "\n",
    "import numpy as np\n",
    "from scipy.stats import ttest_1samp\n",
    "\n",
    "heights = [5.1, 5.3, 5.5, 5.2, 5.7, 5.6, 5.4, 5.5, 5.3, 5.5]\n",
    "mu = 5 # Population mean height\n",
    "alpha = 0.05 # Significance level\n",
    "\n",
    "t_statistic, p_value = ttest_1samp(heights, mu)\n",
    "print(\"t-statistic:\", t_statistic)\n",
    "print(\"p-value:\", p_value)\n",
    "\n",
    "if p_value < alpha:\n",
    "    print(\"Reject null hypothesis\")\n",
    "else:\n",
    "    print(\"Fail to reject null hypothesis\")"
   ]
  },
  {
   "cell_type": "markdown",
   "metadata": {},
   "source": [
    "### Other real world Example:\n",
    "\n",
    "- A drug company claims that their medicine reduces blood pressure on average by 10 points.\n",
    "    - A pharmaceutical company wants to see if a new blood pressure medication is effective.\n",
    "        - The null hypothesis states that the medication has no effect on blood pressure,\n",
    "        - The alternative hypothesis states that the medication has an effect.\n",
    "    - To test this hypothesis, the pharmaceutical company could run a:\n",
    "        - one-sample t-test \n",
    "            - on a group of people with high blood pressure who have been given the medication. \n",
    "            - Then they could compare this sample’s mean blood pressure to the population’s mean blood pressure.\n",
    "        - two-sample t-test \n",
    "            - to compare the mean blood pressure of those who received the medication to those who received a placebo.\n",
    "            - to determine whether or not there is a statistically significant difference in mean blood pressure between the two groups.\n",
    "- A company wants to test whether their new website design leads to a higher conversion rate.\n",
    "- Compony wants to see if theres a signficant relationship between the colour of a car and the type of transmission it has.\n",
    "    - To test this hypothesis, \n",
    "        - The chi-square test is used to determine whether there is a statistically significant relationship between two categorical variables.\n",
    "- Test wheather Average height of students in a school is 5 feet or higher"
   ]
  },
  {
   "cell_type": "markdown",
   "metadata": {},
   "source": [
    "##### ANOVA (Analysis of Variance)\n",
    "\n",
    "Use Case: To compare means across three or more independent groups.\n",
    "\n",
    "Assumptions:\n",
    "- Each group should have a normally distributed data set.\n",
    "- Homogeneity of variances across the groups.\n",
    "\n",
    "Example: \n",
    "- Checking if three different teaching methods result in different exam scores among students."
   ]
  },
  {
   "cell_type": "code",
   "execution_count": null,
   "metadata": {},
   "outputs": [],
   "source": [
    "import numpy as np\n",
    "import statsmodels.api as sm\n",
    "from statsmodels.formula.api import ols\n",
    "\n",
    "# Sample data for three groups\n",
    "data = {\n",
    "    'score': [85, 90, 88, 78, 94, 91, 76, 84, 82, 89],\n",
    "    'group': ['A', 'A', 'A', 'B', 'B', 'B', 'C', 'C', 'C', 'C']\n",
    "}\n",
    "\n",
    "# Creating a dataframe and applying ANOVA\n",
    "import pandas as pd\n",
    "df = pd.DataFrame(data)\n",
    "\n",
    "model = ols('score ~ C(group)', data=df).fit()\n",
    "anova_table = sm.stats.anova_lm(model, typ=2)\n",
    "\n",
    "print(anova_table)"
   ]
  },
  {
   "cell_type": "markdown",
   "metadata": {},
   "source": [
    "# Assumptions\n",
    "\n",
    "Understanding the key assumptions in statistical modeling is essential for interpreting results accurately and ensuring that models produce reliable insights. Here's an overview of the strong assumptions commonly associated with many statistical models, including linear regression.\n",
    "\n",
    "### 1. Linearity\n",
    "Definition: \n",
    "- Linearity assumes that the relationship between the independent (predictor) variables and the dependent (response) variable is linear. \n",
    "- This means that a change in the independent variable corresponds to a proportional change in the dependent variable.\n",
    "\n",
    "Importance: \n",
    "- This assumption is crucial for models like linear regression because these models aim to fit a linear function to the data. \n",
    "- If the actual relationship is non-linear, using a linear model may lead to biased or misleading results.\n",
    "\n",
    "Implications in Statistics: \n",
    "- Linearity simplifies analysis and interpretation, allowing us to make straightforward conclusions about how changes in predictors influence the outcome.\n",
    "\n",
    "How to Check: \n",
    "- Visualize scatter plots of the independent and dependent variables or use residual plots (the plot of residuals versus predicted values) to see if there is a non-linear pattern. \n",
    "- If there is a curve or trend, the linearity assumption might be violated.\n",
    "\n",
    "Solutions if Violated: \n",
    "- Use transformations of the data (e.g., log, square root) or apply non-linear models such as \n",
    "    - polynomial regression, \n",
    "    - decision trees, or \n",
    "    - generalized additive models (GAMs).\n",
    "\n",
    "#### Example: \n",
    "You are predicting house prices based on features like square footage, number of bedrooms, and distance from the city center.\n",
    "\n",
    "Diagnosing Linearity:\n",
    "\n",
    "Scatter Plot: \n",
    "- Plot the dependent variable (e.g., house price) against each independent variable (e.g., square footage). \n",
    "- If you see a curved or non-linear pattern, the assumption of linearity is likely violated.\n",
    "\n",
    "Residual Plot: \n",
    "- Plot the residuals against the predicted values. \n",
    "    - A non-random pattern (e.g., a U-shape) indicates non-linearity.\n",
    "\n",
    "Solutions:\n",
    "\n",
    "Transform Variables: \n",
    "- Apply transformations like the \n",
    "    - logarithm, \n",
    "    - square root, or \n",
    "    - polynomial terms to make the relationship more linear. \n",
    "        - For example, using log(price) instead of price can sometimes linearize relationships.\n",
    "\n",
    "Use Non-linear Models: \n",
    "- Consider models like \n",
    "    - polynomial regression or \n",
    "    - splines if transformations don't suffice. \n",
    "        - For example, a quadratic regression model (y = β₀ + β₁x + β₂x²) can model a parabolic trend.\n",
    "\n",
    "Apply More Flexible Models: \n",
    "- Use machine learning models such as decision trees or gradient boosting models, which do not assume linear relationships.\n",
    "\n",
    "### 2. Normality\n",
    "Definition: \n",
    "- The normality assumption states that the residuals (errors) of the model should be normally distributed. \n",
    "- This is less about the distribution of the dependent variable itself and more about the distribution of the errors after fitting the model.\n",
    "\n",
    "Importance: \n",
    "- Normality of residuals is critical for conducting hypothesis tests and building confidence intervals. \n",
    "- It ensures that the statistical inference drawn from the model (e.g., p-values and confidence intervals) is valid.\n",
    "\n",
    "Implications in Statistics: \n",
    "- If residuals are not normally distributed, the results of hypothesis tests may be unreliable, leading to incorrect conclusions about the significance of predictors.\n",
    "\n",
    "How to Check: \n",
    "- Use a Q-Q (quantile-quantile) plot or histogram of residuals to visually inspect normality. \n",
    "- A Q-Q plot that aligns closely with a 45-degree line suggests normal distribution.\n",
    "\n",
    "Solutions if Violated: \n",
    "- Apply data transformations (e.g., log or Box-Cox transformations) or use non-parametric methods that do not assume normality, such as\n",
    "    - bootstrapping.\n",
    "\n",
    "\n",
    "\n",
    "### 3. Homoscedasticity\n",
    "Definition: \n",
    "- Homoscedasticity means that the variance of the errors (residuals) is constant across all levels of the independent variable(s). \n",
    "- In other words, the spread of the residuals should be similar regardless of the value of the predictors.\n",
    "\n",
    "Importance: \n",
    "- Homoscedasticity ensures that the model provides equally reliable predictions across all values of the independent variables. \n",
    "- Violations can lead to inefficiencies in estimating coefficients and make hypothesis tests less powerful.\n",
    "\n",
    "Implications in Statistics: \n",
    "- If the residuals exhibit increasing or decreasing spread (heteroscedasticity), the model might overestimate or underestimate the variability, affecting the accuracy of prediction intervals and standard errors.\n",
    "\n",
    "How to Check: \n",
    "- Create a residuals versus predicted values plot. If the residuals fan out or show a funnel shape, there is evidence of heteroscedasticity.\n",
    "\n",
    "Solutions if Violated: \n",
    "- Use weighted least squares regression or transform the dependent variable to stabilize variance. Robust standard errors can also be used to correct the standard errors.\n",
    "\n",
    "### 4. Independence of Errors\n",
    "Definition: \n",
    "- The assumption of independence means that the residuals should be independent of one another.\n",
    "-  This means that the error for one observation should not influence or be correlated with the error of another.\n",
    "\n",
    "Importance: \n",
    "- This assumption is crucial when working with time-series data or clustered data. \n",
    "- Violations often indicate that there is autocorrelation, which can bias standard errors and lead to incorrect inferences.\n",
    "\n",
    "Implications in Statistics: \n",
    "- Lack of independence (e.g., serial correlation in time-series data) undermines the validity of statistical tests and model performance.\n",
    "\n",
    "How to Check: \n",
    "- Use the Durbin-Watson test for autocorrelation or visually inspect autocorrelation plots for time-series data.\n",
    "\n",
    "Solutions if Violated: \n",
    "- Introduce lag variables, use time-series specific models like ARIMA, or apply generalized least squares.\n",
    "\n",
    "### 5. Multicollinearity\n",
    "Definition: \n",
    "- Multicollinearity occurs when two or more independent variables are highly correlated. \n",
    "- This leads to difficulty in estimating the unique effect of each predictor on the dependent variable.\n",
    "\n",
    "Importance: \n",
    "- High multicollinearity can inflate the standard errors of the coefficient estimates, making it hard to determine which predictors are significant and may lead to unstable coefficients.\n",
    "\n",
    "Implications in Statistics: \n",
    "- It reduces the model's interpretability because it becomes hard to tell which variable is driving the effect on the dependent variable.\n",
    "\n",
    "How to Check: \n",
    "- Calculate the Variance Inflation Factor (VIF); a VIF above 10 is often considered indicative of multicollinearity.\n",
    "\n",
    "Solutions if Violated: \n",
    "- Remove or combine correlated variables, use dimensionality reduction techniques (e.g., Principal Component Analysis), or apply regularization methods like Lasso or Ridge regression.\n",
    "\n",
    "## Interpretability in the Context of Statistics\n",
    "Interpretability refers to how well we can understand and explain the results and mechanisms of a model. Linear regression models are highly interpretable because we can clearly see how each independent variable contributes to the dependent variable. More complex models, like random forests or deep learning models, may provide better predictive power but can be harder to interpret. Striking a balance between model complexity and interpretability is often key in practice, especially when results must be communicated to non-technical stakeholders."
   ]
  },
  {
   "cell_type": "markdown",
   "metadata": {
    "colab_type": "text",
    "id": "d2wYX-pxsTH-"
   },
   "source": [
    "## Conclusion\n",
    "\n",
    "The first concept was to understand the two streams of statisitcs, being _inferential_ and _descriptive_ and how they differ. We then discussed how to identify different kinds of variables and this will become important when deciding on what you want to predict (eg, predict a class \"yes\" or a \"no\" situation or an actual value such as a price). Lastly, we discussed how data would look if it were represented with curves - the distribution of the data; it dealt with different patterns and how data metrics can be explained visually.\n",
    "\n",
    "In the section below, there is a section on logistic functions which is also a common algorithm for machine learning! "
   ]
  },
  {
   "cell_type": "markdown",
   "metadata": {
    "colab_type": "text",
    "id": "jQUYPzm25GWt"
   },
   "source": [
    "## Appendix\n",
    "\n",
    "* https://www.fd.cvut.cz/department/k611/PEDAGOG/THO_A/A_soubory/statistics_firstfive.pdf\n",
    "* https://www.math.arizona.edu/~jwatkins/statbook.pdf\n",
    "* https://library2.lincoln.ac.nz/documents/Normal-Binomial-Poisson.pdf --> further reading with example questions\n",
    "* https://towardsdatascience.com/machine-learning-probability-statistics-f830f8c09326 --> Great supplementary read"
   ]
  }
 ],
 "metadata": {
  "colab": {
   "collapsed_sections": [],
   "name": "V2_Intro To Statistics - Probability & Distributions (1).ipynb",
   "provenance": []
  },
  "kernelspec": {
   "display_name": "Python 3",
   "language": "python",
   "name": "python3"
  },
  "language_info": {
   "codemirror_mode": {
    "name": "ipython",
    "version": 3
   },
   "file_extension": ".py",
   "mimetype": "text/x-python",
   "name": "python",
   "nbconvert_exporter": "python",
   "pygments_lexer": "ipython3",
   "version": "3.7.4"
  }
 },
 "nbformat": 4,
 "nbformat_minor": 1
}
