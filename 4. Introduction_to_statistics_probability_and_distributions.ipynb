{
 "cells": [
  {
   "cell_type": "markdown",
   "metadata": {
    "colab_type": "text",
    "id": "ywumyYkxvR-u"
   },
   "source": [
    "# Introduction To Statistics - Probability & Distributions\n",
    "\n",
    "© Explore Data Science Academy"
   ]
  },
  {
   "cell_type": "markdown",
   "metadata": {
    "colab_type": "text",
    "id": "C4m0jEFcvR-w"
   },
   "source": [
    "## Learning Objectives\n",
    "By the end of this train, you should be able to:\n",
    "\n",
    "* Distinguish between Inferential and Descriptive Statistics;\n",
    "* Describe and identify the different variable and data types;\n",
    "* Utilise the stats package scipy in python;\n",
    "* Understand the concepts of random variables;\n",
    "* Understand probability functions; and\n",
    "* Differentiate and explain different distributions.\n",
    "\n",
    "## Outline\n",
    "In this train we will:\n",
    "* Explore some introductory statistical concepts;\n",
    "* Introduce probability; and\n",
    "* Introduce different distributions."
   ]
  },
  {
   "cell_type": "markdown",
   "metadata": {
    "colab_type": "text",
    "id": "1VHOn0PHaiaz"
   },
   "source": [
    "## Introduction\n",
    "\n",
    "Within the realm of data, probabilities and distributions are extremely important. These concepts will provide a vital basis when moving on to related technical fields such as machine learning, modelling, and algorithmic development.   \n",
    "\n",
    "Statistics can be broken down into two avenues - Descriptive & Inferential. The best comparison between the two is described in Keone Hon's *Introduction to Statistics* - \"Descriptive statistics is used to say something about a set of information that has been collected only. Inferential statistics is used to make predictions or comparisons about a larger group (a population) using information gathered about a small part of that population. Thus, inferential statistics involves generalizing beyond the data, something that descriptive statistics does not do.\"\n",
    "\n",
    "So think of descriptive stats as how we describe data (mean, mode and median, for example) and inferential statistics as how we can make assumptions using the data (hypothesis testing and confidence intervals, for example).\n",
    "\n",
    "### Types of Data and Variables\n",
    "\n",
    "1. Nominal Data\n",
    " - 1.1 Binary Data - two distinct data types (yes/no or true/false)\n",
    " - 1.2 Categorical Data -  many data types (primary/secondary/tertiary)\n",
    "\n",
    "2.  Ordinal Data - a number used in scoring that implies an order. An example is a rank from 0 to 5 (this is considered categorical)\n",
    "\n",
    "3.  Continous Data (Interval data) - variable with any number (Blood pressure or seconds)\n",
    "\n",
    "4.  Discrete Variables - variables which hold a whole number; can be used as a counting number (Number of Explore graduates who have been placed into jobs)"
   ]
  },
  {
   "cell_type": "markdown",
   "metadata": {
    "colab_type": "text",
    "id": "kiGa1e-cvR-1"
   },
   "source": [
    "## Probability - the chance of everything happening\n",
    "\n",
    "This section is going to introduce you to the world of probability and show you how powerful python packages can help you compute the numbers related to probability. \n",
    "\n",
    "To refresh your memory or start you off on basic probabilities, read up in *Chapter 3* of [Keone's textbook](https://www.fd.cvut.cz/department/k611/PEDAGOG/THO_A/A_soubory/statistics_firstfive.pdf).\n",
    "You could then go have a look at how those concepts are implemented in python [here](https://www.datacamp.com/community/tutorials/statistics-python-tutorial-probability-1).\n",
    "\n",
    "Let's start off by importing some important packages in python:"
   ]
  },
  {
   "cell_type": "code",
   "execution_count": 2,
   "metadata": {
    "colab": {},
    "colab_type": "code",
    "collapsed": true,
    "id": "UouT0xT5vR-3"
   },
   "outputs": [],
   "source": [
    "import numpy as np\n",
    "import scipy.stats as st #read this documentation and refer to documentation on the super stats package\n",
    "import matplotlib.pyplot as plt"
   ]
  },
  {
   "cell_type": "markdown",
   "metadata": {
    "colab_type": "text",
    "id": "uLXscBBIvR-6"
   },
   "source": [
    "### Random Variables \n",
    "\n",
    "In probability theory, we defined the concept of the sample space $S$ as the set of all possible events; we can think of this as representing all of the possible outcomes of an experiment whose outcome is unknown at the outset. For example, getting dressed in the morning we reach blindly into the drawer to pull out a pair of socks, knowing that there are white, black and blue socks in there.\n",
    "\n",
    "We can think of this as an experiment: we know what all the possible outcomes are, and if we know something about how many pairs of each colour sock we own, we also know something about the probabilities of those outcomes. But we don't know the actual outcome until we pull our hand back out and examine the pair of socks it's clutching.\n",
    "\n",
    "We can define a variable $X$ to stand for the values of the possible outcomes. This $X$ is what we define as a **random variable**: one which can take on a range of possible values and whose actual value is unknown until completion of the experiment.\n",
    "\n",
    "Other classic examples include the tossing of a coin or the rolling of a die.\n",
    "\n",
    "### Discrete Random Variables \n",
    "\n",
    "Discrete random variables can only take on specific values. Our sock, coin and die examples above are all discrete: the possibilities are {white, black,blue}, {heads, tails} and {1, 2, 3, 4, 5, 6} respectively.\n",
    "\n",
    "Usually, we'll be looking at problems where the outcomes are real numbers, as in the die example. Where they're not, as in the coin example, we would usually proceed by assigning a numeric value to each of the possible outcomes, e.g. 1 for heads and 2 for tails. Most common discrete random variables take on integer values, but that's not necessarily the case: if there are either 2 or 3 people coming to share a pizza with me, and we share equally, then the possible outcomes for me are one-quarter and one-third of a pizza."
   ]
  },
  {
   "cell_type": "markdown",
   "metadata": {
    "colab_type": "text",
    "id": "yXbUTvSXvR-8"
   },
   "source": [
    "## Probability mass and probability density functions\n",
    "\n",
    "We need some mathematical language to describe the probabilities of the various possible outcomes of random variables (what we refer to as **probability distributions**). Random variables have functions which map their outcomes onto their corresponding probabilities. These are most easily described in the case of discrete random variables, whose **probability mass functions** $p(x)$ directly map a given outcome $x$ onto the probability of $x$ being observed in a given trial.\n",
    "\n",
    "There are three conditions which a probability mass function (PMF) must fulfil:\n",
    "\n",
    "1. $p(x)$ is defined for all $x$, but $p(x)>0$ only for a finite set of points. (Or countably infinite set of points, but that's a subtlety we can happily ignore at this stage.)\n",
    "\n",
    "2. $0 \\le p(x) \\le 1$ for all $x$. Intuitively, the bounds on a probability are 0 for an outcome that can never be observed and 1 for a certain outcome.\n",
    "\n",
    "3. $\\displaystyle \\sum_x p(x) = 1$. Observing one of the range of all possible outcomes is certain, and hence probabilities must sum to 1.\n",
    "\n",
    "Consider the coin toss, coding heads as 1 and tails as 2. We have that $p(1) = p(2) = 0.5$ and $p(x) = 0$ for all $x \\neq 1,2$, hence all three conditions hold and the probability mass function for the coin toss is a valid PMF.\n"
   ]
  },
  {
   "cell_type": "markdown",
   "metadata": {
    "colab_type": "text",
    "id": "7yKSMUzMvR-9"
   },
   "source": [
    "Continuous random variables are a little more tricky, conceptually. For discrete variables, the probability mass function tells us directly the probability of individual outcomes, or (by summing) of groups of outcomes. \n",
    "For example, the PMF for the roll of a die is $p(x) = 1/6$ for $x \\in 1, 2, 3, 4, 5, 6$. We can see directly that there is a one-in-six chance of rolling a three, or a 50% chance $(1/6 + 1/6 + 1/6)$ of rolling a four or above. But for continuous random variables, the probability of achieving a very specific outcome is in fact zero. This sounds a little counter-intuitive, I know, but it has to do with the infinite divisibility of outcomes. \n",
    "Therefore, for a continuous random variable, we must think in terms of the probability of achieving an outcome between two limits. For example, for the 400m world record, we could think of the probability of Wayde van Niekerk running another 43.03 second race, rounded to the nearest hundredth of a second, as the probability of time between 43.025 and 43.035 seconds."
   ]
  },
  {
   "cell_type": "markdown",
   "metadata": {
    "colab_type": "text",
    "id": "tjQPlrNhvR--"
   },
   "source": [
    "We, therefore, can't directly define a probability mass function for continuous random variables; instead, we define what is known as a **probability density function** (PDF). There are also three conditions for PDFs which are conventionally written as $f(x)$:\n",
    "\n",
    "1. $f(x)$ must be defined for all values of $x$.\n",
    "\n",
    "2. All values of $f(x)$ are non-negative (note there is no upper bound on this, unlike $p(x)$ for a discrete random variable).\n",
    "\n",
    "3. Finally, $\\displaystyle \\int_{-\\infty}^{\\infty} f(x) dx = 1$.\n",
    "\n",
    "The last condition is the equivalent of the requirement that all probability masses sum to 1 for a discrete random variable. Probabilities for continuous variables are found by integration, which is after all the continuous analogue to summation, and this condition enforces that the integral of the probability densities over all possible values of $x$ comes to 1, as necessary for a valid probability distribution. To continue with our 400m example, we would evaluate the probability we're after by integrating between 43.025 and 43.035 seconds. We'd find the probability of Wayde breaking his own world record by integrating over the interval 0 (or negative infinity, but negative times are of course not possible so we can safely ignore this part of the real number line) to 43.025 seconds."
   ]
  },
  {
   "cell_type": "markdown",
   "metadata": {
    "colab_type": "text",
    "id": "BNuzrfCVvR-_"
   },
   "source": [
    "### Cumulative distribution functions\n",
    "\n",
    "Cumulative distribution functions (CDFs, or just distribution functions), usually denoted $F(x)$, give the probability that a random variable $X$ takes on a value less than or equal to some given value $x$. In other words, $$F(x) = P(X \\le x).$$\n",
    "\n",
    "Before you read further, see if you can figure out how $F(x)$ would be defined for a discrete and a continuous random variable respectively.\n",
    "\n",
    "That's right: for a discrete variable it would be \n",
    "\n",
    "$$F(x) = \\sum_{t \\le x} p(t),$$ \n",
    "\n",
    "and for a continuous random variable we would define the distribution function as \n",
    "\n",
    "$$F(x) = \\int_{-\\infty}^x f(t) \\: dt.$$\n",
    "\n",
    "\n",
    "If you are confused on CDF's, go to [this link](https://www.countbayesie.com/blog/2015/4/4/parameter-estimation-the-pdf-cdf-and-quantile-function) for another explanation of CDF's "
   ]
  },
  {
   "cell_type": "markdown",
   "metadata": {
    "colab_type": "text",
    "id": "oafP7ncxvR_B"
   },
   "source": [
    "## Distributions - mapping your data"
   ]
  },
  {
   "cell_type": "markdown",
   "metadata": {
    "colab_type": "text",
    "id": "zusDWczYvR_C"
   },
   "source": [
    "There are 2 categories of distributions with their respective distributions:\n",
    "\n",
    "1. Discrete Distributions:\n",
    " - Binomial\n",
    " - Poisson\n",
    " - Negative Binomial\n",
    "<br>\n",
    "2. Continuous Distributions:\n",
    " - Normal\n",
    " - Exponential\n",
    " - Uniform\n",
    " \n",
    "A bonus graph that we will touch on is the logistic graph which plays a prominent part in classification techniques when we focus on machine learning. \n",
    "\n",
    "### Binomial Distribution \n",
    "\n",
    "A binomial process is a series of independent trials of an experiment with two possible outcomes; a series of coin tosses is a good example. It's easy to figure out the probability of one coin toss landing on heads; it requires a little more insight (but is still easy enough) to figure out the probability of two tails on two consecutive tosses; but it's not nearly so straightforward to figure out the probability of thirty heads and twenty tails when we toss the coin fifty times.\n",
    "\n",
    "Let the random variable $X$ be the number of a particular outcome in a binomial process with $n$ independent trials where $p$ is the probability of the outcome in question for any individual trial. Then $X$ has the binomial distribution, whose PMF is given by\n",
    "\n",
    "\\begin{align}\n",
    "p(x) & = \\binom{n}{x} \\: p^x \\: (1-p)^{n-x} & & \\text{for } x = 0, 1, \\ldots, n\\\\\n",
    "     & = 0 & & \\text{otherwise}\n",
    "\\end{align}"
   ]
  },
  {
   "cell_type": "markdown",
   "metadata": {
    "colab_type": "text",
    "id": "ZF3btgQZvR_D"
   },
   "source": [
    "It isn't hard to see how this is derived. With $n$ trials, there are $2^n$ possible specific outcomes for the trial. For example, if $n=3$ and we're tossing a coin, so $p=0.5$, the possible outcomes are (with Heads denoted H and Tails denoted T):\n",
    "\n",
    "H, H, H\n",
    "\n",
    "H, H, T\n",
    "\n",
    "H, T, H\n",
    "\n",
    "H, T, T\n",
    "\n",
    "T, H, H\n",
    "\n",
    "T, H, T\n",
    "\n",
    "T, T, H\n",
    "\n",
    "T, T, T\n",
    "\n",
    "Because $p = 0.5 = (1-p)$, each of those outcomes has probability $0.5^3 = 0.125$. But with our random variable $X$, we're not interested in the specific ordering of the outcomes, but only in how many of a particular outcome were observed. Only one outcome delivers three heads, and only one delivers zero heads. But for two heads and one head respectively, we can see that there are three possibilities.\n",
    "\n",
    "The sharp among you will have realised that this is just an examble of the combination logic we learned about in the probability module: there is $\\binom{3}{3} = 1$ outcome with three heads, $\\binom{3}{2} = 3$ outcomes with two heads, and so on; or, in general, $\\binom{3}{x}$ outcomes with $x$ heads. The binomial distribution PMF above is simply the generalisation of this logic to any $n$, $x$ and $p$.\n",
    "\n",
    "Let's plot the PMF for 10 trials, where $p$ is alternately 0.1 and 0.5."
   ]
  },
  {
   "cell_type": "code",
   "execution_count": 2,
   "metadata": {
    "colab": {
     "base_uri": "https://localhost:8080/",
     "height": 374
    },
    "colab_type": "code",
    "executionInfo": {
     "elapsed": 1694,
     "status": "ok",
     "timestamp": 1574939801537,
     "user": {
      "displayName": "Jason Webster",
      "photoUrl": "",
      "userId": "13254939673721675351"
     },
     "user_tz": -120
    },
    "id": "eIvJZ64hvR_E",
    "outputId": "139e49ae-bb26-4e94-8bfd-e223341b9cc0"
   },
   "outputs": [
    {
     "data": {
      "image/png": "[encoded data removed]",
      "text/plain": [
       "<Figure size 720x432 with 1 Axes>"
      ]
     },
     "metadata": {},
     "output_type": "display_data"
    }
   ],
   "source": [
    "n = 10\n",
    "x = np.arange(0,11)\n",
    "p1 = 0.1\n",
    "px1 = st.binom.pmf(x, n, p1)\n",
    "p2 = 0.5\n",
    "px2 = st.binom.pmf(x, n, p2)\n",
    "\n",
    "plt.rcParams[\"figure.figsize\"] = (10,6)\n",
    "plt.plot(x, px1, 'k', label = 'p = 0.1')\n",
    "plt.plot(x, px2, 'r', label = 'p = 0.5')\n",
    "plt.legend()\n",
    "plt.show()"
   ]
  },
  {
   "cell_type": "markdown",
   "metadata": {
    "colab_type": "text",
    "id": "Y_XYRuSOvR_J"
   },
   "source": [
    "### Poisson Distribution\n",
    "\n",
    "So you have a kid brother or sister who wants to play coin tosses. This can happen at any rare moment in *time* and this will most likely happen till infinity because kids want to \"do it again\" that many times. This will result in a larger n and a smaller p of the event happening. Using a binomial will not work as n is usually finite (limited number of attempts) and the probabilities are way too small of the event happening. This is how we would write it in maths terms:\n",
    "\n",
    "###### let n→∞ \n",
    "###### and p→0 \n",
    "###### in such a way that np→λ where np represents the mean\n",
    "\n",
    "\n",
    "Here's another example:\n",
    "\n",
    "Suppose that there is some event that is equally likely to occur at any point in time, say your facilitator popping his head over your shoulder to check that you're working on your introductory statistics tutorial instead of looking at pictures of otters on Facebook. Let the random variable $X$ be equal to the number of occurrences of this event in a given period of time, where we use the fixed parameter $\\lambda$ to represent the rate at which events occur per time period. The notation $X \\sim P(\\lambda)$ (that symbol $\\sim$ is read \"is distributed\") signifies that $X$ follows the Poisson distribution with parameter $\\lambda$, which has PMF as follows:\n",
    "\n",
    "\\begin{align}\n",
    "p(x) & = \\displaystyle \\frac{e^{-\\lambda} \\lambda^x}{x!} & & \\text{for } x = 0, 1, 2, \\ldots\\\\\n",
    "     & = 0 & & \\text{otherwise}\n",
    "\\end{align}"
   ]
  },
  {
   "cell_type": "markdown",
   "metadata": {
    "colab_type": "text",
    "id": "Uhx2ZU5AvR_L"
   },
   "source": [
    "Suppose that your facilitator appearing unexpectedly occurs at the rate of 0.3 per hour, which is a rate of 2.4 per 8-hour day. Let's plot the PMF of the number of facilitator appearances expected in a workday:"
   ]
  },
  {
   "cell_type": "code",
   "execution_count": 3,
   "metadata": {
    "colab": {
     "base_uri": "https://localhost:8080/",
     "height": 374
    },
    "colab_type": "code",
    "executionInfo": {
     "elapsed": 2850,
     "status": "ok",
     "timestamp": 1574939802713,
     "user": {
      "displayName": "Jason Webster",
      "photoUrl": "",
      "userId": "13254939673721675351"
     },
     "user_tz": -120
    },
    "id": "BpP2C5ZKvR_L",
    "outputId": "52de5e96-457c-4b5c-a37a-0d336a354178"
   },
   "outputs": [
    {
     "data": {
      "image/png": "[encoded data removed]",
      "text/plain": [
       "<Figure size 720x432 with 1 Axes>"
      ]
     },
     "metadata": {},
     "output_type": "display_data"
    }
   ],
   "source": [
    "poisson_lambda = 2.4\n",
    "x = np.arange(0,11)\n",
    "px = st.poisson.pmf(x, poisson_lambda)\n",
    "\n",
    "plt.rcParams[\"figure.figsize\"] = (10,6)\n",
    "plt.plot(x, px, 'k', label = 'lambda = 2.4')\n",
    "plt.legend()\n",
    "plt.show()"
   ]
  },
  {
   "cell_type": "markdown",
   "metadata": {
    "colab_type": "text",
    "id": "xBEsyvrOvR_O"
   },
   "source": [
    "### Negative binomial distribution\n",
    "\n",
    "Suppose once again that we have a binomial process, where each trial is either a success or a failure. If we let $X$ represent the number of failures that occur before we hit a specific number of successes, usually denoted $r$, and $p$ is the probability of success on each trial, then $X \\sim NB(r,p)$, i.e. $X$ follows the negative binomial distribution with parameters $r$ and $p$ and has PMF:\n",
    "\n",
    "\\begin{align}\n",
    "p(x) & = \\binom{x+r-1}{x} p^r (1-p)^{x} & & \\text{for } x = 0, 1, \\ldots, n\\\\\n",
    "     & = 0 & & \\text{otherwise}\n",
    "\\end{align}\n",
    "\n",
    "You can derive this PMF in a similar way to the approach we took for the binomial distribution. Intuitively, each possible path that takes us to $r$ successes and $x$ failures must have probability $p^r (1-p)^x$. How many such combinations are there? Well, remember first of all that by our definition, the last trial must have been a success, so in the previous $x+r-1$ trials we will have had $x$ failures. There are $\\binom{x+r-1}{x}$ ways of arranging these\n",
    "$x$ failures and $r-1$ successes.\n",
    "\n",
    "Let's plot the PMF for $p = 0.3$ and $r$ equal to either 2 or 3.\n"
   ]
  },
  {
   "cell_type": "code",
   "execution_count": 4,
   "metadata": {
    "colab": {
     "base_uri": "https://localhost:8080/",
     "height": 374
    },
    "colab_type": "code",
    "executionInfo": {
     "elapsed": 2831,
     "status": "ok",
     "timestamp": 1574939802715,
     "user": {
      "displayName": "Jason Webster",
      "photoUrl": "",
      "userId": "13254939673721675351"
     },
     "user_tz": -120
    },
    "id": "DSXoc9VKvR_O",
    "outputId": "abd080fd-e9eb-4928-bf2a-6a5cb0a4c179"
   },
   "outputs": [
    {
     "data": {
      "image/png": "[encoded data removed]",
      "text/plain": [
       "<Figure size 720x432 with 1 Axes>"
      ]
     },
     "metadata": {},
     "output_type": "display_data"
    }
   ],
   "source": [
    "p = 0.3\n",
    "x = np.arange(0,11)\n",
    "r1 = 2\n",
    "px1 = st.nbinom.pmf(x, r1, p)\n",
    "r2 = 3\n",
    "px2 = st.nbinom.pmf(x, r2, p)\n",
    "\n",
    "plt.rcParams[\"figure.figsize\"] = (10,6)\n",
    "plt.plot(x, px1, 'k', label = 'p = 0.3, r = 2')\n",
    "plt.plot(x, px2, 'r', label = 'p = 0.3, r = 3')\n",
    "plt.legend()\n",
    "plt.show()"
   ]
  },
  {
   "cell_type": "markdown",
   "metadata": {
    "colab_type": "text",
    "id": "XzKhn3y2vR_R"
   },
   "source": [
    "### Normal Distribution\n",
    "\n",
    "The normal, or Gaussian, distribution is hugely important in statistical and data science work (although it has its limitations!)- one of its primary applications is in what's known as the Central Limit Theorem, which we'll refresh our memories about a little later. So it's worth spending a little time to understand it thoroughly.\n",
    "\n",
    "A normally distributed variable is continuous, and has PDF:\n",
    "\n",
    "$$ f(x) = \\displaystyle \\frac{1}{\\sqrt{2 \\pi \\sigma^2}} e^{-\\frac{1}{2} \\left( \\frac{x-\\mu}{\\sigma} \\right) ^2} $$\n",
    "\n",
    "for $x$ taking on any value on the real number line.\n",
    "\n",
    "You'll immediately have seen (won't you?) that the normal distribution has two parameters, $\\mu$ and $\\sigma$. These in fact are the mean and standard deviation of the distribution respectively; some of you will already be familiar with these concepts but for those who aren't, don't let it bother you just yet: we'll be explaining those in a little while.\n",
    "\n",
    "An important practical application is the **standard normal distribution**, which has $\\mu =0$ and $\\sigma = 1$, and hence PDF:\n",
    "\n",
    "$$ \\phi(x) = \\displaystyle \\frac{1}{\\sqrt{2 \\pi}} e^{-\\frac{1}{2} x^2} $$\n",
    "\n",
    "The normal distribution is bell-shaped: let's write a little Python code to illustrate that using ```matplotlib```. This time, just for fun, we'll evaluate the density directly from the above equation, rather than using the built-in ```scipy``` functions. But you can easily verify that you get the same results from the latter."
   ]
  },
  {
   "cell_type": "code",
   "execution_count": 5,
   "metadata": {
    "colab": {
     "base_uri": "https://localhost:8080/",
     "height": 374
    },
    "colab_type": "code",
    "executionInfo": {
     "elapsed": 2808,
     "status": "ok",
     "timestamp": 1574939802717,
     "user": {
      "displayName": "Jason Webster",
      "photoUrl": "",
      "userId": "13254939673721675351"
     },
     "user_tz": -120
    },
    "id": "6TdDFhovvR_S",
    "outputId": "e9476fc8-126c-4231-f848-18b801b58143"
   },
   "outputs": [
    {
     "data": {
      "image/png": "[encoded data removed]",
      "text/plain": [
       "<Figure size 720x432 with 1 Axes>"
      ]
     },
     "metadata": {},
     "output_type": "display_data"
    }
   ],
   "source": [
    "x = np.arange(-5,5,0.01)     # range of values for z\n",
    "mu = 0                       # mu = 0 for standard normal\n",
    "sigma = 1                    # mu = 1 for standard normal\n",
    "\n",
    "# now calculate f(x)\n",
    "f = 1 / np.sqrt ((2 * np.pi * sigma ** 2)) * np.exp (-0.5 * ((x - mu) / sigma) ** 2)\n",
    "\n",
    "plt.rcParams[\"figure.figsize\"] = (10,6)\n",
    "plt.plot(x,f,'k')\n",
    "plt.show()"
   ]
  },
  {
   "cell_type": "markdown",
   "metadata": {
    "colab_type": "text",
    "id": "0tkwG7B5vR_U"
   },
   "source": [
    "Why don't you mess about with the parameter values?\n",
    "\n",
    "What happens if you change the value of `sigma` to 0.5? And to 2?\n",
    "\n",
    "And what about if you leave `sigma` at 1 but change `mu` to 5?\n",
    "\n",
    "Oops. Why did that happen? What would you need to do to show the bell shape we'd like to see?\n"
   ]
  },
  {
   "cell_type": "markdown",
   "metadata": {
    "colab_type": "text",
    "id": "19klSSjvvR_V"
   },
   "source": [
    "Notation-wise, if $X$ is normally distributed with mean $\\mu$ and standard deviation $\\sigma$, then we denote this as $X \\sim N(\\mu, \\sigma^2)$. Note that the second parameter is by convention shown as $\\sigma^2$ rather than $\\sigma$ - you may recognise this as the variance of the distribution, but if not, don't worry, we're getting there soon!\n",
    "\n",
    "Remember that for continuous random variables, to calculate the probability of an outcome in a particular range, we need to use the cumulative distribution function. As we've seen above, this requires integrating the PDF. Unfortunately, there are no analytical solutions to this, but numerical methods can be used (don't worry if the mathematics of numerical integration are outside your range of expertise, as this is beyond our scope at this point; if you're interested, you can get a high-level overview at https://en.wikipedia.org/wiki/Numerical_integration). This has been encoded in handy tables with which you'll no doubt be familiar if you've done any university-level statistics, and of course, Python and `scipy` provide functions for us to evaluate. Let's define a function to calculate the probability of observation following the above distribution lying between arbitrary bounds $x_1$ and $x_2$, and then use that to calculate the probability of observation between 2 and 5. We use the simple logic here that the probability we're after is the probability of observation of less than $x_2$, less the probability of an observation less than $x_1$."
   ]
  },
  {
   "cell_type": "code",
   "execution_count": 6,
   "metadata": {
    "colab": {
     "base_uri": "https://localhost:8080/",
     "height": 36
    },
    "colab_type": "code",
    "executionInfo": {
     "elapsed": 2789,
     "status": "ok",
     "timestamp": 1574939802719,
     "user": {
      "displayName": "Jason Webster",
      "photoUrl": "",
      "userId": "13254939673721675351"
     },
     "user_tz": -120
    },
    "id": "i0OsbQapvR_W",
    "outputId": "b53617a9-98ea-4c37-ee80-e7444b056612"
   },
   "outputs": [
    {
     "data": {
      "text/plain": [
       "0.022749845296607285"
      ]
     },
     "execution_count": 6,
     "metadata": {},
     "output_type": "execute_result"
    }
   ],
   "source": [
    "def normal_prob (x1, x2, mu, sigma):\n",
    "    return (st.norm.cdf (x2, mu, sigma) - st.norm.cdf (x1, mu, sigma))\n",
    "\n",
    "normal_prob(2, 5, mu, sigma)"
   ]
  },
  {
   "cell_type": "markdown",
   "metadata": {
    "colab_type": "text",
    "id": "dFo59ijLvR_Z"
   },
   "source": [
    "### Exponential distribution\n",
    "\n",
    "The exponential distribution is related to the Poisson process which underlies the Poisson distribution (a Poisson process is simply one in which events occur at the rate of $\\lambda$ per time period). Here, instead of modelling the number of events in a time period, as we did with the Poisson, we are interested in the time interval between events. Unlike the Poisson distribution, therefore, this is a continuous random variable. With $\\lambda$ defined as before, then the PDF for $X \\sim E(\\lambda)$ measuring the time between events is:\n",
    "\n",
    "\\begin{align}\n",
    "f(x) & = \\lambda e^{-\\lambda x}  & & \\text{for } x \\ge 0 \\\\\n",
    "     & = 0 & & \\text{otherwise}\n",
    "\\end{align}\n",
    "\n",
    "\n",
    "Let's go back to our 'facilitator wandering in' example, where $\\lambda = 0.3$ per hour. And then let's plot the probability density of the time interval between consecutive facilitator appearances:"
   ]
  },
  {
   "cell_type": "code",
   "execution_count": 7,
   "metadata": {
    "colab": {
     "base_uri": "https://localhost:8080/",
     "height": 374
    },
    "colab_type": "code",
    "executionInfo": {
     "elapsed": 3648,
     "status": "ok",
     "timestamp": 1574939803595,
     "user": {
      "displayName": "Jason Webster",
      "photoUrl": "",
      "userId": "13254939673721675351"
     },
     "user_tz": -120
    },
    "id": "-awn1zkSvR_Z",
    "outputId": "10dae5ef-7dce-49ff-f961-4eaf0da68c82"
   },
   "outputs": [
    {
     "data": {
      "image/png": "[encoded data removed]",
      "text/plain": [
       "<Figure size 720x432 with 1 Axes>"
      ]
     },
     "metadata": {},
     "output_type": "display_data"
    }
   ],
   "source": [
    "poisson_lambda = 0.3\n",
    "x = np.arange(0,5,0.01)\n",
    "dx = st.expon.pdf(x, scale = 1/poisson_lambda)\n",
    "\n",
    "plt.rcParams[\"figure.figsize\"] = (10,6)\n",
    "plt.plot(x, dx, 'k')\n",
    "plt.show()"
   ]
  },
  {
   "cell_type": "markdown",
   "metadata": {
    "colab_type": "text",
    "id": "FdBHQ4T6vR_c"
   },
   "source": [
    "Let's calculate the probability of a time interval of less than half an hour between consecutive lecturer appearances:"
   ]
  },
  {
   "cell_type": "code",
   "execution_count": 8,
   "metadata": {
    "colab": {
     "base_uri": "https://localhost:8080/",
     "height": 36
    },
    "colab_type": "code",
    "executionInfo": {
     "elapsed": 3626,
     "status": "ok",
     "timestamp": 1574939803596,
     "user": {
      "displayName": "Jason Webster",
      "photoUrl": "",
      "userId": "13254939673721675351"
     },
     "user_tz": -120
    },
    "id": "AaIDpBmpvR_d",
    "outputId": "7e4dc6ca-6158-4580-9e21-55c7f1fcd29c"
   },
   "outputs": [
    {
     "data": {
      "text/plain": [
       "0.1392920235749422"
      ]
     },
     "execution_count": 8,
     "metadata": {},
     "output_type": "execute_result"
    }
   ],
   "source": [
    "st.expon.cdf(0.5, scale = 1/poisson_lambda)"
   ]
  },
  {
   "cell_type": "markdown",
   "metadata": {
    "colab_type": "text",
    "id": "lR5CqN7NvR_g"
   },
   "source": [
    "### Uniform distribution\n",
    "\n",
    "As the name suggests, a uniformly distributed random variable will take on any value in a given interval with equal probability. The two key parameters are therefore the lower and upper points of the interval, usually denoted $a$ and $b$ respectively, and $X \\sim U(a,b)$ has PDF:\n",
    "\n",
    "\\begin{align}\n",
    "f(x) & = \\displaystyle \\frac{1}{b-a} & & \\text{for } a \\le x \\le b \\\\\n",
    "     & = 0 & & \\text{otherwise}\n",
    "\\end{align}\n",
    "\n",
    "This looks like the following:"
   ]
  },
  {
   "cell_type": "code",
   "execution_count": 9,
   "metadata": {
    "colab": {
     "base_uri": "https://localhost:8080/",
     "height": 393
    },
    "colab_type": "code",
    "executionInfo": {
     "elapsed": 3609,
     "status": "ok",
     "timestamp": 1574939803598,
     "user": {
      "displayName": "Jason Webster",
      "photoUrl": "",
      "userId": "13254939673721675351"
     },
     "user_tz": -120
    },
    "id": "s_H-WG6jtvdi",
    "outputId": "57c3d6f2-62a2-4a94-89f1-7e403ba6dfe8"
   },
   "outputs": [
    {
     "data": {
      "text/plain": [
       "[<matplotlib.lines.Line2D at 0x203e398bb38>]"
      ]
     },
     "execution_count": 9,
     "metadata": {},
     "output_type": "execute_result"
    }
   ],
   "source": [
    "a = 0\n",
    "b = 5\n",
    "\n",
    "x = np.linspace(a-1, b+1, 100)\n",
    "y = st.uniform.pdf(x, loc=a, scale=b-a)\n",
    "\n",
    "plt.plot(x, y, 'k')"
   ]
  },
  {
   "cell_type": "markdown",
   "metadata": {
    "colab_type": "text",
    "id": "M9eh1IC6tqX8"
   },
   "source": [
    "\n",
    "A little integration will tell you that the probability of an observation between $c$ and $d$, where $a < c < d < b$, is equal to $\\displaystyle \\frac{c - d}{b - a}$, which should strike you as intuitively correct given that the essence of a uniform distribution is that every possible observation between the lower and upper bounds is equally likely. Let's test:"
   ]
  },
  {
   "cell_type": "code",
   "execution_count": 10,
   "metadata": {
    "colab": {
     "base_uri": "https://localhost:8080/",
     "height": 36
    },
    "colab_type": "code",
    "executionInfo": {
     "elapsed": 3592,
     "status": "ok",
     "timestamp": 1574939803598,
     "user": {
      "displayName": "Jason Webster",
      "photoUrl": "",
      "userId": "13254939673721675351"
     },
     "user_tz": -120
    },
    "id": "FJJaayFSvR_h",
    "outputId": "ee21ac5d-7bed-4c80-b58b-b111282ebba0"
   },
   "outputs": [
    {
     "data": {
      "text/plain": [
       "0.19999999999999996"
      ]
     },
     "execution_count": 10,
     "metadata": {},
     "output_type": "execute_result"
    }
   ],
   "source": [
    "a = 0\n",
    "b = 5\n",
    "c = 2\n",
    "d = 3\n",
    "\n",
    "st.uniform.cdf(d, loc = a, scale =  b-a) - st.uniform.cdf(c, loc = a, scale = b-a)"
   ]
  },
  {
   "cell_type": "markdown",
   "metadata": {
    "colab_type": "text",
    "id": "yUQaPJ2MvR_j"
   },
   "source": [
    "HA! Were you expecting exactly 2?  This is an example of python's [floating point precision](https://docs.python.org/3/tutorial/floatingpoint.html) limitations."
   ]
  },
  {
   "cell_type": "markdown",
   "metadata": {
    "colab_type": "text",
    "id": "d2wYX-pxsTH-"
   },
   "source": [
    "## Conclusion\n",
    "\n",
    "The first concept was to understand the two streams of statisitcs, being _inferential_ and _descriptive_ and how they differ. We then discussed how to identify different kinds of variables and this will become important when deciding on what you want to predict (eg, predict a class \"yes\" or a \"no\" situation or an actual value such as a price). Lastly, we discussed how data would look if it were represented with curves - the distribution of the data; it dealt with different patterns and how data metrics can be explained visually.\n",
    "\n",
    "In the section below, there is a section on logistic functions which is also a common algorithm for machine learning! "
   ]
  },
  {
   "cell_type": "markdown",
   "metadata": {
    "colab_type": "text",
    "id": "jQUYPzm25GWt"
   },
   "source": [
    "## Appendix\n",
    "\n",
    "* https://www.fd.cvut.cz/department/k611/PEDAGOG/THO_A/A_soubory/statistics_firstfive.pdf\n",
    "* https://www.math.arizona.edu/~jwatkins/statbook.pdf\n",
    "* https://library2.lincoln.ac.nz/documents/Normal-Binomial-Poisson.pdf --> further reading with example questions\n",
    "* https://towardsdatascience.com/machine-learning-probability-statistics-f830f8c09326 --> Great supplementary read"
   ]
  }
 ],
 "metadata": {
  "colab": {
   "collapsed_sections": [],
   "name": "V2_Intro To Statistics - Probability & Distributions (1).ipynb",
   "provenance": []
  },
  "kernelspec": {
   "display_name": "Python 3",
   "language": "python",
   "name": "python3"
  },
  "language_info": {
   "codemirror_mode": {
    "name": "ipython",
    "version": 3
   },
   "file_extension": ".py",
   "mimetype": "text/x-python",
   "name": "python",
   "nbconvert_exporter": "python",
   "pygments_lexer": "ipython3",
   "version": "3.7.4"
  }
 },
 "nbformat": 4,
 "nbformat_minor": 1
}
