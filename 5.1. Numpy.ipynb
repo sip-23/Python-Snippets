{
 "cells": [
  {
   "cell_type": "markdown",
   "id": "999dbde3",
   "metadata": {},
   "source": [
    "# Numpy\n",
    "\n",
    "- N-dimensional arrays: \n",
    "    - NumPy provides the ndarray (n-dimensional array) object for efficient storage and manipulation of large arrays of homogeneous data (e.g., numbers).\n",
    "- Mathematical operations: \n",
    "    - NumPy provides many mathematical functions such as \n",
    "        - trigonometric, \n",
    "        - logarithmic, and \n",
    "        - linear algebra functions that can operate on entire arrays.\n",
    "- Broadcasting: \n",
    "    - NumPy allows you to perform operations on arrays of different shapes by automatically broadcasting smaller arrays to match the shape of larger arrays.\n",
    "- Interoperability: \n",
    "    - NumPy is designed to work seamlessly with other libraries, such as Pandas, and is often used as the underlying data structure for other scientific libraries.\n",
    "    \n",
    "Pandas and NumPy are often used together in data analysis tasks\n",
    "\n",
    "NumPy provides the low-level array operations."
   ]
  },
  {
   "cell_type": "code",
   "execution_count": 3,
   "id": "2a964a4e",
   "metadata": {},
   "outputs": [
    {
     "name": "stdout",
     "output_type": "stream",
     "text": [
      "1-dimensional array:\n",
      "[1 2 3 4 5]\n",
      "\n",
      "2-dimensional array:\n",
      "[[1 2 3]\n",
      " [4 5 6]]\n",
      "\n",
      "Sin values:\n",
      "[ 0.84147098  0.90929743  0.14112001 -0.7568025  -0.95892427]\n",
      "\n",
      "Log values:\n",
      "[0.         0.69314718 1.09861229 1.38629436 1.60943791]\n",
      "\n",
      "Matrix product:\n",
      "[[19 22]\n",
      " [43 50]]\n",
      "\n",
      "Broadcasted array:\n",
      "[11 22 33 14 25]\n",
      "\n",
      "NumPy array from DataFrame:\n",
      "[1 2 3 4 5]\n"
     ]
    }
   ],
   "source": [
    "import numpy as np\n",
    "\n",
    "# N-dimensional arrays\n",
    "# Create a 1-dimensional array\n",
    "array1d = np.array([1, 2, 3, 4, 5])\n",
    "print(\"1-dimensional array:\")\n",
    "print(array1d)\n",
    "\n",
    "# Create a 2-dimensional array\n",
    "array2d = np.array([[1, 2, 3], [4, 5, 6]])\n",
    "print(\"\\n2-dimensional array:\")\n",
    "print(array2d)\n",
    "\n",
    "# Mathematical operations\n",
    "# Trigonometric functions\n",
    "sin_values = np.sin(array1d)\n",
    "print(\"\\nSin values:\")\n",
    "print(sin_values)\n",
    "\n",
    "# Logarithmic functions\n",
    "log_values = np.log(array1d)\n",
    "print(\"\\nLog values:\")\n",
    "print(log_values)\n",
    "\n",
    "# Linear algebra functions\n",
    "matrix1 = np.array([[1, 2], [3, 4]])\n",
    "matrix2 = np.array([[5, 6], [7, 8]])\n",
    "matrix_product = np.dot(matrix1, matrix2)\n",
    "print(\"\\nMatrix product:\")\n",
    "print(matrix_product)\n",
    "\n",
    "# Broadcasting\n",
    "array3 = np.array([10, 20, 30, 10, 20])\n",
    "array_broadcasted = array1d + array3\n",
    "print(\"\\nBroadcasted array:\")\n",
    "print(array_broadcasted)\n",
    "\n",
    "# Interoperability\n",
    "import pandas as pd\n",
    "\n",
    "data = {'col1': [1, 2, 3, 4, 5],\n",
    "        'col2': ['A', 'B', 'C', 'D', 'E']}\n",
    "df = pd.DataFrame(data)\n",
    "\n",
    "numpy_array = df['col1'].to_numpy()\n",
    "print(\"\\nNumPy array from DataFrame:\")\n",
    "print(numpy_array)"
   ]
  },
  {
   "cell_type": "markdown",
   "id": "ff27b106",
   "metadata": {},
   "source": [
    "### Working with Numpy\n",
    "- Numpy is a python library for scientific computing\n",
    "    - To Work with multidimensional array objects and \n",
    "    - used to handle large amount of data. \n",
    "- An array which is a grid of values and is indexed by a tuple of nonnegative integers is main data structure of the Numpy library.\n",
    "- ndarray is acronym of N-Dimensional Array.\n",
    "- We will cover:\n",
    "    - Flattening the arrays, \n",
    "    - Concatenation arrays and \n",
    "    - Broadcasting arrays\n",
    "    \n",
    "##### In Numpy, you must know:"
   ]
  },
  {
   "cell_type": "code",
   "execution_count": 4,
   "id": "f6f05749",
   "metadata": {},
   "outputs": [
    {
     "name": "stdout",
     "output_type": "stream",
     "text": [
      "NumPy arrays:\n",
      "Array 1: [1 2 3 4 5]\n",
      "Array 2:\n",
      "[[1 2 3]\n",
      " [4 5 6]]\n",
      "Array 3: [1.1 2.2 3.3 4.4 5.5]\n"
     ]
    }
   ],
   "source": [
    "import numpy as np\n",
    "\n",
    "# Create NumPy arrays\n",
    "array1 = np.array([1, 2, 3, 4, 5])\n",
    "array2 = np.array([[1, 2, 3], [4, 5, 6]])\n",
    "array3 = np.array([1.1, 2.2, 3.3, 4.4, 5.5])\n",
    "\n",
    "print(\"NumPy arrays:\")\n",
    "print(\"Array 1:\", array1)\n",
    "print(\"Array 2:\")\n",
    "print(array2)\n",
    "print(\"Array 3:\", array3)"
   ]
  },
  {
   "cell_type": "code",
   "execution_count": 5,
   "id": "75254ad0",
   "metadata": {},
   "outputs": [
    {
     "name": "stdout",
     "output_type": "stream",
     "text": [
      "\n",
      "Zeros array:\n",
      "[[0. 0. 0.]\n",
      " [0. 0. 0.]]\n"
     ]
    }
   ],
   "source": [
    "# Zeros arrays\n",
    "zeros_array = np.zeros((2, 3))\n",
    "print(\"\\nZeros array:\")\n",
    "print(zeros_array)"
   ]
  },
  {
   "cell_type": "code",
   "execution_count": 6,
   "id": "e36d7dc6",
   "metadata": {},
   "outputs": [
    {
     "name": "stdout",
     "output_type": "stream",
     "text": [
      "\n",
      "Ones array:\n",
      "[[1. 1.]\n",
      " [1. 1.]\n",
      " [1. 1.]]\n"
     ]
    }
   ],
   "source": [
    "# Ones arrays\n",
    "ones_array = np.ones((3, 2))\n",
    "print(\"\\nOnes array:\")\n",
    "print(ones_array)"
   ]
  },
  {
   "cell_type": "code",
   "execution_count": 7,
   "id": "3365e3df",
   "metadata": {},
   "outputs": [
    {
     "name": "stdout",
     "output_type": "stream",
     "text": [
      "\n",
      "Full array:\n",
      "[[5 5]\n",
      " [5 5]]\n"
     ]
    }
   ],
   "source": [
    "# Full arrays\n",
    "full_array = np.full((2, 2), 5)\n",
    "print(\"\\nFull array:\")\n",
    "print(full_array)"
   ]
  },
  {
   "cell_type": "code",
   "execution_count": 8,
   "id": "ca84671e",
   "metadata": {},
   "outputs": [
    {
     "name": "stdout",
     "output_type": "stream",
     "text": [
      "\n",
      "Identity matrix:\n",
      "[[1. 0. 0.]\n",
      " [0. 1. 0.]\n",
      " [0. 0. 1.]]\n"
     ]
    }
   ],
   "source": [
    "# Identity Matrix\n",
    "identity_matrix = np.eye(3)\n",
    "print(\"\\nIdentity matrix:\")\n",
    "print(identity_matrix)"
   ]
  },
  {
   "cell_type": "code",
   "execution_count": 9,
   "id": "d19209ad",
   "metadata": {},
   "outputs": [
    {
     "name": "stdout",
     "output_type": "stream",
     "text": [
      "\n",
      "Reshaped array:\n",
      "[[1]\n",
      " [2]\n",
      " [3]\n",
      " [4]\n",
      " [5]]\n"
     ]
    }
   ],
   "source": [
    "# Reshape array\n",
    "reshaped_array = np.reshape(array1, (5, 1))\n",
    "print(\"\\nReshaped array:\")\n",
    "print(reshaped_array)"
   ]
  },
  {
   "cell_type": "code",
   "execution_count": 10,
   "id": "17ab743a",
   "metadata": {},
   "outputs": [
    {
     "name": "stdout",
     "output_type": "stream",
     "text": [
      "\n",
      "Flattened array:\n",
      "[1 2 3 4 5 6]\n"
     ]
    }
   ],
   "source": [
    "# Flatten array\n",
    "flattened_array = array2.flatten()\n",
    "print(\"\\nFlattened array:\")\n",
    "print(flattened_array)"
   ]
  },
  {
   "cell_type": "code",
   "execution_count": 11,
   "id": "674e2ea8",
   "metadata": {},
   "outputs": [
    {
     "name": "stdout",
     "output_type": "stream",
     "text": [
      "\n",
      "Concatenated array:\n",
      "[1.  2.  3.  4.  5.  1.1 2.2 3.3 4.4 5.5]\n"
     ]
    }
   ],
   "source": [
    "# Concatenation\n",
    "concatenated_array = np.concatenate((array1, array3))\n",
    "print(\"\\nConcatenated array:\")\n",
    "print(concatenated_array)"
   ]
  },
  {
   "cell_type": "code",
   "execution_count": 12,
   "id": "b89a9882",
   "metadata": {},
   "outputs": [
    {
     "name": "stdout",
     "output_type": "stream",
     "text": [
      "\n",
      "Broadcasted array:\n",
      "[11 12 13 14 15]\n"
     ]
    }
   ],
   "source": [
    "# Broadcasting\n",
    "broadcasted_array = array1 + 10\n",
    "print(\"\\nBroadcasted array:\")\n",
    "print(broadcasted_array)"
   ]
  },
  {
   "cell_type": "code",
   "execution_count": 13,
   "id": "cd3fe920",
   "metadata": {},
   "outputs": [
    {
     "name": "stdout",
     "output_type": "stream",
     "text": [
      "\n",
      "Scalar product:\n",
      "60.5\n"
     ]
    }
   ],
   "source": [
    "# Scalar product\n",
    "scalar_product = np.dot(array1, array3)\n",
    "print(\"\\nScalar product:\")\n",
    "print(scalar_product)"
   ]
  },
  {
   "cell_type": "markdown",
   "id": "7750b149",
   "metadata": {},
   "source": [
    "### Important functions in NumPy"
   ]
  },
  {
   "cell_type": "markdown",
   "id": "f55608f2",
   "metadata": {},
   "source": [
    "- np.array(): \n",
    "    - This function is used to create a new NumPy array from a Python list or another array-like object."
   ]
  },
  {
   "cell_type": "code",
   "execution_count": 14,
   "id": "feb66821",
   "metadata": {},
   "outputs": [
    {
     "name": "stdout",
     "output_type": "stream",
     "text": [
      "Array 1: [1 2 3 4 5]\n",
      "Array 2:\n",
      "[[1 2 3]\n",
      " [4 5 6]]\n"
     ]
    }
   ],
   "source": [
    "import numpy as np\n",
    "\n",
    "# np.array()\n",
    "arr1 = np.array([1, 2, 3, 4, 5])\n",
    "print(\"Array 1:\", arr1)\n",
    "\n",
    "arr2 = np.array([[1, 2, 3], [4, 5, 6]])\n",
    "print(\"Array 2:\")\n",
    "print(arr2)"
   ]
  },
  {
   "cell_type": "markdown",
   "id": "cf487976",
   "metadata": {},
   "source": [
    "- np.zeros() and np.ones(): \n",
    "    - These functions are used to create new arrays filled with zeros or ones, respectively."
   ]
  },
  {
   "cell_type": "code",
   "execution_count": null,
   "id": "d19563ce",
   "metadata": {},
   "outputs": [],
   "source": [
    "# np.zeros() and np.ones()\n",
    "zeros_arr = np.zeros((3, 4))\n",
    "print(\"Zeros array:\")\n",
    "print(zeros_arr)\n",
    "\n",
    "ones_arr = np.ones((2, 2))\n",
    "print(\"Ones array:\")\n",
    "print(ones_arr)"
   ]
  },
  {
   "cell_type": "markdown",
   "id": "e85e2be5",
   "metadata": {},
   "source": [
    "- np.shape and np.ndim: \n",
    "    - These functions are used to get the shape (number of rows and columns) and dimension (number of axes) of an array, respectively."
   ]
  },
  {
   "cell_type": "code",
   "execution_count": 15,
   "id": "058b546e",
   "metadata": {},
   "outputs": [
    {
     "name": "stdout",
     "output_type": "stream",
     "text": [
      "Shape of arr2: (2, 3)\n",
      "Dimension of arr2: 2\n"
     ]
    }
   ],
   "source": [
    "# np.shape and np.ndim\n",
    "print(\"Shape of arr2:\", np.shape(arr2))\n",
    "print(\"Dimension of arr2:\", np.ndim(arr2))"
   ]
  },
  {
   "cell_type": "markdown",
   "id": "f89f0725",
   "metadata": {},
   "source": [
    "- np.arange(): \n",
    "    - This function is used to create a new array with a range of evenly spaced values."
   ]
  },
  {
   "cell_type": "code",
   "execution_count": 16,
   "id": "f8711afb",
   "metadata": {},
   "outputs": [
    {
     "name": "stdout",
     "output_type": "stream",
     "text": [
      "Array 3 (arange):\n",
      "[1 3 5 7 9]\n"
     ]
    }
   ],
   "source": [
    "# np.arange()\n",
    "arr3 = np.arange(1, 10, 2)\n",
    "print(\"Array 3 (arange):\")\n",
    "print(arr3)"
   ]
  },
  {
   "cell_type": "markdown",
   "id": "8bbcd665",
   "metadata": {},
   "source": [
    "- np.linspace(): \n",
    "    - This function is used to create a new array with a specified number of evenly spaced values between two endpoints."
   ]
  },
  {
   "cell_type": "code",
   "execution_count": 17,
   "id": "182f2228",
   "metadata": {},
   "outputs": [
    {
     "name": "stdout",
     "output_type": "stream",
     "text": [
      "Array 4 (linspace):\n",
      "[0.   0.25 0.5  0.75 1.  ]\n"
     ]
    }
   ],
   "source": [
    "# np.linspace()\n",
    "arr4 = np.linspace(0, 1, 5)\n",
    "print(\"Array 4 (linspace):\")\n",
    "print(arr4)"
   ]
  },
  {
   "cell_type": "markdown",
   "id": "07234332",
   "metadata": {},
   "source": [
    "- np.random.rand() and np.random.randn(): \n",
    "    - These functions are used to create new arrays with random values sampled from a uniform or normal distribution, respectively."
   ]
  },
  {
   "cell_type": "code",
   "execution_count": 19,
   "id": "c52139c4",
   "metadata": {},
   "outputs": [
    {
     "name": "stdout",
     "output_type": "stream",
     "text": [
      "Random array:\n",
      "[[0.5140203  0.50309771 0.58716292]\n",
      " [0.71402906 0.45761324 0.63826086]]\n",
      "Random normal array:\n",
      "[[-0.38413664  0.46757413  1.00242686]\n",
      " [ 1.82265249 -1.70083974  0.87595736]]\n"
     ]
    }
   ],
   "source": [
    "# np.random.rand() and np.random.randn()\n",
    "rand_arr = np.random.rand(2, 3)\n",
    "print(\"Random array:\")\n",
    "print(rand_arr)\n",
    "\n",
    "randn_arr = np.random.randn(2, 3)\n",
    "print(\"Random normal array:\")\n",
    "print(randn_arr)"
   ]
  },
  {
   "cell_type": "markdown",
   "id": "eeb2507a",
   "metadata": {},
   "source": [
    "- np.min() , np.max(), np.mean(), np.sum(): \n",
    "    - These functions are used to find the minimum, maximum, mean and sum of array elements"
   ]
  },
  {
   "cell_type": "code",
   "execution_count": 20,
   "id": "58498c80",
   "metadata": {},
   "outputs": [
    {
     "name": "stdout",
     "output_type": "stream",
     "text": [
      "Minimum value in arr1: 1\n",
      "Maximum value in arr1: 5\n",
      "Mean of arr1: 3.0\n",
      "Sum of arr1: 15\n"
     ]
    }
   ],
   "source": [
    "# np.min(), np.max(), np.mean(), np.sum()\n",
    "print(\"Minimum value in arr1:\", np.min(arr1))\n",
    "print(\"Maximum value in arr1:\", np.max(arr1))\n",
    "print(\"Mean of arr1:\", np.mean(arr1))\n",
    "print(\"Sum of arr1:\", np.sum(arr1))"
   ]
  },
  {
   "cell_type": "markdown",
   "id": "1ad21254",
   "metadata": {},
   "source": [
    "- np.dot() and np.matmul(): \n",
    "    - These functions are used to perform matrix multiplication on two arrays."
   ]
  },
  {
   "cell_type": "code",
   "execution_count": 21,
   "id": "a86c65e9",
   "metadata": {},
   "outputs": [
    {
     "name": "stdout",
     "output_type": "stream",
     "text": [
      "Dot product:\n",
      "[[19 22]\n",
      " [43 50]]\n",
      "Matrix multiplication:\n",
      "[[19 22]\n",
      " [43 50]]\n"
     ]
    }
   ],
   "source": [
    "# np.dot() and np.matmul()\n",
    "arr5 = np.array([[1, 2], [3, 4]])\n",
    "arr6 = np.array([[5, 6], [7, 8]])\n",
    "dot_product = np.dot(arr5, arr6)\n",
    "matmul_product = np.matmul(arr5, arr6)\n",
    "print(\"Dot product:\")\n",
    "print(dot_product)\n",
    "print(\"Matrix multiplication:\")\n",
    "print(matmul_product)"
   ]
  },
  {
   "cell_type": "markdown",
   "id": "0667f0ba",
   "metadata": {},
   "source": [
    "- np.transpose() and np.reshape(): \n",
    "    - These functions are used to change the shape of an array, transpose flips the array along its diagonal and reshape changes the shape of an array without changing its data"
   ]
  },
  {
   "cell_type": "code",
   "execution_count": 22,
   "id": "0c5d4411",
   "metadata": {},
   "outputs": [
    {
     "name": "stdout",
     "output_type": "stream",
     "text": [
      "Transposed arr2:\n",
      "[[1 4]\n",
      " [2 5]\n",
      " [3 6]]\n",
      "Reshaped arr1:\n",
      "[[1]\n",
      " [2]\n",
      " [3]\n",
      " [4]\n",
      " [5]]\n"
     ]
    }
   ],
   "source": [
    "# np.transpose() and np.reshape()\n",
    "transposed_arr2 = np.transpose(arr2)\n",
    "reshaped_arr1 = np.reshape(arr1, (5, 1))\n",
    "print(\"Transposed arr2:\")\n",
    "print(transposed_arr2)\n",
    "print(\"Reshaped arr1:\")\n",
    "print(reshaped_arr1)"
   ]
  },
  {
   "cell_type": "markdown",
   "id": "af825059",
   "metadata": {},
   "source": [
    "- np.save() and np.load(): \n",
    "    - These functions are used to save an array to a binary file and load it again later."
   ]
  },
  {
   "cell_type": "code",
   "execution_count": 23,
   "id": "fe4593a5",
   "metadata": {},
   "outputs": [
    {
     "name": "stdout",
     "output_type": "stream",
     "text": [
      "Loaded array:\n",
      "[1 2 3 4 5]\n"
     ]
    }
   ],
   "source": [
    "# np.save() and np.load()\n",
    "np.save(\"saved_array\", arr1)\n",
    "loaded_arr = np.load(\"saved_array.npy\")\n",
    "print(\"Loaded array:\")\n",
    "print(loaded_arr)"
   ]
  },
  {
   "cell_type": "code",
   "execution_count": null,
   "id": "7e3e43a0",
   "metadata": {},
   "outputs": [],
   "source": []
  }
 ],
 "metadata": {
  "kernelspec": {
   "display_name": "Python 3",
   "language": "python",
   "name": "python3"
  },
  "language_info": {
   "codemirror_mode": {
    "name": "ipython",
    "version": 3
   },
   "file_extension": ".py",
   "mimetype": "text/x-python",
   "name": "python",
   "nbconvert_exporter": "python",
   "pygments_lexer": "ipython3",
   "version": "3.8.8"
  }
 },
 "nbformat": 4,
 "nbformat_minor": 5
}
