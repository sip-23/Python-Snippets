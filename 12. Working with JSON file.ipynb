{
 "cells": [
  {
   "cell_type": "markdown",
   "id": "b999f942",
   "metadata": {},
   "source": [
    "# Reading JSON from file"
   ]
  },
  {
   "cell_type": "markdown",
   "id": "05aadf22",
   "metadata": {},
   "source": [
    "### Loading JSON to Python dictionary"
   ]
  },
  {
   "cell_type": "code",
   "execution_count": 1,
   "id": "89c6afb8",
   "metadata": {},
   "outputs": [],
   "source": [
    "import json\n",
    "\n",
    "# use the function open to read the JSON file and \n",
    "# then the method json.load() to parse the JSON string into a Python dictionary called superHeroSquad.\n",
    "\n",
    "with open('superheroes.json') as f:  # Open the file in read mode with the Open() function and pass the file path as argument\n",
    "    superHeroSquad = json.load(f)   # Parse the json data from file using the json.load(), it reads the file and converts json data to python obj\n",
    "    \n",
    "# Note: the json library has both load() and loads() .\n",
    "# loads() is to create a Python object from a JSON string. the extra ‘s’ in loads() as “load for strings”. \n",
    "# load() is to create a Python object from a JSON file."
   ]
  },
  {
   "cell_type": "code",
   "execution_count": 2,
   "id": "a636dbbe",
   "metadata": {},
   "outputs": [
    {
     "name": "stdout",
     "output_type": "stream",
     "text": [
      "squadName\n",
      "homeTown\n",
      "formed\n",
      "secretBase\n",
      "active\n",
      "members\n"
     ]
    }
   ],
   "source": [
    "for i in superHeroSquad:\n",
    "    print(i)"
   ]
  },
  {
   "cell_type": "code",
   "execution_count": 3,
   "id": "15e1c907",
   "metadata": {},
   "outputs": [
    {
     "name": "stdout",
     "output_type": "stream",
     "text": [
      "{'squadName': 'Super Hero Squad', 'homeTown': 'Metro City', 'formed': 2016, 'secretBase': 'Super tower', 'active': True, 'members': [{'name': 'Molecule Man', 'age': 29, 'secretIdentity': 'Dan Jukes', 'powers': ['Radiation resistance', 'Turning tiny', 'Radiation blast']}, {'name': 'Madame Uppercut', 'age': 39, 'secretIdentity': 'Jane Wilson', 'powers': ['Million tonne punch', 'Damage resistance', 'Superhuman reflexes']}, {'name': 'Eternal Flame', 'age': 1000000, 'secretIdentity': 'Unknown', 'powers': ['Immortality', 'Heat Immunity', 'Inferno', 'Teleportation', 'Interdimensional travel']}]}\n"
     ]
    }
   ],
   "source": [
    "print(superHeroSquad)"
   ]
  },
  {
   "cell_type": "markdown",
   "id": "b8fb3ae8",
   "metadata": {},
   "source": [
    "### Loading JSON to Pandas Dataframe"
   ]
  },
  {
   "cell_type": "code",
   "execution_count": 4,
   "id": "ef2f5e87",
   "metadata": {},
   "outputs": [
    {
     "data": {
      "text/html": [
       "<div>\n",
       "<style scoped>\n",
       "    .dataframe tbody tr th:only-of-type {\n",
       "        vertical-align: middle;\n",
       "    }\n",
       "\n",
       "    .dataframe tbody tr th {\n",
       "        vertical-align: top;\n",
       "    }\n",
       "\n",
       "    .dataframe thead th {\n",
       "        text-align: right;\n",
       "    }\n",
       "</style>\n",
       "<table border=\"1\" class=\"dataframe\">\n",
       "  <thead>\n",
       "    <tr style=\"text-align: right;\">\n",
       "      <th></th>\n",
       "      <th>squadName</th>\n",
       "      <th>homeTown</th>\n",
       "      <th>formed</th>\n",
       "      <th>secretBase</th>\n",
       "      <th>active</th>\n",
       "      <th>members</th>\n",
       "    </tr>\n",
       "  </thead>\n",
       "  <tbody>\n",
       "    <tr>\n",
       "      <th>0</th>\n",
       "      <td>Super Hero Squad</td>\n",
       "      <td>Metro City</td>\n",
       "      <td>2016</td>\n",
       "      <td>Super tower</td>\n",
       "      <td>True</td>\n",
       "      <td>{'name': 'Molecule Man', 'age': 29, 'secretIde...</td>\n",
       "    </tr>\n",
       "    <tr>\n",
       "      <th>1</th>\n",
       "      <td>Super Hero Squad</td>\n",
       "      <td>Metro City</td>\n",
       "      <td>2016</td>\n",
       "      <td>Super tower</td>\n",
       "      <td>True</td>\n",
       "      <td>{'name': 'Madame Uppercut', 'age': 39, 'secret...</td>\n",
       "    </tr>\n",
       "    <tr>\n",
       "      <th>2</th>\n",
       "      <td>Super Hero Squad</td>\n",
       "      <td>Metro City</td>\n",
       "      <td>2016</td>\n",
       "      <td>Super tower</td>\n",
       "      <td>True</td>\n",
       "      <td>{'name': 'Eternal Flame', 'age': 1000000, 'sec...</td>\n",
       "    </tr>\n",
       "  </tbody>\n",
       "</table>\n",
       "</div>"
      ],
      "text/plain": [
       "          squadName    homeTown  formed   secretBase  active  \\\n",
       "0  Super Hero Squad  Metro City    2016  Super tower    True   \n",
       "1  Super Hero Squad  Metro City    2016  Super tower    True   \n",
       "2  Super Hero Squad  Metro City    2016  Super tower    True   \n",
       "\n",
       "                                             members  \n",
       "0  {'name': 'Molecule Man', 'age': 29, 'secretIde...  \n",
       "1  {'name': 'Madame Uppercut', 'age': 39, 'secret...  \n",
       "2  {'name': 'Eternal Flame', 'age': 1000000, 'sec...  "
      ]
     },
     "execution_count": 4,
     "metadata": {},
     "output_type": "execute_result"
    }
   ],
   "source": [
    "# Use the method read_json() if you would like to transform the JSON file to a Pandas Dataframe.\n",
    "\n",
    "import pandas as pd\n",
    "df = pd.read_json(\"superheroes.json\")\n",
    "df"
   ]
  },
  {
   "cell_type": "markdown",
   "id": "7603a8e3",
   "metadata": {},
   "source": [
    "### Loading Nested JSON to Pandas"
   ]
  },
  {
   "cell_type": "markdown",
   "id": "8973830c",
   "metadata": {},
   "source": [
    "- Nested JSON is similar to the idea of nested dictionaries in python, that is, a dictionary within a dictionary.\n",
    "- much easier for performing data manipulation and transformation."
   ]
  },
  {
   "cell_type": "markdown",
   "id": "a43c8b14",
   "metadata": {},
   "source": [
    "##### Use the apply method on the ‘members’ column like this."
   ]
  },
  {
   "cell_type": "code",
   "execution_count": 5,
   "id": "08b4ab8e",
   "metadata": {},
   "outputs": [
    {
     "data": {
      "text/html": [
       "<div>\n",
       "<style scoped>\n",
       "    .dataframe tbody tr th:only-of-type {\n",
       "        vertical-align: middle;\n",
       "    }\n",
       "\n",
       "    .dataframe tbody tr th {\n",
       "        vertical-align: top;\n",
       "    }\n",
       "\n",
       "    .dataframe thead th {\n",
       "        text-align: right;\n",
       "    }\n",
       "</style>\n",
       "<table border=\"1\" class=\"dataframe\">\n",
       "  <thead>\n",
       "    <tr style=\"text-align: right;\">\n",
       "      <th></th>\n",
       "      <th>name</th>\n",
       "      <th>age</th>\n",
       "      <th>secretIdentity</th>\n",
       "      <th>powers</th>\n",
       "    </tr>\n",
       "  </thead>\n",
       "  <tbody>\n",
       "    <tr>\n",
       "      <th>0</th>\n",
       "      <td>Molecule Man</td>\n",
       "      <td>29</td>\n",
       "      <td>Dan Jukes</td>\n",
       "      <td>[Radiation resistance, Turning tiny, Radiation...</td>\n",
       "    </tr>\n",
       "    <tr>\n",
       "      <th>1</th>\n",
       "      <td>Madame Uppercut</td>\n",
       "      <td>39</td>\n",
       "      <td>Jane Wilson</td>\n",
       "      <td>[Million tonne punch, Damage resistance, Super...</td>\n",
       "    </tr>\n",
       "    <tr>\n",
       "      <th>2</th>\n",
       "      <td>Eternal Flame</td>\n",
       "      <td>1000000</td>\n",
       "      <td>Unknown</td>\n",
       "      <td>[Immortality, Heat Immunity, Inferno, Teleport...</td>\n",
       "    </tr>\n",
       "  </tbody>\n",
       "</table>\n",
       "</div>"
      ],
      "text/plain": [
       "              name      age secretIdentity  \\\n",
       "0     Molecule Man       29      Dan Jukes   \n",
       "1  Madame Uppercut       39    Jane Wilson   \n",
       "2    Eternal Flame  1000000        Unknown   \n",
       "\n",
       "                                              powers  \n",
       "0  [Radiation resistance, Turning tiny, Radiation...  \n",
       "1  [Million tonne punch, Damage resistance, Super...  \n",
       "2  [Immortality, Heat Immunity, Inferno, Teleport...  "
      ]
     },
     "execution_count": 5,
     "metadata": {},
     "output_type": "execute_result"
    }
   ],
   "source": [
    "df[\"members\"].apply(pd.Series)"
   ]
  },
  {
   "cell_type": "markdown",
   "id": "50150555",
   "metadata": {},
   "source": [
    "- To combine the new columns with the original dataframe, we can use pd.concat"
   ]
  },
  {
   "cell_type": "code",
   "execution_count": 6,
   "id": "af2e75a0",
   "metadata": {},
   "outputs": [],
   "source": [
    "df = pd.concat([df[\"members\"].apply(pd.Series), df.drop(\"members\", axis = 1)], axis = 1)"
   ]
  },
  {
   "cell_type": "code",
   "execution_count": 7,
   "id": "455d297e",
   "metadata": {},
   "outputs": [
    {
     "data": {
      "text/html": [
       "<div>\n",
       "<style scoped>\n",
       "    .dataframe tbody tr th:only-of-type {\n",
       "        vertical-align: middle;\n",
       "    }\n",
       "\n",
       "    .dataframe tbody tr th {\n",
       "        vertical-align: top;\n",
       "    }\n",
       "\n",
       "    .dataframe thead th {\n",
       "        text-align: right;\n",
       "    }\n",
       "</style>\n",
       "<table border=\"1\" class=\"dataframe\">\n",
       "  <thead>\n",
       "    <tr style=\"text-align: right;\">\n",
       "      <th></th>\n",
       "      <th>name</th>\n",
       "      <th>age</th>\n",
       "      <th>secretIdentity</th>\n",
       "      <th>powers</th>\n",
       "      <th>squadName</th>\n",
       "      <th>homeTown</th>\n",
       "      <th>formed</th>\n",
       "      <th>secretBase</th>\n",
       "      <th>active</th>\n",
       "    </tr>\n",
       "  </thead>\n",
       "  <tbody>\n",
       "    <tr>\n",
       "      <th>0</th>\n",
       "      <td>Molecule Man</td>\n",
       "      <td>29</td>\n",
       "      <td>Dan Jukes</td>\n",
       "      <td>[Radiation resistance, Turning tiny, Radiation...</td>\n",
       "      <td>Super Hero Squad</td>\n",
       "      <td>Metro City</td>\n",
       "      <td>2016</td>\n",
       "      <td>Super tower</td>\n",
       "      <td>True</td>\n",
       "    </tr>\n",
       "    <tr>\n",
       "      <th>1</th>\n",
       "      <td>Madame Uppercut</td>\n",
       "      <td>39</td>\n",
       "      <td>Jane Wilson</td>\n",
       "      <td>[Million tonne punch, Damage resistance, Super...</td>\n",
       "      <td>Super Hero Squad</td>\n",
       "      <td>Metro City</td>\n",
       "      <td>2016</td>\n",
       "      <td>Super tower</td>\n",
       "      <td>True</td>\n",
       "    </tr>\n",
       "    <tr>\n",
       "      <th>2</th>\n",
       "      <td>Eternal Flame</td>\n",
       "      <td>1000000</td>\n",
       "      <td>Unknown</td>\n",
       "      <td>[Immortality, Heat Immunity, Inferno, Teleport...</td>\n",
       "      <td>Super Hero Squad</td>\n",
       "      <td>Metro City</td>\n",
       "      <td>2016</td>\n",
       "      <td>Super tower</td>\n",
       "      <td>True</td>\n",
       "    </tr>\n",
       "  </tbody>\n",
       "</table>\n",
       "</div>"
      ],
      "text/plain": [
       "              name      age secretIdentity  \\\n",
       "0     Molecule Man       29      Dan Jukes   \n",
       "1  Madame Uppercut       39    Jane Wilson   \n",
       "2    Eternal Flame  1000000        Unknown   \n",
       "\n",
       "                                              powers         squadName  \\\n",
       "0  [Radiation resistance, Turning tiny, Radiation...  Super Hero Squad   \n",
       "1  [Million tonne punch, Damage resistance, Super...  Super Hero Squad   \n",
       "2  [Immortality, Heat Immunity, Inferno, Teleport...  Super Hero Squad   \n",
       "\n",
       "     homeTown  formed   secretBase  active  \n",
       "0  Metro City    2016  Super tower    True  \n",
       "1  Metro City    2016  Super tower    True  \n",
       "2  Metro City    2016  Super tower    True  "
      ]
     },
     "execution_count": 7,
     "metadata": {},
     "output_type": "execute_result"
    }
   ],
   "source": [
    "df"
   ]
  },
  {
   "cell_type": "markdown",
   "id": "9a82e41a",
   "metadata": {},
   "source": [
    "##### Use built-in function json_normalize() that will allow you to flatten nested JSONs.\n",
    "\n",
    "- pass in our superHeroSquad dictionary.\n",
    "- record_path contains the column that we want parsed out.\n",
    "- meta is a list of columns we want to keep for the dataframe.\n",
    "- add in the parameter meta_prefix if you would like to add in a particular naming convention to the parsed data."
   ]
  },
  {
   "cell_type": "code",
   "execution_count": 8,
   "id": "78a7d420",
   "metadata": {},
   "outputs": [
    {
     "data": {
      "text/html": [
       "<div>\n",
       "<style scoped>\n",
       "    .dataframe tbody tr th:only-of-type {\n",
       "        vertical-align: middle;\n",
       "    }\n",
       "\n",
       "    .dataframe tbody tr th {\n",
       "        vertical-align: top;\n",
       "    }\n",
       "\n",
       "    .dataframe thead th {\n",
       "        text-align: right;\n",
       "    }\n",
       "</style>\n",
       "<table border=\"1\" class=\"dataframe\">\n",
       "  <thead>\n",
       "    <tr style=\"text-align: right;\">\n",
       "      <th></th>\n",
       "      <th>name</th>\n",
       "      <th>age</th>\n",
       "      <th>secretIdentity</th>\n",
       "      <th>powers</th>\n",
       "      <th>squadName</th>\n",
       "      <th>homeTown</th>\n",
       "      <th>formed</th>\n",
       "      <th>secretBase</th>\n",
       "      <th>active</th>\n",
       "    </tr>\n",
       "  </thead>\n",
       "  <tbody>\n",
       "    <tr>\n",
       "      <th>0</th>\n",
       "      <td>Molecule Man</td>\n",
       "      <td>29</td>\n",
       "      <td>Dan Jukes</td>\n",
       "      <td>[Radiation resistance, Turning tiny, Radiation...</td>\n",
       "      <td>Super Hero Squad</td>\n",
       "      <td>Metro City</td>\n",
       "      <td>2016</td>\n",
       "      <td>Super tower</td>\n",
       "      <td>True</td>\n",
       "    </tr>\n",
       "    <tr>\n",
       "      <th>1</th>\n",
       "      <td>Madame Uppercut</td>\n",
       "      <td>39</td>\n",
       "      <td>Jane Wilson</td>\n",
       "      <td>[Million tonne punch, Damage resistance, Super...</td>\n",
       "      <td>Super Hero Squad</td>\n",
       "      <td>Metro City</td>\n",
       "      <td>2016</td>\n",
       "      <td>Super tower</td>\n",
       "      <td>True</td>\n",
       "    </tr>\n",
       "    <tr>\n",
       "      <th>2</th>\n",
       "      <td>Eternal Flame</td>\n",
       "      <td>1000000</td>\n",
       "      <td>Unknown</td>\n",
       "      <td>[Immortality, Heat Immunity, Inferno, Teleport...</td>\n",
       "      <td>Super Hero Squad</td>\n",
       "      <td>Metro City</td>\n",
       "      <td>2016</td>\n",
       "      <td>Super tower</td>\n",
       "      <td>True</td>\n",
       "    </tr>\n",
       "  </tbody>\n",
       "</table>\n",
       "</div>"
      ],
      "text/plain": [
       "              name      age secretIdentity  \\\n",
       "0     Molecule Man       29      Dan Jukes   \n",
       "1  Madame Uppercut       39    Jane Wilson   \n",
       "2    Eternal Flame  1000000        Unknown   \n",
       "\n",
       "                                              powers         squadName  \\\n",
       "0  [Radiation resistance, Turning tiny, Radiation...  Super Hero Squad   \n",
       "1  [Million tonne punch, Damage resistance, Super...  Super Hero Squad   \n",
       "2  [Immortality, Heat Immunity, Inferno, Teleport...  Super Hero Squad   \n",
       "\n",
       "     homeTown formed   secretBase active  \n",
       "0  Metro City   2016  Super tower   True  \n",
       "1  Metro City   2016  Super tower   True  \n",
       "2  Metro City   2016  Super tower   True  "
      ]
     },
     "execution_count": 8,
     "metadata": {},
     "output_type": "execute_result"
    }
   ],
   "source": [
    "pd.json_normalize(superHeroSquad, record_path = [\"members\"], meta = [\"squadName\", \"homeTown\", \"formed\", \"secretBase\", \"active\"])"
   ]
  },
  {
   "cell_type": "code",
   "execution_count": 9,
   "id": "9153f461",
   "metadata": {},
   "outputs": [
    {
     "data": {
      "text/html": [
       "<div>\n",
       "<style scoped>\n",
       "    .dataframe tbody tr th:only-of-type {\n",
       "        vertical-align: middle;\n",
       "    }\n",
       "\n",
       "    .dataframe tbody tr th {\n",
       "        vertical-align: top;\n",
       "    }\n",
       "\n",
       "    .dataframe thead th {\n",
       "        text-align: right;\n",
       "    }\n",
       "</style>\n",
       "<table border=\"1\" class=\"dataframe\">\n",
       "  <thead>\n",
       "    <tr style=\"text-align: right;\">\n",
       "      <th></th>\n",
       "      <th>name</th>\n",
       "      <th>age</th>\n",
       "      <th>secretIdentity</th>\n",
       "      <th>powers</th>\n",
       "      <th>members_squadName</th>\n",
       "      <th>members_homeTown</th>\n",
       "      <th>members_formed</th>\n",
       "      <th>members_secretBase</th>\n",
       "      <th>members_active</th>\n",
       "    </tr>\n",
       "  </thead>\n",
       "  <tbody>\n",
       "    <tr>\n",
       "      <th>0</th>\n",
       "      <td>Molecule Man</td>\n",
       "      <td>29</td>\n",
       "      <td>Dan Jukes</td>\n",
       "      <td>[Radiation resistance, Turning tiny, Radiation...</td>\n",
       "      <td>Super Hero Squad</td>\n",
       "      <td>Metro City</td>\n",
       "      <td>2016</td>\n",
       "      <td>Super tower</td>\n",
       "      <td>True</td>\n",
       "    </tr>\n",
       "    <tr>\n",
       "      <th>1</th>\n",
       "      <td>Madame Uppercut</td>\n",
       "      <td>39</td>\n",
       "      <td>Jane Wilson</td>\n",
       "      <td>[Million tonne punch, Damage resistance, Super...</td>\n",
       "      <td>Super Hero Squad</td>\n",
       "      <td>Metro City</td>\n",
       "      <td>2016</td>\n",
       "      <td>Super tower</td>\n",
       "      <td>True</td>\n",
       "    </tr>\n",
       "    <tr>\n",
       "      <th>2</th>\n",
       "      <td>Eternal Flame</td>\n",
       "      <td>1000000</td>\n",
       "      <td>Unknown</td>\n",
       "      <td>[Immortality, Heat Immunity, Inferno, Teleport...</td>\n",
       "      <td>Super Hero Squad</td>\n",
       "      <td>Metro City</td>\n",
       "      <td>2016</td>\n",
       "      <td>Super tower</td>\n",
       "      <td>True</td>\n",
       "    </tr>\n",
       "  </tbody>\n",
       "</table>\n",
       "</div>"
      ],
      "text/plain": [
       "              name      age secretIdentity  \\\n",
       "0     Molecule Man       29      Dan Jukes   \n",
       "1  Madame Uppercut       39    Jane Wilson   \n",
       "2    Eternal Flame  1000000        Unknown   \n",
       "\n",
       "                                              powers members_squadName  \\\n",
       "0  [Radiation resistance, Turning tiny, Radiation...  Super Hero Squad   \n",
       "1  [Million tonne punch, Damage resistance, Super...  Super Hero Squad   \n",
       "2  [Immortality, Heat Immunity, Inferno, Teleport...  Super Hero Squad   \n",
       "\n",
       "  members_homeTown members_formed members_secretBase members_active  \n",
       "0       Metro City           2016        Super tower           True  \n",
       "1       Metro City           2016        Super tower           True  \n",
       "2       Metro City           2016        Super tower           True  "
      ]
     },
     "execution_count": 9,
     "metadata": {},
     "output_type": "execute_result"
    }
   ],
   "source": [
    "pd.json_normalize(superHeroSquad, record_path = ['members'], meta = ['squadName', 'homeTown', 'formed', 'secretBase', 'active'], meta_prefix = 'members_')"
   ]
  },
  {
   "cell_type": "markdown",
   "id": "cb964d3a",
   "metadata": {},
   "source": [
    "##### Make sure its the correct type"
   ]
  },
  {
   "cell_type": "code",
   "execution_count": 10,
   "id": "7422de27",
   "metadata": {},
   "outputs": [
    {
     "data": {
      "text/plain": [
       "dict"
      ]
     },
     "execution_count": 10,
     "metadata": {},
     "output_type": "execute_result"
    }
   ],
   "source": [
    "type(superHeroSquad)"
   ]
  },
  {
   "cell_type": "markdown",
   "id": "a7b143e8",
   "metadata": {},
   "source": [
    "##### Get the keys "
   ]
  },
  {
   "cell_type": "code",
   "execution_count": 11,
   "id": "dad0142a",
   "metadata": {},
   "outputs": [
    {
     "data": {
      "text/plain": [
       "dict_keys(['squadName', 'homeTown', 'formed', 'secretBase', 'active', 'members'])"
      ]
     },
     "execution_count": 11,
     "metadata": {},
     "output_type": "execute_result"
    }
   ],
   "source": [
    "superHeroSquad.keys()"
   ]
  },
  {
   "cell_type": "markdown",
   "id": "c94e75a2",
   "metadata": {},
   "source": [
    "# Parsing json from a string"
   ]
  },
  {
   "cell_type": "code",
   "execution_count": 12,
   "id": "f87a6952",
   "metadata": {},
   "outputs": [],
   "source": [
    "json_str = '{\"name\": \"John Doe\", \"age\": 40}'"
   ]
  },
  {
   "cell_type": "code",
   "execution_count": 13,
   "id": "5b0046b4",
   "metadata": {},
   "outputs": [
    {
     "data": {
      "text/plain": [
       "{'name': 'John Doe', 'age': 40}"
      ]
     },
     "execution_count": 13,
     "metadata": {},
     "output_type": "execute_result"
    }
   ],
   "source": [
    "data = json.loads(json_str)\n",
    "data"
   ]
  },
  {
   "cell_type": "markdown",
   "id": "edb6cdb2",
   "metadata": {},
   "source": [
    "# Writing JSON Data to a file\n",
    "- Parse the json data by creating a python object that you want to write.\n",
    "- Object can be a dictionary or list"
   ]
  },
  {
   "cell_type": "code",
   "execution_count": 14,
   "id": "5ae07b66",
   "metadata": {},
   "outputs": [],
   "source": [
    "data = {\n",
    "    \"name\": \"Siphamandla\",\n",
    "    \"age\": \"28\",\n",
    "    \"isStudent\": False,\n",
    "    \"hobbies\": ['reading', 'Golf', 'coding']\n",
    "}"
   ]
  },
  {
   "cell_type": "code",
   "execution_count": 15,
   "id": "b1318f2c",
   "metadata": {},
   "outputs": [],
   "source": [
    "with open('demographics.json', 'w') as f:  # Open the file in write mode with the Open() function and pass the file path as argument\n",
    "    json.dump(data, f)   # Parse the json data to file using the json.dump(), it writes the json data to the file"
   ]
  },
  {
   "cell_type": "markdown",
   "id": "d1b22744",
   "metadata": {},
   "source": [
    "### Pretty-Printing\n",
    "- Output file shows up as a single string\n",
    "- use the indent parameter in your json.dump method."
   ]
  },
  {
   "cell_type": "code",
   "execution_count": null,
   "id": "d7c5f40c",
   "metadata": {},
   "outputs": [],
   "source": [
    "with open('superheroes.json', 'w') as file:\n",
    "    json.dump(superHeroSquad, file, indent = 4)"
   ]
  },
  {
   "cell_type": "markdown",
   "id": "9385d4bd",
   "metadata": {},
   "source": [
    "### Sorting\n",
    "- pass in a sort_key parameter, set to True, in order to sort your keys. \n",
    "- Notice that all keys including the nested ones are all sorted."
   ]
  },
  {
   "cell_type": "code",
   "execution_count": null,
   "id": "362736b8",
   "metadata": {},
   "outputs": [],
   "source": [
    "with open('superheroes.json', 'w') as file:\n",
    "    json.dump(superHeroSquad, file, indent = 4, sort_keys = True)"
   ]
  },
  {
   "cell_type": "markdown",
   "id": "e07493f8",
   "metadata": {},
   "source": [
    "# Generate JSON from a Python Object\n",
    "- prepare python object by creating obj to be converted to JSON\n",
    "- This function will return a JSON-formatted string representation of the object "
   ]
  },
  {
   "cell_type": "code",
   "execution_count": 16,
   "id": "6c4db66b",
   "metadata": {},
   "outputs": [
    {
     "name": "stdout",
     "output_type": "stream",
     "text": [
      "{\"name\": \"Siphamandla\", \"age\": \"28\", \"isStudent\": false, \"hobbies\": [\"reading\", \"Golf\", \"coding\"]}\n"
     ]
    }
   ],
   "source": [
    "json_str = json.dumps(data)\n",
    "print(json_str)"
   ]
  },
  {
   "cell_type": "markdown",
   "id": "642354c4",
   "metadata": {},
   "source": [
    "# Generating JSON file from Pandas DF\n",
    "- if you are working with the Pandas Dataframe and would like to export to JSON, you can use the to_json() method."
   ]
  },
  {
   "cell_type": "code",
   "execution_count": 17,
   "id": "24ea0d7b",
   "metadata": {},
   "outputs": [
    {
     "data": {
      "text/html": [
       "<div>\n",
       "<style scoped>\n",
       "    .dataframe tbody tr th:only-of-type {\n",
       "        vertical-align: middle;\n",
       "    }\n",
       "\n",
       "    .dataframe tbody tr th {\n",
       "        vertical-align: top;\n",
       "    }\n",
       "\n",
       "    .dataframe thead th {\n",
       "        text-align: right;\n",
       "    }\n",
       "</style>\n",
       "<table border=\"1\" class=\"dataframe\">\n",
       "  <thead>\n",
       "    <tr style=\"text-align: right;\">\n",
       "      <th></th>\n",
       "      <th>name</th>\n",
       "      <th>age</th>\n",
       "      <th>secretIdentity</th>\n",
       "      <th>powers</th>\n",
       "      <th>squadName</th>\n",
       "      <th>homeTown</th>\n",
       "      <th>formed</th>\n",
       "      <th>secretBase</th>\n",
       "      <th>active</th>\n",
       "    </tr>\n",
       "  </thead>\n",
       "  <tbody>\n",
       "    <tr>\n",
       "      <th>0</th>\n",
       "      <td>Molecule Man</td>\n",
       "      <td>29</td>\n",
       "      <td>Dan Jukes</td>\n",
       "      <td>[Radiation resistance, Turning tiny, Radiation...</td>\n",
       "      <td>Super Hero Squad</td>\n",
       "      <td>Metro City</td>\n",
       "      <td>2016</td>\n",
       "      <td>Super tower</td>\n",
       "      <td>True</td>\n",
       "    </tr>\n",
       "    <tr>\n",
       "      <th>1</th>\n",
       "      <td>Madame Uppercut</td>\n",
       "      <td>39</td>\n",
       "      <td>Jane Wilson</td>\n",
       "      <td>[Million tonne punch, Damage resistance, Super...</td>\n",
       "      <td>Super Hero Squad</td>\n",
       "      <td>Metro City</td>\n",
       "      <td>2016</td>\n",
       "      <td>Super tower</td>\n",
       "      <td>True</td>\n",
       "    </tr>\n",
       "    <tr>\n",
       "      <th>2</th>\n",
       "      <td>Eternal Flame</td>\n",
       "      <td>1000000</td>\n",
       "      <td>Unknown</td>\n",
       "      <td>[Immortality, Heat Immunity, Inferno, Teleport...</td>\n",
       "      <td>Super Hero Squad</td>\n",
       "      <td>Metro City</td>\n",
       "      <td>2016</td>\n",
       "      <td>Super tower</td>\n",
       "      <td>True</td>\n",
       "    </tr>\n",
       "  </tbody>\n",
       "</table>\n",
       "</div>"
      ],
      "text/plain": [
       "              name      age secretIdentity  \\\n",
       "0     Molecule Man       29      Dan Jukes   \n",
       "1  Madame Uppercut       39    Jane Wilson   \n",
       "2    Eternal Flame  1000000        Unknown   \n",
       "\n",
       "                                              powers         squadName  \\\n",
       "0  [Radiation resistance, Turning tiny, Radiation...  Super Hero Squad   \n",
       "1  [Million tonne punch, Damage resistance, Super...  Super Hero Squad   \n",
       "2  [Immortality, Heat Immunity, Inferno, Teleport...  Super Hero Squad   \n",
       "\n",
       "     homeTown  formed   secretBase  active  \n",
       "0  Metro City    2016  Super tower    True  \n",
       "1  Metro City    2016  Super tower    True  \n",
       "2  Metro City    2016  Super tower    True  "
      ]
     },
     "execution_count": 17,
     "metadata": {},
     "output_type": "execute_result"
    }
   ],
   "source": [
    "df"
   ]
  },
  {
   "cell_type": "code",
   "execution_count": 18,
   "id": "e96eda95",
   "metadata": {},
   "outputs": [
    {
     "name": "stderr",
     "output_type": "stream",
     "text": [
      "<ipython-input-18-09a8067a97c6>:1: SettingWithCopyWarning: \n",
      "A value is trying to be set on a copy of a slice from a DataFrame\n",
      "\n",
      "See the caveats in the documentation: https://pandas.pydata.org/pandas-docs/stable/user_guide/indexing.html#returning-a-view-versus-a-copy\n",
      "  df.secretIdentity[2] = \"Will Smith\"\n"
     ]
    },
    {
     "data": {
      "text/html": [
       "<div>\n",
       "<style scoped>\n",
       "    .dataframe tbody tr th:only-of-type {\n",
       "        vertical-align: middle;\n",
       "    }\n",
       "\n",
       "    .dataframe tbody tr th {\n",
       "        vertical-align: top;\n",
       "    }\n",
       "\n",
       "    .dataframe thead th {\n",
       "        text-align: right;\n",
       "    }\n",
       "</style>\n",
       "<table border=\"1\" class=\"dataframe\">\n",
       "  <thead>\n",
       "    <tr style=\"text-align: right;\">\n",
       "      <th></th>\n",
       "      <th>name</th>\n",
       "      <th>age</th>\n",
       "      <th>secretIdentity</th>\n",
       "      <th>powers</th>\n",
       "      <th>squadName</th>\n",
       "      <th>homeTown</th>\n",
       "      <th>formed</th>\n",
       "      <th>secretBase</th>\n",
       "      <th>active</th>\n",
       "    </tr>\n",
       "  </thead>\n",
       "  <tbody>\n",
       "    <tr>\n",
       "      <th>0</th>\n",
       "      <td>Molecule Man</td>\n",
       "      <td>29</td>\n",
       "      <td>Dan Jukes</td>\n",
       "      <td>[Radiation resistance, Turning tiny, Radiation...</td>\n",
       "      <td>Super Hero Squad</td>\n",
       "      <td>Metro City</td>\n",
       "      <td>2016</td>\n",
       "      <td>Super tower</td>\n",
       "      <td>True</td>\n",
       "    </tr>\n",
       "    <tr>\n",
       "      <th>1</th>\n",
       "      <td>Madame Uppercut</td>\n",
       "      <td>39</td>\n",
       "      <td>Jane Wilson</td>\n",
       "      <td>[Million tonne punch, Damage resistance, Super...</td>\n",
       "      <td>Super Hero Squad</td>\n",
       "      <td>Metro City</td>\n",
       "      <td>2016</td>\n",
       "      <td>Super tower</td>\n",
       "      <td>True</td>\n",
       "    </tr>\n",
       "    <tr>\n",
       "      <th>2</th>\n",
       "      <td>Eternal Flame</td>\n",
       "      <td>1000000</td>\n",
       "      <td>Will Smith</td>\n",
       "      <td>[Immortality, Heat Immunity, Inferno, Teleport...</td>\n",
       "      <td>Super Hero Squad</td>\n",
       "      <td>Metro City</td>\n",
       "      <td>2016</td>\n",
       "      <td>Super tower</td>\n",
       "      <td>True</td>\n",
       "    </tr>\n",
       "  </tbody>\n",
       "</table>\n",
       "</div>"
      ],
      "text/plain": [
       "              name      age secretIdentity  \\\n",
       "0     Molecule Man       29      Dan Jukes   \n",
       "1  Madame Uppercut       39    Jane Wilson   \n",
       "2    Eternal Flame  1000000     Will Smith   \n",
       "\n",
       "                                              powers         squadName  \\\n",
       "0  [Radiation resistance, Turning tiny, Radiation...  Super Hero Squad   \n",
       "1  [Million tonne punch, Damage resistance, Super...  Super Hero Squad   \n",
       "2  [Immortality, Heat Immunity, Inferno, Teleport...  Super Hero Squad   \n",
       "\n",
       "     homeTown  formed   secretBase  active  \n",
       "0  Metro City    2016  Super tower    True  \n",
       "1  Metro City    2016  Super tower    True  \n",
       "2  Metro City    2016  Super tower    True  "
      ]
     },
     "execution_count": 18,
     "metadata": {},
     "output_type": "execute_result"
    }
   ],
   "source": [
    "df.secretIdentity[2] = \"Will Smith\"\n",
    "df"
   ]
  },
  {
   "cell_type": "code",
   "execution_count": 19,
   "id": "0de4bf6c",
   "metadata": {},
   "outputs": [],
   "source": [
    "df.to_json('updated superhero.json')"
   ]
  },
  {
   "cell_type": "markdown",
   "id": "87074388",
   "metadata": {},
   "source": [
    "# Manipulating JSON Data\n",
    "\n",
    "### Accessing JSON Data/Array\n",
    "- use brackets ([]) to access the keys and lists/Array\n",
    "- Use dot notation (.)\n",
    "- use data.get()"
   ]
  },
  {
   "cell_type": "code",
   "execution_count": 20,
   "id": "927e3483",
   "metadata": {},
   "outputs": [
    {
     "data": {
      "text/plain": [
       "'Siphamandla'"
      ]
     },
     "execution_count": 20,
     "metadata": {},
     "output_type": "execute_result"
    }
   ],
   "source": [
    "data[\"name\"]"
   ]
  },
  {
   "cell_type": "code",
   "execution_count": 21,
   "id": "319afa65",
   "metadata": {},
   "outputs": [
    {
     "data": {
      "text/plain": [
       "'Golf'"
      ]
     },
     "execution_count": 21,
     "metadata": {},
     "output_type": "execute_result"
    }
   ],
   "source": [
    "data[\"hobbies\"][1]"
   ]
  },
  {
   "cell_type": "markdown",
   "id": "44a18210",
   "metadata": {},
   "source": [
    "### Modifying JSON Data\n",
    "- directly assign new values to the desired keys"
   ]
  },
  {
   "cell_type": "code",
   "execution_count": 22,
   "id": "9854f01c",
   "metadata": {},
   "outputs": [],
   "source": [
    "data['hobbies'].append(\"swimming\")"
   ]
  },
  {
   "cell_type": "code",
   "execution_count": 23,
   "id": "7f6bd5e5",
   "metadata": {},
   "outputs": [
    {
     "data": {
      "text/plain": [
       "{'name': 'Siphamandla',\n",
       " 'age': '28',\n",
       " 'isStudent': False,\n",
       " 'hobbies': ['reading', 'Golf', 'coding', 'swimming']}"
      ]
     },
     "execution_count": 23,
     "metadata": {},
     "output_type": "execute_result"
    }
   ],
   "source": [
    "data"
   ]
  },
  {
   "cell_type": "markdown",
   "id": "b8f7a9c4",
   "metadata": {},
   "source": [
    "### Adding JSON Data\n",
    "- use dictionary-like behaviour"
   ]
  },
  {
   "cell_type": "code",
   "execution_count": 24,
   "id": "5e4278a7",
   "metadata": {},
   "outputs": [],
   "source": [
    "data['isMarried'] = False\n",
    "data['address'] = '40 Warren street'"
   ]
  },
  {
   "cell_type": "code",
   "execution_count": 25,
   "id": "b024b88b",
   "metadata": {},
   "outputs": [
    {
     "data": {
      "text/plain": [
       "{'name': 'Siphamandla',\n",
       " 'age': '28',\n",
       " 'isStudent': False,\n",
       " 'hobbies': ['reading', 'Golf', 'coding', 'swimming'],\n",
       " 'isMarried': False,\n",
       " 'address': '40 Warren street'}"
      ]
     },
     "execution_count": 25,
     "metadata": {},
     "output_type": "execute_result"
    }
   ],
   "source": [
    "data"
   ]
  },
  {
   "cell_type": "markdown",
   "id": "0a7c4e5c",
   "metadata": {},
   "source": [
    "### Removing JSON Data"
   ]
  },
  {
   "cell_type": "code",
   "execution_count": 26,
   "id": "d637f6b6",
   "metadata": {},
   "outputs": [],
   "source": [
    "del data['isMarried']"
   ]
  },
  {
   "cell_type": "code",
   "execution_count": 27,
   "id": "5c2314a0",
   "metadata": {},
   "outputs": [
    {
     "data": {
      "text/plain": [
       "{'name': 'Siphamandla',\n",
       " 'age': '28',\n",
       " 'isStudent': False,\n",
       " 'hobbies': ['reading', 'Golf', 'coding', 'swimming'],\n",
       " 'address': '40 Warren street'}"
      ]
     },
     "execution_count": 27,
     "metadata": {},
     "output_type": "execute_result"
    }
   ],
   "source": [
    "data"
   ]
  },
  {
   "cell_type": "code",
   "execution_count": null,
   "id": "5196ce4a",
   "metadata": {},
   "outputs": [],
   "source": []
  },
  {
   "cell_type": "markdown",
   "id": "e33b729d",
   "metadata": {},
   "source": [
    "# Cleaning Json/ Dictionary"
   ]
  },
  {
   "cell_type": "code",
   "execution_count": null,
   "id": "c539669c",
   "metadata": {},
   "outputs": [],
   "source": [
    "### Remove HTML Tags ##########################################################################################################\n",
    "def cleanhtml(raw_html):  \n",
    "    cleanr = re.compile('<.*?>')  \n",
    "    cleantext = re.sub(cleanr, '', raw_html)  \n",
    "    return cleantext"
   ]
  },
  {
   "cell_type": "code",
   "execution_count": null,
   "id": "c64c6968",
   "metadata": {},
   "outputs": [],
   "source": [
    "### Clean Json Data by removing unwanted text #################################################################################\n",
    "def CleanData(data):\n",
    "    jsondata = json.dumps(data)        \n",
    "    # Cleaning Data ------------------------------------------------------------------------------------------------------------------    \n",
    "    #replace all occurrences of the required string    \n",
    "    #remove next line    \n",
    "    \"\\n\".join(jsondata.splitlines())    \n",
    "    \"\\r\\n\".join(jsondata.splitlines())    \n",
    "    # Remove the following text.    \n",
    "    scrubdatarm = jsondata.replace(r'\\r\\n', '').replace(r'\\r', '').replace(r'\\n', '').replace(r'\\n\\n', '').replace(r\"\\t\",\" \") \\\n",
    "                .replace(\"&nbsp;\", ' ').replace(\"&quot\", ' ').replace(\"&ldquo\", ' ').replace(\";\", ' ').replace(\"&rsquo \", \"'\") \\\n",
    "                .replace(\"  \", \" \").replace(\"&rdquo\",\" \").replace(\"\\u00a0\",\" \").replace(\"&gt\",\" \").replace(\"&bull\",\" \").replace(\"&amp\",\" \") \\\n",
    "                .replace(\"&ndash\",\" \").replace(\"&#39\",\" \")\n",
    "                \n",
    "    re.sub(' +', ' ', jsondata)        \n",
    "    # Remove html tags    \n",
    "    scrubdatahtml = cleanhtml(scrubdatarm)    \n",
    "    # Load JSON into Dataframe.    \n",
    "    try:        \n",
    "        cleandata = json.loads(scrubdatahtml)    \n",
    "    except:        \n",
    "        cleandata = json.loads(jsondata)\n",
    "        \n",
    "    return cleandata"
   ]
  }
 ],
 "metadata": {
  "kernelspec": {
   "display_name": "Python 3",
   "language": "python",
   "name": "python3"
  },
  "language_info": {
   "codemirror_mode": {
    "name": "ipython",
    "version": 3
   },
   "file_extension": ".py",
   "mimetype": "text/x-python",
   "name": "python",
   "nbconvert_exporter": "python",
   "pygments_lexer": "ipython3",
   "version": "3.8.8"
  }
 },
 "nbformat": 4,
 "nbformat_minor": 5
}
